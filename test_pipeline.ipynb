{
 "cells": [
  {
   "cell_type": "code",
   "execution_count": 1,
   "id": "dd82b030",
   "metadata": {},
   "outputs": [],
   "source": [
    "import os\n",
    "os.environ['TF_CPP_MIN_LOG_LEVEL'] = '3' \n",
    "import pandas as pd\n",
    "import networkx as nx\n",
    "import tensorflow as tf\n",
    "import numpy as np\n",
    "from utils import predict"
   ]
  },
  {
   "cell_type": "code",
   "execution_count": 2,
   "id": "22b4252c",
   "metadata": {},
   "outputs": [],
   "source": [
    "species_features_dummy = pd.read_csv(\"./data/species_features.csv.gz\", index_col=0)\n",
    "molecule_features_dummy = pd.read_csv(\"./data/molecule_features.csv.gz\", index_col=0).astype(\"int8\")\n",
    "df_agg = pd.read_csv(\"./data/lotus_agg_test.csv.gz\", index_col=0)"
   ]
  },
  {
   "cell_type": "code",
   "execution_count": 3,
   "id": "2cf17209-3a1c-4859-878d-ff899b357228",
   "metadata": {},
   "outputs": [],
   "source": [
    "rdkit = pd.read_csv(\"./data/mol_dummy_rdkit.csv.gz\", index_col=0).astype('int8')\n",
    "molecule_features_dummy = molecule_features_dummy.merge(rdkit,\n",
    "                                                        left_index=True,\n",
    "                                                        right_index=True)"
   ]
  },
  {
   "cell_type": "code",
   "execution_count": 4,
   "id": "11cae12e",
   "metadata": {},
   "outputs": [],
   "source": [
    "g_train = nx.read_graphml(\"./graph/train_graph.gml\")\n",
    "g = nx.read_graphml(\"./graph/test_graph.gml\")\n",
    "g  = nx.create_empty_copy(g)\n",
    "g_merged = nx.compose(g_train, g)"
   ]
  },
  {
   "cell_type": "code",
   "execution_count": 5,
   "id": "8e5d4874",
   "metadata": {},
   "outputs": [],
   "source": [
    "df_agg_train = pd.read_csv(\"./data/lotus_agg_train.csv.gz\", index_col=0)"
   ]
  },
  {
   "cell_type": "code",
   "execution_count": 6,
   "id": "f44d4b96",
   "metadata": {},
   "outputs": [],
   "source": [
    "species_feat = species_features_dummy[species_features_dummy.index.isin(df_agg.organism_name)]\n",
    "molecule_feat = molecule_features_dummy[molecule_features_dummy.index.isin(df_agg.structure_smiles_2D)]"
   ]
  },
  {
   "cell_type": "code",
   "execution_count": 7,
   "id": "388ae58d",
   "metadata": {},
   "outputs": [],
   "source": [
    "species_unique_to_test_set = df_agg[~df_agg.organism_name.isin(df_agg_train.organism_name)]\n",
    "molecules_unique_to_test_set = df_agg[~df_agg.structure_smiles_2D.isin(df_agg_train.structure_smiles_2D)]"
   ]
  },
  {
   "cell_type": "code",
   "execution_count": 8,
   "id": "b783b50e",
   "metadata": {},
   "outputs": [],
   "source": [
    "model_m_to_s = tf.keras.models.load_model(\"./model/gbif_batch_128_layer_1024_m_to_s\", compile=True)\n",
    "model_s_to_m = tf.keras.models.load_model(\"./model/gbif_batch_128_layer_1024_s_to_m\", compile=True)"
   ]
  },
  {
   "cell_type": "code",
   "execution_count": 9,
   "id": "6b9dc475",
   "metadata": {},
   "outputs": [],
   "source": [
    "data = pd.DataFrame(df_agg[['structure_smiles_2D', 'organism_name']].to_numpy(),\n",
    "                    columns=['molecule', 'species'])"
   ]
  },
  {
   "cell_type": "code",
   "execution_count": 10,
   "id": "85e69f29",
   "metadata": {
    "scrolled": true
   },
   "outputs": [],
   "source": [
    "#out = predict(g_train, model_m_to_s, model_s_to_m, data, molecule_features_dummy, species_features_dummy)"
   ]
  },
  {
   "cell_type": "code",
   "execution_count": 11,
   "id": "c2aff448",
   "metadata": {},
   "outputs": [
    {
     "ename": "NameError",
     "evalue": "name 'out' is not defined",
     "output_type": "error",
     "traceback": [
      "\u001b[0;31m---------------------------------------------------------------------------\u001b[0m",
      "\u001b[0;31mNameError\u001b[0m                                 Traceback (most recent call last)",
      "Cell \u001b[0;32mIn[11], line 2\u001b[0m\n\u001b[1;32m      1\u001b[0m \u001b[38;5;28;01mimport\u001b[39;00m \u001b[38;5;21;01mmatplotlib\u001b[39;00m\u001b[38;5;21;01m.\u001b[39;00m\u001b[38;5;21;01mpyplot\u001b[39;00m \u001b[38;5;28;01mas\u001b[39;00m \u001b[38;5;21;01mplt\u001b[39;00m\n\u001b[0;32m----> 2\u001b[0m plt\u001b[38;5;241m.\u001b[39mhist(\u001b[43mout\u001b[49m\u001b[38;5;241m.\u001b[39mprob)\n",
      "\u001b[0;31mNameError\u001b[0m: name 'out' is not defined"
     ]
    }
   ],
   "source": [
    "import matplotlib.pyplot as plt\n",
    "plt.hist(out.prob)"
   ]
  },
  {
   "cell_type": "code",
   "execution_count": null,
   "id": "219da5be",
   "metadata": {},
   "outputs": [],
   "source": [
    "sum(out.prob>0.5)/len(out)"
   ]
  },
  {
   "cell_type": "code",
   "execution_count": null,
   "id": "f6e600ac",
   "metadata": {},
   "outputs": [],
   "source": [
    "out[out.model!='both_known']"
   ]
  },
  {
   "cell_type": "code",
   "execution_count": null,
   "id": "165ba24d-4d19-4b3f-bfb4-d0bd8f4d8f31",
   "metadata": {},
   "outputs": [],
   "source": [
    "data_2 = pd.DataFrame(\n",
    "    molecules_unique_to_test_set[['organism_name', 'structure_smiles_2D']].values,\n",
    "    columns=['species', 'molecule'])"
   ]
  },
  {
   "cell_type": "code",
   "execution_count": null,
   "id": "0e44eb3e-d121-49da-9dcc-c7d2127cd59d",
   "metadata": {},
   "outputs": [],
   "source": [
    "data_2"
   ]
  },
  {
   "cell_type": "code",
   "execution_count": null,
   "id": "02e2cabd-167b-4174-b3f6-ad3c4a7d26c1",
   "metadata": {
    "scrolled": true
   },
   "outputs": [],
   "source": [
    "out_2 = predict(g_train, model_m_to_s, model_s_to_m,\n",
    "                data_2,\n",
    "                molecule_features_dummy,\n",
    "                species_features_dummy\n",
    "               )"
   ]
  },
  {
   "cell_type": "code",
   "execution_count": null,
   "id": "257af5ec-a637-4627-b9ad-89feb4478d0f",
   "metadata": {
    "scrolled": true
   },
   "outputs": [],
   "source": [
    "plt.hist(out_2.prob)"
   ]
  },
  {
   "cell_type": "code",
   "execution_count": 20,
   "id": "caf69736-4ee4-431d-8ec2-445ecbc54965",
   "metadata": {},
   "outputs": [],
   "source": [
    "g_test = nx.read_graphml(\"./graph/test_graph.gml\")\n",
    "g_lotus = nx.compose(g_train, g_test)"
   ]
  },
  {
   "cell_type": "code",
   "execution_count": 21,
   "id": "b621a031-84d2-4cd3-9e1d-877ee2c2b18a",
   "metadata": {},
   "outputs": [],
   "source": [
    "sku = pd.concat([df_agg, df_agg_train])"
   ]
  },
  {
   "cell_type": "code",
   "execution_count": 22,
   "id": "5fc7b573-ebc1-478a-8809-8e67592a49fb",
   "metadata": {},
   "outputs": [],
   "source": [
    "sp = 'Homo sapiens'\n",
    "data_3 = pd.DataFrame(\n",
    "    {'molecule': list(set(molecule_features_dummy.index)-set(sku[sku.organism_name==sp].structure_smiles_2D)),\n",
    "     'species': sp})"
   ]
  },
  {
   "cell_type": "code",
   "execution_count": 23,
   "id": "f8561910-539d-4faf-b27c-0a3af77acdc3",
   "metadata": {},
   "outputs": [
    {
     "data": {
      "text/html": [
       "<div>\n",
       "<style scoped>\n",
       "    .dataframe tbody tr th:only-of-type {\n",
       "        vertical-align: middle;\n",
       "    }\n",
       "\n",
       "    .dataframe tbody tr th {\n",
       "        vertical-align: top;\n",
       "    }\n",
       "\n",
       "    .dataframe thead th {\n",
       "        text-align: right;\n",
       "    }\n",
       "</style>\n",
       "<table border=\"1\" class=\"dataframe\">\n",
       "  <thead>\n",
       "    <tr style=\"text-align: right;\">\n",
       "      <th></th>\n",
       "      <th>molecule</th>\n",
       "      <th>species</th>\n",
       "    </tr>\n",
       "  </thead>\n",
       "  <tbody>\n",
       "    <tr>\n",
       "      <th>0</th>\n",
       "      <td>C=C1C(=O)OC2C3=C(CO)CCC(OC(=O)C4(C)CO4)C3(C)CCC12</td>\n",
       "      <td>Homo sapiens</td>\n",
       "    </tr>\n",
       "    <tr>\n",
       "      <th>1</th>\n",
       "      <td>C=CC1C2CCC3(O)C(C)(CCC(O)C3(C)C(=O)O)C2CCC1(O)CCl</td>\n",
       "      <td>Homo sapiens</td>\n",
       "    </tr>\n",
       "    <tr>\n",
       "      <th>2</th>\n",
       "      <td>C=C1C2CCC3(C1O)C1CC4C5(C)CCCC4(C1N(CC)C5)C3C2</td>\n",
       "      <td>Homo sapiens</td>\n",
       "    </tr>\n",
       "    <tr>\n",
       "      <th>3</th>\n",
       "      <td>CC1OC(OC2C(C)OC(OC3C(O)CC(OC4C(O)C(OC5C(C)OC(O...</td>\n",
       "      <td>Homo sapiens</td>\n",
       "    </tr>\n",
       "    <tr>\n",
       "      <th>4</th>\n",
       "      <td>O=C(C=Cc1ccc(O)c(O)c1)OCCc1ccccc1</td>\n",
       "      <td>Homo sapiens</td>\n",
       "    </tr>\n",
       "    <tr>\n",
       "      <th>...</th>\n",
       "      <td>...</td>\n",
       "      <td>...</td>\n",
       "    </tr>\n",
       "    <tr>\n",
       "      <th>146538</th>\n",
       "      <td>CC(C=CC1(O)C(C)CC(=O)CC1(C)C)OC1OC(COC2OCC(O)C...</td>\n",
       "      <td>Homo sapiens</td>\n",
       "    </tr>\n",
       "    <tr>\n",
       "      <th>146539</th>\n",
       "      <td>CC(CCC1(O)OC2CC3C4CCC5CC(OC6OC(CO)C(OC7OC(CO)C...</td>\n",
       "      <td>Homo sapiens</td>\n",
       "    </tr>\n",
       "    <tr>\n",
       "      <th>146540</th>\n",
       "      <td>CCCCCC=CCC=CCCCCCCCCCCCC(=O)O</td>\n",
       "      <td>Homo sapiens</td>\n",
       "    </tr>\n",
       "    <tr>\n",
       "      <th>146541</th>\n",
       "      <td>C=CCc1cc(-c2cc(C(OC)C(O)CO)ccc2O)ccc1O</td>\n",
       "      <td>Homo sapiens</td>\n",
       "    </tr>\n",
       "    <tr>\n",
       "      <th>146542</th>\n",
       "      <td>COc1cc(C(=O)OC2CC3CC(OC(C)=O)C(C2)N3C)cc(OC)c1OC</td>\n",
       "      <td>Homo sapiens</td>\n",
       "    </tr>\n",
       "  </tbody>\n",
       "</table>\n",
       "<p>146543 rows × 2 columns</p>\n",
       "</div>"
      ],
      "text/plain": [
       "                                                 molecule       species\n",
       "0       C=C1C(=O)OC2C3=C(CO)CCC(OC(=O)C4(C)CO4)C3(C)CCC12  Homo sapiens\n",
       "1       C=CC1C2CCC3(O)C(C)(CCC(O)C3(C)C(=O)O)C2CCC1(O)CCl  Homo sapiens\n",
       "2           C=C1C2CCC3(C1O)C1CC4C5(C)CCCC4(C1N(CC)C5)C3C2  Homo sapiens\n",
       "3       CC1OC(OC2C(C)OC(OC3C(O)CC(OC4C(O)C(OC5C(C)OC(O...  Homo sapiens\n",
       "4                       O=C(C=Cc1ccc(O)c(O)c1)OCCc1ccccc1  Homo sapiens\n",
       "...                                                   ...           ...\n",
       "146538  CC(C=CC1(O)C(C)CC(=O)CC1(C)C)OC1OC(COC2OCC(O)C...  Homo sapiens\n",
       "146539  CC(CCC1(O)OC2CC3C4CCC5CC(OC6OC(CO)C(OC7OC(CO)C...  Homo sapiens\n",
       "146540                      CCCCCC=CCC=CCCCCCCCCCCCC(=O)O  Homo sapiens\n",
       "146541             C=CCc1cc(-c2cc(C(OC)C(O)CO)ccc2O)ccc1O  Homo sapiens\n",
       "146542   COc1cc(C(=O)OC2CC3CC(OC(C)=O)C(C2)N3C)cc(OC)c1OC  Homo sapiens\n",
       "\n",
       "[146543 rows x 2 columns]"
      ]
     },
     "execution_count": 23,
     "metadata": {},
     "output_type": "execute_result"
    }
   ],
   "source": [
    "data_3"
   ]
  },
  {
   "cell_type": "code",
   "execution_count": 24,
   "id": "ece87642-d128-4573-840f-4402e5ed1a8f",
   "metadata": {},
   "outputs": [
    {
     "name": "stdout",
     "output_type": "stream",
     "text": [
      "Checking which model should be used for each row...\n",
      "Adding missing nodes to the graph...\n",
      "Converting NetwrokX to Stellargraph...\n",
      "StellarDiGraph: Directed multigraph\n",
      " Nodes: 184194, Edges: 869484\n",
      "\n",
      " Node types:\n",
      "  molecule: [147747]\n",
      "    Features: float32 vector, length 1051\n",
      "    Edge types: molecule-present_in->species\n",
      "  species: [36447]\n",
      "    Features: float32 vector, length 69\n",
      "    Edge types: species-has->molecule\n",
      "\n",
      " Edge types:\n",
      "    species-has->molecule: [434742]\n",
      "        Weights: all 1 (default)\n",
      "        Features: none\n",
      "    molecule-present_in->species: [434742]\n",
      "        Weights: all 1 (default)\n",
      "        Features: none\n",
      "Creating 'forward', 'backward' flow for KNOWN molecule AND species...\n",
      "Predict both : running 'forward' predictions\n",
      "144/144 [==============================] - 27s 188ms/step\n",
      "144/144 [==============================] - 28s 187ms/step\n",
      "144/144 [==============================] - 28s 197ms/step\n",
      "144/144 [==============================] - 29s 201ms/step\n",
      "144/144 [==============================] - 29s 203ms/step\n",
      "144/144 [==============================] - 29s 201ms/step\n",
      "144/144 [==============================] - 29s 203ms/step\n",
      "Predict both : running backward prediction...\n",
      "144/144 [==============================] - 35s 245ms/step\n",
      "144/144 [==============================] - 38s 261ms/step\n",
      "144/144 [==============================] - 38s 263ms/step\n",
      "144/144 [==============================] - 27s 190ms/step\n",
      "144/144 [==============================] - 30s 205ms/step\n",
      "144/144 [==============================] - 28s 193ms/step\n",
      "144/144 [==============================] - 29s 202ms/step\n"
     ]
    }
   ],
   "source": [
    "out_3 = predict(g_lotus, model_m_to_s, model_s_to_m,\n",
    "                data_3,\n",
    "                molecule_features_dummy,\n",
    "                species_features_dummy\n",
    "               )"
   ]
  },
  {
   "cell_type": "code",
   "execution_count": 25,
   "id": "b0b2542e-59cc-46eb-a413-3b75f40a5e2f",
   "metadata": {},
   "outputs": [
    {
     "data": {
      "text/plain": [
       "(array([9399., 5357., 4090., 3228., 2868., 2552., 2387., 2092., 2077.,\n",
       "        1815., 1720., 1577., 1561., 1489., 1398., 1400., 1363., 1246.,\n",
       "        1175., 1243., 1216., 1151., 1137., 1053., 1028., 1048.,  983.,\n",
       "        1005.,  955.,  915.,  931.,  916.,  862.,  825.,  860.,  874.,\n",
       "         826.,  795.,  770.,  809.,  717.,  784.,  760.,  729.,  728.,\n",
       "         751.,  693.,  718.,  698.,  643.,  655.,  651.,  674.,  675.,\n",
       "         671.,  654.,  635.,  608.,  626.,  659.,  607.,  586.,  596.,\n",
       "         570.,  576.,  592.,  597.,  562.,  587.,  606.,  539.,  557.,\n",
       "         524.,  552.,  582.,  523.,  558.,  503.,  552.,  541.,  582.,\n",
       "         521.,  529.,  549.,  536.,  552.,  558.,  498.,  518.,  511.,\n",
       "         523.,  525.,  521.,  558.,  526.,  518.,  557.,  502.,  499.,\n",
       "         533.,  524.,  515.,  464.,  493.,  523.,  479.,  502.,  483.,\n",
       "         477.,  477.,  467.,  427.,  463.,  505.,  454.,  414.,  445.,\n",
       "         434.,  401.,  399.,  404.,  404.,  420.,  412.,  413.,  398.,\n",
       "         405.,  391.,  350.,  369.,  371.,  370.,  370.,  345.,  340.,\n",
       "         360.,  392.,  369.,  388.,  342.,  347.,  364.,  356.,  363.,\n",
       "         318.,  300.,  329.,  344.,  348.,  371.,  337.,  327.,  336.,\n",
       "         337.,  367.,  325.,  320.,  313.,  285.,  361.,  307.,  328.,\n",
       "         361.,  320.,  339.,  333.,  345.,  355.,  339.,  327.,  325.,\n",
       "         316.,  308.,  321.,  391.,  348.,  319.,  369.,  367.,  353.,\n",
       "         326.,  333.,  375.,  391.,  335.,  424.,  379.,  388.,  379.,\n",
       "         396.,  418.,  406.,  480.,  480.,  509.,  556.,  630.,  734.,\n",
       "        1054., 2421.]),\n",
       " array([3.79119010e-05, 5.03771042e-03, 1.00375089e-02, 1.50373075e-02,\n",
       "        2.00371060e-02, 2.50369045e-02, 3.00367030e-02, 3.50365015e-02,\n",
       "        4.00363001e-02, 4.50360986e-02, 5.00358971e-02, 5.50356956e-02,\n",
       "        6.00354941e-02, 6.50352927e-02, 7.00350912e-02, 7.50348897e-02,\n",
       "        8.00346882e-02, 8.50344867e-02, 9.00342853e-02, 9.50340838e-02,\n",
       "        1.00033882e-01, 1.05033681e-01, 1.10033479e-01, 1.15033278e-01,\n",
       "        1.20033076e-01, 1.25032875e-01, 1.30032673e-01, 1.35032472e-01,\n",
       "        1.40032270e-01, 1.45032069e-01, 1.50031867e-01, 1.55031666e-01,\n",
       "        1.60031465e-01, 1.65031263e-01, 1.70031062e-01, 1.75030860e-01,\n",
       "        1.80030659e-01, 1.85030457e-01, 1.90030256e-01, 1.95030054e-01,\n",
       "        2.00029853e-01, 2.05029651e-01, 2.10029450e-01, 2.15029248e-01,\n",
       "        2.20029047e-01, 2.25028845e-01, 2.30028644e-01, 2.35028442e-01,\n",
       "        2.40028241e-01, 2.45028039e-01, 2.50027838e-01, 2.55027636e-01,\n",
       "        2.60027435e-01, 2.65027233e-01, 2.70027032e-01, 2.75026830e-01,\n",
       "        2.80026629e-01, 2.85026428e-01, 2.90026226e-01, 2.95026025e-01,\n",
       "        3.00025823e-01, 3.05025622e-01, 3.10025420e-01, 3.15025219e-01,\n",
       "        3.20025017e-01, 3.25024816e-01, 3.30024614e-01, 3.35024413e-01,\n",
       "        3.40024211e-01, 3.45024010e-01, 3.50023808e-01, 3.55023607e-01,\n",
       "        3.60023405e-01, 3.65023204e-01, 3.70023002e-01, 3.75022801e-01,\n",
       "        3.80022599e-01, 3.85022398e-01, 3.90022196e-01, 3.95021995e-01,\n",
       "        4.00021793e-01, 4.05021592e-01, 4.10021391e-01, 4.15021189e-01,\n",
       "        4.20020988e-01, 4.25020786e-01, 4.30020585e-01, 4.35020383e-01,\n",
       "        4.40020182e-01, 4.45019980e-01, 4.50019779e-01, 4.55019577e-01,\n",
       "        4.60019376e-01, 4.65019174e-01, 4.70018973e-01, 4.75018771e-01,\n",
       "        4.80018570e-01, 4.85018368e-01, 4.90018167e-01, 4.95017965e-01,\n",
       "        5.00017764e-01, 5.05017562e-01, 5.10017361e-01, 5.15017159e-01,\n",
       "        5.20016958e-01, 5.25016756e-01, 5.30016555e-01, 5.35016353e-01,\n",
       "        5.40016152e-01, 5.45015951e-01, 5.50015749e-01, 5.55015548e-01,\n",
       "        5.60015346e-01, 5.65015145e-01, 5.70014943e-01, 5.75014742e-01,\n",
       "        5.80014540e-01, 5.85014339e-01, 5.90014137e-01, 5.95013936e-01,\n",
       "        6.00013734e-01, 6.05013533e-01, 6.10013331e-01, 6.15013130e-01,\n",
       "        6.20012928e-01, 6.25012727e-01, 6.30012525e-01, 6.35012324e-01,\n",
       "        6.40012122e-01, 6.45011921e-01, 6.50011719e-01, 6.55011518e-01,\n",
       "        6.60011316e-01, 6.65011115e-01, 6.70010914e-01, 6.75010712e-01,\n",
       "        6.80010511e-01, 6.85010309e-01, 6.90010108e-01, 6.95009906e-01,\n",
       "        7.00009705e-01, 7.05009503e-01, 7.10009302e-01, 7.15009100e-01,\n",
       "        7.20008899e-01, 7.25008697e-01, 7.30008496e-01, 7.35008294e-01,\n",
       "        7.40008093e-01, 7.45007891e-01, 7.50007690e-01, 7.55007488e-01,\n",
       "        7.60007287e-01, 7.65007085e-01, 7.70006884e-01, 7.75006682e-01,\n",
       "        7.80006481e-01, 7.85006279e-01, 7.90006078e-01, 7.95005877e-01,\n",
       "        8.00005675e-01, 8.05005474e-01, 8.10005272e-01, 8.15005071e-01,\n",
       "        8.20004869e-01, 8.25004668e-01, 8.30004466e-01, 8.35004265e-01,\n",
       "        8.40004063e-01, 8.45003862e-01, 8.50003660e-01, 8.55003459e-01,\n",
       "        8.60003257e-01, 8.65003056e-01, 8.70002854e-01, 8.75002653e-01,\n",
       "        8.80002451e-01, 8.85002250e-01, 8.90002048e-01, 8.95001847e-01,\n",
       "        9.00001645e-01, 9.05001444e-01, 9.10001242e-01, 9.15001041e-01,\n",
       "        9.20000840e-01, 9.25000638e-01, 9.30000437e-01, 9.35000235e-01,\n",
       "        9.40000034e-01, 9.44999832e-01, 9.49999631e-01, 9.54999429e-01,\n",
       "        9.59999228e-01, 9.64999026e-01, 9.69998825e-01, 9.74998623e-01,\n",
       "        9.79998422e-01, 9.84998220e-01, 9.89998019e-01, 9.94997817e-01,\n",
       "        9.99997616e-01]),\n",
       " <BarContainer object of 200 artists>)"
      ]
     },
     "execution_count": 25,
     "metadata": {},
     "output_type": "execute_result"
    },
    {
     "data": {
      "image/png": "[encoded data removed]",
      "text/plain": [
       "<Figure size 640x480 with 1 Axes>"
      ]
     },
     "metadata": {},
     "output_type": "display_data"
    }
   ],
   "source": [
    "plt.hist(out_3.prob, bins=200)"
   ]
  },
  {
   "cell_type": "code",
   "execution_count": 50,
   "id": "fa442cb0-d3a1-4258-8a9e-bf52a01b36bf",
   "metadata": {
    "scrolled": true
   },
   "outputs": [
    {
     "data": {
      "text/html": [
       "<div>\n",
       "<style scoped>\n",
       "    .dataframe tbody tr th:only-of-type {\n",
       "        vertical-align: middle;\n",
       "    }\n",
       "\n",
       "    .dataframe tbody tr th {\n",
       "        vertical-align: top;\n",
       "    }\n",
       "\n",
       "    .dataframe thead th {\n",
       "        text-align: right;\n",
       "    }\n",
       "</style>\n",
       "<table border=\"1\" class=\"dataframe\">\n",
       "  <thead>\n",
       "    <tr style=\"text-align: right;\">\n",
       "      <th></th>\n",
       "      <th>molecule</th>\n",
       "      <th>species</th>\n",
       "      <th>model</th>\n",
       "      <th>prob</th>\n",
       "    </tr>\n",
       "  </thead>\n",
       "  <tbody>\n",
       "    <tr>\n",
       "      <th>32</th>\n",
       "      <td>CSCCC(N)C(=O)NC(CO)C(=O)O</td>\n",
       "      <td>Homo sapiens</td>\n",
       "      <td>both_known</td>\n",
       "      <td>0.996110</td>\n",
       "    </tr>\n",
       "    <tr>\n",
       "      <th>48</th>\n",
       "      <td>CCCCC=CCCCCCCCCC(=O)O</td>\n",
       "      <td>Homo sapiens</td>\n",
       "      <td>both_known</td>\n",
       "      <td>0.999880</td>\n",
       "    </tr>\n",
       "    <tr>\n",
       "      <th>182</th>\n",
       "      <td>CC1=CCCC(C)(O)C=CC(C(C)C)CC1</td>\n",
       "      <td>Homo sapiens</td>\n",
       "      <td>both_known</td>\n",
       "      <td>0.988693</td>\n",
       "    </tr>\n",
       "    <tr>\n",
       "      <th>201</th>\n",
       "      <td>O=C(O)C=CC=CCCC=CC=CC(=O)O</td>\n",
       "      <td>Homo sapiens</td>\n",
       "      <td>both_known</td>\n",
       "      <td>0.999160</td>\n",
       "    </tr>\n",
       "    <tr>\n",
       "      <th>285</th>\n",
       "      <td>CCCCC(O)C#CC(O)CCCCCCCC(=O)O</td>\n",
       "      <td>Homo sapiens</td>\n",
       "      <td>both_known</td>\n",
       "      <td>0.984397</td>\n",
       "    </tr>\n",
       "    <tr>\n",
       "      <th>...</th>\n",
       "      <td>...</td>\n",
       "      <td>...</td>\n",
       "      <td>...</td>\n",
       "      <td>...</td>\n",
       "    </tr>\n",
       "    <tr>\n",
       "      <th>146475</th>\n",
       "      <td>CCCCCCCCCCCCCC=CC(O)C(COP(=O)([O-])OCC[N+](C)(...</td>\n",
       "      <td>Homo sapiens</td>\n",
       "      <td>both_known</td>\n",
       "      <td>0.991368</td>\n",
       "    </tr>\n",
       "    <tr>\n",
       "      <th>146510</th>\n",
       "      <td>C=C1CC23CC1CC(O)C2C1(C)CCCC(C)(C(=O)O)C1C3C(=O)O</td>\n",
       "      <td>Homo sapiens</td>\n",
       "      <td>both_known</td>\n",
       "      <td>0.981750</td>\n",
       "    </tr>\n",
       "    <tr>\n",
       "      <th>146511</th>\n",
       "      <td>NC(=O)c1ncn(C2OC(CO)C(O)C2O)n1</td>\n",
       "      <td>Homo sapiens</td>\n",
       "      <td>both_known</td>\n",
       "      <td>0.999173</td>\n",
       "    </tr>\n",
       "    <tr>\n",
       "      <th>146533</th>\n",
       "      <td>CSC(=O)c1c(C)c(C)c(O)c(C)c1O</td>\n",
       "      <td>Homo sapiens</td>\n",
       "      <td>both_known</td>\n",
       "      <td>0.987001</td>\n",
       "    </tr>\n",
       "    <tr>\n",
       "      <th>146540</th>\n",
       "      <td>CCCCCC=CCC=CCCCCCCCCCCCC(=O)O</td>\n",
       "      <td>Homo sapiens</td>\n",
       "      <td>both_known</td>\n",
       "      <td>0.999698</td>\n",
       "    </tr>\n",
       "  </tbody>\n",
       "</table>\n",
       "<p>4839 rows × 4 columns</p>\n",
       "</div>"
      ],
      "text/plain": [
       "                                                 molecule       species  \\\n",
       "32                              CSCCC(N)C(=O)NC(CO)C(=O)O  Homo sapiens   \n",
       "48                                  CCCCC=CCCCCCCCCC(=O)O  Homo sapiens   \n",
       "182                          CC1=CCCC(C)(O)C=CC(C(C)C)CC1  Homo sapiens   \n",
       "201                            O=C(O)C=CC=CCCC=CC=CC(=O)O  Homo sapiens   \n",
       "285                          CCCCC(O)C#CC(O)CCCCCCCC(=O)O  Homo sapiens   \n",
       "...                                                   ...           ...   \n",
       "146475  CCCCCCCCCCCCCC=CC(O)C(COP(=O)([O-])OCC[N+](C)(...  Homo sapiens   \n",
       "146510   C=C1CC23CC1CC(O)C2C1(C)CCCC(C)(C(=O)O)C1C3C(=O)O  Homo sapiens   \n",
       "146511                     NC(=O)c1ncn(C2OC(CO)C(O)C2O)n1  Homo sapiens   \n",
       "146533                       CSC(=O)c1c(C)c(C)c(O)c(C)c1O  Homo sapiens   \n",
       "146540                      CCCCCC=CCC=CCCCCCCCCCCCC(=O)O  Homo sapiens   \n",
       "\n",
       "             model      prob  \n",
       "32      both_known  0.996110  \n",
       "48      both_known  0.999880  \n",
       "182     both_known  0.988693  \n",
       "201     both_known  0.999160  \n",
       "285     both_known  0.984397  \n",
       "...            ...       ...  \n",
       "146475  both_known  0.991368  \n",
       "146510  both_known  0.981750  \n",
       "146511  both_known  0.999173  \n",
       "146533  both_known  0.987001  \n",
       "146540  both_known  0.999698  \n",
       "\n",
       "[4839 rows x 4 columns]"
      ]
     },
     "execution_count": 50,
     "metadata": {},
     "output_type": "execute_result"
    }
   ],
   "source": [
    "out_3[out_3.prob>0.98]"
   ]
  },
  {
   "cell_type": "markdown",
   "id": "78a27f69-5b8c-4009-9394-5bea552a957c",
   "metadata": {},
   "source": [
    "# Test 4: let's see if cholesterol is present \"everywhere\"\n"
   ]
  },
  {
   "cell_type": "code",
   "execution_count": 29,
   "id": "a7c99299-4484-4da2-b9ff-f6e1804d3ce4",
   "metadata": {},
   "outputs": [],
   "source": [
    "mol = 'CC(C)CCCC(C)C1CCC2C3CC=C4CC(O)CCC4(C)C3CCC12C'\n",
    "data_4 = pd.DataFrame(\n",
    "    {'molecule': mol,\n",
    "     'species': list(set(species_features_dummy.index)-set(sku[sku.structure_smiles_2D==mol].organism_name))})"
   ]
  },
  {
   "cell_type": "code",
   "execution_count": 30,
   "id": "de1e3e18-021a-4a31-9070-45b76015030f",
   "metadata": {},
   "outputs": [
    {
     "data": {
      "text/html": [
       "<div>\n",
       "<style scoped>\n",
       "    .dataframe tbody tr th:only-of-type {\n",
       "        vertical-align: middle;\n",
       "    }\n",
       "\n",
       "    .dataframe tbody tr th {\n",
       "        vertical-align: top;\n",
       "    }\n",
       "\n",
       "    .dataframe thead th {\n",
       "        text-align: right;\n",
       "    }\n",
       "</style>\n",
       "<table border=\"1\" class=\"dataframe\">\n",
       "  <thead>\n",
       "    <tr style=\"text-align: right;\">\n",
       "      <th></th>\n",
       "      <th>molecule</th>\n",
       "      <th>species</th>\n",
       "    </tr>\n",
       "  </thead>\n",
       "  <tbody>\n",
       "    <tr>\n",
       "      <th>0</th>\n",
       "      <td>CC(C)CCCC(C)C1CCC2C3CC=C4CC(O)CCC4(C)C3CCC12C</td>\n",
       "      <td>Ravenia spectabilis</td>\n",
       "    </tr>\n",
       "    <tr>\n",
       "      <th>1</th>\n",
       "      <td>CC(C)CCCC(C)C1CCC2C3CC=C4CC(O)CCC4(C)C3CCC12C</td>\n",
       "      <td>Welwitschia mirabilis</td>\n",
       "    </tr>\n",
       "    <tr>\n",
       "      <th>2</th>\n",
       "      <td>CC(C)CCCC(C)C1CCC2C3CC=C4CC(O)CCC4(C)C3CCC12C</td>\n",
       "      <td>Solanum crinitum</td>\n",
       "    </tr>\n",
       "    <tr>\n",
       "      <th>3</th>\n",
       "      <td>CC(C)CCCC(C)C1CCC2C3CC=C4CC(O)CCC4(C)C3CCC12C</td>\n",
       "      <td>Nocardiopsis</td>\n",
       "    </tr>\n",
       "    <tr>\n",
       "      <th>4</th>\n",
       "      <td>CC(C)CCCC(C)C1CCC2C3CC=C4CC(O)CCC4(C)C3CCC12C</td>\n",
       "      <td>Asplenium trichomanes</td>\n",
       "    </tr>\n",
       "    <tr>\n",
       "      <th>...</th>\n",
       "      <td>...</td>\n",
       "      <td>...</td>\n",
       "    </tr>\n",
       "    <tr>\n",
       "      <th>35925</th>\n",
       "      <td>CC(C)CCCC(C)C1CCC2C3CC=C4CC(O)CCC4(C)C3CCC12C</td>\n",
       "      <td>Amauroascus</td>\n",
       "    </tr>\n",
       "    <tr>\n",
       "      <th>35926</th>\n",
       "      <td>CC(C)CCCC(C)C1CCC2C3CC=C4CC(O)CCC4(C)C3CCC12C</td>\n",
       "      <td>Actinoplanes deccanensis</td>\n",
       "    </tr>\n",
       "    <tr>\n",
       "      <th>35927</th>\n",
       "      <td>CC(C)CCCC(C)C1CCC2C3CC=C4CC(O)CCC4(C)C3CCC12C</td>\n",
       "      <td>Persicaria glabra</td>\n",
       "    </tr>\n",
       "    <tr>\n",
       "      <th>35928</th>\n",
       "      <td>CC(C)CCCC(C)C1CCC2C3CC=C4CC(O)CCC4(C)C3CCC12C</td>\n",
       "      <td>Onobrychis saravschanica</td>\n",
       "    </tr>\n",
       "    <tr>\n",
       "      <th>35929</th>\n",
       "      <td>CC(C)CCCC(C)C1CCC2C3CC=C4CC(O)CCC4(C)C3CCC12C</td>\n",
       "      <td>Diospyros japonica</td>\n",
       "    </tr>\n",
       "  </tbody>\n",
       "</table>\n",
       "<p>35930 rows × 2 columns</p>\n",
       "</div>"
      ],
      "text/plain": [
       "                                            molecule                   species\n",
       "0      CC(C)CCCC(C)C1CCC2C3CC=C4CC(O)CCC4(C)C3CCC12C       Ravenia spectabilis\n",
       "1      CC(C)CCCC(C)C1CCC2C3CC=C4CC(O)CCC4(C)C3CCC12C     Welwitschia mirabilis\n",
       "2      CC(C)CCCC(C)C1CCC2C3CC=C4CC(O)CCC4(C)C3CCC12C          Solanum crinitum\n",
       "3      CC(C)CCCC(C)C1CCC2C3CC=C4CC(O)CCC4(C)C3CCC12C              Nocardiopsis\n",
       "4      CC(C)CCCC(C)C1CCC2C3CC=C4CC(O)CCC4(C)C3CCC12C     Asplenium trichomanes\n",
       "...                                              ...                       ...\n",
       "35925  CC(C)CCCC(C)C1CCC2C3CC=C4CC(O)CCC4(C)C3CCC12C               Amauroascus\n",
       "35926  CC(C)CCCC(C)C1CCC2C3CC=C4CC(O)CCC4(C)C3CCC12C  Actinoplanes deccanensis\n",
       "35927  CC(C)CCCC(C)C1CCC2C3CC=C4CC(O)CCC4(C)C3CCC12C         Persicaria glabra\n",
       "35928  CC(C)CCCC(C)C1CCC2C3CC=C4CC(O)CCC4(C)C3CCC12C  Onobrychis saravschanica\n",
       "35929  CC(C)CCCC(C)C1CCC2C3CC=C4CC(O)CCC4(C)C3CCC12C        Diospyros japonica\n",
       "\n",
       "[35930 rows x 2 columns]"
      ]
     },
     "execution_count": 30,
     "metadata": {},
     "output_type": "execute_result"
    }
   ],
   "source": [
    "data_4"
   ]
  },
  {
   "cell_type": "code",
   "execution_count": 31,
   "id": "d918b7ec-b4d3-435c-b9bb-88bd40bb4a34",
   "metadata": {},
   "outputs": [
    {
     "name": "stdout",
     "output_type": "stream",
     "text": [
      "Checking which model should be used for each row...\n",
      "Adding missing nodes to the graph...\n",
      "Converting NetwrokX to Stellargraph...\n",
      "StellarDiGraph: Directed multigraph\n",
      " Nodes: 184194, Edges: 869484\n",
      "\n",
      " Node types:\n",
      "  molecule: [147747]\n",
      "    Features: float32 vector, length 1051\n",
      "    Edge types: molecule-present_in->species\n",
      "  species: [36447]\n",
      "    Features: float32 vector, length 69\n",
      "    Edge types: species-has->molecule\n",
      "\n",
      " Edge types:\n",
      "    species-has->molecule: [434742]\n",
      "        Weights: all 1 (default)\n",
      "        Features: none\n",
      "    molecule-present_in->species: [434742]\n",
      "        Weights: all 1 (default)\n",
      "        Features: none\n",
      "Creating 'forward', 'backward' flow for KNOWN molecule AND species...\n",
      "Predict both : running 'forward' predictions\n",
      "36/36 [==============================] - 10s 276ms/step\n",
      "36/36 [==============================] - 8s 210ms/step\n",
      "36/36 [==============================] - 6s 177ms/step\n",
      "36/36 [==============================] - 7s 207ms/step\n",
      "36/36 [==============================] - 6s 173ms/step\n",
      "36/36 [==============================] - 7s 200ms/step\n",
      "36/36 [==============================] - 6s 166ms/step\n",
      "Predict both : running backward prediction...\n",
      "36/36 [==============================] - 9s 250ms/step\n",
      "36/36 [==============================] - 7s 188ms/step\n",
      "36/36 [==============================] - 7s 205ms/step\n",
      "36/36 [==============================] - 7s 184ms/step\n",
      "36/36 [==============================] - 6s 169ms/step\n",
      "36/36 [==============================] - 7s 200ms/step\n",
      "36/36 [==============================] - 6s 173ms/step\n"
     ]
    }
   ],
   "source": [
    "out_4 = predict(g_lotus, model_m_to_s, model_s_to_m,\n",
    "                data_4,\n",
    "                molecule_features_dummy,\n",
    "                species_features_dummy\n",
    "               )"
   ]
  },
  {
   "cell_type": "code",
   "execution_count": 34,
   "id": "397426b5-1a62-460d-87a7-766166071167",
   "metadata": {},
   "outputs": [
    {
     "data": {
      "text/plain": [
       "(array([   8.,   17.,   26.,   21.,   21.,   21.,   15.,   17.,   19.,\n",
       "          12.,   10.,   15.,   17.,   28.,   19.,   16.,   20.,   16.,\n",
       "          16.,   20.,   12.,   18.,   23.,   18.,   27.,   35.,   19.,\n",
       "          20.,   29.,   23.,   29.,   32.,   30.,   27.,   24.,   31.,\n",
       "          27.,   34.,   36.,   21.,   36.,   37.,   37.,   38.,   31.,\n",
       "          30.,   37.,   45.,   43.,   37.,   35.,   32.,   31.,   37.,\n",
       "          41.,   50.,   34.,   49.,   49.,   49.,   56.,   53.,   52.,\n",
       "          44.,   45.,   55.,   57.,   51.,   68.,   49.,   48.,   48.,\n",
       "          67.,   68.,   72.,   65.,   75.,   95.,   77.,   79.,   83.,\n",
       "          88.,   89.,   91.,   92.,   91.,   90.,   98.,   93.,  117.,\n",
       "          92.,  123.,  105.,  114.,  103.,  108.,  132.,  134.,  135.,\n",
       "         141.,  126.,  144.,  140.,  147.,  126.,  162.,  148.,  149.,\n",
       "         137.,  157.,  153.,  160.,  140.,  145.,  152.,  143.,  173.,\n",
       "         143.,  146.,  176.,  165.,  184.,  174.,  179.,  176.,  168.,\n",
       "         172.,  161.,  192.,  184.,  189.,  157.,  178.,  179.,  201.,\n",
       "         170.,  183.,  185.,  174.,  197.,  178.,  187.,  208.,  201.,\n",
       "         196.,  206.,  200.,  244.,  200.,  209.,  217.,  231.,  212.,\n",
       "         225.,  223.,  226.,  246.,  230.,  250.,  266.,  247.,  269.,\n",
       "         244.,  264.,  268.,  302.,  300.,  302.,  300.,  295.,  299.,\n",
       "         336.,  339.,  358.,  366.,  357.,  335.,  348.,  365.,  383.,\n",
       "         432.,  470.,  435.,  418.,  442.,  517.,  510.,  466.,  562.,\n",
       "         523.,  568.,  638.,  665.,  717.,  757.,  814.,  882., 1037.,\n",
       "        1230., 1690.]),\n",
       " array([0.006807  , 0.01177282, 0.01673863, 0.02170444, 0.02667026,\n",
       "        0.03163607, 0.03660188, 0.0415677 , 0.04653351, 0.05149933,\n",
       "        0.05646514, 0.06143095, 0.06639677, 0.07136258, 0.0763284 ,\n",
       "        0.08129421, 0.08626002, 0.09122584, 0.09619165, 0.10115747,\n",
       "        0.10612328, 0.11108909, 0.11605491, 0.12102072, 0.12598653,\n",
       "        0.13095235, 0.13591816, 0.14088398, 0.14584979, 0.1508156 ,\n",
       "        0.15578142, 0.16074723, 0.16571305, 0.17067886, 0.17564467,\n",
       "        0.18061049, 0.1855763 , 0.19054212, 0.19550793, 0.20047374,\n",
       "        0.20543956, 0.21040537, 0.21537118, 0.220337  , 0.22530281,\n",
       "        0.23026863, 0.23523444, 0.24020025, 0.24516607, 0.25013188,\n",
       "        0.2550977 , 0.26006351, 0.26502932, 0.26999514, 0.27496095,\n",
       "        0.27992677, 0.28489258, 0.28985839, 0.29482421, 0.29979002,\n",
       "        0.30475584, 0.30972165, 0.31468746, 0.31965328, 0.32461909,\n",
       "        0.3295849 , 0.33455072, 0.33951653, 0.34448235, 0.34944816,\n",
       "        0.35441397, 0.35937979, 0.3643456 , 0.36931142, 0.37427723,\n",
       "        0.37924304, 0.38420886, 0.38917467, 0.39414049, 0.3991063 ,\n",
       "        0.40407211, 0.40903793, 0.41400374, 0.41896955, 0.42393537,\n",
       "        0.42890118, 0.433867  , 0.43883281, 0.44379862, 0.44876444,\n",
       "        0.45373025, 0.45869607, 0.46366188, 0.46862769, 0.47359351,\n",
       "        0.47855932, 0.48352514, 0.48849095, 0.49345676, 0.49842258,\n",
       "        0.50338839, 0.5083542 , 0.51332002, 0.51828583, 0.52325165,\n",
       "        0.52821746, 0.53318327, 0.53814909, 0.5431149 , 0.54808072,\n",
       "        0.55304653, 0.55801234, 0.56297816, 0.56794397, 0.57290979,\n",
       "        0.5778756 , 0.58284141, 0.58780723, 0.59277304, 0.59773885,\n",
       "        0.60270467, 0.60767048, 0.6126363 , 0.61760211, 0.62256792,\n",
       "        0.62753374, 0.63249955, 0.63746537, 0.64243118, 0.64739699,\n",
       "        0.65236281, 0.65732862, 0.66229444, 0.66726025, 0.67222606,\n",
       "        0.67719188, 0.68215769, 0.68712351, 0.69208932, 0.69705513,\n",
       "        0.70202095, 0.70698676, 0.71195257, 0.71691839, 0.7218842 ,\n",
       "        0.72685002, 0.73181583, 0.73678164, 0.74174746, 0.74671327,\n",
       "        0.75167909, 0.7566449 , 0.76161071, 0.76657653, 0.77154234,\n",
       "        0.77650816, 0.78147397, 0.78643978, 0.7914056 , 0.79637141,\n",
       "        0.80133722, 0.80630304, 0.81126885, 0.81623467, 0.82120048,\n",
       "        0.82616629, 0.83113211, 0.83609792, 0.84106374, 0.84602955,\n",
       "        0.85099536, 0.85596118, 0.86092699, 0.86589281, 0.87085862,\n",
       "        0.87582443, 0.88079025, 0.88575606, 0.89072187, 0.89568769,\n",
       "        0.9006535 , 0.90561932, 0.91058513, 0.91555094, 0.92051676,\n",
       "        0.92548257, 0.93044839, 0.9354142 , 0.94038001, 0.94534583,\n",
       "        0.95031164, 0.95527746, 0.96024327, 0.96520908, 0.9701749 ,\n",
       "        0.97514071, 0.98010652, 0.98507234, 0.99003815, 0.99500397,\n",
       "        0.99996978]),\n",
       " <BarContainer object of 200 artists>)"
      ]
     },
     "execution_count": 34,
     "metadata": {},
     "output_type": "execute_result"
    },
    {
     "data": {
      "image/png": "[encoded data removed]",
      "text/plain": [
       "<Figure size 640x480 with 1 Axes>"
      ]
     },
     "metadata": {},
     "output_type": "display_data"
    }
   ],
   "source": [
    "plt.hist(out_4.prob, bins=200)"
   ]
  },
  {
   "cell_type": "code",
   "execution_count": 36,
   "id": "280a03ce-a2a0-41b8-91ac-2bf0d26a0690",
   "metadata": {},
   "outputs": [
    {
     "data": {
      "text/plain": [
       "0.864013359309769"
      ]
     },
     "execution_count": 36,
     "metadata": {},
     "output_type": "execute_result"
    }
   ],
   "source": [
    "len(out_4[out_4.prob>0.5])/len(out_4)"
   ]
  },
  {
   "cell_type": "code",
   "execution_count": 52,
   "id": "3c852c91-e917-480c-9d21-d8cb9b735895",
   "metadata": {},
   "outputs": [
    {
     "data": {
      "text/html": [
       "<div>\n",
       "<style scoped>\n",
       "    .dataframe tbody tr th:only-of-type {\n",
       "        vertical-align: middle;\n",
       "    }\n",
       "\n",
       "    .dataframe tbody tr th {\n",
       "        vertical-align: top;\n",
       "    }\n",
       "\n",
       "    .dataframe thead th {\n",
       "        text-align: right;\n",
       "    }\n",
       "</style>\n",
       "<table border=\"1\" class=\"dataframe\">\n",
       "  <thead>\n",
       "    <tr style=\"text-align: right;\">\n",
       "      <th></th>\n",
       "      <th>molecule</th>\n",
       "      <th>species</th>\n",
       "      <th>model</th>\n",
       "      <th>prob</th>\n",
       "    </tr>\n",
       "  </thead>\n",
       "  <tbody>\n",
       "    <tr>\n",
       "      <th>2</th>\n",
       "      <td>CC(C)CCCC(C)C1CCC2C3CC=C4CC(O)CCC4(C)C3CCC12C</td>\n",
       "      <td>Solanum crinitum</td>\n",
       "      <td>both_known</td>\n",
       "      <td>0.975570</td>\n",
       "    </tr>\n",
       "    <tr>\n",
       "      <th>3</th>\n",
       "      <td>CC(C)CCCC(C)C1CCC2C3CC=C4CC(O)CCC4(C)C3CCC12C</td>\n",
       "      <td>Nocardiopsis</td>\n",
       "      <td>both_known</td>\n",
       "      <td>0.958463</td>\n",
       "    </tr>\n",
       "    <tr>\n",
       "      <th>4</th>\n",
       "      <td>CC(C)CCCC(C)C1CCC2C3CC=C4CC(O)CCC4(C)C3CCC12C</td>\n",
       "      <td>Asplenium trichomanes</td>\n",
       "      <td>both_known</td>\n",
       "      <td>0.992359</td>\n",
       "    </tr>\n",
       "    <tr>\n",
       "      <th>6</th>\n",
       "      <td>CC(C)CCCC(C)C1CCC2C3CC=C4CC(O)CCC4(C)C3CCC12C</td>\n",
       "      <td>Vellozia pusilla</td>\n",
       "      <td>both_known</td>\n",
       "      <td>0.998452</td>\n",
       "    </tr>\n",
       "    <tr>\n",
       "      <th>9</th>\n",
       "      <td>CC(C)CCCC(C)C1CCC2C3CC=C4CC(O)CCC4(C)C3CCC12C</td>\n",
       "      <td>Diplocarpon alpestre</td>\n",
       "      <td>both_known</td>\n",
       "      <td>0.978656</td>\n",
       "    </tr>\n",
       "    <tr>\n",
       "      <th>...</th>\n",
       "      <td>...</td>\n",
       "      <td>...</td>\n",
       "      <td>...</td>\n",
       "      <td>...</td>\n",
       "    </tr>\n",
       "    <tr>\n",
       "      <th>35895</th>\n",
       "      <td>CC(C)CCCC(C)C1CCC2C3CC=C4CC(O)CCC4(C)C3CCC12C</td>\n",
       "      <td>Cortinarius speciosissimus</td>\n",
       "      <td>both_known</td>\n",
       "      <td>0.975019</td>\n",
       "    </tr>\n",
       "    <tr>\n",
       "      <th>35906</th>\n",
       "      <td>CC(C)CCCC(C)C1CCC2C3CC=C4CC(O)CCC4(C)C3CCC12C</td>\n",
       "      <td>Iberis umbellata</td>\n",
       "      <td>both_known</td>\n",
       "      <td>0.967330</td>\n",
       "    </tr>\n",
       "    <tr>\n",
       "      <th>35909</th>\n",
       "      <td>CC(C)CCCC(C)C1CCC2C3CC=C4CC(O)CCC4(C)C3CCC12C</td>\n",
       "      <td>Araucaria cunninghamii</td>\n",
       "      <td>both_known</td>\n",
       "      <td>0.990533</td>\n",
       "    </tr>\n",
       "    <tr>\n",
       "      <th>35920</th>\n",
       "      <td>CC(C)CCCC(C)C1CCC2C3CC=C4CC(O)CCC4(C)C3CCC12C</td>\n",
       "      <td>Pseudomonas aeruginosa</td>\n",
       "      <td>both_known</td>\n",
       "      <td>0.999593</td>\n",
       "    </tr>\n",
       "    <tr>\n",
       "      <th>35929</th>\n",
       "      <td>CC(C)CCCC(C)C1CCC2C3CC=C4CC(O)CCC4(C)C3CCC12C</td>\n",
       "      <td>Diospyros japonica</td>\n",
       "      <td>both_known</td>\n",
       "      <td>0.980611</td>\n",
       "    </tr>\n",
       "  </tbody>\n",
       "</table>\n",
       "<p>9027 rows × 4 columns</p>\n",
       "</div>"
      ],
      "text/plain": [
       "                                            molecule  \\\n",
       "2      CC(C)CCCC(C)C1CCC2C3CC=C4CC(O)CCC4(C)C3CCC12C   \n",
       "3      CC(C)CCCC(C)C1CCC2C3CC=C4CC(O)CCC4(C)C3CCC12C   \n",
       "4      CC(C)CCCC(C)C1CCC2C3CC=C4CC(O)CCC4(C)C3CCC12C   \n",
       "6      CC(C)CCCC(C)C1CCC2C3CC=C4CC(O)CCC4(C)C3CCC12C   \n",
       "9      CC(C)CCCC(C)C1CCC2C3CC=C4CC(O)CCC4(C)C3CCC12C   \n",
       "...                                              ...   \n",
       "35895  CC(C)CCCC(C)C1CCC2C3CC=C4CC(O)CCC4(C)C3CCC12C   \n",
       "35906  CC(C)CCCC(C)C1CCC2C3CC=C4CC(O)CCC4(C)C3CCC12C   \n",
       "35909  CC(C)CCCC(C)C1CCC2C3CC=C4CC(O)CCC4(C)C3CCC12C   \n",
       "35920  CC(C)CCCC(C)C1CCC2C3CC=C4CC(O)CCC4(C)C3CCC12C   \n",
       "35929  CC(C)CCCC(C)C1CCC2C3CC=C4CC(O)CCC4(C)C3CCC12C   \n",
       "\n",
       "                          species       model      prob  \n",
       "2                Solanum crinitum  both_known  0.975570  \n",
       "3                    Nocardiopsis  both_known  0.958463  \n",
       "4           Asplenium trichomanes  both_known  0.992359  \n",
       "6                Vellozia pusilla  both_known  0.998452  \n",
       "9            Diplocarpon alpestre  both_known  0.978656  \n",
       "...                           ...         ...       ...  \n",
       "35895  Cortinarius speciosissimus  both_known  0.975019  \n",
       "35906            Iberis umbellata  both_known  0.967330  \n",
       "35909      Araucaria cunninghamii  both_known  0.990533  \n",
       "35920      Pseudomonas aeruginosa  both_known  0.999593  \n",
       "35929          Diospyros japonica  both_known  0.980611  \n",
       "\n",
       "[9027 rows x 4 columns]"
      ]
     },
     "execution_count": 52,
     "metadata": {},
     "output_type": "execute_result"
    }
   ],
   "source": [
    "out_4[out_4.prob>0.95]"
   ]
  },
  {
   "cell_type": "markdown",
   "id": "a317e13e-00e1-4dfd-bd16-9219ec6bc46d",
   "metadata": {},
   "source": [
    "# Test 5: test with a more rare molecule "
   ]
  },
  {
   "cell_type": "code",
   "execution_count": 40,
   "id": "fed16794-63c4-4f71-b584-d72ae1f9b6d4",
   "metadata": {},
   "outputs": [],
   "source": [
    "mol = 'CCCCCc1cc(O)c2c(c1)OC(C)(C)C1CCC(C)=CC21'\n",
    "data_5 = pd.DataFrame(\n",
    "    {'molecule': mol,\n",
    "     'species': list(set(species_features_dummy.index)-set(sku[sku.structure_smiles_2D==mol].organism_name))}\n",
    ")"
   ]
  },
  {
   "cell_type": "code",
   "execution_count": 42,
   "id": "2972fb53-9f14-4175-994c-fa368f287568",
   "metadata": {},
   "outputs": [
    {
     "name": "stdout",
     "output_type": "stream",
     "text": [
      "Checking which model should be used for each row...\n",
      "Adding missing nodes to the graph...\n",
      "Converting NetwrokX to Stellargraph...\n",
      "StellarDiGraph: Directed multigraph\n",
      " Nodes: 184194, Edges: 869484\n",
      "\n",
      " Node types:\n",
      "  molecule: [147747]\n",
      "    Features: float32 vector, length 1051\n",
      "    Edge types: molecule-present_in->species\n",
      "  species: [36447]\n",
      "    Features: float32 vector, length 69\n",
      "    Edge types: species-has->molecule\n",
      "\n",
      " Edge types:\n",
      "    species-has->molecule: [434742]\n",
      "        Weights: all 1 (default)\n",
      "        Features: none\n",
      "    molecule-present_in->species: [434742]\n",
      "        Weights: all 1 (default)\n",
      "        Features: none\n",
      "Creating 'forward', 'backward' flow for KNOWN molecule AND species...\n",
      "Predict both : running 'forward' predictions\n",
      "36/36 [==============================] - 9s 259ms/step\n",
      "36/36 [==============================] - 6s 159ms/step\n",
      "36/36 [==============================] - 6s 160ms/step\n",
      "36/36 [==============================] - 6s 163ms/step\n",
      "36/36 [==============================] - 6s 159ms/step\n",
      "36/36 [==============================] - 8s 235ms/step\n",
      "36/36 [==============================] - 6s 159ms/step\n",
      "Predict both : running backward prediction...\n",
      "36/36 [==============================] - 6s 170ms/step\n",
      "36/36 [==============================] - 6s 162ms/step\n",
      "36/36 [==============================] - 6s 165ms/step\n",
      "36/36 [==============================] - 9s 252ms/step\n",
      "36/36 [==============================] - 6s 170ms/step\n",
      "36/36 [==============================] - 6s 166ms/step\n",
      "36/36 [==============================] - 6s 165ms/step\n"
     ]
    }
   ],
   "source": [
    "out_5 = predict(g_lotus, model_m_to_s, model_s_to_m,\n",
    "                data_5,\n",
    "                molecule_features_dummy,\n",
    "                species_features_dummy\n",
    "               )"
   ]
  },
  {
   "cell_type": "code",
   "execution_count": 45,
   "id": "836c7502-43f7-477e-a2b5-b533cee5b05a",
   "metadata": {},
   "outputs": [
    {
     "data": {
      "text/plain": [
       "(array([1.6963e+04, 2.7290e+03, 1.6320e+03, 1.1290e+03, 8.8100e+02,\n",
       "        7.2800e+02, 5.9200e+02, 4.8400e+02, 4.5000e+02, 4.1100e+02,\n",
       "        3.6300e+02, 3.6000e+02, 3.2500e+02, 2.8700e+02, 2.7200e+02,\n",
       "        2.3800e+02, 2.2400e+02, 2.4200e+02, 1.9600e+02, 1.9400e+02,\n",
       "        1.8300e+02, 1.7800e+02, 1.8500e+02, 2.0500e+02, 1.8600e+02,\n",
       "        1.7900e+02, 1.4300e+02, 1.6300e+02, 1.4100e+02, 1.2600e+02,\n",
       "        1.3100e+02, 1.5000e+02, 1.2800e+02, 1.2200e+02, 1.1600e+02,\n",
       "        1.1400e+02, 1.1800e+02, 1.3100e+02, 1.0900e+02, 1.1100e+02,\n",
       "        8.2000e+01, 9.9000e+01, 9.5000e+01, 9.2000e+01, 9.0000e+01,\n",
       "        9.1000e+01, 7.8000e+01, 9.3000e+01, 8.2000e+01, 8.0000e+01,\n",
       "        7.6000e+01, 7.4000e+01, 7.0000e+01, 7.1000e+01, 9.0000e+01,\n",
       "        6.9000e+01, 6.1000e+01, 6.5000e+01, 6.7000e+01, 6.4000e+01,\n",
       "        6.9000e+01, 5.6000e+01, 6.4000e+01, 6.5000e+01, 5.9000e+01,\n",
       "        4.7000e+01, 3.5000e+01, 5.7000e+01, 4.9000e+01, 5.7000e+01,\n",
       "        4.6000e+01, 5.3000e+01, 5.8000e+01, 3.3000e+01, 4.8000e+01,\n",
       "        4.1000e+01, 5.0000e+01, 4.1000e+01, 3.5000e+01, 4.4000e+01,\n",
       "        4.1000e+01, 4.4000e+01, 5.0000e+01, 5.1000e+01, 2.8000e+01,\n",
       "        4.7000e+01, 5.0000e+01, 3.1000e+01, 4.3000e+01, 3.8000e+01,\n",
       "        3.5000e+01, 4.3000e+01, 2.4000e+01, 3.0000e+01, 3.2000e+01,\n",
       "        3.6000e+01, 2.5000e+01, 2.8000e+01, 3.2000e+01, 2.6000e+01,\n",
       "        2.8000e+01, 2.7000e+01, 3.2000e+01, 1.8000e+01, 2.8000e+01,\n",
       "        2.9000e+01, 2.3000e+01, 2.9000e+01, 1.9000e+01, 2.7000e+01,\n",
       "        2.8000e+01, 2.3000e+01, 2.3000e+01, 2.1000e+01, 2.2000e+01,\n",
       "        1.7000e+01, 2.7000e+01, 1.7000e+01, 3.2000e+01, 2.3000e+01,\n",
       "        1.4000e+01, 2.1000e+01, 1.2000e+01, 2.5000e+01, 2.5000e+01,\n",
       "        1.2000e+01, 2.5000e+01, 1.4000e+01, 1.5000e+01, 2.1000e+01,\n",
       "        1.4000e+01, 1.6000e+01, 1.5000e+01, 2.2000e+01, 1.6000e+01,\n",
       "        2.0000e+01, 2.3000e+01, 1.6000e+01, 2.3000e+01, 1.7000e+01,\n",
       "        1.9000e+01, 2.3000e+01, 1.9000e+01, 1.5000e+01, 1.7000e+01,\n",
       "        1.8000e+01, 1.8000e+01, 1.7000e+01, 1.5000e+01, 1.2000e+01,\n",
       "        2.5000e+01, 1.6000e+01, 2.0000e+01, 1.8000e+01, 1.8000e+01,\n",
       "        1.6000e+01, 1.3000e+01, 1.0000e+01, 1.4000e+01, 1.4000e+01,\n",
       "        1.3000e+01, 1.1000e+01, 1.1000e+01, 8.0000e+00, 1.4000e+01,\n",
       "        8.0000e+00, 1.3000e+01, 1.3000e+01, 1.3000e+01, 1.3000e+01,\n",
       "        1.5000e+01, 1.4000e+01, 7.0000e+00, 1.1000e+01, 5.0000e+00,\n",
       "        1.0000e+01, 1.1000e+01, 5.0000e+00, 6.0000e+00, 9.0000e+00,\n",
       "        8.0000e+00, 7.0000e+00, 3.0000e+00, 1.0000e+01, 6.0000e+00,\n",
       "        6.0000e+00, 1.0000e+01, 8.0000e+00, 3.0000e+00, 3.0000e+00,\n",
       "        6.0000e+00, 2.0000e+00, 3.0000e+00, 5.0000e+00, 1.0000e+00,\n",
       "        2.0000e+00, 3.0000e+00, 3.0000e+00, 0.0000e+00, 1.0000e+00]),\n",
       " array([3.63614063e-08, 4.89569527e-03, 9.79135418e-03, 1.46870131e-02,\n",
       "        1.95826720e-02, 2.44783309e-02, 2.93739898e-02, 3.42696487e-02,\n",
       "        3.91653076e-02, 4.40609665e-02, 4.89566254e-02, 5.38522843e-02,\n",
       "        5.87479432e-02, 6.36436022e-02, 6.85392611e-02, 7.34349200e-02,\n",
       "        7.83305789e-02, 8.32262378e-02, 8.81218967e-02, 9.30175556e-02,\n",
       "        9.79132145e-02, 1.02808873e-01, 1.07704532e-01, 1.12600191e-01,\n",
       "        1.17495850e-01, 1.22391509e-01, 1.27287168e-01, 1.32182827e-01,\n",
       "        1.37078486e-01, 1.41974145e-01, 1.46869804e-01, 1.51765462e-01,\n",
       "        1.56661121e-01, 1.61556780e-01, 1.66452439e-01, 1.71348098e-01,\n",
       "        1.76243757e-01, 1.81139416e-01, 1.86035075e-01, 1.90930734e-01,\n",
       "        1.95826393e-01, 2.00722052e-01, 2.05617710e-01, 2.10513369e-01,\n",
       "        2.15409028e-01, 2.20304687e-01, 2.25200346e-01, 2.30096005e-01,\n",
       "        2.34991664e-01, 2.39887323e-01, 2.44782982e-01, 2.49678641e-01,\n",
       "        2.54574300e-01, 2.59469958e-01, 2.64365617e-01, 2.69261276e-01,\n",
       "        2.74156935e-01, 2.79052594e-01, 2.83948253e-01, 2.88843912e-01,\n",
       "        2.93739571e-01, 2.98635230e-01, 3.03530889e-01, 3.08426548e-01,\n",
       "        3.13322206e-01, 3.18217865e-01, 3.23113524e-01, 3.28009183e-01,\n",
       "        3.32904842e-01, 3.37800501e-01, 3.42696160e-01, 3.47591819e-01,\n",
       "        3.52487478e-01, 3.57383137e-01, 3.62278796e-01, 3.67174454e-01,\n",
       "        3.72070113e-01, 3.76965772e-01, 3.81861431e-01, 3.86757090e-01,\n",
       "        3.91652749e-01, 3.96548408e-01, 4.01444067e-01, 4.06339726e-01,\n",
       "        4.11235385e-01, 4.16131043e-01, 4.21026702e-01, 4.25922361e-01,\n",
       "        4.30818020e-01, 4.35713679e-01, 4.40609338e-01, 4.45504997e-01,\n",
       "        4.50400656e-01, 4.55296315e-01, 4.60191974e-01, 4.65087633e-01,\n",
       "        4.69983291e-01, 4.74878950e-01, 4.79774609e-01, 4.84670268e-01,\n",
       "        4.89565927e-01, 4.94461586e-01, 4.99357245e-01, 5.04252904e-01,\n",
       "        5.09148563e-01, 5.14044222e-01, 5.18939881e-01, 5.23835539e-01,\n",
       "        5.28731198e-01, 5.33626857e-01, 5.38522516e-01, 5.43418175e-01,\n",
       "        5.48313834e-01, 5.53209493e-01, 5.58105152e-01, 5.63000811e-01,\n",
       "        5.67896470e-01, 5.72792129e-01, 5.77687787e-01, 5.82583446e-01,\n",
       "        5.87479105e-01, 5.92374764e-01, 5.97270423e-01, 6.02166082e-01,\n",
       "        6.07061741e-01, 6.11957400e-01, 6.16853059e-01, 6.21748718e-01,\n",
       "        6.26644376e-01, 6.31540035e-01, 6.36435694e-01, 6.41331353e-01,\n",
       "        6.46227012e-01, 6.51122671e-01, 6.56018330e-01, 6.60913989e-01,\n",
       "        6.65809648e-01, 6.70705307e-01, 6.75600966e-01, 6.80496624e-01,\n",
       "        6.85392283e-01, 6.90287942e-01, 6.95183601e-01, 7.00079260e-01,\n",
       "        7.04974919e-01, 7.09870578e-01, 7.14766237e-01, 7.19661896e-01,\n",
       "        7.24557555e-01, 7.29453214e-01, 7.34348872e-01, 7.39244531e-01,\n",
       "        7.44140190e-01, 7.49035849e-01, 7.53931508e-01, 7.58827167e-01,\n",
       "        7.63722826e-01, 7.68618485e-01, 7.73514144e-01, 7.78409803e-01,\n",
       "        7.83305462e-01, 7.88201120e-01, 7.93096779e-01, 7.97992438e-01,\n",
       "        8.02888097e-01, 8.07783756e-01, 8.12679415e-01, 8.17575074e-01,\n",
       "        8.22470733e-01, 8.27366392e-01, 8.32262051e-01, 8.37157710e-01,\n",
       "        8.42053368e-01, 8.46949027e-01, 8.51844686e-01, 8.56740345e-01,\n",
       "        8.61636004e-01, 8.66531663e-01, 8.71427322e-01, 8.76322981e-01,\n",
       "        8.81218640e-01, 8.86114299e-01, 8.91009957e-01, 8.95905616e-01,\n",
       "        9.00801275e-01, 9.05696934e-01, 9.10592593e-01, 9.15488252e-01,\n",
       "        9.20383911e-01, 9.25279570e-01, 9.30175229e-01, 9.35070888e-01,\n",
       "        9.39966547e-01, 9.44862205e-01, 9.49757864e-01, 9.54653523e-01,\n",
       "        9.59549182e-01, 9.64444841e-01, 9.69340500e-01, 9.74236159e-01,\n",
       "        9.79131818e-01]),\n",
       " <BarContainer object of 200 artists>)"
      ]
     },
     "execution_count": 45,
     "metadata": {},
     "output_type": "execute_result"
    },
    {
     "data": {
      "image/png": "[encoded data removed]",
      "text/plain": [
       "<Figure size 640x480 with 1 Axes>"
      ]
     },
     "metadata": {},
     "output_type": "display_data"
    }
   ],
   "source": [
    "plt.hist(out_5.prob, bins=200)"
   ]
  },
  {
   "cell_type": "code",
   "execution_count": 49,
   "id": "51025381-012f-4de4-bc91-84682a825583",
   "metadata": {},
   "outputs": [
    {
     "data": {
      "text/html": [
       "<div>\n",
       "<style scoped>\n",
       "    .dataframe tbody tr th:only-of-type {\n",
       "        vertical-align: middle;\n",
       "    }\n",
       "\n",
       "    .dataframe tbody tr th {\n",
       "        vertical-align: top;\n",
       "    }\n",
       "\n",
       "    .dataframe thead th {\n",
       "        text-align: right;\n",
       "    }\n",
       "</style>\n",
       "<table border=\"1\" class=\"dataframe\">\n",
       "  <thead>\n",
       "    <tr style=\"text-align: right;\">\n",
       "      <th></th>\n",
       "      <th>molecule</th>\n",
       "      <th>species</th>\n",
       "      <th>model</th>\n",
       "      <th>prob</th>\n",
       "    </tr>\n",
       "  </thead>\n",
       "  <tbody>\n",
       "  </tbody>\n",
       "</table>\n",
       "</div>"
      ],
      "text/plain": [
       "Empty DataFrame\n",
       "Columns: [molecule, species, model, prob]\n",
       "Index: []"
      ]
     },
     "execution_count": 49,
     "metadata": {},
     "output_type": "execute_result"
    }
   ],
   "source": [
    "out_5[out_5.prob>0.98]"
   ]
  }
 ],
 "metadata": {
  "kernelspec": {
   "display_name": "Python 3 (ipykernel)",
   "language": "python",
   "name": "python3"
  },
  "language_info": {
   "codemirror_mode": {
    "name": "ipython",
    "version": 3
   },
   "file_extension": ".py",
   "mimetype": "text/x-python",
   "name": "python",
   "nbconvert_exporter": "python",
   "pygments_lexer": "ipython3",
   "version": "3.11.4"
  }
 },
 "nbformat": 4,
 "nbformat_minor": 5
}
