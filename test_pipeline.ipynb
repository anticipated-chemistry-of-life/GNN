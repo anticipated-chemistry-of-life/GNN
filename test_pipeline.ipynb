{
 "cells": [
  {
   "cell_type": "code",
   "execution_count": 9,
   "id": "dd82b030",
   "metadata": {},
   "outputs": [],
   "source": [
    "import os\n",
    "os.environ['TF_CPP_MIN_LOG_LEVEL'] = '3' \n",
    "import pandas as pd\n",
    "import networkx as nx\n",
    "import tensorflow as tf\n",
    "import numpy as np\n",
    "from utils import predict"
   ]
  },
  {
   "cell_type": "code",
   "execution_count": 10,
   "id": "22b4252c",
   "metadata": {},
   "outputs": [],
   "source": [
    "species_features_dummy = pd.read_csv(\"./data/species_features.csv.gz\", index_col=0)\n",
    "molecule_features_dummy = pd.read_csv(\"./data/molecule_features.csv.gz\", index_col=0).astype(\"int8\")\n",
    "df_agg = pd.read_csv(\"./data/lotus_agg_test.csv.gz\", index_col=0)"
   ]
  },
  {
   "cell_type": "code",
   "execution_count": 11,
   "id": "2cf17209-3a1c-4859-878d-ff899b357228",
   "metadata": {},
   "outputs": [],
   "source": [
    "rdkit = pd.read_csv(\"./data/mol_dummy_rdkit.csv.gz\", index_col=0).astype('int8')\n",
    "molecule_features_dummy = molecule_features_dummy.merge(rdkit,\n",
    "                                                        left_index=True,\n",
    "                                                        right_index=True)"
   ]
  },
  {
   "cell_type": "code",
   "execution_count": 12,
   "id": "11cae12e",
   "metadata": {},
   "outputs": [],
   "source": [
    "g_train = nx.read_graphml(\"./graph/train_graph.gml\")\n",
    "g = nx.read_graphml(\"./graph/test_graph.gml\")\n",
    "g  = nx.create_empty_copy(g)\n",
    "g_merged = nx.compose(g_train, g)"
   ]
  },
  {
   "cell_type": "code",
   "execution_count": 13,
   "id": "8e5d4874",
   "metadata": {},
   "outputs": [],
   "source": [
    "df_agg_train = pd.read_csv(\"./data/lotus_agg_train.csv.gz\", index_col=0)"
   ]
  },
  {
   "cell_type": "code",
   "execution_count": 14,
   "id": "f44d4b96",
   "metadata": {},
   "outputs": [],
   "source": [
    "species_feat = species_features_dummy[species_features_dummy.index.isin(df_agg.organism_name)]\n",
    "molecule_feat = molecule_features_dummy[molecule_features_dummy.index.isin(df_agg.structure_smiles_2D)]"
   ]
  },
  {
   "cell_type": "code",
   "execution_count": 15,
   "id": "388ae58d",
   "metadata": {},
   "outputs": [],
   "source": [
    "species_unique_to_test_set = df_agg[~df_agg.organism_name.isin(df_agg_train.organism_name)]\n",
    "molecules_unique_to_test_set = df_agg[~df_agg.structure_smiles_2D.isin(df_agg_train.structure_smiles_2D)]"
   ]
  },
  {
   "cell_type": "code",
   "execution_count": 16,
   "id": "b783b50e",
   "metadata": {},
   "outputs": [],
   "source": [
    "model_m_to_s = tf.keras.models.load_model(\"./model/gbif_batch_128_layer_1024_m_to_s\", compile=True)\n",
    "model_s_to_m = tf.keras.models.load_model(\"./model/gbif_batch_128_layer_1024_s_to_m\", compile=True)"
   ]
  },
  {
   "cell_type": "code",
   "execution_count": 17,
   "id": "6b9dc475",
   "metadata": {},
   "outputs": [],
   "source": [
    "data = pd.DataFrame(df_agg[['structure_smiles_2D', 'organism_name']].to_numpy(),\n",
    "                    columns=['molecule', 'species'])"
   ]
  },
  {
   "cell_type": "code",
   "execution_count": 18,
   "id": "85e69f29",
   "metadata": {
    "scrolled": true
   },
   "outputs": [],
   "source": [
    "#out = predict(g_train, model_m_to_s, model_s_to_m, data, molecule_features_dummy, species_features_dummy)"
   ]
  },
  {
   "cell_type": "code",
   "execution_count": 19,
   "id": "c2aff448",
   "metadata": {},
   "outputs": [
    {
     "ename": "NameError",
     "evalue": "name 'out' is not defined",
     "output_type": "error",
     "traceback": [
      "\u001b[0;31m---------------------------------------------------------------------------\u001b[0m",
      "\u001b[0;31mNameError\u001b[0m                                 Traceback (most recent call last)",
      "Cell \u001b[0;32mIn[19], line 2\u001b[0m\n\u001b[1;32m      1\u001b[0m \u001b[39mimport\u001b[39;00m \u001b[39mmatplotlib\u001b[39;00m\u001b[39m.\u001b[39;00m\u001b[39mpyplot\u001b[39;00m \u001b[39mas\u001b[39;00m \u001b[39mplt\u001b[39;00m\n\u001b[0;32m----> 2\u001b[0m plt\u001b[39m.\u001b[39mhist(out\u001b[39m.\u001b[39mprob)\n",
      "\u001b[0;31mNameError\u001b[0m: name 'out' is not defined"
     ]
    }
   ],
   "source": [
    "import matplotlib.pyplot as plt\n",
    "plt.hist(out.prob)"
   ]
  },
  {
   "cell_type": "code",
   "execution_count": null,
   "id": "219da5be",
   "metadata": {},
   "outputs": [],
   "source": [
    "sum(out.prob>0.5)/len(out)"
   ]
  },
  {
   "cell_type": "code",
   "execution_count": null,
   "id": "f6e600ac",
   "metadata": {},
   "outputs": [],
   "source": [
    "out[out.model!='both_known']"
   ]
  },
  {
   "cell_type": "code",
   "execution_count": null,
   "id": "165ba24d-4d19-4b3f-bfb4-d0bd8f4d8f31",
   "metadata": {},
   "outputs": [],
   "source": [
    "data_2 = pd.DataFrame(\n",
    "    molecules_unique_to_test_set[['organism_name', 'structure_smiles_2D']].values,\n",
    "    columns=['species', 'molecule'])"
   ]
  },
  {
   "cell_type": "code",
   "execution_count": null,
   "id": "0e44eb3e-d121-49da-9dcc-c7d2127cd59d",
   "metadata": {},
   "outputs": [],
   "source": [
    "data_2"
   ]
  },
  {
   "cell_type": "code",
   "execution_count": null,
   "id": "02e2cabd-167b-4174-b3f6-ad3c4a7d26c1",
   "metadata": {
    "scrolled": true
   },
   "outputs": [],
   "source": [
    "out_2 = predict(g_train, model_m_to_s, model_s_to_m,\n",
    "                data_2,\n",
    "                molecule_features_dummy,\n",
    "                species_features_dummy\n",
    "               )"
   ]
  },
  {
   "cell_type": "code",
   "execution_count": null,
   "id": "257af5ec-a637-4627-b9ad-89feb4478d0f",
   "metadata": {
    "scrolled": true
   },
   "outputs": [],
   "source": [
    "plt.hist(out_2.prob)"
   ]
  },
  {
   "cell_type": "code",
   "execution_count": 20,
   "id": "caf69736-4ee4-431d-8ec2-445ecbc54965",
   "metadata": {},
   "outputs": [],
   "source": [
    "g_test = nx.read_graphml(\"./graph/test_graph.gml\")\n",
    "g_lotus = nx.compose(g_train, g_test)"
   ]
  },
  {
   "cell_type": "code",
   "execution_count": 21,
   "id": "b621a031-84d2-4cd3-9e1d-877ee2c2b18a",
   "metadata": {},
   "outputs": [],
   "source": [
    "sku = pd.concat([df_agg, df_agg_train])"
   ]
  },
  {
   "cell_type": "code",
   "execution_count": 124,
   "id": "5fc7b573-ebc1-478a-8809-8e67592a49fb",
   "metadata": {},
   "outputs": [],
   "source": [
    "sp = 'Fuligo septica'\n",
    "data_3 = pd.DataFrame(\n",
    "    {'molecule': list(set(molecule_features_dummy.index)-set(sku[sku.organism_name==sp].structure_smiles_2D)),\n",
    "     'species': sp})"
   ]
  },
  {
   "cell_type": "code",
   "execution_count": 125,
   "id": "f8561910-539d-4faf-b27c-0a3af77acdc3",
   "metadata": {},
   "outputs": [
    {
     "data": {
      "text/html": [
       "<div>\n",
       "<style scoped>\n",
       "    .dataframe tbody tr th:only-of-type {\n",
       "        vertical-align: middle;\n",
       "    }\n",
       "\n",
       "    .dataframe tbody tr th {\n",
       "        vertical-align: top;\n",
       "    }\n",
       "\n",
       "    .dataframe thead th {\n",
       "        text-align: right;\n",
       "    }\n",
       "</style>\n",
       "<table border=\"1\" class=\"dataframe\">\n",
       "  <thead>\n",
       "    <tr style=\"text-align: right;\">\n",
       "      <th></th>\n",
       "      <th>molecule</th>\n",
       "      <th>species</th>\n",
       "    </tr>\n",
       "  </thead>\n",
       "  <tbody>\n",
       "    <tr>\n",
       "      <th>0</th>\n",
       "      <td>CCCCCCCCC=CCCCCCCCCCCCCCCCCCCC</td>\n",
       "      <td>Fuligo septica</td>\n",
       "    </tr>\n",
       "    <tr>\n",
       "      <th>1</th>\n",
       "      <td>CC1=CCC(C(C)C)=CC2C(C)CCC12</td>\n",
       "      <td>Fuligo septica</td>\n",
       "    </tr>\n",
       "    <tr>\n",
       "      <th>2</th>\n",
       "      <td>CC(=O)Oc1cccc2c1C(=O)c1c(c(O)c3cc(C(C)OC(C)=O)...</td>\n",
       "      <td>Fuligo septica</td>\n",
       "    </tr>\n",
       "    <tr>\n",
       "      <th>3</th>\n",
       "      <td>c1ccc(CCc2ccc(Cc3ccccc3)o2)cc1</td>\n",
       "      <td>Fuligo septica</td>\n",
       "    </tr>\n",
       "    <tr>\n",
       "      <th>4</th>\n",
       "      <td>CC1C=C2OC3CC4OC(=O)C=CC=CC56OCCC(=CC(=O)OCC2(C...</td>\n",
       "      <td>Fuligo septica</td>\n",
       "    </tr>\n",
       "    <tr>\n",
       "      <th>...</th>\n",
       "      <td>...</td>\n",
       "      <td>...</td>\n",
       "    </tr>\n",
       "    <tr>\n",
       "      <th>147734</th>\n",
       "      <td>COc1ccc2c(=O)cc(-c3ccc(O)cc3)oc2c1</td>\n",
       "      <td>Fuligo septica</td>\n",
       "    </tr>\n",
       "    <tr>\n",
       "      <th>147735</th>\n",
       "      <td>COc1c(Cl)cc(Cl)cc1C(=O)c1[nH]c(Cl)c(Cl)c1Cl</td>\n",
       "      <td>Fuligo septica</td>\n",
       "    </tr>\n",
       "    <tr>\n",
       "      <th>147736</th>\n",
       "      <td>CC(=O)NC(C)(C)C(=O)NC(CC(N)=O)C(=O)NC(CC(C)C)C...</td>\n",
       "      <td>Fuligo septica</td>\n",
       "    </tr>\n",
       "    <tr>\n",
       "      <th>147737</th>\n",
       "      <td>COC(=O)CC1CC2C(C=CC23Oc2cccc4cccc(c24)O3)O1</td>\n",
       "      <td>Fuligo septica</td>\n",
       "    </tr>\n",
       "    <tr>\n",
       "      <th>147738</th>\n",
       "      <td>COC(=O)NC1C(C)OC(OC2CC=C(C)C3C=CC4C(OC5CC(OC6C...</td>\n",
       "      <td>Fuligo septica</td>\n",
       "    </tr>\n",
       "  </tbody>\n",
       "</table>\n",
       "<p>147739 rows × 2 columns</p>\n",
       "</div>"
      ],
      "text/plain": [
       "                                                 molecule         species\n",
       "0                          CCCCCCCCC=CCCCCCCCCCCCCCCCCCCC  Fuligo septica\n",
       "1                             CC1=CCC(C(C)C)=CC2C(C)CCC12  Fuligo septica\n",
       "2       CC(=O)Oc1cccc2c1C(=O)c1c(c(O)c3cc(C(C)OC(C)=O)...  Fuligo septica\n",
       "3                          c1ccc(CCc2ccc(Cc3ccccc3)o2)cc1  Fuligo septica\n",
       "4       CC1C=C2OC3CC4OC(=O)C=CC=CC56OCCC(=CC(=O)OCC2(C...  Fuligo septica\n",
       "...                                                   ...             ...\n",
       "147734                 COc1ccc2c(=O)cc(-c3ccc(O)cc3)oc2c1  Fuligo septica\n",
       "147735        COc1c(Cl)cc(Cl)cc1C(=O)c1[nH]c(Cl)c(Cl)c1Cl  Fuligo septica\n",
       "147736  CC(=O)NC(C)(C)C(=O)NC(CC(N)=O)C(=O)NC(CC(C)C)C...  Fuligo septica\n",
       "147737        COC(=O)CC1CC2C(C=CC23Oc2cccc4cccc(c24)O3)O1  Fuligo septica\n",
       "147738  COC(=O)NC1C(C)OC(OC2CC=C(C)C3C=CC4C(OC5CC(OC6C...  Fuligo septica\n",
       "\n",
       "[147739 rows x 2 columns]"
      ]
     },
     "execution_count": 125,
     "metadata": {},
     "output_type": "execute_result"
    }
   ],
   "source": [
    "data_3"
   ]
  },
  {
   "cell_type": "code",
   "execution_count": 126,
   "id": "ece87642-d128-4573-840f-4402e5ed1a8f",
   "metadata": {},
   "outputs": [
    {
     "name": "stdout",
     "output_type": "stream",
     "text": [
      "Checking which model should be used for each row...\n",
      "Adding missing nodes to the graph...\n",
      "Converting NetworkX to Stellargraph...\n",
      "StellarDiGraph: Directed multigraph\n",
      " Nodes: 184194, Edges: 869484\n",
      "\n",
      " Node types:\n",
      "  molecule: [147747]\n",
      "    Features: float32 vector, length 1051\n",
      "    Edge types: molecule-present_in->species\n",
      "  species: [36447]\n",
      "    Features: float32 vector, length 69\n",
      "    Edge types: species-has->molecule\n",
      "\n",
      " Edge types:\n",
      "    species-has->molecule: [434742]\n",
      "        Weights: all 1 (default)\n",
      "        Features: none\n",
      "    molecule-present_in->species: [434742]\n",
      "        Weights: all 1 (default)\n",
      "        Features: none\n",
      "Creating 'forward', 'backward' flow for KNOWN molecule AND species...\n",
      "Predict both : running 'forward' predictions\n",
      "145/145 [==============================] - 11s 76ms/step\n",
      "145/145 [==============================] - 11s 74ms/step\n",
      "145/145 [==============================] - 11s 74ms/step\n",
      "145/145 [==============================] - 9s 63ms/step\n",
      "145/145 [==============================] - 11s 75ms/step\n",
      "145/145 [==============================] - 11s 75ms/step\n",
      "145/145 [==============================] - 9s 63ms/step\n",
      "Predict both : running backward prediction...\n",
      "145/145 [==============================] - 11s 64ms/step\n",
      "145/145 [==============================] - 11s 75ms/step\n",
      "145/145 [==============================] - 11s 75ms/step\n",
      "145/145 [==============================] - 9s 63ms/step\n",
      "145/145 [==============================] - 11s 75ms/step\n",
      "145/145 [==============================] - 11s 75ms/step\n",
      "145/145 [==============================] - 9s 64ms/step\n"
     ]
    }
   ],
   "source": [
    "out_3 = predict(g_lotus, model_m_to_s, model_s_to_m,\n",
    "                data_3,\n",
    "                molecule_features_dummy,\n",
    "                species_features_dummy\n",
    "               )"
   ]
  },
  {
   "cell_type": "code",
   "execution_count": 127,
   "id": "b0b2542e-59cc-46eb-a413-3b75f40a5e2f",
   "metadata": {},
   "outputs": [
    {
     "data": {
      "text/plain": [
       "(array([5.3229e+04, 9.1130e+03, 5.4850e+03, 4.0590e+03, 3.2740e+03,\n",
       "        2.7630e+03, 2.3480e+03, 2.1780e+03, 1.9770e+03, 1.8420e+03,\n",
       "        1.7560e+03, 1.7160e+03, 1.5100e+03, 1.4510e+03, 1.3960e+03,\n",
       "        1.3120e+03, 1.3030e+03, 1.1880e+03, 1.1470e+03, 1.0610e+03,\n",
       "        1.0270e+03, 1.0210e+03, 9.7200e+02, 9.4500e+02, 9.1200e+02,\n",
       "        8.8800e+02, 8.7400e+02, 7.9100e+02, 7.8300e+02, 7.4000e+02,\n",
       "        6.7100e+02, 7.2300e+02, 7.3900e+02, 6.1000e+02, 6.2100e+02,\n",
       "        6.3700e+02, 6.6600e+02, 6.5500e+02, 5.9300e+02, 5.8500e+02,\n",
       "        5.1100e+02, 5.3300e+02, 4.9100e+02, 4.9600e+02, 4.9500e+02,\n",
       "        4.8600e+02, 4.9700e+02, 4.8500e+02, 4.4600e+02, 4.1500e+02,\n",
       "        4.1600e+02, 4.2400e+02, 4.5000e+02, 3.7500e+02, 4.2000e+02,\n",
       "        3.8300e+02, 4.1600e+02, 3.8900e+02, 3.4100e+02, 3.8200e+02,\n",
       "        3.7800e+02, 3.6100e+02, 3.8300e+02, 3.3500e+02, 3.4500e+02,\n",
       "        3.3500e+02, 3.1600e+02, 3.3000e+02, 3.0000e+02, 3.2900e+02,\n",
       "        3.4900e+02, 3.2800e+02, 3.2900e+02, 3.0100e+02, 3.2300e+02,\n",
       "        3.3700e+02, 3.2600e+02, 3.2200e+02, 3.0700e+02, 2.6100e+02,\n",
       "        2.8700e+02, 2.9400e+02, 2.9900e+02, 2.9700e+02, 3.1300e+02,\n",
       "        3.0900e+02, 3.5000e+02, 2.9700e+02, 3.2200e+02, 2.9300e+02,\n",
       "        3.3000e+02, 2.8900e+02, 2.9200e+02, 3.1500e+02, 3.3900e+02,\n",
       "        3.0700e+02, 2.9200e+02, 3.0900e+02, 3.0200e+02, 3.1800e+02,\n",
       "        3.0800e+02, 2.6500e+02, 2.7100e+02, 2.6100e+02, 2.6500e+02,\n",
       "        2.1900e+02, 2.2800e+02, 2.1900e+02, 2.4300e+02, 2.1800e+02,\n",
       "        1.9600e+02, 1.9700e+02, 1.9900e+02, 1.9100e+02, 1.6200e+02,\n",
       "        1.6500e+02, 1.8200e+02, 1.8600e+02, 1.5100e+02, 1.5000e+02,\n",
       "        1.4700e+02, 1.1600e+02, 1.4200e+02, 1.2400e+02, 1.3100e+02,\n",
       "        1.2900e+02, 1.2900e+02, 1.4600e+02, 1.3700e+02, 1.4700e+02,\n",
       "        1.5500e+02, 1.0700e+02, 1.2300e+02, 1.2700e+02, 1.2300e+02,\n",
       "        1.1000e+02, 1.1900e+02, 9.2000e+01, 1.2300e+02, 9.9000e+01,\n",
       "        1.0500e+02, 1.0100e+02, 9.1000e+01, 1.0300e+02, 8.3000e+01,\n",
       "        1.0200e+02, 9.5000e+01, 9.9000e+01, 8.3000e+01, 1.0200e+02,\n",
       "        1.0300e+02, 9.2000e+01, 7.8000e+01, 8.4000e+01, 9.7000e+01,\n",
       "        7.5000e+01, 7.4000e+01, 8.2000e+01, 9.4000e+01, 7.9000e+01,\n",
       "        9.0000e+01, 7.3000e+01, 8.3000e+01, 7.5000e+01, 6.5000e+01,\n",
       "        7.0000e+01, 5.7000e+01, 6.9000e+01, 6.0000e+01, 6.1000e+01,\n",
       "        6.9000e+01, 5.4000e+01, 5.8000e+01, 4.9000e+01, 5.3000e+01,\n",
       "        4.4000e+01, 5.1000e+01, 4.8000e+01, 5.8000e+01, 4.3000e+01,\n",
       "        4.8000e+01, 4.0000e+01, 3.7000e+01, 4.5000e+01, 4.1000e+01,\n",
       "        4.4000e+01, 4.1000e+01, 3.4000e+01, 4.1000e+01, 3.8000e+01,\n",
       "        3.4000e+01, 2.9000e+01, 3.4000e+01, 3.0000e+01, 3.1000e+01,\n",
       "        3.5000e+01, 3.6000e+01, 2.6000e+01, 3.8000e+01, 2.2000e+01]),\n",
       " array([2.47191974e-06, 4.99982563e-03, 9.99717934e-03, 1.49945331e-02,\n",
       "        1.99918868e-02, 2.49892405e-02, 2.99865942e-02, 3.49839479e-02,\n",
       "        3.99813016e-02, 4.49786553e-02, 4.99760090e-02, 5.49733627e-02,\n",
       "        5.99707165e-02, 6.49680702e-02, 6.99654239e-02, 7.49627776e-02,\n",
       "        7.99601313e-02, 8.49574850e-02, 8.99548387e-02, 9.49521924e-02,\n",
       "        9.99495461e-02, 1.04946900e-01, 1.09944254e-01, 1.14941607e-01,\n",
       "        1.19938961e-01, 1.24936315e-01, 1.29933668e-01, 1.34931022e-01,\n",
       "        1.39928376e-01, 1.44925730e-01, 1.49923083e-01, 1.54920437e-01,\n",
       "        1.59917791e-01, 1.64915144e-01, 1.69912498e-01, 1.74909852e-01,\n",
       "        1.79907206e-01, 1.84904559e-01, 1.89901913e-01, 1.94899267e-01,\n",
       "        1.99896620e-01, 2.04893974e-01, 2.09891328e-01, 2.14888681e-01,\n",
       "        2.19886035e-01, 2.24883389e-01, 2.29880743e-01, 2.34878096e-01,\n",
       "        2.39875450e-01, 2.44872804e-01, 2.49870157e-01, 2.54867511e-01,\n",
       "        2.59864865e-01, 2.64862219e-01, 2.69859572e-01, 2.74856926e-01,\n",
       "        2.79854280e-01, 2.84851633e-01, 2.89848987e-01, 2.94846341e-01,\n",
       "        2.99843695e-01, 3.04841048e-01, 3.09838402e-01, 3.14835756e-01,\n",
       "        3.19833109e-01, 3.24830463e-01, 3.29827817e-01, 3.34825171e-01,\n",
       "        3.39822524e-01, 3.44819878e-01, 3.49817232e-01, 3.54814585e-01,\n",
       "        3.59811939e-01, 3.64809293e-01, 3.69806647e-01, 3.74804000e-01,\n",
       "        3.79801354e-01, 3.84798708e-01, 3.89796061e-01, 3.94793415e-01,\n",
       "        3.99790769e-01, 4.04788123e-01, 4.09785476e-01, 4.14782830e-01,\n",
       "        4.19780184e-01, 4.24777537e-01, 4.29774891e-01, 4.34772245e-01,\n",
       "        4.39769599e-01, 4.44766952e-01, 4.49764306e-01, 4.54761660e-01,\n",
       "        4.59759013e-01, 4.64756367e-01, 4.69753721e-01, 4.74751074e-01,\n",
       "        4.79748428e-01, 4.84745782e-01, 4.89743136e-01, 4.94740489e-01,\n",
       "        4.99737843e-01, 5.04735197e-01, 5.09732550e-01, 5.14729904e-01,\n",
       "        5.19727258e-01, 5.24724612e-01, 5.29721965e-01, 5.34719319e-01,\n",
       "        5.39716673e-01, 5.44714026e-01, 5.49711380e-01, 5.54708734e-01,\n",
       "        5.59706088e-01, 5.64703441e-01, 5.69700795e-01, 5.74698149e-01,\n",
       "        5.79695502e-01, 5.84692856e-01, 5.89690210e-01, 5.94687564e-01,\n",
       "        5.99684917e-01, 6.04682271e-01, 6.09679625e-01, 6.14676978e-01,\n",
       "        6.19674332e-01, 6.24671686e-01, 6.29669040e-01, 6.34666393e-01,\n",
       "        6.39663747e-01, 6.44661101e-01, 6.49658454e-01, 6.54655808e-01,\n",
       "        6.59653162e-01, 6.64650516e-01, 6.69647869e-01, 6.74645223e-01,\n",
       "        6.79642577e-01, 6.84639930e-01, 6.89637284e-01, 6.94634638e-01,\n",
       "        6.99631991e-01, 7.04629345e-01, 7.09626699e-01, 7.14624053e-01,\n",
       "        7.19621406e-01, 7.24618760e-01, 7.29616114e-01, 7.34613467e-01,\n",
       "        7.39610821e-01, 7.44608175e-01, 7.49605529e-01, 7.54602882e-01,\n",
       "        7.59600236e-01, 7.64597590e-01, 7.69594943e-01, 7.74592297e-01,\n",
       "        7.79589651e-01, 7.84587005e-01, 7.89584358e-01, 7.94581712e-01,\n",
       "        7.99579066e-01, 8.04576419e-01, 8.09573773e-01, 8.14571127e-01,\n",
       "        8.19568481e-01, 8.24565834e-01, 8.29563188e-01, 8.34560542e-01,\n",
       "        8.39557895e-01, 8.44555249e-01, 8.49552603e-01, 8.54549957e-01,\n",
       "        8.59547310e-01, 8.64544664e-01, 8.69542018e-01, 8.74539371e-01,\n",
       "        8.79536725e-01, 8.84534079e-01, 8.89531433e-01, 8.94528786e-01,\n",
       "        8.99526140e-01, 9.04523494e-01, 9.09520847e-01, 9.14518201e-01,\n",
       "        9.19515555e-01, 9.24512908e-01, 9.29510262e-01, 9.34507616e-01,\n",
       "        9.39504970e-01, 9.44502323e-01, 9.49499677e-01, 9.54497031e-01,\n",
       "        9.59494384e-01, 9.64491738e-01, 9.69489092e-01, 9.74486446e-01,\n",
       "        9.79483799e-01, 9.84481153e-01, 9.89478507e-01, 9.94475860e-01,\n",
       "        9.99473214e-01]),\n",
       " <BarContainer object of 200 artists>)"
      ]
     },
     "execution_count": 127,
     "metadata": {},
     "output_type": "execute_result"
    },
    {
     "data": {
      "image/png": "[encoded data removed]",
      "text/plain": [
       "<Figure size 640x480 with 1 Axes>"
      ]
     },
     "metadata": {},
     "output_type": "display_data"
    }
   ],
   "source": [
    "plt.hist(out_3.prob, bins=200)"
   ]
  },
  {
   "cell_type": "code",
   "execution_count": 131,
   "id": "fa442cb0-d3a1-4258-8a9e-bf52a01b36bf",
   "metadata": {
    "scrolled": true
   },
   "outputs": [],
   "source": [
    "fuligo = out_3[out_3.prob>0.9]\n"
   ]
  },
  {
   "cell_type": "code",
   "execution_count": 103,
   "id": "2893c1c2",
   "metadata": {},
   "outputs": [],
   "source": [
    "fuligo.to_csv('outputs/fuligo_anticipated_095.csv.gz', compression='gzip')"
   ]
  },
  {
   "cell_type": "markdown",
   "id": "78a27f69-5b8c-4009-9394-5bea552a957c",
   "metadata": {},
   "source": [
    "# Test 4: let's see if cholesterol is present \"everywhere\"\n"
   ]
  },
  {
   "cell_type": "code",
   "execution_count": 115,
   "id": "a7c99299-4484-4da2-b9ff-f6e1804d3ce4",
   "metadata": {},
   "outputs": [],
   "source": [
    "mol = 'COc1cc2c(O)c3c(c(-c4ccc5c(c4)OCO5)c2cc1OC)C(=O)OC3'\n",
    "data_4 = pd.DataFrame(\n",
    "    {'molecule': mol,\n",
    "     'species': list(set(species_features_dummy.index)-set(sku[sku.structure_smiles_2D==mol].organism_name))})"
   ]
  },
  {
   "cell_type": "code",
   "execution_count": 116,
   "id": "de1e3e18-021a-4a31-9070-45b76015030f",
   "metadata": {},
   "outputs": [
    {
     "data": {
      "text/html": [
       "<div>\n",
       "<style scoped>\n",
       "    .dataframe tbody tr th:only-of-type {\n",
       "        vertical-align: middle;\n",
       "    }\n",
       "\n",
       "    .dataframe tbody tr th {\n",
       "        vertical-align: top;\n",
       "    }\n",
       "\n",
       "    .dataframe thead th {\n",
       "        text-align: right;\n",
       "    }\n",
       "</style>\n",
       "<table border=\"1\" class=\"dataframe\">\n",
       "  <thead>\n",
       "    <tr style=\"text-align: right;\">\n",
       "      <th></th>\n",
       "      <th>molecule</th>\n",
       "      <th>species</th>\n",
       "    </tr>\n",
       "  </thead>\n",
       "  <tbody>\n",
       "    <tr>\n",
       "      <th>0</th>\n",
       "      <td>COc1cc2c(O)c3c(c(-c4ccc5c(c4)OCO5)c2cc1OC)C(=O...</td>\n",
       "      <td>Uncaria cordata</td>\n",
       "    </tr>\n",
       "    <tr>\n",
       "      <th>1</th>\n",
       "      <td>COc1cc2c(O)c3c(c(-c4ccc5c(c4)OCO5)c2cc1OC)C(=O...</td>\n",
       "      <td>Lomatogonium carinthiacum</td>\n",
       "    </tr>\n",
       "    <tr>\n",
       "      <th>2</th>\n",
       "      <td>COc1cc2c(O)c3c(c(-c4ccc5c(c4)OCO5)c2cc1OC)C(=O...</td>\n",
       "      <td>Luvunga angustifolia</td>\n",
       "    </tr>\n",
       "    <tr>\n",
       "      <th>3</th>\n",
       "      <td>COc1cc2c(O)c3c(c(-c4ccc5c(c4)OCO5)c2cc1OC)C(=O...</td>\n",
       "      <td>Acremonium</td>\n",
       "    </tr>\n",
       "    <tr>\n",
       "      <th>4</th>\n",
       "      <td>COc1cc2c(O)c3c(c(-c4ccc5c(c4)OCO5)c2cc1OC)C(=O...</td>\n",
       "      <td>Campylospermum sulcatum</td>\n",
       "    </tr>\n",
       "    <tr>\n",
       "      <th>...</th>\n",
       "      <td>...</td>\n",
       "      <td>...</td>\n",
       "    </tr>\n",
       "    <tr>\n",
       "      <th>36419</th>\n",
       "      <td>COc1cc2c(O)c3c(c(-c4ccc5c(c4)OCO5)c2cc1OC)C(=O...</td>\n",
       "      <td>Senecio bellidifolius</td>\n",
       "    </tr>\n",
       "    <tr>\n",
       "      <th>36420</th>\n",
       "      <td>COc1cc2c(O)c3c(c(-c4ccc5c(c4)OCO5)c2cc1OC)C(=O...</td>\n",
       "      <td>Lepidium subulatum</td>\n",
       "    </tr>\n",
       "    <tr>\n",
       "      <th>36421</th>\n",
       "      <td>COc1cc2c(O)c3c(c(-c4ccc5c(c4)OCO5)c2cc1OC)C(=O...</td>\n",
       "      <td>Stachys ocymastrum</td>\n",
       "    </tr>\n",
       "    <tr>\n",
       "      <th>36422</th>\n",
       "      <td>COc1cc2c(O)c3c(c(-c4ccc5c(c4)OCO5)c2cc1OC)C(=O...</td>\n",
       "      <td>Vismia lindeniana</td>\n",
       "    </tr>\n",
       "    <tr>\n",
       "      <th>36423</th>\n",
       "      <td>COc1cc2c(O)c3c(c(-c4ccc5c(c4)OCO5)c2cc1OC)C(=O...</td>\n",
       "      <td>Petrosedum sediforme</td>\n",
       "    </tr>\n",
       "  </tbody>\n",
       "</table>\n",
       "<p>36424 rows × 2 columns</p>\n",
       "</div>"
      ],
      "text/plain": [
       "                                                molecule  \\\n",
       "0      COc1cc2c(O)c3c(c(-c4ccc5c(c4)OCO5)c2cc1OC)C(=O...   \n",
       "1      COc1cc2c(O)c3c(c(-c4ccc5c(c4)OCO5)c2cc1OC)C(=O...   \n",
       "2      COc1cc2c(O)c3c(c(-c4ccc5c(c4)OCO5)c2cc1OC)C(=O...   \n",
       "3      COc1cc2c(O)c3c(c(-c4ccc5c(c4)OCO5)c2cc1OC)C(=O...   \n",
       "4      COc1cc2c(O)c3c(c(-c4ccc5c(c4)OCO5)c2cc1OC)C(=O...   \n",
       "...                                                  ...   \n",
       "36419  COc1cc2c(O)c3c(c(-c4ccc5c(c4)OCO5)c2cc1OC)C(=O...   \n",
       "36420  COc1cc2c(O)c3c(c(-c4ccc5c(c4)OCO5)c2cc1OC)C(=O...   \n",
       "36421  COc1cc2c(O)c3c(c(-c4ccc5c(c4)OCO5)c2cc1OC)C(=O...   \n",
       "36422  COc1cc2c(O)c3c(c(-c4ccc5c(c4)OCO5)c2cc1OC)C(=O...   \n",
       "36423  COc1cc2c(O)c3c(c(-c4ccc5c(c4)OCO5)c2cc1OC)C(=O...   \n",
       "\n",
       "                         species  \n",
       "0                Uncaria cordata  \n",
       "1      Lomatogonium carinthiacum  \n",
       "2           Luvunga angustifolia  \n",
       "3                     Acremonium  \n",
       "4        Campylospermum sulcatum  \n",
       "...                          ...  \n",
       "36419      Senecio bellidifolius  \n",
       "36420         Lepidium subulatum  \n",
       "36421         Stachys ocymastrum  \n",
       "36422          Vismia lindeniana  \n",
       "36423       Petrosedum sediforme  \n",
       "\n",
       "[36424 rows x 2 columns]"
      ]
     },
     "execution_count": 116,
     "metadata": {},
     "output_type": "execute_result"
    }
   ],
   "source": [
    "data_4"
   ]
  },
  {
   "cell_type": "code",
   "execution_count": 117,
   "id": "d918b7ec-b4d3-435c-b9bb-88bd40bb4a34",
   "metadata": {},
   "outputs": [
    {
     "name": "stdout",
     "output_type": "stream",
     "text": [
      "Checking which model should be used for each row...\n",
      "Adding missing nodes to the graph...\n",
      "Converting NetworkX to Stellargraph...\n",
      "StellarDiGraph: Directed multigraph\n",
      " Nodes: 184194, Edges: 869484\n",
      "\n",
      " Node types:\n",
      "  molecule: [147747]\n",
      "    Features: float32 vector, length 1051\n",
      "    Edge types: molecule-present_in->species\n",
      "  species: [36447]\n",
      "    Features: float32 vector, length 69\n",
      "    Edge types: species-has->molecule\n",
      "\n",
      " Edge types:\n",
      "    species-has->molecule: [434742]\n",
      "        Weights: all 1 (default)\n",
      "        Features: none\n",
      "    molecule-present_in->species: [434742]\n",
      "        Weights: all 1 (default)\n",
      "        Features: none\n",
      "Creating 'forward', 'backward' flow for KNOWN molecule AND species...\n",
      "Predict both : running 'forward' predictions\n",
      "36/36 [==============================] - 2s 63ms/step\n",
      "36/36 [==============================] - 2s 64ms/step\n",
      "36/36 [==============================] - 2s 62ms/step\n",
      "36/36 [==============================] - 4s 122ms/step\n",
      "36/36 [==============================] - 2s 63ms/step\n",
      "36/36 [==============================] - 2s 65ms/step\n",
      "36/36 [==============================] - 2s 63ms/step\n",
      "Predict both : running backward prediction...\n",
      "36/36 [==============================] - 2s 62ms/step\n",
      "36/36 [==============================] - 4s 110ms/step\n",
      "36/36 [==============================] - 2s 63ms/step\n",
      "36/36 [==============================] - 2s 63ms/step\n",
      "36/36 [==============================] - 2s 63ms/step\n",
      "36/36 [==============================] - 2s 63ms/step\n",
      "36/36 [==============================] - 4s 110ms/step\n"
     ]
    }
   ],
   "source": [
    "out_4 = predict(g_lotus, model_m_to_s, model_s_to_m,\n",
    "                data_4,\n",
    "                molecule_features_dummy,\n",
    "                species_features_dummy\n",
    "               )"
   ]
  },
  {
   "cell_type": "code",
   "execution_count": 118,
   "id": "397426b5-1a62-460d-87a7-766166071167",
   "metadata": {},
   "outputs": [
    {
     "data": {
      "text/plain": [
       "(array([1.2308e+04, 2.4830e+03, 1.6080e+03, 1.1800e+03, 9.3400e+02,\n",
       "        7.4500e+02, 6.2500e+02, 5.5200e+02, 5.0200e+02, 4.6200e+02,\n",
       "        4.0300e+02, 3.7600e+02, 3.3900e+02, 3.1700e+02, 2.9800e+02,\n",
       "        2.9000e+02, 2.8000e+02, 2.4700e+02, 2.3900e+02, 2.0500e+02,\n",
       "        2.0900e+02, 2.2700e+02, 2.0800e+02, 2.0900e+02, 1.9100e+02,\n",
       "        1.8100e+02, 1.8500e+02, 1.9200e+02, 1.5100e+02, 1.7800e+02,\n",
       "        1.3900e+02, 1.5700e+02, 1.2500e+02, 1.3100e+02, 1.2200e+02,\n",
       "        1.4500e+02, 1.4100e+02, 1.3800e+02, 1.2700e+02, 1.2000e+02,\n",
       "        1.2600e+02, 1.3600e+02, 1.1500e+02, 1.1500e+02, 1.1400e+02,\n",
       "        1.1600e+02, 9.9000e+01, 1.0500e+02, 1.1700e+02, 1.1100e+02,\n",
       "        9.7000e+01, 9.3000e+01, 9.1000e+01, 1.1600e+02, 1.0700e+02,\n",
       "        9.9000e+01, 7.9000e+01, 8.0000e+01, 9.5000e+01, 7.9000e+01,\n",
       "        7.7000e+01, 1.0100e+02, 8.0000e+01, 6.7000e+01, 8.6000e+01,\n",
       "        7.5000e+01, 6.9000e+01, 8.5000e+01, 8.1000e+01, 6.5000e+01,\n",
       "        7.1000e+01, 7.0000e+01, 8.8000e+01, 8.2000e+01, 6.2000e+01,\n",
       "        7.0000e+01, 6.4000e+01, 6.5000e+01, 6.3000e+01, 7.0000e+01,\n",
       "        6.4000e+01, 8.2000e+01, 6.6000e+01, 7.2000e+01, 5.3000e+01,\n",
       "        4.7000e+01, 5.9000e+01, 6.2000e+01, 6.2000e+01, 6.6000e+01,\n",
       "        5.2000e+01, 6.5000e+01, 5.9000e+01, 6.4000e+01, 6.4000e+01,\n",
       "        5.1000e+01, 6.0000e+01, 4.0000e+01, 5.2000e+01, 5.3000e+01,\n",
       "        4.5000e+01, 5.1000e+01, 4.3000e+01, 6.0000e+01, 6.4000e+01,\n",
       "        4.7000e+01, 4.1000e+01, 4.0000e+01, 4.6000e+01, 3.9000e+01,\n",
       "        4.6000e+01, 3.8000e+01, 5.8000e+01, 4.4000e+01, 5.3000e+01,\n",
       "        5.3000e+01, 7.0000e+01, 5.8000e+01, 4.3000e+01, 4.1000e+01,\n",
       "        5.2000e+01, 6.5000e+01, 6.3000e+01, 6.6000e+01, 3.8000e+01,\n",
       "        4.6000e+01, 4.0000e+01, 4.3000e+01, 4.0000e+01, 3.7000e+01,\n",
       "        4.6000e+01, 5.1000e+01, 4.4000e+01, 3.9000e+01, 4.5000e+01,\n",
       "        4.7000e+01, 4.7000e+01, 5.2000e+01, 4.2000e+01, 4.5000e+01,\n",
       "        3.8000e+01, 4.5000e+01, 3.8000e+01, 4.9000e+01, 3.6000e+01,\n",
       "        5.5000e+01, 4.1000e+01, 5.0000e+01, 4.0000e+01, 4.0000e+01,\n",
       "        6.2000e+01, 4.5000e+01, 3.1000e+01, 3.3000e+01, 4.0000e+01,\n",
       "        4.1000e+01, 4.8000e+01, 4.2000e+01, 4.8000e+01, 3.7000e+01,\n",
       "        3.9000e+01, 4.2000e+01, 4.0000e+01, 3.5000e+01, 3.3000e+01,\n",
       "        4.3000e+01, 4.8000e+01, 4.2000e+01, 3.1000e+01, 2.8000e+01,\n",
       "        3.6000e+01, 4.0000e+01, 3.1000e+01, 4.3000e+01, 3.4000e+01,\n",
       "        3.2000e+01, 3.4000e+01, 3.5000e+01, 3.2000e+01, 3.7000e+01,\n",
       "        3.0000e+01, 2.7000e+01, 2.8000e+01, 2.5000e+01, 2.1000e+01,\n",
       "        2.4000e+01, 1.9000e+01, 2.5000e+01, 2.8000e+01, 3.1000e+01,\n",
       "        2.1000e+01, 3.2000e+01, 1.4000e+01, 1.7000e+01, 2.7000e+01,\n",
       "        1.8000e+01, 2.0000e+01, 2.2000e+01, 2.0000e+01, 1.0000e+01]),\n",
       " array([8.08185803e-08, 4.97551317e-03, 9.95094552e-03, 1.49263779e-02,\n",
       "        1.99018102e-02, 2.48772426e-02, 2.98526749e-02, 3.48281073e-02,\n",
       "        3.98035396e-02, 4.47789720e-02, 4.97544043e-02, 5.47298367e-02,\n",
       "        5.97052690e-02, 6.46807014e-02, 6.96561337e-02, 7.46315661e-02,\n",
       "        7.96069984e-02, 8.45824308e-02, 8.95578631e-02, 9.45332955e-02,\n",
       "        9.95087278e-02, 1.04484160e-01, 1.09459593e-01, 1.14435025e-01,\n",
       "        1.19410457e-01, 1.24385890e-01, 1.29361322e-01, 1.34336754e-01,\n",
       "        1.39312187e-01, 1.44287619e-01, 1.49263051e-01, 1.54238484e-01,\n",
       "        1.59213916e-01, 1.64189348e-01, 1.69164781e-01, 1.74140213e-01,\n",
       "        1.79115645e-01, 1.84091078e-01, 1.89066510e-01, 1.94041942e-01,\n",
       "        1.99017375e-01, 2.03992807e-01, 2.08968239e-01, 2.13943672e-01,\n",
       "        2.18919104e-01, 2.23894537e-01, 2.28869969e-01, 2.33845401e-01,\n",
       "        2.38820834e-01, 2.43796266e-01, 2.48771698e-01, 2.53747131e-01,\n",
       "        2.58722563e-01, 2.63697995e-01, 2.68673428e-01, 2.73648860e-01,\n",
       "        2.78624292e-01, 2.83599725e-01, 2.88575157e-01, 2.93550589e-01,\n",
       "        2.98526022e-01, 3.03501454e-01, 3.08476886e-01, 3.13452319e-01,\n",
       "        3.18427751e-01, 3.23403184e-01, 3.28378616e-01, 3.33354048e-01,\n",
       "        3.38329481e-01, 3.43304913e-01, 3.48280345e-01, 3.53255778e-01,\n",
       "        3.58231210e-01, 3.63206642e-01, 3.68182075e-01, 3.73157507e-01,\n",
       "        3.78132939e-01, 3.83108372e-01, 3.88083804e-01, 3.93059236e-01,\n",
       "        3.98034669e-01, 4.03010101e-01, 4.07985533e-01, 4.12960966e-01,\n",
       "        4.17936398e-01, 4.22911831e-01, 4.27887263e-01, 4.32862695e-01,\n",
       "        4.37838128e-01, 4.42813560e-01, 4.47788992e-01, 4.52764425e-01,\n",
       "        4.57739857e-01, 4.62715289e-01, 4.67690722e-01, 4.72666154e-01,\n",
       "        4.77641586e-01, 4.82617019e-01, 4.87592451e-01, 4.92567883e-01,\n",
       "        4.97543316e-01, 5.02518748e-01, 5.07494180e-01, 5.12469613e-01,\n",
       "        5.17445045e-01, 5.22420478e-01, 5.27395910e-01, 5.32371342e-01,\n",
       "        5.37346775e-01, 5.42322207e-01, 5.47297639e-01, 5.52273072e-01,\n",
       "        5.57248504e-01, 5.62223936e-01, 5.67199369e-01, 5.72174801e-01,\n",
       "        5.77150233e-01, 5.82125666e-01, 5.87101098e-01, 5.92076530e-01,\n",
       "        5.97051963e-01, 6.02027395e-01, 6.07002827e-01, 6.11978260e-01,\n",
       "        6.16953692e-01, 6.21929125e-01, 6.26904557e-01, 6.31879989e-01,\n",
       "        6.36855422e-01, 6.41830854e-01, 6.46806286e-01, 6.51781719e-01,\n",
       "        6.56757151e-01, 6.61732583e-01, 6.66708016e-01, 6.71683448e-01,\n",
       "        6.76658880e-01, 6.81634313e-01, 6.86609745e-01, 6.91585177e-01,\n",
       "        6.96560610e-01, 7.01536042e-01, 7.06511474e-01, 7.11486907e-01,\n",
       "        7.16462339e-01, 7.21437771e-01, 7.26413204e-01, 7.31388636e-01,\n",
       "        7.36364069e-01, 7.41339501e-01, 7.46314933e-01, 7.51290366e-01,\n",
       "        7.56265798e-01, 7.61241230e-01, 7.66216663e-01, 7.71192095e-01,\n",
       "        7.76167527e-01, 7.81142960e-01, 7.86118392e-01, 7.91093824e-01,\n",
       "        7.96069257e-01, 8.01044689e-01, 8.06020121e-01, 8.10995554e-01,\n",
       "        8.15970986e-01, 8.20946418e-01, 8.25921851e-01, 8.30897283e-01,\n",
       "        8.35872716e-01, 8.40848148e-01, 8.45823580e-01, 8.50799013e-01,\n",
       "        8.55774445e-01, 8.60749877e-01, 8.65725310e-01, 8.70700742e-01,\n",
       "        8.75676174e-01, 8.80651607e-01, 8.85627039e-01, 8.90602471e-01,\n",
       "        8.95577904e-01, 9.00553336e-01, 9.05528768e-01, 9.10504201e-01,\n",
       "        9.15479633e-01, 9.20455065e-01, 9.25430498e-01, 9.30405930e-01,\n",
       "        9.35381363e-01, 9.40356795e-01, 9.45332227e-01, 9.50307660e-01,\n",
       "        9.55283092e-01, 9.60258524e-01, 9.65233957e-01, 9.70209389e-01,\n",
       "        9.75184821e-01, 9.80160254e-01, 9.85135686e-01, 9.90111118e-01,\n",
       "        9.95086551e-01]),\n",
       " <BarContainer object of 200 artists>)"
      ]
     },
     "execution_count": 118,
     "metadata": {},
     "output_type": "execute_result"
    },
    {
     "data": {
      "image/png": "[encoded data removed]",
      "text/plain": [
       "<Figure size 640x480 with 1 Axes>"
      ]
     },
     "metadata": {},
     "output_type": "display_data"
    }
   ],
   "source": [
    "plt.hist(out_4.prob, bins=200)"
   ]
  },
  {
   "cell_type": "code",
   "execution_count": 119,
   "id": "280a03ce-a2a0-41b8-91ac-2bf0d26a0690",
   "metadata": {},
   "outputs": [
    {
     "data": {
      "text/plain": [
       "0.10866461673621788"
      ]
     },
     "execution_count": 119,
     "metadata": {},
     "output_type": "execute_result"
    }
   ],
   "source": [
    "len(out_4[out_4.prob>0.5])/len(out_4)"
   ]
  },
  {
   "cell_type": "code",
   "execution_count": 123,
   "id": "3c852c91-e917-480c-9d21-d8cb9b735895",
   "metadata": {},
   "outputs": [
    {
     "data": {
      "text/html": [
       "<div>\n",
       "<style scoped>\n",
       "    .dataframe tbody tr th:only-of-type {\n",
       "        vertical-align: middle;\n",
       "    }\n",
       "\n",
       "    .dataframe tbody tr th {\n",
       "        vertical-align: top;\n",
       "    }\n",
       "\n",
       "    .dataframe thead th {\n",
       "        text-align: right;\n",
       "    }\n",
       "</style>\n",
       "<table border=\"1\" class=\"dataframe\">\n",
       "  <thead>\n",
       "    <tr style=\"text-align: right;\">\n",
       "      <th></th>\n",
       "      <th>molecule</th>\n",
       "      <th>species</th>\n",
       "      <th>model</th>\n",
       "      <th>prob</th>\n",
       "    </tr>\n",
       "  </thead>\n",
       "  <tbody>\n",
       "    <tr>\n",
       "      <th>29484</th>\n",
       "      <td>COc1cc2c(O)c3c(c(-c4ccc5c(c4)OCO5)c2cc1OC)C(=O...</td>\n",
       "      <td>Zeravschania pauciradiata</td>\n",
       "      <td>both_known</td>\n",
       "      <td>0.939915</td>\n",
       "    </tr>\n",
       "    <tr>\n",
       "      <th>3261</th>\n",
       "      <td>COc1cc2c(O)c3c(c(-c4ccc5c(c4)OCO5)c2cc1OC)C(=O...</td>\n",
       "      <td>Zanthoxylum wutaiense</td>\n",
       "      <td>both_known</td>\n",
       "      <td>0.938553</td>\n",
       "    </tr>\n",
       "    <tr>\n",
       "      <th>13785</th>\n",
       "      <td>COc1cc2c(O)c3c(c(-c4ccc5c(c4)OCO5)c2cc1OC)C(=O...</td>\n",
       "      <td>Zanthoxylum tsihanimposa</td>\n",
       "      <td>both_known</td>\n",
       "      <td>0.943991</td>\n",
       "    </tr>\n",
       "    <tr>\n",
       "      <th>3477</th>\n",
       "      <td>COc1cc2c(O)c3c(c(-c4ccc5c(c4)OCO5)c2cc1OC)C(=O...</td>\n",
       "      <td>Zanthoxylum thomense</td>\n",
       "      <td>both_known</td>\n",
       "      <td>0.940317</td>\n",
       "    </tr>\n",
       "    <tr>\n",
       "      <th>1234</th>\n",
       "      <td>COc1cc2c(O)c3c(c(-c4ccc5c(c4)OCO5)c2cc1OC)C(=O...</td>\n",
       "      <td>Zanthoxylum syncarpum</td>\n",
       "      <td>both_known</td>\n",
       "      <td>0.903032</td>\n",
       "    </tr>\n",
       "    <tr>\n",
       "      <th>...</th>\n",
       "      <td>...</td>\n",
       "      <td>...</td>\n",
       "      <td>...</td>\n",
       "      <td>...</td>\n",
       "    </tr>\n",
       "    <tr>\n",
       "      <th>8716</th>\n",
       "      <td>COc1cc2c(O)c3c(c(-c4ccc5c(c4)OCO5)c2cc1OC)C(=O...</td>\n",
       "      <td>Adiscanthus fusciflorus</td>\n",
       "      <td>both_known</td>\n",
       "      <td>0.945012</td>\n",
       "    </tr>\n",
       "    <tr>\n",
       "      <th>348</th>\n",
       "      <td>COc1cc2c(O)c3c(c(-c4ccc5c(c4)OCO5)c2cc1OC)C(=O...</td>\n",
       "      <td>Acronychia pubescens</td>\n",
       "      <td>both_known</td>\n",
       "      <td>0.954962</td>\n",
       "    </tr>\n",
       "    <tr>\n",
       "      <th>26946</th>\n",
       "      <td>COc1cc2c(O)c3c(c(-c4ccc5c(c4)OCO5)c2cc1OC)C(=O...</td>\n",
       "      <td>Acronychia pedunculata</td>\n",
       "      <td>both_known</td>\n",
       "      <td>0.945565</td>\n",
       "    </tr>\n",
       "    <tr>\n",
       "      <th>11871</th>\n",
       "      <td>COc1cc2c(O)c3c(c(-c4ccc5c(c4)OCO5)c2cc1OC)C(=O...</td>\n",
       "      <td>Acronychia octandra</td>\n",
       "      <td>both_known</td>\n",
       "      <td>0.941090</td>\n",
       "    </tr>\n",
       "    <tr>\n",
       "      <th>6097</th>\n",
       "      <td>COc1cc2c(O)c3c(c(-c4ccc5c(c4)OCO5)c2cc1OC)C(=O...</td>\n",
       "      <td>Acronychia baeuerlenii</td>\n",
       "      <td>both_known</td>\n",
       "      <td>0.945902</td>\n",
       "    </tr>\n",
       "  </tbody>\n",
       "</table>\n",
       "<p>430 rows × 4 columns</p>\n",
       "</div>"
      ],
      "text/plain": [
       "                                                molecule  \\\n",
       "29484  COc1cc2c(O)c3c(c(-c4ccc5c(c4)OCO5)c2cc1OC)C(=O...   \n",
       "3261   COc1cc2c(O)c3c(c(-c4ccc5c(c4)OCO5)c2cc1OC)C(=O...   \n",
       "13785  COc1cc2c(O)c3c(c(-c4ccc5c(c4)OCO5)c2cc1OC)C(=O...   \n",
       "3477   COc1cc2c(O)c3c(c(-c4ccc5c(c4)OCO5)c2cc1OC)C(=O...   \n",
       "1234   COc1cc2c(O)c3c(c(-c4ccc5c(c4)OCO5)c2cc1OC)C(=O...   \n",
       "...                                                  ...   \n",
       "8716   COc1cc2c(O)c3c(c(-c4ccc5c(c4)OCO5)c2cc1OC)C(=O...   \n",
       "348    COc1cc2c(O)c3c(c(-c4ccc5c(c4)OCO5)c2cc1OC)C(=O...   \n",
       "26946  COc1cc2c(O)c3c(c(-c4ccc5c(c4)OCO5)c2cc1OC)C(=O...   \n",
       "11871  COc1cc2c(O)c3c(c(-c4ccc5c(c4)OCO5)c2cc1OC)C(=O...   \n",
       "6097   COc1cc2c(O)c3c(c(-c4ccc5c(c4)OCO5)c2cc1OC)C(=O...   \n",
       "\n",
       "                         species       model      prob  \n",
       "29484  Zeravschania pauciradiata  both_known  0.939915  \n",
       "3261       Zanthoxylum wutaiense  both_known  0.938553  \n",
       "13785   Zanthoxylum tsihanimposa  both_known  0.943991  \n",
       "3477        Zanthoxylum thomense  both_known  0.940317  \n",
       "1234       Zanthoxylum syncarpum  both_known  0.903032  \n",
       "...                          ...         ...       ...  \n",
       "8716     Adiscanthus fusciflorus  both_known  0.945012  \n",
       "348         Acronychia pubescens  both_known  0.954962  \n",
       "26946     Acronychia pedunculata  both_known  0.945565  \n",
       "11871        Acronychia octandra  both_known  0.941090  \n",
       "6097      Acronychia baeuerlenii  both_known  0.945902  \n",
       "\n",
       "[430 rows x 4 columns]"
      ]
     },
     "execution_count": 123,
     "metadata": {},
     "output_type": "execute_result"
    }
   ],
   "source": [
    "out_4[out_4.prob>0.9].sort_values(by='species', ascending=False)\n"
   ]
  },
  {
   "cell_type": "markdown",
   "id": "a317e13e-00e1-4dfd-bd16-9219ec6bc46d",
   "metadata": {},
   "source": [
    "# Test 5: test with a more rare molecule "
   ]
  },
  {
   "cell_type": "code",
   "execution_count": 40,
   "id": "fed16794-63c4-4f71-b584-d72ae1f9b6d4",
   "metadata": {},
   "outputs": [],
   "source": [
    "mol = 'CCCCCc1cc(O)c2c(c1)OC(C)(C)C1CCC(C)=CC21'\n",
    "data_5 = pd.DataFrame(\n",
    "    {'molecule': mol,\n",
    "     'species': list(set(species_features_dummy.index)-set(sku[sku.structure_smiles_2D==mol].organism_name))}\n",
    ")"
   ]
  },
  {
   "cell_type": "code",
   "execution_count": 42,
   "id": "2972fb53-9f14-4175-994c-fa368f287568",
   "metadata": {},
   "outputs": [
    {
     "name": "stdout",
     "output_type": "stream",
     "text": [
      "Checking which model should be used for each row...\n",
      "Adding missing nodes to the graph...\n",
      "Converting NetwrokX to Stellargraph...\n",
      "StellarDiGraph: Directed multigraph\n",
      " Nodes: 184194, Edges: 869484\n",
      "\n",
      " Node types:\n",
      "  molecule: [147747]\n",
      "    Features: float32 vector, length 1051\n",
      "    Edge types: molecule-present_in->species\n",
      "  species: [36447]\n",
      "    Features: float32 vector, length 69\n",
      "    Edge types: species-has->molecule\n",
      "\n",
      " Edge types:\n",
      "    species-has->molecule: [434742]\n",
      "        Weights: all 1 (default)\n",
      "        Features: none\n",
      "    molecule-present_in->species: [434742]\n",
      "        Weights: all 1 (default)\n",
      "        Features: none\n",
      "Creating 'forward', 'backward' flow for KNOWN molecule AND species...\n",
      "Predict both : running 'forward' predictions\n",
      "36/36 [==============================] - 9s 259ms/step\n",
      "36/36 [==============================] - 6s 159ms/step\n",
      "36/36 [==============================] - 6s 160ms/step\n",
      "36/36 [==============================] - 6s 163ms/step\n",
      "36/36 [==============================] - 6s 159ms/step\n",
      "36/36 [==============================] - 8s 235ms/step\n",
      "36/36 [==============================] - 6s 159ms/step\n",
      "Predict both : running backward prediction...\n",
      "36/36 [==============================] - 6s 170ms/step\n",
      "36/36 [==============================] - 6s 162ms/step\n",
      "36/36 [==============================] - 6s 165ms/step\n",
      "36/36 [==============================] - 9s 252ms/step\n",
      "36/36 [==============================] - 6s 170ms/step\n",
      "36/36 [==============================] - 6s 166ms/step\n",
      "36/36 [==============================] - 6s 165ms/step\n"
     ]
    }
   ],
   "source": [
    "out_5 = predict(g_lotus, model_m_to_s, model_s_to_m,\n",
    "                data_5,\n",
    "                molecule_features_dummy,\n",
    "                species_features_dummy\n",
    "               )"
   ]
  },
  {
   "cell_type": "code",
   "execution_count": 45,
   "id": "836c7502-43f7-477e-a2b5-b533cee5b05a",
   "metadata": {},
   "outputs": [
    {
     "data": {
      "text/plain": [
       "(array([1.6963e+04, 2.7290e+03, 1.6320e+03, 1.1290e+03, 8.8100e+02,\n",
       "        7.2800e+02, 5.9200e+02, 4.8400e+02, 4.5000e+02, 4.1100e+02,\n",
       "        3.6300e+02, 3.6000e+02, 3.2500e+02, 2.8700e+02, 2.7200e+02,\n",
       "        2.3800e+02, 2.2400e+02, 2.4200e+02, 1.9600e+02, 1.9400e+02,\n",
       "        1.8300e+02, 1.7800e+02, 1.8500e+02, 2.0500e+02, 1.8600e+02,\n",
       "        1.7900e+02, 1.4300e+02, 1.6300e+02, 1.4100e+02, 1.2600e+02,\n",
       "        1.3100e+02, 1.5000e+02, 1.2800e+02, 1.2200e+02, 1.1600e+02,\n",
       "        1.1400e+02, 1.1800e+02, 1.3100e+02, 1.0900e+02, 1.1100e+02,\n",
       "        8.2000e+01, 9.9000e+01, 9.5000e+01, 9.2000e+01, 9.0000e+01,\n",
       "        9.1000e+01, 7.8000e+01, 9.3000e+01, 8.2000e+01, 8.0000e+01,\n",
       "        7.6000e+01, 7.4000e+01, 7.0000e+01, 7.1000e+01, 9.0000e+01,\n",
       "        6.9000e+01, 6.1000e+01, 6.5000e+01, 6.7000e+01, 6.4000e+01,\n",
       "        6.9000e+01, 5.6000e+01, 6.4000e+01, 6.5000e+01, 5.9000e+01,\n",
       "        4.7000e+01, 3.5000e+01, 5.7000e+01, 4.9000e+01, 5.7000e+01,\n",
       "        4.6000e+01, 5.3000e+01, 5.8000e+01, 3.3000e+01, 4.8000e+01,\n",
       "        4.1000e+01, 5.0000e+01, 4.1000e+01, 3.5000e+01, 4.4000e+01,\n",
       "        4.1000e+01, 4.4000e+01, 5.0000e+01, 5.1000e+01, 2.8000e+01,\n",
       "        4.7000e+01, 5.0000e+01, 3.1000e+01, 4.3000e+01, 3.8000e+01,\n",
       "        3.5000e+01, 4.3000e+01, 2.4000e+01, 3.0000e+01, 3.2000e+01,\n",
       "        3.6000e+01, 2.5000e+01, 2.8000e+01, 3.2000e+01, 2.6000e+01,\n",
       "        2.8000e+01, 2.7000e+01, 3.2000e+01, 1.8000e+01, 2.8000e+01,\n",
       "        2.9000e+01, 2.3000e+01, 2.9000e+01, 1.9000e+01, 2.7000e+01,\n",
       "        2.8000e+01, 2.3000e+01, 2.3000e+01, 2.1000e+01, 2.2000e+01,\n",
       "        1.7000e+01, 2.7000e+01, 1.7000e+01, 3.2000e+01, 2.3000e+01,\n",
       "        1.4000e+01, 2.1000e+01, 1.2000e+01, 2.5000e+01, 2.5000e+01,\n",
       "        1.2000e+01, 2.5000e+01, 1.4000e+01, 1.5000e+01, 2.1000e+01,\n",
       "        1.4000e+01, 1.6000e+01, 1.5000e+01, 2.2000e+01, 1.6000e+01,\n",
       "        2.0000e+01, 2.3000e+01, 1.6000e+01, 2.3000e+01, 1.7000e+01,\n",
       "        1.9000e+01, 2.3000e+01, 1.9000e+01, 1.5000e+01, 1.7000e+01,\n",
       "        1.8000e+01, 1.8000e+01, 1.7000e+01, 1.5000e+01, 1.2000e+01,\n",
       "        2.5000e+01, 1.6000e+01, 2.0000e+01, 1.8000e+01, 1.8000e+01,\n",
       "        1.6000e+01, 1.3000e+01, 1.0000e+01, 1.4000e+01, 1.4000e+01,\n",
       "        1.3000e+01, 1.1000e+01, 1.1000e+01, 8.0000e+00, 1.4000e+01,\n",
       "        8.0000e+00, 1.3000e+01, 1.3000e+01, 1.3000e+01, 1.3000e+01,\n",
       "        1.5000e+01, 1.4000e+01, 7.0000e+00, 1.1000e+01, 5.0000e+00,\n",
       "        1.0000e+01, 1.1000e+01, 5.0000e+00, 6.0000e+00, 9.0000e+00,\n",
       "        8.0000e+00, 7.0000e+00, 3.0000e+00, 1.0000e+01, 6.0000e+00,\n",
       "        6.0000e+00, 1.0000e+01, 8.0000e+00, 3.0000e+00, 3.0000e+00,\n",
       "        6.0000e+00, 2.0000e+00, 3.0000e+00, 5.0000e+00, 1.0000e+00,\n",
       "        2.0000e+00, 3.0000e+00, 3.0000e+00, 0.0000e+00, 1.0000e+00]),\n",
       " array([3.63614063e-08, 4.89569527e-03, 9.79135418e-03, 1.46870131e-02,\n",
       "        1.95826720e-02, 2.44783309e-02, 2.93739898e-02, 3.42696487e-02,\n",
       "        3.91653076e-02, 4.40609665e-02, 4.89566254e-02, 5.38522843e-02,\n",
       "        5.87479432e-02, 6.36436022e-02, 6.85392611e-02, 7.34349200e-02,\n",
       "        7.83305789e-02, 8.32262378e-02, 8.81218967e-02, 9.30175556e-02,\n",
       "        9.79132145e-02, 1.02808873e-01, 1.07704532e-01, 1.12600191e-01,\n",
       "        1.17495850e-01, 1.22391509e-01, 1.27287168e-01, 1.32182827e-01,\n",
       "        1.37078486e-01, 1.41974145e-01, 1.46869804e-01, 1.51765462e-01,\n",
       "        1.56661121e-01, 1.61556780e-01, 1.66452439e-01, 1.71348098e-01,\n",
       "        1.76243757e-01, 1.81139416e-01, 1.86035075e-01, 1.90930734e-01,\n",
       "        1.95826393e-01, 2.00722052e-01, 2.05617710e-01, 2.10513369e-01,\n",
       "        2.15409028e-01, 2.20304687e-01, 2.25200346e-01, 2.30096005e-01,\n",
       "        2.34991664e-01, 2.39887323e-01, 2.44782982e-01, 2.49678641e-01,\n",
       "        2.54574300e-01, 2.59469958e-01, 2.64365617e-01, 2.69261276e-01,\n",
       "        2.74156935e-01, 2.79052594e-01, 2.83948253e-01, 2.88843912e-01,\n",
       "        2.93739571e-01, 2.98635230e-01, 3.03530889e-01, 3.08426548e-01,\n",
       "        3.13322206e-01, 3.18217865e-01, 3.23113524e-01, 3.28009183e-01,\n",
       "        3.32904842e-01, 3.37800501e-01, 3.42696160e-01, 3.47591819e-01,\n",
       "        3.52487478e-01, 3.57383137e-01, 3.62278796e-01, 3.67174454e-01,\n",
       "        3.72070113e-01, 3.76965772e-01, 3.81861431e-01, 3.86757090e-01,\n",
       "        3.91652749e-01, 3.96548408e-01, 4.01444067e-01, 4.06339726e-01,\n",
       "        4.11235385e-01, 4.16131043e-01, 4.21026702e-01, 4.25922361e-01,\n",
       "        4.30818020e-01, 4.35713679e-01, 4.40609338e-01, 4.45504997e-01,\n",
       "        4.50400656e-01, 4.55296315e-01, 4.60191974e-01, 4.65087633e-01,\n",
       "        4.69983291e-01, 4.74878950e-01, 4.79774609e-01, 4.84670268e-01,\n",
       "        4.89565927e-01, 4.94461586e-01, 4.99357245e-01, 5.04252904e-01,\n",
       "        5.09148563e-01, 5.14044222e-01, 5.18939881e-01, 5.23835539e-01,\n",
       "        5.28731198e-01, 5.33626857e-01, 5.38522516e-01, 5.43418175e-01,\n",
       "        5.48313834e-01, 5.53209493e-01, 5.58105152e-01, 5.63000811e-01,\n",
       "        5.67896470e-01, 5.72792129e-01, 5.77687787e-01, 5.82583446e-01,\n",
       "        5.87479105e-01, 5.92374764e-01, 5.97270423e-01, 6.02166082e-01,\n",
       "        6.07061741e-01, 6.11957400e-01, 6.16853059e-01, 6.21748718e-01,\n",
       "        6.26644376e-01, 6.31540035e-01, 6.36435694e-01, 6.41331353e-01,\n",
       "        6.46227012e-01, 6.51122671e-01, 6.56018330e-01, 6.60913989e-01,\n",
       "        6.65809648e-01, 6.70705307e-01, 6.75600966e-01, 6.80496624e-01,\n",
       "        6.85392283e-01, 6.90287942e-01, 6.95183601e-01, 7.00079260e-01,\n",
       "        7.04974919e-01, 7.09870578e-01, 7.14766237e-01, 7.19661896e-01,\n",
       "        7.24557555e-01, 7.29453214e-01, 7.34348872e-01, 7.39244531e-01,\n",
       "        7.44140190e-01, 7.49035849e-01, 7.53931508e-01, 7.58827167e-01,\n",
       "        7.63722826e-01, 7.68618485e-01, 7.73514144e-01, 7.78409803e-01,\n",
       "        7.83305462e-01, 7.88201120e-01, 7.93096779e-01, 7.97992438e-01,\n",
       "        8.02888097e-01, 8.07783756e-01, 8.12679415e-01, 8.17575074e-01,\n",
       "        8.22470733e-01, 8.27366392e-01, 8.32262051e-01, 8.37157710e-01,\n",
       "        8.42053368e-01, 8.46949027e-01, 8.51844686e-01, 8.56740345e-01,\n",
       "        8.61636004e-01, 8.66531663e-01, 8.71427322e-01, 8.76322981e-01,\n",
       "        8.81218640e-01, 8.86114299e-01, 8.91009957e-01, 8.95905616e-01,\n",
       "        9.00801275e-01, 9.05696934e-01, 9.10592593e-01, 9.15488252e-01,\n",
       "        9.20383911e-01, 9.25279570e-01, 9.30175229e-01, 9.35070888e-01,\n",
       "        9.39966547e-01, 9.44862205e-01, 9.49757864e-01, 9.54653523e-01,\n",
       "        9.59549182e-01, 9.64444841e-01, 9.69340500e-01, 9.74236159e-01,\n",
       "        9.79131818e-01]),\n",
       " <BarContainer object of 200 artists>)"
      ]
     },
     "execution_count": 45,
     "metadata": {},
     "output_type": "execute_result"
    },
    {
     "data": {
      "image/png": "[encoded data removed]",
      "text/plain": [
       "<Figure size 640x480 with 1 Axes>"
      ]
     },
     "metadata": {},
     "output_type": "display_data"
    }
   ],
   "source": [
    "plt.hist(out_5.prob, bins=200)"
   ]
  },
  {
   "cell_type": "code",
   "execution_count": 49,
   "id": "51025381-012f-4de4-bc91-84682a825583",
   "metadata": {},
   "outputs": [
    {
     "data": {
      "text/html": [
       "<div>\n",
       "<style scoped>\n",
       "    .dataframe tbody tr th:only-of-type {\n",
       "        vertical-align: middle;\n",
       "    }\n",
       "\n",
       "    .dataframe tbody tr th {\n",
       "        vertical-align: top;\n",
       "    }\n",
       "\n",
       "    .dataframe thead th {\n",
       "        text-align: right;\n",
       "    }\n",
       "</style>\n",
       "<table border=\"1\" class=\"dataframe\">\n",
       "  <thead>\n",
       "    <tr style=\"text-align: right;\">\n",
       "      <th></th>\n",
       "      <th>molecule</th>\n",
       "      <th>species</th>\n",
       "      <th>model</th>\n",
       "      <th>prob</th>\n",
       "    </tr>\n",
       "  </thead>\n",
       "  <tbody>\n",
       "  </tbody>\n",
       "</table>\n",
       "</div>"
      ],
      "text/plain": [
       "Empty DataFrame\n",
       "Columns: [molecule, species, model, prob]\n",
       "Index: []"
      ]
     },
     "execution_count": 49,
     "metadata": {},
     "output_type": "execute_result"
    }
   ],
   "source": [
    "out_5[out_5.prob>0.98]"
   ]
  }
 ],
 "metadata": {
  "kernelspec": {
   "display_name": "Python 3 (ipykernel)",
   "language": "python",
   "name": "python3"
  },
  "language_info": {
   "codemirror_mode": {
    "name": "ipython",
    "version": 3
   },
   "file_extension": ".py",
   "mimetype": "text/x-python",
   "name": "python",
   "nbconvert_exporter": "python",
   "pygments_lexer": "ipython3",
   "version": "3.11.4"
  }
 },
 "nbformat": 4,
 "nbformat_minor": 5
}
