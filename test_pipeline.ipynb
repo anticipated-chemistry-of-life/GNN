{
 "cells": [
  {
   "cell_type": "code",
   "execution_count": 1,
   "id": "dd82b030",
   "metadata": {},
   "outputs": [],
   "source": [
    "import os\n",
    "os.environ['TF_CPP_MIN_LOG_LEVEL'] = '3' \n",
    "import pandas as pd\n",
    "import networkx as nx\n",
    "import tensorflow as tf\n",
    "import numpy as np\n",
    "from utils import predict"
   ]
  },
  {
   "cell_type": "code",
   "execution_count": 2,
   "id": "22b4252c",
   "metadata": {},
   "outputs": [],
   "source": [
    "species_features_dummy = pd.read_csv(\"./data/species_features.csv.gz\", index_col=0)\n",
    "molecule_features_dummy = pd.read_csv(\"./data/molecule_features.csv.gz\", index_col=0).astype(\"int8\")\n",
    "df_agg = pd.read_csv(\"./data/lotus_agg_test.csv.gz\", index_col=0)"
   ]
  },
  {
   "cell_type": "code",
   "execution_count": 3,
   "id": "11cae12e",
   "metadata": {},
   "outputs": [],
   "source": [
    "g_train = nx.read_graphml(\"./graph/train_graph.gml\")\n",
    "g = nx.read_graphml(\"./graph/test_graph.gml\")\n",
    "g  = nx.create_empty_copy(g)\n",
    "g_merged = nx.compose(g_train, g)"
   ]
  },
  {
   "cell_type": "code",
   "execution_count": 4,
   "id": "8e5d4874",
   "metadata": {},
   "outputs": [],
   "source": [
    "df_agg_train = pd.read_csv(\"./data/lotus_agg_train.csv.gz\", index_col=0)"
   ]
  },
  {
   "cell_type": "code",
   "execution_count": 5,
   "id": "f44d4b96",
   "metadata": {},
   "outputs": [],
   "source": [
    "species_feat = species_features_dummy[species_features_dummy.index.isin(df_agg.organism_name)]\n",
    "molecule_feat = molecule_features_dummy[molecule_features_dummy.index.isin(df_agg.structure_smiles_2D)]"
   ]
  },
  {
   "cell_type": "code",
   "execution_count": 6,
   "id": "388ae58d",
   "metadata": {},
   "outputs": [],
   "source": [
    "species_unique_to_test_set = df_agg[~df_agg.organism_name.isin(df_agg_train.organism_name)]\n",
    "molecules_unique_to_test_set = df_agg[~df_agg.structure_smiles_2D.isin(df_agg_train.structure_smiles_2D)]"
   ]
  },
  {
   "cell_type": "code",
   "execution_count": 7,
   "id": "b783b50e",
   "metadata": {},
   "outputs": [],
   "source": [
    "model_m_to_s = tf.keras.models.load_model(\"./model/batch_128_layer_1024_m_to_s\", compile=True)\n",
    "model_s_to_m = tf.keras.models.load_model(\"./model/batch_128_layer_1024_s_to_m\", compile=True)"
   ]
  },
  {
   "cell_type": "code",
   "execution_count": 8,
   "id": "6b9dc475",
   "metadata": {},
   "outputs": [],
   "source": [
    "data = pd.DataFrame(df_agg[['structure_smiles_2D', 'organism_name']].to_numpy(),\n",
    "                    columns=['molecule', 'species'])"
   ]
  },
  {
   "cell_type": "code",
   "execution_count": 9,
   "id": "85e69f29",
   "metadata": {
    "scrolled": true
   },
   "outputs": [],
   "source": [
    "#out = predict(g_train, model_m_to_s, model_s_to_m, data, molecule_features_dummy, species_features_dummy)"
   ]
  },
  {
   "cell_type": "code",
   "execution_count": 10,
   "id": "c2aff448",
   "metadata": {},
   "outputs": [
    {
     "ename": "NameError",
     "evalue": "name 'out' is not defined",
     "output_type": "error",
     "traceback": [
      "\u001b[0;31m---------------------------------------------------------------------------\u001b[0m",
      "\u001b[0;31mNameError\u001b[0m                                 Traceback (most recent call last)",
      "Cell \u001b[0;32mIn[10], line 2\u001b[0m\n\u001b[1;32m      1\u001b[0m \u001b[38;5;28;01mimport\u001b[39;00m \u001b[38;5;21;01mmatplotlib\u001b[39;00m\u001b[38;5;21;01m.\u001b[39;00m\u001b[38;5;21;01mpyplot\u001b[39;00m \u001b[38;5;28;01mas\u001b[39;00m \u001b[38;5;21;01mplt\u001b[39;00m\n\u001b[0;32m----> 2\u001b[0m plt\u001b[38;5;241m.\u001b[39mhist(\u001b[43mout\u001b[49m\u001b[38;5;241m.\u001b[39mprob)\n",
      "\u001b[0;31mNameError\u001b[0m: name 'out' is not defined"
     ]
    }
   ],
   "source": [
    "import matplotlib.pyplot as plt\n",
    "plt.hist(out.prob)"
   ]
  },
  {
   "cell_type": "code",
   "execution_count": null,
   "id": "219da5be",
   "metadata": {},
   "outputs": [],
   "source": [
    "sum(out.prob>0.5)/len(out)"
   ]
  },
  {
   "cell_type": "code",
   "execution_count": null,
   "id": "f6e600ac",
   "metadata": {},
   "outputs": [],
   "source": [
    "out[out.model!='both_known']"
   ]
  },
  {
   "cell_type": "code",
   "execution_count": null,
   "id": "165ba24d-4d19-4b3f-bfb4-d0bd8f4d8f31",
   "metadata": {},
   "outputs": [],
   "source": [
    "data_2 = pd.DataFrame(\n",
    "    molecules_unique_to_test_set[['organism_name', 'structure_smiles_2D']].values,\n",
    "    columns=['species', 'molecule'])"
   ]
  },
  {
   "cell_type": "code",
   "execution_count": null,
   "id": "0e44eb3e-d121-49da-9dcc-c7d2127cd59d",
   "metadata": {},
   "outputs": [],
   "source": [
    "data_2"
   ]
  },
  {
   "cell_type": "code",
   "execution_count": null,
   "id": "02e2cabd-167b-4174-b3f6-ad3c4a7d26c1",
   "metadata": {
    "scrolled": true
   },
   "outputs": [],
   "source": [
    "out_2 = predict(g_train, model_m_to_s, model_s_to_m,\n",
    "                data_2,\n",
    "                molecule_features_dummy,\n",
    "                species_features_dummy\n",
    "               )"
   ]
  },
  {
   "cell_type": "code",
   "execution_count": null,
   "id": "257af5ec-a637-4627-b9ad-89feb4478d0f",
   "metadata": {
    "scrolled": true
   },
   "outputs": [],
   "source": [
    "plt.hist(out_2.prob)"
   ]
  },
  {
   "cell_type": "code",
   "execution_count": 15,
   "id": "caf69736-4ee4-431d-8ec2-445ecbc54965",
   "metadata": {},
   "outputs": [],
   "source": [
    "g_test = nx.read_graphml(\"./graph/test_graph.gml\")\n",
    "g_lotus = nx.compose(g_train, g_test)"
   ]
  },
  {
   "cell_type": "code",
   "execution_count": 11,
   "id": "b621a031-84d2-4cd3-9e1d-877ee2c2b18a",
   "metadata": {},
   "outputs": [],
   "source": [
    "sku = pd.concat([df_agg, df_agg_train])"
   ]
  },
  {
   "cell_type": "code",
   "execution_count": 35,
   "id": "5fc7b573-ebc1-478a-8809-8e67592a49fb",
   "metadata": {},
   "outputs": [],
   "source": [
    "sp = 'Eucalyptus risdoni'\n",
    "data_3 = pd.DataFrame(\n",
    "    {'molecule': list(set(molecule_features_dummy.index)-set(sku[sku.organism_name==sp].structure_smiles_2D)),\n",
    "     'species': sp})"
   ]
  },
  {
   "cell_type": "code",
   "execution_count": 36,
   "id": "f8561910-539d-4faf-b27c-0a3af77acdc3",
   "metadata": {},
   "outputs": [
    {
     "data": {
      "text/html": [
       "<div>\n",
       "<style scoped>\n",
       "    .dataframe tbody tr th:only-of-type {\n",
       "        vertical-align: middle;\n",
       "    }\n",
       "\n",
       "    .dataframe tbody tr th {\n",
       "        vertical-align: top;\n",
       "    }\n",
       "\n",
       "    .dataframe thead th {\n",
       "        text-align: right;\n",
       "    }\n",
       "</style>\n",
       "<table border=\"1\" class=\"dataframe\">\n",
       "  <thead>\n",
       "    <tr style=\"text-align: right;\">\n",
       "      <th></th>\n",
       "      <th>molecule</th>\n",
       "      <th>species</th>\n",
       "    </tr>\n",
       "  </thead>\n",
       "  <tbody>\n",
       "    <tr>\n",
       "      <th>0</th>\n",
       "      <td>C=CCC1CC2(OC)CC(C(C)(C)OC)OC2=CC1=O</td>\n",
       "      <td>Eucalyptus risdoni</td>\n",
       "    </tr>\n",
       "    <tr>\n",
       "      <th>1</th>\n",
       "      <td>CC(C)=CCc1c(O)cc(C=Cc2cc(O)c3c(c2)CC2C(C)(CCC(...</td>\n",
       "      <td>Eucalyptus risdoni</td>\n",
       "    </tr>\n",
       "    <tr>\n",
       "      <th>2</th>\n",
       "      <td>CC(=O)OCC12C(OC(C)=O)C(=O)C3C(OC(C)=O)C14OC3(C...</td>\n",
       "      <td>Eucalyptus risdoni</td>\n",
       "    </tr>\n",
       "    <tr>\n",
       "      <th>3</th>\n",
       "      <td>CC1(C)CC2C(O)C3(O)COC4(O)C(O)C(C)(C2C1)C34</td>\n",
       "      <td>Eucalyptus risdoni</td>\n",
       "    </tr>\n",
       "    <tr>\n",
       "      <th>4</th>\n",
       "      <td>COC1CC(OC2C(O)CC(OC3CCC4(COC(C)=O)C(=CCC5C4CCC...</td>\n",
       "      <td>Eucalyptus risdoni</td>\n",
       "    </tr>\n",
       "    <tr>\n",
       "      <th>...</th>\n",
       "      <td>...</td>\n",
       "      <td>...</td>\n",
       "    </tr>\n",
       "    <tr>\n",
       "      <th>148158</th>\n",
       "      <td>CC1CCC2=C(C1)OC(=O)C2C</td>\n",
       "      <td>Eucalyptus risdoni</td>\n",
       "    </tr>\n",
       "    <tr>\n",
       "      <th>148159</th>\n",
       "      <td>OCC1OC(O)C(O)C1O</td>\n",
       "      <td>Eucalyptus risdoni</td>\n",
       "    </tr>\n",
       "    <tr>\n",
       "      <th>148160</th>\n",
       "      <td>O=C1OCC(Cc2ccc3c(c2)OCO3)C1Cc1cc2c(cc1OC1OC(CO...</td>\n",
       "      <td>Eucalyptus risdoni</td>\n",
       "    </tr>\n",
       "    <tr>\n",
       "      <th>148161</th>\n",
       "      <td>CC=CCC=CCC=CCC=CCC=CCCCCC(=O)OC</td>\n",
       "      <td>Eucalyptus risdoni</td>\n",
       "    </tr>\n",
       "    <tr>\n",
       "      <th>148162</th>\n",
       "      <td>Cc1cc2c(cc1O)oc1c(OC(=O)Cc3ccccc3)c(-c3ccc(O)c...</td>\n",
       "      <td>Eucalyptus risdoni</td>\n",
       "    </tr>\n",
       "  </tbody>\n",
       "</table>\n",
       "<p>148163 rows × 2 columns</p>\n",
       "</div>"
      ],
      "text/plain": [
       "                                                 molecule             species\n",
       "0                     C=CCC1CC2(OC)CC(C(C)(C)OC)OC2=CC1=O  Eucalyptus risdoni\n",
       "1       CC(C)=CCc1c(O)cc(C=Cc2cc(O)c3c(c2)CC2C(C)(CCC(...  Eucalyptus risdoni\n",
       "2       CC(=O)OCC12C(OC(C)=O)C(=O)C3C(OC(C)=O)C14OC3(C...  Eucalyptus risdoni\n",
       "3              CC1(C)CC2C(O)C3(O)COC4(O)C(O)C(C)(C2C1)C34  Eucalyptus risdoni\n",
       "4       COC1CC(OC2C(O)CC(OC3CCC4(COC(C)=O)C(=CCC5C4CCC...  Eucalyptus risdoni\n",
       "...                                                   ...                 ...\n",
       "148158                             CC1CCC2=C(C1)OC(=O)C2C  Eucalyptus risdoni\n",
       "148159                                   OCC1OC(O)C(O)C1O  Eucalyptus risdoni\n",
       "148160  O=C1OCC(Cc2ccc3c(c2)OCO3)C1Cc1cc2c(cc1OC1OC(CO...  Eucalyptus risdoni\n",
       "148161                    CC=CCC=CCC=CCC=CCC=CCCCCC(=O)OC  Eucalyptus risdoni\n",
       "148162  Cc1cc2c(cc1O)oc1c(OC(=O)Cc3ccccc3)c(-c3ccc(O)c...  Eucalyptus risdoni\n",
       "\n",
       "[148163 rows x 2 columns]"
      ]
     },
     "execution_count": 36,
     "metadata": {},
     "output_type": "execute_result"
    }
   ],
   "source": [
    "data_3"
   ]
  },
  {
   "cell_type": "code",
   "execution_count": 37,
   "id": "ece87642-d128-4573-840f-4402e5ed1a8f",
   "metadata": {},
   "outputs": [
    {
     "name": "stdout",
     "output_type": "stream",
     "text": [
      "Checking which model should be used for each row...\n",
      "Adding missing nodes to the graph...\n",
      "Converting NetwrokX to Stellargraph...\n",
      "StellarDiGraph: Directed multigraph\n",
      " Nodes: 184990, Edges: 876144\n",
      "\n",
      " Node types:\n",
      "  molecule: [148190]\n",
      "    Features: float32 vector, length 27\n",
      "    Edge types: molecule-present_in->species\n",
      "  species: [36800]\n",
      "    Features: float32 vector, length 80\n",
      "    Edge types: species-has->molecule\n",
      "\n",
      " Edge types:\n",
      "    species-has->molecule: [438072]\n",
      "        Weights: all 1 (default)\n",
      "        Features: none\n",
      "    molecule-present_in->species: [438072]\n",
      "        Weights: all 1 (default)\n",
      "        Features: none\n",
      "Creating 'forward', 'backward' flow for KNOWN molecule AND species...\n",
      "Predict both : running 'forward' predictions\n",
      "145/145 [==============================] - 21s 144ms/step\n",
      "145/145 [==============================] - 23s 159ms/step\n",
      "145/145 [==============================] - 24s 164ms/step\n",
      "145/145 [==============================] - 20s 136ms/step\n",
      "145/145 [==============================] - 19s 133ms/step\n",
      "145/145 [==============================] - 21s 142ms/step\n",
      "145/145 [==============================] - 20s 138ms/step\n",
      "Predict both : running backward prediction...\n",
      "145/145 [==============================] - 21s 136ms/step\n",
      "145/145 [==============================] - 20s 136ms/step\n",
      "145/145 [==============================] - 22s 151ms/step\n",
      "145/145 [==============================] - 19s 134ms/step\n",
      "145/145 [==============================] - 19s 132ms/step\n",
      "145/145 [==============================] - 21s 143ms/step\n",
      "145/145 [==============================] - 19s 131ms/step\n"
     ]
    }
   ],
   "source": [
    "out_3 = predict(g_lotus, model_m_to_s, model_s_to_m,\n",
    "                data_3,\n",
    "                molecule_features_dummy,\n",
    "                species_features_dummy\n",
    "               )"
   ]
  },
  {
   "cell_type": "code",
   "execution_count": 38,
   "id": "b0b2542e-59cc-46eb-a413-3b75f40a5e2f",
   "metadata": {},
   "outputs": [
    {
     "data": {
      "text/plain": [
       "(array([3.8317e+04, 1.4179e+04, 8.8310e+03, 6.6490e+03, 5.1300e+03,\n",
       "        4.2070e+03, 3.6480e+03, 3.2710e+03, 2.8850e+03, 2.5970e+03,\n",
       "        2.3290e+03, 2.0540e+03, 1.9440e+03, 1.7700e+03, 1.6710e+03,\n",
       "        1.5740e+03, 1.4650e+03, 1.3460e+03, 1.3510e+03, 1.2280e+03,\n",
       "        1.2560e+03, 1.0890e+03, 1.0760e+03, 9.9900e+02, 9.5000e+02,\n",
       "        9.2800e+02, 8.8700e+02, 8.3700e+02, 8.0800e+02, 7.3400e+02,\n",
       "        7.5000e+02, 7.0400e+02, 7.0300e+02, 6.6000e+02, 6.0800e+02,\n",
       "        6.4700e+02, 5.6000e+02, 5.7500e+02, 5.4500e+02, 5.6300e+02,\n",
       "        5.2800e+02, 5.1000e+02, 4.7800e+02, 4.7100e+02, 4.5600e+02,\n",
       "        3.9400e+02, 4.0600e+02, 3.8400e+02, 3.9000e+02, 3.7800e+02,\n",
       "        3.7200e+02, 3.5200e+02, 3.8200e+02, 3.2200e+02, 3.5600e+02,\n",
       "        3.3800e+02, 3.0900e+02, 3.4400e+02, 2.9400e+02, 3.0400e+02,\n",
       "        2.9500e+02, 2.5500e+02, 2.7200e+02, 2.7800e+02, 2.6600e+02,\n",
       "        2.5700e+02, 2.4900e+02, 2.4500e+02, 2.5900e+02, 2.2900e+02,\n",
       "        2.1200e+02, 2.3800e+02, 2.4400e+02, 2.0300e+02, 2.2000e+02,\n",
       "        2.2100e+02, 2.0500e+02, 2.0800e+02, 2.1700e+02, 1.9400e+02,\n",
       "        2.1500e+02, 2.0700e+02, 1.9400e+02, 2.0500e+02, 1.9800e+02,\n",
       "        1.9100e+02, 1.7400e+02, 1.7700e+02, 1.8100e+02, 1.7900e+02,\n",
       "        1.6600e+02, 1.8600e+02, 1.7100e+02, 1.9400e+02, 1.5700e+02,\n",
       "        1.6500e+02, 1.6800e+02, 1.6800e+02, 1.6800e+02, 1.4100e+02,\n",
       "        1.5200e+02, 1.5400e+02, 1.4000e+02, 1.8500e+02, 1.4400e+02,\n",
       "        1.5200e+02, 1.5300e+02, 1.3500e+02, 1.4700e+02, 1.3100e+02,\n",
       "        1.4300e+02, 1.5600e+02, 1.5400e+02, 1.5800e+02, 1.3400e+02,\n",
       "        1.4300e+02, 1.2000e+02, 1.3700e+02, 1.2700e+02, 1.4500e+02,\n",
       "        1.4500e+02, 1.3100e+02, 1.3200e+02, 1.1200e+02, 1.1300e+02,\n",
       "        1.1500e+02, 1.1700e+02, 1.2100e+02, 1.2900e+02, 1.1000e+02,\n",
       "        1.3000e+02, 1.1100e+02, 1.1300e+02, 1.2100e+02, 1.2800e+02,\n",
       "        1.2000e+02, 1.0700e+02, 1.1800e+02, 1.2800e+02, 1.2400e+02,\n",
       "        1.1900e+02, 1.2200e+02, 8.6000e+01, 1.0900e+02, 1.1100e+02,\n",
       "        1.0000e+02, 1.0900e+02, 1.0600e+02, 1.0100e+02, 1.1900e+02,\n",
       "        9.0000e+01, 1.1000e+02, 1.0600e+02, 1.0400e+02, 1.1000e+02,\n",
       "        9.5000e+01, 8.6000e+01, 9.5000e+01, 9.4000e+01, 9.8000e+01,\n",
       "        7.9000e+01, 9.1000e+01, 7.8000e+01, 9.7000e+01, 7.8000e+01,\n",
       "        7.9000e+01, 7.8000e+01, 8.5000e+01, 8.0000e+01, 8.9000e+01,\n",
       "        9.1000e+01, 7.3000e+01, 9.0000e+01, 7.0000e+01, 8.2000e+01,\n",
       "        7.0000e+01, 7.3000e+01, 7.1000e+01, 6.6000e+01, 5.2000e+01,\n",
       "        6.7000e+01, 6.2000e+01, 4.8000e+01, 5.1000e+01, 5.6000e+01,\n",
       "        5.0000e+01, 6.0000e+01, 3.9000e+01, 4.5000e+01, 3.3000e+01,\n",
       "        5.0000e+01, 3.6000e+01, 2.3000e+01, 1.8000e+01, 1.4000e+01,\n",
       "        3.0000e+01, 1.5000e+01, 1.3000e+01, 6.0000e+00, 5.0000e+00]),\n",
       " array([9.88420015e-06, 4.96388496e-03, 9.91788572e-03, 1.48718865e-02,\n",
       "        1.98258872e-02, 2.47798880e-02, 2.97338888e-02, 3.46878895e-02,\n",
       "        3.96418903e-02, 4.45958911e-02, 4.95498918e-02, 5.45038926e-02,\n",
       "        5.94578933e-02, 6.44118941e-02, 6.93658949e-02, 7.43198956e-02,\n",
       "        7.92738964e-02, 8.42278972e-02, 8.91818979e-02, 9.41358987e-02,\n",
       "        9.90898994e-02, 1.04043900e-01, 1.08997901e-01, 1.13951902e-01,\n",
       "        1.18905902e-01, 1.23859903e-01, 1.28813904e-01, 1.33767905e-01,\n",
       "        1.38721906e-01, 1.43675906e-01, 1.48629907e-01, 1.53583908e-01,\n",
       "        1.58537909e-01, 1.63491909e-01, 1.68445910e-01, 1.73399911e-01,\n",
       "        1.78353912e-01, 1.83307912e-01, 1.88261913e-01, 1.93215914e-01,\n",
       "        1.98169915e-01, 2.03123915e-01, 2.08077916e-01, 2.13031917e-01,\n",
       "        2.17985918e-01, 2.22939919e-01, 2.27893919e-01, 2.32847920e-01,\n",
       "        2.37801921e-01, 2.42755922e-01, 2.47709922e-01, 2.52663923e-01,\n",
       "        2.57617924e-01, 2.62571925e-01, 2.67525925e-01, 2.72479926e-01,\n",
       "        2.77433927e-01, 2.82387928e-01, 2.87341928e-01, 2.92295929e-01,\n",
       "        2.97249930e-01, 3.02203931e-01, 3.07157931e-01, 3.12111932e-01,\n",
       "        3.17065933e-01, 3.22019934e-01, 3.26973935e-01, 3.31927935e-01,\n",
       "        3.36881936e-01, 3.41835937e-01, 3.46789938e-01, 3.51743938e-01,\n",
       "        3.56697939e-01, 3.61651940e-01, 3.66605941e-01, 3.71559941e-01,\n",
       "        3.76513942e-01, 3.81467943e-01, 3.86421944e-01, 3.91375944e-01,\n",
       "        3.96329945e-01, 4.01283946e-01, 4.06237947e-01, 4.11191947e-01,\n",
       "        4.16145948e-01, 4.21099949e-01, 4.26053950e-01, 4.31007951e-01,\n",
       "        4.35961951e-01, 4.40915952e-01, 4.45869953e-01, 4.50823954e-01,\n",
       "        4.55777954e-01, 4.60731955e-01, 4.65685956e-01, 4.70639957e-01,\n",
       "        4.75593957e-01, 4.80547958e-01, 4.85501959e-01, 4.90455960e-01,\n",
       "        4.95409960e-01, 5.00363961e-01, 5.05317962e-01, 5.10271963e-01,\n",
       "        5.15225963e-01, 5.20179964e-01, 5.25133965e-01, 5.30087966e-01,\n",
       "        5.35041967e-01, 5.39995967e-01, 5.44949968e-01, 5.49903969e-01,\n",
       "        5.54857970e-01, 5.59811970e-01, 5.64765971e-01, 5.69719972e-01,\n",
       "        5.74673973e-01, 5.79627973e-01, 5.84581974e-01, 5.89535975e-01,\n",
       "        5.94489976e-01, 5.99443976e-01, 6.04397977e-01, 6.09351978e-01,\n",
       "        6.14305979e-01, 6.19259979e-01, 6.24213980e-01, 6.29167981e-01,\n",
       "        6.34121982e-01, 6.39075983e-01, 6.44029983e-01, 6.48983984e-01,\n",
       "        6.53937985e-01, 6.58891986e-01, 6.63845986e-01, 6.68799987e-01,\n",
       "        6.73753988e-01, 6.78707989e-01, 6.83661989e-01, 6.88615990e-01,\n",
       "        6.93569991e-01, 6.98523992e-01, 7.03477992e-01, 7.08431993e-01,\n",
       "        7.13385994e-01, 7.18339995e-01, 7.23293995e-01, 7.28247996e-01,\n",
       "        7.33201997e-01, 7.38155998e-01, 7.43109999e-01, 7.48063999e-01,\n",
       "        7.53018000e-01, 7.57972001e-01, 7.62926002e-01, 7.67880002e-01,\n",
       "        7.72834003e-01, 7.77788004e-01, 7.82742005e-01, 7.87696005e-01,\n",
       "        7.92650006e-01, 7.97604007e-01, 8.02558008e-01, 8.07512008e-01,\n",
       "        8.12466009e-01, 8.17420010e-01, 8.22374011e-01, 8.27328012e-01,\n",
       "        8.32282012e-01, 8.37236013e-01, 8.42190014e-01, 8.47144015e-01,\n",
       "        8.52098015e-01, 8.57052016e-01, 8.62006017e-01, 8.66960018e-01,\n",
       "        8.71914018e-01, 8.76868019e-01, 8.81822020e-01, 8.86776021e-01,\n",
       "        8.91730021e-01, 8.96684022e-01, 9.01638023e-01, 9.06592024e-01,\n",
       "        9.11546024e-01, 9.16500025e-01, 9.21454026e-01, 9.26408027e-01,\n",
       "        9.31362028e-01, 9.36316028e-01, 9.41270029e-01, 9.46224030e-01,\n",
       "        9.51178031e-01, 9.56132031e-01, 9.61086032e-01, 9.66040033e-01,\n",
       "        9.70994034e-01, 9.75948034e-01, 9.80902035e-01, 9.85856036e-01,\n",
       "        9.90810037e-01]),\n",
       " <BarContainer object of 200 artists>)"
      ]
     },
     "execution_count": 38,
     "metadata": {},
     "output_type": "execute_result"
    },
    {
     "data": {
      "image/png": "[encoded data removed]",
      "text/plain": [
       "<Figure size 640x480 with 1 Axes>"
      ]
     },
     "metadata": {},
     "output_type": "display_data"
    }
   ],
   "source": [
    "plt.hist(out_3.prob, bins=200)"
   ]
  },
  {
   "cell_type": "code",
   "execution_count": 39,
   "id": "fa442cb0-d3a1-4258-8a9e-bf52a01b36bf",
   "metadata": {
    "scrolled": true
   },
   "outputs": [
    {
     "data": {
      "text/html": [
       "<div>\n",
       "<style scoped>\n",
       "    .dataframe tbody tr th:only-of-type {\n",
       "        vertical-align: middle;\n",
       "    }\n",
       "\n",
       "    .dataframe tbody tr th {\n",
       "        vertical-align: top;\n",
       "    }\n",
       "\n",
       "    .dataframe thead th {\n",
       "        text-align: right;\n",
       "    }\n",
       "</style>\n",
       "<table border=\"1\" class=\"dataframe\">\n",
       "  <thead>\n",
       "    <tr style=\"text-align: right;\">\n",
       "      <th></th>\n",
       "      <th>molecule</th>\n",
       "      <th>species</th>\n",
       "      <th>model</th>\n",
       "      <th>prob</th>\n",
       "    </tr>\n",
       "  </thead>\n",
       "  <tbody>\n",
       "    <tr>\n",
       "      <th>2841</th>\n",
       "      <td>COC(=O)C12CCC(C)(C)CC1C1=CCC3C4(C)CC(O)C(O)C(C...</td>\n",
       "      <td>Eucalyptus risdoni</td>\n",
       "      <td>both_known</td>\n",
       "      <td>0.952163</td>\n",
       "    </tr>\n",
       "    <tr>\n",
       "      <th>5450</th>\n",
       "      <td>CCC=CCC=CCC=CCCCCCCCC(=O)O</td>\n",
       "      <td>Eucalyptus risdoni</td>\n",
       "      <td>both_known</td>\n",
       "      <td>0.951932</td>\n",
       "    </tr>\n",
       "    <tr>\n",
       "      <th>5729</th>\n",
       "      <td>CCC(C=CC(C)C1CCC2C3C(=O)C=C4CC(O)CCC4(C)C3CCC1...</td>\n",
       "      <td>Eucalyptus risdoni</td>\n",
       "      <td>both_known</td>\n",
       "      <td>0.981277</td>\n",
       "    </tr>\n",
       "    <tr>\n",
       "      <th>5776</th>\n",
       "      <td>O=C(O)CCCCCCCC=CC=CC=CCCCCO</td>\n",
       "      <td>Eucalyptus risdoni</td>\n",
       "      <td>both_known</td>\n",
       "      <td>0.967726</td>\n",
       "    </tr>\n",
       "    <tr>\n",
       "      <th>7947</th>\n",
       "      <td>CCCCCC=CCC=CCCCCCCCC(=O)OC</td>\n",
       "      <td>Eucalyptus risdoni</td>\n",
       "      <td>both_known</td>\n",
       "      <td>0.954769</td>\n",
       "    </tr>\n",
       "    <tr>\n",
       "      <th>...</th>\n",
       "      <td>...</td>\n",
       "      <td>...</td>\n",
       "      <td>...</td>\n",
       "      <td>...</td>\n",
       "    </tr>\n",
       "    <tr>\n",
       "      <th>142786</th>\n",
       "      <td>CCCCCCCCC=CCCCCCCCC(=O)O</td>\n",
       "      <td>Eucalyptus risdoni</td>\n",
       "      <td>both_known</td>\n",
       "      <td>0.976300</td>\n",
       "    </tr>\n",
       "    <tr>\n",
       "      <th>143156</th>\n",
       "      <td>CCCCCCCCC#CCCCCCCCC(=O)O</td>\n",
       "      <td>Eucalyptus risdoni</td>\n",
       "      <td>both_known</td>\n",
       "      <td>0.950856</td>\n",
       "    </tr>\n",
       "    <tr>\n",
       "      <th>143324</th>\n",
       "      <td>CCCCCCCCCCCCCCCCCCCCCCCC(=O)O</td>\n",
       "      <td>Eucalyptus risdoni</td>\n",
       "      <td>both_known</td>\n",
       "      <td>0.969585</td>\n",
       "    </tr>\n",
       "    <tr>\n",
       "      <th>143877</th>\n",
       "      <td>C=CC(C)(O)CCC=C(C)COC1OC(CO)C(O)C(O)C1O</td>\n",
       "      <td>Eucalyptus risdoni</td>\n",
       "      <td>both_known</td>\n",
       "      <td>0.958273</td>\n",
       "    </tr>\n",
       "    <tr>\n",
       "      <th>147168</th>\n",
       "      <td>C=C(C)C(CC)CCC(C)C1CCC2C3=CCC4CC(O)CCC4(C)C3CC...</td>\n",
       "      <td>Eucalyptus risdoni</td>\n",
       "      <td>both_known</td>\n",
       "      <td>0.978227</td>\n",
       "    </tr>\n",
       "  </tbody>\n",
       "</table>\n",
       "<p>132 rows × 4 columns</p>\n",
       "</div>"
      ],
      "text/plain": [
       "                                                 molecule             species  \\\n",
       "2841    COC(=O)C12CCC(C)(C)CC1C1=CCC3C4(C)CC(O)C(O)C(C...  Eucalyptus risdoni   \n",
       "5450                           CCC=CCC=CCC=CCCCCCCCC(=O)O  Eucalyptus risdoni   \n",
       "5729    CCC(C=CC(C)C1CCC2C3C(=O)C=C4CC(O)CCC4(C)C3CCC1...  Eucalyptus risdoni   \n",
       "5776                          O=C(O)CCCCCCCC=CC=CC=CCCCCO  Eucalyptus risdoni   \n",
       "7947                           CCCCCC=CCC=CCCCCCCCC(=O)OC  Eucalyptus risdoni   \n",
       "...                                                   ...                 ...   \n",
       "142786                           CCCCCCCCC=CCCCCCCCC(=O)O  Eucalyptus risdoni   \n",
       "143156                           CCCCCCCCC#CCCCCCCCC(=O)O  Eucalyptus risdoni   \n",
       "143324                      CCCCCCCCCCCCCCCCCCCCCCCC(=O)O  Eucalyptus risdoni   \n",
       "143877            C=CC(C)(O)CCC=C(C)COC1OC(CO)C(O)C(O)C1O  Eucalyptus risdoni   \n",
       "147168  C=C(C)C(CC)CCC(C)C1CCC2C3=CCC4CC(O)CCC4(C)C3CC...  Eucalyptus risdoni   \n",
       "\n",
       "             model      prob  \n",
       "2841    both_known  0.952163  \n",
       "5450    both_known  0.951932  \n",
       "5729    both_known  0.981277  \n",
       "5776    both_known  0.967726  \n",
       "7947    both_known  0.954769  \n",
       "...            ...       ...  \n",
       "142786  both_known  0.976300  \n",
       "143156  both_known  0.950856  \n",
       "143324  both_known  0.969585  \n",
       "143877  both_known  0.958273  \n",
       "147168  both_known  0.978227  \n",
       "\n",
       "[132 rows x 4 columns]"
      ]
     },
     "execution_count": 39,
     "metadata": {},
     "output_type": "execute_result"
    }
   ],
   "source": [
    "out_3[out_3.prob>0.95]"
   ]
  },
  {
   "cell_type": "code",
   "execution_count": null,
   "id": "e754ab62-f4f8-4db1-959b-9e0fb18fb063",
   "metadata": {},
   "outputs": [],
   "source": [
    "df = pd.read_csv(\"./data/230106_frozen_metadata.csv.gz\",chunksize=100)"
   ]
  },
  {
   "cell_type": "code",
   "execution_count": null,
   "id": "3b27d949-6430-4274-b11d-b2d767f96274",
   "metadata": {},
   "outputs": [],
   "source": [
    "len(df_agg.organism_name.unique()) * len(df_agg.structure_smiles_2D.unique())"
   ]
  },
  {
   "cell_type": "code",
   "execution_count": null,
   "id": "4f3326fc-f90c-4aa8-b594-ca2007c42d5d",
   "metadata": {},
   "outputs": [],
   "source": [
    "import itertools\n",
    "ls = itertools.product(df_agg.organism_name.unique(), df_agg.structure_smiles_2D.unique())"
   ]
  },
  {
   "cell_type": "code",
   "execution_count": null,
   "id": "5d841181-e193-4c23-9c09-e85915204b93",
   "metadata": {},
   "outputs": [],
   "source": [
    "import csv"
   ]
  },
  {
   "cell_type": "code",
   "execution_count": null,
   "id": "cbe3b0a3-9c23-4d9d-978a-c433b99eebe3",
   "metadata": {},
   "outputs": [],
   "source": [
    "df[df['structure_smiles_2D']=='OCC1OC(O)(CO)C(O)C(O)C1O'].values"
   ]
  },
  {
   "cell_type": "code",
   "execution_count": null,
   "id": "4db57faa-65c5-4e56-92a5-066f31c41bed",
   "metadata": {},
   "outputs": [],
   "source": [
    "from itertools import combinations, product\n",
    "import csv\n",
    "crust = ['Thin Crust', 'Hand Tossed']\n",
    "topping = ['Bacon', 'Pepperoni', 'Steak']\n",
    "sauce = ['Tomato', 'BBQ', 'Ranch']\n",
    "\n",
    "\n",
    "prod = product(crust, topping)\n",
    "combine_list=[]\n",
    "for c, t in prod:\n",
    "    print(c, t, sep=', ')"
   ]
  }
 ],
 "metadata": {
  "kernelspec": {
   "display_name": "Python 3 (ipykernel)",
   "language": "python",
   "name": "python3"
  },
  "language_info": {
   "codemirror_mode": {
    "name": "ipython",
    "version": 3
   },
   "file_extension": ".py",
   "mimetype": "text/x-python",
   "name": "python",
   "nbconvert_exporter": "python",
   "pygments_lexer": "ipython3",
   "version": "3.11.4"
  }
 },
 "nbformat": 4,
 "nbformat_minor": 5
}
