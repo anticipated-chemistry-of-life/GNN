{
 "cells": [
  {
   "cell_type": "code",
   "execution_count": 1,
   "id": "dd82b030",
   "metadata": {
    "editable": true,
    "slideshow": {
     "slide_type": ""
    },
    "tags": []
   },
   "outputs": [],
   "source": [
    "import os\n",
    "os.environ['TF_CPP_MIN_LOG_LEVEL'] = '3' \n",
    "import pandas as pd\n",
    "import networkx as nx\n",
    "import tensorflow as tf\n",
    "import numpy as np\n",
    "from utils.utils import predict\n",
    "import matplotlib.pyplot as plt"
   ]
  },
  {
   "cell_type": "code",
   "execution_count": 2,
   "id": "b783b50e",
   "metadata": {},
   "outputs": [],
   "source": [
    "model_m_to_s = tf.keras.models.load_model(\"./model/gbif_batch_128_layer_1024_m_to_s\", compile=True)\n",
    "model_s_to_m = tf.keras.models.load_model(\"./model/gbif_batch_128_layer_1024_s_to_m\", compile=True)"
   ]
  },
  {
   "cell_type": "code",
   "execution_count": 3,
   "id": "22b4252c",
   "metadata": {},
   "outputs": [],
   "source": [
    "species_features_dummy = pd.read_csv(\"./data/species_features.csv.gz\", index_col=0)\n",
    "molecule_features_dummy = pd.read_csv(\"./data/molecule_features.csv.gz\", index_col=0).astype(\"int8\")\n",
    "df_agg = pd.read_csv(\"./data/lotus_agg_test.csv.gz\", index_col=0)"
   ]
  },
  {
   "cell_type": "code",
   "execution_count": 4,
   "id": "2cf17209-3a1c-4859-878d-ff899b357228",
   "metadata": {},
   "outputs": [],
   "source": [
    "rdkit = pd.read_csv(\"./data/mol_dummy_rdkit.csv.gz\", index_col=0).astype('uint8')\n",
    "rdkit.columns = rdkit.columns.astype(str)\n",
    "#molecule_features_dummy = molecule_features_dummy.merge(rdkit,\n",
    "#                                                        left_index=True,\n",
    "#                                                        right_index=True)"
   ]
  },
  {
   "cell_type": "code",
   "execution_count": 5,
   "id": "11cae12e",
   "metadata": {},
   "outputs": [],
   "source": [
    "g_train = nx.read_graphml(\"./graph/train_graph.gml\")\n",
    "g = nx.read_graphml(\"./graph/test_graph.gml\")\n",
    "g  = nx.create_empty_copy(g)\n",
    "g_merged = nx.compose(g_train, g)"
   ]
  },
  {
   "cell_type": "code",
   "execution_count": 6,
   "id": "8e5d4874",
   "metadata": {},
   "outputs": [],
   "source": [
    "df_agg_train = pd.read_csv(\"./data/lotus_agg_train.csv.gz\", index_col=0)"
   ]
  },
  {
   "cell_type": "code",
   "execution_count": null,
   "id": "f44d4b96",
   "metadata": {},
   "outputs": [],
   "source": [
    "species_feat = species_features_dummy[species_features_dummy.index.isin(df_agg.organism_name)]\n",
    "molecule_feat = molecule_features_dummy[molecule_features_dummy.index.isin(df_agg.structure_smiles_2D)]"
   ]
  },
  {
   "cell_type": "code",
   "execution_count": null,
   "id": "388ae58d",
   "metadata": {},
   "outputs": [],
   "source": [
    "species_unique_to_test_set = df_agg[~df_agg.organism_name.isin(df_agg_train.organism_name)]\n",
    "molecules_unique_to_test_set = df_agg[~df_agg.structure_smiles_2D.isin(df_agg_train.structure_smiles_2D)]"
   ]
  },
  {
   "cell_type": "code",
   "execution_count": null,
   "id": "6b9dc475",
   "metadata": {},
   "outputs": [],
   "source": [
    "data = pd.DataFrame(df_agg[['structure_smiles_2D', 'organism_name']].to_numpy(),\n",
    "                    columns=['molecule', 'species'])"
   ]
  },
  {
   "cell_type": "code",
   "execution_count": null,
   "id": "85e69f29",
   "metadata": {
    "scrolled": true
   },
   "outputs": [],
   "source": [
    "#out = predict(g_train, model_m_to_s, model_s_to_m, data, molecule_features_dummy, species_features_dummy)"
   ]
  },
  {
   "cell_type": "code",
   "execution_count": null,
   "id": "c2aff448",
   "metadata": {},
   "outputs": [],
   "source": [
    "import matplotlib.pyplot as plt\n",
    "plt.hist(out.prob)"
   ]
  },
  {
   "cell_type": "code",
   "execution_count": null,
   "id": "219da5be",
   "metadata": {},
   "outputs": [],
   "source": [
    "sum(out.prob>0.5)/len(out)"
   ]
  },
  {
   "cell_type": "code",
   "execution_count": null,
   "id": "f6e600ac",
   "metadata": {},
   "outputs": [],
   "source": [
    "out[out.model!='both_known']"
   ]
  },
  {
   "cell_type": "code",
   "execution_count": null,
   "id": "165ba24d-4d19-4b3f-bfb4-d0bd8f4d8f31",
   "metadata": {},
   "outputs": [],
   "source": [
    "data_2 = pd.DataFrame(\n",
    "    molecules_unique_to_test_set[['organism_name', 'structure_smiles_2D']].values,\n",
    "    columns=['species', 'molecule'])"
   ]
  },
  {
   "cell_type": "code",
   "execution_count": null,
   "id": "0e44eb3e-d121-49da-9dcc-c7d2127cd59d",
   "metadata": {},
   "outputs": [],
   "source": [
    "data_2"
   ]
  },
  {
   "cell_type": "code",
   "execution_count": null,
   "id": "02e2cabd-167b-4174-b3f6-ad3c4a7d26c1",
   "metadata": {
    "scrolled": true
   },
   "outputs": [],
   "source": [
    "out_2 = predict(g_train, model_m_to_s, model_s_to_m,\n",
    "                data_2,\n",
    "                molecule_features_dummy,\n",
    "                species_features_dummy\n",
    "               )"
   ]
  },
  {
   "cell_type": "code",
   "execution_count": null,
   "id": "257af5ec-a637-4627-b9ad-89feb4478d0f",
   "metadata": {
    "scrolled": true
   },
   "outputs": [],
   "source": [
    "plt.hist(out_2.prob)"
   ]
  },
  {
   "cell_type": "code",
   "execution_count": 7,
   "id": "caf69736-4ee4-431d-8ec2-445ecbc54965",
   "metadata": {},
   "outputs": [],
   "source": [
    "g_test = nx.read_graphml(\"./graph/test_graph.gml\")\n",
    "g_lotus = nx.compose(g_train, g_test)"
   ]
  },
  {
   "cell_type": "code",
   "execution_count": 8,
   "id": "b621a031-84d2-4cd3-9e1d-877ee2c2b18a",
   "metadata": {},
   "outputs": [],
   "source": [
    "sku = pd.concat([df_agg, df_agg_train])"
   ]
  },
  {
   "cell_type": "code",
   "execution_count": 9,
   "id": "5fc7b573-ebc1-478a-8809-8e67592a49fb",
   "metadata": {},
   "outputs": [],
   "source": [
    "sp = 'Trigonostemon reidioides'\n",
    "data_3 = pd.DataFrame(\n",
    "    {'molecule': list(set(molecule_features_dummy.index)-set(sku[sku.organism_name==sp].structure_smiles_2D)),\n",
    "     'species': sp})"
   ]
  },
  {
   "cell_type": "code",
   "execution_count": null,
   "id": "f8561910-539d-4faf-b27c-0a3af77acdc3",
   "metadata": {
    "scrolled": true
   },
   "outputs": [],
   "source": [
    "data_3"
   ]
  },
  {
   "cell_type": "code",
   "execution_count": 10,
   "id": "79a5a3e0-6cd2-40ea-b40a-7b34868efcfa",
   "metadata": {},
   "outputs": [],
   "source": [
    "mols_classyfire = sku[['structure_taxonomy_classyfire_01kingdom',\n",
    "       'structure_taxonomy_classyfire_02superclass',\n",
    "       'structure_taxonomy_classyfire_03class',\n",
    "       'structure_taxonomy_classyfire_04directparent']].copy()"
   ]
  },
  {
   "cell_type": "code",
   "execution_count": 11,
   "id": "b0dc0e5c-aa31-4d77-9530-0f5222bafe0a",
   "metadata": {
    "scrolled": true
   },
   "outputs": [],
   "source": [
    "mols_classyfire.index = sku.structure_smiles_2D\n",
    "mols_classyfire = mols_classyfire[~mols_classyfire.index.duplicated(keep='first')]"
   ]
  },
  {
   "cell_type": "code",
   "execution_count": 12,
   "id": "027b524b-6e74-48b9-b90a-3a87a5bbb387",
   "metadata": {},
   "outputs": [],
   "source": [
    "species_taxo = sku[['kingdom','phylum','class','order','family','genus', 'organism_name']].copy()"
   ]
  },
  {
   "cell_type": "code",
   "execution_count": 13,
   "id": "111165a2-54b0-4ae3-ab48-3236be537395",
   "metadata": {},
   "outputs": [],
   "source": [
    "species_taxo.index = sku.organism_name\n",
    "species_taxo = species_taxo[~species_taxo.index.duplicated(keep='first')]"
   ]
  },
  {
   "cell_type": "code",
   "execution_count": null,
   "id": "ece87642-d128-4573-840f-4402e5ed1a8f",
   "metadata": {},
   "outputs": [],
   "source": [
    "out_3 = predict(g_lotus,\n",
    "                model_m_to_s,\n",
    "                model_s_to_m,\n",
    "                data_3,\n",
    "                mols_classyfire,\n",
    "                rdkit,\n",
    "                species_taxo\n",
    "               )"
   ]
  },
  {
   "cell_type": "code",
   "execution_count": null,
   "id": "b0b2542e-59cc-46eb-a413-3b75f40a5e2f",
   "metadata": {},
   "outputs": [],
   "source": [
    "plt.hist(out_3.prob, bins=200)"
   ]
  },
  {
   "cell_type": "code",
   "execution_count": null,
   "id": "fa442cb0-d3a1-4258-8a9e-bf52a01b36bf",
   "metadata": {
    "editable": true,
    "scrolled": true,
    "slideshow": {
     "slide_type": ""
    },
    "tags": []
   },
   "outputs": [],
   "source": [
    "out_3[out_3.prob>0.95]"
   ]
  },
  {
   "cell_type": "markdown",
   "id": "78a27f69-5b8c-4009-9394-5bea552a957c",
   "metadata": {},
   "source": [
    "# Test 4: let's see if cholesterol is present \"everywhere\"\n"
   ]
  },
  {
   "cell_type": "code",
   "execution_count": 19,
   "id": "a7c99299-4484-4da2-b9ff-f6e1804d3ce4",
   "metadata": {},
   "outputs": [],
   "source": [
    "mol = 'HVYWMOMLDIMFJA-DPAQBDIFSA-N'\n",
    "data_4 = pd.DataFrame(\n",
    "    {'molecule': mol,\n",
    "     'species': list(set(species_features_dummy.index)-set(sku[sku.structure_smiles_2D==mol].organism_name))})"
   ]
  },
  {
   "cell_type": "code",
   "execution_count": 15,
   "id": "de1e3e18-021a-4a31-9070-45b76015030f",
   "metadata": {},
   "outputs": [],
   "source": [
    "data_4 = pd.DataFrame(\n",
    "    data={'molecule': mol,\n",
    "     'species': ['Monstera adansonii', 'Monstera egregia']})"
   ]
  },
  {
   "cell_type": "code",
   "execution_count": null,
   "id": "41af1139-99da-4433-86ba-d1aeaf76be86",
   "metadata": {},
   "outputs": [],
   "source": [
    "data_4"
   ]
  },
  {
   "cell_type": "code",
   "execution_count": 20,
   "id": "d918b7ec-b4d3-435c-b9bb-88bd40bb4a34",
   "metadata": {
    "scrolled": true
   },
   "outputs": [
    {
     "name": "stdout",
     "output_type": "stream",
     "text": [
      "Converting Inchikeys to SMILES...\n",
      "Getting missing features...\n",
      "None\n",
      "Converting species taxonomy as numeric...\n",
      "Converting molecules as numeric...\n",
      "Checking which model should be used for each row...\n",
      "Adding missing nodes to the graph...\n",
      "Converting NetworkX to Stellargraph...\n",
      "StellarDiGraph: Directed multigraph\n",
      " Nodes: 184195, Edges: 869484\n",
      "\n",
      " Node types:\n",
      "  molecule: [147748]\n",
      "    Features: float32 vector, length 1051\n",
      "    Edge types: molecule-present_in->species\n",
      "  species: [36447]\n",
      "    Features: float32 vector, length 69\n",
      "    Edge types: species-has->molecule\n",
      "\n",
      " Edge types:\n",
      "    species-has->molecule: [434742]\n",
      "        Weights: all 1 (default)\n",
      "        Features: none\n",
      "    molecule-present_in->species: [434742]\n",
      "        Weights: all 1 (default)\n",
      "        Features: none\n",
      "Creating mol to species flow...\n",
      "Predicting mol to species...\n",
      "36/36 [==============================] - 8s 225ms/step\n",
      "36/36 [==============================] - 6s 170ms/step\n",
      "36/36 [==============================] - 7s 190ms/step\n",
      "36/36 [==============================] - 7s 206ms/step\n",
      "36/36 [==============================] - 11s 272ms/step\n",
      "36/36 [==============================] - 10s 271ms/step\n",
      "36/36 [==============================] - 7s 179ms/step\n"
     ]
    }
   ],
   "source": [
    "out_4 = predict(g_lotus,\n",
    "                model_m_to_s,\n",
    "                model_s_to_m,\n",
    "                data_4,\n",
    "                mols_classyfire,\n",
    "                rdkit,\n",
    "                species_taxo\n",
    "               )"
   ]
  },
  {
   "cell_type": "code",
   "execution_count": 21,
   "id": "9375599f-392a-4dd7-9ab5-0a6de1e28aff",
   "metadata": {},
   "outputs": [
    {
     "data": {
      "text/html": [
       "<div>\n",
       "<style scoped>\n",
       "    .dataframe tbody tr th:only-of-type {\n",
       "        vertical-align: middle;\n",
       "    }\n",
       "\n",
       "    .dataframe tbody tr th {\n",
       "        vertical-align: top;\n",
       "    }\n",
       "\n",
       "    .dataframe thead th {\n",
       "        text-align: right;\n",
       "    }\n",
       "</style>\n",
       "<table border=\"1\" class=\"dataframe\">\n",
       "  <thead>\n",
       "    <tr style=\"text-align: right;\">\n",
       "      <th></th>\n",
       "      <th>molecule</th>\n",
       "      <th>species</th>\n",
       "      <th>model</th>\n",
       "      <th>prob</th>\n",
       "    </tr>\n",
       "  </thead>\n",
       "  <tbody>\n",
       "    <tr>\n",
       "      <th>0</th>\n",
       "      <td>CC(C)CCCC(C)C1CCC2C1(CCC3C2CC=C4C3(CCC(C4)O)C)C</td>\n",
       "      <td>Sirococcus conorum</td>\n",
       "      <td>m_to_s</td>\n",
       "      <td>0.774194</td>\n",
       "    </tr>\n",
       "    <tr>\n",
       "      <th>1</th>\n",
       "      <td>CC(C)CCCC(C)C1CCC2C1(CCC3C2CC=C4C3(CCC(C4)O)C)C</td>\n",
       "      <td>Xestospongia testudinaria</td>\n",
       "      <td>m_to_s</td>\n",
       "      <td>0.886120</td>\n",
       "    </tr>\n",
       "    <tr>\n",
       "      <th>2</th>\n",
       "      <td>CC(C)CCCC(C)C1CCC2C1(CCC3C2CC=C4C3(CCC(C4)O)C)C</td>\n",
       "      <td>Anadara broughtonii</td>\n",
       "      <td>m_to_s</td>\n",
       "      <td>0.358161</td>\n",
       "    </tr>\n",
       "    <tr>\n",
       "      <th>3</th>\n",
       "      <td>CC(C)CCCC(C)C1CCC2C1(CCC3C2CC=C4C3(CCC(C4)O)C)C</td>\n",
       "      <td>Medicago rigidula</td>\n",
       "      <td>m_to_s</td>\n",
       "      <td>0.113697</td>\n",
       "    </tr>\n",
       "    <tr>\n",
       "      <th>4</th>\n",
       "      <td>CC(C)CCCC(C)C1CCC2C1(CCC3C2CC=C4C3(CCC(C4)O)C)C</td>\n",
       "      <td>Trichoderma saturnisporum</td>\n",
       "      <td>m_to_s</td>\n",
       "      <td>0.855042</td>\n",
       "    </tr>\n",
       "    <tr>\n",
       "      <th>...</th>\n",
       "      <td>...</td>\n",
       "      <td>...</td>\n",
       "      <td>...</td>\n",
       "      <td>...</td>\n",
       "    </tr>\n",
       "    <tr>\n",
       "      <th>36442</th>\n",
       "      <td>CC(C)CCCC(C)C1CCC2C1(CCC3C2CC=C4C3(CCC(C4)O)C)C</td>\n",
       "      <td>Cetraria tenuifolia</td>\n",
       "      <td>m_to_s</td>\n",
       "      <td>0.629371</td>\n",
       "    </tr>\n",
       "    <tr>\n",
       "      <th>36443</th>\n",
       "      <td>CC(C)CCCC(C)C1CCC2C1(CCC3C2CC=C4C3(CCC(C4)O)C)C</td>\n",
       "      <td>Penstemon procerus</td>\n",
       "      <td>m_to_s</td>\n",
       "      <td>0.408119</td>\n",
       "    </tr>\n",
       "    <tr>\n",
       "      <th>36444</th>\n",
       "      <td>CC(C)CCCC(C)C1CCC2C1(CCC3C2CC=C4C3(CCC(C4)O)C)C</td>\n",
       "      <td>Phedimus aizoon</td>\n",
       "      <td>m_to_s</td>\n",
       "      <td>0.933041</td>\n",
       "    </tr>\n",
       "    <tr>\n",
       "      <th>36445</th>\n",
       "      <td>CC(C)CCCC(C)C1CCC2C1(CCC3C2CC=C4C3(CCC(C4)O)C)C</td>\n",
       "      <td>Hedeoma pulegioides</td>\n",
       "      <td>m_to_s</td>\n",
       "      <td>0.694848</td>\n",
       "    </tr>\n",
       "    <tr>\n",
       "      <th>36446</th>\n",
       "      <td>CC(C)CCCC(C)C1CCC2C1(CCC3C2CC=C4C3(CCC(C4)O)C)C</td>\n",
       "      <td>Tabernaemontana africana</td>\n",
       "      <td>m_to_s</td>\n",
       "      <td>0.159584</td>\n",
       "    </tr>\n",
       "  </tbody>\n",
       "</table>\n",
       "<p>36447 rows × 4 columns</p>\n",
       "</div>"
      ],
      "text/plain": [
       "                                              molecule  \\\n",
       "0      CC(C)CCCC(C)C1CCC2C1(CCC3C2CC=C4C3(CCC(C4)O)C)C   \n",
       "1      CC(C)CCCC(C)C1CCC2C1(CCC3C2CC=C4C3(CCC(C4)O)C)C   \n",
       "2      CC(C)CCCC(C)C1CCC2C1(CCC3C2CC=C4C3(CCC(C4)O)C)C   \n",
       "3      CC(C)CCCC(C)C1CCC2C1(CCC3C2CC=C4C3(CCC(C4)O)C)C   \n",
       "4      CC(C)CCCC(C)C1CCC2C1(CCC3C2CC=C4C3(CCC(C4)O)C)C   \n",
       "...                                                ...   \n",
       "36442  CC(C)CCCC(C)C1CCC2C1(CCC3C2CC=C4C3(CCC(C4)O)C)C   \n",
       "36443  CC(C)CCCC(C)C1CCC2C1(CCC3C2CC=C4C3(CCC(C4)O)C)C   \n",
       "36444  CC(C)CCCC(C)C1CCC2C1(CCC3C2CC=C4C3(CCC(C4)O)C)C   \n",
       "36445  CC(C)CCCC(C)C1CCC2C1(CCC3C2CC=C4C3(CCC(C4)O)C)C   \n",
       "36446  CC(C)CCCC(C)C1CCC2C1(CCC3C2CC=C4C3(CCC(C4)O)C)C   \n",
       "\n",
       "                         species   model      prob  \n",
       "0             Sirococcus conorum  m_to_s  0.774194  \n",
       "1      Xestospongia testudinaria  m_to_s  0.886120  \n",
       "2            Anadara broughtonii  m_to_s  0.358161  \n",
       "3              Medicago rigidula  m_to_s  0.113697  \n",
       "4      Trichoderma saturnisporum  m_to_s  0.855042  \n",
       "...                          ...     ...       ...  \n",
       "36442        Cetraria tenuifolia  m_to_s  0.629371  \n",
       "36443         Penstemon procerus  m_to_s  0.408119  \n",
       "36444            Phedimus aizoon  m_to_s  0.933041  \n",
       "36445        Hedeoma pulegioides  m_to_s  0.694848  \n",
       "36446   Tabernaemontana africana  m_to_s  0.159584  \n",
       "\n",
       "[36447 rows x 4 columns]"
      ]
     },
     "execution_count": 21,
     "metadata": {},
     "output_type": "execute_result"
    }
   ],
   "source": [
    "out_4"
   ]
  },
  {
   "cell_type": "code",
   "execution_count": 22,
   "id": "397426b5-1a62-460d-87a7-766166071167",
   "metadata": {},
   "outputs": [
    {
     "data": {
      "text/plain": [
       "(array([1037.,  685.,  521.,  422.,  384.,  333.,  320.,  290.,  256.,\n",
       "         261.,  241.,  277.,  242.,  220.,  229.,  193.,  234.,  197.,\n",
       "         217.,  200.,  212.,  201.,  192.,  182.,  158.,  192.,  198.,\n",
       "         156.,  174.,  159.,  156.,  164.,  149.,  185.,  160.,  154.,\n",
       "         164.,  155.,  138.,  165.,  131.,  168.,  132.,  164.,  146.,\n",
       "         143.,  138.,  151.,  159.,  131.,  148.,  156.,  140.,  128.,\n",
       "         131.,  139.,  138.,  132.,  134.,  142.,  129.,  136.,  117.,\n",
       "         149.,  131.,  137.,  118.,  133.,  138.,  121.,  139.,  129.,\n",
       "         137.,  110.,  105.,  147.,  124.,  115.,  118.,  140.,  110.,\n",
       "         119.,  126.,  138.,  137.,  133.,  140.,  126.,  140.,  140.,\n",
       "         125.,  142.,  124.,  121.,  122.,  116.,  104.,  128.,  135.,\n",
       "         122.,  132.,  139.,  105.,  119.,  130.,  140.,  103.,  134.,\n",
       "         139.,  133.,  130.,  126.,  129.,  103.,  116.,  127.,  135.,\n",
       "         127.,  131.,  123.,  148.,  117.,  130.,  154.,  116.,  148.,\n",
       "         139.,  119.,  160.,  133.,  133.,  125.,  162.,  148.,  150.,\n",
       "         147.,  158.,  132.,  145.,  158.,  158.,  144.,  154.,  153.,\n",
       "         137.,  136.,  139.,  155.,  148.,  172.,  181.,  178.,  166.,\n",
       "         163.,  145.,  180.,  167.,  171.,  166.,  177.,  144.,  159.,\n",
       "         184.,  176.,  166.,  184.,  196.,  209.,  179.,  201.,  209.,\n",
       "         248.,  190.,  225.,  219.,  215.,  188.,  236.,  240.,  231.,\n",
       "         220.,  208.,  235.,  215.,  230.,  249.,  254.,  221.,  252.,\n",
       "         279.,  283.,  304.,  291.,  320.,  344.,  328.,  399.,  445.,\n",
       "         407.,  286.]),\n",
       " array([4.29090614e-05, 5.03968716e-03, 1.00364653e-02, 1.50332434e-02,\n",
       "        2.00300215e-02, 2.50267996e-02, 3.00235777e-02, 3.50203558e-02,\n",
       "        4.00171339e-02, 4.50139120e-02, 5.00106901e-02, 5.50074682e-02,\n",
       "        6.00042463e-02, 6.50010244e-02, 6.99978025e-02, 7.49945806e-02,\n",
       "        7.99913587e-02, 8.49881368e-02, 8.99849149e-02, 9.49816930e-02,\n",
       "        9.99784711e-02, 1.04975249e-01, 1.09972027e-01, 1.14968805e-01,\n",
       "        1.19965584e-01, 1.24962362e-01, 1.29959140e-01, 1.34955918e-01,\n",
       "        1.39952696e-01, 1.44949474e-01, 1.49946252e-01, 1.54943030e-01,\n",
       "        1.59939808e-01, 1.64936586e-01, 1.69933365e-01, 1.74930143e-01,\n",
       "        1.79926921e-01, 1.84923699e-01, 1.89920477e-01, 1.94917255e-01,\n",
       "        1.99914033e-01, 2.04910811e-01, 2.09907589e-01, 2.14904367e-01,\n",
       "        2.19901146e-01, 2.24897924e-01, 2.29894702e-01, 2.34891480e-01,\n",
       "        2.39888258e-01, 2.44885036e-01, 2.49881814e-01, 2.54878592e-01,\n",
       "        2.59875370e-01, 2.64872148e-01, 2.69868927e-01, 2.74865705e-01,\n",
       "        2.79862483e-01, 2.84859261e-01, 2.89856039e-01, 2.94852817e-01,\n",
       "        2.99849595e-01, 3.04846373e-01, 3.09843151e-01, 3.14839930e-01,\n",
       "        3.19836708e-01, 3.24833486e-01, 3.29830264e-01, 3.34827042e-01,\n",
       "        3.39823820e-01, 3.44820598e-01, 3.49817376e-01, 3.54814154e-01,\n",
       "        3.59810932e-01, 3.64807711e-01, 3.69804489e-01, 3.74801267e-01,\n",
       "        3.79798045e-01, 3.84794823e-01, 3.89791601e-01, 3.94788379e-01,\n",
       "        3.99785157e-01, 4.04781935e-01, 4.09778713e-01, 4.14775492e-01,\n",
       "        4.19772270e-01, 4.24769048e-01, 4.29765826e-01, 4.34762604e-01,\n",
       "        4.39759382e-01, 4.44756160e-01, 4.49752938e-01, 4.54749716e-01,\n",
       "        4.59746494e-01, 4.64743273e-01, 4.69740051e-01, 4.74736829e-01,\n",
       "        4.79733607e-01, 4.84730385e-01, 4.89727163e-01, 4.94723941e-01,\n",
       "        4.99720719e-01, 5.04717497e-01, 5.09714276e-01, 5.14711054e-01,\n",
       "        5.19707832e-01, 5.24704610e-01, 5.29701388e-01, 5.34698166e-01,\n",
       "        5.39694944e-01, 5.44691722e-01, 5.49688500e-01, 5.54685278e-01,\n",
       "        5.59682057e-01, 5.64678835e-01, 5.69675613e-01, 5.74672391e-01,\n",
       "        5.79669169e-01, 5.84665947e-01, 5.89662725e-01, 5.94659503e-01,\n",
       "        5.99656281e-01, 6.04653059e-01, 6.09649838e-01, 6.14646616e-01,\n",
       "        6.19643394e-01, 6.24640172e-01, 6.29636950e-01, 6.34633728e-01,\n",
       "        6.39630506e-01, 6.44627284e-01, 6.49624062e-01, 6.54620840e-01,\n",
       "        6.59617619e-01, 6.64614397e-01, 6.69611175e-01, 6.74607953e-01,\n",
       "        6.79604731e-01, 6.84601509e-01, 6.89598287e-01, 6.94595065e-01,\n",
       "        6.99591843e-01, 7.04588621e-01, 7.09585400e-01, 7.14582178e-01,\n",
       "        7.19578956e-01, 7.24575734e-01, 7.29572512e-01, 7.34569290e-01,\n",
       "        7.39566068e-01, 7.44562846e-01, 7.49559624e-01, 7.54556403e-01,\n",
       "        7.59553181e-01, 7.64549959e-01, 7.69546737e-01, 7.74543515e-01,\n",
       "        7.79540293e-01, 7.84537071e-01, 7.89533849e-01, 7.94530627e-01,\n",
       "        7.99527405e-01, 8.04524184e-01, 8.09520962e-01, 8.14517740e-01,\n",
       "        8.19514518e-01, 8.24511296e-01, 8.29508074e-01, 8.34504852e-01,\n",
       "        8.39501630e-01, 8.44498408e-01, 8.49495186e-01, 8.54491965e-01,\n",
       "        8.59488743e-01, 8.64485521e-01, 8.69482299e-01, 8.74479077e-01,\n",
       "        8.79475855e-01, 8.84472633e-01, 8.89469411e-01, 8.94466189e-01,\n",
       "        8.99462967e-01, 9.04459746e-01, 9.09456524e-01, 9.14453302e-01,\n",
       "        9.19450080e-01, 9.24446858e-01, 9.29443636e-01, 9.34440414e-01,\n",
       "        9.39437192e-01, 9.44433970e-01, 9.49430749e-01, 9.54427527e-01,\n",
       "        9.59424305e-01, 9.64421083e-01, 9.69417861e-01, 9.74414639e-01,\n",
       "        9.79411417e-01, 9.84408195e-01, 9.89404973e-01, 9.94401751e-01,\n",
       "        9.99398530e-01]),\n",
       " <BarContainer object of 200 artists>)"
      ]
     },
     "execution_count": 22,
     "metadata": {},
     "output_type": "execute_result"
    },
    {
     "data": {
      "image/png": "[encoded data removed]",
      "text/plain": [
       "<Figure size 640x480 with 1 Axes>"
      ]
     },
     "metadata": {},
     "output_type": "display_data"
    }
   ],
   "source": [
    "plt.hist(out_4.prob, bins=200)"
   ]
  },
  {
   "cell_type": "code",
   "execution_count": null,
   "id": "280a03ce-a2a0-41b8-91ac-2bf0d26a0690",
   "metadata": {},
   "outputs": [],
   "source": [
    "len(out_4[out_4.prob>0.5])/len(out_4)"
   ]
  },
  {
   "cell_type": "code",
   "execution_count": null,
   "id": "3c852c91-e917-480c-9d21-d8cb9b735895",
   "metadata": {},
   "outputs": [],
   "source": [
    "out_4[out_4.prob>0.95]"
   ]
  },
  {
   "cell_type": "markdown",
   "id": "a317e13e-00e1-4dfd-bd16-9219ec6bc46d",
   "metadata": {
    "editable": true,
    "slideshow": {
     "slide_type": ""
    },
    "tags": []
   },
   "source": [
    "# Test 5: test with a more rare molecule "
   ]
  },
  {
   "cell_type": "code",
   "execution_count": 23,
   "id": "fed16794-63c4-4f71-b584-d72ae1f9b6d4",
   "metadata": {},
   "outputs": [],
   "source": [
    "mol = 'ULGZDMOVFRHVEP-UHFFFAOYSA-N'\n",
    "data_5 = pd.DataFrame(\n",
    "    {'molecule': mol,\n",
    "     'species': list(set(species_features_dummy.index)-set(sku[sku.structure_smiles_2D==mol].organism_name))}\n",
    ")"
   ]
  },
  {
   "cell_type": "code",
   "execution_count": 24,
   "id": "2972fb53-9f14-4175-994c-fa368f287568",
   "metadata": {},
   "outputs": [
    {
     "name": "stdout",
     "output_type": "stream",
     "text": [
      "Converting Inchikeys to SMILES...\n",
      "Getting missing features...\n",
      "None\n",
      "Converting species taxonomy as numeric...\n",
      "Converting molecules as numeric...\n",
      "Checking which model should be used for each row...\n",
      "Adding missing nodes to the graph...\n",
      "Converting NetworkX to Stellargraph...\n",
      "StellarDiGraph: Directed multigraph\n",
      " Nodes: 184195, Edges: 869484\n",
      "\n",
      " Node types:\n",
      "  molecule: [147748]\n",
      "    Features: float32 vector, length 1051\n",
      "    Edge types: molecule-present_in->species\n",
      "  species: [36447]\n",
      "    Features: float32 vector, length 69\n",
      "    Edge types: species-has->molecule\n",
      "\n",
      " Edge types:\n",
      "    species-has->molecule: [434742]\n",
      "        Weights: all 1 (default)\n",
      "        Features: none\n",
      "    molecule-present_in->species: [434742]\n",
      "        Weights: all 1 (default)\n",
      "        Features: none\n",
      "Creating mol to species flow...\n",
      "Predicting mol to species...\n",
      "36/36 [==============================] - 8s 213ms/step\n",
      "36/36 [==============================] - 6s 169ms/step\n",
      "36/36 [==============================] - 7s 198ms/step\n",
      "36/36 [==============================] - 6s 167ms/step\n",
      "36/36 [==============================] - 7s 195ms/step\n",
      "36/36 [==============================] - 8s 235ms/step\n",
      "36/36 [==============================] - 12s 320ms/step\n"
     ]
    }
   ],
   "source": [
    "out_5 = predict(g_lotus,\n",
    "                model_m_to_s,\n",
    "                model_s_to_m,\n",
    "                data_5,\n",
    "                mols_classyfire,\n",
    "                rdkit,\n",
    "                species_taxo\n",
    "               )"
   ]
  },
  {
   "cell_type": "code",
   "execution_count": 25,
   "id": "836c7502-43f7-477e-a2b5-b533cee5b05a",
   "metadata": {},
   "outputs": [
    {
     "data": {
      "text/plain": [
       "(array([9663., 2096., 1241.,  953.,  809.,  712.,  564.,  513.,  437.,\n",
       "         418.,  437.,  358.,  346.,  340.,  298.,  277.,  270.,  269.,\n",
       "         268.,  253.,  226.,  243.,  232.,  201.,  241.,  186.,  216.,\n",
       "         185.,  204.,  155.,  199.,  216.,  153.,  175.,  159.,  165.,\n",
       "         142.,  162.,  135.,  141.,  132.,  152.,  147.,  135.,  116.,\n",
       "         153.,  111.,  136.,  131.,  130.,  131.,  134.,  129.,  117.,\n",
       "         106.,  114.,  114.,  119.,  116.,  115.,  102.,   89.,   90.,\n",
       "         111.,   89.,  110.,  101.,   85.,   90.,   93.,   98.,   93.,\n",
       "          67.,   84.,   95.,  101.,   89.,   87.,   92.,   90.,   84.,\n",
       "          86.,   84.,   80.,   73.,   94.,   84.,   81.,   61.,   59.,\n",
       "          74.,   72.,   64.,   90.,   83.,   85.,   67.,   80.,   74.,\n",
       "          59.,   73.,   70.,   75.,   71.,   76.,   58.,   74.,   62.,\n",
       "          70.,   58.,   55.,   54.,   67.,   53.,   52.,   52.,   69.,\n",
       "          60.,   65.,   60.,   56.,   48.,   50.,   57.,   62.,   57.,\n",
       "          68.,   57.,   48.,   57.,   57.,   64.,   68.,   54.,   61.,\n",
       "          60.,   47.,   49.,   55.,   55.,   42.,   49.,   64.,   52.,\n",
       "          45.,   43.,   62.,   48.,   56.,   57.,   48.,   51.,   63.,\n",
       "          49.,   60.,   55.,   59.,   46.,   41.,   52.,   56.,   57.,\n",
       "          47.,   67.,   46.,   54.,   61.,   52.,   55.,   41.,   50.,\n",
       "          46.,   39.,   46.,   58.,   55.,   59.,   42.,   58.,   64.,\n",
       "          60.,   57.,   62.,   73.,   52.,   70.,   68.,   85.,   65.,\n",
       "          78.,   67.,   94.,   88.,  112.,   98.,  131.,  112.,  131.,\n",
       "         146.,  113.]),\n",
       " array([1.83397879e-06, 4.99861718e-03, 9.99540039e-03, 1.49921836e-02,\n",
       "        1.99889668e-02, 2.49857500e-02, 2.99825332e-02, 3.49793164e-02,\n",
       "        3.99760996e-02, 4.49728828e-02, 4.99696660e-02, 5.49664492e-02,\n",
       "        5.99632325e-02, 6.49600157e-02, 6.99567989e-02, 7.49535821e-02,\n",
       "        7.99503653e-02, 8.49471485e-02, 8.99439317e-02, 9.49407149e-02,\n",
       "        9.99374981e-02, 1.04934281e-01, 1.09931065e-01, 1.14927848e-01,\n",
       "        1.19924631e-01, 1.24921414e-01, 1.29918197e-01, 1.34914981e-01,\n",
       "        1.39911764e-01, 1.44908547e-01, 1.49905330e-01, 1.54902113e-01,\n",
       "        1.59898897e-01, 1.64895680e-01, 1.69892463e-01, 1.74889246e-01,\n",
       "        1.79886029e-01, 1.84882813e-01, 1.89879596e-01, 1.94876379e-01,\n",
       "        1.99873162e-01, 2.04869945e-01, 2.09866729e-01, 2.14863512e-01,\n",
       "        2.19860295e-01, 2.24857078e-01, 2.29853861e-01, 2.34850645e-01,\n",
       "        2.39847428e-01, 2.44844211e-01, 2.49840994e-01, 2.54837777e-01,\n",
       "        2.59834561e-01, 2.64831344e-01, 2.69828127e-01, 2.74824910e-01,\n",
       "        2.79821694e-01, 2.84818477e-01, 2.89815260e-01, 2.94812043e-01,\n",
       "        2.99808826e-01, 3.04805610e-01, 3.09802393e-01, 3.14799176e-01,\n",
       "        3.19795959e-01, 3.24792742e-01, 3.29789526e-01, 3.34786309e-01,\n",
       "        3.39783092e-01, 3.44779875e-01, 3.49776658e-01, 3.54773442e-01,\n",
       "        3.59770225e-01, 3.64767008e-01, 3.69763791e-01, 3.74760574e-01,\n",
       "        3.79757358e-01, 3.84754141e-01, 3.89750924e-01, 3.94747707e-01,\n",
       "        3.99744490e-01, 4.04741274e-01, 4.09738057e-01, 4.14734840e-01,\n",
       "        4.19731623e-01, 4.24728407e-01, 4.29725190e-01, 4.34721973e-01,\n",
       "        4.39718756e-01, 4.44715539e-01, 4.49712323e-01, 4.54709106e-01,\n",
       "        4.59705889e-01, 4.64702672e-01, 4.69699455e-01, 4.74696239e-01,\n",
       "        4.79693022e-01, 4.84689805e-01, 4.89686588e-01, 4.94683371e-01,\n",
       "        4.99680155e-01, 5.04676938e-01, 5.09673721e-01, 5.14670504e-01,\n",
       "        5.19667287e-01, 5.24664071e-01, 5.29660854e-01, 5.34657637e-01,\n",
       "        5.39654420e-01, 5.44651203e-01, 5.49647987e-01, 5.54644770e-01,\n",
       "        5.59641553e-01, 5.64638336e-01, 5.69635119e-01, 5.74631903e-01,\n",
       "        5.79628686e-01, 5.84625469e-01, 5.89622252e-01, 5.94619036e-01,\n",
       "        5.99615819e-01, 6.04612602e-01, 6.09609385e-01, 6.14606168e-01,\n",
       "        6.19602952e-01, 6.24599735e-01, 6.29596518e-01, 6.34593301e-01,\n",
       "        6.39590084e-01, 6.44586868e-01, 6.49583651e-01, 6.54580434e-01,\n",
       "        6.59577217e-01, 6.64574000e-01, 6.69570784e-01, 6.74567567e-01,\n",
       "        6.79564350e-01, 6.84561133e-01, 6.89557916e-01, 6.94554700e-01,\n",
       "        6.99551483e-01, 7.04548266e-01, 7.09545049e-01, 7.14541832e-01,\n",
       "        7.19538616e-01, 7.24535399e-01, 7.29532182e-01, 7.34528965e-01,\n",
       "        7.39525748e-01, 7.44522532e-01, 7.49519315e-01, 7.54516098e-01,\n",
       "        7.59512881e-01, 7.64509665e-01, 7.69506448e-01, 7.74503231e-01,\n",
       "        7.79500014e-01, 7.84496797e-01, 7.89493581e-01, 7.94490364e-01,\n",
       "        7.99487147e-01, 8.04483930e-01, 8.09480713e-01, 8.14477497e-01,\n",
       "        8.19474280e-01, 8.24471063e-01, 8.29467846e-01, 8.34464629e-01,\n",
       "        8.39461413e-01, 8.44458196e-01, 8.49454979e-01, 8.54451762e-01,\n",
       "        8.59448545e-01, 8.64445329e-01, 8.69442112e-01, 8.74438895e-01,\n",
       "        8.79435678e-01, 8.84432461e-01, 8.89429245e-01, 8.94426028e-01,\n",
       "        8.99422811e-01, 9.04419594e-01, 9.09416377e-01, 9.14413161e-01,\n",
       "        9.19409944e-01, 9.24406727e-01, 9.29403510e-01, 9.34400294e-01,\n",
       "        9.39397077e-01, 9.44393860e-01, 9.49390643e-01, 9.54387426e-01,\n",
       "        9.59384210e-01, 9.64380993e-01, 9.69377776e-01, 9.74374559e-01,\n",
       "        9.79371342e-01, 9.84368126e-01, 9.89364909e-01, 9.94361692e-01,\n",
       "        9.99358475e-01]),\n",
       " <BarContainer object of 200 artists>)"
      ]
     },
     "execution_count": 25,
     "metadata": {},
     "output_type": "execute_result"
    },
    {
     "data": {
      "image/png": "[encoded data removed]",
      "text/plain": [
       "<Figure size 640x480 with 1 Axes>"
      ]
     },
     "metadata": {},
     "output_type": "display_data"
    }
   ],
   "source": [
    "plt.hist(out_5.prob, bins=200)"
   ]
  },
  {
   "cell_type": "code",
   "execution_count": 26,
   "id": "51025381-012f-4de4-bc91-84682a825583",
   "metadata": {
    "editable": true,
    "scrolled": true,
    "slideshow": {
     "slide_type": ""
    },
    "tags": []
   },
   "outputs": [
    {
     "data": {
      "text/html": [
       "<div>\n",
       "<style scoped>\n",
       "    .dataframe tbody tr th:only-of-type {\n",
       "        vertical-align: middle;\n",
       "    }\n",
       "\n",
       "    .dataframe tbody tr th {\n",
       "        vertical-align: top;\n",
       "    }\n",
       "\n",
       "    .dataframe thead th {\n",
       "        text-align: right;\n",
       "    }\n",
       "</style>\n",
       "<table border=\"1\" class=\"dataframe\">\n",
       "  <thead>\n",
       "    <tr style=\"text-align: right;\">\n",
       "      <th></th>\n",
       "      <th>molecule</th>\n",
       "      <th>species</th>\n",
       "      <th>model</th>\n",
       "      <th>prob</th>\n",
       "    </tr>\n",
       "  </thead>\n",
       "  <tbody>\n",
       "    <tr>\n",
       "      <th>4</th>\n",
       "      <td>CCC1C(C(C(C(=O)C(CC(C(C(C(C(C(=O)O1)C)OC2CC(C(...</td>\n",
       "      <td>Trichoderma saturnisporum</td>\n",
       "      <td>m_to_s</td>\n",
       "      <td>0.997295</td>\n",
       "    </tr>\n",
       "    <tr>\n",
       "      <th>10</th>\n",
       "      <td>CCC1C(C(C(C(=O)C(CC(C(C(C(C(C(=O)O1)C)OC2CC(C(...</td>\n",
       "      <td>Picrolemma huberi</td>\n",
       "      <td>m_to_s</td>\n",
       "      <td>0.962884</td>\n",
       "    </tr>\n",
       "    <tr>\n",
       "      <th>39</th>\n",
       "      <td>CCC1C(C(C(C(=O)C(CC(C(C(C(C(C(=O)O1)C)OC2CC(C(...</td>\n",
       "      <td>Amycolatopsis mediterranei</td>\n",
       "      <td>m_to_s</td>\n",
       "      <td>0.998431</td>\n",
       "    </tr>\n",
       "    <tr>\n",
       "      <th>40</th>\n",
       "      <td>CCC1C(C(C(C(=O)C(CC(C(C(C(C(C(=O)O1)C)OC2CC(C(...</td>\n",
       "      <td>Streptomyces viridochromogenes</td>\n",
       "      <td>m_to_s</td>\n",
       "      <td>0.975919</td>\n",
       "    </tr>\n",
       "    <tr>\n",
       "      <th>50</th>\n",
       "      <td>CCC1C(C(C(C(=O)C(CC(C(C(C(C(C(=O)O1)C)OC2CC(C(...</td>\n",
       "      <td>Anthracophyllum</td>\n",
       "      <td>m_to_s</td>\n",
       "      <td>0.968318</td>\n",
       "    </tr>\n",
       "    <tr>\n",
       "      <th>...</th>\n",
       "      <td>...</td>\n",
       "      <td>...</td>\n",
       "      <td>...</td>\n",
       "      <td>...</td>\n",
       "    </tr>\n",
       "    <tr>\n",
       "      <th>36354</th>\n",
       "      <td>CCC1C(C(C(C(=O)C(CC(C(C(C(C(C(=O)O1)C)OC2CC(C(...</td>\n",
       "      <td>Calicogorgia</td>\n",
       "      <td>m_to_s</td>\n",
       "      <td>0.955803</td>\n",
       "    </tr>\n",
       "    <tr>\n",
       "      <th>36367</th>\n",
       "      <td>CCC1C(C(C(C(=O)C(CC(C(C(C(C(C(=O)O1)C)OC2CC(C(...</td>\n",
       "      <td>Bipolaris cynodontis</td>\n",
       "      <td>m_to_s</td>\n",
       "      <td>0.993981</td>\n",
       "    </tr>\n",
       "    <tr>\n",
       "      <th>36374</th>\n",
       "      <td>CCC1C(C(C(C(=O)C(CC(C(C(C(C(C(=O)O1)C)OC2CC(C(...</td>\n",
       "      <td>Penicillium aurantiovirens</td>\n",
       "      <td>m_to_s</td>\n",
       "      <td>0.964487</td>\n",
       "    </tr>\n",
       "    <tr>\n",
       "      <th>36401</th>\n",
       "      <td>CCC1C(C(C(C(=O)C(CC(C(C(C(C(C(=O)O1)C)OC2CC(C(...</td>\n",
       "      <td>Omphalotus olivascens</td>\n",
       "      <td>m_to_s</td>\n",
       "      <td>0.987199</td>\n",
       "    </tr>\n",
       "    <tr>\n",
       "      <th>36403</th>\n",
       "      <td>CCC1C(C(C(C(=O)C(CC(C(C(C(C(C(=O)O1)C)OC2CC(C(...</td>\n",
       "      <td>Aspergillus clavatus</td>\n",
       "      <td>m_to_s</td>\n",
       "      <td>0.990219</td>\n",
       "    </tr>\n",
       "  </tbody>\n",
       "</table>\n",
       "<p>1083 rows × 4 columns</p>\n",
       "</div>"
      ],
      "text/plain": [
       "                                                molecule  \\\n",
       "4      CCC1C(C(C(C(=O)C(CC(C(C(C(C(C(=O)O1)C)OC2CC(C(...   \n",
       "10     CCC1C(C(C(C(=O)C(CC(C(C(C(C(C(=O)O1)C)OC2CC(C(...   \n",
       "39     CCC1C(C(C(C(=O)C(CC(C(C(C(C(C(=O)O1)C)OC2CC(C(...   \n",
       "40     CCC1C(C(C(C(=O)C(CC(C(C(C(C(C(=O)O1)C)OC2CC(C(...   \n",
       "50     CCC1C(C(C(C(=O)C(CC(C(C(C(C(C(=O)O1)C)OC2CC(C(...   \n",
       "...                                                  ...   \n",
       "36354  CCC1C(C(C(C(=O)C(CC(C(C(C(C(C(=O)O1)C)OC2CC(C(...   \n",
       "36367  CCC1C(C(C(C(=O)C(CC(C(C(C(C(C(=O)O1)C)OC2CC(C(...   \n",
       "36374  CCC1C(C(C(C(=O)C(CC(C(C(C(C(C(=O)O1)C)OC2CC(C(...   \n",
       "36401  CCC1C(C(C(C(=O)C(CC(C(C(C(C(C(=O)O1)C)OC2CC(C(...   \n",
       "36403  CCC1C(C(C(C(=O)C(CC(C(C(C(C(C(=O)O1)C)OC2CC(C(...   \n",
       "\n",
       "                              species   model      prob  \n",
       "4           Trichoderma saturnisporum  m_to_s  0.997295  \n",
       "10                  Picrolemma huberi  m_to_s  0.962884  \n",
       "39         Amycolatopsis mediterranei  m_to_s  0.998431  \n",
       "40     Streptomyces viridochromogenes  m_to_s  0.975919  \n",
       "50                    Anthracophyllum  m_to_s  0.968318  \n",
       "...                               ...     ...       ...  \n",
       "36354                    Calicogorgia  m_to_s  0.955803  \n",
       "36367            Bipolaris cynodontis  m_to_s  0.993981  \n",
       "36374      Penicillium aurantiovirens  m_to_s  0.964487  \n",
       "36401           Omphalotus olivascens  m_to_s  0.987199  \n",
       "36403            Aspergillus clavatus  m_to_s  0.990219  \n",
       "\n",
       "[1083 rows x 4 columns]"
      ]
     },
     "execution_count": 26,
     "metadata": {},
     "output_type": "execute_result"
    }
   ],
   "source": [
    "out_5[out_5.prob>0.95]"
   ]
  },
  {
   "cell_type": "code",
   "execution_count": null,
   "id": "2ea934cd-9530-422e-a00b-5e4557d5f560",
   "metadata": {},
   "outputs": [],
   "source": []
  }
 ],
 "metadata": {
  "kernelspec": {
   "display_name": "Python 3 (ipykernel)",
   "language": "python",
   "name": "python3"
  },
  "language_info": {
   "codemirror_mode": {
    "name": "ipython",
    "version": 3
   },
   "file_extension": ".py",
   "mimetype": "text/x-python",
   "name": "python",
   "nbconvert_exporter": "python",
   "pygments_lexer": "ipython3",
   "version": "3.11.4"
  }
 },
 "nbformat": 4,
 "nbformat_minor": 5
}
