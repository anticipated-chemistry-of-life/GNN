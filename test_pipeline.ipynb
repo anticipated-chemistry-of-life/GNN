{
 "cells": [
  {
   "cell_type": "code",
   "execution_count": 1,
   "id": "dd82b030",
   "metadata": {
    "editable": true,
    "slideshow": {
     "slide_type": ""
    },
    "tags": []
   },
   "outputs": [],
   "source": [
    "import os\n",
    "os.environ['TF_CPP_MIN_LOG_LEVEL'] = '3' \n",
    "import pandas as pd\n",
    "import networkx as nx\n",
    "import tensorflow as tf\n",
    "import numpy as np\n",
    "from utils.utils import predict\n",
    "import matplotlib.pyplot as plt\n",
    "import seaborn as sns"
   ]
  },
  {
   "cell_type": "code",
   "execution_count": 2,
   "id": "b783b50e",
   "metadata": {},
   "outputs": [],
   "source": [
    "model_m_to_s = tf.keras.models.load_model(\"./model/gbif_batch_128_layer_1024_m_to_s\", compile=True)\n",
    "model_s_to_m = tf.keras.models.load_model(\"./model/gbif_batch_128_layer_1024_s_to_m\", compile=True)"
   ]
  },
  {
   "cell_type": "code",
   "execution_count": 3,
   "id": "22b4252c",
   "metadata": {},
   "outputs": [],
   "source": [
    "species_features_dummy = pd.read_csv(\"./data/species_features.csv.gz\", index_col=0)\n",
    "molecule_features_dummy = pd.read_csv(\"./data/molecule_features.csv.gz\", index_col=0)\n",
    "df_agg = pd.read_csv(\"./data/lotus_agg_test.csv.gz\", index_col=0)"
   ]
  },
  {
   "cell_type": "code",
   "execution_count": 4,
   "id": "2cf17209-3a1c-4859-878d-ff899b357228",
   "metadata": {},
   "outputs": [],
   "source": [
    "rdkit = pd.read_csv(\"./data/mol_dummy_rdkit.csv.gz\", index_col=0).astype('uint8')\n",
    "rdkit.columns = rdkit.columns.astype(str)"
   ]
  },
  {
   "cell_type": "code",
   "execution_count": 5,
   "id": "11cae12e",
   "metadata": {},
   "outputs": [],
   "source": [
    "g_train = nx.read_graphml(\"./graph/train_graph.gml\")\n",
    "g = nx.read_graphml(\"./graph/test_graph.gml\")\n",
    "g  = nx.create_empty_copy(g)\n",
    "g_merged = nx.compose(g_train, g)"
   ]
  },
  {
   "cell_type": "code",
   "execution_count": 6,
   "id": "8e5d4874",
   "metadata": {},
   "outputs": [],
   "source": [
    "df_agg_train = pd.read_csv(\"./data/lotus_agg_train.csv.gz\", index_col=0)"
   ]
  },
  {
   "cell_type": "code",
   "execution_count": 7,
   "id": "caf69736-4ee4-431d-8ec2-445ecbc54965",
   "metadata": {},
   "outputs": [],
   "source": [
    "g_test = nx.read_graphml(\"./graph/test_graph.gml\")\n",
    "g_lotus = nx.compose(g_train, g_test)"
   ]
  },
  {
   "cell_type": "code",
   "execution_count": 8,
   "id": "b621a031-84d2-4cd3-9e1d-877ee2c2b18a",
   "metadata": {},
   "outputs": [],
   "source": [
    "sku = pd.concat([df_agg, df_agg_train])"
   ]
  },
  {
   "cell_type": "code",
   "execution_count": 9,
   "id": "5fc7b573-ebc1-478a-8809-8e67592a49fb",
   "metadata": {},
   "outputs": [],
   "source": [
    "mol = 'O'\n",
    "data_3 = pd.DataFrame(\n",
    "    {'molecule': mol,\n",
    "     'species': list(set(species_features_dummy.index)-set(sku[sku.structure_smiles_2D==mol].organism_name))})"
   ]
  },
  {
   "cell_type": "code",
   "execution_count": 10,
   "id": "f8561910-539d-4faf-b27c-0a3af77acdc3",
   "metadata": {
    "scrolled": true
   },
   "outputs": [
    {
     "data": {
      "text/html": [
       "<div>\n",
       "<style scoped>\n",
       "    .dataframe tbody tr th:only-of-type {\n",
       "        vertical-align: middle;\n",
       "    }\n",
       "\n",
       "    .dataframe tbody tr th {\n",
       "        vertical-align: top;\n",
       "    }\n",
       "\n",
       "    .dataframe thead th {\n",
       "        text-align: right;\n",
       "    }\n",
       "</style>\n",
       "<table border=\"1\" class=\"dataframe\">\n",
       "  <thead>\n",
       "    <tr style=\"text-align: right;\">\n",
       "      <th></th>\n",
       "      <th>molecule</th>\n",
       "      <th>species</th>\n",
       "    </tr>\n",
       "  </thead>\n",
       "  <tbody>\n",
       "    <tr>\n",
       "      <th>0</th>\n",
       "      <td>O</td>\n",
       "      <td>Dendrobium candidum</td>\n",
       "    </tr>\n",
       "    <tr>\n",
       "      <th>1</th>\n",
       "      <td>O</td>\n",
       "      <td>Amesia nigricolor</td>\n",
       "    </tr>\n",
       "    <tr>\n",
       "      <th>2</th>\n",
       "      <td>O</td>\n",
       "      <td>Phallusia fumigata</td>\n",
       "    </tr>\n",
       "    <tr>\n",
       "      <th>3</th>\n",
       "      <td>O</td>\n",
       "      <td>Ozothamnus hookeri</td>\n",
       "    </tr>\n",
       "    <tr>\n",
       "      <th>4</th>\n",
       "      <td>O</td>\n",
       "      <td>Parasola setulosa</td>\n",
       "    </tr>\n",
       "    <tr>\n",
       "      <th>...</th>\n",
       "      <td>...</td>\n",
       "      <td>...</td>\n",
       "    </tr>\n",
       "    <tr>\n",
       "      <th>36436</th>\n",
       "      <td>O</td>\n",
       "      <td>Sideritis glacialis</td>\n",
       "    </tr>\n",
       "    <tr>\n",
       "      <th>36437</th>\n",
       "      <td>O</td>\n",
       "      <td>Caesulia axillaris</td>\n",
       "    </tr>\n",
       "    <tr>\n",
       "      <th>36438</th>\n",
       "      <td>O</td>\n",
       "      <td>Faramea guianensis</td>\n",
       "    </tr>\n",
       "    <tr>\n",
       "      <th>36439</th>\n",
       "      <td>O</td>\n",
       "      <td>Homalocladium platycladum</td>\n",
       "    </tr>\n",
       "    <tr>\n",
       "      <th>36440</th>\n",
       "      <td>O</td>\n",
       "      <td>Streptomyces griseoplanus</td>\n",
       "    </tr>\n",
       "  </tbody>\n",
       "</table>\n",
       "<p>36441 rows × 2 columns</p>\n",
       "</div>"
      ],
      "text/plain": [
       "      molecule                    species\n",
       "0            O        Dendrobium candidum\n",
       "1            O          Amesia nigricolor\n",
       "2            O         Phallusia fumigata\n",
       "3            O         Ozothamnus hookeri\n",
       "4            O          Parasola setulosa\n",
       "...        ...                        ...\n",
       "36436        O        Sideritis glacialis\n",
       "36437        O         Caesulia axillaris\n",
       "36438        O         Faramea guianensis\n",
       "36439        O  Homalocladium platycladum\n",
       "36440        O  Streptomyces griseoplanus\n",
       "\n",
       "[36441 rows x 2 columns]"
      ]
     },
     "execution_count": 10,
     "metadata": {},
     "output_type": "execute_result"
    }
   ],
   "source": [
    "data_3"
   ]
  },
  {
   "cell_type": "code",
   "execution_count": 11,
   "id": "ece87642-d128-4573-840f-4402e5ed1a8f",
   "metadata": {
    "scrolled": true
   },
   "outputs": [
    {
     "name": "stdout",
     "output_type": "stream",
     "text": [
      "Converting Inchikeys to SMILES...\n",
      "Getting missing features...\n",
      "Converting species taxonomy as numeric...\n",
      "Converting molecules as numeric...\n",
      "Checking which model should be used for each row...\n",
      "Adding missing nodes to the graph...\n",
      "Converting NetworkX to Stellargraph...\n",
      "StellarDiGraph: Directed multigraph\n",
      " Nodes: 184194, Edges: 869484\n",
      "\n",
      " Node types:\n",
      "  molecule: [147747]\n",
      "    Features: float32 vector, length 155\n",
      "    Edge types: molecule-present_in->species\n",
      "  species: [36447]\n",
      "    Features: float32 vector, length 69\n",
      "    Edge types: species-has->molecule\n",
      "\n",
      " Edge types:\n",
      "    species-has->molecule: [434742]\n",
      "        Weights: all 1 (default)\n",
      "        Features: none\n",
      "    molecule-present_in->species: [434742]\n",
      "        Weights: all 1 (default)\n",
      "        Features: none\n",
      "Creating 'forward', 'backward' flow for KNOWN molecule AND species...\n",
      "Predict both : running molecule to species predictions...\n",
      "36/36 [==============================] - 5s 139ms/step\n",
      "36/36 [==============================] - 7s 186ms/step\n",
      "36/36 [==============================] - 7s 191ms/step\n",
      "36/36 [==============================] - 5s 147ms/step\n",
      "36/36 [==============================] - 7s 189ms/step\n",
      "36/36 [==============================] - 5s 126ms/step\n",
      "36/36 [==============================] - 5s 151ms/step\n",
      "Predict both : running species to molecules prediction...\n",
      "36/36 [==============================] - 8s 201ms/step\n",
      "36/36 [==============================] - 6s 154ms/step\n",
      "36/36 [==============================] - 5s 132ms/step\n",
      "36/36 [==============================] - 6s 159ms/step\n",
      "36/36 [==============================] - 5s 142ms/step\n",
      "36/36 [==============================] - 5s 143ms/step\n",
      "36/36 [==============================] - 5s 131ms/step\n"
     ]
    }
   ],
   "source": [
    "out_3 = predict(g_lotus,\n",
    "                model_m_to_s,\n",
    "                model_s_to_m,\n",
    "                data_3,\n",
    "                molecule_features_dummy,\n",
    "                rdkit,\n",
    "                species_features_dummy\n",
    "               )"
   ]
  },
  {
   "cell_type": "code",
   "execution_count": 12,
   "id": "67c99d30-2bdf-4e11-8f4d-07f46b9c1d63",
   "metadata": {},
   "outputs": [
    {
     "data": {
      "text/plain": [
       "[Text(0.5, 0, 'Probabilities'),\n",
       " Text(0, 0.5, 'Count'),\n",
       " Text(0.5, 1.0, 'Probability of water across all species.')]"
      ]
     },
     "execution_count": 12,
     "metadata": {},
     "output_type": "execute_result"
    },
    {
     "data": {
      "image/png": "[encoded data removed]",
      "text/plain": [
       "<Figure size 640x480 with 1 Axes>"
      ]
     },
     "metadata": {},
     "output_type": "display_data"
    }
   ],
   "source": [
    "ax_3 = sns.histplot(data=out_3, x=out_3.prob, bins=100)\n",
    "ax_3.set(xlabel=\"Probabilities\",\n",
    "        ylabel=\"Count\",\n",
    "        title=\"Probability of water across all species.\")"
   ]
  },
  {
   "cell_type": "code",
   "execution_count": 13,
   "id": "fa442cb0-d3a1-4258-8a9e-bf52a01b36bf",
   "metadata": {
    "editable": true,
    "scrolled": true,
    "slideshow": {
     "slide_type": ""
    },
    "tags": []
   },
   "outputs": [
    {
     "data": {
      "text/html": [
       "<div>\n",
       "<style scoped>\n",
       "    .dataframe tbody tr th:only-of-type {\n",
       "        vertical-align: middle;\n",
       "    }\n",
       "\n",
       "    .dataframe tbody tr th {\n",
       "        vertical-align: top;\n",
       "    }\n",
       "\n",
       "    .dataframe thead th {\n",
       "        text-align: right;\n",
       "    }\n",
       "</style>\n",
       "<table border=\"1\" class=\"dataframe\">\n",
       "  <thead>\n",
       "    <tr style=\"text-align: right;\">\n",
       "      <th></th>\n",
       "      <th>molecule</th>\n",
       "      <th>species</th>\n",
       "      <th>model</th>\n",
       "      <th>prob</th>\n",
       "    </tr>\n",
       "  </thead>\n",
       "  <tbody>\n",
       "    <tr>\n",
       "      <th>85</th>\n",
       "      <td>O</td>\n",
       "      <td>Tricholoma inamoenum</td>\n",
       "      <td>both_known</td>\n",
       "      <td>0.983647</td>\n",
       "    </tr>\n",
       "    <tr>\n",
       "      <th>234</th>\n",
       "      <td>O</td>\n",
       "      <td>Heracleum antasiaticum</td>\n",
       "      <td>both_known</td>\n",
       "      <td>0.960522</td>\n",
       "    </tr>\n",
       "    <tr>\n",
       "      <th>260</th>\n",
       "      <td>O</td>\n",
       "      <td>Bauhinia racemosa</td>\n",
       "      <td>both_known</td>\n",
       "      <td>0.967372</td>\n",
       "    </tr>\n",
       "    <tr>\n",
       "      <th>338</th>\n",
       "      <td>O</td>\n",
       "      <td>Volvariella volvacea</td>\n",
       "      <td>both_known</td>\n",
       "      <td>0.994126</td>\n",
       "    </tr>\n",
       "    <tr>\n",
       "      <th>407</th>\n",
       "      <td>O</td>\n",
       "      <td>Quararibea funebris</td>\n",
       "      <td>both_known</td>\n",
       "      <td>0.952922</td>\n",
       "    </tr>\n",
       "    <tr>\n",
       "      <th>...</th>\n",
       "      <td>...</td>\n",
       "      <td>...</td>\n",
       "      <td>...</td>\n",
       "      <td>...</td>\n",
       "    </tr>\n",
       "    <tr>\n",
       "      <th>36126</th>\n",
       "      <td>O</td>\n",
       "      <td>Pandanus odorifer</td>\n",
       "      <td>both_known</td>\n",
       "      <td>0.952274</td>\n",
       "    </tr>\n",
       "    <tr>\n",
       "      <th>36158</th>\n",
       "      <td>O</td>\n",
       "      <td>Streptomyces celluloflavus</td>\n",
       "      <td>both_known</td>\n",
       "      <td>0.955175</td>\n",
       "    </tr>\n",
       "    <tr>\n",
       "      <th>36205</th>\n",
       "      <td>O</td>\n",
       "      <td>Citrus unshiu</td>\n",
       "      <td>both_known</td>\n",
       "      <td>0.958303</td>\n",
       "    </tr>\n",
       "    <tr>\n",
       "      <th>36362</th>\n",
       "      <td>O</td>\n",
       "      <td>Amorphophallus eichleri</td>\n",
       "      <td>both_known</td>\n",
       "      <td>0.958737</td>\n",
       "    </tr>\n",
       "    <tr>\n",
       "      <th>36417</th>\n",
       "      <td>O</td>\n",
       "      <td>Amauris echeria</td>\n",
       "      <td>both_known</td>\n",
       "      <td>0.959647</td>\n",
       "    </tr>\n",
       "  </tbody>\n",
       "</table>\n",
       "<p>353 rows × 4 columns</p>\n",
       "</div>"
      ],
      "text/plain": [
       "      molecule                     species       model      prob\n",
       "85           O        Tricholoma inamoenum  both_known  0.983647\n",
       "234          O      Heracleum antasiaticum  both_known  0.960522\n",
       "260          O           Bauhinia racemosa  both_known  0.967372\n",
       "338          O        Volvariella volvacea  both_known  0.994126\n",
       "407          O         Quararibea funebris  both_known  0.952922\n",
       "...        ...                         ...         ...       ...\n",
       "36126        O           Pandanus odorifer  both_known  0.952274\n",
       "36158        O  Streptomyces celluloflavus  both_known  0.955175\n",
       "36205        O               Citrus unshiu  both_known  0.958303\n",
       "36362        O     Amorphophallus eichleri  both_known  0.958737\n",
       "36417        O             Amauris echeria  both_known  0.959647\n",
       "\n",
       "[353 rows x 4 columns]"
      ]
     },
     "execution_count": 13,
     "metadata": {},
     "output_type": "execute_result"
    }
   ],
   "source": [
    "out_3[out_3.prob>0.95]"
   ]
  },
  {
   "cell_type": "markdown",
   "id": "78a27f69-5b8c-4009-9394-5bea552a957c",
   "metadata": {},
   "source": [
    "# Test 4: let's see if cholesterol is present \"everywhere\"\n"
   ]
  },
  {
   "cell_type": "code",
   "execution_count": 14,
   "id": "a7c99299-4484-4da2-b9ff-f6e1804d3ce4",
   "metadata": {},
   "outputs": [],
   "source": [
    "mol = 'CC(C)CCCC(C)C1CCC2C3CC=C4CC(O)CCC4(C)C3CCC12C'\n",
    "data_4 = pd.DataFrame(\n",
    "    {'molecule': mol,\n",
    "     'species': list(set(species_features_dummy.index)-set(sku[sku.structure_smiles_2D==mol].organism_name))})"
   ]
  },
  {
   "cell_type": "code",
   "execution_count": 15,
   "id": "d918b7ec-b4d3-435c-b9bb-88bd40bb4a34",
   "metadata": {},
   "outputs": [
    {
     "name": "stdout",
     "output_type": "stream",
     "text": [
      "Converting Inchikeys to SMILES...\n",
      "Getting missing features...\n",
      "Converting species taxonomy as numeric...\n",
      "Converting molecules as numeric...\n",
      "Checking which model should be used for each row...\n",
      "Adding missing nodes to the graph...\n",
      "Converting NetworkX to Stellargraph...\n",
      "StellarDiGraph: Directed multigraph\n",
      " Nodes: 184194, Edges: 869484\n",
      "\n",
      " Node types:\n",
      "  molecule: [147747]\n",
      "    Features: float32 vector, length 155\n",
      "    Edge types: molecule-present_in->species\n",
      "  species: [36447]\n",
      "    Features: float32 vector, length 69\n",
      "    Edge types: species-has->molecule\n",
      "\n",
      " Edge types:\n",
      "    species-has->molecule: [434742]\n",
      "        Weights: all 1 (default)\n",
      "        Features: none\n",
      "    molecule-present_in->species: [434742]\n",
      "        Weights: all 1 (default)\n",
      "        Features: none\n",
      "Creating 'forward', 'backward' flow for KNOWN molecule AND species...\n",
      "Predict both : running molecule to species predictions...\n",
      "36/36 [==============================] - 6s 161ms/step\n",
      "36/36 [==============================] - 5s 149ms/step\n",
      "36/36 [==============================] - 6s 156ms/step\n",
      "36/36 [==============================] - 7s 193ms/step\n",
      "36/36 [==============================] - 5s 138ms/step\n",
      "36/36 [==============================] - 6s 171ms/step\n",
      "36/36 [==============================] - 8s 209ms/step\n",
      "Predict both : running species to molecules prediction...\n",
      "36/36 [==============================] - 6s 169ms/step\n",
      "36/36 [==============================] - 5s 149ms/step\n",
      "36/36 [==============================] - 7s 187ms/step\n",
      "36/36 [==============================] - 6s 158ms/step\n",
      "36/36 [==============================] - 6s 171ms/step\n",
      "36/36 [==============================] - 5s 126ms/step\n",
      "36/36 [==============================] - 6s 162ms/step\n"
     ]
    }
   ],
   "source": [
    "out_4 = predict(g_lotus,\n",
    "                model_m_to_s,\n",
    "                model_s_to_m,\n",
    "                data_4,\n",
    "                molecule_features_dummy,\n",
    "                rdkit,\n",
    "                species_features_dummy\n",
    "               )"
   ]
  },
  {
   "cell_type": "code",
   "execution_count": 16,
   "id": "e8413eff-703c-4381-b5b2-2b3f0e84d09c",
   "metadata": {},
   "outputs": [
    {
     "data": {
      "text/plain": [
       "[Text(0.5, 0, 'Probabilities'),\n",
       " Text(0, 0.5, 'Count'),\n",
       " Text(0.5, 1.0, 'Probability of cholesterol across all species.')]"
      ]
     },
     "execution_count": 16,
     "metadata": {},
     "output_type": "execute_result"
    },
    {
     "data": {
      "image/png": "[encoded data removed]",
      "text/plain": [
       "<Figure size 640x480 with 1 Axes>"
      ]
     },
     "metadata": {},
     "output_type": "display_data"
    }
   ],
   "source": [
    "ax_4 = sns.histplot(data=out_4, x=out_4.prob, bins=100)\n",
    "ax_4.set(xlabel=\"Probabilities\",\n",
    "        ylabel=\"Count\",\n",
    "        title=\"Probability of cholesterol across all species.\")"
   ]
  },
  {
   "cell_type": "code",
   "execution_count": 17,
   "id": "3c852c91-e917-480c-9d21-d8cb9b735895",
   "metadata": {
    "scrolled": true
   },
   "outputs": [
    {
     "data": {
      "text/html": [
       "<div>\n",
       "<style scoped>\n",
       "    .dataframe tbody tr th:only-of-type {\n",
       "        vertical-align: middle;\n",
       "    }\n",
       "\n",
       "    .dataframe tbody tr th {\n",
       "        vertical-align: top;\n",
       "    }\n",
       "\n",
       "    .dataframe thead th {\n",
       "        text-align: right;\n",
       "    }\n",
       "</style>\n",
       "<table border=\"1\" class=\"dataframe\">\n",
       "  <thead>\n",
       "    <tr style=\"text-align: right;\">\n",
       "      <th></th>\n",
       "      <th>molecule</th>\n",
       "      <th>species</th>\n",
       "      <th>model</th>\n",
       "      <th>prob</th>\n",
       "    </tr>\n",
       "  </thead>\n",
       "  <tbody>\n",
       "    <tr>\n",
       "      <th>6</th>\n",
       "      <td>CC(C)CCCC(C)C1CCC2C3CC=C4CC(O)CCC4(C)C3CCC12C</td>\n",
       "      <td>Houttuynia cordata</td>\n",
       "      <td>both_known</td>\n",
       "      <td>0.997259</td>\n",
       "    </tr>\n",
       "    <tr>\n",
       "      <th>19</th>\n",
       "      <td>CC(C)CCCC(C)C1CCC2C3CC=C4CC(O)CCC4(C)C3CCC12C</td>\n",
       "      <td>Engelhardia spicata</td>\n",
       "      <td>both_known</td>\n",
       "      <td>0.994340</td>\n",
       "    </tr>\n",
       "    <tr>\n",
       "      <th>25</th>\n",
       "      <td>CC(C)CCCC(C)C1CCC2C3CC=C4CC(O)CCC4(C)C3CCC12C</td>\n",
       "      <td>Petunia patagonica</td>\n",
       "      <td>both_known</td>\n",
       "      <td>0.997658</td>\n",
       "    </tr>\n",
       "    <tr>\n",
       "      <th>31</th>\n",
       "      <td>CC(C)CCCC(C)C1CCC2C3CC=C4CC(O)CCC4(C)C3CCC12C</td>\n",
       "      <td>Panicum virgatum</td>\n",
       "      <td>both_known</td>\n",
       "      <td>0.991013</td>\n",
       "    </tr>\n",
       "    <tr>\n",
       "      <th>32</th>\n",
       "      <td>CC(C)CCCC(C)C1CCC2C3CC=C4CC(O)CCC4(C)C3CCC12C</td>\n",
       "      <td>Isotrema tomentosum</td>\n",
       "      <td>both_known</td>\n",
       "      <td>0.994884</td>\n",
       "    </tr>\n",
       "    <tr>\n",
       "      <th>...</th>\n",
       "      <td>...</td>\n",
       "      <td>...</td>\n",
       "      <td>...</td>\n",
       "      <td>...</td>\n",
       "    </tr>\n",
       "    <tr>\n",
       "      <th>35884</th>\n",
       "      <td>CC(C)CCCC(C)C1CCC2C3CC=C4CC(O)CCC4(C)C3CCC12C</td>\n",
       "      <td>Callitris columellaris</td>\n",
       "      <td>both_known</td>\n",
       "      <td>0.997667</td>\n",
       "    </tr>\n",
       "    <tr>\n",
       "      <th>35895</th>\n",
       "      <td>CC(C)CCCC(C)C1CCC2C3CC=C4CC(O)CCC4(C)C3CCC12C</td>\n",
       "      <td>Aeridostachya robusta</td>\n",
       "      <td>both_known</td>\n",
       "      <td>0.997589</td>\n",
       "    </tr>\n",
       "    <tr>\n",
       "      <th>35901</th>\n",
       "      <td>CC(C)CCCC(C)C1CCC2C3CC=C4CC(O)CCC4(C)C3CCC12C</td>\n",
       "      <td>Monascus purpureus</td>\n",
       "      <td>both_known</td>\n",
       "      <td>0.991729</td>\n",
       "    </tr>\n",
       "    <tr>\n",
       "      <th>35905</th>\n",
       "      <td>CC(C)CCCC(C)C1CCC2C3CC=C4CC(O)CCC4(C)C3CCC12C</td>\n",
       "      <td>Neofinetia falcata</td>\n",
       "      <td>both_known</td>\n",
       "      <td>0.997135</td>\n",
       "    </tr>\n",
       "    <tr>\n",
       "      <th>35910</th>\n",
       "      <td>CC(C)CCCC(C)C1CCC2C3CC=C4CC(O)CCC4(C)C3CCC12C</td>\n",
       "      <td>Curculigo orchioides</td>\n",
       "      <td>both_known</td>\n",
       "      <td>0.991574</td>\n",
       "    </tr>\n",
       "  </tbody>\n",
       "</table>\n",
       "<p>3737 rows × 4 columns</p>\n",
       "</div>"
      ],
      "text/plain": [
       "                                            molecule                 species  \\\n",
       "6      CC(C)CCCC(C)C1CCC2C3CC=C4CC(O)CCC4(C)C3CCC12C      Houttuynia cordata   \n",
       "19     CC(C)CCCC(C)C1CCC2C3CC=C4CC(O)CCC4(C)C3CCC12C     Engelhardia spicata   \n",
       "25     CC(C)CCCC(C)C1CCC2C3CC=C4CC(O)CCC4(C)C3CCC12C      Petunia patagonica   \n",
       "31     CC(C)CCCC(C)C1CCC2C3CC=C4CC(O)CCC4(C)C3CCC12C        Panicum virgatum   \n",
       "32     CC(C)CCCC(C)C1CCC2C3CC=C4CC(O)CCC4(C)C3CCC12C     Isotrema tomentosum   \n",
       "...                                              ...                     ...   \n",
       "35884  CC(C)CCCC(C)C1CCC2C3CC=C4CC(O)CCC4(C)C3CCC12C  Callitris columellaris   \n",
       "35895  CC(C)CCCC(C)C1CCC2C3CC=C4CC(O)CCC4(C)C3CCC12C   Aeridostachya robusta   \n",
       "35901  CC(C)CCCC(C)C1CCC2C3CC=C4CC(O)CCC4(C)C3CCC12C      Monascus purpureus   \n",
       "35905  CC(C)CCCC(C)C1CCC2C3CC=C4CC(O)CCC4(C)C3CCC12C      Neofinetia falcata   \n",
       "35910  CC(C)CCCC(C)C1CCC2C3CC=C4CC(O)CCC4(C)C3CCC12C    Curculigo orchioides   \n",
       "\n",
       "            model      prob  \n",
       "6      both_known  0.997259  \n",
       "19     both_known  0.994340  \n",
       "25     both_known  0.997658  \n",
       "31     both_known  0.991013  \n",
       "32     both_known  0.994884  \n",
       "...           ...       ...  \n",
       "35884  both_known  0.997667  \n",
       "35895  both_known  0.997589  \n",
       "35901  both_known  0.991729  \n",
       "35905  both_known  0.997135  \n",
       "35910  both_known  0.991574  \n",
       "\n",
       "[3737 rows x 4 columns]"
      ]
     },
     "execution_count": 17,
     "metadata": {},
     "output_type": "execute_result"
    }
   ],
   "source": [
    "out_4[out_4.prob>0.99]"
   ]
  },
  {
   "cell_type": "markdown",
   "id": "a317e13e-00e1-4dfd-bd16-9219ec6bc46d",
   "metadata": {
    "editable": true,
    "slideshow": {
     "slide_type": ""
    },
    "tags": []
   },
   "source": [
    "# Test 5: test with a more rare molecule : Erythromycin"
   ]
  },
  {
   "cell_type": "code",
   "execution_count": 18,
   "id": "fed16794-63c4-4f71-b584-d72ae1f9b6d4",
   "metadata": {},
   "outputs": [],
   "source": [
    "mol = 'CCC1OC(=O)C(C)C(OC2CC(C)(OC)C(O)C(C)O2)C(C)C(OC2OC(C)CC(N(C)C)C2O)C(C)(O)CC(C)C(=O)C(C)C(O)C1(C)O'\n",
    "data_5 = pd.DataFrame(\n",
    "    {'molecule': mol,\n",
    "     'species': list(set(species_features_dummy.index)-set(sku[sku.structure_smiles_2D==mol].organism_name))}\n",
    ")"
   ]
  },
  {
   "cell_type": "code",
   "execution_count": 19,
   "id": "2972fb53-9f14-4175-994c-fa368f287568",
   "metadata": {
    "scrolled": true
   },
   "outputs": [
    {
     "name": "stdout",
     "output_type": "stream",
     "text": [
      "Converting Inchikeys to SMILES...\n",
      "Getting missing features...\n",
      "Converting species taxonomy as numeric...\n",
      "Converting molecules as numeric...\n",
      "Checking which model should be used for each row...\n",
      "Adding missing nodes to the graph...\n",
      "Converting NetworkX to Stellargraph...\n",
      "StellarDiGraph: Directed multigraph\n",
      " Nodes: 184194, Edges: 869484\n",
      "\n",
      " Node types:\n",
      "  molecule: [147747]\n",
      "    Features: float32 vector, length 155\n",
      "    Edge types: molecule-present_in->species\n",
      "  species: [36447]\n",
      "    Features: float32 vector, length 69\n",
      "    Edge types: species-has->molecule\n",
      "\n",
      " Edge types:\n",
      "    species-has->molecule: [434742]\n",
      "        Weights: all 1 (default)\n",
      "        Features: none\n",
      "    molecule-present_in->species: [434742]\n",
      "        Weights: all 1 (default)\n",
      "        Features: none\n",
      "Creating 'forward', 'backward' flow for KNOWN molecule AND species...\n",
      "Predict both : running molecule to species predictions...\n",
      "36/36 [==============================] - 5s 142ms/step\n",
      "36/36 [==============================] - 5s 151ms/step\n",
      "36/36 [==============================] - 6s 173ms/step\n",
      "36/36 [==============================] - 5s 124ms/step\n",
      "36/36 [==============================] - 6s 157ms/step\n",
      "36/36 [==============================] - 5s 135ms/step\n",
      "36/36 [==============================] - 6s 156ms/step\n",
      "Predict both : running species to molecules prediction...\n",
      "36/36 [==============================] - 5s 147ms/step\n",
      "36/36 [==============================] - 6s 173ms/step\n",
      "36/36 [==============================] - 5s 131ms/step\n",
      "36/36 [==============================] - 5s 130ms/step\n",
      "36/36 [==============================] - 5s 132ms/step\n",
      "36/36 [==============================] - 5s 135ms/step\n",
      "36/36 [==============================] - 6s 157ms/step\n"
     ]
    }
   ],
   "source": [
    "out_5 = predict(g_lotus,\n",
    "                model_m_to_s,\n",
    "                model_s_to_m,\n",
    "                data_5,\n",
    "                molecule_features_dummy,\n",
    "                rdkit,\n",
    "                species_features_dummy\n",
    "               )"
   ]
  },
  {
   "cell_type": "code",
   "execution_count": 20,
   "id": "9e1ba686-78cc-4a52-93f4-4ab5b7eba37b",
   "metadata": {},
   "outputs": [
    {
     "data": {
      "text/plain": [
       "[Text(0.5, 0, 'Probabilities'),\n",
       " Text(0, 0.5, 'Count'),\n",
       " Text(0.5, 1.0, 'Probability of erythromycin across all species.')]"
      ]
     },
     "execution_count": 20,
     "metadata": {},
     "output_type": "execute_result"
    },
    {
     "data": {
      "image/png": "[encoded data removed]",
      "text/plain": [
       "<Figure size 640x480 with 1 Axes>"
      ]
     },
     "metadata": {},
     "output_type": "display_data"
    }
   ],
   "source": [
    "ax_5 = sns.histplot(data=out_5, x=out_5.prob, bins=150,)\n",
    "ax_5.set(xlabel=\"Probabilities\",\n",
    "        ylabel=\"Count\",\n",
    "        title=\"Probability of erythromycin across all species.\")"
   ]
  },
  {
   "cell_type": "code",
   "execution_count": 21,
   "id": "51025381-012f-4de4-bc91-84682a825583",
   "metadata": {
    "editable": true,
    "scrolled": true,
    "slideshow": {
     "slide_type": ""
    },
    "tags": []
   },
   "outputs": [
    {
     "data": {
      "text/html": [
       "<div>\n",
       "<style scoped>\n",
       "    .dataframe tbody tr th:only-of-type {\n",
       "        vertical-align: middle;\n",
       "    }\n",
       "\n",
       "    .dataframe tbody tr th {\n",
       "        vertical-align: top;\n",
       "    }\n",
       "\n",
       "    .dataframe thead th {\n",
       "        text-align: right;\n",
       "    }\n",
       "</style>\n",
       "<table border=\"1\" class=\"dataframe\">\n",
       "  <thead>\n",
       "    <tr style=\"text-align: right;\">\n",
       "      <th></th>\n",
       "      <th>molecule</th>\n",
       "      <th>species</th>\n",
       "      <th>model</th>\n",
       "      <th>prob</th>\n",
       "    </tr>\n",
       "  </thead>\n",
       "  <tbody>\n",
       "    <tr>\n",
       "      <th>113</th>\n",
       "      <td>CCC1OC(=O)C(C)C(OC2CC(C)(OC)C(O)C(C)O2)C(C)C(O...</td>\n",
       "      <td>Streptomyces xanthochromogenes</td>\n",
       "      <td>both_known</td>\n",
       "      <td>0.960512</td>\n",
       "    </tr>\n",
       "    <tr>\n",
       "      <th>807</th>\n",
       "      <td>CCC1OC(=O)C(C)C(OC2CC(C)(OC)C(O)C(C)O2)C(C)C(O...</td>\n",
       "      <td>Streptomyces griseoruber</td>\n",
       "      <td>both_known</td>\n",
       "      <td>0.970113</td>\n",
       "    </tr>\n",
       "    <tr>\n",
       "      <th>1005</th>\n",
       "      <td>CCC1OC(=O)C(C)C(OC2CC(C)(OC)C(O)C(C)O2)C(C)C(O...</td>\n",
       "      <td>Dactylosporangium</td>\n",
       "      <td>both_known</td>\n",
       "      <td>0.951608</td>\n",
       "    </tr>\n",
       "    <tr>\n",
       "      <th>1209</th>\n",
       "      <td>CCC1OC(=O)C(C)C(OC2CC(C)(OC)C(O)C(C)O2)C(C)C(O...</td>\n",
       "      <td>Streptomyces olindensis</td>\n",
       "      <td>both_known</td>\n",
       "      <td>0.956288</td>\n",
       "    </tr>\n",
       "    <tr>\n",
       "      <th>1300</th>\n",
       "      <td>CCC1OC(=O)C(C)C(OC2CC(C)(OC)C(O)C(C)O2)C(C)C(O...</td>\n",
       "      <td>Streptomyces chartreusis</td>\n",
       "      <td>both_known</td>\n",
       "      <td>0.986175</td>\n",
       "    </tr>\n",
       "    <tr>\n",
       "      <th>...</th>\n",
       "      <td>...</td>\n",
       "      <td>...</td>\n",
       "      <td>...</td>\n",
       "      <td>...</td>\n",
       "    </tr>\n",
       "    <tr>\n",
       "      <th>36079</th>\n",
       "      <td>CCC1OC(=O)C(C)C(OC2CC(C)(OC)C(O)C(C)O2)C(C)C(O...</td>\n",
       "      <td>Streptomyces atroolivaceus</td>\n",
       "      <td>both_known</td>\n",
       "      <td>0.976787</td>\n",
       "    </tr>\n",
       "    <tr>\n",
       "      <th>36194</th>\n",
       "      <td>CCC1OC(=O)C(C)C(OC2CC(C)(OC)C(O)C(C)O2)C(C)C(O...</td>\n",
       "      <td>Streptomyces capoamus</td>\n",
       "      <td>both_known</td>\n",
       "      <td>0.961547</td>\n",
       "    </tr>\n",
       "    <tr>\n",
       "      <th>36216</th>\n",
       "      <td>CCC1OC(=O)C(C)C(OC2CC(C)(OC)C(O)C(C)O2)C(C)C(O...</td>\n",
       "      <td>Streptomyces diastatochromogenes</td>\n",
       "      <td>both_known</td>\n",
       "      <td>0.994006</td>\n",
       "    </tr>\n",
       "    <tr>\n",
       "      <th>36325</th>\n",
       "      <td>CCC1OC(=O)C(C)C(OC2CC(C)(OC)C(O)C(C)O2)C(C)C(O...</td>\n",
       "      <td>Streptomyces cyanogenus</td>\n",
       "      <td>both_known</td>\n",
       "      <td>0.974416</td>\n",
       "    </tr>\n",
       "    <tr>\n",
       "      <th>36376</th>\n",
       "      <td>CCC1OC(=O)C(C)C(OC2CC(C)(OC)C(O)C(C)O2)C(C)C(O...</td>\n",
       "      <td>Streptomyces griseoflavus</td>\n",
       "      <td>both_known</td>\n",
       "      <td>0.978863</td>\n",
       "    </tr>\n",
       "  </tbody>\n",
       "</table>\n",
       "<p>180 rows × 4 columns</p>\n",
       "</div>"
      ],
      "text/plain": [
       "                                                molecule  \\\n",
       "113    CCC1OC(=O)C(C)C(OC2CC(C)(OC)C(O)C(C)O2)C(C)C(O...   \n",
       "807    CCC1OC(=O)C(C)C(OC2CC(C)(OC)C(O)C(C)O2)C(C)C(O...   \n",
       "1005   CCC1OC(=O)C(C)C(OC2CC(C)(OC)C(O)C(C)O2)C(C)C(O...   \n",
       "1209   CCC1OC(=O)C(C)C(OC2CC(C)(OC)C(O)C(C)O2)C(C)C(O...   \n",
       "1300   CCC1OC(=O)C(C)C(OC2CC(C)(OC)C(O)C(C)O2)C(C)C(O...   \n",
       "...                                                  ...   \n",
       "36079  CCC1OC(=O)C(C)C(OC2CC(C)(OC)C(O)C(C)O2)C(C)C(O...   \n",
       "36194  CCC1OC(=O)C(C)C(OC2CC(C)(OC)C(O)C(C)O2)C(C)C(O...   \n",
       "36216  CCC1OC(=O)C(C)C(OC2CC(C)(OC)C(O)C(C)O2)C(C)C(O...   \n",
       "36325  CCC1OC(=O)C(C)C(OC2CC(C)(OC)C(O)C(C)O2)C(C)C(O...   \n",
       "36376  CCC1OC(=O)C(C)C(OC2CC(C)(OC)C(O)C(C)O2)C(C)C(O...   \n",
       "\n",
       "                                species       model      prob  \n",
       "113      Streptomyces xanthochromogenes  both_known  0.960512  \n",
       "807            Streptomyces griseoruber  both_known  0.970113  \n",
       "1005                  Dactylosporangium  both_known  0.951608  \n",
       "1209            Streptomyces olindensis  both_known  0.956288  \n",
       "1300           Streptomyces chartreusis  both_known  0.986175  \n",
       "...                                 ...         ...       ...  \n",
       "36079        Streptomyces atroolivaceus  both_known  0.976787  \n",
       "36194             Streptomyces capoamus  both_known  0.961547  \n",
       "36216  Streptomyces diastatochromogenes  both_known  0.994006  \n",
       "36325           Streptomyces cyanogenus  both_known  0.974416  \n",
       "36376         Streptomyces griseoflavus  both_known  0.978863  \n",
       "\n",
       "[180 rows x 4 columns]"
      ]
     },
     "execution_count": 21,
     "metadata": {},
     "output_type": "execute_result"
    }
   ],
   "source": [
    "out_5[out_5.prob>0.95]"
   ]
  },
  {
   "cell_type": "code",
   "execution_count": 22,
   "id": "8565b650-adc4-4889-b1b1-eacea76fc159",
   "metadata": {},
   "outputs": [],
   "source": [
    "out_5_latex = out_5[out_5.prob>0.989].copy()\n",
    "out_5_latex['molecule'] = \"Erythromycin\"\n",
    "out_5_latex.drop(columns='model', inplace=True)\n",
    "out_5_latex.rename(columns={\n",
    "    \"molecule\": \"Molecule\",\n",
    "    \"species\": \"Species\",\n",
    "    \"prob\": \"Probability\"\n",
    "}, inplace=True)"
   ]
  },
  {
   "cell_type": "code",
   "execution_count": 23,
   "id": "815f7bdb-7493-4e56-8769-37f4e13b8bfd",
   "metadata": {},
   "outputs": [
    {
     "name": "stdout",
     "output_type": "stream",
     "text": [
      "\\begin{tabular}{llr}\n",
      "\\toprule\n",
      "Molecule & Species & Probability \\\\\n",
      "\\midrule\n",
      "Erythromycin & Streptomyces ambofaciens & 0.9891 \\\\\n",
      "Erythromycin & Kitasatospora aureofaciens & 0.9927 \\\\\n",
      "Erythromycin & Streptomyces albogriseolus & 0.9894 \\\\\n",
      "Erythromycin & Streptomyces libani & 0.9917 \\\\\n",
      "Erythromycin & Streptomyces violaceusniger & 0.9911 \\\\\n",
      "Erythromycin & Streptomyces ansochromogenes & 0.9914 \\\\\n",
      "Erythromycin & Streptomyces & 0.9929 \\\\\n",
      "Erythromycin & Streptomyces albus & 0.9915 \\\\\n",
      "Erythromycin & Streptomyces diastatochromogenes & 0.9940 \\\\\n",
      "\\bottomrule\n",
      "\\end{tabular}\n",
      "\n"
     ]
    }
   ],
   "source": [
    "print(out_5_latex.to_latex(\n",
    "    index=False,\n",
    "    float_format=\"{:.4f}\".format,\n",
    ")\n",
    ")"
   ]
  },
  {
   "cell_type": "markdown",
   "id": "20986835-1825-4734-bb0f-b18600f6ce58",
   "metadata": {},
   "source": [
    "# Test adding just one edge to an unkown molecule to see the difference"
   ]
  },
  {
   "cell_type": "code",
   "execution_count": 24,
   "id": "5f1c4618-6a75-4e5b-aad9-2a7737e98739",
   "metadata": {},
   "outputs": [],
   "source": [
    "mol = 'CC(C)CCCC(C)C1CCC2C1(CCC3C2CC=C4C3(CCC(C4)O)C)C'\n",
    "data_6 = pd.DataFrame(\n",
    "    {'molecule': mol,\n",
    "     'species': list(set(species_features_dummy.index)-set(sku[sku.structure_smiles_2D==mol].organism_name))})"
   ]
  },
  {
   "cell_type": "code",
   "execution_count": 25,
   "id": "3a4b2131-1b2e-4075-9911-1d384304a0e3",
   "metadata": {},
   "outputs": [],
   "source": [
    "g_lotus.add_node('CC(C)CCCC(C)C1CCC2C1(CCC3C2CC=C4C3(CCC(C4)O)C)C', label='molecule')\n",
    "g_lotus.add_edge('CC(C)CCCC(C)C1CCC2C1(CCC3C2CC=C4C3(CCC(C4)O)C)C', 'Mus musculus', label='present_in')\n",
    "g_lotus.add_edge('Mus musculus','CC(C)CCCC(C)C1CCC2C1(CCC3C2CC=C4C3(CCC(C4)O)C)C', label='has')\n",
    "g_lotus.add_edge('CC(C)CCCC(C)C1CCC2C1(CCC3C2CC=C4C3(CCC(C4)O)C)C', 'Dicranum japonicum', label='present_in')\n",
    "g_lotus.add_edge( 'Dicranum japonicum', 'CC(C)CCCC(C)C1CCC2C1(CCC3C2CC=C4C3(CCC(C4)O)C)C', label='has')\n",
    "g_lotus.add_edge('CC(C)CCCC(C)C1CCC2C1(CCC3C2CC=C4C3(CCC(C4)O)C)C', 'Streptomyces atratus', label='present_in')\n",
    "g_lotus.add_edge('Streptomyces atratus','CC(C)CCCC(C)C1CCC2C1(CCC3C2CC=C4C3(CCC(C4)O)C)C', label='has')\n",
    "g_lotus.add_edge('CC(C)CCCC(C)C1CCC2C1(CCC3C2CC=C4C3(CCC(C4)O)C)C','Campylopus richardii', label='present_in')\n",
    "g_lotus.add_edge('Campylopus richardii','CC(C)CCCC(C)C1CCC2C1(CCC3C2CC=C4C3(CCC(C4)O)C)C', label='has')\n",
    "g_lotus.add_edge('CC(C)CCCC(C)C1CCC2C1(CCC3C2CC=C4C3(CCC(C4)O)C)C','Suaeda aegyptiaca', label='present_in')\n",
    "g_lotus.add_edge('Suaeda aegyptiaca','CC(C)CCCC(C)C1CCC2C1(CCC3C2CC=C4C3(CCC(C4)O)C)C', label='has')"
   ]
  },
  {
   "cell_type": "code",
   "execution_count": 26,
   "id": "204e7281-6eaa-4710-8864-a8c76cbe1c99",
   "metadata": {},
   "outputs": [],
   "source": [
    "from utils.molecules import smiles_to_classyfire, smiles_to_fingerprint"
   ]
  },
  {
   "cell_type": "code",
   "execution_count": 27,
   "id": "3567ed56-4ef1-44f3-8652-0084bc5321eb",
   "metadata": {},
   "outputs": [],
   "source": [
    "chol_classy = smiles_to_classyfire(['CC(C)CCCC(C)C1CCC2C1(CCC3C2CC=C4C3(CCC(C4)O)C)C'])"
   ]
  },
  {
   "cell_type": "code",
   "execution_count": 28,
   "id": "926e8f75-9791-4d46-b662-f881c0bcb45e",
   "metadata": {},
   "outputs": [],
   "source": [
    "chol_fp = smiles_to_fingerprint(['CC(C)CCCC(C)C1CCC2C1(CCC3C2CC=C4C3(CCC(C4)O)C)C'])\n",
    "chol_fp.columns  = chol_fp.columns.astype(str)"
   ]
  },
  {
   "cell_type": "code",
   "execution_count": 29,
   "id": "7b1890ec-ad59-40fb-bf3e-a1ae96e3c4d0",
   "metadata": {},
   "outputs": [
    {
     "name": "stdout",
     "output_type": "stream",
     "text": [
      "Converting Inchikeys to SMILES...\n",
      "Getting missing features...\n",
      "Converting species taxonomy as numeric...\n",
      "Converting molecules as numeric...\n",
      "Checking which model should be used for each row...\n",
      "Adding missing nodes to the graph...\n",
      "Converting NetworkX to Stellargraph...\n",
      "StellarDiGraph: Directed multigraph\n",
      " Nodes: 184195, Edges: 869494\n",
      "\n",
      " Node types:\n",
      "  molecule: [147748]\n",
      "    Features: float32 vector, length 155\n",
      "    Edge types: molecule-present_in->species\n",
      "  species: [36447]\n",
      "    Features: float32 vector, length 69\n",
      "    Edge types: species-has->molecule\n",
      "\n",
      " Edge types:\n",
      "    species-has->molecule: [434747]\n",
      "        Weights: all 1 (default)\n",
      "        Features: none\n",
      "    molecule-present_in->species: [434747]\n",
      "        Weights: all 1 (default)\n",
      "        Features: none\n",
      "Creating 'forward', 'backward' flow for KNOWN molecule AND species...\n",
      "Predict both : running molecule to species predictions...\n",
      "36/36 [==============================] - 4s 120ms/step\n",
      "36/36 [==============================] - 5s 139ms/step\n",
      "36/36 [==============================] - 6s 153ms/step\n",
      "36/36 [==============================] - 4s 120ms/step\n",
      "36/36 [==============================] - 6s 172ms/step\n",
      "36/36 [==============================] - 7s 182ms/step\n",
      "36/36 [==============================] - 5s 148ms/step\n",
      "Predict both : running species to molecules prediction...\n",
      "36/36 [==============================] - 5s 145ms/step\n",
      "36/36 [==============================] - 6s 178ms/step\n",
      "36/36 [==============================] - 6s 170ms/step\n",
      "36/36 [==============================] - 5s 136ms/step\n",
      "36/36 [==============================] - 5s 146ms/step\n",
      "36/36 [==============================] - 7s 161ms/step\n",
      "36/36 [==============================] - 6s 155ms/step\n"
     ]
    }
   ],
   "source": [
    "out_6 = predict(g_lotus,\n",
    "                model_m_to_s,\n",
    "                model_s_to_m,\n",
    "                data_6,\n",
    "                pd.concat([molecule_features_dummy, chol_classy]),\n",
    "                pd.concat([rdkit, chol_fp]),\n",
    "                species_features_dummy\n",
    "               )"
   ]
  },
  {
   "cell_type": "code",
   "execution_count": 30,
   "id": "22b496f3-7c1b-4aeb-8f5f-529f019b3bb1",
   "metadata": {},
   "outputs": [
    {
     "data": {
      "text/plain": [
       "(array([  4.,  12.,  23.,  29.,  32.,  16.,  20.,  27.,  13.,  27.,  28.,\n",
       "         17.,  22.,  20.,  27.,  36.,  38.,  40.,  25.,  38.,  45.,  42.,\n",
       "         47.,  57.,  52.,  51.,  49.,  60.,  58.,  69.,  62.,  67.,  71.,\n",
       "         79.,  77.,  70.,  80.,  66.,  71.,  85.,  83.,  76.,  88.,  73.,\n",
       "         85.,  89.,  89., 101.,  89.,  83.,  74.,  89.,  97.,  93., 104.,\n",
       "         95., 115., 112., 128., 108., 128.,  93., 108., 109., 110., 116.,\n",
       "        106., 120., 139., 114., 119., 111., 114., 125., 125., 135., 118.,\n",
       "        137., 136., 140., 117., 133., 119., 135., 119., 127., 135., 142.,\n",
       "        131., 133., 144., 127., 132., 130., 146., 160., 130., 158., 124.,\n",
       "        145., 165., 136., 150., 142., 131., 168., 156., 167., 168., 157.,\n",
       "        200., 165., 164., 202., 173., 176., 176., 186., 170., 213., 207.,\n",
       "        168., 176., 180., 200., 187., 208., 229., 236., 220., 205., 209.,\n",
       "        207., 229., 197., 221., 243., 246., 235., 234., 245., 241., 252.,\n",
       "        250., 261., 279., 292., 275., 268., 295., 288., 293., 287., 270.,\n",
       "        289., 277., 357., 339., 301., 330., 331., 368., 356., 343., 330.,\n",
       "        369., 334., 336., 335., 335., 350., 377., 348., 404., 384., 367.,\n",
       "        415., 398., 367., 381., 390., 417., 400., 378., 365., 370., 343.,\n",
       "        345., 330., 308., 329., 370., 399., 360., 402., 369., 364., 375.,\n",
       "        319., 282.]),\n",
       " array([0.00502256, 0.009997  , 0.01497144, 0.01994588, 0.02492032,\n",
       "        0.02989476, 0.0348692 , 0.03984364, 0.04481809, 0.04979253,\n",
       "        0.05476697, 0.05974141, 0.06471585, 0.06969029, 0.07466473,\n",
       "        0.07963917, 0.08461361, 0.08958805, 0.09456249, 0.09953693,\n",
       "        0.10451137, 0.10948581, 0.11446025, 0.11943469, 0.12440913,\n",
       "        0.12938357, 0.13435801, 0.13933245, 0.14430689, 0.14928133,\n",
       "        0.15425577, 0.15923021, 0.16420465, 0.16917909, 0.17415353,\n",
       "        0.17912797, 0.18410241, 0.18907685, 0.19405129, 0.19902573,\n",
       "        0.20400017, 0.20897461, 0.21394905, 0.21892349, 0.22389793,\n",
       "        0.22887237, 0.23384681, 0.23882125, 0.24379569, 0.24877013,\n",
       "        0.25374457, 0.25871901, 0.26369345, 0.26866789, 0.27364233,\n",
       "        0.27861677, 0.28359121, 0.28856565, 0.29354009, 0.29851453,\n",
       "        0.30348897, 0.30846341, 0.31343785, 0.31841229, 0.32338673,\n",
       "        0.32836117, 0.33333561, 0.33831005, 0.34328449, 0.34825893,\n",
       "        0.35323337, 0.35820781, 0.36318225, 0.36815669, 0.37313113,\n",
       "        0.37810557, 0.38308002, 0.38805446, 0.3930289 , 0.39800334,\n",
       "        0.40297778, 0.40795222, 0.41292666, 0.4179011 , 0.42287554,\n",
       "        0.42784998, 0.43282442, 0.43779886, 0.4427733 , 0.44774774,\n",
       "        0.45272218, 0.45769662, 0.46267106, 0.4676455 , 0.47261994,\n",
       "        0.47759438, 0.48256882, 0.48754326, 0.4925177 , 0.49749214,\n",
       "        0.50246658, 0.50744102, 0.51241546, 0.5173899 , 0.52236434,\n",
       "        0.52733878, 0.53231322, 0.53728766, 0.5422621 , 0.54723654,\n",
       "        0.55221098, 0.55718542, 0.56215986, 0.5671343 , 0.57210874,\n",
       "        0.57708318, 0.58205762, 0.58703206, 0.5920065 , 0.59698094,\n",
       "        0.60195538, 0.60692982, 0.61190426, 0.6168787 , 0.62185314,\n",
       "        0.62682758, 0.63180202, 0.63677646, 0.6417509 , 0.64672534,\n",
       "        0.65169978, 0.65667422, 0.66164866, 0.6666231 , 0.67159754,\n",
       "        0.67657198, 0.68154642, 0.68652086, 0.6914953 , 0.69646974,\n",
       "        0.70144418, 0.70641862, 0.71139306, 0.7163675 , 0.72134194,\n",
       "        0.72631639, 0.73129083, 0.73626527, 0.74123971, 0.74621415,\n",
       "        0.75118859, 0.75616303, 0.76113747, 0.76611191, 0.77108635,\n",
       "        0.77606079, 0.78103523, 0.78600967, 0.79098411, 0.79595855,\n",
       "        0.80093299, 0.80590743, 0.81088187, 0.81585631, 0.82083075,\n",
       "        0.82580519, 0.83077963, 0.83575407, 0.84072851, 0.84570295,\n",
       "        0.85067739, 0.85565183, 0.86062627, 0.86560071, 0.87057515,\n",
       "        0.87554959, 0.88052403, 0.88549847, 0.89047291, 0.89544735,\n",
       "        0.90042179, 0.90539623, 0.91037067, 0.91534511, 0.92031955,\n",
       "        0.92529399, 0.93026843, 0.93524287, 0.94021731, 0.94519175,\n",
       "        0.95016619, 0.95514063, 0.96011507, 0.96508951, 0.97006395,\n",
       "        0.97503839, 0.98001283, 0.98498727, 0.98996171, 0.99493615,\n",
       "        0.99991059]),\n",
       " <BarContainer object of 200 artists>)"
      ]
     },
     "execution_count": 30,
     "metadata": {},
     "output_type": "execute_result"
    },
    {
     "data": {
      "image/png": "[encoded data removed]",
      "text/plain": [
       "<Figure size 640x480 with 1 Axes>"
      ]
     },
     "metadata": {},
     "output_type": "display_data"
    }
   ],
   "source": [
    "plt.hist(out_6.prob, bins=200)"
   ]
  },
  {
   "cell_type": "code",
   "execution_count": 31,
   "id": "32b400a2-c08d-4c29-96ab-cf91195c63b3",
   "metadata": {},
   "outputs": [
    {
     "data": {
      "text/html": [
       "<div>\n",
       "<style scoped>\n",
       "    .dataframe tbody tr th:only-of-type {\n",
       "        vertical-align: middle;\n",
       "    }\n",
       "\n",
       "    .dataframe tbody tr th {\n",
       "        vertical-align: top;\n",
       "    }\n",
       "\n",
       "    .dataframe thead th {\n",
       "        text-align: right;\n",
       "    }\n",
       "</style>\n",
       "<table border=\"1\" class=\"dataframe\">\n",
       "  <thead>\n",
       "    <tr style=\"text-align: right;\">\n",
       "      <th></th>\n",
       "      <th>molecule</th>\n",
       "      <th>species</th>\n",
       "      <th>model</th>\n",
       "      <th>prob</th>\n",
       "    </tr>\n",
       "  </thead>\n",
       "  <tbody>\n",
       "    <tr>\n",
       "      <th>194</th>\n",
       "      <td>CC(C)CCCC(C)C1CCC2C1(CCC3C2CC=C4C3(CCC(C4)O)C)C</td>\n",
       "      <td>Cymbopogon parkeri</td>\n",
       "      <td>both_known</td>\n",
       "      <td>0.994439</td>\n",
       "    </tr>\n",
       "    <tr>\n",
       "      <th>266</th>\n",
       "      <td>CC(C)CCCC(C)C1CCC2C1(CCC3C2CC=C4C3(CCC(C4)O)C)C</td>\n",
       "      <td>Pseudomonas aeruginosa</td>\n",
       "      <td>both_known</td>\n",
       "      <td>0.999292</td>\n",
       "    </tr>\n",
       "    <tr>\n",
       "      <th>268</th>\n",
       "      <td>CC(C)CCCC(C)C1CCC2C1(CCC3C2CC=C4C3(CCC(C4)O)C)C</td>\n",
       "      <td>Cystoseira barbata</td>\n",
       "      <td>both_known</td>\n",
       "      <td>0.998486</td>\n",
       "    </tr>\n",
       "    <tr>\n",
       "      <th>312</th>\n",
       "      <td>CC(C)CCCC(C)C1CCC2C1(CCC3C2CC=C4C3(CCC(C4)O)C)C</td>\n",
       "      <td>Nostoc carneum</td>\n",
       "      <td>both_known</td>\n",
       "      <td>0.993946</td>\n",
       "    </tr>\n",
       "    <tr>\n",
       "      <th>338</th>\n",
       "      <td>CC(C)CCCC(C)C1CCC2C1(CCC3C2CC=C4C3(CCC(C4)O)C)C</td>\n",
       "      <td>Volvariella volvacea</td>\n",
       "      <td>both_known</td>\n",
       "      <td>0.990184</td>\n",
       "    </tr>\n",
       "    <tr>\n",
       "      <th>...</th>\n",
       "      <td>...</td>\n",
       "      <td>...</td>\n",
       "      <td>...</td>\n",
       "      <td>...</td>\n",
       "    </tr>\n",
       "    <tr>\n",
       "      <th>36264</th>\n",
       "      <td>CC(C)CCCC(C)C1CCC2C1(CCC3C2CC=C4C3(CCC(C4)O)C)C</td>\n",
       "      <td>Deinococcus geothermalis</td>\n",
       "      <td>both_known</td>\n",
       "      <td>0.997169</td>\n",
       "    </tr>\n",
       "    <tr>\n",
       "      <th>36301</th>\n",
       "      <td>CC(C)CCCC(C)C1CCC2C1(CCC3C2CC=C4C3(CCC(C4)O)C)C</td>\n",
       "      <td>Oryza sativa</td>\n",
       "      <td>both_known</td>\n",
       "      <td>0.992104</td>\n",
       "    </tr>\n",
       "    <tr>\n",
       "      <th>36317</th>\n",
       "      <td>CC(C)CCCC(C)C1CCC2C1(CCC3C2CC=C4C3(CCC(C4)O)C)C</td>\n",
       "      <td>Streptomyces purpurogeneiscleroticus</td>\n",
       "      <td>both_known</td>\n",
       "      <td>0.990425</td>\n",
       "    </tr>\n",
       "    <tr>\n",
       "      <th>36381</th>\n",
       "      <td>CC(C)CCCC(C)C1CCC2C1(CCC3C2CC=C4C3(CCC(C4)O)C)C</td>\n",
       "      <td>Corchorus aestuans</td>\n",
       "      <td>both_known</td>\n",
       "      <td>0.991107</td>\n",
       "    </tr>\n",
       "    <tr>\n",
       "      <th>36388</th>\n",
       "      <td>CC(C)CCCC(C)C1CCC2C1(CCC3C2CC=C4C3(CCC(C4)O)C)C</td>\n",
       "      <td>Rhinogobius brunneus</td>\n",
       "      <td>both_known</td>\n",
       "      <td>0.993571</td>\n",
       "    </tr>\n",
       "  </tbody>\n",
       "</table>\n",
       "<p>596 rows × 4 columns</p>\n",
       "</div>"
      ],
      "text/plain": [
       "                                              molecule  \\\n",
       "194    CC(C)CCCC(C)C1CCC2C1(CCC3C2CC=C4C3(CCC(C4)O)C)C   \n",
       "266    CC(C)CCCC(C)C1CCC2C1(CCC3C2CC=C4C3(CCC(C4)O)C)C   \n",
       "268    CC(C)CCCC(C)C1CCC2C1(CCC3C2CC=C4C3(CCC(C4)O)C)C   \n",
       "312    CC(C)CCCC(C)C1CCC2C1(CCC3C2CC=C4C3(CCC(C4)O)C)C   \n",
       "338    CC(C)CCCC(C)C1CCC2C1(CCC3C2CC=C4C3(CCC(C4)O)C)C   \n",
       "...                                                ...   \n",
       "36264  CC(C)CCCC(C)C1CCC2C1(CCC3C2CC=C4C3(CCC(C4)O)C)C   \n",
       "36301  CC(C)CCCC(C)C1CCC2C1(CCC3C2CC=C4C3(CCC(C4)O)C)C   \n",
       "36317  CC(C)CCCC(C)C1CCC2C1(CCC3C2CC=C4C3(CCC(C4)O)C)C   \n",
       "36381  CC(C)CCCC(C)C1CCC2C1(CCC3C2CC=C4C3(CCC(C4)O)C)C   \n",
       "36388  CC(C)CCCC(C)C1CCC2C1(CCC3C2CC=C4C3(CCC(C4)O)C)C   \n",
       "\n",
       "                                    species       model      prob  \n",
       "194                      Cymbopogon parkeri  both_known  0.994439  \n",
       "266                  Pseudomonas aeruginosa  both_known  0.999292  \n",
       "268                      Cystoseira barbata  both_known  0.998486  \n",
       "312                          Nostoc carneum  both_known  0.993946  \n",
       "338                    Volvariella volvacea  both_known  0.990184  \n",
       "...                                     ...         ...       ...  \n",
       "36264              Deinococcus geothermalis  both_known  0.997169  \n",
       "36301                          Oryza sativa  both_known  0.992104  \n",
       "36317  Streptomyces purpurogeneiscleroticus  both_known  0.990425  \n",
       "36381                    Corchorus aestuans  both_known  0.991107  \n",
       "36388                  Rhinogobius brunneus  both_known  0.993571  \n",
       "\n",
       "[596 rows x 4 columns]"
      ]
     },
     "execution_count": 31,
     "metadata": {},
     "output_type": "execute_result"
    }
   ],
   "source": [
    "out_6[out_6.prob>0.99]"
   ]
  }
 ],
 "metadata": {
  "kernelspec": {
   "display_name": "Python 3 (ipykernel)",
   "language": "python",
   "name": "python3"
  },
  "language_info": {
   "codemirror_mode": {
    "name": "ipython",
    "version": 3
   },
   "file_extension": ".py",
   "mimetype": "text/x-python",
   "name": "python",
   "nbconvert_exporter": "python",
   "pygments_lexer": "ipython3",
   "version": "3.11.4"
  }
 },
 "nbformat": 4,
 "nbformat_minor": 5
}
