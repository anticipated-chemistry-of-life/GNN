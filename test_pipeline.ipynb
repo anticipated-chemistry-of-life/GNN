{
 "cells": [
  {
   "cell_type": "code",
   "execution_count": 9,
   "id": "dd82b030",
   "metadata": {
    "editable": true,
    "slideshow": {
     "slide_type": ""
    },
    "tags": []
   },
   "outputs": [],
   "source": [
    "import os\n",
    "os.environ['TF_CPP_MIN_LOG_LEVEL'] = '3' \n",
    "import pandas as pd\n",
    "import networkx as nx\n",
    "import tensorflow as tf\n",
    "import numpy as np\n",
    "from utils.utils import predict\n",
    "import matplotlib.pyplot as plt\n",
    "import seaborn as sns"
   ]
  },
  {
   "cell_type": "code",
   "execution_count": 2,
   "id": "b783b50e",
   "metadata": {},
   "outputs": [],
   "source": [
    "model_m_to_s = tf.keras.models.load_model(\"./model/gbif_batch_128_layer_1024_m_to_s\", compile=True)\n",
    "model_s_to_m = tf.keras.models.load_model(\"./model/gbif_batch_128_layer_1024_s_to_m\", compile=True)"
   ]
  },
  {
   "cell_type": "code",
   "execution_count": 3,
   "id": "22b4252c",
   "metadata": {},
   "outputs": [],
   "source": [
    "species_features_dummy = pd.read_csv(\"./data/species_features.csv.gz\", index_col=0)\n",
    "molecule_features_dummy = pd.read_csv(\"./data/molecule_features.csv.gz\", index_col=0)\n",
    "df_agg = pd.read_csv(\"./data/lotus_agg_test.csv.gz\", index_col=0)"
   ]
  },
  {
   "cell_type": "code",
   "execution_count": 4,
   "id": "2cf17209-3a1c-4859-878d-ff899b357228",
   "metadata": {},
   "outputs": [],
   "source": [
    "rdkit = pd.read_csv(\"./data/mol_dummy_rdkit.csv.gz\", index_col=0).astype('uint8')\n",
    "rdkit.columns = rdkit.columns.astype(str)"
   ]
  },
  {
   "cell_type": "code",
   "execution_count": 5,
   "id": "11cae12e",
   "metadata": {},
   "outputs": [],
   "source": [
    "g_train = nx.read_graphml(\"./graph/train_graph.gml\")\n",
    "g = nx.read_graphml(\"./graph/test_graph.gml\")\n",
    "g  = nx.create_empty_copy(g)\n",
    "g_merged = nx.compose(g_train, g)"
   ]
  },
  {
   "cell_type": "code",
   "execution_count": 6,
   "id": "8e5d4874",
   "metadata": {},
   "outputs": [],
   "source": [
    "df_agg_train = pd.read_csv(\"./data/lotus_agg_train.csv.gz\", index_col=0)"
   ]
  },
  {
   "cell_type": "code",
   "execution_count": 7,
   "id": "caf69736-4ee4-431d-8ec2-445ecbc54965",
   "metadata": {},
   "outputs": [],
   "source": [
    "g_test = nx.read_graphml(\"./graph/test_graph.gml\")\n",
    "g_lotus = nx.compose(g_train, g_test)"
   ]
  },
  {
   "cell_type": "code",
   "execution_count": 8,
   "id": "b621a031-84d2-4cd3-9e1d-877ee2c2b18a",
   "metadata": {},
   "outputs": [],
   "source": [
    "sku = pd.concat([df_agg, df_agg_train])"
   ]
  },
  {
   "cell_type": "code",
   "execution_count": 9,
   "id": "5fc7b573-ebc1-478a-8809-8e67592a49fb",
   "metadata": {},
   "outputs": [],
   "source": [
    "mol = 'O'\n",
    "data_3 = pd.DataFrame(\n",
    "    {'molecule': mol,\n",
    "     'species': list(set(species_features_dummy.index)-set(sku[sku.structure_smiles_2D==mol].organism_name))})"
   ]
  },
  {
   "cell_type": "code",
   "execution_count": 10,
   "id": "f8561910-539d-4faf-b27c-0a3af77acdc3",
   "metadata": {
    "scrolled": true
   },
   "outputs": [
    {
     "data": {
      "text/html": [
       "<div>\n",
       "<style scoped>\n",
       "    .dataframe tbody tr th:only-of-type {\n",
       "        vertical-align: middle;\n",
       "    }\n",
       "\n",
       "    .dataframe tbody tr th {\n",
       "        vertical-align: top;\n",
       "    }\n",
       "\n",
       "    .dataframe thead th {\n",
       "        text-align: right;\n",
       "    }\n",
       "</style>\n",
       "<table border=\"1\" class=\"dataframe\">\n",
       "  <thead>\n",
       "    <tr style=\"text-align: right;\">\n",
       "      <th></th>\n",
       "      <th>molecule</th>\n",
       "      <th>species</th>\n",
       "    </tr>\n",
       "  </thead>\n",
       "  <tbody>\n",
       "    <tr>\n",
       "      <th>0</th>\n",
       "      <td>O</td>\n",
       "      <td>Sphallerocarpus gracilis</td>\n",
       "    </tr>\n",
       "    <tr>\n",
       "      <th>1</th>\n",
       "      <td>O</td>\n",
       "      <td>Monanchora unguiculata</td>\n",
       "    </tr>\n",
       "    <tr>\n",
       "      <th>2</th>\n",
       "      <td>O</td>\n",
       "      <td>Plagiochila ericicola</td>\n",
       "    </tr>\n",
       "    <tr>\n",
       "      <th>3</th>\n",
       "      <td>O</td>\n",
       "      <td>Erepsia inclaudens</td>\n",
       "    </tr>\n",
       "    <tr>\n",
       "      <th>4</th>\n",
       "      <td>O</td>\n",
       "      <td>Kuehneromyces</td>\n",
       "    </tr>\n",
       "    <tr>\n",
       "      <th>...</th>\n",
       "      <td>...</td>\n",
       "      <td>...</td>\n",
       "    </tr>\n",
       "    <tr>\n",
       "      <th>36436</th>\n",
       "      <td>O</td>\n",
       "      <td>Drosera intermedia</td>\n",
       "    </tr>\n",
       "    <tr>\n",
       "      <th>36437</th>\n",
       "      <td>O</td>\n",
       "      <td>Centipeda minima</td>\n",
       "    </tr>\n",
       "    <tr>\n",
       "      <th>36438</th>\n",
       "      <td>O</td>\n",
       "      <td>Prorocentrum hoffmannianum</td>\n",
       "    </tr>\n",
       "    <tr>\n",
       "      <th>36439</th>\n",
       "      <td>O</td>\n",
       "      <td>Athamanta macedonica</td>\n",
       "    </tr>\n",
       "    <tr>\n",
       "      <th>36440</th>\n",
       "      <td>O</td>\n",
       "      <td>Craibiodendron yunnanense</td>\n",
       "    </tr>\n",
       "  </tbody>\n",
       "</table>\n",
       "<p>36441 rows × 2 columns</p>\n",
       "</div>"
      ],
      "text/plain": [
       "      molecule                     species\n",
       "0            O    Sphallerocarpus gracilis\n",
       "1            O      Monanchora unguiculata\n",
       "2            O       Plagiochila ericicola\n",
       "3            O          Erepsia inclaudens\n",
       "4            O               Kuehneromyces\n",
       "...        ...                         ...\n",
       "36436        O          Drosera intermedia\n",
       "36437        O            Centipeda minima\n",
       "36438        O  Prorocentrum hoffmannianum\n",
       "36439        O        Athamanta macedonica\n",
       "36440        O   Craibiodendron yunnanense\n",
       "\n",
       "[36441 rows x 2 columns]"
      ]
     },
     "execution_count": 10,
     "metadata": {},
     "output_type": "execute_result"
    }
   ],
   "source": [
    "data_3"
   ]
  },
  {
   "cell_type": "code",
   "execution_count": 11,
   "id": "ece87642-d128-4573-840f-4402e5ed1a8f",
   "metadata": {
    "scrolled": true
   },
   "outputs": [
    {
     "name": "stdout",
     "output_type": "stream",
     "text": [
      "Converting Inchikeys to SMILES...\n",
      "Getting missing features...\n",
      "Converting species taxonomy as numeric...\n",
      "Converting molecules as numeric...\n",
      "Checking which model should be used for each row...\n",
      "Adding missing nodes to the graph...\n",
      "Converting NetworkX to Stellargraph...\n",
      "StellarDiGraph: Directed multigraph\n",
      " Nodes: 184194, Edges: 869484\n",
      "\n",
      " Node types:\n",
      "  molecule: [147747]\n",
      "    Features: float32 vector, length 155\n",
      "    Edge types: molecule-present_in->species\n",
      "  species: [36447]\n",
      "    Features: float32 vector, length 69\n",
      "    Edge types: species-has->molecule\n",
      "\n",
      " Edge types:\n",
      "    species-has->molecule: [434742]\n",
      "        Weights: all 1 (default)\n",
      "        Features: none\n",
      "    molecule-present_in->species: [434742]\n",
      "        Weights: all 1 (default)\n",
      "        Features: none\n",
      "Creating 'forward', 'backward' flow for KNOWN molecule AND species...\n",
      "Predict both : running molecule to species predictions...\n",
      "36/36 [==============================] - 5s 125ms/step\n",
      "36/36 [==============================] - 6s 153ms/step\n",
      "36/36 [==============================] - 5s 146ms/step\n",
      "36/36 [==============================] - 5s 126ms/step\n",
      "36/36 [==============================] - 5s 147ms/step\n",
      "36/36 [==============================] - 5s 123ms/step\n",
      "36/36 [==============================] - 5s 146ms/step\n",
      "Predict both : running species to molecules prediction...\n",
      "36/36 [==============================] - 6s 148ms/step\n",
      "36/36 [==============================] - 5s 150ms/step\n",
      "36/36 [==============================] - 5s 125ms/step\n",
      "36/36 [==============================] - 5s 150ms/step\n",
      "36/36 [==============================] - 5s 124ms/step\n",
      "36/36 [==============================] - 6s 152ms/step\n",
      "36/36 [==============================] - 5s 125ms/step\n"
     ]
    }
   ],
   "source": [
    "out_3 = predict(g_lotus,\n",
    "                model_m_to_s,\n",
    "                model_s_to_m,\n",
    "                data_3,\n",
    "                molecule_features_dummy,\n",
    "                rdkit,\n",
    "                species_features_dummy\n",
    "               )"
   ]
  },
  {
   "cell_type": "code",
   "execution_count": 12,
   "id": "67c99d30-2bdf-4e11-8f4d-07f46b9c1d63",
   "metadata": {},
   "outputs": [
    {
     "data": {
      "text/plain": [
       "[Text(0.5, 0, 'Probabilities'),\n",
       " Text(0, 0.5, 'Count'),\n",
       " Text(0.5, 1.0, 'Probability of water across all species.')]"
      ]
     },
     "execution_count": 12,
     "metadata": {},
     "output_type": "execute_result"
    },
    {
     "data": {
      "image/png": "[encoded data removed]",
      "text/plain": [
       "<Figure size 640x480 with 1 Axes>"
      ]
     },
     "metadata": {},
     "output_type": "display_data"
    }
   ],
   "source": [
    "ax_3 = sns.histplot(data=out_3, x=out_3.prob, bins=100)\n",
    "ax_3.set(xlabel=\"Probabilities\",\n",
    "        ylabel=\"Count\",\n",
    "        title=\"Probability of water across all species.\")"
   ]
  },
  {
   "cell_type": "code",
   "execution_count": 13,
   "id": "fa442cb0-d3a1-4258-8a9e-bf52a01b36bf",
   "metadata": {
    "editable": true,
    "scrolled": true,
    "slideshow": {
     "slide_type": ""
    },
    "tags": []
   },
   "outputs": [
    {
     "data": {
      "text/html": [
       "<div>\n",
       "<style scoped>\n",
       "    .dataframe tbody tr th:only-of-type {\n",
       "        vertical-align: middle;\n",
       "    }\n",
       "\n",
       "    .dataframe tbody tr th {\n",
       "        vertical-align: top;\n",
       "    }\n",
       "\n",
       "    .dataframe thead th {\n",
       "        text-align: right;\n",
       "    }\n",
       "</style>\n",
       "<table border=\"1\" class=\"dataframe\">\n",
       "  <thead>\n",
       "    <tr style=\"text-align: right;\">\n",
       "      <th></th>\n",
       "      <th>molecule</th>\n",
       "      <th>species</th>\n",
       "      <th>model</th>\n",
       "      <th>prob</th>\n",
       "    </tr>\n",
       "  </thead>\n",
       "  <tbody>\n",
       "    <tr>\n",
       "      <th>109</th>\n",
       "      <td>O</td>\n",
       "      <td>Acacia auriculiformis</td>\n",
       "      <td>both_known</td>\n",
       "      <td>0.959974</td>\n",
       "    </tr>\n",
       "    <tr>\n",
       "      <th>202</th>\n",
       "      <td>O</td>\n",
       "      <td>Andrachne telephioides</td>\n",
       "      <td>both_known</td>\n",
       "      <td>0.984268</td>\n",
       "    </tr>\n",
       "    <tr>\n",
       "      <th>459</th>\n",
       "      <td>O</td>\n",
       "      <td>Schleichera oleosa</td>\n",
       "      <td>both_known</td>\n",
       "      <td>0.962307</td>\n",
       "    </tr>\n",
       "    <tr>\n",
       "      <th>542</th>\n",
       "      <td>O</td>\n",
       "      <td>Picea rubens</td>\n",
       "      <td>both_known</td>\n",
       "      <td>0.951880</td>\n",
       "    </tr>\n",
       "    <tr>\n",
       "      <th>558</th>\n",
       "      <td>O</td>\n",
       "      <td>Agaricus bisporus</td>\n",
       "      <td>both_known</td>\n",
       "      <td>0.976889</td>\n",
       "    </tr>\n",
       "    <tr>\n",
       "      <th>...</th>\n",
       "      <td>...</td>\n",
       "      <td>...</td>\n",
       "      <td>...</td>\n",
       "      <td>...</td>\n",
       "    </tr>\n",
       "    <tr>\n",
       "      <th>35820</th>\n",
       "      <td>O</td>\n",
       "      <td>Scorodophloeus zenkeri</td>\n",
       "      <td>both_known</td>\n",
       "      <td>0.965476</td>\n",
       "    </tr>\n",
       "    <tr>\n",
       "      <th>35955</th>\n",
       "      <td>O</td>\n",
       "      <td>Gigartina stellata</td>\n",
       "      <td>both_known</td>\n",
       "      <td>0.963460</td>\n",
       "    </tr>\n",
       "    <tr>\n",
       "      <th>36058</th>\n",
       "      <td>O</td>\n",
       "      <td>Nothomyrmecia macrops</td>\n",
       "      <td>both_known</td>\n",
       "      <td>0.982276</td>\n",
       "    </tr>\n",
       "    <tr>\n",
       "      <th>36338</th>\n",
       "      <td>O</td>\n",
       "      <td>Heracleum antasiaticum</td>\n",
       "      <td>both_known</td>\n",
       "      <td>0.969479</td>\n",
       "    </tr>\n",
       "    <tr>\n",
       "      <th>36421</th>\n",
       "      <td>O</td>\n",
       "      <td>Artemisia capillaris</td>\n",
       "      <td>both_known</td>\n",
       "      <td>0.953990</td>\n",
       "    </tr>\n",
       "  </tbody>\n",
       "</table>\n",
       "<p>329 rows × 4 columns</p>\n",
       "</div>"
      ],
      "text/plain": [
       "      molecule                 species       model      prob\n",
       "109          O   Acacia auriculiformis  both_known  0.959974\n",
       "202          O  Andrachne telephioides  both_known  0.984268\n",
       "459          O      Schleichera oleosa  both_known  0.962307\n",
       "542          O            Picea rubens  both_known  0.951880\n",
       "558          O       Agaricus bisporus  both_known  0.976889\n",
       "...        ...                     ...         ...       ...\n",
       "35820        O  Scorodophloeus zenkeri  both_known  0.965476\n",
       "35955        O      Gigartina stellata  both_known  0.963460\n",
       "36058        O   Nothomyrmecia macrops  both_known  0.982276\n",
       "36338        O  Heracleum antasiaticum  both_known  0.969479\n",
       "36421        O    Artemisia capillaris  both_known  0.953990\n",
       "\n",
       "[329 rows x 4 columns]"
      ]
     },
     "execution_count": 13,
     "metadata": {},
     "output_type": "execute_result"
    }
   ],
   "source": [
    "out_3[out_3.prob>0.95]"
   ]
  },
  {
   "cell_type": "markdown",
   "id": "78a27f69-5b8c-4009-9394-5bea552a957c",
   "metadata": {},
   "source": [
    "# Test 4: let's see if cholesterol is present \"everywhere\"\n"
   ]
  },
  {
   "cell_type": "code",
   "execution_count": 14,
   "id": "a7c99299-4484-4da2-b9ff-f6e1804d3ce4",
   "metadata": {},
   "outputs": [],
   "source": [
    "mol = 'COc1cc2c(O)c3c(c(-c4ccc5c(c4)OCO5)c2cc1OC)C(=O)OC3'\n",
    "data_4 = pd.DataFrame(\n",
    "    {'molecule': mol,\n",
    "     'species': list(set(species_features_dummy.index)-set(sku[sku.structure_smiles_2D==mol].organism_name))})"
   ]
  },
  {
   "cell_type": "code",
   "execution_count": 15,
   "id": "d918b7ec-b4d3-435c-b9bb-88bd40bb4a34",
   "metadata": {},
   "outputs": [
    {
     "name": "stdout",
     "output_type": "stream",
     "text": [
      "Converting Inchikeys to SMILES...\n",
      "Getting missing features...\n",
      "Converting species taxonomy as numeric...\n",
      "Converting molecules as numeric...\n",
      "Checking which model should be used for each row...\n",
      "Adding missing nodes to the graph...\n",
      "Converting NetworkX to Stellargraph...\n",
      "StellarDiGraph: Directed multigraph\n",
      " Nodes: 184194, Edges: 869484\n",
      "\n",
      " Node types:\n",
      "  molecule: [147747]\n",
      "    Features: float32 vector, length 155\n",
      "    Edge types: molecule-present_in->species\n",
      "  species: [36447]\n",
      "    Features: float32 vector, length 69\n",
      "    Edge types: species-has->molecule\n",
      "\n",
      " Edge types:\n",
      "    species-has->molecule: [434742]\n",
      "        Weights: all 1 (default)\n",
      "        Features: none\n",
      "    molecule-present_in->species: [434742]\n",
      "        Weights: all 1 (default)\n",
      "        Features: none\n",
      "Creating 'forward', 'backward' flow for KNOWN molecule AND species...\n",
      "Predict both : running molecule to species predictions...\n",
      "36/36 [==============================] - 5s 130ms/step\n",
      "36/36 [==============================] - 5s 128ms/step\n",
      "36/36 [==============================] - 5s 130ms/step\n",
      "36/36 [==============================] - 6s 152ms/step\n",
      "36/36 [==============================] - 5s 133ms/step\n",
      "36/36 [==============================] - 6s 152ms/step\n",
      "36/36 [==============================] - 5s 131ms/step\n",
      "Predict both : running species to molecules prediction...\n",
      "36/36 [==============================] - 6s 156ms/step\n",
      "36/36 [==============================] - 5s 131ms/step\n",
      "36/36 [==============================] - 6s 155ms/step\n",
      "36/36 [==============================] - 5s 130ms/step\n",
      "36/36 [==============================] - 6s 167ms/step\n",
      "36/36 [==============================] - 5s 137ms/step\n",
      "36/36 [==============================] - 6s 167ms/step\n"
     ]
    }
   ],
   "source": [
    "out_4 = predict(g_lotus,\n",
    "                model_m_to_s,\n",
    "                model_s_to_m,\n",
    "                data_4,\n",
    "                molecule_features_dummy,\n",
    "                rdkit,\n",
    "                species_features_dummy\n",
    "               )"
   ]
  },
  {
   "cell_type": "code",
   "execution_count": 16,
   "id": "e8413eff-703c-4381-b5b2-2b3f0e84d09c",
   "metadata": {},
   "outputs": [
    {
     "data": {
      "text/plain": [
       "[Text(0.5, 0, 'Probabilities'),\n",
       " Text(0, 0.5, 'Count'),\n",
       " Text(0.5, 1.0, 'Probability of cholesterol across all species.')]"
      ]
     },
     "execution_count": 16,
     "metadata": {},
     "output_type": "execute_result"
    },
    {
     "data": {
      "image/png": "[encoded data removed]",
      "text/plain": [
       "<Figure size 640x480 with 1 Axes>"
      ]
     },
     "metadata": {},
     "output_type": "display_data"
    }
   ],
   "source": [
    "ax_4 = sns.histplot(data=out_4, x=out_4.prob, bins=100)\n",
    "ax_4.set(xlabel=\"Probabilities\",\n",
    "        ylabel=\"Count\",\n",
    "        title=\"Probability of cholesterol across all species.\")"
   ]
  },
  {
   "cell_type": "code",
   "execution_count": 17,
   "id": "3c852c91-e917-480c-9d21-d8cb9b735895",
   "metadata": {
    "scrolled": true
   },
   "outputs": [
    {
     "data": {
      "text/html": [
       "<div>\n",
       "<style scoped>\n",
       "    .dataframe tbody tr th:only-of-type {\n",
       "        vertical-align: middle;\n",
       "    }\n",
       "\n",
       "    .dataframe tbody tr th {\n",
       "        vertical-align: top;\n",
       "    }\n",
       "\n",
       "    .dataframe thead th {\n",
       "        text-align: right;\n",
       "    }\n",
       "</style>\n",
       "<table border=\"1\" class=\"dataframe\">\n",
       "  <thead>\n",
       "    <tr style=\"text-align: right;\">\n",
       "      <th></th>\n",
       "      <th>molecule</th>\n",
       "      <th>species</th>\n",
       "      <th>model</th>\n",
       "      <th>prob</th>\n",
       "    </tr>\n",
       "  </thead>\n",
       "  <tbody>\n",
       "    <tr>\n",
       "      <th>24</th>\n",
       "      <td>CC(C)CCCC(C)C1CCC2C3CC=C4CC(O)CCC4(C)C3CCC12C</td>\n",
       "      <td>Acalypha marginata</td>\n",
       "      <td>both_known</td>\n",
       "      <td>0.990181</td>\n",
       "    </tr>\n",
       "    <tr>\n",
       "      <th>26</th>\n",
       "      <td>CC(C)CCCC(C)C1CCC2C3CC=C4CC(O)CCC4(C)C3CCC12C</td>\n",
       "      <td>Dianthus chinensis</td>\n",
       "      <td>both_known</td>\n",
       "      <td>0.992671</td>\n",
       "    </tr>\n",
       "    <tr>\n",
       "      <th>59</th>\n",
       "      <td>CC(C)CCCC(C)C1CCC2C3CC=C4CC(O)CCC4(C)C3CCC12C</td>\n",
       "      <td>Abies veitchii</td>\n",
       "      <td>both_known</td>\n",
       "      <td>0.998003</td>\n",
       "    </tr>\n",
       "    <tr>\n",
       "      <th>63</th>\n",
       "      <td>CC(C)CCCC(C)C1CCC2C3CC=C4CC(O)CCC4(C)C3CCC12C</td>\n",
       "      <td>Ozothamnus ledifolius</td>\n",
       "      <td>both_known</td>\n",
       "      <td>0.992683</td>\n",
       "    </tr>\n",
       "    <tr>\n",
       "      <th>76</th>\n",
       "      <td>CC(C)CCCC(C)C1CCC2C3CC=C4CC(O)CCC4(C)C3CCC12C</td>\n",
       "      <td>Thapsia tenuifolia</td>\n",
       "      <td>both_known</td>\n",
       "      <td>0.990674</td>\n",
       "    </tr>\n",
       "    <tr>\n",
       "      <th>...</th>\n",
       "      <td>...</td>\n",
       "      <td>...</td>\n",
       "      <td>...</td>\n",
       "      <td>...</td>\n",
       "    </tr>\n",
       "    <tr>\n",
       "      <th>35902</th>\n",
       "      <td>CC(C)CCCC(C)C1CCC2C3CC=C4CC(O)CCC4(C)C3CCC12C</td>\n",
       "      <td>Planochloris</td>\n",
       "      <td>both_known</td>\n",
       "      <td>0.997892</td>\n",
       "    </tr>\n",
       "    <tr>\n",
       "      <th>35910</th>\n",
       "      <td>CC(C)CCCC(C)C1CCC2C3CC=C4CC(O)CCC4(C)C3CCC12C</td>\n",
       "      <td>Artemisia capillaris</td>\n",
       "      <td>both_known</td>\n",
       "      <td>0.996888</td>\n",
       "    </tr>\n",
       "    <tr>\n",
       "      <th>35914</th>\n",
       "      <td>CC(C)CCCC(C)C1CCC2C3CC=C4CC(O)CCC4(C)C3CCC12C</td>\n",
       "      <td>Chloranthus spicatus</td>\n",
       "      <td>both_known</td>\n",
       "      <td>0.995479</td>\n",
       "    </tr>\n",
       "    <tr>\n",
       "      <th>35916</th>\n",
       "      <td>CC(C)CCCC(C)C1CCC2C3CC=C4CC(O)CCC4(C)C3CCC12C</td>\n",
       "      <td>Callicarpa longissima</td>\n",
       "      <td>both_known</td>\n",
       "      <td>0.990889</td>\n",
       "    </tr>\n",
       "    <tr>\n",
       "      <th>35928</th>\n",
       "      <td>CC(C)CCCC(C)C1CCC2C3CC=C4CC(O)CCC4(C)C3CCC12C</td>\n",
       "      <td>Athamanta macedonica</td>\n",
       "      <td>both_known</td>\n",
       "      <td>0.992199</td>\n",
       "    </tr>\n",
       "  </tbody>\n",
       "</table>\n",
       "<p>3742 rows × 4 columns</p>\n",
       "</div>"
      ],
      "text/plain": [
       "                                            molecule                species  \\\n",
       "24     CC(C)CCCC(C)C1CCC2C3CC=C4CC(O)CCC4(C)C3CCC12C     Acalypha marginata   \n",
       "26     CC(C)CCCC(C)C1CCC2C3CC=C4CC(O)CCC4(C)C3CCC12C     Dianthus chinensis   \n",
       "59     CC(C)CCCC(C)C1CCC2C3CC=C4CC(O)CCC4(C)C3CCC12C         Abies veitchii   \n",
       "63     CC(C)CCCC(C)C1CCC2C3CC=C4CC(O)CCC4(C)C3CCC12C  Ozothamnus ledifolius   \n",
       "76     CC(C)CCCC(C)C1CCC2C3CC=C4CC(O)CCC4(C)C3CCC12C     Thapsia tenuifolia   \n",
       "...                                              ...                    ...   \n",
       "35902  CC(C)CCCC(C)C1CCC2C3CC=C4CC(O)CCC4(C)C3CCC12C           Planochloris   \n",
       "35910  CC(C)CCCC(C)C1CCC2C3CC=C4CC(O)CCC4(C)C3CCC12C   Artemisia capillaris   \n",
       "35914  CC(C)CCCC(C)C1CCC2C3CC=C4CC(O)CCC4(C)C3CCC12C   Chloranthus spicatus   \n",
       "35916  CC(C)CCCC(C)C1CCC2C3CC=C4CC(O)CCC4(C)C3CCC12C  Callicarpa longissima   \n",
       "35928  CC(C)CCCC(C)C1CCC2C3CC=C4CC(O)CCC4(C)C3CCC12C   Athamanta macedonica   \n",
       "\n",
       "            model      prob  \n",
       "24     both_known  0.990181  \n",
       "26     both_known  0.992671  \n",
       "59     both_known  0.998003  \n",
       "63     both_known  0.992683  \n",
       "76     both_known  0.990674  \n",
       "...           ...       ...  \n",
       "35902  both_known  0.997892  \n",
       "35910  both_known  0.996888  \n",
       "35914  both_known  0.995479  \n",
       "35916  both_known  0.990889  \n",
       "35928  both_known  0.992199  \n",
       "\n",
       "[3742 rows x 4 columns]"
      ]
     },
     "execution_count": 17,
     "metadata": {},
     "output_type": "execute_result"
    }
   ],
   "source": [
    "out_4[out_4.prob>0.99]"
   ]
  },
  {
   "cell_type": "markdown",
   "id": "a317e13e-00e1-4dfd-bd16-9219ec6bc46d",
   "metadata": {
    "editable": true,
    "slideshow": {
     "slide_type": ""
    },
    "tags": []
   },
   "source": [
    "# Test 5: test with a more rare molecule : Erythromycin"
   ]
  },
  {
   "cell_type": "code",
   "execution_count": 18,
   "id": "fed16794-63c4-4f71-b584-d72ae1f9b6d4",
   "metadata": {},
   "outputs": [],
   "source": [
    "mol = 'CCC1OC(=O)C(C)C(OC2CC(C)(OC)C(O)C(C)O2)C(C)C(OC2OC(C)CC(N(C)C)C2O)C(C)(O)CC(C)C(=O)C(C)C(O)C1(C)O'\n",
    "data_5 = pd.DataFrame(\n",
    "    {'molecule': mol,\n",
    "     'species': list(set(species_features_dummy.index)-set(sku[sku.structure_smiles_2D==mol].organism_name))}\n",
    ")"
   ]
  },
  {
   "cell_type": "code",
   "execution_count": 19,
   "id": "2972fb53-9f14-4175-994c-fa368f287568",
   "metadata": {
    "scrolled": true
   },
   "outputs": [
    {
     "name": "stdout",
     "output_type": "stream",
     "text": [
      "Converting Inchikeys to SMILES...\n",
      "Getting missing features...\n",
      "Converting species taxonomy as numeric...\n",
      "Converting molecules as numeric...\n",
      "Checking which model should be used for each row...\n",
      "Adding missing nodes to the graph...\n",
      "Converting NetworkX to Stellargraph...\n",
      "StellarDiGraph: Directed multigraph\n",
      " Nodes: 184194, Edges: 869484\n",
      "\n",
      " Node types:\n",
      "  molecule: [147747]\n",
      "    Features: float32 vector, length 155\n",
      "    Edge types: molecule-present_in->species\n",
      "  species: [36447]\n",
      "    Features: float32 vector, length 69\n",
      "    Edge types: species-has->molecule\n",
      "\n",
      " Edge types:\n",
      "    species-has->molecule: [434742]\n",
      "        Weights: all 1 (default)\n",
      "        Features: none\n",
      "    molecule-present_in->species: [434742]\n",
      "        Weights: all 1 (default)\n",
      "        Features: none\n",
      "Creating 'forward', 'backward' flow for KNOWN molecule AND species...\n",
      "Predict both : running molecule to species predictions...\n",
      "36/36 [==============================] - 5s 138ms/step\n",
      "36/36 [==============================] - 7s 181ms/step\n",
      "36/36 [==============================] - 9s 236ms/step\n",
      "36/36 [==============================] - 7s 184ms/step\n",
      "36/36 [==============================] - 6s 172ms/step\n",
      "36/36 [==============================] - 6s 176ms/step\n",
      "36/36 [==============================] - 9s 243ms/step\n",
      "Predict both : running species to molecules prediction...\n",
      "36/36 [==============================] - 5s 137ms/step\n",
      "36/36 [==============================] - 7s 179ms/step\n",
      "36/36 [==============================] - 5s 131ms/step\n",
      "36/36 [==============================] - 6s 153ms/step\n",
      "36/36 [==============================] - 5s 126ms/step\n",
      "36/36 [==============================] - 5s 137ms/step\n",
      "36/36 [==============================] - 8s 219ms/step\n"
     ]
    }
   ],
   "source": [
    "out_5 = predict(g_lotus,\n",
    "                model_m_to_s,\n",
    "                model_s_to_m,\n",
    "                data_5,\n",
    "                molecule_features_dummy,\n",
    "                rdkit,\n",
    "                species_features_dummy\n",
    "               )"
   ]
  },
  {
   "cell_type": "code",
   "execution_count": 20,
   "id": "9e1ba686-78cc-4a52-93f4-4ab5b7eba37b",
   "metadata": {},
   "outputs": [
    {
     "data": {
      "text/plain": [
       "[Text(0.5, 0, 'Probabilities'),\n",
       " Text(0, 0.5, 'Count'),\n",
       " Text(0.5, 1.0, 'Probability of erythromycin across all species.')]"
      ]
     },
     "execution_count": 20,
     "metadata": {},
     "output_type": "execute_result"
    },
    {
     "data": {
      "image/png": "[encoded data removed]",
      "text/plain": [
       "<Figure size 640x480 with 1 Axes>"
      ]
     },
     "metadata": {},
     "output_type": "display_data"
    }
   ],
   "source": [
    "ax_5 = sns.histplot(data=out_5, x=out_5.prob, bins=150,)\n",
    "ax_5.set(xlabel=\"Probabilities\",\n",
    "        ylabel=\"Count\",\n",
    "        title=\"Probability of erythromycin across all species.\")"
   ]
  },
  {
   "cell_type": "code",
   "execution_count": 21,
   "id": "51025381-012f-4de4-bc91-84682a825583",
   "metadata": {
    "editable": true,
    "scrolled": true,
    "slideshow": {
     "slide_type": ""
    },
    "tags": []
   },
   "outputs": [
    {
     "data": {
      "text/html": [
       "<div>\n",
       "<style scoped>\n",
       "    .dataframe tbody tr th:only-of-type {\n",
       "        vertical-align: middle;\n",
       "    }\n",
       "\n",
       "    .dataframe tbody tr th {\n",
       "        vertical-align: top;\n",
       "    }\n",
       "\n",
       "    .dataframe thead th {\n",
       "        text-align: right;\n",
       "    }\n",
       "</style>\n",
       "<table border=\"1\" class=\"dataframe\">\n",
       "  <thead>\n",
       "    <tr style=\"text-align: right;\">\n",
       "      <th></th>\n",
       "      <th>molecule</th>\n",
       "      <th>species</th>\n",
       "      <th>model</th>\n",
       "      <th>prob</th>\n",
       "    </tr>\n",
       "  </thead>\n",
       "  <tbody>\n",
       "    <tr>\n",
       "      <th>313</th>\n",
       "      <td>CCC1OC(=O)C(C)C(OC2CC(C)(OC)C(O)C(C)O2)C(C)C(O...</td>\n",
       "      <td>Streptomyces platensis</td>\n",
       "      <td>both_known</td>\n",
       "      <td>0.984159</td>\n",
       "    </tr>\n",
       "    <tr>\n",
       "      <th>361</th>\n",
       "      <td>CCC1OC(=O)C(C)C(OC2CC(C)(OC)C(O)C(C)O2)C(C)C(O...</td>\n",
       "      <td>Micromonospora echinospora</td>\n",
       "      <td>both_known</td>\n",
       "      <td>0.981240</td>\n",
       "    </tr>\n",
       "    <tr>\n",
       "      <th>703</th>\n",
       "      <td>CCC1OC(=O)C(C)C(OC2CC(C)(OC)C(O)C(C)O2)C(C)C(O...</td>\n",
       "      <td>Streptomyces melanosporofaciens</td>\n",
       "      <td>both_known</td>\n",
       "      <td>0.973144</td>\n",
       "    </tr>\n",
       "    <tr>\n",
       "      <th>711</th>\n",
       "      <td>CCC1OC(=O)C(C)C(OC2CC(C)(OC)C(O)C(C)O2)C(C)C(O...</td>\n",
       "      <td>Nocardia transvalensis</td>\n",
       "      <td>both_known</td>\n",
       "      <td>0.966032</td>\n",
       "    </tr>\n",
       "    <tr>\n",
       "      <th>1861</th>\n",
       "      <td>CCC1OC(=O)C(C)C(OC2CC(C)(OC)C(O)C(C)O2)C(C)C(O...</td>\n",
       "      <td>Streptomyces baarnensis</td>\n",
       "      <td>both_known</td>\n",
       "      <td>0.954072</td>\n",
       "    </tr>\n",
       "    <tr>\n",
       "      <th>...</th>\n",
       "      <td>...</td>\n",
       "      <td>...</td>\n",
       "      <td>...</td>\n",
       "      <td>...</td>\n",
       "    </tr>\n",
       "    <tr>\n",
       "      <th>35778</th>\n",
       "      <td>CCC1OC(=O)C(C)C(OC2CC(C)(OC)C(O)C(C)O2)C(C)C(O...</td>\n",
       "      <td>Saccharopolyspora</td>\n",
       "      <td>both_known</td>\n",
       "      <td>0.985229</td>\n",
       "    </tr>\n",
       "    <tr>\n",
       "      <th>36090</th>\n",
       "      <td>CCC1OC(=O)C(C)C(OC2CC(C)(OC)C(O)C(C)O2)C(C)C(O...</td>\n",
       "      <td>Streptomyces pratensis</td>\n",
       "      <td>both_known</td>\n",
       "      <td>0.951879</td>\n",
       "    </tr>\n",
       "    <tr>\n",
       "      <th>36204</th>\n",
       "      <td>CCC1OC(=O)C(C)C(OC2CC(C)(OC)C(O)C(C)O2)C(C)C(O...</td>\n",
       "      <td>Streptomyces wadayamensis</td>\n",
       "      <td>both_known</td>\n",
       "      <td>0.962684</td>\n",
       "    </tr>\n",
       "    <tr>\n",
       "      <th>36326</th>\n",
       "      <td>CCC1OC(=O)C(C)C(OC2CC(C)(OC)C(O)C(C)O2)C(C)C(O...</td>\n",
       "      <td>Streptomyces arenae</td>\n",
       "      <td>both_known</td>\n",
       "      <td>0.978843</td>\n",
       "    </tr>\n",
       "    <tr>\n",
       "      <th>36431</th>\n",
       "      <td>CCC1OC(=O)C(C)C(OC2CC(C)(OC)C(O)C(C)O2)C(C)C(O...</td>\n",
       "      <td>Streptomyces varsoviensis</td>\n",
       "      <td>both_known</td>\n",
       "      <td>0.989941</td>\n",
       "    </tr>\n",
       "  </tbody>\n",
       "</table>\n",
       "<p>200 rows × 4 columns</p>\n",
       "</div>"
      ],
      "text/plain": [
       "                                                molecule  \\\n",
       "313    CCC1OC(=O)C(C)C(OC2CC(C)(OC)C(O)C(C)O2)C(C)C(O...   \n",
       "361    CCC1OC(=O)C(C)C(OC2CC(C)(OC)C(O)C(C)O2)C(C)C(O...   \n",
       "703    CCC1OC(=O)C(C)C(OC2CC(C)(OC)C(O)C(C)O2)C(C)C(O...   \n",
       "711    CCC1OC(=O)C(C)C(OC2CC(C)(OC)C(O)C(C)O2)C(C)C(O...   \n",
       "1861   CCC1OC(=O)C(C)C(OC2CC(C)(OC)C(O)C(C)O2)C(C)C(O...   \n",
       "...                                                  ...   \n",
       "35778  CCC1OC(=O)C(C)C(OC2CC(C)(OC)C(O)C(C)O2)C(C)C(O...   \n",
       "36090  CCC1OC(=O)C(C)C(OC2CC(C)(OC)C(O)C(C)O2)C(C)C(O...   \n",
       "36204  CCC1OC(=O)C(C)C(OC2CC(C)(OC)C(O)C(C)O2)C(C)C(O...   \n",
       "36326  CCC1OC(=O)C(C)C(OC2CC(C)(OC)C(O)C(C)O2)C(C)C(O...   \n",
       "36431  CCC1OC(=O)C(C)C(OC2CC(C)(OC)C(O)C(C)O2)C(C)C(O...   \n",
       "\n",
       "                               species       model      prob  \n",
       "313             Streptomyces platensis  both_known  0.984159  \n",
       "361         Micromonospora echinospora  both_known  0.981240  \n",
       "703    Streptomyces melanosporofaciens  both_known  0.973144  \n",
       "711             Nocardia transvalensis  both_known  0.966032  \n",
       "1861           Streptomyces baarnensis  both_known  0.954072  \n",
       "...                                ...         ...       ...  \n",
       "35778                Saccharopolyspora  both_known  0.985229  \n",
       "36090           Streptomyces pratensis  both_known  0.951879  \n",
       "36204        Streptomyces wadayamensis  both_known  0.962684  \n",
       "36326              Streptomyces arenae  both_known  0.978843  \n",
       "36431        Streptomyces varsoviensis  both_known  0.989941  \n",
       "\n",
       "[200 rows x 4 columns]"
      ]
     },
     "execution_count": 21,
     "metadata": {},
     "output_type": "execute_result"
    }
   ],
   "source": [
    "out_5[out_5.prob>0.95]"
   ]
  },
  {
   "cell_type": "code",
   "execution_count": 42,
   "id": "8565b650-adc4-4889-b1b1-eacea76fc159",
   "metadata": {},
   "outputs": [],
   "source": [
    "out_5_latex = out_5[out_5.prob>0.989].copy()\n",
    "out_5_latex['molecule'] = \"Erythromycin\"\n",
    "out_5_latex.drop(columns='model', inplace=True)\n",
    "out_5_latex.rename(columns={\n",
    "    \"molecule\": \"Molecule\",\n",
    "    \"species\": \"Species\",\n",
    "    \"prob\": \"Probability\"\n",
    "}, inplace=True)"
   ]
  },
  {
   "cell_type": "code",
   "execution_count": 43,
   "id": "212c51c9-0316-4ec1-89c0-8b37828887dc",
   "metadata": {},
   "outputs": [],
   "source": [
    "out_5_latex = out_5_latex.iloc[:, 1:]\n",
    "out_5_latex = out_5_latex.sort_values(by='Probability', ascending=False)\n",
    "out_5_latex = out_5_latex.iloc[:10, :]"
   ]
  },
  {
   "cell_type": "code",
   "execution_count": 45,
   "id": "815f7bdb-7493-4e56-8769-37f4e13b8bfd",
   "metadata": {},
   "outputs": [
    {
     "name": "stdout",
     "output_type": "stream",
     "text": [
      "\\begin{tabular}{lr}\n",
      "\\toprule\n",
      "Species & Probability \\\\\n",
      "\\midrule\n",
      "Streptomyces diastaticus & 0.9944 \\\\\n",
      "Streptomyces drozdowiczii & 0.9939 \\\\\n",
      "Streptomyces antibioticus & 0.9928 \\\\\n",
      "Micromonospora & 0.9927 \\\\\n",
      "Streptomyces achromogenes & 0.9924 \\\\\n",
      "Streptomyces griseus & 0.9919 \\\\\n",
      "Streptomyces griseosporeus & 0.9912 \\\\\n",
      "Streptomyces albogriseolus & 0.9906 \\\\\n",
      "Streptomyces varsoviensis & 0.9899 \\\\\n",
      "Streptomyces ansochromogenes & 0.9898 \\\\\n",
      "\\bottomrule\n",
      "\\end{tabular}\n",
      "\n"
     ]
    }
   ],
   "source": [
    "print(out_5_latex.to_latex(\n",
    "    index=False,\n",
    "    float_format=\"{:.4f}\".format,\n",
    ")\n",
    ")"
   ]
  },
  {
   "cell_type": "markdown",
   "id": "20986835-1825-4734-bb0f-b18600f6ce58",
   "metadata": {},
   "source": [
    "# Test adding just one edge to an unkown molecule to see the difference"
   ]
  },
  {
   "cell_type": "code",
   "execution_count": 24,
   "id": "5f1c4618-6a75-4e5b-aad9-2a7737e98739",
   "metadata": {},
   "outputs": [],
   "source": [
    "mol = 'CC(C)CCCC(C)C1CCC2C1(CCC3C2CC=C4C3(CCC(C4)O)C)C'\n",
    "data_6 = pd.DataFrame(\n",
    "    {'molecule': mol,\n",
    "     'species': list(set(species_features_dummy.index)-set(sku[sku.structure_smiles_2D==mol].organism_name))})"
   ]
  },
  {
   "cell_type": "code",
   "execution_count": 25,
   "id": "3a4b2131-1b2e-4075-9911-1d384304a0e3",
   "metadata": {},
   "outputs": [],
   "source": [
    "g_lotus.add_node('CC(C)CCCC(C)C1CCC2C1(CCC3C2CC=C4C3(CCC(C4)O)C)C', label='molecule')\n",
    "g_lotus.add_edge('CC(C)CCCC(C)C1CCC2C1(CCC3C2CC=C4C3(CCC(C4)O)C)C', 'Mus musculus', label='present_in')\n",
    "g_lotus.add_edge('Mus musculus','CC(C)CCCC(C)C1CCC2C1(CCC3C2CC=C4C3(CCC(C4)O)C)C', label='has')\n",
    "g_lotus.add_edge('CC(C)CCCC(C)C1CCC2C1(CCC3C2CC=C4C3(CCC(C4)O)C)C', 'Dicranum japonicum', label='present_in')\n",
    "g_lotus.add_edge( 'Dicranum japonicum', 'CC(C)CCCC(C)C1CCC2C1(CCC3C2CC=C4C3(CCC(C4)O)C)C', label='has')\n",
    "g_lotus.add_edge('CC(C)CCCC(C)C1CCC2C1(CCC3C2CC=C4C3(CCC(C4)O)C)C', 'Streptomyces atratus', label='present_in')\n",
    "g_lotus.add_edge('Streptomyces atratus','CC(C)CCCC(C)C1CCC2C1(CCC3C2CC=C4C3(CCC(C4)O)C)C', label='has')\n",
    "g_lotus.add_edge('CC(C)CCCC(C)C1CCC2C1(CCC3C2CC=C4C3(CCC(C4)O)C)C','Campylopus richardii', label='present_in')\n",
    "g_lotus.add_edge('Campylopus richardii','CC(C)CCCC(C)C1CCC2C1(CCC3C2CC=C4C3(CCC(C4)O)C)C', label='has')\n",
    "g_lotus.add_edge('CC(C)CCCC(C)C1CCC2C1(CCC3C2CC=C4C3(CCC(C4)O)C)C','Suaeda aegyptiaca', label='present_in')\n",
    "g_lotus.add_edge('Suaeda aegyptiaca','CC(C)CCCC(C)C1CCC2C1(CCC3C2CC=C4C3(CCC(C4)O)C)C', label='has')"
   ]
  },
  {
   "cell_type": "code",
   "execution_count": 26,
   "id": "204e7281-6eaa-4710-8864-a8c76cbe1c99",
   "metadata": {},
   "outputs": [],
   "source": [
    "from utils.molecules import smiles_to_classyfire, smiles_to_fingerprint"
   ]
  },
  {
   "cell_type": "code",
   "execution_count": 27,
   "id": "3567ed56-4ef1-44f3-8652-0084bc5321eb",
   "metadata": {},
   "outputs": [],
   "source": [
    "chol_classy = smiles_to_classyfire(['CC(C)CCCC(C)C1CCC2C1(CCC3C2CC=C4C3(CCC(C4)O)C)C'])"
   ]
  },
  {
   "cell_type": "code",
   "execution_count": 28,
   "id": "926e8f75-9791-4d46-b662-f881c0bcb45e",
   "metadata": {},
   "outputs": [],
   "source": [
    "chol_fp = smiles_to_fingerprint(['CC(C)CCCC(C)C1CCC2C1(CCC3C2CC=C4C3(CCC(C4)O)C)C'])\n",
    "chol_fp.columns  = chol_fp.columns.astype(str)"
   ]
  },
  {
   "cell_type": "code",
   "execution_count": 29,
   "id": "7b1890ec-ad59-40fb-bf3e-a1ae96e3c4d0",
   "metadata": {},
   "outputs": [
    {
     "name": "stdout",
     "output_type": "stream",
     "text": [
      "Converting Inchikeys to SMILES...\n",
      "Getting missing features...\n",
      "Converting species taxonomy as numeric...\n",
      "Converting molecules as numeric...\n",
      "Checking which model should be used for each row...\n",
      "Adding missing nodes to the graph...\n",
      "Converting NetworkX to Stellargraph...\n",
      "StellarDiGraph: Directed multigraph\n",
      " Nodes: 184195, Edges: 869494\n",
      "\n",
      " Node types:\n",
      "  molecule: [147748]\n",
      "    Features: float32 vector, length 155\n",
      "    Edge types: molecule-present_in->species\n",
      "  species: [36447]\n",
      "    Features: float32 vector, length 69\n",
      "    Edge types: species-has->molecule\n",
      "\n",
      " Edge types:\n",
      "    species-has->molecule: [434747]\n",
      "        Weights: all 1 (default)\n",
      "        Features: none\n",
      "    molecule-present_in->species: [434747]\n",
      "        Weights: all 1 (default)\n",
      "        Features: none\n",
      "Creating 'forward', 'backward' flow for KNOWN molecule AND species...\n",
      "Predict both : running molecule to species predictions...\n",
      "36/36 [==============================] - 5s 124ms/step\n",
      "36/36 [==============================] - 7s 183ms/step\n",
      "36/36 [==============================] - 5s 133ms/step\n",
      "36/36 [==============================] - 5s 141ms/step\n",
      "36/36 [==============================] - 6s 161ms/step\n",
      "36/36 [==============================] - 5s 124ms/step\n",
      "36/36 [==============================] - 5s 128ms/step\n",
      "Predict both : running species to molecules prediction...\n",
      "36/36 [==============================] - 5s 128ms/step\n",
      "36/36 [==============================] - 5s 128ms/step\n",
      "36/36 [==============================] - 6s 170ms/step\n",
      "36/36 [==============================] - 5s 132ms/step\n",
      "36/36 [==============================] - 6s 159ms/step\n",
      "36/36 [==============================] - 5s 130ms/step\n",
      "36/36 [==============================] - 5s 128ms/step\n"
     ]
    }
   ],
   "source": [
    "out_6 = predict(g_lotus,\n",
    "                model_m_to_s,\n",
    "                model_s_to_m,\n",
    "                data_6,\n",
    "                pd.concat([molecule_features_dummy, chol_classy]),\n",
    "                pd.concat([rdkit, chol_fp]),\n",
    "                species_features_dummy\n",
    "               )"
   ]
  },
  {
   "cell_type": "code",
   "execution_count": 30,
   "id": "22b496f3-7c1b-4aeb-8f5f-529f019b3bb1",
   "metadata": {},
   "outputs": [
    {
     "data": {
      "text/plain": [
       "(array([  7.,  13.,  33.,  31.,  34.,  21.,  24.,  19.,  26.,  23.,  22.,\n",
       "         27.,  21.,  24.,  19.,  21.,  30.,  36.,  38.,  45.,  46.,  46.,\n",
       "         49.,  39.,  60.,  54.,  50.,  51.,  54.,  61.,  65.,  63.,  75.,\n",
       "         90.,  78.,  66.,  68.,  73.,  77.,  77.,  59., 105.,  80.,  80.,\n",
       "         92.,  84.,  94.,  94.,  94.,  96.,  93.,  95.,  81.,  97.,  93.,\n",
       "         98., 115., 111., 105., 104., 138., 114., 115., 115.,  97., 116.,\n",
       "        105.,  94., 123., 113., 121., 126., 128., 128., 140., 142., 134.,\n",
       "        140., 117., 130., 127., 139., 115., 137., 142., 130., 145., 132.,\n",
       "        119., 128., 145., 148., 142., 135., 149., 140., 135., 143., 149.,\n",
       "        157., 150., 146., 156., 160., 139., 153., 155., 163., 153., 157.,\n",
       "        161., 156., 186., 162., 170., 187., 192., 188., 201., 197., 158.,\n",
       "        193., 203., 183., 208., 213., 192., 197., 212., 208., 184., 225.,\n",
       "        203., 233., 239., 229., 233., 255., 226., 295., 251., 216., 257.,\n",
       "        266., 281., 303., 287., 272., 280., 296., 311., 314., 283., 307.,\n",
       "        325., 305., 297., 321., 296., 335., 298., 316., 316., 307., 306.,\n",
       "        301., 344., 360., 344., 376., 382., 350., 362., 324., 393., 364.,\n",
       "        385., 365., 389., 395., 399., 401., 391., 381., 385., 395., 368.,\n",
       "        361., 311., 356., 359., 334., 358., 387., 380., 333., 361., 370.,\n",
       "        336., 261.]),\n",
       " array([0.00803324, 0.01299293, 0.01795263, 0.02291233, 0.02787203,\n",
       "        0.03283172, 0.03779142, 0.04275112, 0.04771082, 0.05267052,\n",
       "        0.05763021, 0.06258991, 0.06754961, 0.07250931, 0.077469  ,\n",
       "        0.0824287 , 0.0873884 , 0.0923481 , 0.09730779, 0.10226749,\n",
       "        0.10722719, 0.11218689, 0.11714658, 0.12210628, 0.12706598,\n",
       "        0.13202568, 0.13698537, 0.14194507, 0.14690477, 0.15186447,\n",
       "        0.15682417, 0.16178386, 0.16674356, 0.17170326, 0.17666296,\n",
       "        0.18162265, 0.18658235, 0.19154205, 0.19650175, 0.20146144,\n",
       "        0.20642114, 0.21138084, 0.21634054, 0.22130023, 0.22625993,\n",
       "        0.23121963, 0.23617933, 0.24113902, 0.24609872, 0.25105842,\n",
       "        0.25601812, 0.26097782, 0.26593751, 0.27089721, 0.27585691,\n",
       "        0.28081661, 0.2857763 , 0.290736  , 0.2956957 , 0.3006554 ,\n",
       "        0.30561509, 0.31057479, 0.31553449, 0.32049419, 0.32545388,\n",
       "        0.33041358, 0.33537328, 0.34033298, 0.34529267, 0.35025237,\n",
       "        0.35521207, 0.36017177, 0.36513147, 0.37009116, 0.37505086,\n",
       "        0.38001056, 0.38497026, 0.38992995, 0.39488965, 0.39984935,\n",
       "        0.40480905, 0.40976874, 0.41472844, 0.41968814, 0.42464784,\n",
       "        0.42960753, 0.43456723, 0.43952693, 0.44448663, 0.44944632,\n",
       "        0.45440602, 0.45936572, 0.46432542, 0.46928512, 0.47424481,\n",
       "        0.47920451, 0.48416421, 0.48912391, 0.4940836 , 0.4990433 ,\n",
       "        0.504003  , 0.5089627 , 0.51392239, 0.51888209, 0.52384179,\n",
       "        0.52880149, 0.53376118, 0.53872088, 0.54368058, 0.54864028,\n",
       "        0.55359997, 0.55855967, 0.56351937, 0.56847907, 0.57343877,\n",
       "        0.57839846, 0.58335816, 0.58831786, 0.59327756, 0.59823725,\n",
       "        0.60319695, 0.60815665, 0.61311635, 0.61807604, 0.62303574,\n",
       "        0.62799544, 0.63295514, 0.63791483, 0.64287453, 0.64783423,\n",
       "        0.65279393, 0.65775362, 0.66271332, 0.66767302, 0.67263272,\n",
       "        0.67759242, 0.68255211, 0.68751181, 0.69247151, 0.69743121,\n",
       "        0.7023909 , 0.7073506 , 0.7123103 , 0.71727   , 0.72222969,\n",
       "        0.72718939, 0.73214909, 0.73710879, 0.74206848, 0.74702818,\n",
       "        0.75198788, 0.75694758, 0.76190727, 0.76686697, 0.77182667,\n",
       "        0.77678637, 0.78174607, 0.78670576, 0.79166546, 0.79662516,\n",
       "        0.80158486, 0.80654455, 0.81150425, 0.81646395, 0.82142365,\n",
       "        0.82638334, 0.83134304, 0.83630274, 0.84126244, 0.84622213,\n",
       "        0.85118183, 0.85614153, 0.86110123, 0.86606092, 0.87102062,\n",
       "        0.87598032, 0.88094002, 0.88589972, 0.89085941, 0.89581911,\n",
       "        0.90077881, 0.90573851, 0.9106982 , 0.9156579 , 0.9206176 ,\n",
       "        0.9255773 , 0.93053699, 0.93549669, 0.94045639, 0.94541609,\n",
       "        0.95037578, 0.95533548, 0.96029518, 0.96525488, 0.97021457,\n",
       "        0.97517427, 0.98013397, 0.98509367, 0.99005337, 0.99501306,\n",
       "        0.99997276]),\n",
       " <BarContainer object of 200 artists>)"
      ]
     },
     "execution_count": 30,
     "metadata": {},
     "output_type": "execute_result"
    },
    {
     "data": {
      "image/png": "[encoded data removed]",
      "text/plain": [
       "<Figure size 640x480 with 1 Axes>"
      ]
     },
     "metadata": {},
     "output_type": "display_data"
    }
   ],
   "source": [
    "plt.hist(out_6.prob, bins=200)"
   ]
  },
  {
   "cell_type": "code",
   "execution_count": 31,
   "id": "32b400a2-c08d-4c29-96ab-cf91195c63b3",
   "metadata": {},
   "outputs": [
    {
     "data": {
      "text/html": [
       "<div>\n",
       "<style scoped>\n",
       "    .dataframe tbody tr th:only-of-type {\n",
       "        vertical-align: middle;\n",
       "    }\n",
       "\n",
       "    .dataframe tbody tr th {\n",
       "        vertical-align: top;\n",
       "    }\n",
       "\n",
       "    .dataframe thead th {\n",
       "        text-align: right;\n",
       "    }\n",
       "</style>\n",
       "<table border=\"1\" class=\"dataframe\">\n",
       "  <thead>\n",
       "    <tr style=\"text-align: right;\">\n",
       "      <th></th>\n",
       "      <th>molecule</th>\n",
       "      <th>species</th>\n",
       "      <th>model</th>\n",
       "      <th>prob</th>\n",
       "    </tr>\n",
       "  </thead>\n",
       "  <tbody>\n",
       "    <tr>\n",
       "      <th>87</th>\n",
       "      <td>CC(C)CCCC(C)C1CCC2C1(CCC3C2CC=C4C3(CCC(C4)O)C)C</td>\n",
       "      <td>Dioscorea convolvulacea</td>\n",
       "      <td>both_known</td>\n",
       "      <td>0.996300</td>\n",
       "    </tr>\n",
       "    <tr>\n",
       "      <th>160</th>\n",
       "      <td>CC(C)CCCC(C)C1CCC2C1(CCC3C2CC=C4C3(CCC(C4)O)C)C</td>\n",
       "      <td>Oleandra wallichii</td>\n",
       "      <td>both_known</td>\n",
       "      <td>0.990790</td>\n",
       "    </tr>\n",
       "    <tr>\n",
       "      <th>211</th>\n",
       "      <td>CC(C)CCCC(C)C1CCC2C1(CCC3C2CC=C4C3(CCC(C4)O)C)C</td>\n",
       "      <td>Pinus radiata</td>\n",
       "      <td>both_known</td>\n",
       "      <td>0.996408</td>\n",
       "    </tr>\n",
       "    <tr>\n",
       "      <th>307</th>\n",
       "      <td>CC(C)CCCC(C)C1CCC2C1(CCC3C2CC=C4C3(CCC(C4)O)C)C</td>\n",
       "      <td>Chattonella marina</td>\n",
       "      <td>both_known</td>\n",
       "      <td>0.998490</td>\n",
       "    </tr>\n",
       "    <tr>\n",
       "      <th>352</th>\n",
       "      <td>CC(C)CCCC(C)C1CCC2C1(CCC3C2CC=C4C3(CCC(C4)O)C)C</td>\n",
       "      <td>Cystoseira elegans</td>\n",
       "      <td>both_known</td>\n",
       "      <td>0.998257</td>\n",
       "    </tr>\n",
       "    <tr>\n",
       "      <th>...</th>\n",
       "      <td>...</td>\n",
       "      <td>...</td>\n",
       "      <td>...</td>\n",
       "      <td>...</td>\n",
       "    </tr>\n",
       "    <tr>\n",
       "      <th>36255</th>\n",
       "      <td>CC(C)CCCC(C)C1CCC2C1(CCC3C2CC=C4C3(CCC(C4)O)C)C</td>\n",
       "      <td>Trachyrhamphus serratus</td>\n",
       "      <td>both_known</td>\n",
       "      <td>0.992835</td>\n",
       "    </tr>\n",
       "    <tr>\n",
       "      <th>36287</th>\n",
       "      <td>CC(C)CCCC(C)C1CCC2C1(CCC3C2CC=C4C3(CCC(C4)O)C)C</td>\n",
       "      <td>Physarum flavicomum</td>\n",
       "      <td>both_known</td>\n",
       "      <td>0.997349</td>\n",
       "    </tr>\n",
       "    <tr>\n",
       "      <th>36373</th>\n",
       "      <td>CC(C)CCCC(C)C1CCC2C1(CCC3C2CC=C4C3(CCC(C4)O)C)C</td>\n",
       "      <td>Metasequoia glyptostroboides</td>\n",
       "      <td>both_known</td>\n",
       "      <td>0.994170</td>\n",
       "    </tr>\n",
       "    <tr>\n",
       "      <th>36383</th>\n",
       "      <td>CC(C)CCCC(C)C1CCC2C1(CCC3C2CC=C4C3(CCC(C4)O)C)C</td>\n",
       "      <td>Holotrichia diomphalia</td>\n",
       "      <td>both_known</td>\n",
       "      <td>0.997516</td>\n",
       "    </tr>\n",
       "    <tr>\n",
       "      <th>36419</th>\n",
       "      <td>CC(C)CCCC(C)C1CCC2C1(CCC3C2CC=C4C3(CCC(C4)O)C)C</td>\n",
       "      <td>Planochloris</td>\n",
       "      <td>both_known</td>\n",
       "      <td>0.996927</td>\n",
       "    </tr>\n",
       "  </tbody>\n",
       "</table>\n",
       "<p>601 rows × 4 columns</p>\n",
       "</div>"
      ],
      "text/plain": [
       "                                              molecule  \\\n",
       "87     CC(C)CCCC(C)C1CCC2C1(CCC3C2CC=C4C3(CCC(C4)O)C)C   \n",
       "160    CC(C)CCCC(C)C1CCC2C1(CCC3C2CC=C4C3(CCC(C4)O)C)C   \n",
       "211    CC(C)CCCC(C)C1CCC2C1(CCC3C2CC=C4C3(CCC(C4)O)C)C   \n",
       "307    CC(C)CCCC(C)C1CCC2C1(CCC3C2CC=C4C3(CCC(C4)O)C)C   \n",
       "352    CC(C)CCCC(C)C1CCC2C1(CCC3C2CC=C4C3(CCC(C4)O)C)C   \n",
       "...                                                ...   \n",
       "36255  CC(C)CCCC(C)C1CCC2C1(CCC3C2CC=C4C3(CCC(C4)O)C)C   \n",
       "36287  CC(C)CCCC(C)C1CCC2C1(CCC3C2CC=C4C3(CCC(C4)O)C)C   \n",
       "36373  CC(C)CCCC(C)C1CCC2C1(CCC3C2CC=C4C3(CCC(C4)O)C)C   \n",
       "36383  CC(C)CCCC(C)C1CCC2C1(CCC3C2CC=C4C3(CCC(C4)O)C)C   \n",
       "36419  CC(C)CCCC(C)C1CCC2C1(CCC3C2CC=C4C3(CCC(C4)O)C)C   \n",
       "\n",
       "                            species       model      prob  \n",
       "87          Dioscorea convolvulacea  both_known  0.996300  \n",
       "160              Oleandra wallichii  both_known  0.990790  \n",
       "211                   Pinus radiata  both_known  0.996408  \n",
       "307              Chattonella marina  both_known  0.998490  \n",
       "352              Cystoseira elegans  both_known  0.998257  \n",
       "...                             ...         ...       ...  \n",
       "36255       Trachyrhamphus serratus  both_known  0.992835  \n",
       "36287           Physarum flavicomum  both_known  0.997349  \n",
       "36373  Metasequoia glyptostroboides  both_known  0.994170  \n",
       "36383        Holotrichia diomphalia  both_known  0.997516  \n",
       "36419                  Planochloris  both_known  0.996927  \n",
       "\n",
       "[601 rows x 4 columns]"
      ]
     },
     "execution_count": 31,
     "metadata": {},
     "output_type": "execute_result"
    }
   ],
   "source": [
    "out_6[out_6.prob>0.99]"
   ]
  }
 ],
 "metadata": {
  "kernelspec": {
   "display_name": "Python 3 (ipykernel)",
   "language": "python",
   "name": "python3"
  },
  "language_info": {
   "codemirror_mode": {
    "name": "ipython",
    "version": 3
   },
   "file_extension": ".py",
   "mimetype": "text/x-python",
   "name": "python",
   "nbconvert_exporter": "python",
   "pygments_lexer": "ipython3",
   "version": "3.11.4"
  }
 },
 "nbformat": 4,
 "nbformat_minor": 5
}
