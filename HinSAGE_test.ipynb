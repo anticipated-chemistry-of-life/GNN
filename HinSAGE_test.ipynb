{
 "cells": [
  {
   "cell_type": "code",
   "execution_count": 1,
   "id": "3ab86b3d",
   "metadata": {
    "scrolled": true
   },
   "outputs": [
    {
     "name": "stderr",
     "output_type": "stream",
     "text": [
      "2023-06-30 13:39:09.740047: I tensorflow/core/platform/cpu_feature_guard.cc:193] This TensorFlow binary is optimized with oneAPI Deep Neural Network Library (oneDNN) to use the following CPU instructions in performance-critical operations:  SSE4.1 SSE4.2 AVX AVX2 FMA\n",
      "To enable them in other operations, rebuild TensorFlow with the appropriate compiler flags.\n",
      "2023-06-30 13:39:13.390199: I tensorflow/core/platform/cpu_feature_guard.cc:193] This TensorFlow binary is optimized with oneAPI Deep Neural Network Library (oneDNN) to use the following CPU instructions in performance-critical operations:  SSE4.1 SSE4.2 AVX AVX2 FMA\n",
      "To enable them in other operations, rebuild TensorFlow with the appropriate compiler flags.\n"
     ]
    }
   ],
   "source": [
    "import networkx as nx\n",
    "import itertools\n",
    "import pandas as pd\n",
    "import numpy as np\n",
    "from stellargraph import StellarGraph\n",
    "from rdkit.Chem import AllChem, DataStructs\n",
    "import json\n",
    "from sklearn import preprocessing, feature_extraction, model_selection\n",
    "from sklearn.metrics import mean_absolute_error, mean_squared_error\n",
    "from tensorflow import keras\n",
    "import tensorflow as tf\n",
    "\n",
    "import stellargraph as sg\n",
    "from stellargraph.data import EdgeSplitter\n",
    "from stellargraph.mapper import HinSAGELinkGenerator\n",
    "from stellargraph.layer import HinSAGE, link_regression, link_classification\n",
    "from tensorflow.keras import Model, optimizers, losses, metrics\n",
    "\n",
    "import multiprocessing\n",
    "from stellargraph import datasets\n",
    "from IPython.display import display, HTML\n",
    "import matplotlib.pyplot as plt\n",
    "from tensorflow.keras import mixed_precision\n",
    "mixed_precision.set_global_policy('float32')"
   ]
  },
  {
   "cell_type": "code",
   "execution_count": 2,
   "id": "9c8073a0",
   "metadata": {},
   "outputs": [],
   "source": [
    "g = nx.read_graphml(\"./graph/test_graph.gml\")\n",
    "species_features_dummy = pd.read_csv(\"./data/species_features.csv.gz\", index_col=0)\n",
    "#species_features_dummy = pd.read_csv(\"./data/species_BaseNEncoder.csv.gz\", index_col=0)\n",
    "#species_features_dummy = pd.read_csv(\"./data/species_Multi_dim_scale.csv.gz\", index_col=0)\n",
    "molecule_features_dummy = pd.read_csv(\"./data/molecule_features.csv.gz\", index_col=0).astype(\"int8\")\n",
    "df_agg = pd.read_csv(\"./data/lotus_agg_test.csv.gz\", index_col=0)\n",
    "#molecule_features_dummy = pd.read_csv(\"./data/molecule_features_dummy.csv.gz\", index_col=0).astype('int8')"
   ]
  },
  {
   "cell_type": "code",
   "execution_count": 3,
   "id": "e8b35e23",
   "metadata": {},
   "outputs": [],
   "source": [
    "species_feat = species_features_dummy[species_features_dummy.index.isin(df_agg.organism_name)]\n",
    "molecule_feat = molecule_features_dummy[molecule_features_dummy.index.isin(df_agg.structure_smiles_2D)]"
   ]
  },
  {
   "cell_type": "code",
   "execution_count": 4,
   "id": "4e68fe2f",
   "metadata": {},
   "outputs": [],
   "source": [
    "g_train = nx.read_graphml(\"./graph/train_graph.gml\")"
   ]
  },
  {
   "cell_type": "code",
   "execution_count": 5,
   "id": "007a1ea9",
   "metadata": {},
   "outputs": [],
   "source": [
    "g = nx.create_empty_copy(g)\n",
    "g_merged = nx.compose(g_train, g)"
   ]
  },
  {
   "cell_type": "code",
   "execution_count": 6,
   "id": "f424c8fb",
   "metadata": {},
   "outputs": [],
   "source": [
    "#g = nx.create_empty_copy(g)\n",
    "G = StellarGraph.from_networkx(g_merged,\n",
    "                               node_features={'species': species_features_dummy,\n",
    "                                              'molecule':molecule_features_dummy})"
   ]
  },
  {
   "cell_type": "code",
   "execution_count": 7,
   "id": "a27b99f5",
   "metadata": {},
   "outputs": [
    {
     "name": "stdout",
     "output_type": "stream",
     "text": [
      "StellarDiGraph: Directed multigraph\n",
      " Nodes: 184990, Edges: 700916\n",
      "\n",
      " Node types:\n",
      "  molecule: [148190]\n",
      "    Features: float32 vector, length 27\n",
      "    Edge types: molecule-present_in->species\n",
      "  species: [36800]\n",
      "    Features: float32 vector, length 80\n",
      "    Edge types: species-has->molecule\n",
      "\n",
      " Edge types:\n",
      "    species-has->molecule: [350458]\n",
      "        Weights: all 1 (default)\n",
      "        Features: none\n",
      "    molecule-present_in->species: [350458]\n",
      "        Weights: all 1 (default)\n",
      "        Features: none\n"
     ]
    }
   ],
   "source": [
    "print(G.info())\n",
    "G.check_graph_for_ml()"
   ]
  },
  {
   "cell_type": "code",
   "execution_count": 8,
   "id": "51115395",
   "metadata": {},
   "outputs": [],
   "source": [
    "model = tf.keras.models.load_model(\"./model/batch_128_layer_1024\", compile=True)"
   ]
  },
  {
   "cell_type": "code",
   "execution_count": 9,
   "id": "6018a4d5",
   "metadata": {},
   "outputs": [],
   "source": [
    "test = df_agg[['structure_smiles_2D', 'organism_name']].to_numpy()"
   ]
  },
  {
   "cell_type": "code",
   "execution_count": 10,
   "id": "96c7c5c7",
   "metadata": {},
   "outputs": [],
   "source": [
    "#test = test[['structure_smiles_2D', 'organism_name']].to_numpy()"
   ]
  },
  {
   "cell_type": "code",
   "execution_count": 11,
   "id": "1bc1c129",
   "metadata": {},
   "outputs": [],
   "source": [
    "test_flow = HinSAGELinkGenerator(G,\n",
    "                                 batch_size=128,\n",
    "                                num_samples=[3,1],\n",
    "                                head_node_types=[\"molecule\", \"species\"]).flow(test, np.ones(len(test)).reshape(-1, 1))"
   ]
  },
  {
   "cell_type": "code",
   "execution_count": 12,
   "id": "209c7201",
   "metadata": {},
   "outputs": [],
   "source": [
    "def predict(model, flow, iterations=10):\n",
    "    predictions = []\n",
    "    for _ in range(iterations):\n",
    "        predictions.append(model.predict(flow, workers=-1).flatten())\n",
    "\n",
    "    return np.mean(predictions, axis=0)"
   ]
  },
  {
   "cell_type": "code",
   "execution_count": 13,
   "id": "12d2251f",
   "metadata": {},
   "outputs": [
    {
     "name": "stdout",
     "output_type": "stream",
     "text": [
      "685/685 [==============================] - 13s 19ms/step\n",
      "685/685 [==============================] - 12s 17ms/step\n",
      "685/685 [==============================] - 12s 17ms/step\n",
      "685/685 [==============================] - 13s 18ms/step\n",
      "685/685 [==============================] - 12s 17ms/step\n",
      "685/685 [==============================] - 12s 18ms/step\n",
      "685/685 [==============================] - 12s 17ms/step\n",
      "685/685 [==============================] - 12s 18ms/step\n",
      "685/685 [==============================] - 13s 18ms/step\n",
      "685/685 [==============================] - 12s 18ms/step\n"
     ]
    }
   ],
   "source": [
    "result = predict(model, test_flow)"
   ]
  },
  {
   "cell_type": "code",
   "execution_count": 14,
   "id": "4224f503",
   "metadata": {
    "scrolled": true
   },
   "outputs": [
    {
     "data": {
      "text/plain": [
       "0.5736640262971672"
      ]
     },
     "execution_count": 14,
     "metadata": {},
     "output_type": "execute_result"
    }
   ],
   "source": [
    "sum(result>0.9)/len(result)"
   ]
  },
  {
   "cell_type": "code",
   "execution_count": 15,
   "id": "8b5534f9",
   "metadata": {
    "scrolled": true
   },
   "outputs": [
    {
     "data": {
      "text/plain": [
       "(array([ 1487.,   934.,  1003.,  1397.,  2019.,  3148.,  4808.,  7951.,\n",
       "        14575., 50292.]),\n",
       " array([1.45928234e-05, 9.99981984e-02, 1.99981794e-01, 2.99965411e-01,\n",
       "        3.99949014e-01, 4.99932617e-01, 5.99916220e-01, 6.99899793e-01,\n",
       "        7.99883425e-01, 8.99866998e-01, 9.99850631e-01]),\n",
       " <BarContainer object of 10 artists>)"
      ]
     },
     "execution_count": 15,
     "metadata": {},
     "output_type": "execute_result"
    },
    {
     "data": {
      "image/png": "[encoded data removed]",
      "text/plain": [
       "<Figure size 640x480 with 1 Axes>"
      ]
     },
     "metadata": {},
     "output_type": "display_data"
    }
   ],
   "source": [
    "plt.hist(result)"
   ]
  },
  {
   "cell_type": "code",
   "execution_count": 16,
   "id": "10e263a6",
   "metadata": {},
   "outputs": [
    {
     "data": {
      "text/plain": [
       "0.9219074577122378"
      ]
     },
     "execution_count": 16,
     "metadata": {},
     "output_type": "execute_result"
    }
   ],
   "source": [
    "sum(result>0.5)/len(result)"
   ]
  },
  {
   "cell_type": "code",
   "execution_count": 17,
   "id": "d290fa03",
   "metadata": {
    "scrolled": true
   },
   "outputs": [
    {
     "name": "stdout",
     "output_type": "stream",
     "text": [
      "685/685 [==============================] - 13s 19ms/step\n"
     ]
    }
   ],
   "source": [
    "res_single_run = model.predict(test_flow).flatten()"
   ]
  },
  {
   "cell_type": "code",
   "execution_count": 18,
   "id": "14bd608e",
   "metadata": {},
   "outputs": [
    {
     "data": {
      "text/plain": [
       "0.8919236651676673"
      ]
     },
     "execution_count": 18,
     "metadata": {},
     "output_type": "execute_result"
    }
   ],
   "source": [
    "sum(res_single_run>0.5)/len(res_single_run)"
   ]
  },
  {
   "cell_type": "code",
   "execution_count": 19,
   "id": "9e193c38",
   "metadata": {},
   "outputs": [
    {
     "data": {
      "text/plain": [
       "(array([ 2817.,  1577.,  1505.,  1615.,  1955.,  2546.,  3405.,  5244.,\n",
       "        10070., 56880.]),\n",
       " array([6.66787673e-06, 1.00002907e-01, 1.99999154e-01, 2.99995393e-01,\n",
       "        3.99991632e-01, 4.99987870e-01, 5.99984109e-01, 6.99980319e-01,\n",
       "        7.99976587e-01, 8.99972796e-01, 9.99969065e-01]),\n",
       " <BarContainer object of 10 artists>)"
      ]
     },
     "execution_count": 19,
     "metadata": {},
     "output_type": "execute_result"
    },
    {
     "data": {
      "image/png": "[encoded data removed]",
      "text/plain": [
       "<Figure size 640x480 with 1 Axes>"
      ]
     },
     "metadata": {},
     "output_type": "display_data"
    }
   ],
   "source": [
    "plt.hist(res_single_run)"
   ]
  },
  {
   "cell_type": "code",
   "execution_count": 20,
   "id": "d2ef3834",
   "metadata": {},
   "outputs": [],
   "source": [
    "try_test = np.array([['C=C(C)C1CCC2(C)CCC3(C)C(CCC4C5(C)CCC(O)C(C)(C)C5CCC43C)C12', 'Homo sapiens']])"
   ]
  },
  {
   "cell_type": "code",
   "execution_count": 21,
   "id": "c9846768",
   "metadata": {},
   "outputs": [],
   "source": [
    "test_flow = HinSAGELinkGenerator(G,\n",
    "                                 batch_size=256,\n",
    "                                num_samples=[2,1],\n",
    "                                head_node_types=[\"molecule\", \"species\"]).flow(try_test, np.ones(len(try_test)).reshape(-1, 1))"
   ]
  },
  {
   "cell_type": "code",
   "execution_count": 44,
   "id": "5e7ab96a",
   "metadata": {
    "scrolled": true
   },
   "outputs": [],
   "source": [
    "test_2 = pd.DataFrame(data={'structure_smiles_2D': df_agg.structure_smiles_2D.sample(n=10000).to_numpy(),\n",
    "                   'organism_name': df_agg.organism_name.sample(n=10000).to_numpy()}).to_numpy()"
   ]
  },
  {
   "cell_type": "code",
   "execution_count": 45,
   "id": "cc73ab69",
   "metadata": {},
   "outputs": [],
   "source": [
    "test_flow = HinSAGELinkGenerator(G,\n",
    "                                 batch_size=128,\n",
    "                                num_samples=[3,1],\n",
    "                                head_node_types=[\"molecule\", \"species\"]).flow(test_2, np.ones(len(test_2)).reshape(-1, 1))"
   ]
  },
  {
   "cell_type": "code",
   "execution_count": 46,
   "id": "94e9817b",
   "metadata": {},
   "outputs": [
    {
     "name": "stdout",
     "output_type": "stream",
     "text": [
      "79/79 [==============================] - 2s 20ms/step\n",
      "79/79 [==============================] - 1s 17ms/step\n",
      "79/79 [==============================] - 1s 18ms/step\n",
      "79/79 [==============================] - 1s 17ms/step\n",
      "79/79 [==============================] - 1s 17ms/step\n",
      "79/79 [==============================] - 2s 19ms/step\n",
      "79/79 [==============================] - 1s 17ms/step\n",
      "79/79 [==============================] - 1s 17ms/step\n",
      "79/79 [==============================] - 2s 28ms/step\n",
      "79/79 [==============================] - 1s 18ms/step\n"
     ]
    }
   ],
   "source": [
    "test_2_res = predict(model, test_flow)"
   ]
  },
  {
   "cell_type": "code",
   "execution_count": 47,
   "id": "25cbcb59",
   "metadata": {
    "scrolled": true
   },
   "outputs": [
    {
     "data": {
      "text/plain": [
       "(array([2283.,  757.,  656.,  679.,  667.,  711.,  838.,  890., 1024.,\n",
       "        1495.]),\n",
       " array([3.73862849e-06, 9.99746919e-02, 1.99945644e-01, 2.99916595e-01,\n",
       "        3.99887532e-01, 4.99858499e-01, 5.99829435e-01, 6.99800372e-01,\n",
       "        7.99771369e-01, 8.99742305e-01, 9.99713242e-01]),\n",
       " <BarContainer object of 10 artists>)"
      ]
     },
     "execution_count": 47,
     "metadata": {},
     "output_type": "execute_result"
    },
    {
     "data": {
      "image/png": "[encoded data removed]",
      "text/plain": [
       "<Figure size 640x480 with 1 Axes>"
      ]
     },
     "metadata": {},
     "output_type": "display_data"
    }
   ],
   "source": [
    "plt.hist(test_2_res)"
   ]
  },
  {
   "cell_type": "code",
   "execution_count": 48,
   "id": "8b0a982e",
   "metadata": {},
   "outputs": [
    {
     "data": {
      "text/plain": [
       "array([0.91605294, 0.9373144 , 0.99463254, ..., 0.9463377 , 0.94467485,\n",
       "       0.92771405], dtype=float32)"
      ]
     },
     "execution_count": 48,
     "metadata": {},
     "output_type": "execute_result"
    }
   ],
   "source": [
    "test_2_res[test_2_res>0.9]"
   ]
  },
  {
   "cell_type": "code",
   "execution_count": 52,
   "id": "e40aed4f",
   "metadata": {},
   "outputs": [],
   "source": [
    "final = pd.DataFrame(test_2[test_2_res>0.9])"
   ]
  },
  {
   "cell_type": "code",
   "execution_count": 53,
   "id": "d53eda1b",
   "metadata": {},
   "outputs": [],
   "source": [
    "final['prob'] = test_2_res[test_2_res>0.9]"
   ]
  },
  {
   "cell_type": "code",
   "execution_count": 54,
   "id": "bd74d460",
   "metadata": {
    "scrolled": true
   },
   "outputs": [
    {
     "data": {
      "text/html": [
       "<div>\n",
       "<style scoped>\n",
       "    .dataframe tbody tr th:only-of-type {\n",
       "        vertical-align: middle;\n",
       "    }\n",
       "\n",
       "    .dataframe tbody tr th {\n",
       "        vertical-align: top;\n",
       "    }\n",
       "\n",
       "    .dataframe thead th {\n",
       "        text-align: right;\n",
       "    }\n",
       "</style>\n",
       "<table border=\"1\" class=\"dataframe\">\n",
       "  <thead>\n",
       "    <tr style=\"text-align: right;\">\n",
       "      <th></th>\n",
       "      <th>0</th>\n",
       "      <th>1</th>\n",
       "      <th>prob</th>\n",
       "    </tr>\n",
       "  </thead>\n",
       "  <tbody>\n",
       "    <tr>\n",
       "      <th>0</th>\n",
       "      <td>CCCCCCCCCCO</td>\n",
       "      <td>Thuja plicata</td>\n",
       "      <td>0.916053</td>\n",
       "    </tr>\n",
       "    <tr>\n",
       "      <th>1</th>\n",
       "      <td>COCC(OC)C(OC)C(OC1OC(COC)C(OC2OC(C(=O)OC)C(OC3...</td>\n",
       "      <td>Cystophora congesta</td>\n",
       "      <td>0.937314</td>\n",
       "    </tr>\n",
       "    <tr>\n",
       "      <th>2</th>\n",
       "      <td>CC(C)=CCc1cc(CC2OC(=O)C(O)=C2c2ccc(O)cc2)ccc1O</td>\n",
       "      <td>Streptomyces</td>\n",
       "      <td>0.994633</td>\n",
       "    </tr>\n",
       "    <tr>\n",
       "      <th>3</th>\n",
       "      <td>COc1cc(C2OCC3(O)C(c4ccc(O)c(OC)c4)OCC23)ccc1O</td>\n",
       "      <td>Piper wightii</td>\n",
       "      <td>0.904672</td>\n",
       "    </tr>\n",
       "    <tr>\n",
       "      <th>4</th>\n",
       "      <td>O=c1c(O)c(-c2ccc(O)c(O)c2)oc2cc(O)cc(O)c12</td>\n",
       "      <td>Beilschmiedia erythrophloia</td>\n",
       "      <td>0.957535</td>\n",
       "    </tr>\n",
       "    <tr>\n",
       "      <th>...</th>\n",
       "      <td>...</td>\n",
       "      <td>...</td>\n",
       "      <td>...</td>\n",
       "    </tr>\n",
       "    <tr>\n",
       "      <th>1487</th>\n",
       "      <td>COc1cc(C=Cc2ccccc2)cc(OC)c1</td>\n",
       "      <td>Mikania banisteriae</td>\n",
       "      <td>0.912396</td>\n",
       "    </tr>\n",
       "    <tr>\n",
       "      <th>1488</th>\n",
       "      <td>CCCCCC=CCC=CCCCCCCCC(=O)OCC(O)CO</td>\n",
       "      <td>Persicaria minor</td>\n",
       "      <td>0.956033</td>\n",
       "    </tr>\n",
       "    <tr>\n",
       "      <th>1489</th>\n",
       "      <td>CCCCCCCCCCCCCCCCCCO</td>\n",
       "      <td>Galeopsis bifida</td>\n",
       "      <td>0.946338</td>\n",
       "    </tr>\n",
       "    <tr>\n",
       "      <th>1490</th>\n",
       "      <td>O=C(C=Cc1ccc(O)c(O)c1)OC1CC(O)(C(=O)O)CC(OC(=O...</td>\n",
       "      <td>Panax ginseng</td>\n",
       "      <td>0.944675</td>\n",
       "    </tr>\n",
       "    <tr>\n",
       "      <th>1491</th>\n",
       "      <td>CC(=CCO)CCCC(C)CCCC(C)CCCC(C)C</td>\n",
       "      <td>Bos taurus</td>\n",
       "      <td>0.927714</td>\n",
       "    </tr>\n",
       "  </tbody>\n",
       "</table>\n",
       "<p>1492 rows × 3 columns</p>\n",
       "</div>"
      ],
      "text/plain": [
       "                                                      0  \\\n",
       "0                                           CCCCCCCCCCO   \n",
       "1     COCC(OC)C(OC)C(OC1OC(COC)C(OC2OC(C(=O)OC)C(OC3...   \n",
       "2        CC(C)=CCc1cc(CC2OC(=O)C(O)=C2c2ccc(O)cc2)ccc1O   \n",
       "3         COc1cc(C2OCC3(O)C(c4ccc(O)c(OC)c4)OCC23)ccc1O   \n",
       "4            O=c1c(O)c(-c2ccc(O)c(O)c2)oc2cc(O)cc(O)c12   \n",
       "...                                                 ...   \n",
       "1487                        COc1cc(C=Cc2ccccc2)cc(OC)c1   \n",
       "1488                   CCCCCC=CCC=CCCCCCCCC(=O)OCC(O)CO   \n",
       "1489                                CCCCCCCCCCCCCCCCCCO   \n",
       "1490  O=C(C=Cc1ccc(O)c(O)c1)OC1CC(O)(C(=O)O)CC(OC(=O...   \n",
       "1491                     CC(=CCO)CCCC(C)CCCC(C)CCCC(C)C   \n",
       "\n",
       "                                1      prob  \n",
       "0                   Thuja plicata  0.916053  \n",
       "1             Cystophora congesta  0.937314  \n",
       "2                    Streptomyces  0.994633  \n",
       "3                   Piper wightii  0.904672  \n",
       "4     Beilschmiedia erythrophloia  0.957535  \n",
       "...                           ...       ...  \n",
       "1487          Mikania banisteriae  0.912396  \n",
       "1488             Persicaria minor  0.956033  \n",
       "1489             Galeopsis bifida  0.946338  \n",
       "1490                Panax ginseng  0.944675  \n",
       "1491                   Bos taurus  0.927714  \n",
       "\n",
       "[1492 rows x 3 columns]"
      ]
     },
     "execution_count": 54,
     "metadata": {},
     "output_type": "execute_result"
    }
   ],
   "source": [
    "final"
   ]
  },
  {
   "cell_type": "code",
   "execution_count": 56,
   "id": "2d8d4321",
   "metadata": {},
   "outputs": [
    {
     "name": "stderr",
     "output_type": "stream",
     "text": [
      "/usr/local/Caskroom/mambaforge/base/envs/stellar_graph/lib/python3.10/site-packages/IPython/core/interactiveshell.py:3508: DtypeWarning: Columns (38) have mixed types.Specify dtype option on import or set low_memory=False.\n",
      "  exec(code_obj, self.user_global_ns, self.user_ns)\n"
     ]
    }
   ],
   "source": [
    "df = pd.read_csv(\"./data/230106_frozen_metadata.csv.gz\")"
   ]
  },
  {
   "cell_type": "code",
   "execution_count": 67,
   "id": "a781311c",
   "metadata": {},
   "outputs": [
    {
     "data": {
      "text/html": [
       "<div>\n",
       "<style scoped>\n",
       "    .dataframe tbody tr th:only-of-type {\n",
       "        vertical-align: middle;\n",
       "    }\n",
       "\n",
       "    .dataframe tbody tr th {\n",
       "        vertical-align: top;\n",
       "    }\n",
       "\n",
       "    .dataframe thead th {\n",
       "        text-align: right;\n",
       "    }\n",
       "</style>\n",
       "<table border=\"1\" class=\"dataframe\">\n",
       "  <thead>\n",
       "    <tr style=\"text-align: right;\">\n",
       "      <th></th>\n",
       "      <th>structure_wikidata</th>\n",
       "      <th>structure_inchikey</th>\n",
       "      <th>structure_inchi</th>\n",
       "      <th>structure_smiles</th>\n",
       "      <th>structure_molecular_formula</th>\n",
       "      <th>structure_exact_mass</th>\n",
       "      <th>structure_xlogp</th>\n",
       "      <th>structure_smiles_2D</th>\n",
       "      <th>structure_cid</th>\n",
       "      <th>structure_nameIupac</th>\n",
       "      <th>...</th>\n",
       "      <th>organism_taxonomy_04class</th>\n",
       "      <th>organism_taxonomy_05order</th>\n",
       "      <th>organism_taxonomy_06family</th>\n",
       "      <th>organism_taxonomy_07tribe</th>\n",
       "      <th>organism_taxonomy_08genus</th>\n",
       "      <th>organism_taxonomy_09species</th>\n",
       "      <th>organism_taxonomy_10varietas</th>\n",
       "      <th>reference_wikidata</th>\n",
       "      <th>reference_doi</th>\n",
       "      <th>manual_validation</th>\n",
       "    </tr>\n",
       "  </thead>\n",
       "  <tbody>\n",
       "    <tr>\n",
       "      <th>2140</th>\n",
       "      <td>http://www.wikidata.org/entity/Q903525</td>\n",
       "      <td>KSMVZQYAVGTKIV-UHFFFAOYSA-N</td>\n",
       "      <td>InChI=1S/C10H20O/c1-2-3-4-5-6-7-8-9-10-11/h10H...</td>\n",
       "      <td>CCCCCCCCCC=O</td>\n",
       "      <td>C10H20O</td>\n",
       "      <td>156.151415</td>\n",
       "      <td>3.3260</td>\n",
       "      <td>CCCCCCCCCC=O</td>\n",
       "      <td>8175.0</td>\n",
       "      <td>decanal</td>\n",
       "      <td>...</td>\n",
       "      <td>Magnoliopsida</td>\n",
       "      <td>Rosales</td>\n",
       "      <td>Rosaceae</td>\n",
       "      <td>Amygdaleae</td>\n",
       "      <td>Prunus</td>\n",
       "      <td>Prunus persica</td>\n",
       "      <td>Prunus persica var. nucipersica</td>\n",
       "      <td>http://www.wikidata.org/entity/Q51476736</td>\n",
       "      <td>10.1016/J.FOODCHEM.2013.11.092</td>\n",
       "      <td>NaN</td>\n",
       "    </tr>\n",
       "    <tr>\n",
       "      <th>4441</th>\n",
       "      <td>http://www.wikidata.org/entity/Q43656</td>\n",
       "      <td>HVYWMOMLDIMFJA-DPAQBDIFSA-N</td>\n",
       "      <td>InChI=1S/C27H46O/c1-18(2)7-6-8-19(3)23-11-12-2...</td>\n",
       "      <td>CC(C)CCC[C@@H](C)[C@H]1CC[C@H]2[C@@H]3CC=C4C[C...</td>\n",
       "      <td>C27H46O</td>\n",
       "      <td>386.354866</td>\n",
       "      <td>7.3887</td>\n",
       "      <td>CC(C)CCCC(C)C1CCC2C3CC=C4CC(O)CCC4(C)C3CCC12C</td>\n",
       "      <td>5997.0</td>\n",
       "      <td>(3S,8S,9S,10R,13R,14S,17R)-10,13-dimethyl-17-[...</td>\n",
       "      <td>...</td>\n",
       "      <td>Florideophycidae</td>\n",
       "      <td>NaN</td>\n",
       "      <td>NaN</td>\n",
       "      <td>NaN</td>\n",
       "      <td>Callophyllis</td>\n",
       "      <td>Callophyllis variegata</td>\n",
       "      <td>NaN</td>\n",
       "      <td>http://www.wikidata.org/entity/Q104375056</td>\n",
       "      <td>10.1016/0305-1978(84)90026-7</td>\n",
       "      <td>NaN</td>\n",
       "    </tr>\n",
       "    <tr>\n",
       "      <th>6102</th>\n",
       "      <td>http://www.wikidata.org/entity/Q43656</td>\n",
       "      <td>HVYWMOMLDIMFJA-DPAQBDIFSA-N</td>\n",
       "      <td>InChI=1S/C27H46O/c1-18(2)7-6-8-19(3)23-11-12-2...</td>\n",
       "      <td>CC(C)CCC[C@@H](C)[C@H]1CC[C@H]2[C@@H]3CC=C4C[C...</td>\n",
       "      <td>C27H46O</td>\n",
       "      <td>386.354866</td>\n",
       "      <td>7.3887</td>\n",
       "      <td>CC(C)CCCC(C)C1CCC2C3CC=C4CC(O)CCC4(C)C3CCC12C</td>\n",
       "      <td>5997.0</td>\n",
       "      <td>(3S,8S,9S,10R,13R,14S,17R)-10,13-dimethyl-17-[...</td>\n",
       "      <td>...</td>\n",
       "      <td>Demospongiae</td>\n",
       "      <td>Dictyoceratida</td>\n",
       "      <td>Irciniidae</td>\n",
       "      <td>NaN</td>\n",
       "      <td>Ircinia</td>\n",
       "      <td>Ircinia variabilis</td>\n",
       "      <td>NaN</td>\n",
       "      <td>http://www.wikidata.org/entity/Q104375075</td>\n",
       "      <td>10.1016/0305-0491(84)90128-7</td>\n",
       "      <td>NaN</td>\n",
       "    </tr>\n",
       "    <tr>\n",
       "      <th>7726</th>\n",
       "      <td>http://www.wikidata.org/entity/Q2756479</td>\n",
       "      <td>SGNBVLSWZMBQTH-PODYLUTMSA-N</td>\n",
       "      <td>InChI=1S/C28H48O/c1-18(2)19(3)7-8-20(4)24-11-1...</td>\n",
       "      <td>CC(C)[C@H](C)CC[C@@H](C)[C@H]1CC[C@H]2[C@@H]3C...</td>\n",
       "      <td>C28H48O</td>\n",
       "      <td>400.370516</td>\n",
       "      <td>7.6347</td>\n",
       "      <td>CC(C)C(C)CCC(C)C1CCC2C3CC=C4CC(O)CCC4(C)C3CCC12C</td>\n",
       "      <td>173183.0</td>\n",
       "      <td>(3S,8S,9S,10R,13R,14S,17R)-17-[(2R,5R)-5,6-dim...</td>\n",
       "      <td>...</td>\n",
       "      <td>Magnoliopsida</td>\n",
       "      <td>Sapindales</td>\n",
       "      <td>Rutaceae</td>\n",
       "      <td>NaN</td>\n",
       "      <td>Citrus</td>\n",
       "      <td>Citrus medica</td>\n",
       "      <td>Citrus medica var. sarcodactylis</td>\n",
       "      <td>http://www.wikidata.org/entity/Q104375041</td>\n",
       "      <td>10.1016/S0031-9422(00)83075-7</td>\n",
       "      <td>NaN</td>\n",
       "    </tr>\n",
       "    <tr>\n",
       "      <th>7727</th>\n",
       "      <td>http://www.wikidata.org/entity/Q2756479</td>\n",
       "      <td>SGNBVLSWZMBQTH-PODYLUTMSA-N</td>\n",
       "      <td>InChI=1S/C28H48O/c1-18(2)19(3)7-8-20(4)24-11-1...</td>\n",
       "      <td>CC(C)[C@H](C)CC[C@@H](C)[C@H]1CC[C@H]2[C@@H]3C...</td>\n",
       "      <td>C28H48O</td>\n",
       "      <td>400.370516</td>\n",
       "      <td>7.6347</td>\n",
       "      <td>CC(C)C(C)CCC(C)C1CCC2C3CC=C4CC(O)CCC4(C)C3CCC12C</td>\n",
       "      <td>173183.0</td>\n",
       "      <td>(3S,8S,9S,10R,13R,14S,17R)-17-[(2R,5R)-5,6-dim...</td>\n",
       "      <td>...</td>\n",
       "      <td>Magnoliopsida</td>\n",
       "      <td>Sapindales</td>\n",
       "      <td>Rutaceae</td>\n",
       "      <td>NaN</td>\n",
       "      <td>Citrus</td>\n",
       "      <td>Citrus medica</td>\n",
       "      <td>Citrus medica var. sarcodactylis</td>\n",
       "      <td>http://www.wikidata.org/entity/Q104375041</td>\n",
       "      <td>10.1016/S0031-9422(00)83075-7</td>\n",
       "      <td>NaN</td>\n",
       "    </tr>\n",
       "    <tr>\n",
       "      <th>...</th>\n",
       "      <td>...</td>\n",
       "      <td>...</td>\n",
       "      <td>...</td>\n",
       "      <td>...</td>\n",
       "      <td>...</td>\n",
       "      <td>...</td>\n",
       "      <td>...</td>\n",
       "      <td>...</td>\n",
       "      <td>...</td>\n",
       "      <td>...</td>\n",
       "      <td>...</td>\n",
       "      <td>...</td>\n",
       "      <td>...</td>\n",
       "      <td>...</td>\n",
       "      <td>...</td>\n",
       "      <td>...</td>\n",
       "      <td>...</td>\n",
       "      <td>...</td>\n",
       "      <td>...</td>\n",
       "      <td>...</td>\n",
       "      <td>...</td>\n",
       "    </tr>\n",
       "    <tr>\n",
       "      <th>792030</th>\n",
       "      <td>http://www.wikidata.org/entity/Q424567</td>\n",
       "      <td>KZNIFHPLKGYRTM-UHFFFAOYSA-N</td>\n",
       "      <td>InChI=1S/C15H10O5/c16-9-3-1-8(2-4-9)13-7-12(19...</td>\n",
       "      <td>O=c1cc(-c2ccc(O)cc2)oc2cc(O)cc(O)c12</td>\n",
       "      <td>C15H10O5</td>\n",
       "      <td>270.052823</td>\n",
       "      <td>2.5768</td>\n",
       "      <td>O=c1cc(-c2ccc(O)cc2)oc2cc(O)cc(O)c12</td>\n",
       "      <td>5280443.0</td>\n",
       "      <td>5,7-dihydroxy-2-(4-hydroxyphenyl)chromen-4-one</td>\n",
       "      <td>...</td>\n",
       "      <td>Magnoliopsida</td>\n",
       "      <td>Brassicales</td>\n",
       "      <td>Brassicaceae</td>\n",
       "      <td>Brassiceae</td>\n",
       "      <td>Brassica</td>\n",
       "      <td>Brassica oleracea</td>\n",
       "      <td>Brassica oleracea var. alboglabra</td>\n",
       "      <td>http://www.wikidata.org/entity/Q104666735</td>\n",
       "      <td>10.1002/(SICI)1097-0010(200004)80:5&lt;561::AID-J...</td>\n",
       "      <td>NaN</td>\n",
       "    </tr>\n",
       "    <tr>\n",
       "      <th>792035</th>\n",
       "      <td>http://www.wikidata.org/entity/Q415011</td>\n",
       "      <td>IQPNAANSBPBGFQ-UHFFFAOYSA-N</td>\n",
       "      <td>InChI=1S/C15H10O6/c16-8-4-11(19)15-12(20)6-13(...</td>\n",
       "      <td>O=c1cc(-c2ccc(O)c(O)c2)oc2cc(O)cc(O)c12</td>\n",
       "      <td>C15H10O6</td>\n",
       "      <td>286.047738</td>\n",
       "      <td>2.2824</td>\n",
       "      <td>O=c1cc(-c2ccc(O)c(O)c2)oc2cc(O)cc(O)c12</td>\n",
       "      <td>5280445.0</td>\n",
       "      <td>2-(3,4-dihydroxyphenyl)-5,7-dihydroxychromen-4...</td>\n",
       "      <td>...</td>\n",
       "      <td>Magnoliopsida</td>\n",
       "      <td>Brassicales</td>\n",
       "      <td>Brassicaceae</td>\n",
       "      <td>Brassiceae</td>\n",
       "      <td>Brassica</td>\n",
       "      <td>Brassica oleracea</td>\n",
       "      <td>Brassica oleracea var. alboglabra</td>\n",
       "      <td>http://www.wikidata.org/entity/Q104666735</td>\n",
       "      <td>10.1002/(SICI)1097-0010(200004)80:5&lt;561::AID-J...</td>\n",
       "      <td>NaN</td>\n",
       "    </tr>\n",
       "    <tr>\n",
       "      <th>792040</th>\n",
       "      <td>http://www.wikidata.org/entity/Q393336</td>\n",
       "      <td>IYRMWMYZSQPJKC-UHFFFAOYSA-N</td>\n",
       "      <td>InChI=1S/C15H10O6/c16-8-3-1-7(2-4-8)15-14(20)1...</td>\n",
       "      <td>O=c1c(O)c(-c2ccc(O)cc2)oc2cc(O)cc(O)c12</td>\n",
       "      <td>C15H10O6</td>\n",
       "      <td>286.047738</td>\n",
       "      <td>2.2824</td>\n",
       "      <td>O=c1c(O)c(-c2ccc(O)cc2)oc2cc(O)cc(O)c12</td>\n",
       "      <td>5280863.0</td>\n",
       "      <td>3,5,7-trihydroxy-2-(4-hydroxyphenyl)chromen-4-one</td>\n",
       "      <td>...</td>\n",
       "      <td>Magnoliopsida</td>\n",
       "      <td>Brassicales</td>\n",
       "      <td>Brassicaceae</td>\n",
       "      <td>Brassiceae</td>\n",
       "      <td>Brassica</td>\n",
       "      <td>Brassica oleracea</td>\n",
       "      <td>Brassica oleracea var. alboglabra</td>\n",
       "      <td>http://www.wikidata.org/entity/Q104666735</td>\n",
       "      <td>10.1002/(SICI)1097-0010(200004)80:5&lt;561::AID-J...</td>\n",
       "      <td>NaN</td>\n",
       "    </tr>\n",
       "    <tr>\n",
       "      <th>792045</th>\n",
       "      <td>http://www.wikidata.org/entity/Q951449</td>\n",
       "      <td>IKMDFBPHZNJCSN-UHFFFAOYSA-N</td>\n",
       "      <td>InChI=1S/C15H10O8/c16-6-3-7(17)11-10(4-6)23-15...</td>\n",
       "      <td>O=c1c(O)c(-c2cc(O)c(O)c(O)c2)oc2cc(O)cc(O)c12</td>\n",
       "      <td>C15H10O8</td>\n",
       "      <td>318.037567</td>\n",
       "      <td>1.6936</td>\n",
       "      <td>O=c1c(O)c(-c2cc(O)c(O)c(O)c2)oc2cc(O)cc(O)c12</td>\n",
       "      <td>5281672.0</td>\n",
       "      <td>3,5,7-trihydroxy-2-(3,4,5-trihydroxyphenyl)chr...</td>\n",
       "      <td>...</td>\n",
       "      <td>Magnoliopsida</td>\n",
       "      <td>Brassicales</td>\n",
       "      <td>Brassicaceae</td>\n",
       "      <td>Brassiceae</td>\n",
       "      <td>Brassica</td>\n",
       "      <td>Brassica oleracea</td>\n",
       "      <td>Brassica oleracea var. alboglabra</td>\n",
       "      <td>http://www.wikidata.org/entity/Q104666735</td>\n",
       "      <td>10.1002/(SICI)1097-0010(200004)80:5&lt;561::AID-J...</td>\n",
       "      <td>NaN</td>\n",
       "    </tr>\n",
       "    <tr>\n",
       "      <th>792050</th>\n",
       "      <td>http://www.wikidata.org/entity/Q409478</td>\n",
       "      <td>REFJWTPEDVJJIY-UHFFFAOYSA-N</td>\n",
       "      <td>InChI=1S/C15H10O7/c16-7-4-10(19)12-11(5-7)22-1...</td>\n",
       "      <td>O=c1c(O)c(-c2ccc(O)c(O)c2)oc2cc(O)cc(O)c12</td>\n",
       "      <td>C15H10O7</td>\n",
       "      <td>302.042653</td>\n",
       "      <td>1.9880</td>\n",
       "      <td>O=c1c(O)c(-c2ccc(O)c(O)c2)oc2cc(O)cc(O)c12</td>\n",
       "      <td>5280343.0</td>\n",
       "      <td>2-(3,4-dihydroxyphenyl)-3,5,7-trihydroxychrome...</td>\n",
       "      <td>...</td>\n",
       "      <td>Magnoliopsida</td>\n",
       "      <td>Brassicales</td>\n",
       "      <td>Brassicaceae</td>\n",
       "      <td>Brassiceae</td>\n",
       "      <td>Brassica</td>\n",
       "      <td>Brassica oleracea</td>\n",
       "      <td>Brassica oleracea var. alboglabra</td>\n",
       "      <td>http://www.wikidata.org/entity/Q104666735</td>\n",
       "      <td>10.1002/(SICI)1097-0010(200004)80:5&lt;561::AID-J...</td>\n",
       "      <td>NaN</td>\n",
       "    </tr>\n",
       "  </tbody>\n",
       "</table>\n",
       "<p>9812 rows × 39 columns</p>\n",
       "</div>"
      ],
      "text/plain": [
       "                             structure_wikidata           structure_inchikey  \\\n",
       "2140     http://www.wikidata.org/entity/Q903525  KSMVZQYAVGTKIV-UHFFFAOYSA-N   \n",
       "4441      http://www.wikidata.org/entity/Q43656  HVYWMOMLDIMFJA-DPAQBDIFSA-N   \n",
       "6102      http://www.wikidata.org/entity/Q43656  HVYWMOMLDIMFJA-DPAQBDIFSA-N   \n",
       "7726    http://www.wikidata.org/entity/Q2756479  SGNBVLSWZMBQTH-PODYLUTMSA-N   \n",
       "7727    http://www.wikidata.org/entity/Q2756479  SGNBVLSWZMBQTH-PODYLUTMSA-N   \n",
       "...                                         ...                          ...   \n",
       "792030   http://www.wikidata.org/entity/Q424567  KZNIFHPLKGYRTM-UHFFFAOYSA-N   \n",
       "792035   http://www.wikidata.org/entity/Q415011  IQPNAANSBPBGFQ-UHFFFAOYSA-N   \n",
       "792040   http://www.wikidata.org/entity/Q393336  IYRMWMYZSQPJKC-UHFFFAOYSA-N   \n",
       "792045   http://www.wikidata.org/entity/Q951449  IKMDFBPHZNJCSN-UHFFFAOYSA-N   \n",
       "792050   http://www.wikidata.org/entity/Q409478  REFJWTPEDVJJIY-UHFFFAOYSA-N   \n",
       "\n",
       "                                          structure_inchi  \\\n",
       "2140    InChI=1S/C10H20O/c1-2-3-4-5-6-7-8-9-10-11/h10H...   \n",
       "4441    InChI=1S/C27H46O/c1-18(2)7-6-8-19(3)23-11-12-2...   \n",
       "6102    InChI=1S/C27H46O/c1-18(2)7-6-8-19(3)23-11-12-2...   \n",
       "7726    InChI=1S/C28H48O/c1-18(2)19(3)7-8-20(4)24-11-1...   \n",
       "7727    InChI=1S/C28H48O/c1-18(2)19(3)7-8-20(4)24-11-1...   \n",
       "...                                                   ...   \n",
       "792030  InChI=1S/C15H10O5/c16-9-3-1-8(2-4-9)13-7-12(19...   \n",
       "792035  InChI=1S/C15H10O6/c16-8-4-11(19)15-12(20)6-13(...   \n",
       "792040  InChI=1S/C15H10O6/c16-8-3-1-7(2-4-8)15-14(20)1...   \n",
       "792045  InChI=1S/C15H10O8/c16-6-3-7(17)11-10(4-6)23-15...   \n",
       "792050  InChI=1S/C15H10O7/c16-7-4-10(19)12-11(5-7)22-1...   \n",
       "\n",
       "                                         structure_smiles  \\\n",
       "2140                                         CCCCCCCCCC=O   \n",
       "4441    CC(C)CCC[C@@H](C)[C@H]1CC[C@H]2[C@@H]3CC=C4C[C...   \n",
       "6102    CC(C)CCC[C@@H](C)[C@H]1CC[C@H]2[C@@H]3CC=C4C[C...   \n",
       "7726    CC(C)[C@H](C)CC[C@@H](C)[C@H]1CC[C@H]2[C@@H]3C...   \n",
       "7727    CC(C)[C@H](C)CC[C@@H](C)[C@H]1CC[C@H]2[C@@H]3C...   \n",
       "...                                                   ...   \n",
       "792030               O=c1cc(-c2ccc(O)cc2)oc2cc(O)cc(O)c12   \n",
       "792035            O=c1cc(-c2ccc(O)c(O)c2)oc2cc(O)cc(O)c12   \n",
       "792040            O=c1c(O)c(-c2ccc(O)cc2)oc2cc(O)cc(O)c12   \n",
       "792045      O=c1c(O)c(-c2cc(O)c(O)c(O)c2)oc2cc(O)cc(O)c12   \n",
       "792050         O=c1c(O)c(-c2ccc(O)c(O)c2)oc2cc(O)cc(O)c12   \n",
       "\n",
       "       structure_molecular_formula  structure_exact_mass  structure_xlogp  \\\n",
       "2140                       C10H20O            156.151415           3.3260   \n",
       "4441                       C27H46O            386.354866           7.3887   \n",
       "6102                       C27H46O            386.354866           7.3887   \n",
       "7726                       C28H48O            400.370516           7.6347   \n",
       "7727                       C28H48O            400.370516           7.6347   \n",
       "...                            ...                   ...              ...   \n",
       "792030                    C15H10O5            270.052823           2.5768   \n",
       "792035                    C15H10O6            286.047738           2.2824   \n",
       "792040                    C15H10O6            286.047738           2.2824   \n",
       "792045                    C15H10O8            318.037567           1.6936   \n",
       "792050                    C15H10O7            302.042653           1.9880   \n",
       "\n",
       "                                     structure_smiles_2D  structure_cid  \\\n",
       "2140                                        CCCCCCCCCC=O         8175.0   \n",
       "4441       CC(C)CCCC(C)C1CCC2C3CC=C4CC(O)CCC4(C)C3CCC12C         5997.0   \n",
       "6102       CC(C)CCCC(C)C1CCC2C3CC=C4CC(O)CCC4(C)C3CCC12C         5997.0   \n",
       "7726    CC(C)C(C)CCC(C)C1CCC2C3CC=C4CC(O)CCC4(C)C3CCC12C       173183.0   \n",
       "7727    CC(C)C(C)CCC(C)C1CCC2C3CC=C4CC(O)CCC4(C)C3CCC12C       173183.0   \n",
       "...                                                  ...            ...   \n",
       "792030              O=c1cc(-c2ccc(O)cc2)oc2cc(O)cc(O)c12      5280443.0   \n",
       "792035           O=c1cc(-c2ccc(O)c(O)c2)oc2cc(O)cc(O)c12      5280445.0   \n",
       "792040           O=c1c(O)c(-c2ccc(O)cc2)oc2cc(O)cc(O)c12      5280863.0   \n",
       "792045     O=c1c(O)c(-c2cc(O)c(O)c(O)c2)oc2cc(O)cc(O)c12      5281672.0   \n",
       "792050        O=c1c(O)c(-c2ccc(O)c(O)c2)oc2cc(O)cc(O)c12      5280343.0   \n",
       "\n",
       "                                      structure_nameIupac  ...  \\\n",
       "2140                                              decanal  ...   \n",
       "4441    (3S,8S,9S,10R,13R,14S,17R)-10,13-dimethyl-17-[...  ...   \n",
       "6102    (3S,8S,9S,10R,13R,14S,17R)-10,13-dimethyl-17-[...  ...   \n",
       "7726    (3S,8S,9S,10R,13R,14S,17R)-17-[(2R,5R)-5,6-dim...  ...   \n",
       "7727    (3S,8S,9S,10R,13R,14S,17R)-17-[(2R,5R)-5,6-dim...  ...   \n",
       "...                                                   ...  ...   \n",
       "792030     5,7-dihydroxy-2-(4-hydroxyphenyl)chromen-4-one  ...   \n",
       "792035  2-(3,4-dihydroxyphenyl)-5,7-dihydroxychromen-4...  ...   \n",
       "792040  3,5,7-trihydroxy-2-(4-hydroxyphenyl)chromen-4-one  ...   \n",
       "792045  3,5,7-trihydroxy-2-(3,4,5-trihydroxyphenyl)chr...  ...   \n",
       "792050  2-(3,4-dihydroxyphenyl)-3,5,7-trihydroxychrome...  ...   \n",
       "\n",
       "       organism_taxonomy_04class  organism_taxonomy_05order  \\\n",
       "2140               Magnoliopsida                    Rosales   \n",
       "4441            Florideophycidae                        NaN   \n",
       "6102                Demospongiae             Dictyoceratida   \n",
       "7726               Magnoliopsida                 Sapindales   \n",
       "7727               Magnoliopsida                 Sapindales   \n",
       "...                          ...                        ...   \n",
       "792030             Magnoliopsida                Brassicales   \n",
       "792035             Magnoliopsida                Brassicales   \n",
       "792040             Magnoliopsida                Brassicales   \n",
       "792045             Magnoliopsida                Brassicales   \n",
       "792050             Magnoliopsida                Brassicales   \n",
       "\n",
       "        organism_taxonomy_06family organism_taxonomy_07tribe  \\\n",
       "2140                      Rosaceae                Amygdaleae   \n",
       "4441                           NaN                       NaN   \n",
       "6102                    Irciniidae                       NaN   \n",
       "7726                      Rutaceae                       NaN   \n",
       "7727                      Rutaceae                       NaN   \n",
       "...                            ...                       ...   \n",
       "792030                Brassicaceae                Brassiceae   \n",
       "792035                Brassicaceae                Brassiceae   \n",
       "792040                Brassicaceae                Brassiceae   \n",
       "792045                Brassicaceae                Brassiceae   \n",
       "792050                Brassicaceae                Brassiceae   \n",
       "\n",
       "       organism_taxonomy_08genus organism_taxonomy_09species  \\\n",
       "2140                      Prunus              Prunus persica   \n",
       "4441                Callophyllis      Callophyllis variegata   \n",
       "6102                     Ircinia          Ircinia variabilis   \n",
       "7726                      Citrus               Citrus medica   \n",
       "7727                      Citrus               Citrus medica   \n",
       "...                          ...                         ...   \n",
       "792030                  Brassica           Brassica oleracea   \n",
       "792035                  Brassica           Brassica oleracea   \n",
       "792040                  Brassica           Brassica oleracea   \n",
       "792045                  Brassica           Brassica oleracea   \n",
       "792050                  Brassica           Brassica oleracea   \n",
       "\n",
       "             organism_taxonomy_10varietas  \\\n",
       "2140      Prunus persica var. nucipersica   \n",
       "4441                                  NaN   \n",
       "6102                                  NaN   \n",
       "7726     Citrus medica var. sarcodactylis   \n",
       "7727     Citrus medica var. sarcodactylis   \n",
       "...                                   ...   \n",
       "792030  Brassica oleracea var. alboglabra   \n",
       "792035  Brassica oleracea var. alboglabra   \n",
       "792040  Brassica oleracea var. alboglabra   \n",
       "792045  Brassica oleracea var. alboglabra   \n",
       "792050  Brassica oleracea var. alboglabra   \n",
       "\n",
       "                               reference_wikidata  \\\n",
       "2140     http://www.wikidata.org/entity/Q51476736   \n",
       "4441    http://www.wikidata.org/entity/Q104375056   \n",
       "6102    http://www.wikidata.org/entity/Q104375075   \n",
       "7726    http://www.wikidata.org/entity/Q104375041   \n",
       "7727    http://www.wikidata.org/entity/Q104375041   \n",
       "...                                           ...   \n",
       "792030  http://www.wikidata.org/entity/Q104666735   \n",
       "792035  http://www.wikidata.org/entity/Q104666735   \n",
       "792040  http://www.wikidata.org/entity/Q104666735   \n",
       "792045  http://www.wikidata.org/entity/Q104666735   \n",
       "792050  http://www.wikidata.org/entity/Q104666735   \n",
       "\n",
       "                                            reference_doi manual_validation  \n",
       "2140                       10.1016/J.FOODCHEM.2013.11.092               NaN  \n",
       "4441                         10.1016/0305-1978(84)90026-7               NaN  \n",
       "6102                         10.1016/0305-0491(84)90128-7               NaN  \n",
       "7726                        10.1016/S0031-9422(00)83075-7               NaN  \n",
       "7727                        10.1016/S0031-9422(00)83075-7               NaN  \n",
       "...                                                   ...               ...  \n",
       "792030  10.1002/(SICI)1097-0010(200004)80:5<561::AID-J...               NaN  \n",
       "792035  10.1002/(SICI)1097-0010(200004)80:5<561::AID-J...               NaN  \n",
       "792040  10.1002/(SICI)1097-0010(200004)80:5<561::AID-J...               NaN  \n",
       "792045  10.1002/(SICI)1097-0010(200004)80:5<561::AID-J...               NaN  \n",
       "792050  10.1002/(SICI)1097-0010(200004)80:5<561::AID-J...               NaN  \n",
       "\n",
       "[9812 rows x 39 columns]"
      ]
     },
     "execution_count": 67,
     "metadata": {},
     "output_type": "execute_result"
    }
   ],
   "source": [
    "df[df.organism_name.str.contains(\"var.\")]"
   ]
  }
 ],
 "metadata": {
  "kernelspec": {
   "display_name": "Python 3 (ipykernel)",
   "language": "python",
   "name": "python3"
  },
  "language_info": {
   "codemirror_mode": {
    "name": "ipython",
    "version": 3
   },
   "file_extension": ".py",
   "mimetype": "text/x-python",
   "name": "python",
   "nbconvert_exporter": "python",
   "pygments_lexer": "ipython3",
   "version": "3.10.8"
  }
 },
 "nbformat": 4,
 "nbformat_minor": 5
}
