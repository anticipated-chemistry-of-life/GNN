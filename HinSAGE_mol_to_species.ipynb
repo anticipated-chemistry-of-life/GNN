{
 "cells": [
  {
   "cell_type": "code",
   "execution_count": 1,
   "id": "0c37f03d",
   "metadata": {
    "scrolled": true
   },
   "outputs": [
    {
     "name": "stderr",
     "output_type": "stream",
     "text": [
      "2023-06-27 13:33:53.016065: I tensorflow/core/platform/cpu_feature_guard.cc:193] This TensorFlow binary is optimized with oneAPI Deep Neural Network Library (oneDNN) to use the following CPU instructions in performance-critical operations:  SSE4.1 SSE4.2 AVX AVX2 FMA\n",
      "To enable them in other operations, rebuild TensorFlow with the appropriate compiler flags.\n",
      "2023-06-27 13:34:00.799683: I tensorflow/core/platform/cpu_feature_guard.cc:193] This TensorFlow binary is optimized with oneAPI Deep Neural Network Library (oneDNN) to use the following CPU instructions in performance-critical operations:  SSE4.1 SSE4.2 AVX AVX2 FMA\n",
      "To enable them in other operations, rebuild TensorFlow with the appropriate compiler flags.\n"
     ]
    }
   ],
   "source": [
    "import networkx as nx\n",
    "import itertools\n",
    "import pandas as pd\n",
    "import numpy as np\n",
    "from stellargraph import StellarGraph\n",
    "from rdkit.Chem import AllChem, DataStructs\n",
    "import json\n",
    "from sklearn import preprocessing, feature_extraction, model_selection\n",
    "from sklearn.metrics import mean_absolute_error, mean_squared_error\n",
    "from tensorflow import keras\n",
    "import tensorflow as tf\n",
    "\n",
    "import stellargraph as sg\n",
    "from stellargraph.data import EdgeSplitter\n",
    "from stellargraph.mapper import HinSAGELinkGenerator\n",
    "from stellargraph.layer import HinSAGE, link_classification\n",
    "from tensorflow.keras import Model, optimizers, losses, metrics\n",
    "\n",
    "import multiprocessing\n",
    "from stellargraph import datasets\n",
    "from IPython.display import display, HTML\n",
    "import matplotlib.pyplot as plt\n",
    "from tensorflow.keras import mixed_precision\n",
    "mixed_precision.set_global_policy('float32')"
   ]
  },
  {
   "cell_type": "code",
   "execution_count": 2,
   "id": "5abe1765",
   "metadata": {
    "scrolled": true
   },
   "outputs": [],
   "source": [
    "g = nx.read_graphml(\"./graph/lotus_DB_as_graph.gml\")\n",
    "#species_features_dummy = pd.read_csv(\"./data/species_features_dummy.csv.gz\", index_col=0)\n",
    "species_features_dummy = pd.read_csv(\"./data/species_BaseNEncoder.csv.gz\", index_col=0)\n",
    "molecule_features_dummy = pd.read_csv(\"./data/mol_dummy_rdkit.csv.gz\", index_col=0).astype(\"int8\")\n",
    "df_agg = pd.read_csv(\"./data/lotus_aggregated.csv\", index_col=0)\n",
    "#molecule_features_dummy = pd.read_csv(\"./data/molecule_features_dummy.csv.gz\", index_col=0).astype('int8')"
   ]
  },
  {
   "cell_type": "code",
   "execution_count": 4,
   "id": "414372ea",
   "metadata": {},
   "outputs": [
    {
     "name": "stdout",
     "output_type": "stream",
     "text": [
      "StellarDiGraph: Directed multigraph\n",
      " Nodes: 184990, Edges: 876144\n",
      "\n",
      " Node types:\n",
      "  molecule: [148190]\n",
      "    Features: float32 vector, length 1024\n",
      "    Edge types: molecule-present_in->species\n",
      "  species: [36800]\n",
      "    Features: none\n",
      "    Edge types: species-has->molecule\n",
      "\n",
      " Edge types:\n",
      "    species-has->molecule: [438072]\n",
      "        Weights: all 1 (default)\n",
      "        Features: none\n",
      "    molecule-present_in->species: [438072]\n",
      "        Weights: all 1 (default)\n",
      "        Features: none\n"
     ]
    }
   ],
   "source": [
    "G = StellarGraph.from_networkx(g,\n",
    "                               node_features={#'species':species_features_dummy,\n",
    "                                              'molecule': molecule_features_dummy})\n",
    "print(G.info())\n",
    "G.check_graph_for_ml()"
   ]
  },
  {
   "cell_type": "code",
   "execution_count": 5,
   "id": "8ccf42a8",
   "metadata": {},
   "outputs": [],
   "source": [
    "batch_size = 256 #default: 200\n",
    "epochs = 30 #default: 20\n",
    "num_samples = [1, 1]\n",
    "num_workers = multiprocessing.cpu_count()-2"
   ]
  },
  {
   "cell_type": "code",
   "execution_count": 6,
   "id": "40c70f1a",
   "metadata": {},
   "outputs": [
    {
     "name": "stdout",
     "output_type": "stream",
     "text": [
      "Network has 438072 edges of type present_in\n",
      "Network has 438072 edges of type present_in\n",
      "** Sampled 43807 positive and 43807 negative edges. **\n"
     ]
    }
   ],
   "source": [
    "# Define an edge splitter on the original graph G:\n",
    "edge_splitter_test = EdgeSplitter(G)\n",
    "\n",
    "# Randomly sample a fraction p=0.3 of all positive links, and same number of negative links, from G, and obtain the\n",
    "# reduced graph G_test with the sampled links removed:\n",
    "G_test, edge_ids_test, edge_labels_test = edge_splitter_test.train_test_split(\n",
    "    p=0.1, method=\"global\", keep_connected=False, edge_label=\"present_in\"\n",
    ")"
   ]
  },
  {
   "cell_type": "code",
   "execution_count": 7,
   "id": "a1299965",
   "metadata": {},
   "outputs": [
    {
     "name": "stdout",
     "output_type": "stream",
     "text": [
      "Network has 394265 edges of type present_in\n",
      "Network has 394265 edges of type present_in\n",
      "** Sampled 39426 positive and 39426 negative edges. **\n"
     ]
    }
   ],
   "source": [
    "# Define an edge splitter on the reduced graph G_test:\n",
    "edge_splitter_train = EdgeSplitter(G_test)\n",
    "\n",
    "# Randomly sample a fraction p=0.3 of all positive links, and same number of negative links, from G_test, and obtain the\n",
    "# reduced graph G_train with the sampled links removed:\n",
    "G_train, edge_ids_train, edge_labels_train = edge_splitter_train.train_test_split(\n",
    "    p=0.1, method=\"global\", keep_connected=False, edge_label=\"present_in\"\n",
    ")"
   ]
  },
  {
   "cell_type": "code",
   "execution_count": 8,
   "id": "6a4c7cf1",
   "metadata": {},
   "outputs": [
    {
     "name": "stdout",
     "output_type": "stream",
     "text": [
      "StellarDiGraph: Directed multigraph\n",
      " Nodes: 184990, Edges: 792911\n",
      "\n",
      " Node types:\n",
      "  molecule: [148190]\n",
      "    Features: float32 vector, length 1024\n",
      "    Edge types: molecule-present_in->species\n",
      "  species: [36800]\n",
      "    Features: none\n",
      "    Edge types: species-has->molecule\n",
      "\n",
      " Edge types:\n",
      "    species-has->molecule: [438072]\n",
      "        Weights: all 1 (default)\n",
      "        Features: none\n",
      "    molecule-present_in->species: [354839]\n",
      "        Weights: all 1 (default)\n",
      "        Features: none\n"
     ]
    }
   ],
   "source": [
    "print(G_train.info())"
   ]
  },
  {
   "cell_type": "code",
   "execution_count": 9,
   "id": "96de8525",
   "metadata": {},
   "outputs": [
    {
     "name": "stdout",
     "output_type": "stream",
     "text": [
      "StellarDiGraph: Directed multigraph\n",
      " Nodes: 184990, Edges: 832337\n",
      "\n",
      " Node types:\n",
      "  molecule: [148190]\n",
      "    Features: float32 vector, length 1024\n",
      "    Edge types: molecule-present_in->species\n",
      "  species: [36800]\n",
      "    Features: none\n",
      "    Edge types: species-has->molecule\n",
      "\n",
      " Edge types:\n",
      "    species-has->molecule: [438072]\n",
      "        Weights: all 1 (default)\n",
      "        Features: none\n",
      "    molecule-present_in->species: [394265]\n",
      "        Weights: all 1 (default)\n",
      "        Features: none\n"
     ]
    }
   ],
   "source": [
    "print(G_test.info())"
   ]
  },
  {
   "cell_type": "code",
   "execution_count": 10,
   "id": "7fd9d1d9",
   "metadata": {},
   "outputs": [],
   "source": [
    "train_gen = HinSAGELinkGenerator(G_train,\n",
    "                                 batch_size=batch_size,\n",
    "                                 num_samples=num_samples,\n",
    "                                 head_node_types=[\"molecule\", \"species\"])\n",
    "train_flow = train_gen.flow(edge_ids_train, edge_labels_train, shuffle=True)"
   ]
  },
  {
   "cell_type": "code",
   "execution_count": 11,
   "id": "3d967859",
   "metadata": {},
   "outputs": [],
   "source": [
    "test_gen = HinSAGELinkGenerator(G_test,\n",
    "                                batch_size=batch_size,\n",
    "                                num_samples=num_samples,\n",
    "                                head_node_types=[\"molecule\", \"species\"])\n",
    "test_flow = test_gen.flow(edge_ids_test, edge_labels_test)"
   ]
  },
  {
   "cell_type": "code",
   "execution_count": 12,
   "id": "d94b97ac",
   "metadata": {},
   "outputs": [],
   "source": [
    "hinsage_layer_sizes = [128, 128]\n",
    "hinsage = HinSAGE(layer_sizes=hinsage_layer_sizes,\n",
    "                  generator=train_gen,\n",
    "                  bias=True,\n",
    "                  dropout=0.3,\n",
    "                 activations=['elu','selu'])"
   ]
  },
  {
   "cell_type": "code",
   "execution_count": 13,
   "id": "7f3f8d54",
   "metadata": {
    "scrolled": false
   },
   "outputs": [
    {
     "name": "stderr",
     "output_type": "stream",
     "text": [
      "/usr/local/Caskroom/mambaforge/base/envs/stellar_graph/lib/python3.10/site-packages/keras/initializers/initializers_v2.py:120: UserWarning: The initializer GlorotUniform is unseeded and being called multiple times, which will return identical values  each time (even if the initializer is unseeded). Please update your code to provide a seed to the initializer, or avoid using the same initalizer instance more than once.\n",
      "  warnings.warn(\n"
     ]
    }
   ],
   "source": [
    "# Build the model and expose input and output sockets of graphsage model\n",
    "# for link prediction\n",
    "x_inp, x_out = hinsage.in_out_tensors()"
   ]
  },
  {
   "cell_type": "code",
   "execution_count": 14,
   "id": "96dddf17",
   "metadata": {},
   "outputs": [
    {
     "name": "stdout",
     "output_type": "stream",
     "text": [
      "link_classification: using 'l1' method to combine node embeddings into edge embeddings\n"
     ]
    }
   ],
   "source": [
    "prediction = link_classification(output_dim=1,\n",
    "                                 output_act=\"sigmoid\",\n",
    "                                 edge_embedding_method=\"l1\")(x_out)"
   ]
  },
  {
   "cell_type": "code",
   "execution_count": 15,
   "id": "a49ccd38",
   "metadata": {},
   "outputs": [],
   "source": [
    "model = keras.Model(inputs=x_inp, outputs=prediction)\n",
    "lr_schedule = keras.optimizers.schedules.ExponentialDecay(\n",
    "    initial_learning_rate=1e-1,\n",
    "    decay_steps=10000,\n",
    "    decay_rate=0.95)\n",
    "\n",
    "optimizer=keras.optimizers.Adam(learning_rate=lr_schedule)\n",
    "#optimizer = mixed_precision.LossScaleOptimizer(optimizer)\n",
    "\n",
    "model.compile(\n",
    "    optimizer=optimizer,\n",
    "    loss=keras.losses.binary_crossentropy,\n",
    "    metrics=[\"AUC\"],\n",
    ")"
   ]
  },
  {
   "cell_type": "code",
   "execution_count": 16,
   "id": "90028704",
   "metadata": {},
   "outputs": [
    {
     "ename": "ValueError",
     "evalue": "cannot reshape array of size 0 into shape (256,newaxis,0)",
     "output_type": "error",
     "traceback": [
      "\u001b[0;31m---------------------------------------------------------------------------\u001b[0m",
      "\u001b[0;31mValueError\u001b[0m                                Traceback (most recent call last)",
      "Cell \u001b[0;32mIn[16], line 1\u001b[0m\n\u001b[0;32m----> 1\u001b[0m init_train_metrics \u001b[38;5;241m=\u001b[39m \u001b[43mmodel\u001b[49m\u001b[38;5;241;43m.\u001b[39;49m\u001b[43mevaluate\u001b[49m\u001b[43m(\u001b[49m\u001b[43mtrain_flow\u001b[49m\u001b[43m,\u001b[49m\u001b[43m \u001b[49m\u001b[43mworkers\u001b[49m\u001b[38;5;241;43m=\u001b[39;49m\u001b[43mnum_workers\u001b[49m\u001b[43m,\u001b[49m\u001b[43m \u001b[49m\u001b[43mverbose\u001b[49m\u001b[38;5;241;43m=\u001b[39;49m\u001b[38;5;241;43m2\u001b[39;49m\u001b[43m)\u001b[49m\n\u001b[1;32m      2\u001b[0m init_test_metrics \u001b[38;5;241m=\u001b[39m model\u001b[38;5;241m.\u001b[39mevaluate(test_flow, workers\u001b[38;5;241m=\u001b[39mnum_workers, verbose\u001b[38;5;241m=\u001b[39m\u001b[38;5;241m2\u001b[39m)\n\u001b[1;32m      4\u001b[0m \u001b[38;5;28mprint\u001b[39m(\u001b[38;5;124m\"\u001b[39m\u001b[38;5;130;01m\\n\u001b[39;00m\u001b[38;5;124mTrain Set Metrics of the initial (untrained) model:\u001b[39m\u001b[38;5;124m\"\u001b[39m)\n",
      "File \u001b[0;32m/usr/local/Caskroom/mambaforge/base/envs/stellar_graph/lib/python3.10/site-packages/keras/utils/traceback_utils.py:70\u001b[0m, in \u001b[0;36mfilter_traceback.<locals>.error_handler\u001b[0;34m(*args, **kwargs)\u001b[0m\n\u001b[1;32m     67\u001b[0m     filtered_tb \u001b[38;5;241m=\u001b[39m _process_traceback_frames(e\u001b[38;5;241m.\u001b[39m__traceback__)\n\u001b[1;32m     68\u001b[0m     \u001b[38;5;66;03m# To get the full stack trace, call:\u001b[39;00m\n\u001b[1;32m     69\u001b[0m     \u001b[38;5;66;03m# `tf.debugging.disable_traceback_filtering()`\u001b[39;00m\n\u001b[0;32m---> 70\u001b[0m     \u001b[38;5;28;01mraise\u001b[39;00m e\u001b[38;5;241m.\u001b[39mwith_traceback(filtered_tb) \u001b[38;5;28;01mfrom\u001b[39;00m \u001b[38;5;28;01mNone\u001b[39;00m\n\u001b[1;32m     71\u001b[0m \u001b[38;5;28;01mfinally\u001b[39;00m:\n\u001b[1;32m     72\u001b[0m     \u001b[38;5;28;01mdel\u001b[39;00m filtered_tb\n",
      "File \u001b[0;32m/usr/local/Caskroom/mambaforge/base/envs/stellar_graph/lib/python3.10/site-packages/stellargraph/mapper/sequences.py:241\u001b[0m, in \u001b[0;36mLinkSequence.__getitem__\u001b[0;34m(self, batch_num)\u001b[0m\n\u001b[1;32m    238\u001b[0m batch_targets \u001b[38;5;241m=\u001b[39m \u001b[38;5;28;01mNone\u001b[39;00m \u001b[38;5;28;01mif\u001b[39;00m \u001b[38;5;28mself\u001b[39m\u001b[38;5;241m.\u001b[39mtargets \u001b[38;5;129;01mis\u001b[39;00m \u001b[38;5;28;01mNone\u001b[39;00m \u001b[38;5;28;01melse\u001b[39;00m \u001b[38;5;28mself\u001b[39m\u001b[38;5;241m.\u001b[39mtargets[batch_indices]\n\u001b[1;32m    240\u001b[0m \u001b[38;5;66;03m# Get node features for batch of link ids\u001b[39;00m\n\u001b[0;32m--> 241\u001b[0m batch_feats \u001b[38;5;241m=\u001b[39m \u001b[38;5;28;43mself\u001b[39;49m\u001b[38;5;241;43m.\u001b[39;49m\u001b[43m_sample_features\u001b[49m\u001b[43m(\u001b[49m\u001b[43mhead_ids\u001b[49m\u001b[43m,\u001b[49m\u001b[43m \u001b[49m\u001b[43mbatch_num\u001b[49m\u001b[43m)\u001b[49m\n\u001b[1;32m    243\u001b[0m \u001b[38;5;28;01mreturn\u001b[39;00m batch_feats, batch_targets\n",
      "File \u001b[0;32m/usr/local/Caskroom/mambaforge/base/envs/stellar_graph/lib/python3.10/site-packages/stellargraph/mapper/sampled_link_generators.py:490\u001b[0m, in \u001b[0;36mHinSAGELinkGenerator.sample_features\u001b[0;34m(self, head_links, batch_num)\u001b[0m\n\u001b[1;32m    484\u001b[0m \u001b[38;5;66;03m# Interlace the two lists, nodes_by_type[0] (for src head nodes) and nodes_by_type[1] (for dst head nodes)\u001b[39;00m\n\u001b[1;32m    485\u001b[0m nodes_by_type \u001b[38;5;241m=\u001b[39m [\n\u001b[1;32m    486\u001b[0m     \u001b[38;5;28mtuple\u001b[39m((ab[\u001b[38;5;241m0\u001b[39m][\u001b[38;5;241m0\u001b[39m], reduce(operator\u001b[38;5;241m.\u001b[39mconcat, (ab[\u001b[38;5;241m0\u001b[39m][\u001b[38;5;241m1\u001b[39m], ab[\u001b[38;5;241m1\u001b[39m][\u001b[38;5;241m1\u001b[39m]))))\n\u001b[1;32m    487\u001b[0m     \u001b[38;5;28;01mfor\u001b[39;00m ab \u001b[38;5;129;01min\u001b[39;00m \u001b[38;5;28mzip\u001b[39m(nodes_by_type[\u001b[38;5;241m0\u001b[39m], nodes_by_type[\u001b[38;5;241m1\u001b[39m])\n\u001b[1;32m    488\u001b[0m ]\n\u001b[0;32m--> 490\u001b[0m batch_feats \u001b[38;5;241m=\u001b[39m \u001b[38;5;28;43mself\u001b[39;49m\u001b[38;5;241;43m.\u001b[39;49m\u001b[43m_get_features\u001b[49m\u001b[43m(\u001b[49m\u001b[43mnodes_by_type\u001b[49m\u001b[43m,\u001b[49m\u001b[43m \u001b[49m\u001b[38;5;28;43mlen\u001b[39;49m\u001b[43m(\u001b[49m\u001b[43mhead_links\u001b[49m\u001b[43m)\u001b[49m\u001b[43m,\u001b[49m\u001b[43m \u001b[49m\u001b[43muse_ilocs\u001b[49m\u001b[38;5;241;43m=\u001b[39;49m\u001b[38;5;28;43;01mTrue\u001b[39;49;00m\u001b[43m)\u001b[49m\n\u001b[1;32m    492\u001b[0m \u001b[38;5;28;01mreturn\u001b[39;00m batch_feats\n",
      "File \u001b[0;32m/usr/local/Caskroom/mambaforge/base/envs/stellar_graph/lib/python3.10/site-packages/stellargraph/mapper/sampled_link_generators.py:437\u001b[0m, in \u001b[0;36mHinSAGELinkGenerator._get_features\u001b[0;34m(self, node_samples, head_size, use_ilocs)\u001b[0m\n\u001b[1;32m    431\u001b[0m batch_feats \u001b[38;5;241m=\u001b[39m [\n\u001b[1;32m    432\u001b[0m     \u001b[38;5;28mself\u001b[39m\u001b[38;5;241m.\u001b[39mgraph\u001b[38;5;241m.\u001b[39mnode_features(layer_nodes, nt, use_ilocs\u001b[38;5;241m=\u001b[39muse_ilocs)\n\u001b[1;32m    433\u001b[0m     \u001b[38;5;28;01mfor\u001b[39;00m nt, layer_nodes \u001b[38;5;129;01min\u001b[39;00m node_samples\n\u001b[1;32m    434\u001b[0m ]\n\u001b[1;32m    436\u001b[0m \u001b[38;5;66;03m# Resize features to (batch_size, n_neighbours, feature_size)\u001b[39;00m\n\u001b[0;32m--> 437\u001b[0m batch_feats \u001b[38;5;241m=\u001b[39m [np\u001b[38;5;241m.\u001b[39mreshape(a, (head_size, \u001b[38;5;241m-\u001b[39m\u001b[38;5;241m1\u001b[39m, a\u001b[38;5;241m.\u001b[39mshape[\u001b[38;5;241m1\u001b[39m])) \u001b[38;5;28;01mfor\u001b[39;00m a \u001b[38;5;129;01min\u001b[39;00m batch_feats]\n\u001b[1;32m    439\u001b[0m \u001b[38;5;28;01mreturn\u001b[39;00m batch_feats\n",
      "File \u001b[0;32m/usr/local/Caskroom/mambaforge/base/envs/stellar_graph/lib/python3.10/site-packages/stellargraph/mapper/sampled_link_generators.py:437\u001b[0m, in \u001b[0;36m<listcomp>\u001b[0;34m(.0)\u001b[0m\n\u001b[1;32m    431\u001b[0m batch_feats \u001b[38;5;241m=\u001b[39m [\n\u001b[1;32m    432\u001b[0m     \u001b[38;5;28mself\u001b[39m\u001b[38;5;241m.\u001b[39mgraph\u001b[38;5;241m.\u001b[39mnode_features(layer_nodes, nt, use_ilocs\u001b[38;5;241m=\u001b[39muse_ilocs)\n\u001b[1;32m    433\u001b[0m     \u001b[38;5;28;01mfor\u001b[39;00m nt, layer_nodes \u001b[38;5;129;01min\u001b[39;00m node_samples\n\u001b[1;32m    434\u001b[0m ]\n\u001b[1;32m    436\u001b[0m \u001b[38;5;66;03m# Resize features to (batch_size, n_neighbours, feature_size)\u001b[39;00m\n\u001b[0;32m--> 437\u001b[0m batch_feats \u001b[38;5;241m=\u001b[39m [\u001b[43mnp\u001b[49m\u001b[38;5;241;43m.\u001b[39;49m\u001b[43mreshape\u001b[49m\u001b[43m(\u001b[49m\u001b[43ma\u001b[49m\u001b[43m,\u001b[49m\u001b[43m \u001b[49m\u001b[43m(\u001b[49m\u001b[43mhead_size\u001b[49m\u001b[43m,\u001b[49m\u001b[43m \u001b[49m\u001b[38;5;241;43m-\u001b[39;49m\u001b[38;5;241;43m1\u001b[39;49m\u001b[43m,\u001b[49m\u001b[43m \u001b[49m\u001b[43ma\u001b[49m\u001b[38;5;241;43m.\u001b[39;49m\u001b[43mshape\u001b[49m\u001b[43m[\u001b[49m\u001b[38;5;241;43m1\u001b[39;49m\u001b[43m]\u001b[49m\u001b[43m)\u001b[49m\u001b[43m)\u001b[49m \u001b[38;5;28;01mfor\u001b[39;00m a \u001b[38;5;129;01min\u001b[39;00m batch_feats]\n\u001b[1;32m    439\u001b[0m \u001b[38;5;28;01mreturn\u001b[39;00m batch_feats\n",
      "File \u001b[0;32m<__array_function__ internals>:180\u001b[0m, in \u001b[0;36mreshape\u001b[0;34m(*args, **kwargs)\u001b[0m\n",
      "File \u001b[0;32m/usr/local/Caskroom/mambaforge/base/envs/stellar_graph/lib/python3.10/site-packages/numpy/core/fromnumeric.py:298\u001b[0m, in \u001b[0;36mreshape\u001b[0;34m(a, newshape, order)\u001b[0m\n\u001b[1;32m    198\u001b[0m \u001b[38;5;129m@array_function_dispatch\u001b[39m(_reshape_dispatcher)\n\u001b[1;32m    199\u001b[0m \u001b[38;5;28;01mdef\u001b[39;00m \u001b[38;5;21mreshape\u001b[39m(a, newshape, order\u001b[38;5;241m=\u001b[39m\u001b[38;5;124m'\u001b[39m\u001b[38;5;124mC\u001b[39m\u001b[38;5;124m'\u001b[39m):\n\u001b[1;32m    200\u001b[0m \u001b[38;5;250m    \u001b[39m\u001b[38;5;124;03m\"\"\"\u001b[39;00m\n\u001b[1;32m    201\u001b[0m \u001b[38;5;124;03m    Gives a new shape to an array without changing its data.\u001b[39;00m\n\u001b[1;32m    202\u001b[0m \n\u001b[0;32m   (...)\u001b[0m\n\u001b[1;32m    296\u001b[0m \u001b[38;5;124;03m           [5, 6]])\u001b[39;00m\n\u001b[1;32m    297\u001b[0m \u001b[38;5;124;03m    \"\"\"\u001b[39;00m\n\u001b[0;32m--> 298\u001b[0m     \u001b[38;5;28;01mreturn\u001b[39;00m \u001b[43m_wrapfunc\u001b[49m\u001b[43m(\u001b[49m\u001b[43ma\u001b[49m\u001b[43m,\u001b[49m\u001b[43m \u001b[49m\u001b[38;5;124;43m'\u001b[39;49m\u001b[38;5;124;43mreshape\u001b[39;49m\u001b[38;5;124;43m'\u001b[39;49m\u001b[43m,\u001b[49m\u001b[43m \u001b[49m\u001b[43mnewshape\u001b[49m\u001b[43m,\u001b[49m\u001b[43m \u001b[49m\u001b[43morder\u001b[49m\u001b[38;5;241;43m=\u001b[39;49m\u001b[43morder\u001b[49m\u001b[43m)\u001b[49m\n",
      "File \u001b[0;32m/usr/local/Caskroom/mambaforge/base/envs/stellar_graph/lib/python3.10/site-packages/numpy/core/fromnumeric.py:57\u001b[0m, in \u001b[0;36m_wrapfunc\u001b[0;34m(obj, method, *args, **kwds)\u001b[0m\n\u001b[1;32m     54\u001b[0m     \u001b[38;5;28;01mreturn\u001b[39;00m _wrapit(obj, method, \u001b[38;5;241m*\u001b[39margs, \u001b[38;5;241m*\u001b[39m\u001b[38;5;241m*\u001b[39mkwds)\n\u001b[1;32m     56\u001b[0m \u001b[38;5;28;01mtry\u001b[39;00m:\n\u001b[0;32m---> 57\u001b[0m     \u001b[38;5;28;01mreturn\u001b[39;00m bound(\u001b[38;5;241m*\u001b[39margs, \u001b[38;5;241m*\u001b[39m\u001b[38;5;241m*\u001b[39mkwds)\n\u001b[1;32m     58\u001b[0m \u001b[38;5;28;01mexcept\u001b[39;00m \u001b[38;5;167;01mTypeError\u001b[39;00m:\n\u001b[1;32m     59\u001b[0m     \u001b[38;5;66;03m# A TypeError occurs if the object does have such a method in its\u001b[39;00m\n\u001b[1;32m     60\u001b[0m     \u001b[38;5;66;03m# class, but its signature is not identical to that of NumPy's. This\u001b[39;00m\n\u001b[0;32m   (...)\u001b[0m\n\u001b[1;32m     64\u001b[0m     \u001b[38;5;66;03m# Call _wrapit from within the except clause to ensure a potential\u001b[39;00m\n\u001b[1;32m     65\u001b[0m     \u001b[38;5;66;03m# exception has a traceback chain.\u001b[39;00m\n\u001b[1;32m     66\u001b[0m     \u001b[38;5;28;01mreturn\u001b[39;00m _wrapit(obj, method, \u001b[38;5;241m*\u001b[39margs, \u001b[38;5;241m*\u001b[39m\u001b[38;5;241m*\u001b[39mkwds)\n",
      "\u001b[0;31mValueError\u001b[0m: cannot reshape array of size 0 into shape (256,newaxis,0)"
     ]
    }
   ],
   "source": [
    "init_train_metrics = model.evaluate(train_flow, workers=num_workers, verbose=2)\n",
    "init_test_metrics = model.evaluate(test_flow, workers=num_workers, verbose=2)\n",
    "\n",
    "print(\"\\nTrain Set Metrics of the initial (untrained) model:\")\n",
    "for name, val in zip(model.metrics_names, init_train_metrics):\n",
    "    print(\"\\t{}: {:0.4f}\".format(name, val))\n",
    "\n",
    "print(\"\\nTest Set Metrics of the initial (untrained) model:\")\n",
    "for name, val in zip(model.metrics_names, init_test_metrics):\n",
    "    print(\"\\t{}: {:0.4f}\".format(name, val))"
   ]
  },
  {
   "cell_type": "code",
   "execution_count": null,
   "id": "e34c9a03",
   "metadata": {},
   "outputs": [],
   "source": [
    "callbacks = keras.callbacks.EarlyStopping(monitor=\"val_loss\",\n",
    "                                          patience=10,\n",
    "                                          mode=\"auto\",\n",
    "                                          restore_best_weights=True)\n",
    "\n",
    "history = model.fit(train_flow,\n",
    "                    epochs=epochs,\n",
    "                    workers=num_workers,\n",
    "                    validation_data=test_flow,\n",
    "                    verbose=2,\n",
    "                    callbacks=[callbacks],\n",
    "                    validation_split=0.0,\n",
    "                    shuffle=True\n",
    "                   )"
   ]
  },
  {
   "cell_type": "code",
   "execution_count": null,
   "id": "a727f52e",
   "metadata": {
    "scrolled": true
   },
   "outputs": [],
   "source": [
    "sg.utils.plot_history(history)"
   ]
  },
  {
   "cell_type": "code",
   "execution_count": null,
   "id": "1fd3266a",
   "metadata": {
    "scrolled": false
   },
   "outputs": [],
   "source": [
    "train_metrics = model.evaluate(train_flow, verbose=2)\n",
    "test_metrics = model.evaluate(test_flow, verbose=2)\n",
    "\n",
    "print(\"\\nTrain Set Metrics of the trained model:\")\n",
    "for name, val in zip(model.metrics_names, train_metrics):\n",
    "    print(\"\\t{}: {:0.4f}\".format(name, val))\n",
    "\n",
    "print(\"\\nTest Set Metrics of the trained model:\")\n",
    "for name, val in zip(model.metrics_names, test_metrics):\n",
    "    print(\"\\t{}: {:0.4f}\".format(name, val))"
   ]
  },
  {
   "cell_type": "code",
   "execution_count": null,
   "id": "39a63722",
   "metadata": {},
   "outputs": [],
   "source": [
    "test_pred = HinSAGELinkGenerator(G,\n",
    "                                 batch_size=128,\n",
    "                                num_samples=num_samples,\n",
    "                                head_node_types=[\"molecule\", \"species\"]).flow(edge_ids_test, edge_labels_test)"
   ]
  },
  {
   "cell_type": "code",
   "execution_count": null,
   "id": "d59e7dbc",
   "metadata": {
    "scrolled": true
   },
   "outputs": [],
   "source": [
    "predictions = model.predict(test_pred, workers=3)"
   ]
  },
  {
   "cell_type": "code",
   "execution_count": null,
   "id": "769c15a5",
   "metadata": {},
   "outputs": [],
   "source": [
    "predictions = predictions.flatten()"
   ]
  },
  {
   "cell_type": "code",
   "execution_count": null,
   "id": "68b35e84",
   "metadata": {},
   "outputs": [],
   "source": [
    "test = predictions[(predictions>0.9) | (predictions<0.1)]\n",
    "test = test>0.5"
   ]
  },
  {
   "cell_type": "code",
   "execution_count": null,
   "id": "8c10314e",
   "metadata": {},
   "outputs": [],
   "source": [
    "test = test.astype('int8')"
   ]
  },
  {
   "cell_type": "code",
   "execution_count": null,
   "id": "7db6b010",
   "metadata": {},
   "outputs": [],
   "source": [
    "plt.hist(predictions)"
   ]
  },
  {
   "cell_type": "code",
   "execution_count": null,
   "id": "cfacbdfb",
   "metadata": {},
   "outputs": [],
   "source": [
    "np.where((predictions>0.9) | (predictions<0.1))"
   ]
  },
  {
   "cell_type": "code",
   "execution_count": null,
   "id": "df2f017e",
   "metadata": {
    "scrolled": true
   },
   "outputs": [],
   "source": [
    "sum(test == edge_labels_test[np.where((predictions>0.9) | (predictions<0.1))])/len(test)"
   ]
  },
  {
   "cell_type": "code",
   "execution_count": null,
   "id": "0c82ada5",
   "metadata": {},
   "outputs": [],
   "source": [
    "len(test)/len(predictions)"
   ]
  },
  {
   "cell_type": "code",
   "execution_count": null,
   "id": "d2165f29",
   "metadata": {},
   "outputs": [],
   "source": [
    "df_agg = pd.read_csv(\"./data/lotus_aggregated.csv\", index_col=0)"
   ]
  },
  {
   "cell_type": "code",
   "execution_count": null,
   "id": "b9ae1305",
   "metadata": {},
   "outputs": [],
   "source": [
    "finaly_test = np.array(list(zip(df_agg.structure_smiles_2D[:1000],df_agg.organism_name[::-1][:1000])))"
   ]
  },
  {
   "cell_type": "code",
   "execution_count": null,
   "id": "e93a816d",
   "metadata": {},
   "outputs": [],
   "source": [
    "final_test = HinSAGELinkGenerator(G,\n",
    "                                batch_size=128,\n",
    "                                num_samples=num_samples,\n",
    "                                head_node_types=[\"molecule\", \"species\"]).flow(finaly_test, np.ones(len(finaly_test)).reshape(-1, 1))"
   ]
  },
  {
   "cell_type": "code",
   "execution_count": null,
   "id": "907ac477",
   "metadata": {
    "scrolled": true
   },
   "outputs": [],
   "source": [
    "res = model.predict(final_test).flatten()"
   ]
  },
  {
   "cell_type": "code",
   "execution_count": null,
   "id": "2390a03a",
   "metadata": {
    "scrolled": true
   },
   "outputs": [],
   "source": [
    "res[res>0.9]"
   ]
  },
  {
   "cell_type": "code",
   "execution_count": null,
   "id": "b7b9fd74",
   "metadata": {
    "scrolled": true
   },
   "outputs": [],
   "source": [
    "len(res[res>0.9])/len(res)"
   ]
  },
  {
   "cell_type": "code",
   "execution_count": null,
   "id": "38815bce",
   "metadata": {},
   "outputs": [],
   "source": [
    "finaly_test[res>0.9]"
   ]
  },
  {
   "cell_type": "code",
   "execution_count": null,
   "id": "89431c57",
   "metadata": {},
   "outputs": [],
   "source": [
    "plt.hist(res)"
   ]
  },
  {
   "cell_type": "code",
   "execution_count": null,
   "id": "7ca881bf",
   "metadata": {},
   "outputs": [],
   "source": [
    "org = df_agg.organism_name.unique()[:100]"
   ]
  },
  {
   "cell_type": "code",
   "execution_count": null,
   "id": "29f7094c",
   "metadata": {},
   "outputs": [],
   "source": [
    "mol = df_agg.structure_smiles_2D.unique()[:1000]"
   ]
  },
  {
   "cell_type": "code",
   "execution_count": null,
   "id": "b473b87a",
   "metadata": {},
   "outputs": [],
   "source": [
    "len(df_agg.structure_smiles_2D.unique())"
   ]
  },
  {
   "cell_type": "code",
   "execution_count": null,
   "id": "e992ce91",
   "metadata": {},
   "outputs": [],
   "source": [
    "len(df_agg.organism_name.unique())"
   ]
  },
  {
   "cell_type": "code",
   "execution_count": null,
   "id": "dbb1a1a9",
   "metadata": {},
   "outputs": [],
   "source": [
    "%%time\n",
    "combinations = list(itertools.product(mol, org))"
   ]
  },
  {
   "cell_type": "code",
   "execution_count": null,
   "id": "58d94cde",
   "metadata": {},
   "outputs": [],
   "source": [
    "%%time\n",
    "A1, A2 = np.meshgrid(mol, org)"
   ]
  },
  {
   "cell_type": "code",
   "execution_count": null,
   "id": "6ee7452a",
   "metadata": {},
   "outputs": [],
   "source": [
    "df_combinations = pd.DataFrame(combinations, columns=['structure_smiles_2D', 'organism_name'])"
   ]
  },
  {
   "cell_type": "code",
   "execution_count": null,
   "id": "2398fecf",
   "metadata": {},
   "outputs": [],
   "source": [
    "edge_test_final = df_combinations.to_numpy()"
   ]
  },
  {
   "cell_type": "code",
   "execution_count": null,
   "id": "7ad7233a",
   "metadata": {},
   "outputs": [],
   "source": [
    "%%time\n",
    "final_final_test = HinSAGELinkGenerator(G,\n",
    "                                batch_size=256,\n",
    "                                num_samples=num_samples,\n",
    "                                head_node_types=[\"molecule\", \"species\"]).flow(edge_test_final, np.ones(len(edge_test_final)).reshape(-1, 1))"
   ]
  },
  {
   "cell_type": "code",
   "execution_count": null,
   "id": "55760945",
   "metadata": {
    "scrolled": false
   },
   "outputs": [],
   "source": [
    "final_final_pred = model.predict(final_final_test).flatten()"
   ]
  },
  {
   "cell_type": "code",
   "execution_count": null,
   "id": "6c995f65",
   "metadata": {},
   "outputs": [],
   "source": [
    "len(final_final_pred)"
   ]
  },
  {
   "cell_type": "code",
   "execution_count": null,
   "id": "e602f2c0",
   "metadata": {},
   "outputs": [],
   "source": [
    "len(final_final_pred[final_final_pred>0.9])"
   ]
  },
  {
   "cell_type": "code",
   "execution_count": null,
   "id": "7b0598ad",
   "metadata": {
    "scrolled": true
   },
   "outputs": [],
   "source": [
    "results = edge_test_final[final_final_pred>0.9]"
   ]
  },
  {
   "cell_type": "code",
   "execution_count": null,
   "id": "77b0ed8c",
   "metadata": {},
   "outputs": [],
   "source": [
    "results[10000:10100]"
   ]
  },
  {
   "cell_type": "code",
   "execution_count": null,
   "id": "db872b12",
   "metadata": {
    "scrolled": true
   },
   "outputs": [],
   "source": [
    "df_agg"
   ]
  },
  {
   "cell_type": "code",
   "execution_count": null,
   "id": "88a45c64",
   "metadata": {
    "scrolled": true
   },
   "outputs": [],
   "source": [
    "model.save(f\"./model/batch_{batch_size}_layer_{hinsage_layer_sizes[0]}\")"
   ]
  },
  {
   "cell_type": "code",
   "execution_count": null,
   "id": "629b4da0",
   "metadata": {},
   "outputs": [],
   "source": [
    "try_test = np.array([['C=C(C)C1CCC2(C)CCC3(C)C(CCC4C5(C)CCC(O)C(C)(C)C5CCC43C)C12', 'Homo sapiens']])"
   ]
  },
  {
   "cell_type": "code",
   "execution_count": null,
   "id": "0f166fe0",
   "metadata": {},
   "outputs": [],
   "source": [
    "try_test = HinSAGELinkGenerator(G,\n",
    "                                 batch_size=128,\n",
    "                                num_samples=num_samples,\n",
    "                                head_node_types=[\"molecule\", \"species\"]).flow(try_test, np.ones(len(try_test)).reshape(-1, 1))"
   ]
  },
  {
   "cell_type": "code",
   "execution_count": null,
   "id": "ce2765c2",
   "metadata": {
    "scrolled": false
   },
   "outputs": [],
   "source": [
    "model.predict(try_test)"
   ]
  },
  {
   "cell_type": "code",
   "execution_count": null,
   "id": "10831fc0",
   "metadata": {},
   "outputs": [],
   "source": [
    "df_agg[df_agg.structure_smiles_2D=='C=C(C)C1CCC2(C)CCC3(C)C(CCC4C5(C)CCC(O)C(C)(C)C5CCC43C)C12']"
   ]
  }
 ],
 "metadata": {
  "kernelspec": {
   "display_name": "Python 3 (ipykernel)",
   "language": "python",
   "name": "python3"
  },
  "language_info": {
   "codemirror_mode": {
    "name": "ipython",
    "version": 3
   },
   "file_extension": ".py",
   "mimetype": "text/x-python",
   "name": "python",
   "nbconvert_exporter": "python",
   "pygments_lexer": "ipython3",
   "version": "3.10.8"
  }
 },
 "nbformat": 4,
 "nbformat_minor": 5
}
