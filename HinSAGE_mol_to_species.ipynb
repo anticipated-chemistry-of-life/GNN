{
 "cells": [
  {
   "cell_type": "code",
   "execution_count": 1,
   "id": "0c37f03d",
   "metadata": {
    "scrolled": true
   },
   "outputs": [
    {
     "name": "stderr",
     "output_type": "stream",
     "text": [
      "2023-06-28 15:14:57.786321: I tensorflow/core/platform/cpu_feature_guard.cc:193] This TensorFlow binary is optimized with oneAPI Deep Neural Network Library (oneDNN) to use the following CPU instructions in performance-critical operations:  SSE4.1 SSE4.2 AVX AVX2 FMA\n",
      "To enable them in other operations, rebuild TensorFlow with the appropriate compiler flags.\n",
      "2023-06-28 15:15:03.822341: I tensorflow/core/platform/cpu_feature_guard.cc:193] This TensorFlow binary is optimized with oneAPI Deep Neural Network Library (oneDNN) to use the following CPU instructions in performance-critical operations:  SSE4.1 SSE4.2 AVX AVX2 FMA\n",
      "To enable them in other operations, rebuild TensorFlow with the appropriate compiler flags.\n"
     ]
    }
   ],
   "source": [
    "import networkx as nx\n",
    "import itertools\n",
    "import pandas as pd\n",
    "import numpy as np\n",
    "from stellargraph import StellarGraph\n",
    "from rdkit.Chem import AllChem, DataStructs\n",
    "import json\n",
    "from sklearn import preprocessing, feature_extraction, model_selection\n",
    "from sklearn.metrics import mean_absolute_error, mean_squared_error\n",
    "from tensorflow import keras\n",
    "import tensorflow as tf\n",
    "\n",
    "import stellargraph as sg\n",
    "from stellargraph.data import EdgeSplitter\n",
    "from stellargraph.mapper import HinSAGELinkGenerator\n",
    "from stellargraph.layer import HinSAGE, link_classification\n",
    "from tensorflow.keras import Model, optimizers, losses, metrics\n",
    "\n",
    "import multiprocessing\n",
    "from stellargraph import datasets\n",
    "from IPython.display import display, HTML\n",
    "import matplotlib.pyplot as plt\n",
    "from tensorflow.keras import mixed_precision\n",
    "mixed_precision.set_global_policy('float32')"
   ]
  },
  {
   "cell_type": "code",
   "execution_count": 3,
   "id": "5abe1765",
   "metadata": {
    "scrolled": true
   },
   "outputs": [],
   "source": [
    "g = nx.read_graphml(\"./graph/train_graph.gml\")\n",
    "species_features_dummy = pd.read_csv(\"./data/species_features.csv.gz\", index_col=0)\n",
    "#species_features_dummy = pd.read_csv(\"./data/species_BaseNEncoder.csv.gz\", index_col=0)\n",
    "#species_features_dummy = pd.read_csv(\"./data/species_Multi_dim_scale.csv.gz\", index_col=0)\n",
    "molecule_features_dummy = pd.read_csv(\"./data/molecule_features.csv.gz\", index_col=0).astype(\"int8\")\n",
    "df_agg = pd.read_csv(\"./data/lotus_agg_train.csv.gz\", index_col=0)\n",
    "#molecule_features_dummy = pd.read_csv(\"./data/molecule_features_dummy.csv.gz\", index_col=0).astype('int8')"
   ]
  },
  {
   "cell_type": "code",
   "execution_count": 4,
   "id": "e4a4f351",
   "metadata": {},
   "outputs": [],
   "source": [
    "species_test = species_features_dummy[~species_features_dummy.index.isin(df_agg.organism_name)].index\n",
    "mol_test = molecule_features_dummy[~molecule_features_dummy.index.isin(df_agg.structure_smiles_2D)].index"
   ]
  },
  {
   "cell_type": "code",
   "execution_count": 5,
   "id": "c4f8e442",
   "metadata": {},
   "outputs": [],
   "source": [
    "species_feat = species_features_dummy[species_features_dummy.index.isin(df_agg.organism_name)]\n",
    "molecule_feat = molecule_features_dummy[molecule_features_dummy.index.isin(df_agg.structure_smiles_2D)]"
   ]
  },
  {
   "cell_type": "code",
   "execution_count": 6,
   "id": "414372ea",
   "metadata": {},
   "outputs": [
    {
     "name": "stdout",
     "output_type": "stream",
     "text": [
      "StellarDiGraph: Directed multigraph\n",
      " Nodes: 162374, Edges: 700916\n",
      "\n",
      " Node types:\n",
      "  molecule: [127088]\n",
      "    Features: float32 vector, length 27\n",
      "    Edge types: molecule-present_in->species\n",
      "  species: [35286]\n",
      "    Features: float32 vector, length 70\n",
      "    Edge types: species-has->molecule\n",
      "\n",
      " Edge types:\n",
      "    species-has->molecule: [350458]\n",
      "        Weights: all 1 (default)\n",
      "        Features: none\n",
      "    molecule-present_in->species: [350458]\n",
      "        Weights: all 1 (default)\n",
      "        Features: none\n"
     ]
    }
   ],
   "source": [
    "G = StellarGraph.from_networkx(g,\n",
    "                               node_features={'species':species_feat,\n",
    "                                              'molecule': molecule_feat})\n",
    "print(G.info())\n",
    "G.check_graph_for_ml()"
   ]
  },
  {
   "cell_type": "code",
   "execution_count": 7,
   "id": "8ccf42a8",
   "metadata": {},
   "outputs": [],
   "source": [
    "batch_size = 256 #default: 200\n",
    "epochs = 50 #default: 20\n",
    "num_samples = [1, 1]\n",
    "num_workers = multiprocessing.cpu_count()-2"
   ]
  },
  {
   "cell_type": "code",
   "execution_count": 8,
   "id": "40c70f1a",
   "metadata": {},
   "outputs": [
    {
     "name": "stdout",
     "output_type": "stream",
     "text": [
      "Network has 350458 edges of type present_in\n",
      "Network has 350458 edges of type present_in\n",
      "** Sampled 35045 positive and 35045 negative edges. **\n"
     ]
    }
   ],
   "source": [
    "# Define an edge splitter on the original graph G:\n",
    "edge_splitter_test = EdgeSplitter(G)\n",
    "\n",
    "# Randomly sample a fraction p=0.3 of all positive links, and same number of negative links, from G, and obtain the\n",
    "# reduced graph G_test with the sampled links removed:\n",
    "G_test, edge_ids_test, edge_labels_test = edge_splitter_test.train_test_split(\n",
    "    p=0.1, method=\"global\", keep_connected=False, edge_label=\"present_in\"\n",
    ")"
   ]
  },
  {
   "cell_type": "code",
   "execution_count": 9,
   "id": "a1299965",
   "metadata": {},
   "outputs": [
    {
     "name": "stdout",
     "output_type": "stream",
     "text": [
      "Network has 315413 edges of type present_in\n",
      "Network has 315413 edges of type present_in\n",
      "** Sampled 31541 positive and 31541 negative edges. **\n"
     ]
    }
   ],
   "source": [
    "# Define an edge splitter on the reduced graph G_test:\n",
    "edge_splitter_train = EdgeSplitter(G_test)\n",
    "\n",
    "# Randomly sample a fraction p=0.3 of all positive links, and same number of negative links, from G_test, and obtain the\n",
    "# reduced graph G_train with the sampled links removed:\n",
    "G_train, edge_ids_train, edge_labels_train = edge_splitter_train.train_test_split(\n",
    "    p=0.1, method=\"global\", keep_connected=False, edge_label=\"present_in\"\n",
    ")"
   ]
  },
  {
   "cell_type": "code",
   "execution_count": 10,
   "id": "6a4c7cf1",
   "metadata": {},
   "outputs": [
    {
     "name": "stdout",
     "output_type": "stream",
     "text": [
      "StellarDiGraph: Directed multigraph\n",
      " Nodes: 162374, Edges: 634330\n",
      "\n",
      " Node types:\n",
      "  molecule: [127088]\n",
      "    Features: float32 vector, length 27\n",
      "    Edge types: molecule-present_in->species\n",
      "  species: [35286]\n",
      "    Features: float32 vector, length 70\n",
      "    Edge types: species-has->molecule\n",
      "\n",
      " Edge types:\n",
      "    species-has->molecule: [350458]\n",
      "        Weights: all 1 (default)\n",
      "        Features: none\n",
      "    molecule-present_in->species: [283872]\n",
      "        Weights: all 1 (default)\n",
      "        Features: none\n"
     ]
    }
   ],
   "source": [
    "print(G_train.info())"
   ]
  },
  {
   "cell_type": "code",
   "execution_count": 11,
   "id": "96de8525",
   "metadata": {},
   "outputs": [
    {
     "name": "stdout",
     "output_type": "stream",
     "text": [
      "StellarDiGraph: Directed multigraph\n",
      " Nodes: 162374, Edges: 665871\n",
      "\n",
      " Node types:\n",
      "  molecule: [127088]\n",
      "    Features: float32 vector, length 27\n",
      "    Edge types: molecule-present_in->species\n",
      "  species: [35286]\n",
      "    Features: float32 vector, length 70\n",
      "    Edge types: species-has->molecule\n",
      "\n",
      " Edge types:\n",
      "    species-has->molecule: [350458]\n",
      "        Weights: all 1 (default)\n",
      "        Features: none\n",
      "    molecule-present_in->species: [315413]\n",
      "        Weights: all 1 (default)\n",
      "        Features: none\n"
     ]
    }
   ],
   "source": [
    "print(G_test.info())"
   ]
  },
  {
   "cell_type": "code",
   "execution_count": 12,
   "id": "7fd9d1d9",
   "metadata": {},
   "outputs": [],
   "source": [
    "train_gen = HinSAGELinkGenerator(G_train,\n",
    "                                 batch_size=batch_size,\n",
    "                                 num_samples=num_samples,\n",
    "                                 head_node_types=[\"molecule\", \"species\"])\n",
    "train_flow = train_gen.flow(edge_ids_train, edge_labels_train, shuffle=True)"
   ]
  },
  {
   "cell_type": "code",
   "execution_count": 13,
   "id": "3d967859",
   "metadata": {},
   "outputs": [],
   "source": [
    "test_gen = HinSAGELinkGenerator(G_test,\n",
    "                                batch_size=batch_size,\n",
    "                                num_samples=num_samples,\n",
    "                                head_node_types=[\"molecule\", \"species\"])\n",
    "test_flow = test_gen.flow(edge_ids_test, edge_labels_test)"
   ]
  },
  {
   "cell_type": "code",
   "execution_count": 14,
   "id": "d94b97ac",
   "metadata": {},
   "outputs": [],
   "source": [
    "hinsage_layer_sizes = [256, 256]\n",
    "hinsage = HinSAGE(layer_sizes=hinsage_layer_sizes,\n",
    "                  generator=train_gen,\n",
    "                  bias=True,\n",
    "                  dropout=0.3,\n",
    "                 activations=['elu','selu'])"
   ]
  },
  {
   "cell_type": "code",
   "execution_count": 15,
   "id": "7f3f8d54",
   "metadata": {
    "scrolled": false
   },
   "outputs": [
    {
     "name": "stderr",
     "output_type": "stream",
     "text": [
      "/usr/local/Caskroom/mambaforge/base/envs/stellar_graph/lib/python3.10/site-packages/keras/initializers/initializers_v2.py:120: UserWarning: The initializer GlorotUniform is unseeded and being called multiple times, which will return identical values  each time (even if the initializer is unseeded). Please update your code to provide a seed to the initializer, or avoid using the same initalizer instance more than once.\n",
      "  warnings.warn(\n"
     ]
    }
   ],
   "source": [
    "# Build the model and expose input and output sockets of graphsage model\n",
    "# for link prediction\n",
    "x_inp, x_out = hinsage.in_out_tensors()"
   ]
  },
  {
   "cell_type": "code",
   "execution_count": 16,
   "id": "96dddf17",
   "metadata": {},
   "outputs": [
    {
     "name": "stdout",
     "output_type": "stream",
     "text": [
      "link_classification: using 'l1' method to combine node embeddings into edge embeddings\n"
     ]
    }
   ],
   "source": [
    "prediction = link_classification(output_dim=1,\n",
    "                                 output_act=\"sigmoid\",\n",
    "                                 edge_embedding_method=\"l1\")(x_out)"
   ]
  },
  {
   "cell_type": "code",
   "execution_count": 17,
   "id": "a49ccd38",
   "metadata": {},
   "outputs": [],
   "source": [
    "model = keras.Model(inputs=x_inp, outputs=prediction)\n",
    "\n",
    "initial_learning_rate = 0.1\n",
    "final_learning_rate = 0.00001\n",
    "learning_rate_decay_factor = (final_learning_rate / initial_learning_rate)**(1/epochs)\n",
    "steps_per_epoch = int(edge_ids_train.shape[0]/batch_size)\n",
    "\n",
    "lr_schedule = tf.keras.optimizers.schedules.ExponentialDecay(\n",
    "                initial_learning_rate=initial_learning_rate,\n",
    "                decay_steps=steps_per_epoch,\n",
    "                decay_rate=learning_rate_decay_factor,\n",
    "                staircase=True)\n",
    "\n",
    "optimizer=keras.optimizers.Adam(learning_rate=lr_schedule)\n",
    "#optimizer = mixed_precision.LossScaleOptimizer(optimizer)\n",
    "\n",
    "model.compile(\n",
    "    optimizer=optimizer,\n",
    "    loss=keras.losses.binary_crossentropy,\n",
    "    metrics=[\"AUC\"],\n",
    ")"
   ]
  },
  {
   "cell_type": "code",
   "execution_count": 18,
   "id": "90028704",
   "metadata": {},
   "outputs": [
    {
     "name": "stdout",
     "output_type": "stream",
     "text": [
      "247/247 - 5s - loss: 0.6941 - auc: 0.5213 - 5s/epoch - 19ms/step\n",
      "274/274 - 5s - loss: 0.6935 - auc: 0.5332 - 5s/epoch - 17ms/step\n",
      "\n",
      "Train Set Metrics of the initial (untrained) model:\n",
      "\tloss: 0.6941\n",
      "\tauc: 0.5213\n",
      "\n",
      "Test Set Metrics of the initial (untrained) model:\n",
      "\tloss: 0.6935\n",
      "\tauc: 0.5332\n"
     ]
    }
   ],
   "source": [
    "init_train_metrics = model.evaluate(train_flow, workers=num_workers, verbose=2)\n",
    "init_test_metrics = model.evaluate(test_flow, workers=num_workers, verbose=2)\n",
    "\n",
    "print(\"\\nTrain Set Metrics of the initial (untrained) model:\")\n",
    "for name, val in zip(model.metrics_names, init_train_metrics):\n",
    "    print(\"\\t{}: {:0.4f}\".format(name, val))\n",
    "\n",
    "print(\"\\nTest Set Metrics of the initial (untrained) model:\")\n",
    "for name, val in zip(model.metrics_names, init_test_metrics):\n",
    "    print(\"\\t{}: {:0.4f}\".format(name, val))"
   ]
  },
  {
   "cell_type": "code",
   "execution_count": 19,
   "id": "e34c9a03",
   "metadata": {
    "scrolled": true
   },
   "outputs": [
    {
     "name": "stdout",
     "output_type": "stream",
     "text": [
      "Epoch 1/50\n",
      "247/247 - 18s - loss: 0.6238 - auc: 0.6962 - val_loss: 0.5505 - val_auc: 0.7833 - 18s/epoch - 72ms/step\n",
      "Epoch 2/50\n",
      "247/247 - 15s - loss: 0.5731 - auc: 0.7625 - val_loss: 0.5168 - val_auc: 0.8254 - 15s/epoch - 60ms/step\n",
      "Epoch 3/50\n",
      "247/247 - 14s - loss: 0.5534 - auc: 0.7839 - val_loss: 0.4898 - val_auc: 0.8432 - 14s/epoch - 56ms/step\n",
      "Epoch 4/50\n",
      "247/247 - 14s - loss: 0.5341 - auc: 0.8036 - val_loss: 0.4744 - val_auc: 0.8566 - 14s/epoch - 57ms/step\n",
      "Epoch 5/50\n",
      "247/247 - 14s - loss: 0.5238 - auc: 0.8134 - val_loss: 0.4647 - val_auc: 0.8628 - 14s/epoch - 57ms/step\n",
      "Epoch 6/50\n",
      "247/247 - 17s - loss: 0.5151 - auc: 0.8207 - val_loss: 0.4548 - val_auc: 0.8673 - 17s/epoch - 67ms/step\n",
      "Epoch 7/50\n",
      "247/247 - 15s - loss: 0.5101 - auc: 0.8254 - val_loss: 0.4453 - val_auc: 0.8745 - 15s/epoch - 60ms/step\n",
      "Epoch 8/50\n",
      "247/247 - 15s - loss: 0.5009 - auc: 0.8327 - val_loss: 0.4395 - val_auc: 0.8775 - 15s/epoch - 59ms/step\n",
      "Epoch 9/50\n",
      "247/247 - 15s - loss: 0.4991 - auc: 0.8344 - val_loss: 0.4342 - val_auc: 0.8811 - 15s/epoch - 60ms/step\n",
      "Epoch 10/50\n",
      "247/247 - 14s - loss: 0.4948 - auc: 0.8373 - val_loss: 0.4269 - val_auc: 0.8856 - 14s/epoch - 58ms/step\n",
      "Epoch 11/50\n",
      "247/247 - 14s - loss: 0.4909 - auc: 0.8405 - val_loss: 0.4241 - val_auc: 0.8861 - 14s/epoch - 58ms/step\n",
      "Epoch 12/50\n",
      "247/247 - 15s - loss: 0.4857 - auc: 0.8445 - val_loss: 0.4219 - val_auc: 0.8879 - 15s/epoch - 60ms/step\n",
      "Epoch 13/50\n",
      "247/247 - 17s - loss: 0.4857 - auc: 0.8442 - val_loss: 0.4183 - val_auc: 0.8902 - 17s/epoch - 67ms/step\n",
      "Epoch 14/50\n",
      "247/247 - 15s - loss: 0.4828 - auc: 0.8466 - val_loss: 0.4171 - val_auc: 0.8906 - 15s/epoch - 60ms/step\n",
      "Epoch 15/50\n",
      "247/247 - 15s - loss: 0.4801 - auc: 0.8486 - val_loss: 0.4162 - val_auc: 0.8910 - 15s/epoch - 60ms/step\n",
      "Epoch 16/50\n",
      "247/247 - 14s - loss: 0.4794 - auc: 0.8493 - val_loss: 0.4109 - val_auc: 0.8943 - 14s/epoch - 59ms/step\n",
      "Epoch 17/50\n",
      "247/247 - 15s - loss: 0.4734 - auc: 0.8538 - val_loss: 0.4118 - val_auc: 0.8936 - 15s/epoch - 60ms/step\n",
      "Epoch 18/50\n",
      "247/247 - 16s - loss: 0.4743 - auc: 0.8530 - val_loss: 0.4117 - val_auc: 0.8936 - 16s/epoch - 66ms/step\n",
      "Epoch 19/50\n",
      "247/247 - 17s - loss: 0.4762 - auc: 0.8515 - val_loss: 0.4088 - val_auc: 0.8954 - 17s/epoch - 70ms/step\n",
      "Epoch 20/50\n",
      "247/247 - 15s - loss: 0.4723 - auc: 0.8543 - val_loss: 0.4069 - val_auc: 0.8964 - 15s/epoch - 61ms/step\n",
      "Epoch 21/50\n",
      "247/247 - 15s - loss: 0.4720 - auc: 0.8545 - val_loss: 0.4084 - val_auc: 0.8951 - 15s/epoch - 61ms/step\n",
      "Epoch 22/50\n",
      "247/247 - 15s - loss: 0.4695 - auc: 0.8561 - val_loss: 0.4082 - val_auc: 0.8952 - 15s/epoch - 59ms/step\n",
      "Epoch 23/50\n",
      "247/247 - 15s - loss: 0.4743 - auc: 0.8530 - val_loss: 0.4104 - val_auc: 0.8945 - 15s/epoch - 60ms/step\n",
      "Epoch 24/50\n",
      "247/247 - 15s - loss: 0.4712 - auc: 0.8550 - val_loss: 0.4060 - val_auc: 0.8967 - 15s/epoch - 60ms/step\n",
      "Epoch 25/50\n",
      "247/247 - 12s - loss: 0.4712 - auc: 0.8551 - val_loss: 0.4064 - val_auc: 0.8963 - 12s/epoch - 47ms/step\n",
      "Epoch 26/50\n",
      "247/247 - 15s - loss: 0.4717 - auc: 0.8547 - val_loss: 0.4080 - val_auc: 0.8955 - 15s/epoch - 62ms/step\n",
      "Epoch 27/50\n",
      "247/247 - 15s - loss: 0.4722 - auc: 0.8547 - val_loss: 0.4073 - val_auc: 0.8961 - 15s/epoch - 59ms/step\n",
      "Epoch 28/50\n",
      "247/247 - 15s - loss: 0.4681 - auc: 0.8569 - val_loss: 0.4054 - val_auc: 0.8974 - 15s/epoch - 61ms/step\n",
      "Epoch 29/50\n",
      "247/247 - 14s - loss: 0.4661 - auc: 0.8585 - val_loss: 0.4067 - val_auc: 0.8960 - 14s/epoch - 58ms/step\n",
      "Epoch 30/50\n",
      "247/247 - 14s - loss: 0.4680 - auc: 0.8576 - val_loss: 0.4074 - val_auc: 0.8958 - 14s/epoch - 58ms/step\n",
      "Epoch 31/50\n",
      "247/247 - 14s - loss: 0.4680 - auc: 0.8571 - val_loss: 0.4063 - val_auc: 0.8967 - 14s/epoch - 58ms/step\n",
      "Epoch 32/50\n",
      "247/247 - 16s - loss: 0.4674 - auc: 0.8576 - val_loss: 0.4068 - val_auc: 0.8964 - 16s/epoch - 66ms/step\n",
      "Epoch 33/50\n",
      "247/247 - 15s - loss: 0.4684 - auc: 0.8567 - val_loss: 0.4058 - val_auc: 0.8969 - 15s/epoch - 61ms/step\n",
      "Epoch 34/50\n",
      "247/247 - 15s - loss: 0.4683 - auc: 0.8574 - val_loss: 0.4052 - val_auc: 0.8972 - 15s/epoch - 61ms/step\n",
      "Epoch 35/50\n",
      "247/247 - 15s - loss: 0.4710 - auc: 0.8553 - val_loss: 0.4064 - val_auc: 0.8964 - 15s/epoch - 62ms/step\n",
      "Epoch 36/50\n",
      "247/247 - 15s - loss: 0.4708 - auc: 0.8553 - val_loss: 0.4072 - val_auc: 0.8960 - 15s/epoch - 61ms/step\n",
      "Epoch 37/50\n",
      "247/247 - 15s - loss: 0.4705 - auc: 0.8557 - val_loss: 0.4066 - val_auc: 0.8965 - 15s/epoch - 61ms/step\n",
      "Epoch 38/50\n",
      "247/247 - 11s - loss: 0.4681 - auc: 0.8575 - val_loss: 0.4047 - val_auc: 0.8975 - 11s/epoch - 43ms/step\n",
      "Epoch 39/50\n",
      "247/247 - 17s - loss: 0.4698 - auc: 0.8563 - val_loss: 0.4075 - val_auc: 0.8959 - 17s/epoch - 68ms/step\n",
      "Epoch 40/50\n",
      "247/247 - 20s - loss: 0.4714 - auc: 0.8549 - val_loss: 0.4077 - val_auc: 0.8959 - 20s/epoch - 83ms/step\n",
      "Epoch 41/50\n",
      "247/247 - 15s - loss: 0.4692 - auc: 0.8567 - val_loss: 0.4057 - val_auc: 0.8968 - 15s/epoch - 63ms/step\n",
      "Epoch 42/50\n",
      "247/247 - 15s - loss: 0.4685 - auc: 0.8572 - val_loss: 0.4064 - val_auc: 0.8965 - 15s/epoch - 61ms/step\n",
      "Epoch 43/50\n",
      "247/247 - 15s - loss: 0.4670 - auc: 0.8581 - val_loss: 0.4082 - val_auc: 0.8953 - 15s/epoch - 61ms/step\n",
      "Epoch 44/50\n",
      "247/247 - 15s - loss: 0.4674 - auc: 0.8580 - val_loss: 0.4073 - val_auc: 0.8961 - 15s/epoch - 60ms/step\n",
      "Epoch 45/50\n",
      "247/247 - 16s - loss: 0.4717 - auc: 0.8548 - val_loss: 0.4052 - val_auc: 0.8970 - 16s/epoch - 65ms/step\n",
      "Epoch 46/50\n",
      "247/247 - 15s - loss: 0.4679 - auc: 0.8576 - val_loss: 0.4053 - val_auc: 0.8969 - 15s/epoch - 59ms/step\n",
      "Epoch 47/50\n",
      "247/247 - 16s - loss: 0.4712 - auc: 0.8550 - val_loss: 0.4058 - val_auc: 0.8968 - 16s/epoch - 64ms/step\n",
      "Epoch 48/50\n",
      "247/247 - 11s - loss: 0.4686 - auc: 0.8565 - val_loss: 0.4073 - val_auc: 0.8959 - 11s/epoch - 43ms/step\n"
     ]
    }
   ],
   "source": [
    "callbacks = keras.callbacks.EarlyStopping(monitor=\"val_loss\",\n",
    "                                          patience=10,\n",
    "                                          mode=\"auto\",\n",
    "                                          restore_best_weights=True)\n",
    "\n",
    "history = model.fit(train_flow,\n",
    "                    epochs=epochs,\n",
    "                    workers=num_workers,\n",
    "                    validation_data=test_flow,\n",
    "                    verbose=2,\n",
    "                    callbacks=[callbacks],\n",
    "                    validation_split=0.0,\n",
    "                    shuffle=True\n",
    "                   )"
   ]
  },
  {
   "cell_type": "code",
   "execution_count": 20,
   "id": "a727f52e",
   "metadata": {
    "scrolled": true
   },
   "outputs": [
    {
     "data": {
      "image/png": "[encoded data removed]",
      "text/plain": [
       "<Figure size 700x800 with 2 Axes>"
      ]
     },
     "metadata": {},
     "output_type": "display_data"
    }
   ],
   "source": [
    "sg.utils.plot_history(history)"
   ]
  },
  {
   "cell_type": "code",
   "execution_count": 21,
   "id": "1fd3266a",
   "metadata": {
    "scrolled": false
   },
   "outputs": [
    {
     "name": "stdout",
     "output_type": "stream",
     "text": [
      "247/247 - 4s - loss: 0.4064 - auc: 0.8977 - 4s/epoch - 16ms/step\n",
      "274/274 - 6s - loss: 0.4085 - auc: 0.8953 - 6s/epoch - 23ms/step\n",
      "\n",
      "Train Set Metrics of the trained model:\n",
      "\tloss: 0.4064\n",
      "\tauc: 0.8977\n",
      "\n",
      "Test Set Metrics of the trained model:\n",
      "\tloss: 0.4085\n",
      "\tauc: 0.8953\n"
     ]
    }
   ],
   "source": [
    "train_metrics = model.evaluate(train_flow, verbose=2)\n",
    "test_metrics = model.evaluate(test_flow, verbose=2)\n",
    "\n",
    "print(\"\\nTrain Set Metrics of the trained model:\")\n",
    "for name, val in zip(model.metrics_names, train_metrics):\n",
    "    print(\"\\t{}: {:0.4f}\".format(name, val))\n",
    "\n",
    "print(\"\\nTest Set Metrics of the trained model:\")\n",
    "for name, val in zip(model.metrics_names, test_metrics):\n",
    "    print(\"\\t{}: {:0.4f}\".format(name, val))"
   ]
  },
  {
   "cell_type": "code",
   "execution_count": 22,
   "id": "39a63722",
   "metadata": {},
   "outputs": [],
   "source": [
    "test_pred = HinSAGELinkGenerator(G,\n",
    "                                 batch_size=128,\n",
    "                                num_samples=num_samples,\n",
    "                                head_node_types=[\"molecule\", \"species\"]).flow(edge_ids_test, edge_labels_test)"
   ]
  },
  {
   "cell_type": "code",
   "execution_count": 23,
   "id": "d59e7dbc",
   "metadata": {
    "scrolled": true
   },
   "outputs": [
    {
     "name": "stdout",
     "output_type": "stream",
     "text": [
      "548/548 [==============================] - 6s 10ms/step\n"
     ]
    }
   ],
   "source": [
    "predictions = model.predict(test_pred, workers=3)"
   ]
  },
  {
   "cell_type": "code",
   "execution_count": 24,
   "id": "769c15a5",
   "metadata": {},
   "outputs": [],
   "source": [
    "predictions = predictions.flatten()"
   ]
  },
  {
   "cell_type": "code",
   "execution_count": 25,
   "id": "68b35e84",
   "metadata": {},
   "outputs": [],
   "source": [
    "test = predictions[(predictions>0.9) | (predictions<0.1)]\n",
    "test = test>0.5"
   ]
  },
  {
   "cell_type": "code",
   "execution_count": 26,
   "id": "8c10314e",
   "metadata": {},
   "outputs": [],
   "source": [
    "test = test.astype('int8')"
   ]
  },
  {
   "cell_type": "code",
   "execution_count": 27,
   "id": "7db6b010",
   "metadata": {
    "scrolled": true
   },
   "outputs": [
    {
     "data": {
      "text/plain": [
       "(array([15279.,  5614.,  4164.,  3663.,  3589.,  4017.,  4681.,  6030.,\n",
       "         9265., 13788.]),\n",
       " array([0.0011205 , 0.10089559, 0.20067067, 0.30044577, 0.40022087,\n",
       "        0.49999595, 0.59977102, 0.6995461 , 0.79932123, 0.89909631,\n",
       "        0.99887139]),\n",
       " <BarContainer object of 10 artists>)"
      ]
     },
     "execution_count": 27,
     "metadata": {},
     "output_type": "execute_result"
    },
    {
     "data": {
      "image/png": "[encoded data removed]",
      "text/plain": [
       "<Figure size 640x480 with 1 Axes>"
      ]
     },
     "metadata": {},
     "output_type": "display_data"
    }
   ],
   "source": [
    "plt.hist(predictions)"
   ]
  },
  {
   "cell_type": "code",
   "execution_count": 28,
   "id": "cfacbdfb",
   "metadata": {},
   "outputs": [
    {
     "data": {
      "text/plain": [
       "(array([    1,     2,     4, ..., 70079, 70086, 70088]),)"
      ]
     },
     "execution_count": 28,
     "metadata": {},
     "output_type": "execute_result"
    }
   ],
   "source": [
    "np.where((predictions>0.9) | (predictions<0.1))"
   ]
  },
  {
   "cell_type": "code",
   "execution_count": 29,
   "id": "df2f017e",
   "metadata": {
    "scrolled": true
   },
   "outputs": [
    {
     "data": {
      "text/plain": [
       "0.9643005540166205"
      ]
     },
     "execution_count": 29,
     "metadata": {},
     "output_type": "execute_result"
    }
   ],
   "source": [
    "sum(test == edge_labels_test[np.where((predictions>0.9) | (predictions<0.1))])/len(test)"
   ]
  },
  {
   "cell_type": "code",
   "execution_count": 30,
   "id": "0c82ada5",
   "metadata": {},
   "outputs": [
    {
     "data": {
      "text/plain": [
       "0.41204166072192894"
      ]
     },
     "execution_count": 30,
     "metadata": {},
     "output_type": "execute_result"
    }
   ],
   "source": [
    "len(test)/len(predictions)"
   ]
  },
  {
   "cell_type": "code",
   "execution_count": 31,
   "id": "b9ae1305",
   "metadata": {},
   "outputs": [],
   "source": [
    "finaly_test = np.array(list(zip(df_agg.structure_smiles_2D[:1000],df_agg.organism_name[::-1][:1000])))"
   ]
  },
  {
   "cell_type": "code",
   "execution_count": 32,
   "id": "e93a816d",
   "metadata": {},
   "outputs": [],
   "source": [
    "final_test = HinSAGELinkGenerator(G,\n",
    "                                batch_size=128,\n",
    "                                num_samples=num_samples,\n",
    "                                head_node_types=[\"molecule\", \"species\"]).flow(finaly_test, np.ones(len(finaly_test)).reshape(-1, 1))"
   ]
  },
  {
   "cell_type": "code",
   "execution_count": 33,
   "id": "907ac477",
   "metadata": {
    "scrolled": true
   },
   "outputs": [
    {
     "name": "stdout",
     "output_type": "stream",
     "text": [
      "8/8 [==============================] - 0s 8ms/step\n"
     ]
    }
   ],
   "source": [
    "res = model.predict(final_test).flatten()"
   ]
  },
  {
   "cell_type": "code",
   "execution_count": 34,
   "id": "2390a03a",
   "metadata": {
    "scrolled": false
   },
   "outputs": [
    {
     "data": {
      "text/plain": [
       "array([0.914911  , 0.96466744, 0.9374969 , 0.9236827 , 0.90433186,\n",
       "       0.9235681 , 0.9320158 , 0.9041375 , 0.91655546, 0.91927683,\n",
       "       0.9408582 , 0.9403737 , 0.9059589 , 0.9007321 , 0.9264311 ,\n",
       "       0.90208715, 0.91879725, 0.9608725 , 0.9277797 , 0.9443395 ,\n",
       "       0.9701238 , 0.9368689 , 0.9076524 , 0.95031947, 0.9815334 ,\n",
       "       0.9121501 , 0.97862005, 0.9655075 , 0.92388797, 0.9680367 ,\n",
       "       0.93185   , 0.9517224 , 0.9521613 , 0.95307195, 0.92093045,\n",
       "       0.90350294, 0.9667944 , 0.9257951 , 0.9175781 , 0.9422196 ,\n",
       "       0.94713116, 0.9371574 , 0.9353159 , 0.97187304, 0.92666245,\n",
       "       0.9914796 , 0.9292204 , 0.9826276 , 0.94948685, 0.92345   ,\n",
       "       0.9391552 , 0.9137295 , 0.90460956, 0.97498953, 0.90701294,\n",
       "       0.92774343, 0.9537543 , 0.91858894, 0.91871905, 0.96068835,\n",
       "       0.9127828 , 0.90245444, 0.91478497, 0.9055509 , 0.94393116,\n",
       "       0.9257784 , 0.9311862 , 0.9083558 , 0.9440358 , 0.93427205,\n",
       "       0.9178967 , 0.92116994], dtype=float32)"
      ]
     },
     "execution_count": 34,
     "metadata": {},
     "output_type": "execute_result"
    }
   ],
   "source": [
    "res[res>0.9]"
   ]
  },
  {
   "cell_type": "code",
   "execution_count": 35,
   "id": "b7b9fd74",
   "metadata": {
    "scrolled": true
   },
   "outputs": [
    {
     "data": {
      "text/plain": [
       "0.072"
      ]
     },
     "execution_count": 35,
     "metadata": {},
     "output_type": "execute_result"
    }
   ],
   "source": [
    "len(res[res>0.9])/len(res)"
   ]
  },
  {
   "cell_type": "code",
   "execution_count": 58,
   "id": "4b0a46d5",
   "metadata": {},
   "outputs": [
    {
     "data": {
      "text/plain": [
       "(array([ 61.,  75.,  75.,  73.,  81., 123., 115., 130., 181.,  86.]),\n",
       " array([0.01397435, 0.11172488, 0.2094754 , 0.30722591, 0.40497643,\n",
       "        0.50272697, 0.60047746, 0.698228  , 0.79597855, 0.89372903,\n",
       "        0.99147958]),\n",
       " <BarContainer object of 10 artists>)"
      ]
     },
     "execution_count": 58,
     "metadata": {},
     "output_type": "execute_result"
    },
    {
     "data": {
      "image/png": "[encoded data removed]",
      "text/plain": [
       "<Figure size 640x480 with 1 Axes>"
      ]
     },
     "metadata": {},
     "output_type": "display_data"
    }
   ],
   "source": [
    "plt.hist(res)"
   ]
  },
  {
   "cell_type": "code",
   "execution_count": 36,
   "id": "38815bce",
   "metadata": {},
   "outputs": [
    {
     "data": {
      "text/plain": [
       "array([['CC1OC(OCC2OC(Oc3c(-c4ccc(O)c(O)c4)oc4cc(O)cc(O)c4c3=O)C(O)C(O)C2O)C(O)C(O)C1O',\n",
       "        'Zygophyllum simplex'],\n",
       "       ['O=C(O)C1OC(Oc2c(O)cc(O)c3c(=O)c(O)c(-c4ccc(O)c(O)c4)oc23)C(O)C(O)C1O',\n",
       "        'Zygophyllum simplex'],\n",
       "       ['CC1(C)C2CC3C(C2)C31C', 'Zygophyllum album'],\n",
       "       ['CC12CCC(C1)C(C)(C)C2=O', 'Zygophyllum album'],\n",
       "       ['COc1cc(-c2oc3cc(O)cc(O)c3c(=O)c2OC2OC(COC3OC(C)C(O)C(O)C3O)C(O)C(O)C2O)cc(OC)c1O',\n",
       "        'Zuccagnia punctata'],\n",
       "       ['CC(=O)OC1CC2CCC1(C)C2(C)C', 'Zostera marina'],\n",
       "       ['CCC(CCC(C)C1CCC2C3CC=C4CC(O)CCC4(C)C3CCC12C)C(C)C',\n",
       "        'Zosima korovinii'],\n",
       "       ['NC(CCC(=O)O)C(=O)O', 'Zopfiella marina'],\n",
       "       ['CC(C)(O)C1CC=C(C(=O)O)CC1', 'Zootermopsis angusticollis'],\n",
       "       ['C=C1CCC=C(C)CCC2C1CC2(C)C', 'Zoegea baldschuanica'],\n",
       "       ['CCC(CCC(C)C1CCC2C3CC=C4CC(O)CCC4(C)C3CCC12C)C(C)C',\n",
       "        'Zizyphus vulgaris'],\n",
       "       ['CCC(CCC(C)C1CCC2C3CC=C4CC(OC5OC(CO)C(O)C(O)C5O)CCC4(C)C3CCC12C)C(C)C',\n",
       "        'Ziziphus spina-christi'],\n",
       "       ['C=C1CCC2CC1C2(C)C', 'Ziziphus spina-christi'],\n",
       "       ['C=C1C2CCC(C2)C1(C)C', 'Ziziphus lotus'],\n",
       "       ['C=C1C=CC(C(C)C)CC1', 'Ziziphus lotus'],\n",
       "       ['C=C(C)C1CC=C2C(CCC3(C)C(C(C)CC(=O)CC(C)C(=O)O)CCC23C)C1(C)CCC(=O)O',\n",
       "        'Ziziphus jujuba'],\n",
       "       ['CC1(C)C2CCC1(C)C(O)C2', 'Ziziphus'],\n",
       "       ['CC1=C(C)C2CCC1C2', 'Ziziphora tenuior'],\n",
       "       ['CC1=CC=C(C(C)C)CC1', 'Ziziphora tenuior'],\n",
       "       ['CC1=CCC2CC1C2(C)C', 'Ziziphora pedicellata'],\n",
       "       ['CCCCCCCCCCCCCCCCCCC', 'Ziziphora pedicellata'],\n",
       "       ['CCCCCCCCCCCCCCCCCCCCCCC', 'Ziziphora pedicellata'],\n",
       "       ['COC(=O)C1(O)C=CC(C(C)CC(=O)CC(C)C)CC1', 'Ziziphora pedicellata'],\n",
       "       ['COC(=O)C1=CCC(C(C)CC(=O)C=C(C)C)CC1', 'Ziziphora hispanica'],\n",
       "       ['COC(=O)C1=CCC(C(C)CC(=O)CC(C)(C)O)CC1', 'Ziziphora hispanica'],\n",
       "       ['COC(=O)C1=CCC(C(C)CC(=O)CC(C)C)CC1', 'Ziziphora hispanica'],\n",
       "       ['COC(=O)C1=CCC(C(C)CC=CC(C)(C)O)CC1', 'Ziziphora hispanica'],\n",
       "       ['COC(=O)c1cc(O)c(C(C)CC(=O)CC(C)C)cc1O', 'Ziziphora hispanica'],\n",
       "       ['CC(C)=CCCC(C)(O)C1CC=C(C)CC1', 'Ziziphora clinopodioides'],\n",
       "       ['CC1(C)C2CCC1(C)C(O)C2', 'Ziziphora clinopodioides'],\n",
       "       ['CC1=CCC(C(C)(C)O)CC1', 'Ziziphora clinopodioides'],\n",
       "       ['C=C(C)C1CCC(C)(O)CC1', 'Zizania latifolia'],\n",
       "       ['C=C(CCC=C(C)C)C1CC=C(C)CC1', 'Zizania aquatica'],\n",
       "       ['CC1=CCC(C(C)(C)O)CC1', 'Zinnia violacea'],\n",
       "       ['CC1=CCC(O)(C(C)C)CC1', 'Zinnia violacea'],\n",
       "       ['CC(=CCO)CCCC(C)CCCC(C)CCCC(C)C', 'Zinnia peruviana'],\n",
       "       ['CCC(CCC(C)C1CCC2C3CC=C4CC(=O)CCC4(C)C3CCC12C)C(C)C',\n",
       "        'Zinnia peruviana'],\n",
       "       ['CC(=O)OCCCC1(C)C(=C(C)C)CCC2(C)C1CCC1C(C(C)CCC=C(C)C)CCC12C',\n",
       "        'Zinnia angustifolia'],\n",
       "       ['C=C1CC23CCC4C(C)(CO)CCCC4(C)C2CCC1C3', 'Zinnia angustifolia'],\n",
       "       ['CCC(C=CC(C)C1CCC2C3CC=C4CC(O)CCC4(C)C3CCC12C)C(C)C',\n",
       "        'Zingiber zerumbet'],\n",
       "       ['CCC=CCC=CCC=CCCCCCCCC(=O)O', 'Zingiber zerumbet'],\n",
       "       ['CCCCCCCCC=CCCCCCCCC(=O)O', 'Zingiber zerumbet'],\n",
       "       ['CCCCCCCCC1CC1CCCCCCC(=O)O', 'Zingiber purpureum'],\n",
       "       ['C=C1CCC=C(C)CCC2C1CC2(C)C', 'Zingiber purpureum'],\n",
       "       ['CCCCCCCCCCCCCCCCCCCCCCC', 'Zingiber purpureum'],\n",
       "       ['CCCCCCCCCCCCCCCCCCCCCCCCCC', 'Zingiber purpureum'],\n",
       "       ['CCCCCCCCCCCCCCCCCCCCCCCCCCC', 'Zingiber purpureum'],\n",
       "       ['CCCCCCCCCCCCCCCCCCCCCCCCCCCC', 'Zingiber purpureum'],\n",
       "       ['CCCCCCCCCCCCCCCCCCCCCCCCCCCCCC', 'Zingiber purpureum'],\n",
       "       ['COc1cc(C(=O)O)ccc1O', 'Zingiber purpureum'],\n",
       "       ['O=C(O)C=Cc1ccc(O)c(O)c1', 'Zingiber purpureum'],\n",
       "       ['O=C(O)C=Cc1ccc(O)cc1', 'Zingiber purpureum'],\n",
       "       ['O=C(O)c1ccc(O)cc1', 'Zingiber purpureum'],\n",
       "       ['CCC(CCC(C)C1CCC2C3CC=C4CC(O)CCC4(C)C3CCC12C)C(C)C',\n",
       "        'Zingiber purpureum'],\n",
       "       ['COc1cc(C=CC(=O)O)ccc1O', 'Zingiber purpureum'],\n",
       "       ['CCCCCCCCCCCCCC(=O)O', 'Zingiber purpureum'],\n",
       "       ['CCCCCCCCCCCCCCCCCC(=O)O', 'Zingiber purpureum'],\n",
       "       ['O=c1c(O)c(-c2ccc(O)cc2)oc2c(O)c(O)ccc12', 'Zingiber purpureum'],\n",
       "       ['NCCc1ccc(O)cc1', 'Zingiber ottensii'],\n",
       "       ['CC1(C)CCC2(C(=O)O)CCC3(C)C(=CCC4C5(C)CCC(O)C(C)(CO)C5CCC43C)C2C1',\n",
       "        'Zingiber ottensii'],\n",
       "       ['O=C(OC1Cc2c(O)cc(O)cc2OC1c1ccc(O)c(O)c1)c1cc(O)c(O)c(O)c1',\n",
       "        'Zingiber ottensii'],\n",
       "       ['Oc1cc(O)c2c(c1)OC(c1ccc(O)c(O)c1)C(O)C2', 'Zingiber ottensii'],\n",
       "       ['CCC(C=CC(C)C1CCC2C3=CCC4CC(O)CCC4(C)C3CCC21C)C(C)C',\n",
       "        'Zingiber ottensii'],\n",
       "       ['CCCCCCCCC=CCCCCCCCC(=O)O', 'Zingiber ottensii'],\n",
       "       ['CCCCCCCCCCCCCC=CC=CC(=O)O', 'Zingiber officinale'],\n",
       "       ['O=C(OC1Cc2c(O)cc(O)cc2OC1c1ccc(O)c(O)c1)c1cc(O)c(O)c(O)c1',\n",
       "        'Zingiber officinale'],\n",
       "       ['Oc1cc(O)c2c(c1)OC(c1cc(O)c(O)c(O)c1)C(O)C2',\n",
       "        'Zingiber officinale'],\n",
       "       ['CC1OC(OCC2OC(Oc3c(-c4ccc(O)c(O)c4)oc4cc(O)cc(O)c4c3=O)C(O)C(O)C2O)C(O)C(O)C1O',\n",
       "        'Zingiber officinale'],\n",
       "       ['CC1OC(OCC2OC(Oc3c(-c4ccc(O)cc4)oc4cc(O)cc(O)c4c3=O)C(O)C(O)C2O)C(O)C(O)C1O',\n",
       "        'Zingiber officinale'],\n",
       "       ['Oc1cc(O)c2c(c1)OC(c1cc(O)c(O)c(O)c1)C(O)C2',\n",
       "        'Zingiber officinale'],\n",
       "       ['COc1cc(OC)c2c(c1)OC(c1ccc(OC)c(OC)c1)C(O)C2=O',\n",
       "        'Zingiber officinale'],\n",
       "       ['O=c1c(O)c(-c2ccc(O)c(O)c2)oc2cc(O)ccc12', 'Zingiber officinale']],\n",
       "      dtype='<U158')"
      ]
     },
     "execution_count": 36,
     "metadata": {},
     "output_type": "execute_result"
    }
   ],
   "source": [
    "finaly_test[res>0.9]"
   ]
  },
  {
   "cell_type": "code",
   "execution_count": 37,
   "id": "89431c57",
   "metadata": {},
   "outputs": [
    {
     "data": {
      "text/plain": [
       "(array([ 61.,  75.,  75.,  73.,  81., 123., 115., 130., 181.,  86.]),\n",
       " array([0.01397435, 0.11172488, 0.2094754 , 0.30722591, 0.40497643,\n",
       "        0.50272697, 0.60047746, 0.698228  , 0.79597855, 0.89372903,\n",
       "        0.99147958]),\n",
       " <BarContainer object of 10 artists>)"
      ]
     },
     "execution_count": 37,
     "metadata": {},
     "output_type": "execute_result"
    },
    {
     "data": {
      "image/png": "[encoded data removed]",
      "text/plain": [
       "<Figure size 640x480 with 1 Axes>"
      ]
     },
     "metadata": {},
     "output_type": "display_data"
    }
   ],
   "source": [
    "plt.hist(res)"
   ]
  },
  {
   "cell_type": "code",
   "execution_count": 38,
   "id": "7ca881bf",
   "metadata": {},
   "outputs": [],
   "source": [
    "org = df_agg.organism_name.unique()[:100]"
   ]
  },
  {
   "cell_type": "code",
   "execution_count": 39,
   "id": "29f7094c",
   "metadata": {},
   "outputs": [],
   "source": [
    "mol = df_agg.structure_smiles_2D.unique()[:1000]"
   ]
  },
  {
   "cell_type": "code",
   "execution_count": 40,
   "id": "b473b87a",
   "metadata": {},
   "outputs": [
    {
     "data": {
      "text/plain": [
       "127088"
      ]
     },
     "execution_count": 40,
     "metadata": {},
     "output_type": "execute_result"
    }
   ],
   "source": [
    "len(df_agg.structure_smiles_2D.unique())"
   ]
  },
  {
   "cell_type": "code",
   "execution_count": 41,
   "id": "e992ce91",
   "metadata": {},
   "outputs": [
    {
     "data": {
      "text/plain": [
       "35286"
      ]
     },
     "execution_count": 41,
     "metadata": {},
     "output_type": "execute_result"
    }
   ],
   "source": [
    "len(df_agg.organism_name.unique())"
   ]
  },
  {
   "cell_type": "code",
   "execution_count": 42,
   "id": "dbb1a1a9",
   "metadata": {},
   "outputs": [
    {
     "name": "stdout",
     "output_type": "stream",
     "text": [
      "CPU times: user 7.98 ms, sys: 1.51 ms, total: 9.48 ms\n",
      "Wall time: 9.57 ms\n"
     ]
    }
   ],
   "source": [
    "%%time\n",
    "combinations = list(itertools.product(mol, org))"
   ]
  },
  {
   "cell_type": "code",
   "execution_count": 43,
   "id": "58d94cde",
   "metadata": {},
   "outputs": [
    {
     "name": "stdout",
     "output_type": "stream",
     "text": [
      "CPU times: user 802 µs, sys: 574 µs, total: 1.38 ms\n",
      "Wall time: 1.37 ms\n"
     ]
    }
   ],
   "source": [
    "%%time\n",
    "A1, A2 = np.meshgrid(mol, org)"
   ]
  },
  {
   "cell_type": "code",
   "execution_count": 44,
   "id": "6ee7452a",
   "metadata": {},
   "outputs": [],
   "source": [
    "df_combinations = pd.DataFrame(combinations, columns=['structure_smiles_2D', 'organism_name'])"
   ]
  },
  {
   "cell_type": "code",
   "execution_count": 45,
   "id": "2398fecf",
   "metadata": {},
   "outputs": [],
   "source": [
    "edge_test_final = df_combinations.to_numpy()"
   ]
  },
  {
   "cell_type": "code",
   "execution_count": 46,
   "id": "7ad7233a",
   "metadata": {},
   "outputs": [
    {
     "name": "stdout",
     "output_type": "stream",
     "text": [
      "CPU times: user 31.3 s, sys: 292 ms, total: 31.6 s\n",
      "Wall time: 31.7 s\n"
     ]
    }
   ],
   "source": [
    "%%time\n",
    "final_final_test = HinSAGELinkGenerator(G,\n",
    "                                batch_size=256,\n",
    "                                num_samples=num_samples,\n",
    "                                head_node_types=[\"molecule\", \"species\"]).flow(edge_test_final, np.ones(len(edge_test_final)).reshape(-1, 1))"
   ]
  },
  {
   "cell_type": "code",
   "execution_count": 47,
   "id": "55760945",
   "metadata": {
    "scrolled": false
   },
   "outputs": [
    {
     "name": "stdout",
     "output_type": "stream",
     "text": [
      "391/391 [==============================] - 6s 15ms/step\n"
     ]
    }
   ],
   "source": [
    "final_final_pred = model.predict(final_final_test).flatten()"
   ]
  },
  {
   "cell_type": "code",
   "execution_count": 48,
   "id": "6c995f65",
   "metadata": {},
   "outputs": [
    {
     "data": {
      "text/plain": [
       "100000"
      ]
     },
     "execution_count": 48,
     "metadata": {},
     "output_type": "execute_result"
    }
   ],
   "source": [
    "len(final_final_pred)"
   ]
  },
  {
   "cell_type": "code",
   "execution_count": 49,
   "id": "e602f2c0",
   "metadata": {},
   "outputs": [
    {
     "data": {
      "text/plain": [
       "10063"
      ]
     },
     "execution_count": 49,
     "metadata": {},
     "output_type": "execute_result"
    }
   ],
   "source": [
    "len(final_final_pred[final_final_pred>0.9])"
   ]
  },
  {
   "cell_type": "code",
   "execution_count": 50,
   "id": "7b0598ad",
   "metadata": {
    "scrolled": true
   },
   "outputs": [],
   "source": [
    "results = edge_test_final[final_final_pred>0.9]"
   ]
  },
  {
   "cell_type": "code",
   "execution_count": 51,
   "id": "77b0ed8c",
   "metadata": {},
   "outputs": [
    {
     "data": {
      "text/plain": [
       "array([['CC(C)=CC(O)C(O)C(C)c1ccc(C)cc1', 'Abies nebrodensis'],\n",
       "       ['CC(C)=CC(O)C(O)C(C)c1ccc(C)cc1', 'Abies nordmanniana'],\n",
       "       ['CC(C)=CC(O)C(O)C(C)c1ccc(C)cc1', 'Abies pinsapo'],\n",
       "       ['CC(C)=CC(O)C(O)C(C)c1ccc(C)cc1', 'Abies procera'],\n",
       "       ['CC(C)=CC(O)C(O)C(C)c1ccc(C)cc1', 'Abutilon grandiflorum'],\n",
       "       ['CC(C)=CC(O)C(O)C(C)c1ccc(C)cc1', 'Abutilon indicum'],\n",
       "       ['CC(C)=CC(O)C(O)C(C)c1ccc(C)cc1', 'Abutilon persicum'],\n",
       "       ['CC(=O)OC1CCC2(C)C(CCC3(C)C2CC=C2C4CC(C)(C)CCC4(C(=O)O)CCC23C)C1(C)C',\n",
       "        'Abelia'],\n",
       "       ['CC(=O)OC1CCC2(C)C(CCC3(C)C2CC=C2C4CC(C)(C)CCC4(C(=O)O)CCC23C)C1(C)C',\n",
       "        'Abroma augustum'],\n",
       "       ['CC1(C)CCC2(C)CC=C3C(C)(CCC4C3(C)CCC3C(C)(C)C(=O)CCC34C)C2C1',\n",
       "        'Abies sachalinensis'],\n",
       "       ['CN1CC(O)CC1C(=O)O', 'Abrotanella forsteroides'],\n",
       "       ['CN1CC(O)CC1C(=O)O', 'Acacia angustissima'],\n",
       "       ['COC(=O)C12CCC(C)(C)CC1C1=CCC3C4(C)CCC(OC(C)=O)C(C)(C)C4CCC3(C)C1(C)CC2',\n",
       "        'Abelmoschus esculentus'],\n",
       "       ['COC(=O)C12CCC(C)(C)CC1C1=CCC3C4(C)CCC(OC(C)=O)C(C)(C)C4CCC3(C)C1(C)CC2',\n",
       "        'Abies sachalinensis'],\n",
       "       ['COC(=O)C12CCC(C)(C)CC1C1=CCC3C4(C)CCC(OC(C)=O)C(C)(C)C4CCC3(C)C1(C)CC2',\n",
       "        'Abies sachalinensis var. gracilis'],\n",
       "       ['COC(=O)C12CCC(C)(C)CC1C1=CCC3C4(C)CCC(OC(C)=O)C(C)(C)C4CCC3(C)C1(C)CC2',\n",
       "        'Abies sibirica'],\n",
       "       ['COC(=O)C12CCC(C)(C)CC1C1=CCC3C4(C)CCC(OC(C)=O)C(C)(C)C4CCC3(C)C1(C)CC2',\n",
       "        'Abies veitchii'],\n",
       "       ['COC(=O)C12CCC(C)(C)CC1C1=CCC3C4(C)CCC(OC(C)=O)C(C)(C)C4CCC3(C)C1(C)CC2',\n",
       "        'Abutilon grandiflorum'],\n",
       "       ['COC(=O)CCC(=O)OCC=C(C)CCC1C(C)=CCC2C(C)(CO)CC(O)CC12C',\n",
       "        'Abrotanella forsteroides'],\n",
       "       ['C=C(C)C(C=CC(C)C1CC=C2C3=CC=C4CC(O)CCC4(C)C3CCC21C)CC',\n",
       "        'Abies chensiensis'],\n",
       "       ['C=C(C)C(C=CC(C)C1CC=C2C3=CC=C4CC(O)CCC4(C)C3CCC21C)CC',\n",
       "        'Abies grandis'],\n",
       "       ['C=C(C)C(C=CC(C)C1CC=C2C3=CC=C4CC(O)CCC4(C)C3CCC21C)CC',\n",
       "        'Abies holophylla'],\n",
       "       ['C=C(C)C(C=CC(C)C1CC=C2C3=CC=C4CC(O)CCC4(C)C3CCC21C)CC',\n",
       "        'Abies mariesii'],\n",
       "       ['C=C(C)C(C=CC(C)C1CC=C2C3=CC=C4CC(O)CCC4(C)C3CCC21C)CC',\n",
       "        'Abies nebrodensis'],\n",
       "       ['C=C(C)C(C=CC(C)C1CC=C2C3=CC=C4CC(O)CCC4(C)C3CCC21C)CC',\n",
       "        'Abies pindrow'],\n",
       "       ['C=C(C)C(C=CC(C)C1CCC2C3=CC=C4CC(O)CCC4(C)C3CCC21C)CC',\n",
       "        'Aaptos aaptos'],\n",
       "       ['C=C(C)C(C=CC(C)C1CCC2C3=CC=C4CC(O)CCC4(C)C3CCC21C)CC',\n",
       "        'Aaptos ciliata'],\n",
       "       ['C=C(C)C(C=CC(C)C1CCC2C3=CC=C4CC(O)CCC4(C)C3CCC21C)CC',\n",
       "        'Abedus herberti'],\n",
       "       ['C=C(C)C(C=CC(C)C1CCC2C3=CC=C4CC(O)CCC4(C)C3CCC21C)CC',\n",
       "        'Abies balsamea'],\n",
       "       ['C=C(C)C(C=CC(C)C1CCC2C3=CC=C4CC(O)CCC4(C)C3CCC21C)CC',\n",
       "        'Abies chensiensis'],\n",
       "       ['C=C(C)C(C=CC(C)C1CCC2C3=CC=C4CC(O)CCC4(C)C3CCC21C)CC',\n",
       "        'Abies firma'],\n",
       "       ['C=C(C)C(C=CC(C)C1CCC2C3=CC=C4CC(O)CCC4(C)C3CCC21C)CC',\n",
       "        'Abies mariesii'],\n",
       "       ['C=C(C)C(C=CC(C)C1CCC2C3=CC=C4CC(O)CCC4(C)C3CCC21C)CC',\n",
       "        'Abies nebrodensis'],\n",
       "       ['C=C(C)C(C=CC(C)C1CCC2C3=CC=C4CC(O)CCC4(C)C3CCC21C)CC',\n",
       "        'Abies sachalinensis var. gracilis'],\n",
       "       ['C=C(C)C(C=CC(C)C1CCC2C3=CC=C4CC(O)CCC4(C)C3CCC21C)CC',\n",
       "        'Abies sibirica'],\n",
       "       ['C=C(C)C(C=CC(C)C1CCC2C3=CC=C4CC(O)CCC4(C)C3CCC21C)CC',\n",
       "        'Abies veitchii'],\n",
       "       ['C=C(C)C(C=CC(C)C1CCC2C3=CC=C4CC(O)CCC4(C)C3CCC21C)CC',\n",
       "        'Abietinella abietina'],\n",
       "       ['C=C(C)C(C=CC(C)C1CCC2C3=CC=C4CC(O)CCC4(C)C3CCC21C)CC',\n",
       "        'Abuta velutina'],\n",
       "       ['CC(C)C(C)C1(C)CC1C(C)C1CCC2C3=CCC4CC(O)CCC4(C)C3CCC21C',\n",
       "        'Aaptos ciliata'],\n",
       "       ['CC(C)C(C)C1(C)CC1C(C)C1CCC2C3=CCC4CC(O)CCC4(C)C3CCC21C',\n",
       "        'Abedus herberti'],\n",
       "       ['CC(C)C(C)C=CC(C)C1CCC2C3=CCC4CC(O)CCC4(C)C3CCC21C',\n",
       "        'Abies alba'],\n",
       "       ['CC(C)C(C)C=CC(C)C1CCC2C3=CCC4CC(O)CCC4(C)C3CCC21C',\n",
       "        'Abies cilicica'],\n",
       "       ['CC(C)C(C)C=CC(C)C1CCC2C3=CCC4CC(O)CCC4(C)C3CCC21C',\n",
       "        'Abies concolor'],\n",
       "       ['CC(C)C(C)C=CC(C)C1CCC2C3=CCC4CC(O)CCC4(C)C3CCC21C',\n",
       "        'Abies firma'],\n",
       "       ['CC(C)C(C)C=CC(C)C1CCC2C3=CCC4CC(O)CCC4(C)C3CCC21C',\n",
       "        'Abies procera'],\n",
       "       ['CCCCCCCCCCCCCCCCCCCCCCC(O)C(=O)NC(COC1OC(CO)C(OC2OC(CO)C(O)C(O)C2O)C(O)C1O)C(O)C(O)CCCCCCCCCCCC',\n",
       "        'Abedus herberti'],\n",
       "       ['CC(C=CC=C(C)C=CC1=C(C)CC(O)CC1(C)C)=CC=CC=C(C)C=CC=C(C)C=CC1=C(C)CC(O)CC1(C)C',\n",
       "        'Abies balsamea'],\n",
       "       ['CC(C=CC=C(C)C=CC1=C(C)CC(O)CC1(C)C)=CC=CC=C(C)C=CC=C(C)C=CC1=C(C)CC(O)CC1(C)C',\n",
       "        'Abies concolor'],\n",
       "       ['CC(C=CC=C(C)C=CC1=C(C)CC(O)CC1(C)C)=CC=CC=C(C)C=CC=C(C)C=CC1=C(C)CC(O)CC1(C)C',\n",
       "        'Abies firma'],\n",
       "       ['CC(C=CC=C(C)C=CC1=C(C)CC(O)CC1(C)C)=CC=CC=C(C)C=CC=C(C)C=CC1=C(C)CC(O)CC1(C)C',\n",
       "        'Abies magnifica'],\n",
       "       ['CC(C=CC=C(C)C=CC1=C(C)CC(O)CC1(C)C)=CC=CC=C(C)C=CC=C(C)C=CC1=C(C)CC(O)CC1(C)C',\n",
       "        'Abies mariesii'],\n",
       "       ['CC(C=CC=C(C)C=CC1=C(C)CC(O)CC1(C)C)=CC=CC=C(C)C=CC=C(C)C=CC1=C(C)CC(O)CC1(C)C',\n",
       "        'Abies nordmanniana'],\n",
       "       ['CC(C=CC=C(C)C=CC1=C(C)CC(O)CC1(C)C)=CC=CC=C(C)C=CC=C(C)C=CC1=C(C)CC(O)CC1(C)C',\n",
       "        'Abies sachalinensis var. gracilis'],\n",
       "       ['CC(C)C(C)CCC(C)C1CCC2C3CC(O)C4=CC(=O)CCC4(C)C3CCC12C',\n",
       "        'Abies firma'],\n",
       "       ['CC(C)C(C)CCC(C)C1CCC2C3CC(O)C4=CC(=O)CCC4(C)C3CCC12C',\n",
       "        'Abies grandis'],\n",
       "       ['CC(C)C(C)CCC(C)C1CCC2C3CC(O)C4=CC(=O)CCC4(C)C3CCC12C',\n",
       "        'Abies holophylla'],\n",
       "       ['CC(C)CCCC(C)C1CCC2C3CC(O)C4=CC(=O)CCC4(C)C3CCC12C',\n",
       "        'Abedus herberti'],\n",
       "       ['CC1CCCC2=CCC3C(C3(C)C)C21C', 'Abies cilicica'],\n",
       "       ['CC1CCCC2=CCC3C(C3(C)C)C21C', 'Abies nebrodensis'],\n",
       "       ['S=C=NCc1ccccc1', 'Abies balsamea'],\n",
       "       ['S=C=NCc1ccccc1', 'Abies delavayi'],\n",
       "       ['S=C=NCc1ccccc1', 'Abies nebrodensis'],\n",
       "       ['S=C=NCc1ccccc1', 'Abies pindrow']], dtype=object)"
      ]
     },
     "execution_count": 51,
     "metadata": {},
     "output_type": "execute_result"
    }
   ],
   "source": [
    "results[10000:10100]"
   ]
  },
  {
   "cell_type": "code",
   "execution_count": 52,
   "id": "db872b12",
   "metadata": {
    "scrolled": true
   },
   "outputs": [
    {
     "data": {
      "text/html": [
       "<div>\n",
       "<style scoped>\n",
       "    .dataframe tbody tr th:only-of-type {\n",
       "        vertical-align: middle;\n",
       "    }\n",
       "\n",
       "    .dataframe tbody tr th {\n",
       "        vertical-align: top;\n",
       "    }\n",
       "\n",
       "    .dataframe thead th {\n",
       "        text-align: right;\n",
       "    }\n",
       "</style>\n",
       "<table border=\"1\" class=\"dataframe\">\n",
       "  <thead>\n",
       "    <tr style=\"text-align: right;\">\n",
       "      <th></th>\n",
       "      <th>organism_name</th>\n",
       "      <th>structure_smiles_2D</th>\n",
       "      <th>reference_wikidata</th>\n",
       "      <th>organism_taxonomy_08genus</th>\n",
       "      <th>organism_taxonomy_06family</th>\n",
       "      <th>organism_taxonomy_05order</th>\n",
       "      <th>organism_taxonomy_04class</th>\n",
       "      <th>organism_taxonomy_03phylum</th>\n",
       "      <th>organism_taxonomy_02kingdom</th>\n",
       "      <th>organism_taxonomy_01domain</th>\n",
       "      <th>structure_taxonomy_classyfire_01kingdom</th>\n",
       "      <th>structure_taxonomy_classyfire_02superclass</th>\n",
       "      <th>structure_taxonomy_classyfire_03class</th>\n",
       "      <th>structure_taxonomy_classyfire_04directparent</th>\n",
       "      <th>total_papers_molecule</th>\n",
       "      <th>total_papers_species</th>\n",
       "    </tr>\n",
       "  </thead>\n",
       "  <tbody>\n",
       "    <tr>\n",
       "      <th>0</th>\n",
       "      <td>Aaptos</td>\n",
       "      <td>COc1cc2c3c(ccnc3c1OC)NC=C2</td>\n",
       "      <td>2</td>\n",
       "      <td>Aaptos</td>\n",
       "      <td>Suberitidae</td>\n",
       "      <td>Suberitida</td>\n",
       "      <td>Demospongiae</td>\n",
       "      <td>Porifera</td>\n",
       "      <td>Metazoa</td>\n",
       "      <td>Eukaryota</td>\n",
       "      <td>Organic compounds</td>\n",
       "      <td>Organoheterocyclic compounds</td>\n",
       "      <td>Diazanaphthalenes</td>\n",
       "      <td>Naphthyridines</td>\n",
       "      <td>16</td>\n",
       "      <td>2</td>\n",
       "    </tr>\n",
       "    <tr>\n",
       "      <th>1</th>\n",
       "      <td>Aaptos aaptos</td>\n",
       "      <td>CC(C)CCCC(C)C1CCC2C3=CCC4CC(O)CCC4(C)C3CCC21C</td>\n",
       "      <td>1</td>\n",
       "      <td>Aaptos</td>\n",
       "      <td>Suberitidae</td>\n",
       "      <td>Suberitida</td>\n",
       "      <td>Demospongiae</td>\n",
       "      <td>Porifera</td>\n",
       "      <td>Metazoa</td>\n",
       "      <td>Eukaryota</td>\n",
       "      <td>Organic compounds</td>\n",
       "      <td>Lipids and lipid-like molecules</td>\n",
       "      <td>Steroids and steroid derivatives</td>\n",
       "      <td>Cholesterols and derivatives</td>\n",
       "      <td>42</td>\n",
       "      <td>38</td>\n",
       "    </tr>\n",
       "    <tr>\n",
       "      <th>2</th>\n",
       "      <td>Aaptos aaptos</td>\n",
       "      <td>CC(C)CCCC(C)C1CCC2C3CC=C4CC(O)CCC4(C)C3CCC12C</td>\n",
       "      <td>1</td>\n",
       "      <td>Aaptos</td>\n",
       "      <td>Suberitidae</td>\n",
       "      <td>Suberitida</td>\n",
       "      <td>Demospongiae</td>\n",
       "      <td>Porifera</td>\n",
       "      <td>Metazoa</td>\n",
       "      <td>Eukaryota</td>\n",
       "      <td>Organic compounds</td>\n",
       "      <td>Lipids and lipid-like molecules</td>\n",
       "      <td>Steroids and steroid derivatives</td>\n",
       "      <td>Cholesterols and derivatives</td>\n",
       "      <td>585</td>\n",
       "      <td>38</td>\n",
       "    </tr>\n",
       "    <tr>\n",
       "      <th>3</th>\n",
       "      <td>Aaptos aaptos</td>\n",
       "      <td>CC(C)CCCC(C)C1CCC2C3CCC4CC(O)CCC4(C)C3CCC12C</td>\n",
       "      <td>1</td>\n",
       "      <td>Aaptos</td>\n",
       "      <td>Suberitidae</td>\n",
       "      <td>Suberitida</td>\n",
       "      <td>Demospongiae</td>\n",
       "      <td>Porifera</td>\n",
       "      <td>Metazoa</td>\n",
       "      <td>Eukaryota</td>\n",
       "      <td>Organic compounds</td>\n",
       "      <td>Lipids and lipid-like molecules</td>\n",
       "      <td>Steroids and steroid derivatives</td>\n",
       "      <td>Cholesterols and derivatives</td>\n",
       "      <td>94</td>\n",
       "      <td>38</td>\n",
       "    </tr>\n",
       "    <tr>\n",
       "      <th>4</th>\n",
       "      <td>Aaptos aaptos</td>\n",
       "      <td>COC1=Cc2ccnc3c2C1(O)C(CC(C)=O)=NC=C3</td>\n",
       "      <td>1</td>\n",
       "      <td>Aaptos</td>\n",
       "      <td>Suberitidae</td>\n",
       "      <td>Suberitida</td>\n",
       "      <td>Demospongiae</td>\n",
       "      <td>Porifera</td>\n",
       "      <td>Metazoa</td>\n",
       "      <td>Eukaryota</td>\n",
       "      <td>Organic compounds</td>\n",
       "      <td>Organoheterocyclic compounds</td>\n",
       "      <td>Azepines</td>\n",
       "      <td>Azepines</td>\n",
       "      <td>1</td>\n",
       "      <td>38</td>\n",
       "    </tr>\n",
       "    <tr>\n",
       "      <th>...</th>\n",
       "      <td>...</td>\n",
       "      <td>...</td>\n",
       "      <td>...</td>\n",
       "      <td>...</td>\n",
       "      <td>...</td>\n",
       "      <td>...</td>\n",
       "      <td>...</td>\n",
       "      <td>...</td>\n",
       "      <td>...</td>\n",
       "      <td>...</td>\n",
       "      <td>...</td>\n",
       "      <td>...</td>\n",
       "      <td>...</td>\n",
       "      <td>...</td>\n",
       "      <td>...</td>\n",
       "      <td>...</td>\n",
       "    </tr>\n",
       "    <tr>\n",
       "      <th>438064</th>\n",
       "      <td>Zyzzya fuliginosa</td>\n",
       "      <td>O=C1C(NCCc2ccc(O)cc2)=CC2=NCCc3c[nH]c1c32</td>\n",
       "      <td>3</td>\n",
       "      <td>Zyzzya</td>\n",
       "      <td>Acarnidae</td>\n",
       "      <td>Poecilosclerida</td>\n",
       "      <td>Demospongiae</td>\n",
       "      <td>Porifera</td>\n",
       "      <td>Metazoa</td>\n",
       "      <td>Eukaryota</td>\n",
       "      <td>Organic compounds</td>\n",
       "      <td>Organoheterocyclic compounds</td>\n",
       "      <td>Quinolines and derivatives</td>\n",
       "      <td>Pyrrolo[4,3,2-de]quinolines</td>\n",
       "      <td>4</td>\n",
       "      <td>124</td>\n",
       "    </tr>\n",
       "    <tr>\n",
       "      <th>438065</th>\n",
       "      <td>Zyzzya fuliginosa</td>\n",
       "      <td>O=C1C(NCCc2ccccc2)=CC2=NCCc3c[nH]c1c32</td>\n",
       "      <td>1</td>\n",
       "      <td>Zyzzya</td>\n",
       "      <td>Acarnidae</td>\n",
       "      <td>Poecilosclerida</td>\n",
       "      <td>Demospongiae</td>\n",
       "      <td>Porifera</td>\n",
       "      <td>Metazoa</td>\n",
       "      <td>Eukaryota</td>\n",
       "      <td>Organic compounds</td>\n",
       "      <td>Organoheterocyclic compounds</td>\n",
       "      <td>Quinolines and derivatives</td>\n",
       "      <td>Pyrrolo[4,3,2-de]quinolines</td>\n",
       "      <td>1</td>\n",
       "      <td>124</td>\n",
       "    </tr>\n",
       "    <tr>\n",
       "      <th>438066</th>\n",
       "      <td>Zyzzya fuliginosa</td>\n",
       "      <td>O=C1C=C2SC3CC2(C=C1Br)c1c(c(=O)c2ncc4cc[nH]c1c...</td>\n",
       "      <td>2</td>\n",
       "      <td>Zyzzya</td>\n",
       "      <td>Acarnidae</td>\n",
       "      <td>Poecilosclerida</td>\n",
       "      <td>Demospongiae</td>\n",
       "      <td>Porifera</td>\n",
       "      <td>Metazoa</td>\n",
       "      <td>Eukaryota</td>\n",
       "      <td>Organic compounds</td>\n",
       "      <td>Organoheterocyclic compounds</td>\n",
       "      <td>Phenanthrolines</td>\n",
       "      <td>Phenanthrolines</td>\n",
       "      <td>4</td>\n",
       "      <td>124</td>\n",
       "    </tr>\n",
       "    <tr>\n",
       "      <th>438067</th>\n",
       "      <td>Zyzzya fuliginosa</td>\n",
       "      <td>OCCc1ccc(O)cc1</td>\n",
       "      <td>1</td>\n",
       "      <td>Zyzzya</td>\n",
       "      <td>Acarnidae</td>\n",
       "      <td>Poecilosclerida</td>\n",
       "      <td>Demospongiae</td>\n",
       "      <td>Porifera</td>\n",
       "      <td>Metazoa</td>\n",
       "      <td>Eukaryota</td>\n",
       "      <td>Organic compounds</td>\n",
       "      <td>Benzenoids</td>\n",
       "      <td>Phenols</td>\n",
       "      <td>Tyrosols</td>\n",
       "      <td>189</td>\n",
       "      <td>124</td>\n",
       "    </tr>\n",
       "    <tr>\n",
       "      <th>438070</th>\n",
       "      <td>Zyzzya fuliginosa</td>\n",
       "      <td>Oc1ccc(CCNc2cc3c4c(c2O)N=CC=4CCN=3)cc1</td>\n",
       "      <td>2</td>\n",
       "      <td>Zyzzya</td>\n",
       "      <td>Acarnidae</td>\n",
       "      <td>Poecilosclerida</td>\n",
       "      <td>Demospongiae</td>\n",
       "      <td>Porifera</td>\n",
       "      <td>Metazoa</td>\n",
       "      <td>Eukaryota</td>\n",
       "      <td>Organic compounds</td>\n",
       "      <td>Organoheterocyclic compounds</td>\n",
       "      <td>Quinolines and derivatives</td>\n",
       "      <td>Aminoquinolines and derivatives</td>\n",
       "      <td>4</td>\n",
       "      <td>124</td>\n",
       "    </tr>\n",
       "  </tbody>\n",
       "</table>\n",
       "<p>350458 rows × 16 columns</p>\n",
       "</div>"
      ],
      "text/plain": [
       "            organism_name                                structure_smiles_2D  \\\n",
       "0                  Aaptos                         COc1cc2c3c(ccnc3c1OC)NC=C2   \n",
       "1           Aaptos aaptos      CC(C)CCCC(C)C1CCC2C3=CCC4CC(O)CCC4(C)C3CCC21C   \n",
       "2           Aaptos aaptos      CC(C)CCCC(C)C1CCC2C3CC=C4CC(O)CCC4(C)C3CCC12C   \n",
       "3           Aaptos aaptos       CC(C)CCCC(C)C1CCC2C3CCC4CC(O)CCC4(C)C3CCC12C   \n",
       "4           Aaptos aaptos               COC1=Cc2ccnc3c2C1(O)C(CC(C)=O)=NC=C3   \n",
       "...                   ...                                                ...   \n",
       "438064  Zyzzya fuliginosa          O=C1C(NCCc2ccc(O)cc2)=CC2=NCCc3c[nH]c1c32   \n",
       "438065  Zyzzya fuliginosa             O=C1C(NCCc2ccccc2)=CC2=NCCc3c[nH]c1c32   \n",
       "438066  Zyzzya fuliginosa  O=C1C=C2SC3CC2(C=C1Br)c1c(c(=O)c2ncc4cc[nH]c1c...   \n",
       "438067  Zyzzya fuliginosa                                     OCCc1ccc(O)cc1   \n",
       "438070  Zyzzya fuliginosa             Oc1ccc(CCNc2cc3c4c(c2O)N=CC=4CCN=3)cc1   \n",
       "\n",
       "        reference_wikidata organism_taxonomy_08genus  \\\n",
       "0                        2                    Aaptos   \n",
       "1                        1                    Aaptos   \n",
       "2                        1                    Aaptos   \n",
       "3                        1                    Aaptos   \n",
       "4                        1                    Aaptos   \n",
       "...                    ...                       ...   \n",
       "438064                   3                    Zyzzya   \n",
       "438065                   1                    Zyzzya   \n",
       "438066                   2                    Zyzzya   \n",
       "438067                   1                    Zyzzya   \n",
       "438070                   2                    Zyzzya   \n",
       "\n",
       "       organism_taxonomy_06family organism_taxonomy_05order  \\\n",
       "0                     Suberitidae                Suberitida   \n",
       "1                     Suberitidae                Suberitida   \n",
       "2                     Suberitidae                Suberitida   \n",
       "3                     Suberitidae                Suberitida   \n",
       "4                     Suberitidae                Suberitida   \n",
       "...                           ...                       ...   \n",
       "438064                  Acarnidae           Poecilosclerida   \n",
       "438065                  Acarnidae           Poecilosclerida   \n",
       "438066                  Acarnidae           Poecilosclerida   \n",
       "438067                  Acarnidae           Poecilosclerida   \n",
       "438070                  Acarnidae           Poecilosclerida   \n",
       "\n",
       "       organism_taxonomy_04class organism_taxonomy_03phylum  \\\n",
       "0                   Demospongiae                   Porifera   \n",
       "1                   Demospongiae                   Porifera   \n",
       "2                   Demospongiae                   Porifera   \n",
       "3                   Demospongiae                   Porifera   \n",
       "4                   Demospongiae                   Porifera   \n",
       "...                          ...                        ...   \n",
       "438064              Demospongiae                   Porifera   \n",
       "438065              Demospongiae                   Porifera   \n",
       "438066              Demospongiae                   Porifera   \n",
       "438067              Demospongiae                   Porifera   \n",
       "438070              Demospongiae                   Porifera   \n",
       "\n",
       "       organism_taxonomy_02kingdom organism_taxonomy_01domain  \\\n",
       "0                          Metazoa                  Eukaryota   \n",
       "1                          Metazoa                  Eukaryota   \n",
       "2                          Metazoa                  Eukaryota   \n",
       "3                          Metazoa                  Eukaryota   \n",
       "4                          Metazoa                  Eukaryota   \n",
       "...                            ...                        ...   \n",
       "438064                     Metazoa                  Eukaryota   \n",
       "438065                     Metazoa                  Eukaryota   \n",
       "438066                     Metazoa                  Eukaryota   \n",
       "438067                     Metazoa                  Eukaryota   \n",
       "438070                     Metazoa                  Eukaryota   \n",
       "\n",
       "       structure_taxonomy_classyfire_01kingdom  \\\n",
       "0                            Organic compounds   \n",
       "1                            Organic compounds   \n",
       "2                            Organic compounds   \n",
       "3                            Organic compounds   \n",
       "4                            Organic compounds   \n",
       "...                                        ...   \n",
       "438064                       Organic compounds   \n",
       "438065                       Organic compounds   \n",
       "438066                       Organic compounds   \n",
       "438067                       Organic compounds   \n",
       "438070                       Organic compounds   \n",
       "\n",
       "       structure_taxonomy_classyfire_02superclass  \\\n",
       "0                    Organoheterocyclic compounds   \n",
       "1                 Lipids and lipid-like molecules   \n",
       "2                 Lipids and lipid-like molecules   \n",
       "3                 Lipids and lipid-like molecules   \n",
       "4                    Organoheterocyclic compounds   \n",
       "...                                           ...   \n",
       "438064               Organoheterocyclic compounds   \n",
       "438065               Organoheterocyclic compounds   \n",
       "438066               Organoheterocyclic compounds   \n",
       "438067                                 Benzenoids   \n",
       "438070               Organoheterocyclic compounds   \n",
       "\n",
       "       structure_taxonomy_classyfire_03class  \\\n",
       "0                          Diazanaphthalenes   \n",
       "1           Steroids and steroid derivatives   \n",
       "2           Steroids and steroid derivatives   \n",
       "3           Steroids and steroid derivatives   \n",
       "4                                   Azepines   \n",
       "...                                      ...   \n",
       "438064            Quinolines and derivatives   \n",
       "438065            Quinolines and derivatives   \n",
       "438066                       Phenanthrolines   \n",
       "438067                               Phenols   \n",
       "438070            Quinolines and derivatives   \n",
       "\n",
       "       structure_taxonomy_classyfire_04directparent  total_papers_molecule  \\\n",
       "0                                    Naphthyridines                     16   \n",
       "1                      Cholesterols and derivatives                     42   \n",
       "2                      Cholesterols and derivatives                    585   \n",
       "3                      Cholesterols and derivatives                     94   \n",
       "4                                          Azepines                      1   \n",
       "...                                             ...                    ...   \n",
       "438064                  Pyrrolo[4,3,2-de]quinolines                      4   \n",
       "438065                  Pyrrolo[4,3,2-de]quinolines                      1   \n",
       "438066                              Phenanthrolines                      4   \n",
       "438067                                     Tyrosols                    189   \n",
       "438070              Aminoquinolines and derivatives                      4   \n",
       "\n",
       "        total_papers_species  \n",
       "0                          2  \n",
       "1                         38  \n",
       "2                         38  \n",
       "3                         38  \n",
       "4                         38  \n",
       "...                      ...  \n",
       "438064                   124  \n",
       "438065                   124  \n",
       "438066                   124  \n",
       "438067                   124  \n",
       "438070                   124  \n",
       "\n",
       "[350458 rows x 16 columns]"
      ]
     },
     "execution_count": 52,
     "metadata": {},
     "output_type": "execute_result"
    }
   ],
   "source": [
    "df_agg"
   ]
  },
  {
   "cell_type": "code",
   "execution_count": 53,
   "id": "88a45c64",
   "metadata": {
    "scrolled": true
   },
   "outputs": [
    {
     "name": "stderr",
     "output_type": "stream",
     "text": [
      "WARNING:absl:Found untraced functions such as _update_step_xla while saving (showing 1 of 1). These functions will not be directly callable after loading.\n"
     ]
    },
    {
     "name": "stdout",
     "output_type": "stream",
     "text": [
      "INFO:tensorflow:Assets written to: ./model/batch_256_layer_256/assets\n"
     ]
    },
    {
     "name": "stderr",
     "output_type": "stream",
     "text": [
      "INFO:tensorflow:Assets written to: ./model/batch_256_layer_256/assets\n"
     ]
    }
   ],
   "source": [
    "model.save(f\"./model/batch_{batch_size}_layer_{hinsage_layer_sizes[0]}\")"
   ]
  },
  {
   "cell_type": "code",
   "execution_count": 54,
   "id": "629b4da0",
   "metadata": {},
   "outputs": [],
   "source": [
    "try_test = np.array([['C=C(C)C1CCC2(C)CCC3(C)C(CCC4C5(C)CCC(O)C(C)(C)C5CCC43C)C12', 'Homo sapiens']])"
   ]
  },
  {
   "cell_type": "code",
   "execution_count": 55,
   "id": "52138339",
   "metadata": {},
   "outputs": [],
   "source": [
    "model = tf.keras.models.load_model(\"./model/batch_256_layer_128/\", compile=True)"
   ]
  },
  {
   "cell_type": "code",
   "execution_count": 56,
   "id": "2cff8567",
   "metadata": {
    "scrolled": true
   },
   "outputs": [
    {
     "data": {
      "text/plain": [
       "70090"
      ]
     },
     "execution_count": 56,
     "metadata": {},
     "output_type": "execute_result"
    }
   ],
   "source": [
    "test_flow.data_size"
   ]
  },
  {
   "cell_type": "code",
   "execution_count": 57,
   "id": "81b1b538",
   "metadata": {},
   "outputs": [
    {
     "data": {
      "text/plain": [
       "<tf.Variable 'current_learning_rate:0' shape=() dtype=float32, numpy=0.1>"
      ]
     },
     "execution_count": 57,
     "metadata": {},
     "output_type": "execute_result"
    }
   ],
   "source": [
    "model.optimizer.learning_rate"
   ]
  }
 ],
 "metadata": {
  "kernelspec": {
   "display_name": "Python 3 (ipykernel)",
   "language": "python",
   "name": "python3"
  },
  "language_info": {
   "codemirror_mode": {
    "name": "ipython",
    "version": 3
   },
   "file_extension": ".py",
   "mimetype": "text/x-python",
   "name": "python",
   "nbconvert_exporter": "python",
   "pygments_lexer": "ipython3",
   "version": "3.10.8"
  }
 },
 "nbformat": 4,
 "nbformat_minor": 5
}
