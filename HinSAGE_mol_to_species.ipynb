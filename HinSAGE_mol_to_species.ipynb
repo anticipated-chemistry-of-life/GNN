{
 "cells": [
  {
   "cell_type": "code",
   "execution_count": 1,
   "id": "0c37f03d",
   "metadata": {
    "scrolled": true
   },
   "outputs": [
    {
     "name": "stderr",
     "output_type": "stream",
     "text": [
      "2023-06-16 20:58:52.570418: I tensorflow/core/platform/cpu_feature_guard.cc:193] This TensorFlow binary is optimized with oneAPI Deep Neural Network Library (oneDNN) to use the following CPU instructions in performance-critical operations:  SSE4.1 SSE4.2 AVX AVX2 FMA\n",
      "To enable them in other operations, rebuild TensorFlow with the appropriate compiler flags.\n",
      "2023-06-16 20:58:58.724599: I tensorflow/core/platform/cpu_feature_guard.cc:193] This TensorFlow binary is optimized with oneAPI Deep Neural Network Library (oneDNN) to use the following CPU instructions in performance-critical operations:  SSE4.1 SSE4.2 AVX AVX2 FMA\n",
      "To enable them in other operations, rebuild TensorFlow with the appropriate compiler flags.\n"
     ]
    }
   ],
   "source": [
    "import networkx as nx\n",
    "import itertools\n",
    "import pandas as pd\n",
    "import numpy as np\n",
    "from stellargraph import StellarGraph\n",
    "from rdkit.Chem import AllChem, DataStructs\n",
    "import json\n",
    "from sklearn import preprocessing, feature_extraction, model_selection\n",
    "from sklearn.metrics import mean_absolute_error, mean_squared_error\n",
    "from tensorflow import keras\n",
    "\n",
    "import stellargraph as sg\n",
    "from stellargraph.data import EdgeSplitter\n",
    "from stellargraph.mapper import HinSAGELinkGenerator\n",
    "from stellargraph.layer import HinSAGE, link_regression, link_classification\n",
    "from tensorflow.keras import Model, optimizers, losses, metrics\n",
    "\n",
    "import multiprocessing\n",
    "from stellargraph import datasets\n",
    "from IPython.display import display, HTML\n",
    "import matplotlib.pyplot as plt\n",
    "from tensorflow.keras import mixed_precision\n",
    "mixed_precision.set_global_policy('float32')"
   ]
  },
  {
   "cell_type": "code",
   "execution_count": 2,
   "id": "5abe1765",
   "metadata": {
    "scrolled": true
   },
   "outputs": [],
   "source": [
    "g = nx.read_graphml(\"./graph/lotus_DB_as_graph.gml\")\n",
    "species_features_dummy = pd.read_csv(\"./data/species_features_dummy.csv\", index_col=0)\n",
    "molecule_features_dummy = pd.read_csv(\"./data/mol_dummy_rdkit.csv\", index_col=0).astype(\"int8\")\n",
    "df_agg = pd.read_csv(\"./data/lotus_aggregated.csv\", index_col=0)\n",
    "mol_pathway = pd.read_csv(\"./data/molecule_features_dummy.csv\", index_col=0).astype('int8')"
   ]
  },
  {
   "cell_type": "code",
   "execution_count": 3,
   "id": "cfeaa9f4",
   "metadata": {},
   "outputs": [],
   "source": [
    "molecule_features_dummy = pd.concat([mol_pathway, molecule_features_dummy], axis=1)"
   ]
  },
  {
   "cell_type": "code",
   "execution_count": 4,
   "id": "414372ea",
   "metadata": {},
   "outputs": [
    {
     "name": "stdout",
     "output_type": "stream",
     "text": [
      "StellarDiGraph: Directed multigraph\n",
      " Nodes: 23126, Edges: 40000\n",
      "\n",
      " Node types:\n",
      "  molecule: [12759]\n",
      "    Features: float32 vector, length 1638\n",
      "    Edge types: molecule-present_in->species\n",
      "  species: [10367]\n",
      "    Features: float32 vector, length 4974\n",
      "    Edge types: species-has->molecule\n",
      "\n",
      " Edge types:\n",
      "    species-has->molecule: [20000]\n",
      "        Weights: all 1 (default)\n",
      "        Features: none\n",
      "    molecule-present_in->species: [20000]\n",
      "        Weights: all 1 (default)\n",
      "        Features: none\n"
     ]
    }
   ],
   "source": [
    "G = StellarGraph.from_networkx(g,\n",
    "                               node_features={'species':species_features_dummy,\n",
    "                                              'molecule': molecule_features_dummy})\n",
    "print(G.info())\n",
    "G.check_graph_for_ml()"
   ]
  },
  {
   "cell_type": "code",
   "execution_count": 5,
   "id": "8ccf42a8",
   "metadata": {},
   "outputs": [],
   "source": [
    "batch_size = 200 #default: 200\n",
    "epochs = 15 #default: 20\n",
    "# Use 80% of edges for training, the rest for testing:\n",
    "train_size = 0.8\n",
    "test_size = 0.2\n",
    "num_samples = [4]\n",
    "num_workers = multiprocessing.cpu_count()-2"
   ]
  },
  {
   "cell_type": "code",
   "execution_count": 6,
   "id": "40c70f1a",
   "metadata": {},
   "outputs": [
    {
     "name": "stdout",
     "output_type": "stream",
     "text": [
      "Network has 20000 edges of type present_in\n",
      "Network has 20000 edges of type present_in\n",
      "** Sampled 6000 positive and 6000 negative edges. **\n"
     ]
    }
   ],
   "source": [
    "# Define an edge splitter on the original graph G:\n",
    "edge_splitter_test = EdgeSplitter(G)\n",
    "\n",
    "# Randomly sample a fraction p=0.3 of all positive links, and same number of negative links, from G, and obtain the\n",
    "# reduced graph G_test with the sampled links removed:\n",
    "G_test, edge_ids_test, edge_labels_test = edge_splitter_test.train_test_split(\n",
    "    p=0.3, method=\"global\", keep_connected=False, edge_label=\"present_in\"\n",
    ")"
   ]
  },
  {
   "cell_type": "code",
   "execution_count": 7,
   "id": "a1299965",
   "metadata": {},
   "outputs": [
    {
     "name": "stdout",
     "output_type": "stream",
     "text": [
      "Network has 14000 edges of type present_in\n",
      "Network has 14000 edges of type present_in\n",
      "** Sampled 4200 positive and 4200 negative edges. **\n"
     ]
    }
   ],
   "source": [
    "# Define an edge splitter on the reduced graph G_test:\n",
    "edge_splitter_train = EdgeSplitter(G_test)\n",
    "\n",
    "# Randomly sample a fraction p=0.3 of all positive links, and same number of negative links, from G_test, and obtain the\n",
    "# reduced graph G_train with the sampled links removed:\n",
    "G_train, edge_ids_train, edge_labels_train = edge_splitter_train.train_test_split(\n",
    "    p=0.3, method=\"global\", keep_connected=False, edge_label=\"present_in\"\n",
    ")"
   ]
  },
  {
   "cell_type": "code",
   "execution_count": 8,
   "id": "6a4c7cf1",
   "metadata": {},
   "outputs": [
    {
     "name": "stdout",
     "output_type": "stream",
     "text": [
      "StellarDiGraph: Directed multigraph\n",
      " Nodes: 23126, Edges: 29800\n",
      "\n",
      " Node types:\n",
      "  molecule: [12759]\n",
      "    Features: float32 vector, length 1638\n",
      "    Edge types: molecule-present_in->species\n",
      "  species: [10367]\n",
      "    Features: float32 vector, length 4974\n",
      "    Edge types: species-has->molecule\n",
      "\n",
      " Edge types:\n",
      "    species-has->molecule: [20000]\n",
      "        Weights: all 1 (default)\n",
      "        Features: none\n",
      "    molecule-present_in->species: [9800]\n",
      "        Weights: all 1 (default)\n",
      "        Features: none\n"
     ]
    }
   ],
   "source": [
    "print(G_train.info())"
   ]
  },
  {
   "cell_type": "code",
   "execution_count": 9,
   "id": "96de8525",
   "metadata": {},
   "outputs": [
    {
     "name": "stdout",
     "output_type": "stream",
     "text": [
      "StellarDiGraph: Directed multigraph\n",
      " Nodes: 23126, Edges: 34000\n",
      "\n",
      " Node types:\n",
      "  molecule: [12759]\n",
      "    Features: float32 vector, length 1638\n",
      "    Edge types: molecule-present_in->species\n",
      "  species: [10367]\n",
      "    Features: float32 vector, length 4974\n",
      "    Edge types: species-has->molecule\n",
      "\n",
      " Edge types:\n",
      "    species-has->molecule: [20000]\n",
      "        Weights: all 1 (default)\n",
      "        Features: none\n",
      "    molecule-present_in->species: [14000]\n",
      "        Weights: all 1 (default)\n",
      "        Features: none\n"
     ]
    }
   ],
   "source": [
    "print(G_test.info())"
   ]
  },
  {
   "cell_type": "code",
   "execution_count": 10,
   "id": "7fd9d1d9",
   "metadata": {},
   "outputs": [],
   "source": [
    "train_gen = HinSAGELinkGenerator(G_train,\n",
    "                                 batch_size,\n",
    "                                 num_samples,\n",
    "                                 head_node_types=[\"molecule\", \"species\"])\n",
    "train_flow = train_gen.flow(edge_ids_train, edge_labels_train, shuffle=True)"
   ]
  },
  {
   "cell_type": "code",
   "execution_count": 11,
   "id": "3d967859",
   "metadata": {},
   "outputs": [],
   "source": [
    "test_gen = HinSAGELinkGenerator(G_test,\n",
    "                                batch_size,\n",
    "                                num_samples,\n",
    "                                head_node_types=[\"molecule\", \"species\"])\n",
    "test_flow = test_gen.flow(edge_ids_test, edge_labels_test)"
   ]
  },
  {
   "cell_type": "code",
   "execution_count": 12,
   "id": "d94b97ac",
   "metadata": {},
   "outputs": [],
   "source": [
    "hinsage_layer_sizes = [16]\n",
    "hinsage = HinSAGE(layer_sizes=hinsage_layer_sizes,\n",
    "                  generator=train_gen,\n",
    "                  bias=True,\n",
    "                  dropout=0.3)"
   ]
  },
  {
   "cell_type": "code",
   "execution_count": 13,
   "id": "7f3f8d54",
   "metadata": {
    "scrolled": false
   },
   "outputs": [
    {
     "name": "stderr",
     "output_type": "stream",
     "text": [
      "/usr/local/Caskroom/mambaforge/base/envs/stellar_graph/lib/python3.10/site-packages/keras/initializers/initializers_v2.py:120: UserWarning: The initializer GlorotUniform is unseeded and being called multiple times, which will return identical values  each time (even if the initializer is unseeded). Please update your code to provide a seed to the initializer, or avoid using the same initalizer instance more than once.\n",
      "  warnings.warn(\n"
     ]
    }
   ],
   "source": [
    "# Build the model and expose input and output sockets of graphsage model\n",
    "# for link prediction\n",
    "x_inp, x_out = hinsage.in_out_tensors()"
   ]
  },
  {
   "cell_type": "code",
   "execution_count": 14,
   "id": "96dddf17",
   "metadata": {},
   "outputs": [
    {
     "name": "stdout",
     "output_type": "stream",
     "text": [
      "link_classification: using 'ip' method to combine node embeddings into edge embeddings\n"
     ]
    }
   ],
   "source": [
    "prediction = link_classification(output_dim=1,\n",
    "                                 output_act=\"sigmoid\",\n",
    "                                 edge_embedding_method=\"ip\")(x_out)"
   ]
  },
  {
   "cell_type": "code",
   "execution_count": 15,
   "id": "a49ccd38",
   "metadata": {},
   "outputs": [],
   "source": [
    "model = keras.Model(inputs=x_inp, outputs=prediction)\n",
    "optimizer=keras.optimizers.Adam(learning_rate=1e-3)\n",
    "optimizer = mixed_precision.LossScaleOptimizer(optimizer)\n",
    "\n",
    "model.compile(\n",
    "    optimizer=optimizer,\n",
    "    loss=keras.losses.binary_crossentropy,\n",
    "    metrics=[\"AUC\"],\n",
    ")"
   ]
  },
  {
   "cell_type": "code",
   "execution_count": 16,
   "id": "90028704",
   "metadata": {},
   "outputs": [
    {
     "name": "stdout",
     "output_type": "stream",
     "text": [
      "42/42 [==============================] - 2s 25ms/step - loss: 0.6932 - auc: 0.5159\n",
      "60/60 [==============================] - 2s 24ms/step - loss: 0.6936 - auc: 0.5081\n",
      "\n",
      "Train Set Metrics of the initial (untrained) model:\n",
      "\tloss: 0.6932\n",
      "\tauc: 0.5159\n",
      "\n",
      "Test Set Metrics of the initial (untrained) model:\n",
      "\tloss: 0.6936\n",
      "\tauc: 0.5081\n"
     ]
    }
   ],
   "source": [
    "init_train_metrics = model.evaluate(train_flow, workers=num_workers)\n",
    "init_test_metrics = model.evaluate(test_flow, workers=num_workers)\n",
    "\n",
    "print(\"\\nTrain Set Metrics of the initial (untrained) model:\")\n",
    "for name, val in zip(model.metrics_names, init_train_metrics):\n",
    "    print(\"\\t{}: {:0.4f}\".format(name, val))\n",
    "\n",
    "print(\"\\nTest Set Metrics of the initial (untrained) model:\")\n",
    "for name, val in zip(model.metrics_names, init_test_metrics):\n",
    "    print(\"\\t{}: {:0.4f}\".format(name, val))"
   ]
  },
  {
   "cell_type": "code",
   "execution_count": 17,
   "id": "e34c9a03",
   "metadata": {},
   "outputs": [
    {
     "name": "stdout",
     "output_type": "stream",
     "text": [
      "Epoch 1/15\n",
      "42/42 - 10s - loss: 0.6835 - auc: 0.5902 - val_loss: 0.6607 - val_auc: 0.6996 - 10s/epoch - 237ms/step\n",
      "Epoch 2/15\n",
      "42/42 - 9s - loss: 0.6457 - auc: 0.7281 - val_loss: 0.6342 - val_auc: 0.7388 - 9s/epoch - 203ms/step\n",
      "Epoch 3/15\n",
      "42/42 - 9s - loss: 0.6199 - auc: 0.7767 - val_loss: 0.6167 - val_auc: 0.7721 - 9s/epoch - 204ms/step\n",
      "Epoch 4/15\n",
      "42/42 - 9s - loss: 0.6000 - auc: 0.8124 - val_loss: 0.6085 - val_auc: 0.7826 - 9s/epoch - 203ms/step\n",
      "Epoch 5/15\n",
      "42/42 - 8s - loss: 0.5876 - auc: 0.8338 - val_loss: 0.6035 - val_auc: 0.7929 - 8s/epoch - 202ms/step\n",
      "Epoch 6/15\n",
      "42/42 - 9s - loss: 0.5726 - auc: 0.8653 - val_loss: 0.6022 - val_auc: 0.7919 - 9s/epoch - 209ms/step\n",
      "Epoch 7/15\n",
      "42/42 - 8s - loss: 0.5592 - auc: 0.8896 - val_loss: 0.6034 - val_auc: 0.7907 - 8s/epoch - 202ms/step\n",
      "Epoch 8/15\n",
      "42/42 - 9s - loss: 0.5507 - auc: 0.9014 - val_loss: 0.6062 - val_auc: 0.7835 - 9s/epoch - 204ms/step\n",
      "Epoch 9/15\n",
      "42/42 - 9s - loss: 0.5431 - auc: 0.9157 - val_loss: 0.6002 - val_auc: 0.8021 - 9s/epoch - 203ms/step\n",
      "Epoch 10/15\n",
      "42/42 - 8s - loss: 0.5340 - auc: 0.9295 - val_loss: 0.6007 - val_auc: 0.8007 - 8s/epoch - 202ms/step\n",
      "Epoch 11/15\n",
      "42/42 - 8s - loss: 0.5262 - auc: 0.9371 - val_loss: 0.6062 - val_auc: 0.7876 - 8s/epoch - 201ms/step\n",
      "Epoch 12/15\n",
      "42/42 - 8s - loss: 0.5210 - auc: 0.9447 - val_loss: 0.6022 - val_auc: 0.7951 - 8s/epoch - 202ms/step\n",
      "Epoch 13/15\n",
      "42/42 - 8s - loss: 0.5141 - auc: 0.9534 - val_loss: 0.6063 - val_auc: 0.7880 - 8s/epoch - 202ms/step\n",
      "Epoch 14/15\n",
      "42/42 - 8s - loss: 0.5085 - auc: 0.9565 - val_loss: 0.6110 - val_auc: 0.7776 - 8s/epoch - 200ms/step\n",
      "Epoch 15/15\n",
      "42/42 - 9s - loss: 0.5053 - auc: 0.9604 - val_loss: 0.6025 - val_auc: 0.7978 - 9s/epoch - 204ms/step\n"
     ]
    }
   ],
   "source": [
    "history = model.fit(train_flow,\n",
    "                    epochs=epochs,\n",
    "                    workers=num_workers,\n",
    "                    validation_data=test_flow,\n",
    "                    verbose=2, \n",
    "                   )"
   ]
  },
  {
   "cell_type": "code",
   "execution_count": 18,
   "id": "a727f52e",
   "metadata": {
    "scrolled": true
   },
   "outputs": [
    {
     "data": {
      "image/png": "[encoded data removed]",
      "text/plain": [
       "<Figure size 700x800 with 2 Axes>"
      ]
     },
     "metadata": {},
     "output_type": "display_data"
    }
   ],
   "source": [
    "sg.utils.plot_history(history)"
   ]
  },
  {
   "cell_type": "code",
   "execution_count": 19,
   "id": "1fd3266a",
   "metadata": {
    "scrolled": false
   },
   "outputs": [
    {
     "name": "stdout",
     "output_type": "stream",
     "text": [
      "42/42 [==============================] - 1s 28ms/step - loss: 0.4690 - auc: 0.9843\n",
      "60/60 [==============================] - 2s 28ms/step - loss: 0.6028 - auc: 0.7976\n",
      "\n",
      "Train Set Metrics of the trained model:\n",
      "\tloss: 0.4690\n",
      "\tauc: 0.9843\n",
      "\n",
      "Test Set Metrics of the trained model:\n",
      "\tloss: 0.6028\n",
      "\tauc: 0.7976\n"
     ]
    }
   ],
   "source": [
    "train_metrics = model.evaluate(train_flow)\n",
    "test_metrics = model.evaluate(test_flow)\n",
    "\n",
    "print(\"\\nTrain Set Metrics of the trained model:\")\n",
    "for name, val in zip(model.metrics_names, train_metrics):\n",
    "    print(\"\\t{}: {:0.4f}\".format(name, val))\n",
    "\n",
    "print(\"\\nTest Set Metrics of the trained model:\")\n",
    "for name, val in zip(model.metrics_names, test_metrics):\n",
    "    print(\"\\t{}: {:0.4f}\".format(name, val))"
   ]
  },
  {
   "cell_type": "code",
   "execution_count": 20,
   "id": "828f4892",
   "metadata": {
    "scrolled": true
   },
   "outputs": [
    {
     "data": {
      "text/plain": [
       "array([['CC=C(C)C(=O)OC1C(C)OC(OC2C(O)C(C)OC(OC3C(OC4C(OC(CCCCC)CCCCCCCCCC(=O)O)OC(C)C(O)C4O)OC(CO)C(O)C3O)C2OC(=O)C(C)CC)C(O)C1O',\n",
       "        'Ipomoea orizabensis'],\n",
       "       ['C=C1CC23CC1(O)CCC2C12CCCC(C)(C(=O)OC1)C2C3C(=O)O',\n",
       "        'Marah macrocarpa'],\n",
       "       ['CC(C)c1ccc(C=O)cc1', 'Eucalyptus polyanthemos'],\n",
       "       ...,\n",
       "       ['COc1cc(-c2coc3cc(O)c(OC)c(O)c3c2=O)cc(O)c1OC',\n",
       "        'Mentha x piperita'],\n",
       "       ['CC1CCC2(C(=O)O)CCC3(C)C(=CCC4C5(C)CCC(O)C(C)(C)C5C(O)CC43C)C2C1(C)O',\n",
       "        'Plicanthus hirtellus'],\n",
       "       ['CC1=CC(C)C(=O)CC(O)C(C)=CC(C)CC(C)CCC(C(C)C(=O)O)OC(=O)C(C)C1',\n",
       "        'Canavalia ensiformis']], dtype=object)"
      ]
     },
     "execution_count": 20,
     "metadata": {},
     "output_type": "execute_result"
    }
   ],
   "source": [
    "edge_ids_test"
   ]
  },
  {
   "cell_type": "code",
   "execution_count": 21,
   "id": "46cb9397",
   "metadata": {},
   "outputs": [
    {
     "name": "stdout",
     "output_type": "stream",
     "text": [
      "60/60 [==============================] - 2s 26ms/step\n"
     ]
    }
   ],
   "source": [
    "out = model.predict(test_flow)"
   ]
  },
  {
   "cell_type": "code",
   "execution_count": 22,
   "id": "0d455614",
   "metadata": {},
   "outputs": [
    {
     "data": {
      "text/plain": [
       "array([[0.6112289 ],\n",
       "       [0.55005836],\n",
       "       [0.68289256],\n",
       "       ...,\n",
       "       [0.42510748],\n",
       "       [0.65705276],\n",
       "       [0.36214274]], dtype=float32)"
      ]
     },
     "execution_count": 22,
     "metadata": {},
     "output_type": "execute_result"
    }
   ],
   "source": [
    "out"
   ]
  },
  {
   "cell_type": "code",
   "execution_count": 23,
   "id": "4d98d5df",
   "metadata": {
    "scrolled": true
   },
   "outputs": [
    {
     "data": {
      "text/plain": [
       "0.5762129"
      ]
     },
     "execution_count": 23,
     "metadata": {},
     "output_type": "execute_result"
    }
   ],
   "source": [
    "np.mean(out[1500:3000])"
   ]
  },
  {
   "cell_type": "code",
   "execution_count": 24,
   "id": "a83a3d0b",
   "metadata": {},
   "outputs": [
    {
     "data": {
      "text/plain": [
       "0.5818902"
      ]
     },
     "execution_count": 24,
     "metadata": {},
     "output_type": "execute_result"
    }
   ],
   "source": [
    "np.mean(out[:2000])"
   ]
  },
  {
   "cell_type": "code",
   "execution_count": 25,
   "id": "41dafd66",
   "metadata": {},
   "outputs": [
    {
     "data": {
      "text/plain": [
       "array([0.28104743], dtype=float32)"
      ]
     },
     "execution_count": 25,
     "metadata": {},
     "output_type": "execute_result"
    }
   ],
   "source": [
    "min(out)"
   ]
  },
  {
   "cell_type": "code",
   "execution_count": 26,
   "id": "98b22388",
   "metadata": {},
   "outputs": [
    {
     "data": {
      "text/plain": [
       "array([0.7247121], dtype=float32)"
      ]
     },
     "execution_count": 26,
     "metadata": {},
     "output_type": "execute_result"
    }
   ],
   "source": [
    "max(out)"
   ]
  },
  {
   "cell_type": "code",
   "execution_count": 27,
   "id": "e3de271a",
   "metadata": {},
   "outputs": [],
   "source": [
    "x_id =np.array([['C=C1C(O)CC(OC(C)=O)C2(C)C(OC(C)=O)C(OC(C)=O)C3(O)C(C)=C(OC(C)=O)CC(C(OC(C)=O)C12)C3(C)C',\n",
    "          'Taxus canadensis'],\n",
    "               ['C=C1C(O)CC(OC(C)=O)C2(C)C(OC(C)=O)C(OC(C)=O)C3(O)C(C)=C(OC(C)=O)CC(C(OC(C)=O)C12)C3(C)C',\n",
    "               'Homo sapiens']])"
   ]
  },
  {
   "cell_type": "code",
   "execution_count": 28,
   "id": "976114db",
   "metadata": {},
   "outputs": [
    {
     "ename": "KeyError",
     "evalue": "'Node ID C=C1C(O)CC(OC(C)=O)C2(C)C(OC(C)=O)C(OC(C)=O)C3(O)C(C)=C(OC(C)=O)CC(C(OC(C)=O)C12)C3(C)C supplied to generator not found in graph'",
     "output_type": "error",
     "traceback": [
      "\u001b[0;31m---------------------------------------------------------------------------\u001b[0m",
      "\u001b[0;31mKeyError\u001b[0m                                  Traceback (most recent call last)",
      "File \u001b[0;32m/usr/local/Caskroom/mambaforge/base/envs/stellar_graph/lib/python3.10/site-packages/stellargraph/mapper/sampled_link_generators.py:139\u001b[0m, in \u001b[0;36mBatchedLinkGenerator.flow\u001b[0;34m(self, link_ids, targets, shuffle, seed)\u001b[0m\n\u001b[1;32m    138\u001b[0m \u001b[38;5;28;01mtry\u001b[39;00m:\n\u001b[0;32m--> 139\u001b[0m     node_type_src \u001b[38;5;241m=\u001b[39m \u001b[38;5;28;43mself\u001b[39;49m\u001b[38;5;241;43m.\u001b[39;49m\u001b[43mgraph\u001b[49m\u001b[38;5;241;43m.\u001b[39;49m\u001b[43mnode_type\u001b[49m\u001b[43m(\u001b[49m\u001b[43msrc\u001b[49m\u001b[43m)\u001b[49m\n\u001b[1;32m    140\u001b[0m \u001b[38;5;28;01mexcept\u001b[39;00m \u001b[38;5;167;01mKeyError\u001b[39;00m:\n",
      "File \u001b[0;32m/usr/local/Caskroom/mambaforge/base/envs/stellar_graph/lib/python3.10/site-packages/stellargraph/core/graph.py:992\u001b[0m, in \u001b[0;36mStellarGraph.node_type\u001b[0;34m(self, node, use_ilocs)\u001b[0m\n\u001b[1;32m    991\u001b[0m \u001b[38;5;28;01mif\u001b[39;00m \u001b[38;5;129;01mnot\u001b[39;00m use_ilocs:\n\u001b[0;32m--> 992\u001b[0m     nodes \u001b[38;5;241m=\u001b[39m \u001b[38;5;28;43mself\u001b[39;49m\u001b[38;5;241;43m.\u001b[39;49m\u001b[43m_nodes\u001b[49m\u001b[38;5;241;43m.\u001b[39;49m\u001b[43mids\u001b[49m\u001b[38;5;241;43m.\u001b[39;49m\u001b[43mto_iloc\u001b[49m\u001b[43m(\u001b[49m\u001b[43mnodes\u001b[49m\u001b[43m,\u001b[49m\u001b[43m \u001b[49m\u001b[43mstrict\u001b[49m\u001b[38;5;241;43m=\u001b[39;49m\u001b[38;5;28;43;01mTrue\u001b[39;49;00m\u001b[43m)\u001b[49m\n\u001b[1;32m    993\u001b[0m type_sequence \u001b[38;5;241m=\u001b[39m \u001b[38;5;28mself\u001b[39m\u001b[38;5;241m.\u001b[39m_nodes\u001b[38;5;241m.\u001b[39mtype_of_iloc(nodes)\n",
      "File \u001b[0;32m/usr/local/Caskroom/mambaforge/base/envs/stellar_graph/lib/python3.10/site-packages/stellargraph/core/element_data.py:97\u001b[0m, in \u001b[0;36mExternalIdIndex.to_iloc\u001b[0;34m(self, ids, smaller_type, strict)\u001b[0m\n\u001b[1;32m     96\u001b[0m \u001b[38;5;28;01mif\u001b[39;00m strict:\n\u001b[0;32m---> 97\u001b[0m     \u001b[38;5;28;43mself\u001b[39;49m\u001b[38;5;241;43m.\u001b[39;49m\u001b[43mrequire_valid\u001b[49m\u001b[43m(\u001b[49m\u001b[43mids\u001b[49m\u001b[43m,\u001b[49m\u001b[43m \u001b[49m\u001b[43minternal_ids\u001b[49m\u001b[43m)\u001b[49m\n\u001b[1;32m     99\u001b[0m \u001b[38;5;66;03m# reduce the storage required (especially useful if this is going to be stored rather than\u001b[39;00m\n\u001b[1;32m    100\u001b[0m \u001b[38;5;66;03m# just transient)\u001b[39;00m\n",
      "File \u001b[0;32m/usr/local/Caskroom/mambaforge/base/envs/stellar_graph/lib/python3.10/site-packages/stellargraph/core/element_data.py:77\u001b[0m, in \u001b[0;36mExternalIdIndex.require_valid\u001b[0;34m(self, query_ids, ilocs)\u001b[0m\n\u001b[1;32m     76\u001b[0m \u001b[38;5;28;01mif\u001b[39;00m \u001b[38;5;28mlen\u001b[39m(missing_values) \u001b[38;5;241m==\u001b[39m \u001b[38;5;241m1\u001b[39m:\n\u001b[0;32m---> 77\u001b[0m     \u001b[38;5;28;01mraise\u001b[39;00m \u001b[38;5;167;01mKeyError\u001b[39;00m(missing_values[\u001b[38;5;241m0\u001b[39m])\n\u001b[1;32m     79\u001b[0m \u001b[38;5;28;01mraise\u001b[39;00m \u001b[38;5;167;01mKeyError\u001b[39;00m(missing_values)\n",
      "\u001b[0;31mKeyError\u001b[0m: 'C=C1C(O)CC(OC(C)=O)C2(C)C(OC(C)=O)C(OC(C)=O)C3(O)C(C)=C(OC(C)=O)CC(C(OC(C)=O)C12)C3(C)C'",
      "\nDuring handling of the above exception, another exception occurred:\n",
      "\u001b[0;31mKeyError\u001b[0m                                  Traceback (most recent call last)",
      "Cell \u001b[0;32mIn[28], line 1\u001b[0m\n\u001b[0;32m----> 1\u001b[0m pred_gen \u001b[38;5;241m=\u001b[39m \u001b[43mHinSAGELinkGenerator\u001b[49m\u001b[43m(\u001b[49m\u001b[43mG_test\u001b[49m\u001b[43m,\u001b[49m\u001b[43m \u001b[49m\u001b[38;5;241;43m1\u001b[39;49m\u001b[43m,\u001b[49m\u001b[43m \u001b[49m\u001b[43mnum_samples\u001b[49m\u001b[43m,\u001b[49m\u001b[43m \u001b[49m\u001b[43mhead_node_types\u001b[49m\u001b[38;5;241;43m=\u001b[39;49m\u001b[43m[\u001b[49m\u001b[38;5;124;43m\"\u001b[39;49m\u001b[38;5;124;43mmolecule\u001b[39;49m\u001b[38;5;124;43m\"\u001b[39;49m\u001b[43m,\u001b[49m\u001b[43m \u001b[49m\u001b[38;5;124;43m\"\u001b[39;49m\u001b[38;5;124;43mspecies\u001b[39;49m\u001b[38;5;124;43m\"\u001b[39;49m\u001b[43m]\u001b[49m\u001b[43m)\u001b[49m\u001b[38;5;241;43m.\u001b[39;49m\u001b[43mflow\u001b[49m\u001b[43m(\u001b[49m\u001b[43mx_id\u001b[49m\u001b[43m)\u001b[49m\n",
      "File \u001b[0;32m/usr/local/Caskroom/mambaforge/base/envs/stellar_graph/lib/python3.10/site-packages/stellargraph/mapper/sampled_link_generators.py:141\u001b[0m, in \u001b[0;36mBatchedLinkGenerator.flow\u001b[0;34m(self, link_ids, targets, shuffle, seed)\u001b[0m\n\u001b[1;32m    139\u001b[0m     node_type_src \u001b[38;5;241m=\u001b[39m \u001b[38;5;28mself\u001b[39m\u001b[38;5;241m.\u001b[39mgraph\u001b[38;5;241m.\u001b[39mnode_type(src)\n\u001b[1;32m    140\u001b[0m \u001b[38;5;28;01mexcept\u001b[39;00m \u001b[38;5;167;01mKeyError\u001b[39;00m:\n\u001b[0;32m--> 141\u001b[0m     \u001b[38;5;28;01mraise\u001b[39;00m \u001b[38;5;167;01mKeyError\u001b[39;00m(\n\u001b[1;32m    142\u001b[0m         \u001b[38;5;124mf\u001b[39m\u001b[38;5;124m\"\u001b[39m\u001b[38;5;124mNode ID \u001b[39m\u001b[38;5;132;01m{\u001b[39;00msrc\u001b[38;5;132;01m}\u001b[39;00m\u001b[38;5;124m supplied to generator not found in graph\u001b[39m\u001b[38;5;124m\"\u001b[39m\n\u001b[1;32m    143\u001b[0m     )\n\u001b[1;32m    144\u001b[0m \u001b[38;5;28;01mtry\u001b[39;00m:\n\u001b[1;32m    145\u001b[0m     node_type_dst \u001b[38;5;241m=\u001b[39m \u001b[38;5;28mself\u001b[39m\u001b[38;5;241m.\u001b[39mgraph\u001b[38;5;241m.\u001b[39mnode_type(dst)\n",
      "\u001b[0;31mKeyError\u001b[0m: 'Node ID C=C1C(O)CC(OC(C)=O)C2(C)C(OC(C)=O)C(OC(C)=O)C3(O)C(C)=C(OC(C)=O)CC(C(OC(C)=O)C12)C3(C)C supplied to generator not found in graph'"
     ]
    }
   ],
   "source": [
    "pred_gen = HinSAGELinkGenerator(G_test, 1, num_samples, head_node_types=[\"molecule\", \"species\"]).flow(x_id)"
   ]
  },
  {
   "cell_type": "code",
   "execution_count": null,
   "id": "40826224",
   "metadata": {},
   "outputs": [],
   "source": [
    "model.predict(pred_gen)"
   ]
  },
  {
   "cell_type": "code",
   "execution_count": null,
   "id": "960a34b6",
   "metadata": {},
   "outputs": [],
   "source": [
    "df_agg[df_agg['structure_smiles_2D'] == 'C=C1C(O)CC(OC(C)=O)C2(C)C(OC(C)=O)C(OC(C)=O)C3(O)C(C)=C(OC(C)=O)CC(C(OC(C)=O)C12)C3(C)C']"
   ]
  }
 ],
 "metadata": {
  "kernelspec": {
   "display_name": "Python 3 (ipykernel)",
   "language": "python",
   "name": "python3"
  },
  "language_info": {
   "codemirror_mode": {
    "name": "ipython",
    "version": 3
   },
   "file_extension": ".py",
   "mimetype": "text/x-python",
   "name": "python",
   "nbconvert_exporter": "python",
   "pygments_lexer": "ipython3",
   "version": "3.10.8"
  }
 },
 "nbformat": 4,
 "nbformat_minor": 5
}
