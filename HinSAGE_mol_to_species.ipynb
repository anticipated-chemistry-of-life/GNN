{
 "cells": [
  {
   "cell_type": "code",
   "execution_count": 1,
   "id": "0c37f03d",
   "metadata": {
    "scrolled": true
   },
   "outputs": [
    {
     "name": "stderr",
     "output_type": "stream",
     "text": [
      "2023-06-30 13:09:55.611195: I tensorflow/core/platform/cpu_feature_guard.cc:193] This TensorFlow binary is optimized with oneAPI Deep Neural Network Library (oneDNN) to use the following CPU instructions in performance-critical operations:  SSE4.1 SSE4.2 AVX AVX2 FMA\n",
      "To enable them in other operations, rebuild TensorFlow with the appropriate compiler flags.\n",
      "2023-06-30 13:10:01.431613: I tensorflow/core/platform/cpu_feature_guard.cc:193] This TensorFlow binary is optimized with oneAPI Deep Neural Network Library (oneDNN) to use the following CPU instructions in performance-critical operations:  SSE4.1 SSE4.2 AVX AVX2 FMA\n",
      "To enable them in other operations, rebuild TensorFlow with the appropriate compiler flags.\n"
     ]
    }
   ],
   "source": [
    "import networkx as nx\n",
    "import itertools\n",
    "import pandas as pd\n",
    "import numpy as np\n",
    "from stellargraph import StellarGraph\n",
    "from rdkit.Chem import AllChem, DataStructs\n",
    "import json\n",
    "from sklearn import preprocessing, feature_extraction, model_selection\n",
    "from sklearn.metrics import mean_absolute_error, mean_squared_error\n",
    "from tensorflow import keras\n",
    "import tensorflow as tf\n",
    "\n",
    "import stellargraph as sg\n",
    "from stellargraph.data import EdgeSplitter\n",
    "from stellargraph.mapper import HinSAGELinkGenerator\n",
    "from stellargraph.layer import HinSAGE, link_classification\n",
    "from tensorflow.keras import Model, optimizers, losses, metrics\n",
    "\n",
    "import multiprocessing\n",
    "from stellargraph import datasets\n",
    "from IPython.display import display, HTML\n",
    "import matplotlib.pyplot as plt\n",
    "from tensorflow.keras import mixed_precision"
   ]
  },
  {
   "cell_type": "code",
   "execution_count": 2,
   "id": "5abe1765",
   "metadata": {
    "scrolled": true
   },
   "outputs": [],
   "source": [
    "g = nx.read_graphml(\"./graph/train_graph.gml\")\n",
    "species_features_dummy = pd.read_csv(\"./data/species_features.csv.gz\", index_col=0)\n",
    "#species_features_dummy = pd.read_csv(\"./data/species_BaseNEncoder.csv.gz\", index_col=0)\n",
    "#species_features_dummy = pd.read_csv(\"./data/species_Multi_dim_scale.csv.gz\", index_col=0)\n",
    "molecule_features_dummy = pd.read_csv(\"./data/molecule_features.csv.gz\", index_col=0).astype(\"int8\")\n",
    "df_agg = pd.read_csv(\"./data/lotus_agg_train.csv.gz\", index_col=0)\n",
    "#molecule_features_dummy = pd.read_csv(\"./data/molecule_features_dummy.csv.gz\", index_col=0).astype('int8')"
   ]
  },
  {
   "cell_type": "code",
   "execution_count": 3,
   "id": "e4a4f351",
   "metadata": {},
   "outputs": [],
   "source": [
    "species_test = species_features_dummy[~species_features_dummy.index.isin(df_agg.organism_name)].index\n",
    "mol_test = molecule_features_dummy[~molecule_features_dummy.index.isin(df_agg.structure_smiles_2D)].index"
   ]
  },
  {
   "cell_type": "code",
   "execution_count": 4,
   "id": "c4f8e442",
   "metadata": {},
   "outputs": [],
   "source": [
    "species_feat = species_features_dummy[species_features_dummy.index.isin(df_agg.organism_name)]\n",
    "molecule_feat = molecule_features_dummy[molecule_features_dummy.index.isin(df_agg.structure_smiles_2D)]"
   ]
  },
  {
   "cell_type": "code",
   "execution_count": 5,
   "id": "414372ea",
   "metadata": {},
   "outputs": [
    {
     "name": "stdout",
     "output_type": "stream",
     "text": [
      "StellarDiGraph: Directed multigraph\n",
      " Nodes: 162374, Edges: 700916\n",
      "\n",
      " Node types:\n",
      "  molecule: [127088]\n",
      "    Features: float32 vector, length 27\n",
      "    Edge types: molecule-present_in->species\n",
      "  species: [35286]\n",
      "    Features: float32 vector, length 80\n",
      "    Edge types: species-has->molecule\n",
      "\n",
      " Edge types:\n",
      "    species-has->molecule: [350458]\n",
      "        Weights: all 1 (default)\n",
      "        Features: none\n",
      "    molecule-present_in->species: [350458]\n",
      "        Weights: all 1 (default)\n",
      "        Features: none\n"
     ]
    }
   ],
   "source": [
    "G = StellarGraph.from_networkx(g,\n",
    "                               node_features={'species':species_feat,\n",
    "                                              'molecule': molecule_feat})\n",
    "print(G.info())\n",
    "G.check_graph_for_ml()"
   ]
  },
  {
   "cell_type": "code",
   "execution_count": 6,
   "id": "8ccf42a8",
   "metadata": {},
   "outputs": [],
   "source": [
    "batch_size = 128 #default: 200\n",
    "epochs = 50 #default: 20\n",
    "num_samples = [3, 1]\n",
    "num_workers = multiprocessing.cpu_count()-2"
   ]
  },
  {
   "cell_type": "code",
   "execution_count": 7,
   "id": "40c70f1a",
   "metadata": {},
   "outputs": [
    {
     "name": "stdout",
     "output_type": "stream",
     "text": [
      "Network has 350458 edges of type present_in\n",
      "Network has 350458 edges of type present_in\n",
      "** Sampled 35045 positive and 35045 negative edges. **\n"
     ]
    }
   ],
   "source": [
    "# Define an edge splitter on the original graph G:\n",
    "edge_splitter_test = EdgeSplitter(G)\n",
    "\n",
    "# Randomly sample a fraction p=0.3 of all positive links, and same number of negative links, from G, and obtain the\n",
    "# reduced graph G_test with the sampled links removed:\n",
    "G_test, edge_ids_test, edge_labels_test = edge_splitter_test.train_test_split(\n",
    "    p=0.1, method=\"global\", keep_connected=False, edge_label=\"present_in\"\n",
    ")"
   ]
  },
  {
   "cell_type": "code",
   "execution_count": 8,
   "id": "a1299965",
   "metadata": {},
   "outputs": [
    {
     "name": "stdout",
     "output_type": "stream",
     "text": [
      "Network has 315413 edges of type present_in\n",
      "Network has 315413 edges of type present_in\n",
      "** Sampled 31541 positive and 31541 negative edges. **\n"
     ]
    }
   ],
   "source": [
    "# Define an edge splitter on the reduced graph G_test:\n",
    "edge_splitter_train = EdgeSplitter(G_test)\n",
    "\n",
    "# Randomly sample a fraction p=0.3 of all positive links, and same number of negative links, from G_test, and obtain the\n",
    "# reduced graph G_train with the sampled links removed:\n",
    "G_train, edge_ids_train, edge_labels_train = edge_splitter_train.train_test_split(\n",
    "    p=0.1, method=\"global\", keep_connected=False, edge_label=\"present_in\"\n",
    ")"
   ]
  },
  {
   "cell_type": "code",
   "execution_count": 9,
   "id": "6a4c7cf1",
   "metadata": {},
   "outputs": [
    {
     "name": "stdout",
     "output_type": "stream",
     "text": [
      "StellarDiGraph: Directed multigraph\n",
      " Nodes: 162374, Edges: 634330\n",
      "\n",
      " Node types:\n",
      "  molecule: [127088]\n",
      "    Features: float32 vector, length 27\n",
      "    Edge types: molecule-present_in->species\n",
      "  species: [35286]\n",
      "    Features: float32 vector, length 80\n",
      "    Edge types: species-has->molecule\n",
      "\n",
      " Edge types:\n",
      "    species-has->molecule: [350458]\n",
      "        Weights: all 1 (default)\n",
      "        Features: none\n",
      "    molecule-present_in->species: [283872]\n",
      "        Weights: all 1 (default)\n",
      "        Features: none\n"
     ]
    }
   ],
   "source": [
    "print(G_train.info())"
   ]
  },
  {
   "cell_type": "code",
   "execution_count": 10,
   "id": "96de8525",
   "metadata": {},
   "outputs": [
    {
     "name": "stdout",
     "output_type": "stream",
     "text": [
      "StellarDiGraph: Directed multigraph\n",
      " Nodes: 162374, Edges: 665871\n",
      "\n",
      " Node types:\n",
      "  molecule: [127088]\n",
      "    Features: float32 vector, length 27\n",
      "    Edge types: molecule-present_in->species\n",
      "  species: [35286]\n",
      "    Features: float32 vector, length 80\n",
      "    Edge types: species-has->molecule\n",
      "\n",
      " Edge types:\n",
      "    species-has->molecule: [350458]\n",
      "        Weights: all 1 (default)\n",
      "        Features: none\n",
      "    molecule-present_in->species: [315413]\n",
      "        Weights: all 1 (default)\n",
      "        Features: none\n"
     ]
    }
   ],
   "source": [
    "print(G_test.info())"
   ]
  },
  {
   "cell_type": "code",
   "execution_count": 11,
   "id": "7fd9d1d9",
   "metadata": {},
   "outputs": [],
   "source": [
    "train_gen = HinSAGELinkGenerator(G_train,\n",
    "                                 batch_size=batch_size,\n",
    "                                 num_samples=num_samples,\n",
    "                                 head_node_types=[\"molecule\", \"species\"],\n",
    "                                seed=42)\n",
    "train_flow = train_gen.flow(edge_ids_train, edge_labels_train, shuffle=True, seed=42)"
   ]
  },
  {
   "cell_type": "code",
   "execution_count": 12,
   "id": "3d967859",
   "metadata": {},
   "outputs": [],
   "source": [
    "test_gen = HinSAGELinkGenerator(G_test,\n",
    "                                batch_size=batch_size,\n",
    "                                num_samples=num_samples,\n",
    "                                head_node_types=[\"molecule\", \"species\"],\n",
    "                               seed=42)\n",
    "test_flow = test_gen.flow(edge_ids_test, edge_labels_test, seed=42)"
   ]
  },
  {
   "cell_type": "code",
   "execution_count": 13,
   "id": "d94b97ac",
   "metadata": {},
   "outputs": [],
   "source": [
    "hinsage_layer_sizes = [1024, 1024]\n",
    "hinsage = HinSAGE(layer_sizes=hinsage_layer_sizes,\n",
    "                  generator=train_gen,\n",
    "                  bias=True,\n",
    "                  dropout=0.3,\n",
    "                 activations=['elu','selu'])"
   ]
  },
  {
   "cell_type": "code",
   "execution_count": 14,
   "id": "7f3f8d54",
   "metadata": {
    "scrolled": false
   },
   "outputs": [
    {
     "name": "stderr",
     "output_type": "stream",
     "text": [
      "/usr/local/Caskroom/mambaforge/base/envs/stellar_graph/lib/python3.10/site-packages/keras/initializers/initializers_v2.py:120: UserWarning: The initializer GlorotUniform is unseeded and being called multiple times, which will return identical values  each time (even if the initializer is unseeded). Please update your code to provide a seed to the initializer, or avoid using the same initalizer instance more than once.\n",
      "  warnings.warn(\n"
     ]
    }
   ],
   "source": [
    "# Build the model and expose input and output sockets of graphsage model\n",
    "# for link prediction\n",
    "x_inp, x_out = hinsage.in_out_tensors()"
   ]
  },
  {
   "cell_type": "code",
   "execution_count": 15,
   "id": "96dddf17",
   "metadata": {},
   "outputs": [
    {
     "name": "stdout",
     "output_type": "stream",
     "text": [
      "link_classification: using 'l1' method to combine node embeddings into edge embeddings\n"
     ]
    }
   ],
   "source": [
    "prediction = link_classification(output_dim=1,\n",
    "                                 output_act=\"sigmoid\",\n",
    "                                 edge_embedding_method=\"l1\")(x_out)"
   ]
  },
  {
   "cell_type": "code",
   "execution_count": 16,
   "id": "a49ccd38",
   "metadata": {},
   "outputs": [],
   "source": [
    "model = keras.Model(inputs=x_inp, outputs=prediction)\n",
    "\n",
    "initial_learning_rate = 0.1\n",
    "final_learning_rate = 0.00001\n",
    "learning_rate_decay_factor = (final_learning_rate / initial_learning_rate)**(1/epochs)\n",
    "steps_per_epoch = int(edge_ids_train.shape[0]/batch_size)\n",
    "\n",
    "lr_schedule = tf.keras.optimizers.schedules.ExponentialDecay(\n",
    "                initial_learning_rate=initial_learning_rate,\n",
    "                decay_steps=steps_per_epoch,\n",
    "                decay_rate=learning_rate_decay_factor,\n",
    "                staircase=True)\n",
    "\n",
    "optimizer=keras.optimizers.Adam(learning_rate=lr_schedule)\n",
    "#optimizer = mixed_precision.LossScaleOptimizer(optimizer)\n",
    "\n",
    "model.compile(\n",
    "    optimizer=optimizer,\n",
    "    loss=keras.losses.binary_crossentropy,\n",
    "    metrics=[\"AUC\"],\n",
    ")"
   ]
  },
  {
   "cell_type": "code",
   "execution_count": 17,
   "id": "90028704",
   "metadata": {},
   "outputs": [
    {
     "name": "stdout",
     "output_type": "stream",
     "text": [
      "493/493 - 9s - loss: 0.6954 - auc: 0.4735 - 9s/epoch - 19ms/step\n",
      "548/548 - 14s - loss: 0.6954 - auc: 0.4741 - 14s/epoch - 25ms/step\n",
      "\n",
      "Train Set Metrics of the initial (untrained) model:\n",
      "\tloss: 0.6954\n",
      "\tauc: 0.4735\n",
      "\n",
      "Test Set Metrics of the initial (untrained) model:\n",
      "\tloss: 0.6954\n",
      "\tauc: 0.4741\n"
     ]
    }
   ],
   "source": [
    "init_train_metrics = model.evaluate(train_flow, workers=num_workers, verbose=2)\n",
    "init_test_metrics = model.evaluate(test_flow, workers=num_workers, verbose=2)\n",
    "\n",
    "print(\"\\nTrain Set Metrics of the initial (untrained) model:\")\n",
    "for name, val in zip(model.metrics_names, init_train_metrics):\n",
    "    print(\"\\t{}: {:0.4f}\".format(name, val))\n",
    "\n",
    "print(\"\\nTest Set Metrics of the initial (untrained) model:\")\n",
    "for name, val in zip(model.metrics_names, init_test_metrics):\n",
    "    print(\"\\t{}: {:0.4f}\".format(name, val))"
   ]
  },
  {
   "cell_type": "code",
   "execution_count": 18,
   "id": "e34c9a03",
   "metadata": {
    "scrolled": false
   },
   "outputs": [
    {
     "name": "stdout",
     "output_type": "stream",
     "text": [
      "Epoch 1/50\n",
      "493/493 - 40s - loss: 0.5759 - auc: 0.7585 - val_loss: 0.4163 - val_auc: 0.8935 - 40s/epoch - 82ms/step\n",
      "Epoch 2/50\n",
      "493/493 - 36s - loss: 0.4378 - auc: 0.8760 - val_loss: 0.3453 - val_auc: 0.9261 - 36s/epoch - 74ms/step\n",
      "Epoch 3/50\n",
      "493/493 - 38s - loss: 0.3834 - auc: 0.9071 - val_loss: 0.3022 - val_auc: 0.9432 - 38s/epoch - 78ms/step\n",
      "Epoch 4/50\n",
      "493/493 - 36s - loss: 0.3543 - auc: 0.9213 - val_loss: 0.2844 - val_auc: 0.9503 - 36s/epoch - 72ms/step\n",
      "Epoch 5/50\n",
      "493/493 - 36s - loss: 0.3300 - auc: 0.9322 - val_loss: 0.2686 - val_auc: 0.9554 - 36s/epoch - 72ms/step\n",
      "Epoch 6/50\n",
      "493/493 - 36s - loss: 0.3147 - auc: 0.9386 - val_loss: 0.2596 - val_auc: 0.9601 - 36s/epoch - 72ms/step\n",
      "Epoch 7/50\n",
      "493/493 - 36s - loss: 0.3057 - auc: 0.9420 - val_loss: 0.2460 - val_auc: 0.9624 - 36s/epoch - 73ms/step\n",
      "Epoch 8/50\n",
      "493/493 - 37s - loss: 0.2923 - auc: 0.9472 - val_loss: 0.2498 - val_auc: 0.9624 - 37s/epoch - 76ms/step\n",
      "Epoch 9/50\n",
      "493/493 - 36s - loss: 0.2845 - auc: 0.9498 - val_loss: 0.2433 - val_auc: 0.9648 - 36s/epoch - 72ms/step\n",
      "Epoch 10/50\n",
      "493/493 - 36s - loss: 0.2794 - auc: 0.9519 - val_loss: 0.2311 - val_auc: 0.9668 - 36s/epoch - 73ms/step\n",
      "Epoch 11/50\n",
      "493/493 - 35s - loss: 0.2729 - auc: 0.9538 - val_loss: 0.2303 - val_auc: 0.9674 - 35s/epoch - 71ms/step\n",
      "Epoch 12/50\n",
      "493/493 - 37s - loss: 0.2663 - auc: 0.9561 - val_loss: 0.2299 - val_auc: 0.9675 - 37s/epoch - 75ms/step\n",
      "Epoch 13/50\n",
      "493/493 - 38s - loss: 0.2610 - auc: 0.9580 - val_loss: 0.2293 - val_auc: 0.9676 - 38s/epoch - 77ms/step\n",
      "Epoch 14/50\n",
      "493/493 - 36s - loss: 0.2568 - auc: 0.9593 - val_loss: 0.2240 - val_auc: 0.9689 - 36s/epoch - 72ms/step\n",
      "Epoch 15/50\n",
      "493/493 - 36s - loss: 0.2558 - auc: 0.9597 - val_loss: 0.2234 - val_auc: 0.9694 - 36s/epoch - 73ms/step\n",
      "Epoch 16/50\n",
      "493/493 - 36s - loss: 0.2498 - auc: 0.9614 - val_loss: 0.2215 - val_auc: 0.9701 - 36s/epoch - 72ms/step\n",
      "Epoch 17/50\n",
      "493/493 - 36s - loss: 0.2475 - auc: 0.9623 - val_loss: 0.2225 - val_auc: 0.9698 - 36s/epoch - 73ms/step\n",
      "Epoch 18/50\n",
      "493/493 - 37s - loss: 0.2483 - auc: 0.9619 - val_loss: 0.2210 - val_auc: 0.9701 - 37s/epoch - 76ms/step\n",
      "Epoch 19/50\n",
      "493/493 - 36s - loss: 0.2465 - auc: 0.9625 - val_loss: 0.2216 - val_auc: 0.9699 - 36s/epoch - 72ms/step\n",
      "Epoch 20/50\n",
      "493/493 - 36s - loss: 0.2445 - auc: 0.9631 - val_loss: 0.2198 - val_auc: 0.9703 - 36s/epoch - 72ms/step\n",
      "Epoch 21/50\n",
      "493/493 - 36s - loss: 0.2417 - auc: 0.9639 - val_loss: 0.2190 - val_auc: 0.9705 - 36s/epoch - 74ms/step\n",
      "Epoch 22/50\n",
      "493/493 - 36s - loss: 0.2397 - auc: 0.9645 - val_loss: 0.2205 - val_auc: 0.9703 - 36s/epoch - 72ms/step\n",
      "Epoch 23/50\n",
      "493/493 - 37s - loss: 0.2419 - auc: 0.9639 - val_loss: 0.2167 - val_auc: 0.9712 - 37s/epoch - 75ms/step\n",
      "Epoch 24/50\n",
      "493/493 - 36s - loss: 0.2427 - auc: 0.9637 - val_loss: 0.2192 - val_auc: 0.9706 - 36s/epoch - 73ms/step\n",
      "Epoch 25/50\n",
      "493/493 - 35s - loss: 0.2407 - auc: 0.9643 - val_loss: 0.2159 - val_auc: 0.9713 - 35s/epoch - 72ms/step\n",
      "Epoch 26/50\n",
      "493/493 - 36s - loss: 0.2400 - auc: 0.9645 - val_loss: 0.2152 - val_auc: 0.9715 - 36s/epoch - 72ms/step\n",
      "Epoch 27/50\n",
      "493/493 - 35s - loss: 0.2389 - auc: 0.9648 - val_loss: 0.2193 - val_auc: 0.9705 - 35s/epoch - 72ms/step\n",
      "Epoch 28/50\n",
      "493/493 - 37s - loss: 0.2383 - auc: 0.9650 - val_loss: 0.2159 - val_auc: 0.9714 - 37s/epoch - 76ms/step\n",
      "Epoch 29/50\n",
      "493/493 - 36s - loss: 0.2364 - auc: 0.9656 - val_loss: 0.2180 - val_auc: 0.9709 - 36s/epoch - 72ms/step\n",
      "Epoch 30/50\n",
      "493/493 - 37s - loss: 0.2378 - auc: 0.9653 - val_loss: 0.2200 - val_auc: 0.9705 - 37s/epoch - 74ms/step\n",
      "Epoch 31/50\n",
      "493/493 - 31s - loss: 0.2364 - auc: 0.9655 - val_loss: 0.2166 - val_auc: 0.9712 - 31s/epoch - 62ms/step\n",
      "Epoch 32/50\n",
      "493/493 - 36s - loss: 0.2382 - auc: 0.9651 - val_loss: 0.2208 - val_auc: 0.9702 - 36s/epoch - 73ms/step\n",
      "Epoch 33/50\n",
      "493/493 - 37s - loss: 0.2367 - auc: 0.9654 - val_loss: 0.2186 - val_auc: 0.9708 - 37s/epoch - 76ms/step\n",
      "Epoch 34/50\n",
      "493/493 - 36s - loss: 0.2390 - auc: 0.9649 - val_loss: 0.2160 - val_auc: 0.9714 - 36s/epoch - 73ms/step\n",
      "Epoch 35/50\n",
      "493/493 - 36s - loss: 0.2372 - auc: 0.9653 - val_loss: 0.2171 - val_auc: 0.9711 - 36s/epoch - 73ms/step\n",
      "Epoch 36/50\n",
      "493/493 - 36s - loss: 0.2370 - auc: 0.9653 - val_loss: 0.2153 - val_auc: 0.9714 - 36s/epoch - 72ms/step\n"
     ]
    }
   ],
   "source": [
    "callbacks = keras.callbacks.EarlyStopping(monitor=\"val_loss\",\n",
    "                                          patience=10,\n",
    "                                          mode=\"auto\",\n",
    "                                          restore_best_weights=True)\n",
    "\n",
    "history = model.fit(train_flow,\n",
    "                    epochs=epochs,\n",
    "                    workers=num_workers,\n",
    "                    validation_data=test_flow,\n",
    "                    verbose=2,\n",
    "                    callbacks=[callbacks],\n",
    "                    validation_split=0.0,\n",
    "                    shuffle=True\n",
    "                   )"
   ]
  },
  {
   "cell_type": "code",
   "execution_count": 19,
   "id": "a727f52e",
   "metadata": {
    "scrolled": true
   },
   "outputs": [
    {
     "data": {
      "image/png": "[encoded data removed]",
      "text/plain": [
       "<Figure size 700x800 with 2 Axes>"
      ]
     },
     "metadata": {},
     "output_type": "display_data"
    }
   ],
   "source": [
    "sg.utils.plot_history(history)"
   ]
  },
  {
   "cell_type": "code",
   "execution_count": 20,
   "id": "1fd3266a",
   "metadata": {
    "scrolled": true
   },
   "outputs": [
    {
     "name": "stdout",
     "output_type": "stream",
     "text": [
      "493/493 - 8s - loss: 0.1876 - auc: 0.9782 - 8s/epoch - 16ms/step\n",
      "548/548 - 9s - loss: 0.2150 - auc: 0.9715 - 9s/epoch - 17ms/step\n",
      "\n",
      "Train Set Metrics of the trained model:\n",
      "\tloss: 0.1876\n",
      "\tauc: 0.9782\n",
      "\n",
      "Test Set Metrics of the trained model:\n",
      "\tloss: 0.2150\n",
      "\tauc: 0.9715\n"
     ]
    }
   ],
   "source": [
    "train_metrics = model.evaluate(train_flow, verbose=2)\n",
    "test_metrics = model.evaluate(test_flow, verbose=2)\n",
    "\n",
    "print(\"\\nTrain Set Metrics of the trained model:\")\n",
    "for name, val in zip(model.metrics_names, train_metrics):\n",
    "    print(\"\\t{}: {:0.4f}\".format(name, val))\n",
    "\n",
    "print(\"\\nTest Set Metrics of the trained model:\")\n",
    "for name, val in zip(model.metrics_names, test_metrics):\n",
    "    print(\"\\t{}: {:0.4f}\".format(name, val))"
   ]
  },
  {
   "cell_type": "code",
   "execution_count": 21,
   "id": "0b06144f",
   "metadata": {},
   "outputs": [],
   "source": [
    "def predict(model, flow, iterations=10):\n",
    "    predictions = []\n",
    "    for _ in range(iterations):\n",
    "        predictions.append(model.predict(flow, workers=-1).flatten())\n",
    "\n",
    "    return np.mean(predictions, axis=0)"
   ]
  },
  {
   "cell_type": "code",
   "execution_count": 22,
   "id": "39a63722",
   "metadata": {},
   "outputs": [],
   "source": [
    "test_pred = HinSAGELinkGenerator(G,\n",
    "                                 batch_size=batch_size,\n",
    "                                num_samples=num_samples,\n",
    "                                head_node_types=[\"molecule\", \"species\"],\n",
    "                                seed=42).flow(edge_ids_test, edge_labels_test, seed=42)"
   ]
  },
  {
   "cell_type": "code",
   "execution_count": 23,
   "id": "d59e7dbc",
   "metadata": {
    "scrolled": false
   },
   "outputs": [
    {
     "name": "stdout",
     "output_type": "stream",
     "text": [
      "548/548 [==============================] - 10s 18ms/step\n",
      "548/548 [==============================] - 10s 18ms/step\n",
      "548/548 [==============================] - 10s 17ms/step\n",
      "548/548 [==============================] - 10s 18ms/step\n",
      "548/548 [==============================] - 10s 18ms/step\n",
      "548/548 [==============================] - 10s 18ms/step\n",
      "548/548 [==============================] - 10s 18ms/step\n",
      "548/548 [==============================] - 10s 18ms/step\n",
      "548/548 [==============================] - 11s 21ms/step\n",
      "548/548 [==============================] - 10s 18ms/step\n"
     ]
    }
   ],
   "source": [
    "predictions = predict(model, test_pred)"
   ]
  },
  {
   "cell_type": "code",
   "execution_count": 24,
   "id": "0690f86d",
   "metadata": {},
   "outputs": [],
   "source": [
    "middle = int(len(predictions)/2)"
   ]
  },
  {
   "cell_type": "code",
   "execution_count": 25,
   "id": "6ec79eea",
   "metadata": {},
   "outputs": [
    {
     "data": {
      "text/plain": [
       "0.9172886"
      ]
     },
     "execution_count": 25,
     "metadata": {},
     "output_type": "execute_result"
    }
   ],
   "source": [
    "np.mean(predictions[:middle])"
   ]
  },
  {
   "cell_type": "code",
   "execution_count": 26,
   "id": "9edf1028",
   "metadata": {},
   "outputs": [
    {
     "data": {
      "text/plain": [
       "0.09607791"
      ]
     },
     "execution_count": 26,
     "metadata": {},
     "output_type": "execute_result"
    }
   ],
   "source": [
    "np.mean(predictions[middle:])"
   ]
  },
  {
   "cell_type": "code",
   "execution_count": 27,
   "id": "68b35e84",
   "metadata": {},
   "outputs": [],
   "source": [
    "test = predictions[(predictions>0.5) | (predictions<0.5)]\n",
    "test = test>0.5"
   ]
  },
  {
   "cell_type": "code",
   "execution_count": 28,
   "id": "8c10314e",
   "metadata": {},
   "outputs": [],
   "source": [
    "test = test.astype('int8')"
   ]
  },
  {
   "cell_type": "code",
   "execution_count": 29,
   "id": "7db6b010",
   "metadata": {
    "scrolled": true
   },
   "outputs": [
    {
     "data": {
      "text/plain": [
       "(array([27370.,  2367.,  1361.,  1124.,   965.,  1078.,  1540.,  2628.,\n",
       "         5671., 25986.]),\n",
       " array([3.35790020e-07, 9.99916717e-02, 1.99983001e-01, 2.99974352e-01,\n",
       "        3.99965674e-01, 4.99957025e-01, 5.99948347e-01, 6.99939668e-01,\n",
       "        7.99931049e-01, 8.99922371e-01, 9.99913692e-01]),\n",
       " <BarContainer object of 10 artists>)"
      ]
     },
     "execution_count": 29,
     "metadata": {},
     "output_type": "execute_result"
    },
    {
     "data": {
      "image/png": "[encoded data removed]",
      "text/plain": [
       "<Figure size 640x480 with 1 Axes>"
      ]
     },
     "metadata": {},
     "output_type": "display_data"
    }
   ],
   "source": [
    "plt.hist(predictions)"
   ]
  },
  {
   "cell_type": "code",
   "execution_count": 30,
   "id": "cfacbdfb",
   "metadata": {},
   "outputs": [
    {
     "data": {
      "text/plain": [
       "(array([    1,     3,     4, ..., 70085, 70087, 70088]),)"
      ]
     },
     "execution_count": 30,
     "metadata": {},
     "output_type": "execute_result"
    }
   ],
   "source": [
    "np.where((predictions>0.9) | (predictions<0.1))"
   ]
  },
  {
   "cell_type": "code",
   "execution_count": 31,
   "id": "df2f017e",
   "metadata": {
    "scrolled": true
   },
   "outputs": [
    {
     "data": {
      "text/plain": [
       "0.960935939506349"
      ]
     },
     "execution_count": 31,
     "metadata": {},
     "output_type": "execute_result"
    }
   ],
   "source": [
    "sum(test == edge_labels_test[np.where((predictions>0.5) | (predictions<0.5))])/len(test)"
   ]
  },
  {
   "cell_type": "code",
   "execution_count": 32,
   "id": "0c82ada5",
   "metadata": {},
   "outputs": [
    {
     "data": {
      "text/plain": [
       "1.0"
      ]
     },
     "execution_count": 32,
     "metadata": {},
     "output_type": "execute_result"
    }
   ],
   "source": [
    "len(test)/len(predictions)"
   ]
  },
  {
   "cell_type": "code",
   "execution_count": 33,
   "id": "88a45c64",
   "metadata": {
    "scrolled": true
   },
   "outputs": [
    {
     "name": "stderr",
     "output_type": "stream",
     "text": [
      "WARNING:absl:Found untraced functions such as _update_step_xla while saving (showing 1 of 1). These functions will not be directly callable after loading.\n"
     ]
    },
    {
     "name": "stdout",
     "output_type": "stream",
     "text": [
      "INFO:tensorflow:Assets written to: ./model/batch_128_layer_1024/assets\n"
     ]
    },
    {
     "name": "stderr",
     "output_type": "stream",
     "text": [
      "INFO:tensorflow:Assets written to: ./model/batch_128_layer_1024/assets\n"
     ]
    }
   ],
   "source": [
    "model.save(f\"./model/batch_{batch_size}_layer_{hinsage_layer_sizes[0]}\")"
   ]
  }
 ],
 "metadata": {
  "kernelspec": {
   "display_name": "Python 3 (ipykernel)",
   "language": "python",
   "name": "python3"
  },
  "language_info": {
   "codemirror_mode": {
    "name": "ipython",
    "version": 3
   },
   "file_extension": ".py",
   "mimetype": "text/x-python",
   "name": "python",
   "nbconvert_exporter": "python",
   "pygments_lexer": "ipython3",
   "version": "3.10.8"
  }
 },
 "nbformat": 4,
 "nbformat_minor": 5
}
