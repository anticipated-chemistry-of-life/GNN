{
 "cells": [
  {
   "cell_type": "code",
   "execution_count": 1,
   "id": "0c37f03d",
   "metadata": {
    "scrolled": true
   },
   "outputs": [
    {
     "name": "stderr",
     "output_type": "stream",
     "text": [
      "2023-06-17 10:08:31.204312: I tensorflow/core/platform/cpu_feature_guard.cc:193] This TensorFlow binary is optimized with oneAPI Deep Neural Network Library (oneDNN) to use the following CPU instructions in performance-critical operations:  SSE4.1 SSE4.2 AVX AVX2 FMA\n",
      "To enable them in other operations, rebuild TensorFlow with the appropriate compiler flags.\n",
      "2023-06-17 10:08:35.403391: I tensorflow/core/platform/cpu_feature_guard.cc:193] This TensorFlow binary is optimized with oneAPI Deep Neural Network Library (oneDNN) to use the following CPU instructions in performance-critical operations:  SSE4.1 SSE4.2 AVX AVX2 FMA\n",
      "To enable them in other operations, rebuild TensorFlow with the appropriate compiler flags.\n"
     ]
    }
   ],
   "source": [
    "import networkx as nx\n",
    "import itertools\n",
    "import pandas as pd\n",
    "import numpy as np\n",
    "from stellargraph import StellarGraph\n",
    "from rdkit.Chem import AllChem, DataStructs\n",
    "import json\n",
    "from sklearn import preprocessing, feature_extraction, model_selection\n",
    "from sklearn.metrics import mean_absolute_error, mean_squared_error\n",
    "from tensorflow import keras\n",
    "\n",
    "import stellargraph as sg\n",
    "from stellargraph.data import EdgeSplitter\n",
    "from stellargraph.mapper import HinSAGELinkGenerator\n",
    "from stellargraph.layer import HinSAGE, link_regression, link_classification\n",
    "from tensorflow.keras import Model, optimizers, losses, metrics\n",
    "\n",
    "import multiprocessing\n",
    "from stellargraph import datasets\n",
    "from IPython.display import display, HTML\n",
    "import matplotlib.pyplot as plt\n",
    "from tensorflow.keras import mixed_precision\n",
    "mixed_precision.set_global_policy('float32')"
   ]
  },
  {
   "cell_type": "code",
   "execution_count": 2,
   "id": "5abe1765",
   "metadata": {
    "scrolled": true
   },
   "outputs": [],
   "source": [
    "g = nx.read_graphml(\"./graph/lotus_DB_as_graph.gml\")\n",
    "species_features_dummy = pd.read_csv(\"./data/species_features_dummy.csv\", index_col=0)\n",
    "molecule_features_dummy = pd.read_csv(\"./data/mol_dummy_rdkit.csv\", index_col=0).astype(\"int8\")\n",
    "df_agg = pd.read_csv(\"./data/lotus_aggregated.csv\", index_col=0)\n",
    "mol_pathway = pd.read_csv(\"./data/molecule_features_dummy.csv\", index_col=0).astype('int8')"
   ]
  },
  {
   "cell_type": "code",
   "execution_count": 3,
   "id": "cfeaa9f4",
   "metadata": {},
   "outputs": [],
   "source": [
    "molecule_features_dummy = pd.concat([mol_pathway, molecule_features_dummy], axis=1)"
   ]
  },
  {
   "cell_type": "code",
   "execution_count": 4,
   "id": "414372ea",
   "metadata": {},
   "outputs": [
    {
     "name": "stdout",
     "output_type": "stream",
     "text": [
      "StellarDiGraph: Directed multigraph\n",
      " Nodes: 23126, Edges: 40000\n",
      "\n",
      " Node types:\n",
      "  molecule: [12759]\n",
      "    Features: float32 vector, length 1638\n",
      "    Edge types: molecule-present_in->species\n",
      "  species: [10367]\n",
      "    Features: float32 vector, length 4974\n",
      "    Edge types: species-has->molecule\n",
      "\n",
      " Edge types:\n",
      "    species-has->molecule: [20000]\n",
      "        Weights: all 1 (default)\n",
      "        Features: none\n",
      "    molecule-present_in->species: [20000]\n",
      "        Weights: all 1 (default)\n",
      "        Features: none\n"
     ]
    }
   ],
   "source": [
    "G = StellarGraph.from_networkx(g,\n",
    "                               node_features={'species':species_features_dummy,\n",
    "                                              'molecule': molecule_features_dummy})\n",
    "print(G.info())\n",
    "G.check_graph_for_ml()"
   ]
  },
  {
   "cell_type": "code",
   "execution_count": 5,
   "id": "8ccf42a8",
   "metadata": {},
   "outputs": [],
   "source": [
    "batch_size = 32 #default: 200\n",
    "epochs = 20 #default: 20\n",
    "# Use 80% of edges for training, the rest for testing:\n",
    "train_size = 0.8\n",
    "test_size = 0.2\n",
    "num_samples = [4]\n",
    "num_workers = multiprocessing.cpu_count()-2"
   ]
  },
  {
   "cell_type": "code",
   "execution_count": 6,
   "id": "40c70f1a",
   "metadata": {},
   "outputs": [
    {
     "name": "stdout",
     "output_type": "stream",
     "text": [
      "Network has 20000 edges of type present_in\n",
      "Network has 20000 edges of type present_in\n",
      "** Sampled 6000 positive and 6000 negative edges. **\n"
     ]
    }
   ],
   "source": [
    "# Define an edge splitter on the original graph G:\n",
    "edge_splitter_test = EdgeSplitter(G)\n",
    "\n",
    "# Randomly sample a fraction p=0.3 of all positive links, and same number of negative links, from G, and obtain the\n",
    "# reduced graph G_test with the sampled links removed:\n",
    "G_test, edge_ids_test, edge_labels_test = edge_splitter_test.train_test_split(\n",
    "    p=0.3, method=\"global\", keep_connected=False, edge_label=\"present_in\"\n",
    ")"
   ]
  },
  {
   "cell_type": "code",
   "execution_count": 7,
   "id": "a1299965",
   "metadata": {},
   "outputs": [
    {
     "name": "stdout",
     "output_type": "stream",
     "text": [
      "Network has 14000 edges of type present_in\n",
      "Network has 14000 edges of type present_in\n",
      "** Sampled 4200 positive and 4200 negative edges. **\n"
     ]
    }
   ],
   "source": [
    "# Define an edge splitter on the reduced graph G_test:\n",
    "edge_splitter_train = EdgeSplitter(G_test)\n",
    "\n",
    "# Randomly sample a fraction p=0.3 of all positive links, and same number of negative links, from G_test, and obtain the\n",
    "# reduced graph G_train with the sampled links removed:\n",
    "G_train, edge_ids_train, edge_labels_train = edge_splitter_train.train_test_split(\n",
    "    p=0.3, method=\"global\", keep_connected=False, edge_label=\"present_in\"\n",
    ")"
   ]
  },
  {
   "cell_type": "code",
   "execution_count": 8,
   "id": "6a4c7cf1",
   "metadata": {},
   "outputs": [
    {
     "name": "stdout",
     "output_type": "stream",
     "text": [
      "StellarDiGraph: Directed multigraph\n",
      " Nodes: 23126, Edges: 29800\n",
      "\n",
      " Node types:\n",
      "  molecule: [12759]\n",
      "    Features: float32 vector, length 1638\n",
      "    Edge types: molecule-present_in->species\n",
      "  species: [10367]\n",
      "    Features: float32 vector, length 4974\n",
      "    Edge types: species-has->molecule\n",
      "\n",
      " Edge types:\n",
      "    species-has->molecule: [20000]\n",
      "        Weights: all 1 (default)\n",
      "        Features: none\n",
      "    molecule-present_in->species: [9800]\n",
      "        Weights: all 1 (default)\n",
      "        Features: none\n"
     ]
    }
   ],
   "source": [
    "print(G_train.info())"
   ]
  },
  {
   "cell_type": "code",
   "execution_count": 9,
   "id": "96de8525",
   "metadata": {},
   "outputs": [
    {
     "name": "stdout",
     "output_type": "stream",
     "text": [
      "StellarDiGraph: Directed multigraph\n",
      " Nodes: 23126, Edges: 34000\n",
      "\n",
      " Node types:\n",
      "  molecule: [12759]\n",
      "    Features: float32 vector, length 1638\n",
      "    Edge types: molecule-present_in->species\n",
      "  species: [10367]\n",
      "    Features: float32 vector, length 4974\n",
      "    Edge types: species-has->molecule\n",
      "\n",
      " Edge types:\n",
      "    species-has->molecule: [20000]\n",
      "        Weights: all 1 (default)\n",
      "        Features: none\n",
      "    molecule-present_in->species: [14000]\n",
      "        Weights: all 1 (default)\n",
      "        Features: none\n"
     ]
    }
   ],
   "source": [
    "print(G_test.info())"
   ]
  },
  {
   "cell_type": "code",
   "execution_count": 10,
   "id": "7fd9d1d9",
   "metadata": {},
   "outputs": [],
   "source": [
    "train_gen = HinSAGELinkGenerator(G_train,\n",
    "                                 batch_size=batch_size,\n",
    "                                 num_samples=num_samples,\n",
    "                                 head_node_types=[\"molecule\", \"species\"])\n",
    "train_flow = train_gen.flow(edge_ids_train, edge_labels_train, shuffle=True)"
   ]
  },
  {
   "cell_type": "code",
   "execution_count": 11,
   "id": "3d967859",
   "metadata": {},
   "outputs": [],
   "source": [
    "test_gen = HinSAGELinkGenerator(G_test,\n",
    "                                batch_size=batch_size,\n",
    "                                num_samples=num_samples,\n",
    "                                head_node_types=[\"molecule\", \"species\"])\n",
    "test_flow = test_gen.flow(edge_ids_test, edge_labels_test)"
   ]
  },
  {
   "cell_type": "code",
   "execution_count": 12,
   "id": "d94b97ac",
   "metadata": {},
   "outputs": [],
   "source": [
    "hinsage_layer_sizes = [8]\n",
    "hinsage = HinSAGE(layer_sizes=hinsage_layer_sizes,\n",
    "                  generator=train_gen,\n",
    "                  bias=True,\n",
    "                  dropout=0.3,\n",
    "                 activations=['relu'])"
   ]
  },
  {
   "cell_type": "code",
   "execution_count": 13,
   "id": "7f3f8d54",
   "metadata": {
    "scrolled": false
   },
   "outputs": [
    {
     "name": "stderr",
     "output_type": "stream",
     "text": [
      "/usr/local/Caskroom/mambaforge/base/envs/stellar_graph/lib/python3.10/site-packages/keras/initializers/initializers_v2.py:120: UserWarning: The initializer GlorotUniform is unseeded and being called multiple times, which will return identical values  each time (even if the initializer is unseeded). Please update your code to provide a seed to the initializer, or avoid using the same initalizer instance more than once.\n",
      "  warnings.warn(\n"
     ]
    }
   ],
   "source": [
    "# Build the model and expose input and output sockets of graphsage model\n",
    "# for link prediction\n",
    "x_inp, x_out = hinsage.in_out_tensors()"
   ]
  },
  {
   "cell_type": "code",
   "execution_count": 14,
   "id": "96dddf17",
   "metadata": {},
   "outputs": [
    {
     "name": "stdout",
     "output_type": "stream",
     "text": [
      "link_classification: using 'concat' method to combine node embeddings into edge embeddings\n"
     ]
    }
   ],
   "source": [
    "prediction = link_classification(output_dim=1,\n",
    "                                 output_act=\"sigmoid\",\n",
    "                                 edge_embedding_method=\"concat\")(x_out)"
   ]
  },
  {
   "cell_type": "code",
   "execution_count": 15,
   "id": "a49ccd38",
   "metadata": {},
   "outputs": [],
   "source": [
    "model = keras.Model(inputs=x_inp, outputs=prediction)\n",
    "optimizer=keras.optimizers.Adam(learning_rate=1e-3)\n",
    "optimizer = mixed_precision.LossScaleOptimizer(optimizer)\n",
    "\n",
    "model.compile(\n",
    "    optimizer=optimizer,\n",
    "    loss=keras.losses.binary_crossentropy,\n",
    "    metrics=[\"AUC\"],\n",
    ")"
   ]
  },
  {
   "cell_type": "code",
   "execution_count": 16,
   "id": "90028704",
   "metadata": {},
   "outputs": [
    {
     "name": "stdout",
     "output_type": "stream",
     "text": [
      "263/263 [==============================] - 2s 6ms/step - loss: 0.7220 - auc: 0.5127\n",
      "375/375 [==============================] - 2s 5ms/step - loss: 0.7233 - auc: 0.5087\n",
      "\n",
      "Train Set Metrics of the initial (untrained) model:\n",
      "\tloss: 0.7220\n",
      "\tauc: 0.5127\n",
      "\n",
      "Test Set Metrics of the initial (untrained) model:\n",
      "\tloss: 0.7233\n",
      "\tauc: 0.5087\n"
     ]
    }
   ],
   "source": [
    "init_train_metrics = model.evaluate(train_flow, workers=num_workers)\n",
    "init_test_metrics = model.evaluate(test_flow, workers=num_workers)\n",
    "\n",
    "print(\"\\nTrain Set Metrics of the initial (untrained) model:\")\n",
    "for name, val in zip(model.metrics_names, init_train_metrics):\n",
    "    print(\"\\t{}: {:0.4f}\".format(name, val))\n",
    "\n",
    "print(\"\\nTest Set Metrics of the initial (untrained) model:\")\n",
    "for name, val in zip(model.metrics_names, init_test_metrics):\n",
    "    print(\"\\t{}: {:0.4f}\".format(name, val))"
   ]
  },
  {
   "cell_type": "code",
   "execution_count": 17,
   "id": "e34c9a03",
   "metadata": {},
   "outputs": [
    {
     "name": "stdout",
     "output_type": "stream",
     "text": [
      "Epoch 1/20\n",
      "263/263 - 10s - loss: 0.6898 - auc: 0.5627 - val_loss: 0.6664 - val_auc: 0.6601 - 10s/epoch - 40ms/step\n",
      "Epoch 2/20\n",
      "263/263 - 9s - loss: 0.6697 - auc: 0.6253 - val_loss: 0.6438 - val_auc: 0.6876 - 9s/epoch - 34ms/step\n",
      "Epoch 3/20\n",
      "263/263 - 9s - loss: 0.6468 - auc: 0.6809 - val_loss: 0.6650 - val_auc: 0.6662 - 9s/epoch - 34ms/step\n",
      "Epoch 4/20\n",
      "263/263 - 11s - loss: 0.6465 - auc: 0.6862 - val_loss: 0.6493 - val_auc: 0.6730 - 11s/epoch - 41ms/step\n",
      "Epoch 5/20\n",
      "263/263 - 10s - loss: 0.6285 - auc: 0.7076 - val_loss: 0.6289 - val_auc: 0.7152 - 10s/epoch - 40ms/step\n",
      "Epoch 6/20\n",
      "263/263 - 9s - loss: 0.6052 - auc: 0.7457 - val_loss: 0.6179 - val_auc: 0.7234 - 9s/epoch - 35ms/step\n",
      "Epoch 7/20\n",
      "263/263 - 10s - loss: 0.5876 - auc: 0.7668 - val_loss: 0.6138 - val_auc: 0.7251 - 10s/epoch - 36ms/step\n",
      "Epoch 8/20\n",
      "263/263 - 9s - loss: 0.5740 - auc: 0.7786 - val_loss: 0.6207 - val_auc: 0.7087 - 9s/epoch - 35ms/step\n",
      "Epoch 9/20\n",
      "263/263 - 9s - loss: 0.5591 - auc: 0.7929 - val_loss: 0.6104 - val_auc: 0.7273 - 9s/epoch - 36ms/step\n",
      "Epoch 10/20\n",
      "263/263 - 9s - loss: 0.5473 - auc: 0.8036 - val_loss: 0.6028 - val_auc: 0.7323 - 9s/epoch - 34ms/step\n",
      "Epoch 11/20\n",
      "263/263 - 9s - loss: 0.5352 - auc: 0.8134 - val_loss: 0.6104 - val_auc: 0.7277 - 9s/epoch - 35ms/step\n",
      "Epoch 12/20\n",
      "263/263 - 9s - loss: 0.5383 - auc: 0.8089 - val_loss: 0.6361 - val_auc: 0.7098 - 9s/epoch - 35ms/step\n",
      "Epoch 13/20\n",
      "263/263 - 9s - loss: 0.5231 - auc: 0.8231 - val_loss: 0.6111 - val_auc: 0.7265 - 9s/epoch - 36ms/step\n",
      "Epoch 14/20\n",
      "263/263 - 10s - loss: 0.5137 - auc: 0.8303 - val_loss: 0.6108 - val_auc: 0.7328 - 10s/epoch - 37ms/step\n",
      "Epoch 15/20\n",
      "263/263 - 9s - loss: 0.5052 - auc: 0.8379 - val_loss: 0.6133 - val_auc: 0.7314 - 9s/epoch - 35ms/step\n",
      "Epoch 16/20\n",
      "263/263 - 9s - loss: 0.4933 - auc: 0.8459 - val_loss: 0.6355 - val_auc: 0.7227 - 9s/epoch - 35ms/step\n",
      "Epoch 17/20\n",
      "263/263 - 9s - loss: 0.4810 - auc: 0.8559 - val_loss: 0.6401 - val_auc: 0.7222 - 9s/epoch - 36ms/step\n",
      "Epoch 18/20\n",
      "263/263 - 9s - loss: 0.4781 - auc: 0.8571 - val_loss: 0.6405 - val_auc: 0.7181 - 9s/epoch - 34ms/step\n",
      "Epoch 19/20\n",
      "263/263 - 9s - loss: 0.4754 - auc: 0.8575 - val_loss: 0.6454 - val_auc: 0.7124 - 9s/epoch - 35ms/step\n",
      "Epoch 20/20\n",
      "263/263 - 9s - loss: 0.4663 - auc: 0.8624 - val_loss: 0.6388 - val_auc: 0.7256 - 9s/epoch - 33ms/step\n"
     ]
    }
   ],
   "source": [
    "history = model.fit(train_flow,\n",
    "                    epochs=epochs,\n",
    "                    workers=num_workers,\n",
    "                    validation_data=test_flow,\n",
    "                    verbose=2, \n",
    "                   )"
   ]
  },
  {
   "cell_type": "code",
   "execution_count": 18,
   "id": "a727f52e",
   "metadata": {
    "scrolled": true
   },
   "outputs": [
    {
     "data": {
      "image/png": "[encoded data removed]",
      "text/plain": [
       "<Figure size 700x800 with 2 Axes>"
      ]
     },
     "metadata": {},
     "output_type": "display_data"
    }
   ],
   "source": [
    "sg.utils.plot_history(history)"
   ]
  },
  {
   "cell_type": "code",
   "execution_count": 19,
   "id": "1fd3266a",
   "metadata": {
    "scrolled": false
   },
   "outputs": [
    {
     "name": "stdout",
     "output_type": "stream",
     "text": [
      "263/263 [==============================] - 1s 5ms/step - loss: 0.4204 - auc: 0.9014\n",
      "375/375 [==============================] - 2s 5ms/step - loss: 0.6377 - auc: 0.7267\n",
      "\n",
      "Train Set Metrics of the trained model:\n",
      "\tloss: 0.4204\n",
      "\tauc: 0.9014\n",
      "\n",
      "Test Set Metrics of the trained model:\n",
      "\tloss: 0.6377\n",
      "\tauc: 0.7267\n"
     ]
    }
   ],
   "source": [
    "train_metrics = model.evaluate(train_flow)\n",
    "test_metrics = model.evaluate(test_flow)\n",
    "\n",
    "print(\"\\nTrain Set Metrics of the trained model:\")\n",
    "for name, val in zip(model.metrics_names, train_metrics):\n",
    "    print(\"\\t{}: {:0.4f}\".format(name, val))\n",
    "\n",
    "print(\"\\nTest Set Metrics of the trained model:\")\n",
    "for name, val in zip(model.metrics_names, test_metrics):\n",
    "    print(\"\\t{}: {:0.4f}\".format(name, val))"
   ]
  },
  {
   "cell_type": "code",
   "execution_count": 20,
   "id": "828f4892",
   "metadata": {
    "scrolled": true
   },
   "outputs": [
    {
     "data": {
      "text/plain": [
       "array([['CC1=CC23C(=O)C(C=C(CO)C(O)C2(O)C1O)C1C(CC3C)C1(C)C',\n",
       "        'Euphorbia fischeriana'],\n",
       "       ['CC(=O)OC1C(OC2CCC34CC35CCC3(C)C(C6(C)CC(C(C)(C)O)CO6)C(O)CC3(C)C5CC(OC3OCC(O)C(O)C3O)C4C2(C)C)OCC(O)C1O',\n",
       "        'Astragalus babatagi'],\n",
       "       ['CCCCCCCCCCCCCCCCCCCCCCCCCC', 'Cistus laurifolius'],\n",
       "       ...,\n",
       "       ['CC(C)COC(=O)c1ccccc1C(=O)OCC(C)C', 'Dudleya brittonii'],\n",
       "       ['CC(=O)C1=CC2(C)C(CCC(=O)C2C)C1', 'Aconitum falconeri'],\n",
       "       ['CC(=O)OC1(C)C(=O)CC2C(C)(C)CCCC2(C)C12CCC1(COC(=O)C1)O2',\n",
       "        'Maytenus chubutensis']], dtype=object)"
      ]
     },
     "execution_count": 20,
     "metadata": {},
     "output_type": "execute_result"
    }
   ],
   "source": [
    "edge_ids_test"
   ]
  },
  {
   "cell_type": "code",
   "execution_count": 21,
   "id": "46cb9397",
   "metadata": {},
   "outputs": [
    {
     "name": "stdout",
     "output_type": "stream",
     "text": [
      "375/375 [==============================] - 2s 5ms/step\n"
     ]
    }
   ],
   "source": [
    "out = model.predict(test_flow)"
   ]
  },
  {
   "cell_type": "code",
   "execution_count": 22,
   "id": "0d455614",
   "metadata": {},
   "outputs": [
    {
     "data": {
      "text/plain": [
       "array([[0.7519769 ],\n",
       "       [0.47827545],\n",
       "       [0.8903985 ],\n",
       "       ...,\n",
       "       [0.11373927],\n",
       "       [0.16289078],\n",
       "       [0.7767777 ]], dtype=float32)"
      ]
     },
     "execution_count": 22,
     "metadata": {},
     "output_type": "execute_result"
    }
   ],
   "source": [
    "out"
   ]
  },
  {
   "cell_type": "code",
   "execution_count": 23,
   "id": "4d98d5df",
   "metadata": {
    "scrolled": true
   },
   "outputs": [
    {
     "data": {
      "text/plain": [
       "0.5888084"
      ]
     },
     "execution_count": 23,
     "metadata": {},
     "output_type": "execute_result"
    }
   ],
   "source": [
    "np.mean(out[1500:3000])"
   ]
  },
  {
   "cell_type": "code",
   "execution_count": 24,
   "id": "a83a3d0b",
   "metadata": {},
   "outputs": [
    {
     "data": {
      "text/plain": [
       "0.6007016"
      ]
     },
     "execution_count": 24,
     "metadata": {},
     "output_type": "execute_result"
    }
   ],
   "source": [
    "np.mean(out[:2000])"
   ]
  },
  {
   "cell_type": "code",
   "execution_count": 25,
   "id": "41dafd66",
   "metadata": {},
   "outputs": [
    {
     "data": {
      "text/plain": [
       "array([0.00582544], dtype=float32)"
      ]
     },
     "execution_count": 25,
     "metadata": {},
     "output_type": "execute_result"
    }
   ],
   "source": [
    "min(out)"
   ]
  },
  {
   "cell_type": "code",
   "execution_count": 26,
   "id": "98b22388",
   "metadata": {},
   "outputs": [
    {
     "data": {
      "text/plain": [
       "array([0.94100666], dtype=float32)"
      ]
     },
     "execution_count": 26,
     "metadata": {},
     "output_type": "execute_result"
    }
   ],
   "source": [
    "max(out)"
   ]
  },
  {
   "cell_type": "code",
   "execution_count": 27,
   "id": "e3de271a",
   "metadata": {},
   "outputs": [],
   "source": [
    "x_id =np.array([['C=C1C(O)CC(OC(C)=O)C2(C)C(OC(C)=O)C(OC(C)=O)C3(O)C(C)=C(OC(C)=O)CC(C(OC(C)=O)C12)C3(C)C',\n",
    "          'Taxus canadensis'],\n",
    "               ['C=C1C(O)CC(OC(C)=O)C2(C)C(OC(C)=O)C(OC(C)=O)C3(O)C(C)=C(OC(C)=O)CC(C(OC(C)=O)C12)C3(C)C',\n",
    "               'Homo sapiens']])"
   ]
  },
  {
   "cell_type": "code",
   "execution_count": 28,
   "id": "976114db",
   "metadata": {},
   "outputs": [
    {
     "ename": "KeyError",
     "evalue": "'Node ID C=C1C(O)CC(OC(C)=O)C2(C)C(OC(C)=O)C(OC(C)=O)C3(O)C(C)=C(OC(C)=O)CC(C(OC(C)=O)C12)C3(C)C supplied to generator not found in graph'",
     "output_type": "error",
     "traceback": [
      "\u001b[0;31m---------------------------------------------------------------------------\u001b[0m",
      "\u001b[0;31mKeyError\u001b[0m                                  Traceback (most recent call last)",
      "File \u001b[0;32m/usr/local/Caskroom/mambaforge/base/envs/stellar_graph/lib/python3.10/site-packages/stellargraph/mapper/sampled_link_generators.py:139\u001b[0m, in \u001b[0;36mBatchedLinkGenerator.flow\u001b[0;34m(self, link_ids, targets, shuffle, seed)\u001b[0m\n\u001b[1;32m    138\u001b[0m \u001b[38;5;28;01mtry\u001b[39;00m:\n\u001b[0;32m--> 139\u001b[0m     node_type_src \u001b[38;5;241m=\u001b[39m \u001b[38;5;28;43mself\u001b[39;49m\u001b[38;5;241;43m.\u001b[39;49m\u001b[43mgraph\u001b[49m\u001b[38;5;241;43m.\u001b[39;49m\u001b[43mnode_type\u001b[49m\u001b[43m(\u001b[49m\u001b[43msrc\u001b[49m\u001b[43m)\u001b[49m\n\u001b[1;32m    140\u001b[0m \u001b[38;5;28;01mexcept\u001b[39;00m \u001b[38;5;167;01mKeyError\u001b[39;00m:\n",
      "File \u001b[0;32m/usr/local/Caskroom/mambaforge/base/envs/stellar_graph/lib/python3.10/site-packages/stellargraph/core/graph.py:992\u001b[0m, in \u001b[0;36mStellarGraph.node_type\u001b[0;34m(self, node, use_ilocs)\u001b[0m\n\u001b[1;32m    991\u001b[0m \u001b[38;5;28;01mif\u001b[39;00m \u001b[38;5;129;01mnot\u001b[39;00m use_ilocs:\n\u001b[0;32m--> 992\u001b[0m     nodes \u001b[38;5;241m=\u001b[39m \u001b[38;5;28;43mself\u001b[39;49m\u001b[38;5;241;43m.\u001b[39;49m\u001b[43m_nodes\u001b[49m\u001b[38;5;241;43m.\u001b[39;49m\u001b[43mids\u001b[49m\u001b[38;5;241;43m.\u001b[39;49m\u001b[43mto_iloc\u001b[49m\u001b[43m(\u001b[49m\u001b[43mnodes\u001b[49m\u001b[43m,\u001b[49m\u001b[43m \u001b[49m\u001b[43mstrict\u001b[49m\u001b[38;5;241;43m=\u001b[39;49m\u001b[38;5;28;43;01mTrue\u001b[39;49;00m\u001b[43m)\u001b[49m\n\u001b[1;32m    993\u001b[0m type_sequence \u001b[38;5;241m=\u001b[39m \u001b[38;5;28mself\u001b[39m\u001b[38;5;241m.\u001b[39m_nodes\u001b[38;5;241m.\u001b[39mtype_of_iloc(nodes)\n",
      "File \u001b[0;32m/usr/local/Caskroom/mambaforge/base/envs/stellar_graph/lib/python3.10/site-packages/stellargraph/core/element_data.py:97\u001b[0m, in \u001b[0;36mExternalIdIndex.to_iloc\u001b[0;34m(self, ids, smaller_type, strict)\u001b[0m\n\u001b[1;32m     96\u001b[0m \u001b[38;5;28;01mif\u001b[39;00m strict:\n\u001b[0;32m---> 97\u001b[0m     \u001b[38;5;28;43mself\u001b[39;49m\u001b[38;5;241;43m.\u001b[39;49m\u001b[43mrequire_valid\u001b[49m\u001b[43m(\u001b[49m\u001b[43mids\u001b[49m\u001b[43m,\u001b[49m\u001b[43m \u001b[49m\u001b[43minternal_ids\u001b[49m\u001b[43m)\u001b[49m\n\u001b[1;32m     99\u001b[0m \u001b[38;5;66;03m# reduce the storage required (especially useful if this is going to be stored rather than\u001b[39;00m\n\u001b[1;32m    100\u001b[0m \u001b[38;5;66;03m# just transient)\u001b[39;00m\n",
      "File \u001b[0;32m/usr/local/Caskroom/mambaforge/base/envs/stellar_graph/lib/python3.10/site-packages/stellargraph/core/element_data.py:77\u001b[0m, in \u001b[0;36mExternalIdIndex.require_valid\u001b[0;34m(self, query_ids, ilocs)\u001b[0m\n\u001b[1;32m     76\u001b[0m \u001b[38;5;28;01mif\u001b[39;00m \u001b[38;5;28mlen\u001b[39m(missing_values) \u001b[38;5;241m==\u001b[39m \u001b[38;5;241m1\u001b[39m:\n\u001b[0;32m---> 77\u001b[0m     \u001b[38;5;28;01mraise\u001b[39;00m \u001b[38;5;167;01mKeyError\u001b[39;00m(missing_values[\u001b[38;5;241m0\u001b[39m])\n\u001b[1;32m     79\u001b[0m \u001b[38;5;28;01mraise\u001b[39;00m \u001b[38;5;167;01mKeyError\u001b[39;00m(missing_values)\n",
      "\u001b[0;31mKeyError\u001b[0m: 'C=C1C(O)CC(OC(C)=O)C2(C)C(OC(C)=O)C(OC(C)=O)C3(O)C(C)=C(OC(C)=O)CC(C(OC(C)=O)C12)C3(C)C'",
      "\nDuring handling of the above exception, another exception occurred:\n",
      "\u001b[0;31mKeyError\u001b[0m                                  Traceback (most recent call last)",
      "Cell \u001b[0;32mIn[28], line 1\u001b[0m\n\u001b[0;32m----> 1\u001b[0m pred_gen \u001b[38;5;241m=\u001b[39m \u001b[43mHinSAGELinkGenerator\u001b[49m\u001b[43m(\u001b[49m\u001b[43mG_test\u001b[49m\u001b[43m,\u001b[49m\u001b[43m \u001b[49m\u001b[38;5;241;43m1\u001b[39;49m\u001b[43m,\u001b[49m\u001b[43m \u001b[49m\u001b[43mnum_samples\u001b[49m\u001b[43m,\u001b[49m\u001b[43m \u001b[49m\u001b[43mhead_node_types\u001b[49m\u001b[38;5;241;43m=\u001b[39;49m\u001b[43m[\u001b[49m\u001b[38;5;124;43m\"\u001b[39;49m\u001b[38;5;124;43mmolecule\u001b[39;49m\u001b[38;5;124;43m\"\u001b[39;49m\u001b[43m,\u001b[49m\u001b[43m \u001b[49m\u001b[38;5;124;43m\"\u001b[39;49m\u001b[38;5;124;43mspecies\u001b[39;49m\u001b[38;5;124;43m\"\u001b[39;49m\u001b[43m]\u001b[49m\u001b[43m)\u001b[49m\u001b[38;5;241;43m.\u001b[39;49m\u001b[43mflow\u001b[49m\u001b[43m(\u001b[49m\u001b[43mx_id\u001b[49m\u001b[43m)\u001b[49m\n",
      "File \u001b[0;32m/usr/local/Caskroom/mambaforge/base/envs/stellar_graph/lib/python3.10/site-packages/stellargraph/mapper/sampled_link_generators.py:141\u001b[0m, in \u001b[0;36mBatchedLinkGenerator.flow\u001b[0;34m(self, link_ids, targets, shuffle, seed)\u001b[0m\n\u001b[1;32m    139\u001b[0m     node_type_src \u001b[38;5;241m=\u001b[39m \u001b[38;5;28mself\u001b[39m\u001b[38;5;241m.\u001b[39mgraph\u001b[38;5;241m.\u001b[39mnode_type(src)\n\u001b[1;32m    140\u001b[0m \u001b[38;5;28;01mexcept\u001b[39;00m \u001b[38;5;167;01mKeyError\u001b[39;00m:\n\u001b[0;32m--> 141\u001b[0m     \u001b[38;5;28;01mraise\u001b[39;00m \u001b[38;5;167;01mKeyError\u001b[39;00m(\n\u001b[1;32m    142\u001b[0m         \u001b[38;5;124mf\u001b[39m\u001b[38;5;124m\"\u001b[39m\u001b[38;5;124mNode ID \u001b[39m\u001b[38;5;132;01m{\u001b[39;00msrc\u001b[38;5;132;01m}\u001b[39;00m\u001b[38;5;124m supplied to generator not found in graph\u001b[39m\u001b[38;5;124m\"\u001b[39m\n\u001b[1;32m    143\u001b[0m     )\n\u001b[1;32m    144\u001b[0m \u001b[38;5;28;01mtry\u001b[39;00m:\n\u001b[1;32m    145\u001b[0m     node_type_dst \u001b[38;5;241m=\u001b[39m \u001b[38;5;28mself\u001b[39m\u001b[38;5;241m.\u001b[39mgraph\u001b[38;5;241m.\u001b[39mnode_type(dst)\n",
      "\u001b[0;31mKeyError\u001b[0m: 'Node ID C=C1C(O)CC(OC(C)=O)C2(C)C(OC(C)=O)C(OC(C)=O)C3(O)C(C)=C(OC(C)=O)CC(C(OC(C)=O)C12)C3(C)C supplied to generator not found in graph'"
     ]
    }
   ],
   "source": [
    "pred_gen = HinSAGELinkGenerator(G_test, 1, num_samples, head_node_types=[\"molecule\", \"species\"]).flow(x_id)"
   ]
  },
  {
   "cell_type": "code",
   "execution_count": null,
   "id": "40826224",
   "metadata": {},
   "outputs": [],
   "source": [
    "model.predict(pred_gen)"
   ]
  },
  {
   "cell_type": "code",
   "execution_count": 32,
   "id": "960a34b6",
   "metadata": {},
   "outputs": [],
   "source": [
    "test = df_agg.iloc[:2,:]"
   ]
  },
  {
   "cell_type": "code",
   "execution_count": 35,
   "id": "df149af6",
   "metadata": {
    "scrolled": true
   },
   "outputs": [
    {
     "data": {
      "text/html": [
       "<div>\n",
       "<style scoped>\n",
       "    .dataframe tbody tr th:only-of-type {\n",
       "        vertical-align: middle;\n",
       "    }\n",
       "\n",
       "    .dataframe tbody tr th {\n",
       "        vertical-align: top;\n",
       "    }\n",
       "\n",
       "    .dataframe thead th {\n",
       "        text-align: right;\n",
       "    }\n",
       "</style>\n",
       "<table border=\"1\" class=\"dataframe\">\n",
       "  <thead>\n",
       "    <tr style=\"text-align: right;\">\n",
       "      <th></th>\n",
       "      <th>organism_taxonomy_09species</th>\n",
       "      <th>structure_smiles_2D</th>\n",
       "      <th>reference_wikidata</th>\n",
       "      <th>organism_taxonomy_08genus</th>\n",
       "      <th>organism_taxonomy_06family</th>\n",
       "      <th>organism_taxonomy_05order</th>\n",
       "      <th>organism_taxonomy_04class</th>\n",
       "      <th>organism_taxonomy_03phylum</th>\n",
       "      <th>organism_taxonomy_02kingdom</th>\n",
       "      <th>organism_taxonomy_01domain</th>\n",
       "      <th>structure_taxonomy_npclassifier_01pathway</th>\n",
       "      <th>structure_taxonomy_npclassifier_02superclass</th>\n",
       "      <th>structure_taxonomy_npclassifier_03class</th>\n",
       "      <th>total_papers_molecule</th>\n",
       "      <th>total_papers_species</th>\n",
       "    </tr>\n",
       "  </thead>\n",
       "  <tbody>\n",
       "    <tr>\n",
       "      <th>0</th>\n",
       "      <td>Utricularia vulgaris</td>\n",
       "      <td>OCC1=CC(O)C2C=COC(OC3OC(CO)C(O)C(O)C3O)C12</td>\n",
       "      <td>1</td>\n",
       "      <td>Utricularia</td>\n",
       "      <td>Lentibulariaceae</td>\n",
       "      <td>Lamiales</td>\n",
       "      <td>Magnoliopsida</td>\n",
       "      <td>Streptophyta</td>\n",
       "      <td>Archaeplastida</td>\n",
       "      <td>Eukaryota</td>\n",
       "      <td>Terpenoids</td>\n",
       "      <td>Monoterpenoids</td>\n",
       "      <td>Iridoids monoterpenoids</td>\n",
       "      <td>415</td>\n",
       "      <td>5</td>\n",
       "    </tr>\n",
       "    <tr>\n",
       "      <th>1</th>\n",
       "      <td>Conyza pyrrhopappa</td>\n",
       "      <td>CCC(C)C(=O)OC(CC(C)C1CC(c2ccoc2)OC1=O)C1(C)C(=...</td>\n",
       "      <td>2</td>\n",
       "      <td>Conyza</td>\n",
       "      <td>Asteraceae</td>\n",
       "      <td>Asterales</td>\n",
       "      <td>Magnoliopsida</td>\n",
       "      <td>Streptophyta</td>\n",
       "      <td>Archaeplastida</td>\n",
       "      <td>Eukaryota</td>\n",
       "      <td>Terpenoids</td>\n",
       "      <td>Diterpenoids</td>\n",
       "      <td>NaN</td>\n",
       "      <td>2</td>\n",
       "      <td>110</td>\n",
       "    </tr>\n",
       "  </tbody>\n",
       "</table>\n",
       "</div>"
      ],
      "text/plain": [
       "  organism_taxonomy_09species  \\\n",
       "0        Utricularia vulgaris   \n",
       "1          Conyza pyrrhopappa   \n",
       "\n",
       "                                 structure_smiles_2D  reference_wikidata  \\\n",
       "0         OCC1=CC(O)C2C=COC(OC3OC(CO)C(O)C(O)C3O)C12                   1   \n",
       "1  CCC(C)C(=O)OC(CC(C)C1CC(c2ccoc2)OC1=O)C1(C)C(=...                   2   \n",
       "\n",
       "  organism_taxonomy_08genus organism_taxonomy_06family  \\\n",
       "0               Utricularia           Lentibulariaceae   \n",
       "1                    Conyza                 Asteraceae   \n",
       "\n",
       "  organism_taxonomy_05order organism_taxonomy_04class  \\\n",
       "0                  Lamiales             Magnoliopsida   \n",
       "1                 Asterales             Magnoliopsida   \n",
       "\n",
       "  organism_taxonomy_03phylum organism_taxonomy_02kingdom  \\\n",
       "0               Streptophyta              Archaeplastida   \n",
       "1               Streptophyta              Archaeplastida   \n",
       "\n",
       "  organism_taxonomy_01domain structure_taxonomy_npclassifier_01pathway  \\\n",
       "0                  Eukaryota                                Terpenoids   \n",
       "1                  Eukaryota                                Terpenoids   \n",
       "\n",
       "  structure_taxonomy_npclassifier_02superclass  \\\n",
       "0                               Monoterpenoids   \n",
       "1                                 Diterpenoids   \n",
       "\n",
       "  structure_taxonomy_npclassifier_03class  total_papers_molecule  \\\n",
       "0                 Iridoids monoterpenoids                    415   \n",
       "1                                     NaN                      2   \n",
       "\n",
       "   total_papers_species  \n",
       "0                     5  \n",
       "1                   110  "
      ]
     },
     "execution_count": 35,
     "metadata": {},
     "output_type": "execute_result"
    }
   ],
   "source": [
    "test"
   ]
  },
  {
   "cell_type": "code",
   "execution_count": 36,
   "id": "a942e075",
   "metadata": {},
   "outputs": [],
   "source": [
    "from grape.datasets import get_okapi_tfidf_weighted_textual_embedding"
   ]
  },
  {
   "cell_type": "code",
   "execution_count": 42,
   "id": "a37b4bd9",
   "metadata": {},
   "outputs": [
    {
     "data": {
      "application/vnd.jupyter.widget-view+json": {
       "model_id": "d866334676904d84af833c781ad1e862",
       "version_major": 2,
       "version_minor": 0
      },
      "text/plain": [
       "Downloading (…)okenizer_config.json:   0%|          | 0.00/166 [00:00<?, ?B/s]"
      ]
     },
     "metadata": {},
     "output_type": "display_data"
    },
    {
     "data": {
      "application/vnd.jupyter.widget-view+json": {
       "model_id": "65d9d13806cd4b5e8918817a3ec95d73",
       "version_major": 2,
       "version_minor": 0
      },
      "text/plain": [
       "Downloading (…)lve/main/config.json:   0%|          | 0.00/501 [00:00<?, ?B/s]"
      ]
     },
     "metadata": {},
     "output_type": "display_data"
    },
    {
     "data": {
      "application/vnd.jupyter.widget-view+json": {
       "model_id": "45c73a9f22744c4b81e7932d092ada58",
       "version_major": 2,
       "version_minor": 0
      },
      "text/plain": [
       "Downloading (…)olve/main/vocab.json:   0%|          | 0.00/9.43k [00:00<?, ?B/s]"
      ]
     },
     "metadata": {},
     "output_type": "display_data"
    },
    {
     "data": {
      "application/vnd.jupyter.widget-view+json": {
       "model_id": "53362bc08a5543818942c5c39ac204a6",
       "version_major": 2,
       "version_minor": 0
      },
      "text/plain": [
       "Downloading (…)olve/main/merges.txt:   0%|          | 0.00/3.21k [00:00<?, ?B/s]"
      ]
     },
     "metadata": {},
     "output_type": "display_data"
    },
    {
     "data": {
      "application/vnd.jupyter.widget-view+json": {
       "model_id": "4a1a70a206a7462286e1a13b643177ae",
       "version_major": 2,
       "version_minor": 0
      },
      "text/plain": [
       "Downloading (…)cial_tokens_map.json:   0%|          | 0.00/150 [00:00<?, ?B/s]"
      ]
     },
     "metadata": {},
     "output_type": "display_data"
    },
    {
     "name": "stderr",
     "output_type": "stream",
     "text": [
      "You are using a model of type roberta to instantiate a model of type bert. This is not supported for all configurations of models and can yield errors.\n"
     ]
    },
    {
     "data": {
      "application/vnd.jupyter.widget-view+json": {
       "model_id": "a290dfd3690a440d915eed9c1fdf59be",
       "version_major": 2,
       "version_minor": 0
      },
      "text/plain": [
       "Downloading pytorch_model.bin:   0%|          | 0.00/179M [00:00<?, ?B/s]"
      ]
     },
     "metadata": {},
     "output_type": "display_data"
    },
    {
     "name": "stderr",
     "output_type": "stream",
     "text": [
      "Some weights of the model checkpoint at seyonec/ChemBERTa-zinc-base-v1 were not used when initializing BertModel: ['roberta.encoder.layer.5.attention.self.key.bias', 'roberta.encoder.layer.2.attention.self.value.bias', 'roberta.encoder.layer.5.attention.self.value.weight', 'roberta.encoder.layer.5.attention.self.query.weight', 'roberta.encoder.layer.0.output.dense.weight', 'roberta.encoder.layer.1.intermediate.dense.bias', 'roberta.encoder.layer.3.intermediate.dense.weight', 'roberta.encoder.layer.2.output.dense.bias', 'roberta.encoder.layer.1.attention.output.LayerNorm.weight', 'roberta.encoder.layer.1.attention.self.query.bias', 'roberta.encoder.layer.0.attention.self.query.weight', 'roberta.encoder.layer.5.output.dense.weight', 'roberta.embeddings.word_embeddings.weight', 'lm_head.dense.weight', 'roberta.encoder.layer.4.output.dense.weight', 'roberta.encoder.layer.1.attention.output.dense.weight', 'roberta.encoder.layer.0.intermediate.dense.bias', 'roberta.encoder.layer.4.intermediate.dense.weight', 'roberta.encoder.layer.3.attention.self.key.weight', 'roberta.encoder.layer.1.intermediate.dense.weight', 'roberta.encoder.layer.0.output.LayerNorm.bias', 'roberta.encoder.layer.4.output.LayerNorm.bias', 'roberta.encoder.layer.0.attention.self.query.bias', 'roberta.encoder.layer.1.attention.output.LayerNorm.bias', 'roberta.encoder.layer.3.attention.output.dense.bias', 'roberta.encoder.layer.5.intermediate.dense.bias', 'roberta.encoder.layer.5.attention.self.key.weight', 'roberta.encoder.layer.2.intermediate.dense.bias', 'roberta.encoder.layer.1.output.LayerNorm.bias', 'roberta.encoder.layer.1.output.dense.bias', 'roberta.encoder.layer.2.attention.self.query.bias', 'roberta.encoder.layer.1.attention.self.query.weight', 'roberta.encoder.layer.4.attention.self.query.weight', 'roberta.encoder.layer.3.attention.self.value.bias', 'roberta.encoder.layer.0.output.LayerNorm.weight', 'roberta.encoder.layer.1.output.dense.weight', 'roberta.encoder.layer.1.output.LayerNorm.weight', 'roberta.encoder.layer.2.output.LayerNorm.weight', 'roberta.encoder.layer.1.attention.self.key.weight', 'roberta.encoder.layer.2.attention.self.query.weight', 'roberta.encoder.layer.4.output.dense.bias', 'roberta.encoder.layer.4.intermediate.dense.bias', 'roberta.encoder.layer.4.attention.self.value.bias', 'roberta.encoder.layer.3.attention.output.LayerNorm.weight', 'roberta.encoder.layer.2.attention.output.dense.weight', 'roberta.encoder.layer.3.attention.self.query.bias', 'roberta.encoder.layer.2.attention.output.LayerNorm.bias', 'roberta.encoder.layer.5.attention.self.query.bias', 'roberta.encoder.layer.5.attention.output.LayerNorm.bias', 'lm_head.bias', 'roberta.encoder.layer.5.output.LayerNorm.bias', 'roberta.encoder.layer.5.output.LayerNorm.weight', 'roberta.encoder.layer.0.attention.output.LayerNorm.bias', 'roberta.encoder.layer.2.attention.self.key.weight', 'roberta.encoder.layer.3.attention.output.LayerNorm.bias', 'roberta.encoder.layer.2.intermediate.dense.weight', 'roberta.encoder.layer.5.attention.output.dense.bias', 'roberta.encoder.layer.5.attention.self.value.bias', 'roberta.encoder.layer.3.output.dense.weight', 'roberta.encoder.layer.4.attention.output.dense.weight', 'roberta.encoder.layer.3.output.LayerNorm.weight', 'roberta.encoder.layer.3.output.LayerNorm.bias', 'roberta.encoder.layer.1.attention.self.key.bias', 'roberta.encoder.layer.1.attention.self.value.bias', 'roberta.encoder.layer.0.intermediate.dense.weight', 'roberta.encoder.layer.3.attention.self.key.bias', 'roberta.encoder.layer.4.attention.self.key.bias', 'roberta.encoder.layer.3.attention.self.query.weight', 'roberta.encoder.layer.3.intermediate.dense.bias', 'roberta.embeddings.token_type_embeddings.weight', 'roberta.encoder.layer.0.attention.self.key.bias', 'roberta.encoder.layer.2.attention.self.value.weight', 'roberta.encoder.layer.1.attention.self.value.weight', 'roberta.encoder.layer.0.attention.output.dense.weight', 'roberta.encoder.layer.2.attention.self.key.bias', 'roberta.encoder.layer.0.output.dense.bias', 'roberta.encoder.layer.4.output.LayerNorm.weight', 'lm_head.dense.bias', 'roberta.encoder.layer.5.attention.output.dense.weight', 'roberta.encoder.layer.3.output.dense.bias', 'roberta.encoder.layer.1.attention.output.dense.bias', 'roberta.encoder.layer.0.attention.output.LayerNorm.weight', 'roberta.encoder.layer.2.attention.output.dense.bias', 'roberta.encoder.layer.4.attention.self.value.weight', 'roberta.encoder.layer.0.attention.self.value.weight', 'roberta.encoder.layer.2.attention.output.LayerNorm.weight', 'roberta.encoder.layer.5.intermediate.dense.weight', 'roberta.pooler.dense.weight', 'roberta.encoder.layer.4.attention.output.LayerNorm.bias', 'lm_head.decoder.bias', 'roberta.embeddings.LayerNorm.weight', 'roberta.pooler.dense.bias', 'lm_head.decoder.weight', 'roberta.encoder.layer.0.attention.output.dense.bias', 'roberta.encoder.layer.2.output.dense.weight', 'roberta.encoder.layer.5.attention.output.LayerNorm.weight', 'roberta.encoder.layer.5.output.dense.bias', 'roberta.encoder.layer.3.attention.self.value.weight', 'roberta.encoder.layer.2.output.LayerNorm.bias', 'lm_head.layer_norm.weight', 'roberta.encoder.layer.4.attention.self.key.weight', 'roberta.encoder.layer.4.attention.output.LayerNorm.weight', 'roberta.embeddings.LayerNorm.bias', 'roberta.embeddings.position_embeddings.weight', 'roberta.encoder.layer.4.attention.self.query.bias', 'lm_head.layer_norm.bias', 'roberta.encoder.layer.0.attention.self.value.bias', 'roberta.encoder.layer.4.attention.output.dense.bias', 'roberta.encoder.layer.3.attention.output.dense.weight', 'roberta.encoder.layer.0.attention.self.key.weight']\n",
      "- This IS expected if you are initializing BertModel from the checkpoint of a model trained on another task or with another architecture (e.g. initializing a BertForSequenceClassification model from a BertForPreTraining model).\n",
      "- This IS NOT expected if you are initializing BertModel from the checkpoint of a model that you expect to be exactly identical (initializing a BertForSequenceClassification model from a BertForSequenceClassification model).\n",
      "Some weights of BertModel were not initialized from the model checkpoint at seyonec/ChemBERTa-zinc-base-v1 and are newly initialized: ['encoder.layer.1.attention.self.value.bias', 'encoder.layer.3.intermediate.dense.bias', 'embeddings.position_embeddings.weight', 'encoder.layer.0.output.LayerNorm.weight', 'encoder.layer.5.attention.self.query.weight', 'encoder.layer.2.attention.output.dense.bias', 'encoder.layer.0.intermediate.dense.weight', 'encoder.layer.1.attention.self.key.bias', 'encoder.layer.3.attention.output.dense.weight', 'encoder.layer.4.attention.output.LayerNorm.bias', 'encoder.layer.1.attention.self.query.weight', 'encoder.layer.0.output.dense.weight', 'encoder.layer.1.attention.output.LayerNorm.bias', 'encoder.layer.1.output.dense.bias', 'encoder.layer.0.attention.self.value.weight', 'encoder.layer.3.attention.output.dense.bias', 'encoder.layer.1.output.LayerNorm.bias', 'encoder.layer.5.attention.self.key.bias', 'encoder.layer.4.output.dense.weight', 'encoder.layer.3.attention.output.LayerNorm.bias', 'encoder.layer.1.attention.self.key.weight', 'embeddings.token_type_embeddings.weight', 'encoder.layer.2.attention.self.query.weight', 'encoder.layer.2.output.LayerNorm.weight', 'encoder.layer.4.intermediate.dense.bias', 'encoder.layer.0.output.LayerNorm.bias', 'encoder.layer.4.attention.self.value.bias', 'encoder.layer.2.intermediate.dense.bias', 'encoder.layer.3.attention.self.value.bias', 'encoder.layer.4.attention.output.LayerNorm.weight', 'embeddings.LayerNorm.bias', 'encoder.layer.2.output.LayerNorm.bias', 'encoder.layer.1.attention.self.query.bias', 'encoder.layer.1.attention.output.dense.weight', 'encoder.layer.3.attention.output.LayerNorm.weight', 'pooler.dense.weight', 'encoder.layer.0.attention.output.LayerNorm.weight', 'encoder.layer.4.attention.self.query.weight', 'encoder.layer.5.attention.self.value.weight', 'encoder.layer.2.attention.self.value.weight', 'encoder.layer.5.attention.self.value.bias', 'encoder.layer.4.output.LayerNorm.bias', 'encoder.layer.1.output.dense.weight', 'encoder.layer.5.output.LayerNorm.bias', 'encoder.layer.2.intermediate.dense.weight', 'encoder.layer.0.attention.self.key.bias', 'encoder.layer.2.attention.self.query.bias', 'encoder.layer.0.attention.self.query.weight', 'encoder.layer.4.attention.self.value.weight', 'encoder.layer.2.attention.self.value.bias', 'encoder.layer.5.intermediate.dense.bias', 'encoder.layer.1.attention.output.LayerNorm.weight', 'encoder.layer.0.output.dense.bias', 'encoder.layer.3.attention.self.query.bias', 'encoder.layer.5.attention.output.LayerNorm.weight', 'encoder.layer.4.attention.output.dense.bias', 'encoder.layer.0.intermediate.dense.bias', 'embeddings.LayerNorm.weight', 'encoder.layer.2.output.dense.bias', 'encoder.layer.0.attention.self.value.bias', 'encoder.layer.2.attention.self.key.weight', 'encoder.layer.5.output.LayerNorm.weight', 'encoder.layer.2.attention.output.LayerNorm.bias', 'encoder.layer.0.attention.self.query.bias', 'encoder.layer.3.attention.self.key.weight', 'pooler.dense.bias', 'encoder.layer.3.output.dense.bias', 'encoder.layer.5.attention.output.dense.weight', 'encoder.layer.1.attention.self.value.weight', 'encoder.layer.5.output.dense.bias', 'embeddings.word_embeddings.weight', 'encoder.layer.1.output.LayerNorm.weight', 'encoder.layer.5.attention.self.key.weight', 'encoder.layer.3.output.LayerNorm.bias', 'encoder.layer.2.output.dense.weight', 'encoder.layer.1.intermediate.dense.bias', 'encoder.layer.5.attention.self.query.bias', 'encoder.layer.1.intermediate.dense.weight', 'encoder.layer.0.attention.self.key.weight', 'encoder.layer.5.attention.output.LayerNorm.bias', 'encoder.layer.5.attention.output.dense.bias', 'encoder.layer.3.output.LayerNorm.weight', 'encoder.layer.3.attention.self.key.bias', 'encoder.layer.4.attention.self.query.bias', 'encoder.layer.5.intermediate.dense.weight', 'encoder.layer.1.attention.output.dense.bias', 'encoder.layer.5.output.dense.weight', 'encoder.layer.0.attention.output.dense.weight', 'encoder.layer.3.attention.self.value.weight', 'encoder.layer.2.attention.output.LayerNorm.weight', 'encoder.layer.4.output.LayerNorm.weight', 'encoder.layer.3.attention.self.query.weight', 'encoder.layer.4.attention.self.key.bias', 'encoder.layer.4.attention.self.key.weight', 'encoder.layer.0.attention.output.dense.bias', 'encoder.layer.4.attention.output.dense.weight', 'encoder.layer.2.attention.output.dense.weight', 'encoder.layer.4.output.dense.bias', 'encoder.layer.3.intermediate.dense.weight', 'encoder.layer.0.attention.output.LayerNorm.bias', 'encoder.layer.4.intermediate.dense.weight', 'encoder.layer.3.output.dense.weight', 'encoder.layer.2.attention.self.key.bias']\n",
      "You should probably TRAIN this model on a down-stream task to be able to use it for predictions and inference.\n"
     ]
    }
   ],
   "source": [
    "embedding = get_okapi_tfidf_weighted_textual_embedding(\n",
    "    \"./data/lotus_aggregated.csv\",\n",
    "    separator=\",\",\n",
    "    header=True,\n",
    "    # The k1 and b are BM25 parameters.\n",
    "    # They may be tuned using a number of hyper-parameter optimization techniques.\n",
    "    k1 = 1.5,\n",
    "    b = 0.75,\n",
    "    columns=[\"structure_smiles_2D\"],\n",
    "    # Just set here any BERT-based model from huggingface.\n",
    "    pretrained_model_name_or_path=\"seyonec/ChemBERTa-zinc-base-v1\"\n",
    ")"
   ]
  },
  {
   "cell_type": "code",
   "execution_count": 45,
   "id": "d9ab7353",
   "metadata": {},
   "outputs": [
    {
     "data": {
      "text/plain": [
       "(20000, 768)"
      ]
     },
     "execution_count": 45,
     "metadata": {},
     "output_type": "execute_result"
    }
   ],
   "source": [
    "embedding.shape"
   ]
  },
  {
   "cell_type": "code",
   "execution_count": 46,
   "id": "4efcc678",
   "metadata": {},
   "outputs": [
    {
     "name": "stdout",
     "output_type": "stream",
     "text": [
      "Help on built-in function from_csv:\n",
      "\n",
      "from_csv(directed, node_type_path, node_type_list_separator, node_types_column_number, node_types_column, node_types_ids_column_number, node_types_ids_column, number_of_node_types, numeric_node_type_ids, minimum_node_type_id, node_type_list_header, node_type_list_support_balanced_quotes, node_type_list_rows_to_skip, node_type_list_is_correct, node_type_list_max_rows_number, node_type_list_comment_symbol, load_node_type_list_in_parallel, node_path, node_list_separator, node_list_header, node_list_support_balanced_quotes, node_list_rows_to_skip, node_list_is_correct, node_list_max_rows_number, node_list_comment_symbol, default_node_type, nodes_column_number, nodes_column, node_types_separator, node_list_node_types_column_number, node_list_node_types_column, node_ids_column, node_ids_column_number, number_of_nodes, minimum_node_id, numeric_node_ids, node_list_numeric_node_type_ids, skip_node_types_if_unavailable, load_node_list_in_parallel, edge_type_path, edge_types_column_number, edge_types_column, edge_types_ids_column_number, edge_types_ids_column, number_of_edge_types, numeric_edge_type_ids, minimum_edge_type_id, edge_type_list_separator, edge_type_list_header, edge_type_list_support_balanced_quotes, edge_type_list_rows_to_skip, edge_type_list_is_correct, edge_type_list_max_rows_number, edge_type_list_comment_symbol, load_edge_type_list_in_parallel, edge_path, edge_list_separator, edge_list_header, edge_list_support_balanced_quotes, edge_list_rows_to_skip, sources_column_number, sources_column, destinations_column_number, destinations_column, edge_list_edge_types_column_number, edge_list_edge_types_column, default_edge_type, weights_column_number, weights_column, default_weight, edge_ids_column, edge_ids_column_number, edge_list_numeric_edge_type_ids, edge_list_numeric_node_ids, skip_weights_if_unavailable, skip_edge_types_if_unavailable, edge_list_is_complete, edge_list_may_contain_duplicates, edge_list_is_sorted, edge_list_is_correct, edge_list_max_rows_number, edge_list_comment_symbol, number_of_edges, load_edge_list_in_parallel, remove_chevrons, remove_spaces, verbose, may_have_singletons, may_have_singleton_with_selfloops, name)\n",
      "    Return graph renderized from given CSVs or TSVs-like files.\n",
      "    \n",
      "    Parameters\n",
      "    ----------\n",
      "    node_type_path: Optional[str]\n",
      "        The path to the file with the unique node type names.\n",
      "    node_type_list_separator: Optional[str]\n",
      "        The separator to use for the node types file. Note that if this is not provided, one will be automatically detected among the following`: comma, semi-column, tab and space.\n",
      "    node_types_column_number: Optional[int]\n",
      "        The number of the column of the node types file from where to load the node types.\n",
      "    node_types_column: Optional[str]\n",
      "        The name of the column of the node types file from where to load the node types.\n",
      "    number_of_node_types: Optional[int]\n",
      "        The number of the unique node types. This will be used in order to allocate the correct size for the data structure.\n",
      "    numeric_node_type_ids: Optional[bool]\n",
      "        Whether the node type names should be loaded as numeric values, i.e. casted from string to a numeric representation.\n",
      "    minimum_node_type_id: Optional[int]\n",
      "        The minimum node type ID to be used when using numeric node type IDs.\n",
      "    node_type_list_header: Optional[bool]\n",
      "        Whether the node type file has an header.\n",
      "    node_type_list_support_balanced_quotes: Optional[bool]\n",
      "        Whether to support balanced quotes.\n",
      "    node_type_list_rows_to_skip: Optional[int]\n",
      "        The number of lines to skip in the node types file`: the header is already skipped if it has been specified that the file has an header.\n",
      "    node_type_list_is_correct: Optional[bool]\n",
      "        Whether the node types file can be assumed to be correct, i.e. does not have something wrong in it. If this parameter is passed as true on a malformed file, the constructor will crash.\n",
      "    node_type_list_max_rows_number: Optional[int]\n",
      "        The maximum number of lines to be loaded from the node types file.\n",
      "    node_type_list_comment_symbol: Optional[str]\n",
      "        The comment symbol to skip lines in the node types file. Lines starting with this symbol will be skipped.\n",
      "    load_node_type_list_in_parallel: Optional[bool]\n",
      "        Whether to load the node type list in parallel. Note that when loading in parallel, the internal order of the node type IDs may result changed across different iterations. We are working to get this to be stable.\n",
      "    node_path: Optional[str]\n",
      "        The path to the file with the unique node names.\n",
      "    node_list_separator: Optional[str]\n",
      "        The separator to use for the nodes file. Note that if this is not provided, one will be automatically detected among the following`: comma, semi-column, tab and space.\n",
      "    node_list_header: Optional[bool]\n",
      "        Whether the nodes file has an header.\n",
      "    node_list_support_balanced_quotes: Optional[bool]\n",
      "        Whether to support balanced quotes.\n",
      "    node_list_rows_to_skip: Optional[int]\n",
      "        Number of rows to skip in the node list file.\n",
      "    node_list_is_correct: Optional[bool]\n",
      "        Whether the nodes file can be assumed to be correct, i.e. does not have something wrong in it. If this parameter is passed as true on a malformed file, the constructor will crash.\n",
      "    node_list_max_rows_number: Optional[int]\n",
      "        The maximum number of lines to be loaded from the nodes file.\n",
      "    node_list_comment_symbol: Optional[str]\n",
      "        The comment symbol to skip lines in the nodes file. Lines starting with this symbol will be skipped.\n",
      "    default_node_type: Optional[str]\n",
      "        The node type to be used when the node type for a given node in the node file is None.\n",
      "    nodes_column_number: Optional[int]\n",
      "        The number of the column of the node file from where to load the node names.\n",
      "    nodes_column: Optional[str]\n",
      "        The name of the column of the node file from where to load the node names.\n",
      "    node_types_separator: Optional[str]\n",
      "        The node types separator.\n",
      "    node_list_node_types_column_number: Optional[int]\n",
      "        The number of the column of the node file from where to load the node types.\n",
      "    node_list_node_types_column: Optional[str]\n",
      "        The name of the column of the node file from where to load the node types.\n",
      "    node_ids_column: Optional[str]\n",
      "        The name of the column of the node file from where to load the node IDs.\n",
      "    node_ids_column_number: Optional[int]\n",
      "        The number of the column of the node file from where to load the node IDs\n",
      "    number_of_nodes: Optional[int]\n",
      "        The expected number of nodes. Note that this must be the EXACT number of nodes in the graph.\n",
      "    minimum_node_id: Optional[int]\n",
      "        The minimum node ID to be used, when loading the node IDs as numerical.\n",
      "    numeric_node_ids: Optional[bool]\n",
      "        Whether to load the numeric node IDs as numeric.\n",
      "    node_list_numeric_node_type_ids: Optional[bool]\n",
      "        Whether to load the node types IDs in the node file to be numeric.\n",
      "    skip_node_types_if_unavailable: Optional[bool]\n",
      "        Whether to skip the node types without raising an error if these are unavailable.\n",
      "    load_node_list_in_parallel: Optional[bool]\n",
      "        Whether to load the node list in parallel. When loading in parallel, without node IDs, the nodes may not be loaded in a deterministic order.\n",
      "    edge_type_path: Optional[str]\n",
      "        The path to the file with the unique edge type names.\n",
      "    edge_types_column_number: Optional[int]\n",
      "        The number of the column of the edge types file from where to load the edge types.\n",
      "    edge_types_column: Optional[str]\n",
      "        The name of the column of the edge types file from where to load the edge types.\n",
      "    number_of_edge_types: Optional[int]\n",
      "        The number of the unique edge types. This will be used in order to allocate the correct size for the data structure.\n",
      "    numeric_edge_type_ids: Optional[bool]\n",
      "        Whether the edge type names should be loaded as numeric values, i.e. casted from string to a numeric representation.\n",
      "    minimum_edge_type_id: Optional[int]\n",
      "        The minimum edge type ID to be used when using numeric edge type IDs.\n",
      "    edge_type_list_separator: Optional[str]\n",
      "        The separator to use for the edge type list. Note that, if None is provided, one will be attempted to be detected automatically between ';', ',', tab or space.\n",
      "    edge_type_list_header: Optional[bool]\n",
      "        Whether the edge type file has an header.\n",
      "    edge_type_list_support_balanced_quotes: Optional[bool]\n",
      "        Whether to support balanced quotes while reading the edge type list.\n",
      "    edge_type_list_rows_to_skip: Optional[int]\n",
      "        Number of rows to skip in the edge type list file.\n",
      "    edge_type_list_is_correct: Optional[bool]\n",
      "        Whether the edge types file can be assumed to be correct, i.e. does not have something wrong in it. If this parameter is passed as true on a malformed file, the constructor will crash.\n",
      "    edge_type_list_max_rows_number: Optional[int]\n",
      "        The maximum number of lines to be loaded from the edge types file.\n",
      "    edge_type_list_comment_symbol: Optional[str]\n",
      "        The comment symbol to skip lines in the edge types file. Lines starting with this symbol will be skipped.\n",
      "    load_edge_type_list_in_parallel: Optional[bool]\n",
      "        Whether to load the edge type list in parallel. When loading in parallel, without edge type IDs, the edge types may not be loaded in a deterministic order.\n",
      "    edge_path: Optional[str]\n",
      "        The path to the file with the edge list.\n",
      "    edge_list_separator: Optional[str]\n",
      "        The separator to use for the edge list. Note that, if None is provided, one will be attempted to be detected automatically between ';', ',', tab or space.\n",
      "    edge_list_header: Optional[bool]\n",
      "        Whether the edges file has an header.\n",
      "    edge_list_support_balanced_quotes: Optional[bool]\n",
      "        Whether to support balanced quotes while reading the edge list.\n",
      "    edge_list_rows_to_skip: Optional[int]\n",
      "        Number of rows to skip in the edge list file.\n",
      "    sources_column_number: Optional[int]\n",
      "        The number of the column of the edges file from where to load the source nodes.\n",
      "    sources_column: Optional[str]\n",
      "        The name of the column of the edges file from where to load the source nodes.\n",
      "    destinations_column_number: Optional[int]\n",
      "        The number of the column of the edges file from where to load the destinaton nodes.\n",
      "    destinations_column: Optional[str]\n",
      "        The name of the column of the edges file from where to load the destinaton nodes.\n",
      "    edge_list_edge_types_column_number: Optional[int]\n",
      "        The number of the column of the edges file from where to load the edge types.\n",
      "    edge_list_edge_types_column: Optional[str]\n",
      "        The name of the column of the edges file from where to load the edge types.\n",
      "    default_edge_type: Optional[str]\n",
      "        The edge type to be used when the edge type for a given edge in the edge file is None.\n",
      "    weights_column_number: Optional[int]\n",
      "        The number of the column of the edges file from where to load the edge weights.\n",
      "    weights_column: Optional[str]\n",
      "        The name of the column of the edges file from where to load the edge weights.\n",
      "    default_weight: Optional[float]\n",
      "        The edge weight to be used when the edge weight for a given edge in the edge file is None.\n",
      "    edge_ids_column: Optional[str]\n",
      "        The name of the column of the edges file from where to load the edge IDs.\n",
      "    edge_ids_column_number: Optional[int]\n",
      "        The number of the column of the edges file from where to load the edge IDs.\n",
      "    edge_list_numeric_edge_type_ids: Optional[bool]\n",
      "        Whether to load the edge type IDs as numeric from the edge list.\n",
      "    edge_list_numeric_node_ids: Optional[bool]\n",
      "        Whether to load the edge node IDs as numeric from the edge list.\n",
      "    skip_weights_if_unavailable: Optional[bool]\n",
      "        Whether to skip the weights without raising an error if these are unavailable.\n",
      "    skip_edge_types_if_unavailable: Optional[bool]\n",
      "        Whether to skip the edge types without raising an error if these are unavailable.\n",
      "    edge_list_is_complete: Optional[bool]\n",
      "        Whether to consider the edge list as complete, i.e. the edges are presented in both directions when loading an undirected graph.\n",
      "    edge_list_may_contain_duplicates: Optional[bool]\n",
      "        Whether the edge list may contain duplicates. If the edge list surely DOES NOT contain duplicates, a validation step may be skipped. By default, it is assumed that the edge list may contain duplicates.\n",
      "    edge_list_is_sorted: Optional[bool]\n",
      "        Whether the edge list is sorted. Note that a sorted edge list has the minimal memory peak, but requires the nodes number and the edges number.\n",
      "    edge_list_is_correct: Optional[bool]\n",
      "        Whether the edges file can be assumed to be correct, i.e. does not have something wrong in it. If this parameter is passed as true on a malformed file, the constructor will crash.\n",
      "    edge_list_max_rows_number: Optional[int]\n",
      "        The maximum number of lines to be loaded from the edges file.\n",
      "    edge_list_comment_symbol: Optional[str]\n",
      "        The comment symbol to skip lines in the edges file. Lines starting with this symbol will be skipped.\n",
      "    number_of_edges: Optional[int]\n",
      "        The expected number of edges. Note that this must be the EXACT number of edges in the graph.\n",
      "    load_edge_list_in_parallel: Optional[bool]\n",
      "        Whether to load the edge list in parallel. Note that, if the edge IDs indices are not given, it is NOT possible to load a sorted edge list. Similarly, when loading in parallel, without edge IDs, the edges may not be loaded in a deterministic order.\n",
      "    remove_chevrons: Optional[bool]\n",
      "        Whether remove chevrons while reading elements.\n",
      "    remove_spaces: Optional[bool]\n",
      "        Whether remove spaces while reading elements.\n",
      "    verbose: Optional[bool]\n",
      "        Whether to show a loading bar while reading the files. Note that, if parallel loading is enabled, loading bars will not be showed because they are a synchronization bottleneck.\n",
      "    may_have_singletons: Optional[bool]\n",
      "        Whether the graph may be expected to have singleton nodes. If it is said that it surely DOES NOT have any, it will allow for some speedups and lower mempry peaks.\n",
      "    may_have_singleton_with_selfloops: Optional[bool]\n",
      "        Whether the graph may be expected to have singleton nodes with selfloops. If it is said that it surely DOES NOT have any, it will allow for some speedups and lower mempry peaks.\n",
      "    directed: bool\n",
      "        Whether to load the graph as directed or undirected.\n",
      "    name: Optional[str]\n",
      "        The name of the graph to be loaded.\n",
      "\n"
     ]
    }
   ],
   "source": [
    "from grape import Graph\n",
    "help(Graph.from_csv)"
   ]
  }
 ],
 "metadata": {
  "kernelspec": {
   "display_name": "Python 3 (ipykernel)",
   "language": "python",
   "name": "python3"
  },
  "language_info": {
   "codemirror_mode": {
    "name": "ipython",
    "version": 3
   },
   "file_extension": ".py",
   "mimetype": "text/x-python",
   "name": "python",
   "nbconvert_exporter": "python",
   "pygments_lexer": "ipython3",
   "version": "3.10.8"
  }
 },
 "nbformat": 4,
 "nbformat_minor": 5
}
