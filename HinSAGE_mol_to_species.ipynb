{
 "cells": [
  {
   "cell_type": "code",
   "execution_count": 1,
   "id": "0c37f03d",
   "metadata": {
    "scrolled": true
   },
   "outputs": [
    {
     "name": "stderr",
     "output_type": "stream",
     "text": [
      "2023-06-27 17:24:14.067790: I tensorflow/core/platform/cpu_feature_guard.cc:193] This TensorFlow binary is optimized with oneAPI Deep Neural Network Library (oneDNN) to use the following CPU instructions in performance-critical operations:  SSE4.1 SSE4.2 AVX AVX2 FMA\n",
      "To enable them in other operations, rebuild TensorFlow with the appropriate compiler flags.\n",
      "2023-06-27 17:24:17.591316: I tensorflow/core/platform/cpu_feature_guard.cc:193] This TensorFlow binary is optimized with oneAPI Deep Neural Network Library (oneDNN) to use the following CPU instructions in performance-critical operations:  SSE4.1 SSE4.2 AVX AVX2 FMA\n",
      "To enable them in other operations, rebuild TensorFlow with the appropriate compiler flags.\n"
     ]
    }
   ],
   "source": [
    "import networkx as nx\n",
    "import itertools\n",
    "import pandas as pd\n",
    "import numpy as np\n",
    "from stellargraph import StellarGraph\n",
    "from rdkit.Chem import AllChem, DataStructs\n",
    "import json\n",
    "from sklearn import preprocessing, feature_extraction, model_selection\n",
    "from sklearn.metrics import mean_absolute_error, mean_squared_error\n",
    "from tensorflow import keras\n",
    "import tensorflow as tf\n",
    "\n",
    "import stellargraph as sg\n",
    "from stellargraph.data import EdgeSplitter\n",
    "from stellargraph.mapper import HinSAGELinkGenerator\n",
    "from stellargraph.layer import HinSAGE, link_classification\n",
    "from tensorflow.keras import Model, optimizers, losses, metrics\n",
    "\n",
    "import multiprocessing\n",
    "from stellargraph import datasets\n",
    "from IPython.display import display, HTML\n",
    "import matplotlib.pyplot as plt\n",
    "from tensorflow.keras import mixed_precision\n",
    "mixed_precision.set_global_policy('float32')"
   ]
  },
  {
   "cell_type": "code",
   "execution_count": 5,
   "id": "5abe1765",
   "metadata": {
    "scrolled": true
   },
   "outputs": [],
   "source": [
    "g = nx.read_graphml(\"./graph/lotus_DB_as_graph.gml\")\n",
    "#species_features_dummy = pd.read_csv(\"./data/species_features_dummy.csv.gz\", index_col=0)\n",
    "#species_features_dummy = pd.read_csv(\"./data/species_BaseNEncoder.csv.gz\", index_col=0)\n",
    "species_features_dummy = pd.read_csv(\"./data/species_Multi_dim_scale.csv.gz\", index_col=0)\n",
    "molecule_features_dummy = pd.read_csv(\"./data/mol_dummy_rdkit.csv.gz\", index_col=0).astype(\"int8\")\n",
    "df_agg = pd.read_csv(\"./data/lotus_aggregated.csv\", index_col=0)\n",
    "#molecule_features_dummy = pd.read_csv(\"./data/molecule_features_dummy.csv.gz\", index_col=0).astype('int8')"
   ]
  },
  {
   "cell_type": "code",
   "execution_count": 6,
   "id": "414372ea",
   "metadata": {},
   "outputs": [
    {
     "name": "stdout",
     "output_type": "stream",
     "text": [
      "StellarDiGraph: Directed multigraph\n",
      " Nodes: 184990, Edges: 876144\n",
      "\n",
      " Node types:\n",
      "  molecule: [148190]\n",
      "    Features: float32 vector, length 1024\n",
      "    Edge types: molecule-present_in->species\n",
      "  species: [36800]\n",
      "    Features: float32 vector, length 10\n",
      "    Edge types: species-has->molecule\n",
      "\n",
      " Edge types:\n",
      "    species-has->molecule: [438072]\n",
      "        Weights: all 1 (default)\n",
      "        Features: none\n",
      "    molecule-present_in->species: [438072]\n",
      "        Weights: all 1 (default)\n",
      "        Features: none\n"
     ]
    }
   ],
   "source": [
    "G = StellarGraph.from_networkx(g,\n",
    "                               node_features={'species':species_features_dummy,\n",
    "                                              'molecule': molecule_features_dummy})\n",
    "print(G.info())\n",
    "G.check_graph_for_ml()"
   ]
  },
  {
   "cell_type": "code",
   "execution_count": 7,
   "id": "8ccf42a8",
   "metadata": {},
   "outputs": [],
   "source": [
    "batch_size = 256 #default: 200\n",
    "epochs = 30 #default: 20\n",
    "num_samples = [1, 1]\n",
    "num_workers = multiprocessing.cpu_count()-2"
   ]
  },
  {
   "cell_type": "code",
   "execution_count": 8,
   "id": "40c70f1a",
   "metadata": {},
   "outputs": [
    {
     "name": "stdout",
     "output_type": "stream",
     "text": [
      "Network has 438072 edges of type present_in\n",
      "Network has 438072 edges of type present_in\n",
      "** Sampled 43807 positive and 43807 negative edges. **\n"
     ]
    }
   ],
   "source": [
    "# Define an edge splitter on the original graph G:\n",
    "edge_splitter_test = EdgeSplitter(G)\n",
    "\n",
    "# Randomly sample a fraction p=0.3 of all positive links, and same number of negative links, from G, and obtain the\n",
    "# reduced graph G_test with the sampled links removed:\n",
    "G_test, edge_ids_test, edge_labels_test = edge_splitter_test.train_test_split(\n",
    "    p=0.1, method=\"global\", keep_connected=False, edge_label=\"present_in\"\n",
    ")"
   ]
  },
  {
   "cell_type": "code",
   "execution_count": 9,
   "id": "a1299965",
   "metadata": {},
   "outputs": [
    {
     "name": "stdout",
     "output_type": "stream",
     "text": [
      "Network has 394265 edges of type present_in\n",
      "Network has 394265 edges of type present_in\n",
      "** Sampled 39426 positive and 39426 negative edges. **\n"
     ]
    }
   ],
   "source": [
    "# Define an edge splitter on the reduced graph G_test:\n",
    "edge_splitter_train = EdgeSplitter(G_test)\n",
    "\n",
    "# Randomly sample a fraction p=0.3 of all positive links, and same number of negative links, from G_test, and obtain the\n",
    "# reduced graph G_train with the sampled links removed:\n",
    "G_train, edge_ids_train, edge_labels_train = edge_splitter_train.train_test_split(\n",
    "    p=0.1, method=\"global\", keep_connected=False, edge_label=\"present_in\"\n",
    ")"
   ]
  },
  {
   "cell_type": "code",
   "execution_count": 10,
   "id": "6a4c7cf1",
   "metadata": {},
   "outputs": [
    {
     "name": "stdout",
     "output_type": "stream",
     "text": [
      "StellarDiGraph: Directed multigraph\n",
      " Nodes: 184990, Edges: 792911\n",
      "\n",
      " Node types:\n",
      "  molecule: [148190]\n",
      "    Features: float32 vector, length 1024\n",
      "    Edge types: molecule-present_in->species\n",
      "  species: [36800]\n",
      "    Features: float32 vector, length 10\n",
      "    Edge types: species-has->molecule\n",
      "\n",
      " Edge types:\n",
      "    species-has->molecule: [438072]\n",
      "        Weights: all 1 (default)\n",
      "        Features: none\n",
      "    molecule-present_in->species: [354839]\n",
      "        Weights: all 1 (default)\n",
      "        Features: none\n"
     ]
    }
   ],
   "source": [
    "print(G_train.info())"
   ]
  },
  {
   "cell_type": "code",
   "execution_count": 11,
   "id": "96de8525",
   "metadata": {},
   "outputs": [
    {
     "name": "stdout",
     "output_type": "stream",
     "text": [
      "StellarDiGraph: Directed multigraph\n",
      " Nodes: 184990, Edges: 832337\n",
      "\n",
      " Node types:\n",
      "  molecule: [148190]\n",
      "    Features: float32 vector, length 1024\n",
      "    Edge types: molecule-present_in->species\n",
      "  species: [36800]\n",
      "    Features: float32 vector, length 10\n",
      "    Edge types: species-has->molecule\n",
      "\n",
      " Edge types:\n",
      "    species-has->molecule: [438072]\n",
      "        Weights: all 1 (default)\n",
      "        Features: none\n",
      "    molecule-present_in->species: [394265]\n",
      "        Weights: all 1 (default)\n",
      "        Features: none\n"
     ]
    }
   ],
   "source": [
    "print(G_test.info())"
   ]
  },
  {
   "cell_type": "code",
   "execution_count": 12,
   "id": "7fd9d1d9",
   "metadata": {},
   "outputs": [],
   "source": [
    "train_gen = HinSAGELinkGenerator(G_train,\n",
    "                                 batch_size=batch_size,\n",
    "                                 num_samples=num_samples,\n",
    "                                 head_node_types=[\"molecule\", \"species\"])\n",
    "train_flow = train_gen.flow(edge_ids_train, edge_labels_train, shuffle=True)"
   ]
  },
  {
   "cell_type": "code",
   "execution_count": 13,
   "id": "3d967859",
   "metadata": {},
   "outputs": [],
   "source": [
    "test_gen = HinSAGELinkGenerator(G_test,\n",
    "                                batch_size=batch_size,\n",
    "                                num_samples=num_samples,\n",
    "                                head_node_types=[\"molecule\", \"species\"])\n",
    "test_flow = test_gen.flow(edge_ids_test, edge_labels_test)"
   ]
  },
  {
   "cell_type": "code",
   "execution_count": 14,
   "id": "d94b97ac",
   "metadata": {},
   "outputs": [],
   "source": [
    "hinsage_layer_sizes = [128, 128]\n",
    "hinsage = HinSAGE(layer_sizes=hinsage_layer_sizes,\n",
    "                  generator=train_gen,\n",
    "                  bias=True,\n",
    "                  dropout=0.3,\n",
    "                 activations=['elu','selu'])"
   ]
  },
  {
   "cell_type": "code",
   "execution_count": 15,
   "id": "7f3f8d54",
   "metadata": {
    "scrolled": false
   },
   "outputs": [
    {
     "name": "stderr",
     "output_type": "stream",
     "text": [
      "/usr/local/Caskroom/mambaforge/base/envs/stellar_graph/lib/python3.10/site-packages/keras/initializers/initializers_v2.py:120: UserWarning: The initializer GlorotUniform is unseeded and being called multiple times, which will return identical values  each time (even if the initializer is unseeded). Please update your code to provide a seed to the initializer, or avoid using the same initalizer instance more than once.\n",
      "  warnings.warn(\n"
     ]
    }
   ],
   "source": [
    "# Build the model and expose input and output sockets of graphsage model\n",
    "# for link prediction\n",
    "x_inp, x_out = hinsage.in_out_tensors()"
   ]
  },
  {
   "cell_type": "code",
   "execution_count": 16,
   "id": "96dddf17",
   "metadata": {},
   "outputs": [
    {
     "name": "stdout",
     "output_type": "stream",
     "text": [
      "link_classification: using 'l1' method to combine node embeddings into edge embeddings\n"
     ]
    }
   ],
   "source": [
    "prediction = link_classification(output_dim=1,\n",
    "                                 output_act=\"sigmoid\",\n",
    "                                 edge_embedding_method=\"l1\")(x_out)"
   ]
  },
  {
   "cell_type": "code",
   "execution_count": 17,
   "id": "a49ccd38",
   "metadata": {},
   "outputs": [],
   "source": [
    "model = keras.Model(inputs=x_inp, outputs=prediction)\n",
    "lr_schedule = keras.optimizers.schedules.ExponentialDecay(\n",
    "    initial_learning_rate=1e-1,\n",
    "    decay_steps=10000,\n",
    "    decay_rate=0.95)\n",
    "\n",
    "optimizer=keras.optimizers.Adam(learning_rate=lr_schedule)\n",
    "#optimizer = mixed_precision.LossScaleOptimizer(optimizer)\n",
    "\n",
    "model.compile(\n",
    "    optimizer=optimizer,\n",
    "    loss=keras.losses.binary_crossentropy,\n",
    "    metrics=[\"AUC\"],\n",
    ")"
   ]
  },
  {
   "cell_type": "code",
   "execution_count": 18,
   "id": "90028704",
   "metadata": {},
   "outputs": [
    {
     "name": "stdout",
     "output_type": "stream",
     "text": [
      "309/309 - 6s - loss: 0.6983 - auc: 0.4830 - 6s/epoch - 20ms/step\n",
      "343/343 - 6s - loss: 0.6990 - auc: 0.4759 - 6s/epoch - 16ms/step\n",
      "\n",
      "Train Set Metrics of the initial (untrained) model:\n",
      "\tloss: 0.6983\n",
      "\tauc: 0.4830\n",
      "\n",
      "Test Set Metrics of the initial (untrained) model:\n",
      "\tloss: 0.6990\n",
      "\tauc: 0.4759\n"
     ]
    }
   ],
   "source": [
    "init_train_metrics = model.evaluate(train_flow, workers=num_workers, verbose=2)\n",
    "init_test_metrics = model.evaluate(test_flow, workers=num_workers, verbose=2)\n",
    "\n",
    "print(\"\\nTrain Set Metrics of the initial (untrained) model:\")\n",
    "for name, val in zip(model.metrics_names, init_train_metrics):\n",
    "    print(\"\\t{}: {:0.4f}\".format(name, val))\n",
    "\n",
    "print(\"\\nTest Set Metrics of the initial (untrained) model:\")\n",
    "for name, val in zip(model.metrics_names, init_test_metrics):\n",
    "    print(\"\\t{}: {:0.4f}\".format(name, val))"
   ]
  },
  {
   "cell_type": "code",
   "execution_count": 19,
   "id": "e34c9a03",
   "metadata": {},
   "outputs": [
    {
     "name": "stdout",
     "output_type": "stream",
     "text": [
      "Epoch 1/30\n",
      "309/309 - 20s - loss: 0.5817 - auc: 0.7572 - val_loss: 0.5051 - val_auc: 0.8551 - 20s/epoch - 63ms/step\n",
      "Epoch 2/30\n",
      "309/309 - 12s - loss: 0.5101 - auc: 0.8272 - val_loss: 0.4359 - val_auc: 0.8794 - 12s/epoch - 40ms/step\n",
      "Epoch 3/30\n",
      "309/309 - 20s - loss: 0.4772 - auc: 0.8517 - val_loss: 0.4178 - val_auc: 0.8899 - 20s/epoch - 65ms/step\n",
      "Epoch 4/30\n",
      "309/309 - 18s - loss: 0.4562 - auc: 0.8659 - val_loss: 0.4061 - val_auc: 0.8967 - 18s/epoch - 59ms/step\n",
      "Epoch 5/30\n",
      "309/309 - 18s - loss: 0.4423 - auc: 0.8750 - val_loss: 0.3917 - val_auc: 0.9044 - 18s/epoch - 60ms/step\n",
      "Epoch 6/30\n",
      "309/309 - 12s - loss: 0.4331 - auc: 0.8808 - val_loss: 0.3890 - val_auc: 0.9059 - 12s/epoch - 40ms/step\n",
      "Epoch 7/30\n",
      "309/309 - 17s - loss: 0.4257 - auc: 0.8851 - val_loss: 0.3775 - val_auc: 0.9109 - 17s/epoch - 56ms/step\n",
      "Epoch 8/30\n",
      "309/309 - 18s - loss: 0.4171 - auc: 0.8901 - val_loss: 0.3716 - val_auc: 0.9139 - 18s/epoch - 58ms/step\n",
      "Epoch 9/30\n",
      "309/309 - 19s - loss: 0.4130 - auc: 0.8924 - val_loss: 0.4260 - val_auc: 0.9067 - 19s/epoch - 63ms/step\n",
      "Epoch 10/30\n",
      "309/309 - 18s - loss: 0.4121 - auc: 0.8928 - val_loss: 0.3687 - val_auc: 0.9161 - 18s/epoch - 57ms/step\n",
      "Epoch 11/30\n",
      "309/309 - 18s - loss: 0.4000 - auc: 0.8994 - val_loss: 0.3624 - val_auc: 0.9195 - 18s/epoch - 58ms/step\n",
      "Epoch 12/30\n",
      "309/309 - 14s - loss: 0.3973 - auc: 0.9009 - val_loss: 0.3595 - val_auc: 0.9203 - 14s/epoch - 45ms/step\n",
      "Epoch 13/30\n",
      "309/309 - 18s - loss: 0.3920 - auc: 0.9037 - val_loss: 0.3609 - val_auc: 0.9201 - 18s/epoch - 58ms/step\n",
      "Epoch 14/30\n",
      "309/309 - 18s - loss: 0.3909 - auc: 0.9042 - val_loss: 0.3694 - val_auc: 0.9197 - 18s/epoch - 58ms/step\n",
      "Epoch 15/30\n",
      "309/309 - 21s - loss: 0.3851 - auc: 0.9073 - val_loss: 0.3521 - val_auc: 0.9237 - 21s/epoch - 69ms/step\n",
      "Epoch 16/30\n",
      "309/309 - 18s - loss: 0.3817 - auc: 0.9091 - val_loss: 0.3500 - val_auc: 0.9249 - 18s/epoch - 58ms/step\n",
      "Epoch 17/30\n",
      "309/309 - 17s - loss: 0.3806 - auc: 0.9095 - val_loss: 0.3499 - val_auc: 0.9243 - 17s/epoch - 56ms/step\n",
      "Epoch 18/30\n",
      "309/309 - 17s - loss: 0.3780 - auc: 0.9107 - val_loss: 0.3502 - val_auc: 0.9247 - 17s/epoch - 56ms/step\n",
      "Epoch 19/30\n",
      "309/309 - 12s - loss: 0.3768 - auc: 0.9114 - val_loss: 0.3619 - val_auc: 0.9263 - 12s/epoch - 40ms/step\n",
      "Epoch 20/30\n",
      "309/309 - 17s - loss: 0.3692 - auc: 0.9152 - val_loss: 0.3463 - val_auc: 0.9269 - 17s/epoch - 57ms/step\n",
      "Epoch 21/30\n",
      "309/309 - 20s - loss: 0.3653 - auc: 0.9171 - val_loss: 0.3456 - val_auc: 0.9281 - 20s/epoch - 63ms/step\n",
      "Epoch 22/30\n",
      "309/309 - 17s - loss: 0.3636 - auc: 0.9178 - val_loss: 0.3448 - val_auc: 0.9282 - 17s/epoch - 57ms/step\n",
      "Epoch 23/30\n",
      "309/309 - 18s - loss: 0.3632 - auc: 0.9180 - val_loss: 0.3416 - val_auc: 0.9282 - 18s/epoch - 57ms/step\n",
      "Epoch 24/30\n",
      "309/309 - 17s - loss: 0.3607 - auc: 0.9193 - val_loss: 0.3406 - val_auc: 0.9288 - 17s/epoch - 56ms/step\n",
      "Epoch 25/30\n",
      "309/309 - 17s - loss: 0.3602 - auc: 0.9195 - val_loss: 0.3379 - val_auc: 0.9297 - 17s/epoch - 56ms/step\n",
      "Epoch 26/30\n",
      "309/309 - 17s - loss: 0.3594 - auc: 0.9200 - val_loss: 0.3412 - val_auc: 0.9299 - 17s/epoch - 56ms/step\n",
      "Epoch 27/30\n",
      "309/309 - 13s - loss: 0.3592 - auc: 0.9200 - val_loss: 0.3364 - val_auc: 0.9305 - 13s/epoch - 41ms/step\n",
      "Epoch 28/30\n"
     ]
    },
    {
     "name": "stderr",
     "output_type": "stream",
     "text": [
      "2023-06-27 17:38:00.385634: W tensorflow/core/framework/op_kernel.cc:1818] INVALID_ARGUMENT: TypeError: 'NoneType' object is not subscriptable\n",
      "Traceback (most recent call last):\n",
      "\n",
      "  File \"/usr/local/Caskroom/mambaforge/base/envs/stellar_graph/lib/python3.10/site-packages/tensorflow/python/ops/script_ops.py\", line 271, in __call__\n",
      "    ret = func(*args)\n",
      "\n",
      "  File \"/usr/local/Caskroom/mambaforge/base/envs/stellar_graph/lib/python3.10/site-packages/tensorflow/python/autograph/impl/api.py\", line 642, in wrapper\n",
      "    return func(*args, **kwargs)\n",
      "\n",
      "  File \"/usr/local/Caskroom/mambaforge/base/envs/stellar_graph/lib/python3.10/site-packages/tensorflow/python/data/ops/dataset_ops.py\", line 1039, in generator_py_func\n",
      "    values = next(generator_state.get_iterator(iterator_id))\n",
      "\n",
      "  File \"/usr/local/Caskroom/mambaforge/base/envs/stellar_graph/lib/python3.10/site-packages/keras/engine/data_adapter.py\", line 901, in wrapped_generator\n",
      "    for data in generator_fn():\n",
      "\n",
      "  File \"/usr/local/Caskroom/mambaforge/base/envs/stellar_graph/lib/python3.10/site-packages/keras/utils/data_utils.py\", line 823, in get\n",
      "    raise e\n",
      "\n",
      "  File \"/usr/local/Caskroom/mambaforge/base/envs/stellar_graph/lib/python3.10/site-packages/keras/utils/data_utils.py\", line 814, in get\n",
      "    inputs = self.queue.get(block=True, timeout=5).get()\n",
      "\n",
      "  File \"/usr/local/Caskroom/mambaforge/base/envs/stellar_graph/lib/python3.10/multiprocessing/pool.py\", line 774, in get\n",
      "    raise self._value\n",
      "\n",
      "  File \"/usr/local/Caskroom/mambaforge/base/envs/stellar_graph/lib/python3.10/multiprocessing/pool.py\", line 125, in worker\n",
      "    result = (True, func(*args, **kwds))\n",
      "\n",
      "  File \"/usr/local/Caskroom/mambaforge/base/envs/stellar_graph/lib/python3.10/site-packages/keras/utils/data_utils.py\", line 600, in get_index\n",
      "    return _SHARED_SEQUENCES[uid][i]\n",
      "\n",
      "TypeError: 'NoneType' object is not subscriptable\n",
      "\n",
      "\n"
     ]
    },
    {
     "name": "stdout",
     "output_type": "stream",
     "text": [
      "309/309 - 19s - loss: 0.3570 - auc: 0.9209 - val_loss: 0.3382 - val_auc: 0.9300 - 19s/epoch - 63ms/step\n",
      "Epoch 29/30\n",
      "309/309 - 13s - loss: 0.3538 - auc: 0.9224 - val_loss: 0.3437 - val_auc: 0.9312 - 13s/epoch - 41ms/step\n",
      "Epoch 30/30\n"
     ]
    },
    {
     "name": "stderr",
     "output_type": "stream",
     "text": [
      "2023-06-27 17:38:32.584915: W tensorflow/core/framework/op_kernel.cc:1818] INVALID_ARGUMENT: TypeError: 'NoneType' object is not subscriptable\n",
      "Traceback (most recent call last):\n",
      "\n",
      "  File \"/usr/local/Caskroom/mambaforge/base/envs/stellar_graph/lib/python3.10/site-packages/tensorflow/python/ops/script_ops.py\", line 271, in __call__\n",
      "    ret = func(*args)\n",
      "\n",
      "  File \"/usr/local/Caskroom/mambaforge/base/envs/stellar_graph/lib/python3.10/site-packages/tensorflow/python/autograph/impl/api.py\", line 642, in wrapper\n",
      "    return func(*args, **kwargs)\n",
      "\n",
      "  File \"/usr/local/Caskroom/mambaforge/base/envs/stellar_graph/lib/python3.10/site-packages/tensorflow/python/data/ops/dataset_ops.py\", line 1039, in generator_py_func\n",
      "    values = next(generator_state.get_iterator(iterator_id))\n",
      "\n",
      "  File \"/usr/local/Caskroom/mambaforge/base/envs/stellar_graph/lib/python3.10/site-packages/keras/engine/data_adapter.py\", line 901, in wrapped_generator\n",
      "    for data in generator_fn():\n",
      "\n",
      "  File \"/usr/local/Caskroom/mambaforge/base/envs/stellar_graph/lib/python3.10/site-packages/keras/utils/data_utils.py\", line 823, in get\n",
      "    raise e\n",
      "\n",
      "  File \"/usr/local/Caskroom/mambaforge/base/envs/stellar_graph/lib/python3.10/site-packages/keras/utils/data_utils.py\", line 814, in get\n",
      "    inputs = self.queue.get(block=True, timeout=5).get()\n",
      "\n",
      "  File \"/usr/local/Caskroom/mambaforge/base/envs/stellar_graph/lib/python3.10/multiprocessing/pool.py\", line 774, in get\n",
      "    raise self._value\n",
      "\n",
      "  File \"/usr/local/Caskroom/mambaforge/base/envs/stellar_graph/lib/python3.10/multiprocessing/pool.py\", line 125, in worker\n",
      "    result = (True, func(*args, **kwds))\n",
      "\n",
      "  File \"/usr/local/Caskroom/mambaforge/base/envs/stellar_graph/lib/python3.10/site-packages/keras/utils/data_utils.py\", line 600, in get_index\n",
      "    return _SHARED_SEQUENCES[uid][i]\n",
      "\n",
      "TypeError: 'NoneType' object is not subscriptable\n",
      "\n",
      "\n"
     ]
    },
    {
     "name": "stdout",
     "output_type": "stream",
     "text": [
      "309/309 - 17s - loss: 0.3526 - auc: 0.9230 - val_loss: 0.3357 - val_auc: 0.9312 - 17s/epoch - 56ms/step\n"
     ]
    }
   ],
   "source": [
    "callbacks = keras.callbacks.EarlyStopping(monitor=\"val_loss\",\n",
    "                                          patience=10,\n",
    "                                          mode=\"auto\",\n",
    "                                          restore_best_weights=True)\n",
    "\n",
    "history = model.fit(train_flow,\n",
    "                    epochs=epochs,\n",
    "                    workers=num_workers,\n",
    "                    validation_data=test_flow,\n",
    "                    verbose=2,\n",
    "                    callbacks=[callbacks],\n",
    "                    validation_split=0.0,\n",
    "                    shuffle=True\n",
    "                   )"
   ]
  },
  {
   "cell_type": "code",
   "execution_count": 20,
   "id": "a727f52e",
   "metadata": {
    "scrolled": true
   },
   "outputs": [
    {
     "data": {
      "image/png": "[encoded data removed]",
      "text/plain": [
       "<Figure size 700x800 with 2 Axes>"
      ]
     },
     "metadata": {},
     "output_type": "display_data"
    }
   ],
   "source": [
    "sg.utils.plot_history(history)"
   ]
  },
  {
   "cell_type": "code",
   "execution_count": 21,
   "id": "1fd3266a",
   "metadata": {
    "scrolled": false
   },
   "outputs": [
    {
     "name": "stdout",
     "output_type": "stream",
     "text": [
      "309/309 - 5s - loss: 0.2668 - auc: 0.9571 - 5s/epoch - 16ms/step\n",
      "343/343 - 5s - loss: 0.3341 - auc: 0.9319 - 5s/epoch - 15ms/step\n",
      "\n",
      "Train Set Metrics of the trained model:\n",
      "\tloss: 0.2668\n",
      "\tauc: 0.9571\n",
      "\n",
      "Test Set Metrics of the trained model:\n",
      "\tloss: 0.3341\n",
      "\tauc: 0.9319\n"
     ]
    }
   ],
   "source": [
    "train_metrics = model.evaluate(train_flow, verbose=2)\n",
    "test_metrics = model.evaluate(test_flow, verbose=2)\n",
    "\n",
    "print(\"\\nTrain Set Metrics of the trained model:\")\n",
    "for name, val in zip(model.metrics_names, train_metrics):\n",
    "    print(\"\\t{}: {:0.4f}\".format(name, val))\n",
    "\n",
    "print(\"\\nTest Set Metrics of the trained model:\")\n",
    "for name, val in zip(model.metrics_names, test_metrics):\n",
    "    print(\"\\t{}: {:0.4f}\".format(name, val))"
   ]
  },
  {
   "cell_type": "code",
   "execution_count": 22,
   "id": "39a63722",
   "metadata": {},
   "outputs": [],
   "source": [
    "test_pred = HinSAGELinkGenerator(G,\n",
    "                                 batch_size=128,\n",
    "                                num_samples=num_samples,\n",
    "                                head_node_types=[\"molecule\", \"species\"]).flow(edge_ids_test, edge_labels_test)"
   ]
  },
  {
   "cell_type": "code",
   "execution_count": 23,
   "id": "d59e7dbc",
   "metadata": {
    "scrolled": true
   },
   "outputs": [
    {
     "name": "stdout",
     "output_type": "stream",
     "text": [
      "685/685 [==============================] - 7s 9ms/step\n"
     ]
    }
   ],
   "source": [
    "predictions = model.predict(test_pred, workers=3)"
   ]
  },
  {
   "cell_type": "code",
   "execution_count": 24,
   "id": "769c15a5",
   "metadata": {},
   "outputs": [],
   "source": [
    "predictions = predictions.flatten()"
   ]
  },
  {
   "cell_type": "code",
   "execution_count": 25,
   "id": "68b35e84",
   "metadata": {},
   "outputs": [],
   "source": [
    "test = predictions[(predictions>0.9) | (predictions<0.1)]\n",
    "test = test>0.5"
   ]
  },
  {
   "cell_type": "code",
   "execution_count": 26,
   "id": "8c10314e",
   "metadata": {},
   "outputs": [],
   "source": [
    "test = test.astype('int8')"
   ]
  },
  {
   "cell_type": "code",
   "execution_count": 27,
   "id": "7db6b010",
   "metadata": {},
   "outputs": [
    {
     "data": {
      "text/plain": [
       "(array([27538.,  8089.,  5285.,  4047.,  3736.,  3515.,  3873.,  4402.,\n",
       "         6331., 20798.]),\n",
       " array([5.58189895e-05, 1.00039124e-01, 2.00022429e-01, 3.00005734e-01,\n",
       "        3.99989039e-01, 4.99972343e-01, 5.99955678e-01, 6.99938953e-01,\n",
       "        7.99922287e-01, 8.99905562e-01, 9.99888897e-01]),\n",
       " <BarContainer object of 10 artists>)"
      ]
     },
     "execution_count": 27,
     "metadata": {},
     "output_type": "execute_result"
    },
    {
     "data": {
      "image/png": "[encoded data removed]",
      "text/plain": [
       "<Figure size 640x480 with 1 Axes>"
      ]
     },
     "metadata": {},
     "output_type": "display_data"
    }
   ],
   "source": [
    "plt.hist(predictions)"
   ]
  },
  {
   "cell_type": "code",
   "execution_count": 28,
   "id": "cfacbdfb",
   "metadata": {},
   "outputs": [
    {
     "data": {
      "text/plain": [
       "(array([    6,     9,    10, ..., 87609, 87611, 87613]),)"
      ]
     },
     "execution_count": 28,
     "metadata": {},
     "output_type": "execute_result"
    }
   ],
   "source": [
    "np.where((predictions>0.9) | (predictions<0.1))"
   ]
  },
  {
   "cell_type": "code",
   "execution_count": 29,
   "id": "df2f017e",
   "metadata": {
    "scrolled": true
   },
   "outputs": [
    {
     "data": {
      "text/plain": [
       "0.9412507242777916"
      ]
     },
     "execution_count": 29,
     "metadata": {},
     "output_type": "execute_result"
    }
   ],
   "source": [
    "sum(test == edge_labels_test[np.where((predictions>0.9) | (predictions<0.1))])/len(test)"
   ]
  },
  {
   "cell_type": "code",
   "execution_count": 30,
   "id": "0c82ada5",
   "metadata": {},
   "outputs": [
    {
     "data": {
      "text/plain": [
       "0.5515556874472116"
      ]
     },
     "execution_count": 30,
     "metadata": {},
     "output_type": "execute_result"
    }
   ],
   "source": [
    "len(test)/len(predictions)"
   ]
  },
  {
   "cell_type": "code",
   "execution_count": 31,
   "id": "d2165f29",
   "metadata": {},
   "outputs": [],
   "source": [
    "df_agg = pd.read_csv(\"./data/lotus_aggregated.csv\", index_col=0)"
   ]
  },
  {
   "cell_type": "code",
   "execution_count": 32,
   "id": "b9ae1305",
   "metadata": {},
   "outputs": [],
   "source": [
    "finaly_test = np.array(list(zip(df_agg.structure_smiles_2D[:1000],df_agg.organism_name[::-1][:1000])))"
   ]
  },
  {
   "cell_type": "code",
   "execution_count": 33,
   "id": "e93a816d",
   "metadata": {},
   "outputs": [],
   "source": [
    "final_test = HinSAGELinkGenerator(G,\n",
    "                                batch_size=128,\n",
    "                                num_samples=num_samples,\n",
    "                                head_node_types=[\"molecule\", \"species\"]).flow(finaly_test, np.ones(len(finaly_test)).reshape(-1, 1))"
   ]
  },
  {
   "cell_type": "code",
   "execution_count": 34,
   "id": "907ac477",
   "metadata": {
    "scrolled": true
   },
   "outputs": [
    {
     "name": "stdout",
     "output_type": "stream",
     "text": [
      "8/8 [==============================] - 0s 9ms/step\n"
     ]
    }
   ],
   "source": [
    "res = model.predict(final_test).flatten()"
   ]
  },
  {
   "cell_type": "code",
   "execution_count": 35,
   "id": "2390a03a",
   "metadata": {
    "scrolled": true
   },
   "outputs": [
    {
     "data": {
      "text/plain": [
       "array([0.9790229 , 0.9981784 , 0.9574181 , 0.96575314, 0.9831523 ,\n",
       "       0.9199743 , 0.99285644, 0.916918  , 0.9286133 , 0.9341604 ,\n",
       "       0.934744  , 0.9968909 , 0.9210354 , 0.91861516, 0.9959626 ,\n",
       "       0.9662845 , 0.9928529 , 0.92395157, 0.98002064, 0.98952794,\n",
       "       0.99904156, 0.9003068 , 0.9753665 , 0.9915076 , 0.9118756 ,\n",
       "       0.98723453, 0.99583966, 0.91267323, 0.9385543 , 0.9906539 ,\n",
       "       0.9516693 , 0.95016974, 0.9743162 , 0.9287255 , 0.98175466,\n",
       "       0.9961362 , 0.9940377 , 0.99959904, 0.9571324 , 0.9469965 ,\n",
       "       0.9739665 , 0.99769735, 0.9607878 , 0.98786587, 0.9983597 ,\n",
       "       0.993761  , 0.97169775, 0.9663501 , 0.9331021 , 0.98793966,\n",
       "       0.9786901 , 0.98566365, 0.96200377, 0.98938304, 0.9992895 ,\n",
       "       0.99213994, 0.9906879 , 0.98786926, 0.9036397 , 0.9771786 ,\n",
       "       0.9798532 , 0.99257547, 0.9175026 , 0.9970839 , 0.9795668 ,\n",
       "       0.9159113 , 0.96568114, 0.99515235, 0.99814796, 0.9750453 ,\n",
       "       0.9883338 , 0.92522657, 0.9765    , 0.998901  , 0.98563445,\n",
       "       0.92007256, 0.9135507 , 0.933031  , 0.9702479 , 0.93386316,\n",
       "       0.990118  , 0.9796617 , 0.96283597, 0.9099523 , 0.96901894,\n",
       "       0.9714229 , 0.9200113 , 0.9884037 , 0.97267693, 0.99868995,\n",
       "       0.98020446, 0.9451099 , 0.96728826, 0.98873186, 0.9100537 ,\n",
       "       0.9784424 , 0.9621642 , 0.9360272 , 0.9202428 , 0.981533  ,\n",
       "       0.93118423, 0.982301  , 0.99281764, 0.9873735 , 0.9970523 ,\n",
       "       0.9092656 , 0.990119  , 0.9796224 , 0.9017832 , 0.98707134,\n",
       "       0.90253824, 0.93441874, 0.99721414, 0.9687457 , 0.90741324,\n",
       "       0.9850175 , 0.97130555, 0.9698086 , 0.9738702 , 0.938739  ,\n",
       "       0.95405406, 0.914974  , 0.99814826, 0.99077326, 0.9866597 ,\n",
       "       0.97347385, 0.971883  , 0.9825735 , 0.994837  , 0.9946036 ,\n",
       "       0.94785714, 0.9861506 , 0.9862838 , 0.9614154 , 0.9588721 ,\n",
       "       0.9827869 , 0.9474915 , 0.9876862 , 0.91868496, 0.97772753,\n",
       "       0.9727552 , 0.913138  , 0.9003041 , 0.9625827 , 0.9711486 ,\n",
       "       0.97750527, 0.9944271 , 0.9842847 , 0.9914663 , 0.92406714,\n",
       "       0.9751629 , 0.9271025 , 0.99240154, 0.96263933, 0.94801146,\n",
       "       0.98037225, 0.97160864, 0.9598545 , 0.9419413 , 0.9714522 ,\n",
       "       0.92809063, 0.9977053 , 0.99821305, 0.9532339 , 0.95708895,\n",
       "       0.9788655 , 0.97008955, 0.96178   , 0.96257263, 0.9417068 ,\n",
       "       0.99227566, 0.9829905 , 0.99291795, 0.9673079 , 0.9986442 ,\n",
       "       0.9568731 , 0.99042344, 0.9933442 , 0.97821915, 0.99701494,\n",
       "       0.95306295, 0.9061684 , 0.99031454, 0.98976433, 0.9446379 ,\n",
       "       0.9427051 , 0.9896911 , 0.91184896, 0.98946315, 0.99877244,\n",
       "       0.9963456 , 0.97393   , 0.9282898 , 0.99380624, 0.98262304,\n",
       "       0.98557603, 0.9101719 , 0.94923544, 0.9756395 , 0.98845315,\n",
       "       0.9823634 ], dtype=float32)"
      ]
     },
     "execution_count": 35,
     "metadata": {},
     "output_type": "execute_result"
    }
   ],
   "source": [
    "res[res>0.9]"
   ]
  },
  {
   "cell_type": "code",
   "execution_count": 36,
   "id": "b7b9fd74",
   "metadata": {
    "scrolled": true
   },
   "outputs": [
    {
     "data": {
      "text/plain": [
       "0.201"
      ]
     },
     "execution_count": 36,
     "metadata": {},
     "output_type": "execute_result"
    }
   ],
   "source": [
    "len(res[res>0.9])/len(res)"
   ]
  },
  {
   "cell_type": "code",
   "execution_count": 37,
   "id": "38815bce",
   "metadata": {},
   "outputs": [
    {
     "data": {
      "text/plain": [
       "array([['CCC(CCC(C)C1CCC2C3CC=C4CC(O)CCC4(C)C3CCC12C)C(C)C',\n",
       "        'Melicope xanthoxyloides'],\n",
       "       ['O=C(O)c1ccc(O)c(O)c1', 'Luisia brachystachys'],\n",
       "       ['CCCCCCO', 'Symphoricarpos albus'],\n",
       "       ['O=c1cc(-c2ccc(O)cc2)oc2cc(OC3OC(CO)C(O)C(O)C3O)cc(O)c12',\n",
       "        'Iris leptophylla'],\n",
       "       ['COc1ccc(-c2cc(=O)c3c(O)c(OC)c(OC)cc3o2)cc1',\n",
       "        'Illicium dunnianum'],\n",
       "       ['C=C(C)C1CCC2=CCCC(C)C2(C)C1', 'Salvia deserti'],\n",
       "       ['CC1=CCC(C(C)C)=CC1', 'Krameria erecta'],\n",
       "       ['CCCCCC=CCC=CCC=CCCCCC(=O)O', 'Talaromyces wortmannii'],\n",
       "       ['OCc1ccco1', 'Tilia tomentosa'],\n",
       "       ['CC1OC(OCC2OC(Oc3cc4c(O)cc(O)cc4[o+]c3-c3ccc(O)c([O-])c3)C(O)C(O)C2O)C(O)C(O)C1O',\n",
       "        'Brosimum acutifolium'],\n",
       "       ['CC1=CC2C(C(C)C)CCC(C)C2(O)CC1', 'Citrus reticulata'],\n",
       "       ['COc1c(-c2ccc(O)c(O)c2)oc2cc(O)cc(O)c2c1=O',\n",
       "        'Beilschmiedia miersii'],\n",
       "       ['CC(=O)c1ccc2c(c1)C=CC(C)(C)O2', 'Bonnetia paniculata'],\n",
       "       ['C=C(C)C1CC=C(C)C(=O)C1', 'Trypanosoma brucei'],\n",
       "       ['COc1cc2ccc(=O)oc2cc1O', 'Raphanus sativus'],\n",
       "       ['CCCCCCCCCCCCCC(=O)O', 'Euglena gracilis'],\n",
       "       ['CCCCCCCCCCCCC', 'Croton lachnostachyus'],\n",
       "       ['c1cc2c(cc1C1OCC3C(c4ccc5c(c4)OCO5)OCC13)OCO2',\n",
       "        'Helichrysum asperum'],\n",
       "       ['CC12CCC(CC1=O)C2(C)C', 'Iryanthera lancifolia'],\n",
       "       ['O=C(O)C=Cc1ccc(O)c(O)c1', 'Heracleum asperum'],\n",
       "       ['CCC=CCC=CCC=CCCCCCCCC(=O)O', 'Arbacia punctulata'],\n",
       "       ['COc1c(O)cc(-c2oc3cc(O)cc(O)c3c(=O)c2O)cc1O', 'Carica papaya'],\n",
       "       ['O=C(O)CCC(=O)O', 'Hyptis suaveolens'],\n",
       "       ['O=c1cc(-c2ccc(O)c(-c3c(O)cc(O)c4c(=O)cc(-c5ccc(O)cc5)oc34)c2)oc2cc(O)cc(O)c12',\n",
       "        'Eucalyptus cladocalyx'],\n",
       "       ['O=c1cc(-c2ccc(O)c(O)c2)oc2cc(O)c(C3OC(CO)C(O)C(O)C3O)c(O)c12',\n",
       "        'Scutellaria indica'],\n",
       "       ['O=C(O)c1cc(O)c(O)c(O)c1', 'Camellia sinensis var. assamica'],\n",
       "       ['CC(C)=CCCC(C)=CCO', 'Allium ampeloprasum'],\n",
       "       ['CC1(C)C2CCC1(C)C(O)C2', 'Stachys officinalis'],\n",
       "       ['CC(=CCO)CCCC(C)CCCC(C)CCCC(C)C', 'Collinsonia japonica'],\n",
       "       ['CC1=CCC(C(C)C)=CC1', 'Hijmania angusticornis'],\n",
       "       ['CC1CCC2C1C1C(CCC2(C)O)C1(C)C', 'Onobrychis michauxii'],\n",
       "       ['O=c1cc(-c2ccc(O)cc2)oc2c(C3OC(CO)C(O)C(O)C3O)c(O)cc(O)c12',\n",
       "        'Combretum quadrangulare'],\n",
       "       ['CC(C)=C1CCC2(C)CCCC(C)(O)C2C1', 'Centaurea napifolia'],\n",
       "       ['C=C(C)C1CC=C(C)CC1', 'Erythrina senegalensis'],\n",
       "       ['CCC(C=CC(C)C1CCC2C3CC=C4CC(O)CCC4(C)C3CCC12C)C(C)C',\n",
       "        'Passiflora sexflora'],\n",
       "       ['COc1c(-c2ccccc2)oc2cc(O)cc(O)c2c1=O', 'Dolomiaea souliei'],\n",
       "       ['CC1(C)CCC2(C)CC=C3C(C)(CCC4C3(C)CCC3C(C)(C)C(O)CCC43C)C2C1',\n",
       "        'Xylaria longipes'],\n",
       "       ['C=CC(C)=CCC=C(C)C', 'Prunus armeniaca'],\n",
       "       ['CCC(CCC(C)C1CCC2C3CC=C4CC(O)CCC4(C)C3CCC12C)C(C)C',\n",
       "        'Hedera taurica'],\n",
       "       ['OCCc1ccccc1', 'Saccharum officinarum'],\n",
       "       ['CCCCCCCCCCCCCCCCCC(=O)O', 'Cannabis sativa'],\n",
       "       ['C=CC(=C)CCC=C(C)CCC=C(C)C', 'Aloysia citrodora'],\n",
       "       ['O=c1cc(-c2ccc(O)cc2)oc2c(C3OC(CO)C(O)C(O)C3O)c(O)cc(O)c12',\n",
       "        'Deguelia scandens'],\n",
       "       ['O=C(C=Cc1ccc(O)c(O)c1)OC1CC(O)(C(=O)O)CC(O)C1O', 'Artabotrys'],\n",
       "       ['CCC(CCC(C)C1CCC2C3CC=C4CC(O)CCC4(C)C3CCC12C)C(C)C',\n",
       "        'Aplysina lacunosa'],\n",
       "       ['O=c1c(OC2OC(CO)C(O)C(O)C2O)c(-c2ccc(O)cc2)oc2cc(O)cc(O)c12',\n",
       "        'Salvia officinalis'],\n",
       "       ['COc1cc(-c2oc3cc(O)c(OC)c(O)c3c(=O)c2OC)ccc1O',\n",
       "        'Saxifraga tricuspidata'],\n",
       "       ['CCCCCCCC(=O)O', 'Phellinus tremulae'],\n",
       "       ['CC(C)=CCCC(C)c1ccc(C)cc1', 'Hypericum perforatum'],\n",
       "       ['CC1=CC2C(CCC(C)=CCC1)C2(C)C', 'Garcinia gardneriana'],\n",
       "       ['CCCCCCCCCCCC(=O)O', 'Xanthosoma robustum'],\n",
       "       ['O=c1cc(-c2ccc(O)c(-c3c(O)cc(O)c4c(=O)cc(-c5ccc(O)cc5)oc34)c2)oc2cc(O)cc(O)c12',\n",
       "        'Conoclinium coelestinum'],\n",
       "       ['CCC(CCC(C)C1CCC2C3CC=C4CC(OC5OC(CO)C(O)C(O)C5O)CCC4(C)C3CCC12C)C(C)C',\n",
       "        'Rhizomnium magnifolium'],\n",
       "       ['CC1OC(OCC2OC(Oc3c(-c4ccc(O)c(O)c4)oc4cc(O)cc(O)c4c3=O)C(O)C(O)C2O)C(O)C(O)C1O',\n",
       "        'Spondias mombin'],\n",
       "       ['C=C1CCC(C(C)C)C2C=C(C)CCC12', 'Uvaria klaineana'],\n",
       "       ['NC(CC(=O)O)C(=O)O', 'Solanum aculeatissimum'],\n",
       "       ['O=c1c(O)c(-c2ccc(O)c(O)c2)oc2cc(O)cc(O)c12',\n",
       "        'Cheilocostus speciosus'],\n",
       "       ['CCCCCCCCCCCCCCO', 'Myrcia hedraiophylla'],\n",
       "       ['CC12CCC(CC1=O)C2(C)C', 'Aspergillus'],\n",
       "       ['CCC(CCC(C)C1CCC2C3CC=C4CC(O)CCC4(C)C3CCC12C)C(C)C',\n",
       "        'Pediomelum esculentum'],\n",
       "       ['Cc1ccc(C)cc1', 'Chuquiraga ulicina'],\n",
       "       ['COc1c(O)cc2oc(-c3ccc(O)cc3)cc(=O)c2c1O', 'Lonicera hypoleuca'],\n",
       "       ['C=CC1(C)CCC(=C(C)C)CC1C(=C)C', 'Tabernaemontana cymosa'],\n",
       "       ['CCC(CCC(C)C1CCC2C3CC=C4CC(O)CCC4(C)C3CCC12C)C(C)C',\n",
       "        'Sauromatum venosum'],\n",
       "       ['Cc1ccc(C(C)C)cc2c(C)ccc1-2', 'Peperomia circinnata'],\n",
       "       ['C=C(C)C1CCC2(C(=O)O)CCC3(C)C(CCC4C5(C)CCC(O)C(C)(C)C5CCC43C)C12',\n",
       "        'Desarmillaria tabescens'],\n",
       "       ['CCC(C=CC(C)C1CCC2C3CC=C4CC(OC5OC(CO)C(O)C(O)C5O)CCC4(C)C3CCC12C)C(C)C',\n",
       "        'Cullen corylifolium'],\n",
       "       ['O=c1c(O)c(-c2ccc(O)c(O)c2)oc2cc(O)cc(O)c12',\n",
       "        'Camellia sinensis'],\n",
       "       ['Cc1ccc(C(C)C)cc1', 'Eucalyptus jensenii'],\n",
       "       ['CCCCCC=CCC=CCCCCCCCC(=O)O', 'Cyclocarya paliurus'],\n",
       "       ['C=CC(C)(O)CCC=C(C)CCC=C(C)C', 'Taraxacum coreanum'],\n",
       "       ['CC1CCC2(C(=O)O)CCC3(C)C(=CCC4C5(C)CC(O)C(O)C(C)(C)C5CCC43C)C2C1(C)O',\n",
       "        'Hypericum elegans'],\n",
       "       ['CC1(C)CC(O)CC2(C)OC(=O)C=C12', 'Pentadesma butyracea'],\n",
       "       ['O=c1c(O)c(-c2ccc(O)c(O)c2)oc2cc(O)cc(O)c12', 'Pimenta racemosa'],\n",
       "       ['CC1=CCC(C(C)C)C=C1', 'Alphitonia philippinensis'],\n",
       "       ['O=c1cc(-c2ccc(O)c(O)c2)oc2cc(O)cc(O)c12', 'Microdiplodia'],\n",
       "       ['O=CC=Cc1ccc(O)cc1', 'Osbornia octodonta'],\n",
       "       ['COc1cc(O)cc2c1C(=O)CC(c1ccccc1)O2', 'Citrus nobilis'],\n",
       "       ['C=C1CC23CCC4C(C)(C)CCCC4(C)C2CCC1C3',\n",
       "        'Streptomyces pristinaespiralis'],\n",
       "       ['C=CC1(C)CCC(C(C)(C)OC(C)=O)CC1C(=C)C', 'Chamaemelum nobile'],\n",
       "       ['C=C(C)C1CC=C(C)CC1', 'Euphorbia myrsinites'],\n",
       "       ['C=C1CC23CCC4C(C)(C)CCCC4(C)C2CCC1C3', 'Callistemon linearis'],\n",
       "       ['Oc1cc(O)cc(O)c1', 'Sargassum siliquastrum'],\n",
       "       ['Oc1cc(O)c2c(c1)OC(c1ccc(O)c(O)c1)C(O)C2', 'Citrus unshiu'],\n",
       "       ['CC1C(=O)CCC2C1(C)CCC1C2(C)CCC2(C)C3CC(C)(C)CCC3(C)CCC12C',\n",
       "        'Maclura tinctoria'],\n",
       "       ['O=C(O)C=Cc1ccc(O)cc1', 'Periploca forrestii'],\n",
       "       ['C=C(CCC(C)C1CCC2C3CC=C4CC(O)CCC4(C)C3CCC12C)C(C)C',\n",
       "        'Eleutherococcus senticosus'],\n",
       "       ['COc1cc(C=CC(=O)O)ccc1O', 'Mammea americana'],\n",
       "       ['C=C(CCC=C(C)C)C1CC=C(C)CC1', 'Chrozophora plicata'],\n",
       "       ['O=c1cc(-c2ccc(O)cc2)oc2cc(O)cc(O)c12', 'Hydnocarpus pentandrus'],\n",
       "       ['CC(O)C(O)C(O)C(O)C=O', 'Duguetia confinis'],\n",
       "       ['COc1ccc(C2CC(=O)c3c(O)cc(OC4OC(COC5OC(C)C(O)C(O)C5O)C(O)C(O)C4O)cc3O2)cc1O',\n",
       "        'Juniperus thurifera'],\n",
       "       ['COc1cc(O)c2c(=O)c(O)c(-c3ccc(O)cc3)oc2c1', 'Ipomoea purpurea'],\n",
       "       ['CC(C)=CCCC(C)=CCCC(C)=CCCC(C)=CCO', 'Taiwania cryptomerioides'],\n",
       "       ['CC1(C)C2CC=C(C=O)C1C2', 'Taiwanofungus camphoratus'],\n",
       "       ['CC1=CC2C(=C(C)CCC2C(C)C)CC1', 'Periconia'],\n",
       "       ['CCCCCC=CCC=CCCCCCCCC(=O)OC', 'Sida acuta'],\n",
       "       ['COc1cc(-c2cc(=O)c3c(O)cc(O)cc3o2)ccc1OC1OC(CO)C(O)C(O)C1O',\n",
       "        'Podocarpus macrophyllus'],\n",
       "       ['CCCCCC=CCC=CCCCCCCCC(=O)O',\n",
       "        'Alkekengi officinarum var. franchetii'],\n",
       "       ['CC1CCC2(C(=O)O)CCC3(C)C(=CCC4C5(C)CCC(O)C(C)(C)C5CCC43C)C2C1C',\n",
       "        'Arctostaphylos uva-ursi'],\n",
       "       ['COc1ccc(-c2cc(=O)c3c(O)c(OC)c(OC)cc3o2)cc1O',\n",
       "        'Parasenecio pilgerianus'],\n",
       "       ['CCCCCCCCCCCCCCCC(=O)O', 'Alpinia conchigera'],\n",
       "       ['CC1=CCC(=C(C)C)CC1', 'Laurencia aldingensis'],\n",
       "       ['C=CC(C)(O)CCC=C(C)C', 'Trichosanthes kirilowii'],\n",
       "       ['CC1=CCC(C(C)(C)O)CC1', 'Murrayella periclados'],\n",
       "       ['O=C(O)Cc1ccccc1O', 'Trichoderma viride'],\n",
       "       ['CC1CCC2(C(=O)O)CCC3(C)C(=CCC4C5(C)CCC(O)C(C)(C)C5CCC43C)C2C1C',\n",
       "        'Brickellia veronicifolia'],\n",
       "       ['C=CC(C)=CCC=C(C)CCC=C(C)C', 'Flemingia rhodocarpa'],\n",
       "       ['NC(CC(=O)O)C(=O)O', 'Ulex europaeus'],\n",
       "       ['CC1OC(Oc2c(-c3ccc(O)c(O)c3)oc3cc(O)cc(O)c3c2=O)C(O)C(O)C1O',\n",
       "        'Persicaria amphibia'],\n",
       "       ['CC1OC(Oc2c(-c3ccc(O)c(O)c3)oc3cc(O)cc(O)c3c2=O)C(O)C(O)C1O',\n",
       "        'Tinospora sagittata'],\n",
       "       ['CCCCCCC=O', 'Morus alba'],\n",
       "       ['CCC(C=CC(C)C1CCC2C3CC=C4CC(O)CCC4(C)C3CCC12C)C(C)C',\n",
       "        'Oryza sativa'],\n",
       "       ['CCCCCCCCCCCCCCCCCC(=O)O', 'Paralithodes brevipes'],\n",
       "       ['CC=C(C)C(=O)OC1CCN2CC=C(COC(=O)C(O)(C(C)OC)C(C)(C)O)C12',\n",
       "        'Haplophyton cimicidum'],\n",
       "       ['C=CC(C)(O)CCC1C(=C)CCC2C(C)(C(=O)OC)CCCC12C',\n",
       "        'Tanacetum vulgare'],\n",
       "       ['C=C1C2CCC(C2)C1(C)C', 'Oscillatoria'],\n",
       "       ['O=C(O)C1OC(Oc2cc(O)c3c(=O)cc(-c4ccc(O)c(O)c4)oc3c2)C(O)C(O)C1O',\n",
       "        'Larrea cuneifolia'],\n",
       "       ['O=C(O)C=Cc1ccc(O)cc1', 'Clutia abyssinica'],\n",
       "       ['O=C(O)c1ccccc1', 'Laburnum anagyroides'],\n",
       "       ['O=c1c2cc(O)c(O)cc2oc2cc(O)c(C3OC(CO)C(O)C(O)C3O)c(O)c12',\n",
       "        'Abies sibirica'],\n",
       "       ['CC1=CCCC(C)=CCC(C)(C)C=CC1', 'Pyracantha coccinea'],\n",
       "       ['CC(C=CC=C(C)C=CC1=C(C)CCCC1(C)C)=CC=CC=C(C)C=CC=C(C)C=CC1=C(C)CC(O)CC1(C)C',\n",
       "        'Artemisia vulgaris'],\n",
       "       ['CCC(CCC(C)C1CCC2C3CC=C4CC(O)CCC4(C)C3CCC12C)C(C)C',\n",
       "        'Citrus japonica'],\n",
       "       ['O=c1c(O)c(-c2ccc(O)c(O)c2)oc2cc(O)cc(O)c12',\n",
       "        'Schisandra propinqua'],\n",
       "       ['O=C(O)CC(O)(CC(=O)O)C(=O)O', 'Havardia albicans'],\n",
       "       ['O=c1cc(-c2ccc(O)c(O)c2)oc2cc(O)cc(OC3OC(CO)C(O)C(O)C3O)c12',\n",
       "        'Pisum sativum'],\n",
       "       ['COc1cc(-c2oc3cc(O)c(OC)c(O)c3c(=O)c2OC)ccc1O',\n",
       "        'Allium schoenoprasum'],\n",
       "       ['c1cncc(C2CCCN2)c1', 'Streptococcus pneumoniae'],\n",
       "       ['C=CCc1ccc(OC)c(OC)c1', 'Piper ribesioides'],\n",
       "       ['C=C(C)C1CC=C(C)C(=O)C1', 'Euphorbia bupleuroides'],\n",
       "       ['COc1cc2ccc(=O)oc2cc1O', 'Euphorbia sulcata'],\n",
       "       ['CC(C)C(C)CCC(C)C1CCC2C3CC=C4CC(O)CCC4(C)C3CCC12C',\n",
       "        'Aesculus hippocastanum'],\n",
       "       ['CC(C)C(C)CCC(C)C1CCC2C3CC=C4CC(O)CCC4(C)C3CCC12C',\n",
       "        'Euphorbia ledienii'],\n",
       "       ['O=C(O)C1=COC(OC2OC(CO)C(O)C(O)C2O)C2C(CO)=CCC12',\n",
       "        'Chenopodium ficifolium'],\n",
       "       ['Cc1cc(O)c2c(c1)C(=O)c1cc(O)cc(O)c1C2=O',\n",
       "        'Streptomyces lividans'],\n",
       "       ['O=c1cc(-c2ccc(O)c(O)c2)oc2cc(O)c(O)c(O)c12',\n",
       "        'Lasiolaena santosii'],\n",
       "       ['O=C(O)C=Cc1ccc(O)c(O)c1', 'Vidalia colensoi'],\n",
       "       ['O=c1cc(-c2ccc(O)cc2)oc2c(C3OC(CO)C(O)C(O)C3O)c(O)c(C3OC(CO)C(O)C(O)C3O)c(O)c12',\n",
       "        'Pfaffia glomerata'],\n",
       "       ['C=CC(C)=CCC=C(C)CCC=C(C)C', 'Morus alba'],\n",
       "       ['CC1=CCC(C(C)(C)O)CC1', 'Taxus wallichiana'],\n",
       "       ['CC(C)C(C)CCC(C)C1CCC2C3CC=C4CC(O)CCC4(C)C3CCC12C',\n",
       "        'Moronobea coccinea'],\n",
       "       ['O=C(C=Cc1ccc(O)c(O)c1)OC1C(COC2OC(CO)C(O)C(O)C2O)OC(OCCc2ccc(O)c(O)c2)C(O)C1O',\n",
       "        'Incarvillea arguta'],\n",
       "       ['O=c1cc(-c2ccc(O)cc2)oc2cc(OC3OC(CO)C(O)C(O)C3O)cc(O)c12',\n",
       "        'Eucalyptus exserta'],\n",
       "       ['Cc1ccc(C(C)C)cc1', 'Sempervivum grandiflorum'],\n",
       "       ['O=C(O)C1CCCN1', 'Vaccinium corymbosum'],\n",
       "       ['CC1(C)CCC2(C)CCC3(C)C(=CCC4C5(C)CCC(O)C(C)(C)C5CCC43C)C2C1',\n",
       "        'Zingiber cassumunar'],\n",
       "       ['CCCCCCCCCCCC(=O)O', 'Clinopodium odorum'],\n",
       "       ['O=C(O)c1ccc(O)c(O)c1', 'Ganoderma lucidum'],\n",
       "       ['CC(=CCO)CCCC(C)CCCC(C)CCCC(C)C', 'Zizyphus vulgaris'],\n",
       "       ['CC(=O)OCC=C(C)CCC=C(C)C', 'Pseudomonas'],\n",
       "       ['CC(O)C1OC(Oc2c(-c3ccc(O)c(O)c3)oc3cc(O)cc(O)c3c2=O)C(O)C1O',\n",
       "        'Apeiba tibourbou'],\n",
       "       ['c1cncc(C2CCCCN2)c1', 'Peristeria elata'],\n",
       "       ['CCCCCC=CCC=CCC=CCC=CCCCC(=O)O', 'Aframomum mala'],\n",
       "       ['CC(=O)C1=C(O)C=C2Oc3c(C(C)=O)c(O)c(C)c(O)c3C2(C)C1=O',\n",
       "        'Aspergillus sydowii'],\n",
       "       ['CCC(CCC(C)C1CCC2C3CC=C4CC(O)CCC4(C)C3CCC12C)C(C)C',\n",
       "        'Xylaria polymorpha'],\n",
       "       ['Oc1cc(O)c2c(c1)OC(c1ccc(O)c(O)c1)C(O)C2', 'Tetraena alba'],\n",
       "       ['CC(C)C(O)(C(=O)OCC1=CCN2CCC(O)C12)C(C)O',\n",
       "        'Athrotaxis selaginoides'],\n",
       "       ['NC(CO)C(=O)O', 'Thymus orespedanus'],\n",
       "       ['O=c1c(O)c(-c2ccc(O)cc2)oc2cc(O)cc(O)c12', 'Helianthus annuus'],\n",
       "       ['O=c1c(O)c(-c2ccc(O)c(O)c2)oc2c(O)c(O)cc(O)c12',\n",
       "        'Sophora chrysophylla'],\n",
       "       ['CCC(CCC(C)C1CCC2C3CC=C4CC(O)CCC4(C)C3CCC12C)C(C)C',\n",
       "        'Monodora tenuifolia'],\n",
       "       ['C=CC(=C)CCC=C(C)C', 'Nicotiana tabacum'],\n",
       "       ['CC(C)=CCCC(C)(O)C1CC=C(C)CC1', 'Orthosphenia mexicana'],\n",
       "       ['CC(C)C(C)C=CC(C)C1CCC2C3CC=C4CC(O)CCC4(C)C3CCC12C',\n",
       "        'Dimerostemma vestitum'],\n",
       "       ['CCC(CCC(C)C1CCC2C3CC=C4CC(O)CCC4(C)C3CCC12C)C(C)C',\n",
       "        'Buxus sempervirens'],\n",
       "       ['O=C(O)c1ccc(O)cc1', 'Diaporthe'],\n",
       "       ['C=C(C)C1CCC2(C(=O)O)CCC3(C)C(CCC4C5(C)CCC(OC(=O)C=Cc6ccc(O)c(O)c6)C(C)(C)C5CCC43C)C12',\n",
       "        'Avena sterilis'],\n",
       "       ['NC(CSS(=O)(=O)O)C(=O)O', 'Caenorhabditis elegans'],\n",
       "       ['CCCCCCCCCCCCCCCC', 'Artemisia aschurbajewii'],\n",
       "       ['CC1(C)CCC2(C)CCC3(C)C(=CCC4C5(C)CCC(O)C(C)(C)C5CCC43C)C2C1',\n",
       "        'Alpinia breviligulata'],\n",
       "       ['CCC(CCC(C)C1CCC2C3CC=C4CC(OC(C)=O)CCC4(C)C3CCC12C)C(C)C',\n",
       "        'Pyricularia oryzae'],\n",
       "       ['O=c1c(OC2OC(CO)C(O)C(O)C2O)c(-c2ccc(O)c(O)c2)oc2cc(O)cc(O)c12',\n",
       "        'Euscaphis japonica'],\n",
       "       ['CCC=CCCOC1OC(CO)C(O)C(O)C1O', 'Dendropanax trifidus'],\n",
       "       ['CC1=CCC(C(C)(C)O)CC1', 'Sorbus aucuparia'],\n",
       "       ['O=c1cc(-c2ccc(O)cc2)oc2cc(O)cc(O)c12', 'Erythrina variegata'],\n",
       "       ['CCCCCCCCCCCCCCCCCC', 'Catha edulis'],\n",
       "       ['C=CC1(C)CCC(=C(C)C)CC1C(=C)C', 'Coreopsis linifolia'],\n",
       "       ['COc1cc2ccc(=O)oc2cc1O', 'Sciadopitys verticillata'],\n",
       "       ['Cc1ccc(C(C)C)cc1', 'Baccharis salicifolia'],\n",
       "       ['O=C(O)c1ccccc1', 'Porcelia macrocarpa'],\n",
       "       ['CCC(CCC(C)C1CCC2C3CC=C4CC(O)CCC4(C)C3CCC12C)C(C)C',\n",
       "        'Aria elegans'],\n",
       "       ['CCCCCC=CCC=CCCCCCCCC(=O)O', 'Pilocarpus microphyllus'],\n",
       "       ['O=c1cc(-c2ccc(O)c(O)c2)oc2cc(O)c(C3OC(CO)C(O)C(O)C3O)c(O)c12',\n",
       "        'Vitis'],\n",
       "       ['Oc1cc(O)c2c(c1)OC(c1ccc(O)c(O)c1)C(O)C2', 'Cicer judaicum'],\n",
       "       ['CC1=CC(=O)CC(C)(C)C1(O)C=CC(C)O', 'Apium graveolens'],\n",
       "       ['O=C(O)C(=O)O', 'Thymus eriocalyx'],\n",
       "       ['CC1(C)CCC2(C(=O)O)CCC3(C)C(=CCC4C5(C)CCC(O)C(C)(C)C5CCC43C)C2C1',\n",
       "        'Nepsera aquatica'],\n",
       "       ['O=c1cc(-c2ccc(O)cc2)oc2cc(OC3OC(CO)C(O)C(O)C3O)cc(O)c12',\n",
       "        'Hylotelephium caucasicum'],\n",
       "       ['CCC(CCC(C)C1CCC2C3CC=C4CC(O)CCC4(C)C3CCC12C)C(C)C',\n",
       "        'Pinalia japonica'],\n",
       "       ['CC1=CCC2CC1C2(C)C', 'Kaunia lasiophthalma'],\n",
       "       ['CC1=CC=C(C(C)C)CC1', 'Euphorbia hyssopifolia'],\n",
       "       ['O=c1c(OC2OC(COC3OC(CO)C(O)C(O)C3O)C(O)C(O)C2O)c(-c2ccc(O)cc2)oc2cc(O)cc(O)c12',\n",
       "        'Thujopsis dolabrata'],\n",
       "       ['C=C(C)C1CCC2(C)CCC3(C)C(CCC4C5(C)CCC(O)C(C)(C)C5CCC43C)C12',\n",
       "        'Celosia argentea'],\n",
       "       ['CC1(C)CCC2(C(=O)O)CCC3(C)C(=CCC4C5(C)CCC(O)C(C)(C)C5CCC43C)C2C1',\n",
       "        'Prunus persica'],\n",
       "       ['O=c1c(O)c(-c2ccc(O)c(O)c2)oc2cc(O)cc(O)c12',\n",
       "        'Chisocheton ceramicus'],\n",
       "       ['CN1CC2CC(C1)c1cccc(=O)n1C2', 'Forsythia viridissima'],\n",
       "       ['CCC(CCC(C)C1CCC2C3CC=C4CC(O)CCC4(C)C3CCC12C)C(C)C',\n",
       "        'Hedera helix'],\n",
       "       ['COc1cc2ccc(=O)oc2cc1O', 'Salix herbacea'],\n",
       "       ['CC(C)=CCC=C(C)C1CC=C(C)CC1', 'Conchidium japonicum'],\n",
       "       ['O=C(O)c1cc(O)c(O)c(O)c1', 'Etlingera elatior']], dtype='<U532')"
      ]
     },
     "execution_count": 37,
     "metadata": {},
     "output_type": "execute_result"
    }
   ],
   "source": [
    "finaly_test[res>0.9]"
   ]
  },
  {
   "cell_type": "code",
   "execution_count": 38,
   "id": "89431c57",
   "metadata": {},
   "outputs": [
    {
     "data": {
      "text/plain": [
       "(array([297., 120.,  67.,  55.,  40.,  45.,  41.,  55.,  78., 202.]),\n",
       " array([2.54733051e-04, 1.00189164e-01, 2.00123593e-01, 3.00058037e-01,\n",
       "        3.99992466e-01, 4.99926895e-01, 5.99861324e-01, 6.99795723e-01,\n",
       "        7.99730182e-01, 8.99664581e-01, 9.99599040e-01]),\n",
       " <BarContainer object of 10 artists>)"
      ]
     },
     "execution_count": 38,
     "metadata": {},
     "output_type": "execute_result"
    },
    {
     "data": {
      "image/png": "[encoded data removed]",
      "text/plain": [
       "<Figure size 640x480 with 1 Axes>"
      ]
     },
     "metadata": {},
     "output_type": "display_data"
    }
   ],
   "source": [
    "plt.hist(res)"
   ]
  },
  {
   "cell_type": "code",
   "execution_count": 39,
   "id": "7ca881bf",
   "metadata": {},
   "outputs": [],
   "source": [
    "org = df_agg.organism_name.unique()[:100]"
   ]
  },
  {
   "cell_type": "code",
   "execution_count": 40,
   "id": "29f7094c",
   "metadata": {},
   "outputs": [],
   "source": [
    "mol = df_agg.structure_smiles_2D.unique()[:1000]"
   ]
  },
  {
   "cell_type": "code",
   "execution_count": 41,
   "id": "b473b87a",
   "metadata": {},
   "outputs": [
    {
     "data": {
      "text/plain": [
       "28474"
      ]
     },
     "execution_count": 41,
     "metadata": {},
     "output_type": "execute_result"
    }
   ],
   "source": [
    "len(df_agg.structure_smiles_2D.unique())"
   ]
  },
  {
   "cell_type": "code",
   "execution_count": 42,
   "id": "e992ce91",
   "metadata": {},
   "outputs": [
    {
     "data": {
      "text/plain": [
       "18413"
      ]
     },
     "execution_count": 42,
     "metadata": {},
     "output_type": "execute_result"
    }
   ],
   "source": [
    "len(df_agg.organism_name.unique())"
   ]
  },
  {
   "cell_type": "code",
   "execution_count": 43,
   "id": "dbb1a1a9",
   "metadata": {},
   "outputs": [
    {
     "name": "stdout",
     "output_type": "stream",
     "text": [
      "CPU times: user 9.3 ms, sys: 1.85 ms, total: 11.1 ms\n",
      "Wall time: 12 ms\n"
     ]
    }
   ],
   "source": [
    "%%time\n",
    "combinations = list(itertools.product(mol, org))"
   ]
  },
  {
   "cell_type": "code",
   "execution_count": 44,
   "id": "58d94cde",
   "metadata": {},
   "outputs": [
    {
     "name": "stdout",
     "output_type": "stream",
     "text": [
      "CPU times: user 570 µs, sys: 214 µs, total: 784 µs\n",
      "Wall time: 773 µs\n"
     ]
    }
   ],
   "source": [
    "%%time\n",
    "A1, A2 = np.meshgrid(mol, org)"
   ]
  },
  {
   "cell_type": "code",
   "execution_count": 45,
   "id": "6ee7452a",
   "metadata": {},
   "outputs": [],
   "source": [
    "df_combinations = pd.DataFrame(combinations, columns=['structure_smiles_2D', 'organism_name'])"
   ]
  },
  {
   "cell_type": "code",
   "execution_count": 46,
   "id": "2398fecf",
   "metadata": {},
   "outputs": [],
   "source": [
    "edge_test_final = df_combinations.to_numpy()"
   ]
  },
  {
   "cell_type": "code",
   "execution_count": 47,
   "id": "7ad7233a",
   "metadata": {},
   "outputs": [
    {
     "name": "stdout",
     "output_type": "stream",
     "text": [
      "CPU times: user 30.4 s, sys: 225 ms, total: 30.7 s\n",
      "Wall time: 30.6 s\n"
     ]
    }
   ],
   "source": [
    "%%time\n",
    "final_final_test = HinSAGELinkGenerator(G,\n",
    "                                batch_size=256,\n",
    "                                num_samples=num_samples,\n",
    "                                head_node_types=[\"molecule\", \"species\"]).flow(edge_test_final, np.ones(len(edge_test_final)).reshape(-1, 1))"
   ]
  },
  {
   "cell_type": "code",
   "execution_count": 48,
   "id": "55760945",
   "metadata": {
    "scrolled": false
   },
   "outputs": [
    {
     "name": "stdout",
     "output_type": "stream",
     "text": [
      "391/391 [==============================] - 6s 15ms/step\n"
     ]
    }
   ],
   "source": [
    "final_final_pred = model.predict(final_final_test).flatten()"
   ]
  },
  {
   "cell_type": "code",
   "execution_count": 49,
   "id": "6c995f65",
   "metadata": {},
   "outputs": [
    {
     "data": {
      "text/plain": [
       "100000"
      ]
     },
     "execution_count": 49,
     "metadata": {},
     "output_type": "execute_result"
    }
   ],
   "source": [
    "len(final_final_pred)"
   ]
  },
  {
   "cell_type": "code",
   "execution_count": 50,
   "id": "e602f2c0",
   "metadata": {},
   "outputs": [
    {
     "data": {
      "text/plain": [
       "15483"
      ]
     },
     "execution_count": 50,
     "metadata": {},
     "output_type": "execute_result"
    }
   ],
   "source": [
    "len(final_final_pred[final_final_pred>0.9])"
   ]
  },
  {
   "cell_type": "code",
   "execution_count": 51,
   "id": "7b0598ad",
   "metadata": {
    "scrolled": true
   },
   "outputs": [],
   "source": [
    "results = edge_test_final[final_final_pred>0.9]"
   ]
  },
  {
   "cell_type": "code",
   "execution_count": 52,
   "id": "77b0ed8c",
   "metadata": {},
   "outputs": [
    {
     "data": {
      "text/plain": [
       "array([['C=C1C2CCC(C2)C1(C)C', 'Salvia wiedemannii'],\n",
       "       ['C=C1C2CCC(C2)C1(C)C', 'Kalanchoe miniata'],\n",
       "       ['C=C1C2CCC(C2)C1(C)C', 'Cyphanthera tasmanica'],\n",
       "       ['C=C1C2CCC(C2)C1(C)C', 'Marrubium parviflorum'],\n",
       "       ['C=C1C2CCC(C2)C1(C)C', 'Melanthera prostrata'],\n",
       "       ['C=C1C2CCC(C2)C1(C)C', 'Prunus domestica'],\n",
       "       ['C=C1C2CCC(C2)C1(C)C', 'Streptomyces'],\n",
       "       ['C=C1C2CCC(C2)C1(C)C', 'Zanthoxylum chalybeum'],\n",
       "       ['C=C1C2CCC(C2)C1(C)C', 'Erythrina addisoniae'],\n",
       "       ['C=C1C2CCC(C2)C1(C)C', 'Artemisia valentina'],\n",
       "       ['C=C1C2CCC(C2)C1(C)C', 'Codonopsis pilosula'],\n",
       "       ['C=C1C2CCC(C2)C1(C)C', 'Brotherella henonii'],\n",
       "       ['C=C1C2CCC(C2)C1(C)C', 'Zingiber ottensii'],\n",
       "       ['C=C1C2CCC(C2)C1(C)C', 'Stilbella fimetaria'],\n",
       "       ['C=C1C2CCC(C2)C1(C)C', 'Baptisia calycosa'],\n",
       "       ['C=C1C2CCC(C2)C1(C)C', 'Sesamum radiatum'],\n",
       "       ['C=C1C2CCC(C2)C1(C)C', 'Marchantia polymorpha'],\n",
       "       ['C=C1C2CCC(C2)C1(C)C', 'Cryptomeria japonica'],\n",
       "       ['C=C1C2CCC(C2)C1(C)C', 'Garcinia dulcis'],\n",
       "       ['C=C1C2CCC(C2)C1(C)C', 'Phellodendron amurense'],\n",
       "       ['C=C1C2CCC(C2)C1(C)C', 'Morus alba'],\n",
       "       ['C=C1C2CCC(C2)C1(C)C', 'Culcitium albifolium'],\n",
       "       ['C=C1C2CCC(C2)C1(C)C', 'Aquarius macrophyllus'],\n",
       "       ['C=C1C2CCC(C2)C1(C)C', 'Periploca forrestii'],\n",
       "       ['C=C1C2CCC(C2)C1(C)C', 'Neolentinus lepideus'],\n",
       "       ['C=C1C2CCC(C2)C1(C)C', 'Artemisia baldshuanica'],\n",
       "       ['C=C1C2CCC(C2)C1(C)C', 'Ophioglossum petiolatum'],\n",
       "       ['C=C1C2CCC(C2)C1(C)C', 'Helianthus hirsutus'],\n",
       "       ['C=C1C2CCC(C2)C1(C)C', 'Damburneya salicifolia'],\n",
       "       ['C=C1C2CCC(C2)C1(C)C', 'Passiflora incarnata'],\n",
       "       ['C=C1C2CCC(C2)C1(C)C', 'Trichoderma reesei'],\n",
       "       ['C=C1C2CCC(C2)C1(C)C', 'Croton macrostachyus'],\n",
       "       ['C=C1C2CCC(C2)C1(C)C', 'Dioscorea bulbifera'],\n",
       "       ['C=C1C2CCC(C2)C1(C)C', 'Jacobaea carniolica'],\n",
       "       ['C=C1C2CCC(C2)C1(C)C', 'Iris sibirica'],\n",
       "       ['C=C1C2CCC(C2)C1(C)C', 'Haberlea rhodopensis'],\n",
       "       ['C=C1C2CCC(C2)C1(C)C', 'Taxus sumatrana'],\n",
       "       ['C=C1C2CCC(C2)C1(C)C', 'Alternaria tenuis'],\n",
       "       ['C=C1C2CCC(C2)C1(C)C', 'Nidorella elliotii'],\n",
       "       ['C=C1C2CCC(C2)C1(C)C', 'Guilandina bonduc'],\n",
       "       ['C=C1C2CCC(C2)C1(C)C', 'Baccharis confertifolia'],\n",
       "       ['C=C1C2CCC(C2)C1(C)C', 'Cochlospermum tinctorium'],\n",
       "       ['C=C1C2CCC(C2)C1(C)C', 'Ajuga chamaepitys'],\n",
       "       ['C=C1C2CCC(C2)C1(C)C', 'Glycyrrhiza glabra'],\n",
       "       ['C=C1C2CCC(C2)C1(C)C', 'Cinnamomum iners'],\n",
       "       ['C=C1C2CCC(C2)C1(C)C', 'Astragalus laxmannii'],\n",
       "       ['C=C1C2CCC(C2)C1(C)C', 'Isodon eriocalyx'],\n",
       "       ['C=C1C2CCC(C2)C1(C)C', 'Gentianopsis ciliata'],\n",
       "       ['C=C1C2CCC(C2)C1(C)C', 'Dryopteris campyloptera'],\n",
       "       ['C=C1C2CCC(C2)C1(C)C', 'Sideritis hispida'],\n",
       "       ['C=C1C2CCC(C2)C1(C)C', 'Aster lingulatus'],\n",
       "       ['C=C1C2CCC(C2)C1(C)C', 'Endiandra xanthocarpa'],\n",
       "       ['C=C1C2CCC(C2)C1(C)C', 'Calea urticifolia'],\n",
       "       ['C=C1C2CCC(C2)C1(C)C', 'Peyssonnelia'],\n",
       "       ['C=C1C2CCC(C2)C1(C)C', 'Prunus serrulata f. spontanea'],\n",
       "       ['C=C1C2CCC(C2)C1(C)C', 'Sideritis hirsuta'],\n",
       "       ['C=C1C2CCC(C2)C1(C)C', 'Glycine max'],\n",
       "       ['C=C1C2CCC(C2)C1(C)C', 'Salvia officinalis'],\n",
       "       ['C=C1C2CCC(C2)C1(C)C', 'Hippospongia'],\n",
       "       ['C=C1C2CCC(C2)C1(C)C', 'Peganum harmala'],\n",
       "       ['C=C1C2CCC(C2)C1(C)C', 'Salvia verticillata'],\n",
       "       ['C=C1C2CCC(C2)C1(C)C', 'Ayapana amygdalina'],\n",
       "       ['C=C1C2CCC(C2)C1(C)C', 'Radula voluta'],\n",
       "       ['C=C1C2CCC(C2)C1(C)C', 'Scopulariopsis'],\n",
       "       ['C=C1C2CCC(C2)C1(C)C', 'Leiothrix flavescens'],\n",
       "       ['C=C1C2CCC(C2)C1(C)C', 'Lemna aequinoctialis'],\n",
       "       ['COc1cc(C(=O)OCC(C#N)=CCOC2OC(CO)C(O)C(O)C2O)ccc1O',\n",
       "        'Haberlea rhodopensis'],\n",
       "       ['Oc1ccc(C2Oc3cc(O)c4c5c3C2c2cc(O)cc(O)c2C(c2ccc(O)cc2)C5C(c2ccc(O)cc2)C4c2cc(O)cc(O)c2)cc1',\n",
       "        'Medicago sativa'],\n",
       "       ['Oc1ccc(C2Oc3cc(O)c4c5c3C2c2cc(O)cc(O)c2C(c2ccc(O)cc2)C5C(c2ccc(O)cc2)C4c2cc(O)cc(O)c2)cc1',\n",
       "        'Baptisia calycosa'],\n",
       "       ['Oc1ccc(C2Oc3cc(O)c4c5c3C2c2cc(O)cc(O)c2C(c2ccc(O)cc2)C5C(c2ccc(O)cc2)C4c2cc(O)cc(O)c2)cc1',\n",
       "        'Garcinia dulcis'],\n",
       "       ['Oc1ccc(C2Oc3cc(O)c4c5c3C2c2cc(O)cc(O)c2C(c2ccc(O)cc2)C5C(c2ccc(O)cc2)C4c2cc(O)cc(O)c2)cc1',\n",
       "        'Gentianopsis ciliata'],\n",
       "       ['Oc1ccc(C2Oc3cc(O)c4c5c3C2c2cc(O)cc(O)c2C(c2ccc(O)cc2)C5C(c2ccc(O)cc2)C4c2cc(O)cc(O)c2)cc1',\n",
       "        'Leiothrix flavescens'],\n",
       "       ['COc1ccc2c3c(c4cc(OC)c(OC)cc4c2c1)CC1CCCN1C3',\n",
       "        'Guatteria blepharophylla'],\n",
       "       ['COc1ccc2c3c(c4cc(OC)c(OC)cc4c2c1)CC1CCCN1C3',\n",
       "        'Tabernaemontana corymbosa'],\n",
       "       ['CNC', 'Picea omorika'],\n",
       "       ['CNC', 'Garcinia dulcis'],\n",
       "       ['CNC', 'Passiflora incarnata'],\n",
       "       ['COc1cc(C(=O)O)ccc1O', 'Heracleum persicum'],\n",
       "       ['COc1cc(C(=O)O)ccc1O', 'Euphorbia supina'],\n",
       "       ['COc1cc(C(=O)O)ccc1O', 'Medicago sativa'],\n",
       "       ['COc1cc(C(=O)O)ccc1O', 'Guatteria blepharophylla'],\n",
       "       ['COc1cc(C(=O)O)ccc1O', 'Stranvaesia davidiana var. davidiana'],\n",
       "       ['COc1cc(C(=O)O)ccc1O', 'Sigesbeckia orientalis'],\n",
       "       ['COc1cc(C(=O)O)ccc1O', 'Hordeum vulgare'],\n",
       "       ['COc1cc(C(=O)O)ccc1O', 'Zanthoxylum gardneri'],\n",
       "       ['COc1cc(C(=O)O)ccc1O', 'Persea americana'],\n",
       "       ['COc1cc(C(=O)O)ccc1O', 'Tetracera sarmentosa'],\n",
       "       ['COc1cc(C(=O)O)ccc1O', 'Chenopodium murale'],\n",
       "       ['COc1cc(C(=O)O)ccc1O', 'Picea omorika'],\n",
       "       ['COc1cc(C(=O)O)ccc1O', 'Vitis aestivalis'],\n",
       "       ['COc1cc(C(=O)O)ccc1O', 'Levisticum officinale'],\n",
       "       ['COc1cc(C(=O)O)ccc1O', 'Sonchus canariensis'],\n",
       "       ['COc1cc(C(=O)O)ccc1O', 'Trichodesma zeylanicum'],\n",
       "       ['COc1cc(C(=O)O)ccc1O', 'Kalanchoe miniata'],\n",
       "       ['COc1cc(C(=O)O)ccc1O', 'Marrubium parviflorum'],\n",
       "       ['COc1cc(C(=O)O)ccc1O', 'Melanthera prostrata'],\n",
       "       ['COc1cc(C(=O)O)ccc1O', 'Prunus domestica'],\n",
       "       ['COc1cc(C(=O)O)ccc1O', 'Zanthoxylum chalybeum'],\n",
       "       ['COc1cc(C(=O)O)ccc1O', 'Erythrina addisoniae'],\n",
       "       ['COc1cc(C(=O)O)ccc1O', 'Artemisia valentina']], dtype=object)"
      ]
     },
     "execution_count": 52,
     "metadata": {},
     "output_type": "execute_result"
    }
   ],
   "source": [
    "results[10000:10100]"
   ]
  },
  {
   "cell_type": "code",
   "execution_count": 53,
   "id": "db872b12",
   "metadata": {
    "scrolled": true
   },
   "outputs": [
    {
     "data": {
      "text/html": [
       "<div>\n",
       "<style scoped>\n",
       "    .dataframe tbody tr th:only-of-type {\n",
       "        vertical-align: middle;\n",
       "    }\n",
       "\n",
       "    .dataframe tbody tr th {\n",
       "        vertical-align: top;\n",
       "    }\n",
       "\n",
       "    .dataframe thead th {\n",
       "        text-align: right;\n",
       "    }\n",
       "</style>\n",
       "<table border=\"1\" class=\"dataframe\">\n",
       "  <thead>\n",
       "    <tr style=\"text-align: right;\">\n",
       "      <th></th>\n",
       "      <th>organism_name</th>\n",
       "      <th>structure_smiles_2D</th>\n",
       "      <th>reference_wikidata</th>\n",
       "      <th>organism_taxonomy_08genus</th>\n",
       "      <th>organism_taxonomy_06family</th>\n",
       "      <th>organism_taxonomy_05order</th>\n",
       "      <th>organism_taxonomy_04class</th>\n",
       "      <th>organism_taxonomy_03phylum</th>\n",
       "      <th>organism_taxonomy_02kingdom</th>\n",
       "      <th>organism_taxonomy_01domain</th>\n",
       "      <th>structure_taxonomy_classyfire_01kingdom</th>\n",
       "      <th>structure_taxonomy_classyfire_02superclass</th>\n",
       "      <th>structure_taxonomy_classyfire_03class</th>\n",
       "      <th>structure_taxonomy_classyfire_04directparent</th>\n",
       "      <th>total_papers_molecule</th>\n",
       "      <th>total_papers_species</th>\n",
       "    </tr>\n",
       "  </thead>\n",
       "  <tbody>\n",
       "    <tr>\n",
       "      <th>0</th>\n",
       "      <td>Heracleum persicum</td>\n",
       "      <td>CCCCOC(=O)CCC</td>\n",
       "      <td>1</td>\n",
       "      <td>Heracleum</td>\n",
       "      <td>Apiaceae</td>\n",
       "      <td>Apiales</td>\n",
       "      <td>Magnoliopsida</td>\n",
       "      <td>Streptophyta</td>\n",
       "      <td>Archaeplastida</td>\n",
       "      <td>Eukaryota</td>\n",
       "      <td>Organic compounds</td>\n",
       "      <td>Lipids and lipid-like molecules</td>\n",
       "      <td>Fatty Acyls</td>\n",
       "      <td>Fatty acid esters</td>\n",
       "      <td>19</td>\n",
       "      <td>49</td>\n",
       "    </tr>\n",
       "    <tr>\n",
       "      <th>1</th>\n",
       "      <td>Euphorbia supina</td>\n",
       "      <td>CCC(CCC(C)C1CCC2C3CC=C4CC(O)CCC4(C)C3CCC12C)C(C)C</td>\n",
       "      <td>3</td>\n",
       "      <td>Euphorbia</td>\n",
       "      <td>Euphorbiaceae</td>\n",
       "      <td>Malpighiales</td>\n",
       "      <td>Magnoliopsida</td>\n",
       "      <td>Streptophyta</td>\n",
       "      <td>Archaeplastida</td>\n",
       "      <td>Eukaryota</td>\n",
       "      <td>Organic compounds</td>\n",
       "      <td>Lipids and lipid-like molecules</td>\n",
       "      <td>Steroids and steroid derivatives</td>\n",
       "      <td>Stigmastanes and derivatives</td>\n",
       "      <td>4986</td>\n",
       "      <td>125</td>\n",
       "    </tr>\n",
       "    <tr>\n",
       "      <th>2</th>\n",
       "      <td>Medicago sativa</td>\n",
       "      <td>O=C(O)c1ccc(O)c(O)c1</td>\n",
       "      <td>1</td>\n",
       "      <td>Medicago</td>\n",
       "      <td>Fabaceae</td>\n",
       "      <td>Fabales</td>\n",
       "      <td>Magnoliopsida</td>\n",
       "      <td>Streptophyta</td>\n",
       "      <td>Archaeplastida</td>\n",
       "      <td>Eukaryota</td>\n",
       "      <td>Organic compounds</td>\n",
       "      <td>Benzenoids</td>\n",
       "      <td>Benzene and substituted derivatives</td>\n",
       "      <td>Hydroxybenzoic acid derivatives</td>\n",
       "      <td>695</td>\n",
       "      <td>558</td>\n",
       "    </tr>\n",
       "    <tr>\n",
       "      <th>3</th>\n",
       "      <td>Guatteria blepharophylla</td>\n",
       "      <td>C=C1CCC2C(C3C(C)CCC13)C2(C)C</td>\n",
       "      <td>1</td>\n",
       "      <td>Guatteria</td>\n",
       "      <td>Annonaceae</td>\n",
       "      <td>Magnoliales</td>\n",
       "      <td>Magnoliopsida</td>\n",
       "      <td>Streptophyta</td>\n",
       "      <td>Archaeplastida</td>\n",
       "      <td>Eukaryota</td>\n",
       "      <td>Organic compounds</td>\n",
       "      <td>Lipids and lipid-like molecules</td>\n",
       "      <td>Prenol lipids</td>\n",
       "      <td>5,10-cycloaromadendrane sesquiterpenoids</td>\n",
       "      <td>480</td>\n",
       "      <td>88</td>\n",
       "    </tr>\n",
       "    <tr>\n",
       "      <th>4</th>\n",
       "      <td>Stranvaesia davidiana var. davidiana</td>\n",
       "      <td>COc1cc(C(C)=O)ccc1O</td>\n",
       "      <td>1</td>\n",
       "      <td>NaN</td>\n",
       "      <td>NaN</td>\n",
       "      <td>NaN</td>\n",
       "      <td>NaN</td>\n",
       "      <td>NaN</td>\n",
       "      <td>NaN</td>\n",
       "      <td>NaN</td>\n",
       "      <td>Organic compounds</td>\n",
       "      <td>Organic oxygen compounds</td>\n",
       "      <td>Organooxygen compounds</td>\n",
       "      <td>Alkyl-phenylketones</td>\n",
       "      <td>68</td>\n",
       "      <td>4</td>\n",
       "    </tr>\n",
       "    <tr>\n",
       "      <th>...</th>\n",
       "      <td>...</td>\n",
       "      <td>...</td>\n",
       "      <td>...</td>\n",
       "      <td>...</td>\n",
       "      <td>...</td>\n",
       "      <td>...</td>\n",
       "      <td>...</td>\n",
       "      <td>...</td>\n",
       "      <td>...</td>\n",
       "      <td>...</td>\n",
       "      <td>...</td>\n",
       "      <td>...</td>\n",
       "      <td>...</td>\n",
       "      <td>...</td>\n",
       "      <td>...</td>\n",
       "      <td>...</td>\n",
       "    </tr>\n",
       "    <tr>\n",
       "      <th>49995</th>\n",
       "      <td>Baccharis vaccinioides</td>\n",
       "      <td>COc1ccc(C2CC(=O)c3c(O)cc(O)cc3O2)cc1</td>\n",
       "      <td>1</td>\n",
       "      <td>Baccharis</td>\n",
       "      <td>Asteraceae</td>\n",
       "      <td>Asterales</td>\n",
       "      <td>Magnoliopsida</td>\n",
       "      <td>Streptophyta</td>\n",
       "      <td>Archaeplastida</td>\n",
       "      <td>Eukaryota</td>\n",
       "      <td>Organic compounds</td>\n",
       "      <td>Phenylpropanoids and polyketides</td>\n",
       "      <td>Flavonoids</td>\n",
       "      <td>4'-O-methylated flavonoids</td>\n",
       "      <td>73</td>\n",
       "      <td>20</td>\n",
       "    </tr>\n",
       "    <tr>\n",
       "      <th>49996</th>\n",
       "      <td>Betula platyphylla var. japonica</td>\n",
       "      <td>CC(C)=CCCC(C)(O)C1CCC2(C)C1CCC1C3(C)CCC(OC(=O)...</td>\n",
       "      <td>1</td>\n",
       "      <td>Betula</td>\n",
       "      <td>Betulaceae</td>\n",
       "      <td>Fagales</td>\n",
       "      <td>Magnoliopsida</td>\n",
       "      <td>Streptophyta</td>\n",
       "      <td>Archaeplastida</td>\n",
       "      <td>Eukaryota</td>\n",
       "      <td>Organic compounds</td>\n",
       "      <td>Lipids and lipid-like molecules</td>\n",
       "      <td>Prenol lipids</td>\n",
       "      <td>Triterpenoids</td>\n",
       "      <td>4</td>\n",
       "      <td>71</td>\n",
       "    </tr>\n",
       "    <tr>\n",
       "      <th>49997</th>\n",
       "      <td>Luisia brachystachys</td>\n",
       "      <td>COc1cc(O)c2c(c1)CCc1cc(O)ccc1-2</td>\n",
       "      <td>1</td>\n",
       "      <td>Luisia</td>\n",
       "      <td>Orchidaceae</td>\n",
       "      <td>Asparagales</td>\n",
       "      <td>Magnoliopsida</td>\n",
       "      <td>Streptophyta</td>\n",
       "      <td>Archaeplastida</td>\n",
       "      <td>Eukaryota</td>\n",
       "      <td>Organic compounds</td>\n",
       "      <td>Benzenoids</td>\n",
       "      <td>Phenanthrenes and derivatives</td>\n",
       "      <td>Hydrophenanthrenes</td>\n",
       "      <td>19</td>\n",
       "      <td>5</td>\n",
       "    </tr>\n",
       "    <tr>\n",
       "      <th>49998</th>\n",
       "      <td>Melicope xanthoxyloides</td>\n",
       "      <td>COc1cc2c(OC)c3ccoc3nc2cc1OCC(O)C(C)(C)O</td>\n",
       "      <td>4</td>\n",
       "      <td>Melicope</td>\n",
       "      <td>Rutaceae</td>\n",
       "      <td>Sapindales</td>\n",
       "      <td>Magnoliopsida</td>\n",
       "      <td>Streptophyta</td>\n",
       "      <td>Archaeplastida</td>\n",
       "      <td>Eukaryota</td>\n",
       "      <td>Organic compounds</td>\n",
       "      <td>Organoheterocyclic compounds</td>\n",
       "      <td>Quinolines and derivatives</td>\n",
       "      <td>Furanoquinolines</td>\n",
       "      <td>6</td>\n",
       "      <td>12</td>\n",
       "    </tr>\n",
       "    <tr>\n",
       "      <th>49999</th>\n",
       "      <td>Bruguiera rhynchopetala</td>\n",
       "      <td>COc1cc2c(cc1O)C(c1cc(OC)c(O)c(OC)c1)C(COC1OCC(...</td>\n",
       "      <td>1</td>\n",
       "      <td>Bruguiera</td>\n",
       "      <td>Rhizophoraceae</td>\n",
       "      <td>Malpighiales</td>\n",
       "      <td>Magnoliopsida</td>\n",
       "      <td>Streptophyta</td>\n",
       "      <td>Archaeplastida</td>\n",
       "      <td>Eukaryota</td>\n",
       "      <td>Organic compounds</td>\n",
       "      <td>Lignans, neolignans and related compounds</td>\n",
       "      <td>Lignan glycosides</td>\n",
       "      <td>Lignan glycosides</td>\n",
       "      <td>2</td>\n",
       "      <td>34</td>\n",
       "    </tr>\n",
       "  </tbody>\n",
       "</table>\n",
       "<p>50000 rows × 16 columns</p>\n",
       "</div>"
      ],
      "text/plain": [
       "                              organism_name  \\\n",
       "0                        Heracleum persicum   \n",
       "1                          Euphorbia supina   \n",
       "2                           Medicago sativa   \n",
       "3                  Guatteria blepharophylla   \n",
       "4      Stranvaesia davidiana var. davidiana   \n",
       "...                                     ...   \n",
       "49995                Baccharis vaccinioides   \n",
       "49996      Betula platyphylla var. japonica   \n",
       "49997                  Luisia brachystachys   \n",
       "49998               Melicope xanthoxyloides   \n",
       "49999               Bruguiera rhynchopetala   \n",
       "\n",
       "                                     structure_smiles_2D  reference_wikidata  \\\n",
       "0                                          CCCCOC(=O)CCC                   1   \n",
       "1      CCC(CCC(C)C1CCC2C3CC=C4CC(O)CCC4(C)C3CCC12C)C(C)C                   3   \n",
       "2                                   O=C(O)c1ccc(O)c(O)c1                   1   \n",
       "3                           C=C1CCC2C(C3C(C)CCC13)C2(C)C                   1   \n",
       "4                                    COc1cc(C(C)=O)ccc1O                   1   \n",
       "...                                                  ...                 ...   \n",
       "49995               COc1ccc(C2CC(=O)c3c(O)cc(O)cc3O2)cc1                   1   \n",
       "49996  CC(C)=CCCC(C)(O)C1CCC2(C)C1CCC1C3(C)CCC(OC(=O)...                   1   \n",
       "49997                    COc1cc(O)c2c(c1)CCc1cc(O)ccc1-2                   1   \n",
       "49998            COc1cc2c(OC)c3ccoc3nc2cc1OCC(O)C(C)(C)O                   4   \n",
       "49999  COc1cc2c(cc1O)C(c1cc(OC)c(O)c(OC)c1)C(COC1OCC(...                   1   \n",
       "\n",
       "      organism_taxonomy_08genus organism_taxonomy_06family  \\\n",
       "0                     Heracleum                   Apiaceae   \n",
       "1                     Euphorbia              Euphorbiaceae   \n",
       "2                      Medicago                   Fabaceae   \n",
       "3                     Guatteria                 Annonaceae   \n",
       "4                           NaN                        NaN   \n",
       "...                         ...                        ...   \n",
       "49995                 Baccharis                 Asteraceae   \n",
       "49996                    Betula                 Betulaceae   \n",
       "49997                    Luisia                Orchidaceae   \n",
       "49998                  Melicope                   Rutaceae   \n",
       "49999                 Bruguiera             Rhizophoraceae   \n",
       "\n",
       "      organism_taxonomy_05order organism_taxonomy_04class  \\\n",
       "0                       Apiales             Magnoliopsida   \n",
       "1                  Malpighiales             Magnoliopsida   \n",
       "2                       Fabales             Magnoliopsida   \n",
       "3                   Magnoliales             Magnoliopsida   \n",
       "4                           NaN                       NaN   \n",
       "...                         ...                       ...   \n",
       "49995                 Asterales             Magnoliopsida   \n",
       "49996                   Fagales             Magnoliopsida   \n",
       "49997               Asparagales             Magnoliopsida   \n",
       "49998                Sapindales             Magnoliopsida   \n",
       "49999              Malpighiales             Magnoliopsida   \n",
       "\n",
       "      organism_taxonomy_03phylum organism_taxonomy_02kingdom  \\\n",
       "0                   Streptophyta              Archaeplastida   \n",
       "1                   Streptophyta              Archaeplastida   \n",
       "2                   Streptophyta              Archaeplastida   \n",
       "3                   Streptophyta              Archaeplastida   \n",
       "4                            NaN                         NaN   \n",
       "...                          ...                         ...   \n",
       "49995               Streptophyta              Archaeplastida   \n",
       "49996               Streptophyta              Archaeplastida   \n",
       "49997               Streptophyta              Archaeplastida   \n",
       "49998               Streptophyta              Archaeplastida   \n",
       "49999               Streptophyta              Archaeplastida   \n",
       "\n",
       "      organism_taxonomy_01domain structure_taxonomy_classyfire_01kingdom  \\\n",
       "0                      Eukaryota                       Organic compounds   \n",
       "1                      Eukaryota                       Organic compounds   \n",
       "2                      Eukaryota                       Organic compounds   \n",
       "3                      Eukaryota                       Organic compounds   \n",
       "4                            NaN                       Organic compounds   \n",
       "...                          ...                                     ...   \n",
       "49995                  Eukaryota                       Organic compounds   \n",
       "49996                  Eukaryota                       Organic compounds   \n",
       "49997                  Eukaryota                       Organic compounds   \n",
       "49998                  Eukaryota                       Organic compounds   \n",
       "49999                  Eukaryota                       Organic compounds   \n",
       "\n",
       "      structure_taxonomy_classyfire_02superclass  \\\n",
       "0                Lipids and lipid-like molecules   \n",
       "1                Lipids and lipid-like molecules   \n",
       "2                                     Benzenoids   \n",
       "3                Lipids and lipid-like molecules   \n",
       "4                       Organic oxygen compounds   \n",
       "...                                          ...   \n",
       "49995           Phenylpropanoids and polyketides   \n",
       "49996            Lipids and lipid-like molecules   \n",
       "49997                                 Benzenoids   \n",
       "49998               Organoheterocyclic compounds   \n",
       "49999  Lignans, neolignans and related compounds   \n",
       "\n",
       "      structure_taxonomy_classyfire_03class  \\\n",
       "0                               Fatty Acyls   \n",
       "1          Steroids and steroid derivatives   \n",
       "2       Benzene and substituted derivatives   \n",
       "3                             Prenol lipids   \n",
       "4                    Organooxygen compounds   \n",
       "...                                     ...   \n",
       "49995                            Flavonoids   \n",
       "49996                         Prenol lipids   \n",
       "49997         Phenanthrenes and derivatives   \n",
       "49998            Quinolines and derivatives   \n",
       "49999                     Lignan glycosides   \n",
       "\n",
       "      structure_taxonomy_classyfire_04directparent  total_papers_molecule  \\\n",
       "0                                Fatty acid esters                     19   \n",
       "1                     Stigmastanes and derivatives                   4986   \n",
       "2                  Hydroxybenzoic acid derivatives                    695   \n",
       "3         5,10-cycloaromadendrane sesquiterpenoids                    480   \n",
       "4                              Alkyl-phenylketones                     68   \n",
       "...                                            ...                    ...   \n",
       "49995                   4'-O-methylated flavonoids                     73   \n",
       "49996                                Triterpenoids                      4   \n",
       "49997                           Hydrophenanthrenes                     19   \n",
       "49998                             Furanoquinolines                      6   \n",
       "49999                            Lignan glycosides                      2   \n",
       "\n",
       "       total_papers_species  \n",
       "0                        49  \n",
       "1                       125  \n",
       "2                       558  \n",
       "3                        88  \n",
       "4                         4  \n",
       "...                     ...  \n",
       "49995                    20  \n",
       "49996                    71  \n",
       "49997                     5  \n",
       "49998                    12  \n",
       "49999                    34  \n",
       "\n",
       "[50000 rows x 16 columns]"
      ]
     },
     "execution_count": 53,
     "metadata": {},
     "output_type": "execute_result"
    }
   ],
   "source": [
    "df_agg"
   ]
  },
  {
   "cell_type": "code",
   "execution_count": 54,
   "id": "88a45c64",
   "metadata": {
    "scrolled": true
   },
   "outputs": [
    {
     "name": "stderr",
     "output_type": "stream",
     "text": [
      "WARNING:absl:Found untraced functions such as _update_step_xla while saving (showing 1 of 1). These functions will not be directly callable after loading.\n"
     ]
    },
    {
     "name": "stdout",
     "output_type": "stream",
     "text": [
      "INFO:tensorflow:Assets written to: ./model/batch_256_layer_128/assets\n"
     ]
    },
    {
     "name": "stderr",
     "output_type": "stream",
     "text": [
      "INFO:tensorflow:Assets written to: ./model/batch_256_layer_128/assets\n"
     ]
    }
   ],
   "source": [
    "model.save(f\"./model/batch_{batch_size}_layer_{hinsage_layer_sizes[0]}\")"
   ]
  },
  {
   "cell_type": "code",
   "execution_count": 55,
   "id": "629b4da0",
   "metadata": {},
   "outputs": [],
   "source": [
    "try_test = np.array([['C=C(C)C1CCC2(C)CCC3(C)C(CCC4C5(C)CCC(O)C(C)(C)C5CCC43C)C12', 'Homo sapiens']])"
   ]
  },
  {
   "cell_type": "code",
   "execution_count": 56,
   "id": "0f166fe0",
   "metadata": {},
   "outputs": [],
   "source": [
    "try_test = HinSAGELinkGenerator(G,\n",
    "                                 batch_size=128,\n",
    "                                num_samples=num_samples,\n",
    "                                head_node_types=[\"molecule\", \"species\"]).flow(try_test, np.ones(len(try_test)).reshape(-1, 1))"
   ]
  },
  {
   "cell_type": "code",
   "execution_count": 69,
   "id": "ce2765c2",
   "metadata": {
    "scrolled": false
   },
   "outputs": [
    {
     "name": "stdout",
     "output_type": "stream",
     "text": [
      "1/1 [==============================] - 0s 37ms/step\n"
     ]
    },
    {
     "data": {
      "text/plain": [
       "array([[0.9907993]], dtype=float32)"
      ]
     },
     "execution_count": 69,
     "metadata": {},
     "output_type": "execute_result"
    }
   ],
   "source": [
    "model.predict(try_test)"
   ]
  },
  {
   "cell_type": "code",
   "execution_count": 58,
   "id": "10831fc0",
   "metadata": {},
   "outputs": [
    {
     "data": {
      "text/html": [
       "<div>\n",
       "<style scoped>\n",
       "    .dataframe tbody tr th:only-of-type {\n",
       "        vertical-align: middle;\n",
       "    }\n",
       "\n",
       "    .dataframe tbody tr th {\n",
       "        vertical-align: top;\n",
       "    }\n",
       "\n",
       "    .dataframe thead th {\n",
       "        text-align: right;\n",
       "    }\n",
       "</style>\n",
       "<table border=\"1\" class=\"dataframe\">\n",
       "  <thead>\n",
       "    <tr style=\"text-align: right;\">\n",
       "      <th></th>\n",
       "      <th>organism_name</th>\n",
       "      <th>structure_smiles_2D</th>\n",
       "      <th>reference_wikidata</th>\n",
       "      <th>organism_taxonomy_08genus</th>\n",
       "      <th>organism_taxonomy_06family</th>\n",
       "      <th>organism_taxonomy_05order</th>\n",
       "      <th>organism_taxonomy_04class</th>\n",
       "      <th>organism_taxonomy_03phylum</th>\n",
       "      <th>organism_taxonomy_02kingdom</th>\n",
       "      <th>organism_taxonomy_01domain</th>\n",
       "      <th>structure_taxonomy_classyfire_01kingdom</th>\n",
       "      <th>structure_taxonomy_classyfire_02superclass</th>\n",
       "      <th>structure_taxonomy_classyfire_03class</th>\n",
       "      <th>structure_taxonomy_classyfire_04directparent</th>\n",
       "      <th>total_papers_molecule</th>\n",
       "      <th>total_papers_species</th>\n",
       "    </tr>\n",
       "  </thead>\n",
       "  <tbody>\n",
       "    <tr>\n",
       "      <th>947</th>\n",
       "      <td>Zanthoxylum budrunga</td>\n",
       "      <td>C=C(C)C1CCC2(C)CCC3(C)C(CCC4C5(C)CCC(O)C(C)(C)...</td>\n",
       "      <td>1</td>\n",
       "      <td>NaN</td>\n",
       "      <td>NaN</td>\n",
       "      <td>NaN</td>\n",
       "      <td>NaN</td>\n",
       "      <td>NaN</td>\n",
       "      <td>NaN</td>\n",
       "      <td>NaN</td>\n",
       "      <td>Organic compounds</td>\n",
       "      <td>Lipids and lipid-like molecules</td>\n",
       "      <td>Prenol lipids</td>\n",
       "      <td>Triterpenoids</td>\n",
       "      <td>1328</td>\n",
       "      <td>26</td>\n",
       "    </tr>\n",
       "    <tr>\n",
       "      <th>1130</th>\n",
       "      <td>Diospyros ismailii</td>\n",
       "      <td>C=C(C)C1CCC2(C)CCC3(C)C(CCC4C5(C)CCC(O)C(C)(C)...</td>\n",
       "      <td>3</td>\n",
       "      <td>Diospyros</td>\n",
       "      <td>Ebenaceae</td>\n",
       "      <td>Ericales</td>\n",
       "      <td>Magnoliopsida</td>\n",
       "      <td>Streptophyta</td>\n",
       "      <td>Archaeplastida</td>\n",
       "      <td>Eukaryota</td>\n",
       "      <td>Organic compounds</td>\n",
       "      <td>Lipids and lipid-like molecules</td>\n",
       "      <td>Prenol lipids</td>\n",
       "      <td>Triterpenoids</td>\n",
       "      <td>1328</td>\n",
       "      <td>53</td>\n",
       "    </tr>\n",
       "    <tr>\n",
       "      <th>1585</th>\n",
       "      <td>Citrus medica</td>\n",
       "      <td>C=C(C)C1CCC2(C)CCC3(C)C(CCC4C5(C)CCC(O)C(C)(C)...</td>\n",
       "      <td>1</td>\n",
       "      <td>Citrus</td>\n",
       "      <td>Rutaceae</td>\n",
       "      <td>Sapindales</td>\n",
       "      <td>Magnoliopsida</td>\n",
       "      <td>Streptophyta</td>\n",
       "      <td>Archaeplastida</td>\n",
       "      <td>Eukaryota</td>\n",
       "      <td>Organic compounds</td>\n",
       "      <td>Lipids and lipid-like molecules</td>\n",
       "      <td>Prenol lipids</td>\n",
       "      <td>Triterpenoids</td>\n",
       "      <td>1328</td>\n",
       "      <td>473</td>\n",
       "    </tr>\n",
       "    <tr>\n",
       "      <th>1920</th>\n",
       "      <td>Ventilago leiocarpa</td>\n",
       "      <td>C=C(C)C1CCC2(C)CCC3(C)C(CCC4C5(C)CCC(O)C(C)(C)...</td>\n",
       "      <td>2</td>\n",
       "      <td>Ventilago</td>\n",
       "      <td>Rhamnaceae</td>\n",
       "      <td>Rosales</td>\n",
       "      <td>Magnoliopsida</td>\n",
       "      <td>Streptophyta</td>\n",
       "      <td>Archaeplastida</td>\n",
       "      <td>Eukaryota</td>\n",
       "      <td>Organic compounds</td>\n",
       "      <td>Lipids and lipid-like molecules</td>\n",
       "      <td>Prenol lipids</td>\n",
       "      <td>Triterpenoids</td>\n",
       "      <td>1328</td>\n",
       "      <td>29</td>\n",
       "    </tr>\n",
       "    <tr>\n",
       "      <th>2372</th>\n",
       "      <td>Cirsium nipponicum</td>\n",
       "      <td>C=C(C)C1CCC2(C)CCC3(C)C(CCC4C5(C)CCC(O)C(C)(C)...</td>\n",
       "      <td>1</td>\n",
       "      <td>Cirsium</td>\n",
       "      <td>Asteraceae</td>\n",
       "      <td>Asterales</td>\n",
       "      <td>Magnoliopsida</td>\n",
       "      <td>Streptophyta</td>\n",
       "      <td>Archaeplastida</td>\n",
       "      <td>Eukaryota</td>\n",
       "      <td>Organic compounds</td>\n",
       "      <td>Lipids and lipid-like molecules</td>\n",
       "      <td>Prenol lipids</td>\n",
       "      <td>Triterpenoids</td>\n",
       "      <td>1328</td>\n",
       "      <td>14</td>\n",
       "    </tr>\n",
       "    <tr>\n",
       "      <th>...</th>\n",
       "      <td>...</td>\n",
       "      <td>...</td>\n",
       "      <td>...</td>\n",
       "      <td>...</td>\n",
       "      <td>...</td>\n",
       "      <td>...</td>\n",
       "      <td>...</td>\n",
       "      <td>...</td>\n",
       "      <td>...</td>\n",
       "      <td>...</td>\n",
       "      <td>...</td>\n",
       "      <td>...</td>\n",
       "      <td>...</td>\n",
       "      <td>...</td>\n",
       "      <td>...</td>\n",
       "      <td>...</td>\n",
       "    </tr>\n",
       "    <tr>\n",
       "      <th>48646</th>\n",
       "      <td>Zanthoxylum zanthoxyloides</td>\n",
       "      <td>C=C(C)C1CCC2(C)CCC3(C)C(CCC4C5(C)CCC(O)C(C)(C)...</td>\n",
       "      <td>3</td>\n",
       "      <td>Zanthoxylum</td>\n",
       "      <td>Rutaceae</td>\n",
       "      <td>Sapindales</td>\n",
       "      <td>Magnoliopsida</td>\n",
       "      <td>Streptophyta</td>\n",
       "      <td>Archaeplastida</td>\n",
       "      <td>Eukaryota</td>\n",
       "      <td>Organic compounds</td>\n",
       "      <td>Lipids and lipid-like molecules</td>\n",
       "      <td>Prenol lipids</td>\n",
       "      <td>Triterpenoids</td>\n",
       "      <td>1328</td>\n",
       "      <td>173</td>\n",
       "    </tr>\n",
       "    <tr>\n",
       "      <th>49044</th>\n",
       "      <td>Rauvolfia mattfeldiana</td>\n",
       "      <td>C=C(C)C1CCC2(C)CCC3(C)C(CCC4C5(C)CCC(O)C(C)(C)...</td>\n",
       "      <td>1</td>\n",
       "      <td>Rauvolfia</td>\n",
       "      <td>Apocynaceae</td>\n",
       "      <td>Gentianales</td>\n",
       "      <td>Magnoliopsida</td>\n",
       "      <td>Streptophyta</td>\n",
       "      <td>Archaeplastida</td>\n",
       "      <td>Eukaryota</td>\n",
       "      <td>Organic compounds</td>\n",
       "      <td>Lipids and lipid-like molecules</td>\n",
       "      <td>Prenol lipids</td>\n",
       "      <td>Triterpenoids</td>\n",
       "      <td>1328</td>\n",
       "      <td>5</td>\n",
       "    </tr>\n",
       "    <tr>\n",
       "      <th>49344</th>\n",
       "      <td>Cnidoscolus urens</td>\n",
       "      <td>C=C(C)C1CCC2(C)CCC3(C)C(CCC4C5(C)CCC(O)C(C)(C)...</td>\n",
       "      <td>1</td>\n",
       "      <td>Cnidoscolus</td>\n",
       "      <td>Euphorbiaceae</td>\n",
       "      <td>Malpighiales</td>\n",
       "      <td>Magnoliopsida</td>\n",
       "      <td>Streptophyta</td>\n",
       "      <td>Archaeplastida</td>\n",
       "      <td>Eukaryota</td>\n",
       "      <td>Organic compounds</td>\n",
       "      <td>Lipids and lipid-like molecules</td>\n",
       "      <td>Prenol lipids</td>\n",
       "      <td>Triterpenoids</td>\n",
       "      <td>1328</td>\n",
       "      <td>7</td>\n",
       "    </tr>\n",
       "    <tr>\n",
       "      <th>49437</th>\n",
       "      <td>Vigna angularis</td>\n",
       "      <td>C=C(C)C1CCC2(C)CCC3(C)C(CCC4C5(C)CCC(O)C(C)(C)...</td>\n",
       "      <td>1</td>\n",
       "      <td>Vigna</td>\n",
       "      <td>Fabaceae</td>\n",
       "      <td>Fabales</td>\n",
       "      <td>Magnoliopsida</td>\n",
       "      <td>Streptophyta</td>\n",
       "      <td>Archaeplastida</td>\n",
       "      <td>Eukaryota</td>\n",
       "      <td>Organic compounds</td>\n",
       "      <td>Lipids and lipid-like molecules</td>\n",
       "      <td>Prenol lipids</td>\n",
       "      <td>Triterpenoids</td>\n",
       "      <td>1328</td>\n",
       "      <td>88</td>\n",
       "    </tr>\n",
       "    <tr>\n",
       "      <th>49458</th>\n",
       "      <td>Cyrtocymura scorpioides</td>\n",
       "      <td>C=C(C)C1CCC2(C)CCC3(C)C(CCC4C5(C)CCC(O)C(C)(C)...</td>\n",
       "      <td>1</td>\n",
       "      <td>Cyrtocymura</td>\n",
       "      <td>Asteraceae</td>\n",
       "      <td>Asterales</td>\n",
       "      <td>Magnoliopsida</td>\n",
       "      <td>Streptophyta</td>\n",
       "      <td>Archaeplastida</td>\n",
       "      <td>Eukaryota</td>\n",
       "      <td>Organic compounds</td>\n",
       "      <td>Lipids and lipid-like molecules</td>\n",
       "      <td>Prenol lipids</td>\n",
       "      <td>Triterpenoids</td>\n",
       "      <td>1328</td>\n",
       "      <td>28</td>\n",
       "    </tr>\n",
       "  </tbody>\n",
       "</table>\n",
       "<p>123 rows × 16 columns</p>\n",
       "</div>"
      ],
      "text/plain": [
       "                    organism_name  \\\n",
       "947          Zanthoxylum budrunga   \n",
       "1130           Diospyros ismailii   \n",
       "1585                Citrus medica   \n",
       "1920          Ventilago leiocarpa   \n",
       "2372           Cirsium nipponicum   \n",
       "...                           ...   \n",
       "48646  Zanthoxylum zanthoxyloides   \n",
       "49044      Rauvolfia mattfeldiana   \n",
       "49344           Cnidoscolus urens   \n",
       "49437             Vigna angularis   \n",
       "49458     Cyrtocymura scorpioides   \n",
       "\n",
       "                                     structure_smiles_2D  reference_wikidata  \\\n",
       "947    C=C(C)C1CCC2(C)CCC3(C)C(CCC4C5(C)CCC(O)C(C)(C)...                   1   \n",
       "1130   C=C(C)C1CCC2(C)CCC3(C)C(CCC4C5(C)CCC(O)C(C)(C)...                   3   \n",
       "1585   C=C(C)C1CCC2(C)CCC3(C)C(CCC4C5(C)CCC(O)C(C)(C)...                   1   \n",
       "1920   C=C(C)C1CCC2(C)CCC3(C)C(CCC4C5(C)CCC(O)C(C)(C)...                   2   \n",
       "2372   C=C(C)C1CCC2(C)CCC3(C)C(CCC4C5(C)CCC(O)C(C)(C)...                   1   \n",
       "...                                                  ...                 ...   \n",
       "48646  C=C(C)C1CCC2(C)CCC3(C)C(CCC4C5(C)CCC(O)C(C)(C)...                   3   \n",
       "49044  C=C(C)C1CCC2(C)CCC3(C)C(CCC4C5(C)CCC(O)C(C)(C)...                   1   \n",
       "49344  C=C(C)C1CCC2(C)CCC3(C)C(CCC4C5(C)CCC(O)C(C)(C)...                   1   \n",
       "49437  C=C(C)C1CCC2(C)CCC3(C)C(CCC4C5(C)CCC(O)C(C)(C)...                   1   \n",
       "49458  C=C(C)C1CCC2(C)CCC3(C)C(CCC4C5(C)CCC(O)C(C)(C)...                   1   \n",
       "\n",
       "      organism_taxonomy_08genus organism_taxonomy_06family  \\\n",
       "947                         NaN                        NaN   \n",
       "1130                  Diospyros                  Ebenaceae   \n",
       "1585                     Citrus                   Rutaceae   \n",
       "1920                  Ventilago                 Rhamnaceae   \n",
       "2372                    Cirsium                 Asteraceae   \n",
       "...                         ...                        ...   \n",
       "48646               Zanthoxylum                   Rutaceae   \n",
       "49044                 Rauvolfia                Apocynaceae   \n",
       "49344               Cnidoscolus              Euphorbiaceae   \n",
       "49437                     Vigna                   Fabaceae   \n",
       "49458               Cyrtocymura                 Asteraceae   \n",
       "\n",
       "      organism_taxonomy_05order organism_taxonomy_04class  \\\n",
       "947                         NaN                       NaN   \n",
       "1130                   Ericales             Magnoliopsida   \n",
       "1585                 Sapindales             Magnoliopsida   \n",
       "1920                    Rosales             Magnoliopsida   \n",
       "2372                  Asterales             Magnoliopsida   \n",
       "...                         ...                       ...   \n",
       "48646                Sapindales             Magnoliopsida   \n",
       "49044               Gentianales             Magnoliopsida   \n",
       "49344              Malpighiales             Magnoliopsida   \n",
       "49437                   Fabales             Magnoliopsida   \n",
       "49458                 Asterales             Magnoliopsida   \n",
       "\n",
       "      organism_taxonomy_03phylum organism_taxonomy_02kingdom  \\\n",
       "947                          NaN                         NaN   \n",
       "1130                Streptophyta              Archaeplastida   \n",
       "1585                Streptophyta              Archaeplastida   \n",
       "1920                Streptophyta              Archaeplastida   \n",
       "2372                Streptophyta              Archaeplastida   \n",
       "...                          ...                         ...   \n",
       "48646               Streptophyta              Archaeplastida   \n",
       "49044               Streptophyta              Archaeplastida   \n",
       "49344               Streptophyta              Archaeplastida   \n",
       "49437               Streptophyta              Archaeplastida   \n",
       "49458               Streptophyta              Archaeplastida   \n",
       "\n",
       "      organism_taxonomy_01domain structure_taxonomy_classyfire_01kingdom  \\\n",
       "947                          NaN                       Organic compounds   \n",
       "1130                   Eukaryota                       Organic compounds   \n",
       "1585                   Eukaryota                       Organic compounds   \n",
       "1920                   Eukaryota                       Organic compounds   \n",
       "2372                   Eukaryota                       Organic compounds   \n",
       "...                          ...                                     ...   \n",
       "48646                  Eukaryota                       Organic compounds   \n",
       "49044                  Eukaryota                       Organic compounds   \n",
       "49344                  Eukaryota                       Organic compounds   \n",
       "49437                  Eukaryota                       Organic compounds   \n",
       "49458                  Eukaryota                       Organic compounds   \n",
       "\n",
       "      structure_taxonomy_classyfire_02superclass  \\\n",
       "947              Lipids and lipid-like molecules   \n",
       "1130             Lipids and lipid-like molecules   \n",
       "1585             Lipids and lipid-like molecules   \n",
       "1920             Lipids and lipid-like molecules   \n",
       "2372             Lipids and lipid-like molecules   \n",
       "...                                          ...   \n",
       "48646            Lipids and lipid-like molecules   \n",
       "49044            Lipids and lipid-like molecules   \n",
       "49344            Lipids and lipid-like molecules   \n",
       "49437            Lipids and lipid-like molecules   \n",
       "49458            Lipids and lipid-like molecules   \n",
       "\n",
       "      structure_taxonomy_classyfire_03class  \\\n",
       "947                           Prenol lipids   \n",
       "1130                          Prenol lipids   \n",
       "1585                          Prenol lipids   \n",
       "1920                          Prenol lipids   \n",
       "2372                          Prenol lipids   \n",
       "...                                     ...   \n",
       "48646                         Prenol lipids   \n",
       "49044                         Prenol lipids   \n",
       "49344                         Prenol lipids   \n",
       "49437                         Prenol lipids   \n",
       "49458                         Prenol lipids   \n",
       "\n",
       "      structure_taxonomy_classyfire_04directparent  total_papers_molecule  \\\n",
       "947                                  Triterpenoids                   1328   \n",
       "1130                                 Triterpenoids                   1328   \n",
       "1585                                 Triterpenoids                   1328   \n",
       "1920                                 Triterpenoids                   1328   \n",
       "2372                                 Triterpenoids                   1328   \n",
       "...                                            ...                    ...   \n",
       "48646                                Triterpenoids                   1328   \n",
       "49044                                Triterpenoids                   1328   \n",
       "49344                                Triterpenoids                   1328   \n",
       "49437                                Triterpenoids                   1328   \n",
       "49458                                Triterpenoids                   1328   \n",
       "\n",
       "       total_papers_species  \n",
       "947                      26  \n",
       "1130                     53  \n",
       "1585                    473  \n",
       "1920                     29  \n",
       "2372                     14  \n",
       "...                     ...  \n",
       "48646                   173  \n",
       "49044                     5  \n",
       "49344                     7  \n",
       "49437                    88  \n",
       "49458                    28  \n",
       "\n",
       "[123 rows x 16 columns]"
      ]
     },
     "execution_count": 58,
     "metadata": {},
     "output_type": "execute_result"
    }
   ],
   "source": [
    "df_agg[df_agg.structure_smiles_2D=='C=C(C)C1CCC2(C)CCC3(C)C(CCC4C5(C)CCC(O)C(C)(C)C5CCC43C)C12']"
   ]
  }
 ],
 "metadata": {
  "kernelspec": {
   "display_name": "Python 3 (ipykernel)",
   "language": "python",
   "name": "python3"
  },
  "language_info": {
   "codemirror_mode": {
    "name": "ipython",
    "version": 3
   },
   "file_extension": ".py",
   "mimetype": "text/x-python",
   "name": "python",
   "nbconvert_exporter": "python",
   "pygments_lexer": "ipython3",
   "version": "3.10.8"
  }
 },
 "nbformat": 4,
 "nbformat_minor": 5
}
