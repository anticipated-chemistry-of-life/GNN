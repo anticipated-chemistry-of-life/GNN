{
 "cells": [
  {
   "cell_type": "code",
   "execution_count": 1,
   "id": "0c37f03d",
   "metadata": {
    "scrolled": true
   },
   "outputs": [
    {
     "name": "stderr",
     "output_type": "stream",
     "text": [
      "2023-06-29 15:01:30.116365: I tensorflow/core/platform/cpu_feature_guard.cc:193] This TensorFlow binary is optimized with oneAPI Deep Neural Network Library (oneDNN) to use the following CPU instructions in performance-critical operations:  SSE4.1 SSE4.2 AVX AVX2 FMA\n",
      "To enable them in other operations, rebuild TensorFlow with the appropriate compiler flags.\n",
      "2023-06-29 15:01:36.446648: I tensorflow/core/platform/cpu_feature_guard.cc:193] This TensorFlow binary is optimized with oneAPI Deep Neural Network Library (oneDNN) to use the following CPU instructions in performance-critical operations:  SSE4.1 SSE4.2 AVX AVX2 FMA\n",
      "To enable them in other operations, rebuild TensorFlow with the appropriate compiler flags.\n"
     ]
    }
   ],
   "source": [
    "import networkx as nx\n",
    "import itertools\n",
    "import pandas as pd\n",
    "import numpy as np\n",
    "from stellargraph import StellarGraph\n",
    "from rdkit.Chem import AllChem, DataStructs\n",
    "import json\n",
    "from sklearn import preprocessing, feature_extraction, model_selection\n",
    "from sklearn.metrics import mean_absolute_error, mean_squared_error\n",
    "from tensorflow import keras\n",
    "import tensorflow as tf\n",
    "\n",
    "import stellargraph as sg\n",
    "from stellargraph.data import EdgeSplitter\n",
    "from stellargraph.mapper import HinSAGELinkGenerator\n",
    "from stellargraph.layer import HinSAGE, link_classification\n",
    "from tensorflow.keras import Model, optimizers, losses, metrics\n",
    "\n",
    "import multiprocessing\n",
    "from stellargraph import datasets\n",
    "from IPython.display import display, HTML\n",
    "import matplotlib.pyplot as plt\n",
    "from tensorflow.keras import mixed_precision"
   ]
  },
  {
   "cell_type": "code",
   "execution_count": 2,
   "id": "5abe1765",
   "metadata": {
    "scrolled": true
   },
   "outputs": [],
   "source": [
    "g = nx.read_graphml(\"./graph/train_graph.gml\")\n",
    "species_features_dummy = pd.read_csv(\"./data/species_features.csv.gz\", index_col=0)\n",
    "#species_features_dummy = pd.read_csv(\"./data/species_BaseNEncoder.csv.gz\", index_col=0)\n",
    "#species_features_dummy = pd.read_csv(\"./data/species_Multi_dim_scale.csv.gz\", index_col=0)\n",
    "molecule_features_dummy = pd.read_csv(\"./data/molecule_features.csv.gz\", index_col=0).astype(\"int8\")\n",
    "df_agg = pd.read_csv(\"./data/lotus_agg_train.csv.gz\", index_col=0)\n",
    "#molecule_features_dummy = pd.read_csv(\"./data/molecule_features_dummy.csv.gz\", index_col=0).astype('int8')"
   ]
  },
  {
   "cell_type": "code",
   "execution_count": 3,
   "id": "e4a4f351",
   "metadata": {},
   "outputs": [],
   "source": [
    "species_test = species_features_dummy[~species_features_dummy.index.isin(df_agg.organism_name)].index\n",
    "mol_test = molecule_features_dummy[~molecule_features_dummy.index.isin(df_agg.structure_smiles_2D)].index"
   ]
  },
  {
   "cell_type": "code",
   "execution_count": 4,
   "id": "c4f8e442",
   "metadata": {},
   "outputs": [],
   "source": [
    "species_feat = species_features_dummy[species_features_dummy.index.isin(df_agg.organism_name)]\n",
    "molecule_feat = molecule_features_dummy[molecule_features_dummy.index.isin(df_agg.structure_smiles_2D)]"
   ]
  },
  {
   "cell_type": "code",
   "execution_count": 5,
   "id": "414372ea",
   "metadata": {},
   "outputs": [
    {
     "name": "stdout",
     "output_type": "stream",
     "text": [
      "StellarDiGraph: Directed multigraph\n",
      " Nodes: 162374, Edges: 700916\n",
      "\n",
      " Node types:\n",
      "  molecule: [127088]\n",
      "    Features: float32 vector, length 27\n",
      "    Edge types: molecule-present_in->species\n",
      "  species: [35286]\n",
      "    Features: float32 vector, length 70\n",
      "    Edge types: species-has->molecule\n",
      "\n",
      " Edge types:\n",
      "    species-has->molecule: [350458]\n",
      "        Weights: all 1 (default)\n",
      "        Features: none\n",
      "    molecule-present_in->species: [350458]\n",
      "        Weights: all 1 (default)\n",
      "        Features: none\n"
     ]
    }
   ],
   "source": [
    "G = StellarGraph.from_networkx(g,\n",
    "                               node_features={'species':species_feat,\n",
    "                                              'molecule': molecule_feat})\n",
    "print(G.info())\n",
    "G.check_graph_for_ml()"
   ]
  },
  {
   "cell_type": "code",
   "execution_count": 6,
   "id": "8ccf42a8",
   "metadata": {},
   "outputs": [],
   "source": [
    "batch_size = 128 #default: 200\n",
    "epochs = 50 #default: 20\n",
    "num_samples = [2, 1]\n",
    "num_workers = multiprocessing.cpu_count()-2"
   ]
  },
  {
   "cell_type": "code",
   "execution_count": 7,
   "id": "40c70f1a",
   "metadata": {},
   "outputs": [
    {
     "name": "stdout",
     "output_type": "stream",
     "text": [
      "Network has 350458 edges of type present_in\n",
      "Network has 350458 edges of type present_in\n",
      "** Sampled 35045 positive and 35045 negative edges. **\n"
     ]
    }
   ],
   "source": [
    "# Define an edge splitter on the original graph G:\n",
    "edge_splitter_test = EdgeSplitter(G)\n",
    "\n",
    "# Randomly sample a fraction p=0.3 of all positive links, and same number of negative links, from G, and obtain the\n",
    "# reduced graph G_test with the sampled links removed:\n",
    "G_test, edge_ids_test, edge_labels_test = edge_splitter_test.train_test_split(\n",
    "    p=0.1, method=\"global\", keep_connected=False, edge_label=\"present_in\"\n",
    ")"
   ]
  },
  {
   "cell_type": "code",
   "execution_count": 8,
   "id": "a1299965",
   "metadata": {},
   "outputs": [
    {
     "name": "stdout",
     "output_type": "stream",
     "text": [
      "Network has 315413 edges of type present_in\n",
      "Network has 315413 edges of type present_in\n",
      "** Sampled 31541 positive and 31541 negative edges. **\n"
     ]
    }
   ],
   "source": [
    "# Define an edge splitter on the reduced graph G_test:\n",
    "edge_splitter_train = EdgeSplitter(G_test)\n",
    "\n",
    "# Randomly sample a fraction p=0.3 of all positive links, and same number of negative links, from G_test, and obtain the\n",
    "# reduced graph G_train with the sampled links removed:\n",
    "G_train, edge_ids_train, edge_labels_train = edge_splitter_train.train_test_split(\n",
    "    p=0.1, method=\"global\", keep_connected=False, edge_label=\"present_in\"\n",
    ")"
   ]
  },
  {
   "cell_type": "code",
   "execution_count": 9,
   "id": "6a4c7cf1",
   "metadata": {},
   "outputs": [
    {
     "name": "stdout",
     "output_type": "stream",
     "text": [
      "StellarDiGraph: Directed multigraph\n",
      " Nodes: 162374, Edges: 634330\n",
      "\n",
      " Node types:\n",
      "  molecule: [127088]\n",
      "    Features: float32 vector, length 27\n",
      "    Edge types: molecule-present_in->species\n",
      "  species: [35286]\n",
      "    Features: float32 vector, length 70\n",
      "    Edge types: species-has->molecule\n",
      "\n",
      " Edge types:\n",
      "    species-has->molecule: [350458]\n",
      "        Weights: all 1 (default)\n",
      "        Features: none\n",
      "    molecule-present_in->species: [283872]\n",
      "        Weights: all 1 (default)\n",
      "        Features: none\n"
     ]
    }
   ],
   "source": [
    "print(G_train.info())"
   ]
  },
  {
   "cell_type": "code",
   "execution_count": 10,
   "id": "96de8525",
   "metadata": {},
   "outputs": [
    {
     "name": "stdout",
     "output_type": "stream",
     "text": [
      "StellarDiGraph: Directed multigraph\n",
      " Nodes: 162374, Edges: 665871\n",
      "\n",
      " Node types:\n",
      "  molecule: [127088]\n",
      "    Features: float32 vector, length 27\n",
      "    Edge types: molecule-present_in->species\n",
      "  species: [35286]\n",
      "    Features: float32 vector, length 70\n",
      "    Edge types: species-has->molecule\n",
      "\n",
      " Edge types:\n",
      "    species-has->molecule: [350458]\n",
      "        Weights: all 1 (default)\n",
      "        Features: none\n",
      "    molecule-present_in->species: [315413]\n",
      "        Weights: all 1 (default)\n",
      "        Features: none\n"
     ]
    }
   ],
   "source": [
    "print(G_test.info())"
   ]
  },
  {
   "cell_type": "code",
   "execution_count": 11,
   "id": "7fd9d1d9",
   "metadata": {},
   "outputs": [],
   "source": [
    "train_gen = HinSAGELinkGenerator(G_train,\n",
    "                                 batch_size=batch_size,\n",
    "                                 num_samples=num_samples,\n",
    "                                 head_node_types=[\"molecule\", \"species\"],\n",
    "                                seed=42)\n",
    "train_flow = train_gen.flow(edge_ids_train, edge_labels_train, shuffle=True, seed=42)"
   ]
  },
  {
   "cell_type": "code",
   "execution_count": 12,
   "id": "3d967859",
   "metadata": {},
   "outputs": [],
   "source": [
    "test_gen = HinSAGELinkGenerator(G_test,\n",
    "                                batch_size=batch_size,\n",
    "                                num_samples=num_samples,\n",
    "                                head_node_types=[\"molecule\", \"species\"],\n",
    "                               seed=42)\n",
    "test_flow = test_gen.flow(edge_ids_test, edge_labels_test, seed=42)"
   ]
  },
  {
   "cell_type": "code",
   "execution_count": 13,
   "id": "d94b97ac",
   "metadata": {},
   "outputs": [],
   "source": [
    "hinsage_layer_sizes = [256, 256]\n",
    "hinsage = HinSAGE(layer_sizes=hinsage_layer_sizes,\n",
    "                  generator=train_gen,\n",
    "                  bias=True,\n",
    "                  dropout=0.3,\n",
    "                 activations=['elu','selu'])"
   ]
  },
  {
   "cell_type": "code",
   "execution_count": 14,
   "id": "7f3f8d54",
   "metadata": {
    "scrolled": false
   },
   "outputs": [
    {
     "name": "stderr",
     "output_type": "stream",
     "text": [
      "/usr/local/Caskroom/mambaforge/base/envs/stellar_graph/lib/python3.10/site-packages/keras/initializers/initializers_v2.py:120: UserWarning: The initializer GlorotUniform is unseeded and being called multiple times, which will return identical values  each time (even if the initializer is unseeded). Please update your code to provide a seed to the initializer, or avoid using the same initalizer instance more than once.\n",
      "  warnings.warn(\n"
     ]
    }
   ],
   "source": [
    "# Build the model and expose input and output sockets of graphsage model\n",
    "# for link prediction\n",
    "x_inp, x_out = hinsage.in_out_tensors()"
   ]
  },
  {
   "cell_type": "code",
   "execution_count": 15,
   "id": "96dddf17",
   "metadata": {},
   "outputs": [
    {
     "name": "stdout",
     "output_type": "stream",
     "text": [
      "link_classification: using 'l1' method to combine node embeddings into edge embeddings\n"
     ]
    }
   ],
   "source": [
    "prediction = link_classification(output_dim=1,\n",
    "                                 output_act=\"sigmoid\",\n",
    "                                 edge_embedding_method=\"l1\")(x_out)"
   ]
  },
  {
   "cell_type": "code",
   "execution_count": 16,
   "id": "a49ccd38",
   "metadata": {},
   "outputs": [],
   "source": [
    "model = keras.Model(inputs=x_inp, outputs=prediction)\n",
    "\n",
    "initial_learning_rate = 0.1\n",
    "final_learning_rate = 0.00001\n",
    "learning_rate_decay_factor = (final_learning_rate / initial_learning_rate)**(1/epochs)\n",
    "steps_per_epoch = int(edge_ids_train.shape[0]/batch_size)\n",
    "\n",
    "lr_schedule = tf.keras.optimizers.schedules.ExponentialDecay(\n",
    "                initial_learning_rate=initial_learning_rate,\n",
    "                decay_steps=steps_per_epoch,\n",
    "                decay_rate=learning_rate_decay_factor,\n",
    "                staircase=True)\n",
    "\n",
    "optimizer=keras.optimizers.Adam(learning_rate=lr_schedule)\n",
    "#optimizer = mixed_precision.LossScaleOptimizer(optimizer)\n",
    "\n",
    "model.compile(\n",
    "    optimizer=optimizer,\n",
    "    loss=keras.losses.binary_crossentropy,\n",
    "    metrics=[\"AUC\"],\n",
    ")"
   ]
  },
  {
   "cell_type": "code",
   "execution_count": 17,
   "id": "90028704",
   "metadata": {},
   "outputs": [
    {
     "name": "stdout",
     "output_type": "stream",
     "text": [
      "493/493 - 6s - loss: 0.6948 - auc: 0.4802 - 6s/epoch - 12ms/step\n",
      "548/548 - 5s - loss: 0.6942 - auc: 0.4906 - 5s/epoch - 10ms/step\n",
      "\n",
      "Train Set Metrics of the initial (untrained) model:\n",
      "\tloss: 0.6948\n",
      "\tauc: 0.4802\n",
      "\n",
      "Test Set Metrics of the initial (untrained) model:\n",
      "\tloss: 0.6942\n",
      "\tauc: 0.4906\n"
     ]
    }
   ],
   "source": [
    "init_train_metrics = model.evaluate(train_flow, workers=num_workers, verbose=2)\n",
    "init_test_metrics = model.evaluate(test_flow, workers=num_workers, verbose=2)\n",
    "\n",
    "print(\"\\nTrain Set Metrics of the initial (untrained) model:\")\n",
    "for name, val in zip(model.metrics_names, init_train_metrics):\n",
    "    print(\"\\t{}: {:0.4f}\".format(name, val))\n",
    "\n",
    "print(\"\\nTest Set Metrics of the initial (untrained) model:\")\n",
    "for name, val in zip(model.metrics_names, init_test_metrics):\n",
    "    print(\"\\t{}: {:0.4f}\".format(name, val))"
   ]
  },
  {
   "cell_type": "code",
   "execution_count": 18,
   "id": "e34c9a03",
   "metadata": {
    "scrolled": true
   },
   "outputs": [
    {
     "name": "stdout",
     "output_type": "stream",
     "text": [
      "Epoch 1/50\n",
      "493/493 - 19s - loss: 0.5945 - auc: 0.7335 - val_loss: 0.4703 - val_auc: 0.8580 - 19s/epoch - 38ms/step\n",
      "Epoch 2/50\n",
      "493/493 - 12s - loss: 0.5069 - auc: 0.8251 - val_loss: 0.4232 - val_auc: 0.8874 - 12s/epoch - 24ms/step\n",
      "Epoch 3/50\n",
      "493/493 - 16s - loss: 0.4662 - auc: 0.8567 - val_loss: 0.3874 - val_auc: 0.9075 - 16s/epoch - 33ms/step\n",
      "Epoch 4/50\n",
      "493/493 - 16s - loss: 0.4434 - auc: 0.8726 - val_loss: 0.3679 - val_auc: 0.9155 - 16s/epoch - 33ms/step\n",
      "Epoch 5/50\n",
      "493/493 - 17s - loss: 0.4282 - auc: 0.8822 - val_loss: 0.3509 - val_auc: 0.9261 - 17s/epoch - 35ms/step\n",
      "Epoch 6/50\n",
      "493/493 - 17s - loss: 0.4150 - auc: 0.8902 - val_loss: 0.3415 - val_auc: 0.9298 - 17s/epoch - 35ms/step\n",
      "Epoch 7/50\n",
      "493/493 - 20s - loss: 0.4046 - auc: 0.8960 - val_loss: 0.3301 - val_auc: 0.9332 - 20s/epoch - 40ms/step\n",
      "Epoch 8/50\n",
      "493/493 - 17s - loss: 0.3955 - auc: 0.9009 - val_loss: 0.3252 - val_auc: 0.9350 - 17s/epoch - 35ms/step\n",
      "Epoch 9/50\n",
      "493/493 - 17s - loss: 0.3913 - auc: 0.9033 - val_loss: 0.3245 - val_auc: 0.9357 - 17s/epoch - 35ms/step\n",
      "Epoch 10/50\n",
      "493/493 - 17s - loss: 0.3851 - auc: 0.9067 - val_loss: 0.3217 - val_auc: 0.9387 - 17s/epoch - 34ms/step\n",
      "Epoch 11/50\n",
      "493/493 - 14s - loss: 0.3834 - auc: 0.9078 - val_loss: 0.3189 - val_auc: 0.9401 - 14s/epoch - 29ms/step\n",
      "Epoch 12/50\n",
      "493/493 - 19s - loss: 0.3771 - auc: 0.9107 - val_loss: 0.3170 - val_auc: 0.9419 - 19s/epoch - 38ms/step\n",
      "Epoch 13/50\n",
      "493/493 - 19s - loss: 0.3730 - auc: 0.9128 - val_loss: 0.3116 - val_auc: 0.9407 - 19s/epoch - 39ms/step\n",
      "Epoch 14/50\n",
      "493/493 - 18s - loss: 0.3730 - auc: 0.9129 - val_loss: 0.3043 - val_auc: 0.9436 - 18s/epoch - 36ms/step\n",
      "Epoch 15/50\n",
      "493/493 - 17s - loss: 0.3696 - auc: 0.9148 - val_loss: 0.2999 - val_auc: 0.9450 - 17s/epoch - 35ms/step\n",
      "Epoch 16/50\n",
      "493/493 - 18s - loss: 0.3648 - auc: 0.9170 - val_loss: 0.3125 - val_auc: 0.9432 - 18s/epoch - 36ms/step\n",
      "Epoch 17/50\n",
      "493/493 - 19s - loss: 0.3639 - auc: 0.9172 - val_loss: 0.3024 - val_auc: 0.9440 - 19s/epoch - 39ms/step\n",
      "Epoch 18/50\n",
      "493/493 - 18s - loss: 0.3610 - auc: 0.9188 - val_loss: 0.3094 - val_auc: 0.9438 - 18s/epoch - 36ms/step\n",
      "Epoch 19/50\n",
      "493/493 - 18s - loss: 0.3612 - auc: 0.9185 - val_loss: 0.3043 - val_auc: 0.9439 - 18s/epoch - 36ms/step\n",
      "Epoch 20/50\n",
      "493/493 - 13s - loss: 0.3601 - auc: 0.9190 - val_loss: 0.3040 - val_auc: 0.9447 - 13s/epoch - 27ms/step\n",
      "Epoch 21/50\n",
      "493/493 - 17s - loss: 0.3596 - auc: 0.9195 - val_loss: 0.3020 - val_auc: 0.9456 - 17s/epoch - 35ms/step\n",
      "Epoch 22/50\n",
      "493/493 - 18s - loss: 0.3589 - auc: 0.9197 - val_loss: 0.3018 - val_auc: 0.9446 - 18s/epoch - 37ms/step\n",
      "Epoch 23/50\n",
      "493/493 - 19s - loss: 0.3553 - auc: 0.9214 - val_loss: 0.3047 - val_auc: 0.9448 - 19s/epoch - 38ms/step\n",
      "Epoch 24/50\n",
      "493/493 - 24s - loss: 0.3600 - auc: 0.9192 - val_loss: 0.3009 - val_auc: 0.9459 - 24s/epoch - 48ms/step\n",
      "Epoch 25/50\n",
      "493/493 - 17s - loss: 0.3594 - auc: 0.9196 - val_loss: 0.2989 - val_auc: 0.9458 - 17s/epoch - 35ms/step\n",
      "Epoch 26/50\n",
      "493/493 - 18s - loss: 0.3581 - auc: 0.9201 - val_loss: 0.3022 - val_auc: 0.9449 - 18s/epoch - 37ms/step\n",
      "Epoch 27/50\n",
      "493/493 - 17s - loss: 0.3561 - auc: 0.9212 - val_loss: 0.3048 - val_auc: 0.9444 - 17s/epoch - 35ms/step\n",
      "Epoch 28/50\n",
      "493/493 - 17s - loss: 0.3568 - auc: 0.9204 - val_loss: 0.2994 - val_auc: 0.9460 - 17s/epoch - 35ms/step\n",
      "Epoch 29/50\n",
      "493/493 - 14s - loss: 0.3563 - auc: 0.9210 - val_loss: 0.2982 - val_auc: 0.9460 - 14s/epoch - 28ms/step\n",
      "Epoch 30/50\n",
      "493/493 - 12s - loss: 0.3541 - auc: 0.9220 - val_loss: 0.3000 - val_auc: 0.9456 - 12s/epoch - 24ms/step\n",
      "Epoch 31/50\n",
      "493/493 - 18s - loss: 0.3563 - auc: 0.9209 - val_loss: 0.2990 - val_auc: 0.9460 - 18s/epoch - 36ms/step\n",
      "Epoch 32/50\n",
      "493/493 - 23s - loss: 0.3554 - auc: 0.9213 - val_loss: 0.3020 - val_auc: 0.9451 - 23s/epoch - 46ms/step\n",
      "Epoch 33/50\n",
      "493/493 - 20s - loss: 0.3540 - auc: 0.9221 - val_loss: 0.3006 - val_auc: 0.9457 - 20s/epoch - 41ms/step\n",
      "Epoch 34/50\n",
      "493/493 - 20s - loss: 0.3579 - auc: 0.9201 - val_loss: 0.2996 - val_auc: 0.9461 - 20s/epoch - 41ms/step\n",
      "Epoch 35/50\n",
      "493/493 - 18s - loss: 0.3556 - auc: 0.9213 - val_loss: 0.3024 - val_auc: 0.9451 - 18s/epoch - 36ms/step\n",
      "Epoch 36/50\n",
      "493/493 - 17s - loss: 0.3565 - auc: 0.9209 - val_loss: 0.3001 - val_auc: 0.9459 - 17s/epoch - 34ms/step\n",
      "Epoch 37/50\n",
      "493/493 - 18s - loss: 0.3522 - auc: 0.9226 - val_loss: 0.3021 - val_auc: 0.9451 - 18s/epoch - 37ms/step\n",
      "Epoch 38/50\n",
      "493/493 - 17s - loss: 0.3539 - auc: 0.9221 - val_loss: 0.3019 - val_auc: 0.9453 - 17s/epoch - 35ms/step\n",
      "Epoch 39/50\n",
      "493/493 - 17s - loss: 0.3541 - auc: 0.9218 - val_loss: 0.2990 - val_auc: 0.9462 - 17s/epoch - 35ms/step\n"
     ]
    }
   ],
   "source": [
    "callbacks = keras.callbacks.EarlyStopping(monitor=\"val_loss\",\n",
    "                                          patience=10,\n",
    "                                          mode=\"auto\",\n",
    "                                          restore_best_weights=True)\n",
    "\n",
    "history = model.fit(train_flow,\n",
    "                    epochs=epochs,\n",
    "                    workers=num_workers,\n",
    "                    validation_data=test_flow,\n",
    "                    verbose=2,\n",
    "                    callbacks=[callbacks],\n",
    "                    validation_split=0.0,\n",
    "                    shuffle=True\n",
    "                   )"
   ]
  },
  {
   "cell_type": "code",
   "execution_count": 19,
   "id": "a727f52e",
   "metadata": {
    "scrolled": true
   },
   "outputs": [
    {
     "data": {
      "image/png": "[encoded data removed]",
      "text/plain": [
       "<Figure size 700x800 with 2 Axes>"
      ]
     },
     "metadata": {},
     "output_type": "display_data"
    }
   ],
   "source": [
    "sg.utils.plot_history(history)"
   ]
  },
  {
   "cell_type": "code",
   "execution_count": 20,
   "id": "1fd3266a",
   "metadata": {
    "scrolled": true
   },
   "outputs": [
    {
     "name": "stdout",
     "output_type": "stream",
     "text": [
      "493/493 - 5s - loss: 0.2894 - auc: 0.9505 - 5s/epoch - 10ms/step\n",
      "548/548 - 5s - loss: 0.2999 - auc: 0.9455 - 5s/epoch - 9ms/step\n",
      "\n",
      "Train Set Metrics of the trained model:\n",
      "\tloss: 0.2894\n",
      "\tauc: 0.9505\n",
      "\n",
      "Test Set Metrics of the trained model:\n",
      "\tloss: 0.2999\n",
      "\tauc: 0.9455\n"
     ]
    }
   ],
   "source": [
    "train_metrics = model.evaluate(train_flow, verbose=2)\n",
    "test_metrics = model.evaluate(test_flow, verbose=2)\n",
    "\n",
    "print(\"\\nTrain Set Metrics of the trained model:\")\n",
    "for name, val in zip(model.metrics_names, train_metrics):\n",
    "    print(\"\\t{}: {:0.4f}\".format(name, val))\n",
    "\n",
    "print(\"\\nTest Set Metrics of the trained model:\")\n",
    "for name, val in zip(model.metrics_names, test_metrics):\n",
    "    print(\"\\t{}: {:0.4f}\".format(name, val))"
   ]
  },
  {
   "cell_type": "code",
   "execution_count": 21,
   "id": "0b06144f",
   "metadata": {},
   "outputs": [],
   "source": [
    "def predict(model, flow, iterations=10):\n",
    "    predictions = []\n",
    "    for _ in range(iterations):\n",
    "        predictions.append(model.predict(flow, workers=-1).flatten())\n",
    "\n",
    "    return np.mean(predictions, axis=0)"
   ]
  },
  {
   "cell_type": "code",
   "execution_count": 22,
   "id": "39a63722",
   "metadata": {},
   "outputs": [],
   "source": [
    "test_pred = HinSAGELinkGenerator(G,\n",
    "                                 batch_size=batch_size,\n",
    "                                num_samples=num_samples,\n",
    "                                head_node_types=[\"molecule\", \"species\"],\n",
    "                                seed=42).flow(edge_ids_test, edge_labels_test, seed=42)"
   ]
  },
  {
   "cell_type": "code",
   "execution_count": 23,
   "id": "d59e7dbc",
   "metadata": {
    "scrolled": false
   },
   "outputs": [
    {
     "name": "stdout",
     "output_type": "stream",
     "text": [
      "548/548 [==============================] - 7s 13ms/step\n",
      "548/548 [==============================] - 7s 13ms/step\n",
      "548/548 [==============================] - 7s 13ms/step\n",
      "548/548 [==============================] - 7s 13ms/step\n",
      "548/548 [==============================] - 5s 10ms/step\n",
      "548/548 [==============================] - 5s 10ms/step\n",
      "548/548 [==============================] - 5s 10ms/step\n",
      "548/548 [==============================] - 8s 14ms/step\n",
      "548/548 [==============================] - 6s 11ms/step\n",
      "548/548 [==============================] - 6s 11ms/step\n"
     ]
    }
   ],
   "source": [
    "predictions = predict(model, test_pred)"
   ]
  },
  {
   "cell_type": "code",
   "execution_count": 31,
   "id": "0690f86d",
   "metadata": {},
   "outputs": [],
   "source": [
    "middle = int(len(predictions)/2)"
   ]
  },
  {
   "cell_type": "code",
   "execution_count": 32,
   "id": "6ec79eea",
   "metadata": {},
   "outputs": [
    {
     "data": {
      "text/plain": [
       "0.8764891"
      ]
     },
     "execution_count": 32,
     "metadata": {},
     "output_type": "execute_result"
    }
   ],
   "source": [
    "np.mean(predictions[:middle])"
   ]
  },
  {
   "cell_type": "code",
   "execution_count": 33,
   "id": "9edf1028",
   "metadata": {},
   "outputs": [
    {
     "data": {
      "text/plain": [
       "0.18401074"
      ]
     },
     "execution_count": 33,
     "metadata": {},
     "output_type": "execute_result"
    }
   ],
   "source": [
    "np.mean(predictions[middle:])"
   ]
  },
  {
   "cell_type": "code",
   "execution_count": 34,
   "id": "68b35e84",
   "metadata": {},
   "outputs": [],
   "source": [
    "test = predictions[(predictions>0.9) | (predictions<0.1)]\n",
    "test = test>0.5"
   ]
  },
  {
   "cell_type": "code",
   "execution_count": 35,
   "id": "8c10314e",
   "metadata": {},
   "outputs": [],
   "source": [
    "test = test.astype('int8')"
   ]
  },
  {
   "cell_type": "code",
   "execution_count": 36,
   "id": "7db6b010",
   "metadata": {
    "scrolled": true
   },
   "outputs": [
    {
     "data": {
      "text/plain": [
       "(array([20066.,  4175.,  2629.,  2098.,  1934.,  2147.,  2766.,  4655.,\n",
       "         9500., 20120.]),\n",
       " array([4.47954262e-05, 9.99160334e-02, 1.99787274e-01, 2.99658507e-01,\n",
       "        3.99529755e-01, 4.99401003e-01, 5.99272251e-01, 6.99143469e-01,\n",
       "        7.99014688e-01, 8.98885965e-01, 9.98757184e-01]),\n",
       " <BarContainer object of 10 artists>)"
      ]
     },
     "execution_count": 36,
     "metadata": {},
     "output_type": "execute_result"
    },
    {
     "data": {
      "image/png": "[encoded data removed]",
      "text/plain": [
       "<Figure size 640x480 with 1 Axes>"
      ]
     },
     "metadata": {},
     "output_type": "display_data"
    }
   ],
   "source": [
    "plt.hist(predictions)"
   ]
  },
  {
   "cell_type": "code",
   "execution_count": 37,
   "id": "cfacbdfb",
   "metadata": {},
   "outputs": [
    {
     "data": {
      "text/plain": [
       "(array([    0,     1,     6, ..., 70082, 70083, 70088]),)"
      ]
     },
     "execution_count": 37,
     "metadata": {},
     "output_type": "execute_result"
    }
   ],
   "source": [
    "np.where((predictions>0.9) | (predictions<0.1))"
   ]
  },
  {
   "cell_type": "code",
   "execution_count": 38,
   "id": "df2f017e",
   "metadata": {
    "scrolled": true
   },
   "outputs": [
    {
     "data": {
      "text/plain": [
       "0.9900322266356891"
      ]
     },
     "execution_count": 38,
     "metadata": {},
     "output_type": "execute_result"
    }
   ],
   "source": [
    "sum(test == edge_labels_test[np.where((predictions>0.9) | (predictions<0.1))])/len(test)"
   ]
  },
  {
   "cell_type": "code",
   "execution_count": null,
   "id": "0c82ada5",
   "metadata": {},
   "outputs": [],
   "source": [
    "len(test)/len(predictions)"
   ]
  },
  {
   "cell_type": "code",
   "execution_count": null,
   "id": "b9ae1305",
   "metadata": {},
   "outputs": [],
   "source": [
    "finaly_test = np.array(list(zip(df_agg.structure_smiles_2D[:1000],df_agg.organism_name[::-1][:1000])))"
   ]
  },
  {
   "cell_type": "code",
   "execution_count": null,
   "id": "a8bfe37c",
   "metadata": {},
   "outputs": [],
   "source": [
    "pd.DataFrame(finaly_test)"
   ]
  },
  {
   "cell_type": "code",
   "execution_count": null,
   "id": "e93a816d",
   "metadata": {},
   "outputs": [],
   "source": [
    "final_test = HinSAGELinkGenerator(G,\n",
    "                                batch_size=batch_size,\n",
    "                                num_samples=num_samples,\n",
    "                                head_node_types=[\"molecule\", \"species\"]).flow(finaly_test, np.ones(len(finaly_test)).reshape(-1, 1))"
   ]
  },
  {
   "cell_type": "code",
   "execution_count": null,
   "id": "907ac477",
   "metadata": {
    "scrolled": false
   },
   "outputs": [],
   "source": [
    "res = []\n",
    "it = 50\n",
    "for i in range(it):\n",
    "    res.append(model.predict(final_test, verbose=0).flatten())\n",
    "    \n",
    "res = np.mean(res, axis=0)"
   ]
  },
  {
   "cell_type": "code",
   "execution_count": null,
   "id": "b674b013",
   "metadata": {},
   "outputs": [],
   "source": [
    "min(res)"
   ]
  },
  {
   "cell_type": "code",
   "execution_count": null,
   "id": "b7b9fd74",
   "metadata": {
    "scrolled": true
   },
   "outputs": [],
   "source": [
    "len(res[res>0.9])/len(res)"
   ]
  },
  {
   "cell_type": "code",
   "execution_count": null,
   "id": "4b0a46d5",
   "metadata": {},
   "outputs": [],
   "source": [
    "plt.hist(res)"
   ]
  },
  {
   "cell_type": "code",
   "execution_count": null,
   "id": "38815bce",
   "metadata": {},
   "outputs": [],
   "source": [
    "finaly_test[res>0.9]"
   ]
  },
  {
   "cell_type": "code",
   "execution_count": null,
   "id": "7ca881bf",
   "metadata": {},
   "outputs": [],
   "source": [
    "org = df_agg.organism_name.unique()[:100]"
   ]
  },
  {
   "cell_type": "code",
   "execution_count": null,
   "id": "29f7094c",
   "metadata": {},
   "outputs": [],
   "source": [
    "mol = df_agg.structure_smiles_2D.unique()[:1000]"
   ]
  },
  {
   "cell_type": "code",
   "execution_count": null,
   "id": "b473b87a",
   "metadata": {},
   "outputs": [],
   "source": [
    "len(df_agg.structure_smiles_2D.unique())"
   ]
  },
  {
   "cell_type": "code",
   "execution_count": null,
   "id": "e992ce91",
   "metadata": {},
   "outputs": [],
   "source": [
    "len(df_agg.organism_name.unique())"
   ]
  },
  {
   "cell_type": "code",
   "execution_count": null,
   "id": "dbb1a1a9",
   "metadata": {},
   "outputs": [],
   "source": [
    "%%time\n",
    "combinations = list(itertools.product(mol, org))"
   ]
  },
  {
   "cell_type": "code",
   "execution_count": null,
   "id": "58d94cde",
   "metadata": {},
   "outputs": [],
   "source": [
    "%%time\n",
    "A1, A2 = np.meshgrid(mol, org)"
   ]
  },
  {
   "cell_type": "code",
   "execution_count": null,
   "id": "6ee7452a",
   "metadata": {},
   "outputs": [],
   "source": [
    "df_combinations = pd.DataFrame(combinations, columns=['structure_smiles_2D', 'organism_name'])"
   ]
  },
  {
   "cell_type": "code",
   "execution_count": null,
   "id": "2398fecf",
   "metadata": {},
   "outputs": [],
   "source": [
    "edge_test_final = df_combinations.to_numpy()"
   ]
  },
  {
   "cell_type": "code",
   "execution_count": null,
   "id": "7ad7233a",
   "metadata": {},
   "outputs": [],
   "source": [
    "%%time\n",
    "final_final_test = HinSAGELinkGenerator(G,\n",
    "                                batch_size=256,\n",
    "                                num_samples=num_samples,\n",
    "                                head_node_types=[\"molecule\", \"species\"]).flow(edge_test_final, np.ones(len(edge_test_final)).reshape(-1, 1))"
   ]
  },
  {
   "cell_type": "code",
   "execution_count": null,
   "id": "55760945",
   "metadata": {
    "scrolled": false
   },
   "outputs": [],
   "source": [
    "final_final_pred = model.predict(final_final_test).flatten()"
   ]
  },
  {
   "cell_type": "code",
   "execution_count": null,
   "id": "6c995f65",
   "metadata": {
    "scrolled": false
   },
   "outputs": [],
   "source": [
    "final_final_pred = predict(model, final_final_test)"
   ]
  },
  {
   "cell_type": "code",
   "execution_count": null,
   "id": "b923fcf7",
   "metadata": {},
   "outputs": [],
   "source": [
    "edge_test_final"
   ]
  },
  {
   "cell_type": "code",
   "execution_count": null,
   "id": "e602f2c0",
   "metadata": {},
   "outputs": [],
   "source": [
    "len(final_final_pred[final_final_pred>0.9])"
   ]
  },
  {
   "cell_type": "code",
   "execution_count": null,
   "id": "7b0598ad",
   "metadata": {
    "scrolled": true
   },
   "outputs": [],
   "source": [
    "results = edge_test_final[final_final_pred>0.9]"
   ]
  },
  {
   "cell_type": "code",
   "execution_count": null,
   "id": "7f2475f2",
   "metadata": {},
   "outputs": [],
   "source": [
    "results"
   ]
  },
  {
   "cell_type": "code",
   "execution_count": 39,
   "id": "88a45c64",
   "metadata": {
    "scrolled": true
   },
   "outputs": [
    {
     "name": "stderr",
     "output_type": "stream",
     "text": [
      "WARNING:absl:Found untraced functions such as _update_step_xla while saving (showing 1 of 1). These functions will not be directly callable after loading.\n"
     ]
    },
    {
     "name": "stdout",
     "output_type": "stream",
     "text": [
      "INFO:tensorflow:Assets written to: ./model/batch_128_layer_256/assets\n"
     ]
    },
    {
     "name": "stderr",
     "output_type": "stream",
     "text": [
      "INFO:tensorflow:Assets written to: ./model/batch_128_layer_256/assets\n"
     ]
    }
   ],
   "source": [
    "model.save(f\"./model/batch_{batch_size}_layer_{hinsage_layer_sizes[0]}\")"
   ]
  }
 ],
 "metadata": {
  "kernelspec": {
   "display_name": "Python 3 (ipykernel)",
   "language": "python",
   "name": "python3"
  },
  "language_info": {
   "codemirror_mode": {
    "name": "ipython",
    "version": 3
   },
   "file_extension": ".py",
   "mimetype": "text/x-python",
   "name": "python",
   "nbconvert_exporter": "python",
   "pygments_lexer": "ipython3",
   "version": "3.10.8"
  }
 },
 "nbformat": 4,
 "nbformat_minor": 5
}
