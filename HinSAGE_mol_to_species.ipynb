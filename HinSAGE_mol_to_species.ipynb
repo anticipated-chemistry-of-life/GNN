{
 "cells": [
  {
   "cell_type": "code",
   "execution_count": 1,
   "id": "4248dbd1",
   "metadata": {},
   "outputs": [
    {
     "name": "stderr",
     "output_type": "stream",
     "text": [
      "2023-06-14 16:52:30.937748: I tensorflow/core/platform/cpu_feature_guard.cc:193] This TensorFlow binary is optimized with oneAPI Deep Neural Network Library (oneDNN) to use the following CPU instructions in performance-critical operations:  SSE4.1 SSE4.2 AVX AVX2 FMA\n",
      "To enable them in other operations, rebuild TensorFlow with the appropriate compiler flags.\n",
      "2023-06-14 16:52:41.288051: I tensorflow/core/platform/cpu_feature_guard.cc:193] This TensorFlow binary is optimized with oneAPI Deep Neural Network Library (oneDNN) to use the following CPU instructions in performance-critical operations:  SSE4.1 SSE4.2 AVX AVX2 FMA\n",
      "To enable them in other operations, rebuild TensorFlow with the appropriate compiler flags.\n"
     ]
    }
   ],
   "source": [
    "import networkx as nx\n",
    "import itertools\n",
    "import pandas as pd\n",
    "import numpy as np\n",
    "from stellargraph import StellarGraph\n",
    "from rdkit.Chem import AllChem, DataStructs\n",
    "import json\n",
    "from sklearn import preprocessing, feature_extraction, model_selection\n",
    "from sklearn.metrics import mean_absolute_error, mean_squared_error\n",
    "from tensorflow import keras\n",
    "\n",
    "import stellargraph as sg\n",
    "from stellargraph.data import EdgeSplitter\n",
    "from stellargraph.mapper import HinSAGELinkGenerator\n",
    "from stellargraph.layer import HinSAGE, link_regression, link_classification\n",
    "from tensorflow.keras import Model, optimizers, losses, metrics\n",
    "\n",
    "import multiprocessing\n",
    "from stellargraph import datasets\n",
    "from IPython.display import display, HTML\n",
    "import matplotlib.pyplot as plt"
   ]
  },
  {
   "cell_type": "code",
   "execution_count": 2,
   "id": "855c2f7e",
   "metadata": {},
   "outputs": [],
   "source": [
    "g = nx.read_graphml(\"./graph/lotus_DB_as_graph.gml\")\n",
    "species_features_dummy = pd.read_csv(\"./data/species_features_dummy.csv\", index_col=0)\n",
    "molecule_features_dummy = pd.read_csv(\"./data/molecule_features_dummy.csv\", index_col=0)\n",
    "df_agg = pd.read_csv(\"./data/lotus_aggregated.csv\", index_col=0)"
   ]
  },
  {
   "cell_type": "code",
   "execution_count": 3,
   "id": "f87fb4bd",
   "metadata": {},
   "outputs": [
    {
     "name": "stdout",
     "output_type": "stream",
     "text": [
      "StellarDiGraph: Directed multigraph\n",
      " Nodes: 23250, Edges: 49154\n",
      "\n",
      " Node types:\n",
      "  molecule: [12893]\n",
      "    Features: float32 vector, length 625\n",
      "    Edge types: molecule-present_in->species, molecule-similar_to->molecule\n",
      "  species: [10357]\n",
      "    Features: float32 vector, length 5024\n",
      "    Edge types: species-has->molecule\n",
      "\n",
      " Edge types:\n",
      "    species-has->molecule: [20000]\n",
      "        Weights: range=[1, 180], mean=1.90475, std=2.49307\n",
      "        Features: none\n",
      "    molecule-present_in->species: [20000]\n",
      "        Weights: range=[1, 180], mean=1.90475, std=2.49307\n",
      "        Features: none\n",
      "    molecule-similar_to->molecule: [9154]\n",
      "        Weights: range=[0.8, 1], mean=0.897606, std=0.0758458\n",
      "        Features: none\n"
     ]
    }
   ],
   "source": [
    "G = StellarGraph.from_networkx(g,\n",
    "                               node_features={'species':species_features_dummy,\n",
    "                                              'molecule': molecule_features_dummy})\n",
    "print(G.info())\n",
    "G.check_graph_for_ml()"
   ]
  },
  {
   "cell_type": "code",
   "execution_count": 4,
   "id": "719a47b7",
   "metadata": {},
   "outputs": [],
   "source": [
    "batch_size = 200 #default: 200\n",
    "epochs = 20\n",
    "# Use 80% of edges for training, the rest for testing:\n",
    "train_size = 0.8\n",
    "test_size = 0.2\n",
    "num_samples = [8, 4]\n",
    "num_workers = multiprocessing.cpu_count()-2"
   ]
  },
  {
   "cell_type": "code",
   "execution_count": 5,
   "id": "ee6d5217",
   "metadata": {},
   "outputs": [
    {
     "name": "stdout",
     "output_type": "stream",
     "text": [
      "Network has 20000 edges of type present_in\n",
      "Network has 20000 edges of type present_in\n",
      "** Sampled 2000 positive and 2000 negative edges. **\n"
     ]
    }
   ],
   "source": [
    "# Define an edge splitter on the original graph G:\n",
    "edge_splitter_test = EdgeSplitter(G)\n",
    "\n",
    "# Randomly sample a fraction p=0.1 of all positive links, and same number of negative links, from G, and obtain the\n",
    "# reduced graph G_test with the sampled links removed:\n",
    "G_test, edge_ids_test, edge_labels_test = edge_splitter_test.train_test_split(\n",
    "    p=0.1, method=\"global\", keep_connected=False, edge_label=\"present_in\"\n",
    ")"
   ]
  },
  {
   "cell_type": "code",
   "execution_count": 6,
   "id": "2cb5c1ea",
   "metadata": {},
   "outputs": [
    {
     "name": "stdout",
     "output_type": "stream",
     "text": [
      "Network has 18000 edges of type present_in\n",
      "Network has 18000 edges of type present_in\n",
      "** Sampled 1800 positive and 1800 negative edges. **\n"
     ]
    }
   ],
   "source": [
    "# Define an edge splitter on the reduced graph G_test:\n",
    "edge_splitter_train = EdgeSplitter(G_test)\n",
    "\n",
    "# Randomly sample a fraction p=0.1 of all positive links, and same number of negative links, from G_test, and obtain the\n",
    "# reduced graph G_train with the sampled links removed:\n",
    "G_train, edge_ids_train, edge_labels_train = edge_splitter_train.train_test_split(\n",
    "    p=0.1, method=\"global\", keep_connected=False, edge_label=\"present_in\"\n",
    ")"
   ]
  },
  {
   "cell_type": "code",
   "execution_count": 7,
   "id": "74562636",
   "metadata": {},
   "outputs": [
    {
     "name": "stdout",
     "output_type": "stream",
     "text": [
      "StellarDiGraph: Directed multigraph\n",
      " Nodes: 23250, Edges: 45354\n",
      "\n",
      " Node types:\n",
      "  molecule: [12893]\n",
      "    Features: float32 vector, length 625\n",
      "    Edge types: molecule-present_in->species, molecule-similar_to->molecule\n",
      "  species: [10357]\n",
      "    Features: float32 vector, length 5024\n",
      "    Edge types: species-has->molecule\n",
      "\n",
      " Edge types:\n",
      "    species-has->molecule: [20000]\n",
      "        Weights: range=[1, 180], mean=1.90475, std=2.49307\n",
      "        Features: none\n",
      "    molecule-present_in->species: [16200]\n",
      "        Weights: range=[1, 180], mean=1.9113, std=2.63048\n",
      "        Features: none\n",
      "    molecule-similar_to->molecule: [9154]\n",
      "        Weights: range=[0.8, 1], mean=0.897606, std=0.0758458\n",
      "        Features: none\n"
     ]
    }
   ],
   "source": [
    "print(G_train.info())"
   ]
  },
  {
   "cell_type": "code",
   "execution_count": 8,
   "id": "f059ae71",
   "metadata": {},
   "outputs": [
    {
     "name": "stdout",
     "output_type": "stream",
     "text": [
      "StellarDiGraph: Directed multigraph\n",
      " Nodes: 23250, Edges: 47154\n",
      "\n",
      " Node types:\n",
      "  molecule: [12893]\n",
      "    Features: float32 vector, length 625\n",
      "    Edge types: molecule-present_in->species, molecule-similar_to->molecule\n",
      "  species: [10357]\n",
      "    Features: float32 vector, length 5024\n",
      "    Edge types: species-has->molecule\n",
      "\n",
      " Edge types:\n",
      "    species-has->molecule: [20000]\n",
      "        Weights: range=[1, 180], mean=1.90475, std=2.49307\n",
      "        Features: none\n",
      "    molecule-present_in->species: [18000]\n",
      "        Weights: range=[1, 180], mean=1.9055, std=2.54965\n",
      "        Features: none\n",
      "    molecule-similar_to->molecule: [9154]\n",
      "        Weights: range=[0.8, 1], mean=0.897606, std=0.0758458\n",
      "        Features: none\n"
     ]
    }
   ],
   "source": [
    "print(G_test.info())"
   ]
  },
  {
   "cell_type": "code",
   "execution_count": 9,
   "id": "d6249bf1",
   "metadata": {},
   "outputs": [],
   "source": [
    "train_gen = HinSAGELinkGenerator(G_train,\n",
    "                                 batch_size,\n",
    "                                 num_samples,\n",
    "                                         head_node_types=[\"molecule\", \"species\"])\n",
    "train_flow = train_gen.flow(edge_ids_train, edge_labels_train, shuffle=True)"
   ]
  },
  {
   "cell_type": "code",
   "execution_count": 10,
   "id": "7986f928",
   "metadata": {},
   "outputs": [],
   "source": [
    "test_gen = HinSAGELinkGenerator(G_test,\n",
    "                                batch_size,\n",
    "                                num_samples,\n",
    "                                head_node_types=[\"molecule\", \"species\"])\n",
    "test_flow = test_gen.flow(edge_ids_test, edge_labels_test)"
   ]
  },
  {
   "cell_type": "code",
   "execution_count": 11,
   "id": "9ef5e3be",
   "metadata": {},
   "outputs": [],
   "source": [
    "hinsage_layer_sizes = [32, 32]\n",
    "hinsage = HinSAGE(layer_sizes=hinsage_layer_sizes,\n",
    "                  generator=train_gen,\n",
    "                  bias=True,\n",
    "                  dropout=0.1)"
   ]
  },
  {
   "cell_type": "code",
   "execution_count": 12,
   "id": "64a7abee",
   "metadata": {
    "scrolled": true
   },
   "outputs": [
    {
     "name": "stderr",
     "output_type": "stream",
     "text": [
      "/usr/local/Caskroom/mambaforge/base/envs/stellar_graph/lib/python3.10/site-packages/keras/initializers/initializers_v2.py:120: UserWarning: The initializer GlorotUniform is unseeded and being called multiple times, which will return identical values  each time (even if the initializer is unseeded). Please update your code to provide a seed to the initializer, or avoid using the same initalizer instance more than once.\n",
      "  warnings.warn(\n"
     ]
    }
   ],
   "source": [
    "# Build the model and expose input and output sockets of graphsage model\n",
    "# for link prediction\n",
    "x_inp, x_out = hinsage.in_out_tensors()"
   ]
  },
  {
   "cell_type": "code",
   "execution_count": 13,
   "id": "88c5525d",
   "metadata": {},
   "outputs": [
    {
     "name": "stdout",
     "output_type": "stream",
     "text": [
      "link_classification: using 'ip' method to combine node embeddings into edge embeddings\n"
     ]
    }
   ],
   "source": [
    "prediction = link_classification(output_dim=1,\n",
    "                                 output_act=\"sigmoid\",\n",
    "                                 edge_embedding_method=\"ip\")(x_out)"
   ]
  },
  {
   "cell_type": "code",
   "execution_count": 14,
   "id": "f5988019",
   "metadata": {},
   "outputs": [],
   "source": [
    "model = keras.Model(inputs=x_inp, outputs=prediction)\n",
    "\n",
    "model.compile(\n",
    "    optimizer=keras.optimizers.Adam(learning_rate=1e-4),\n",
    "    loss=keras.losses.binary_crossentropy,\n",
    "    metrics=[\"acc\"],\n",
    ")"
   ]
  },
  {
   "cell_type": "code",
   "execution_count": 15,
   "id": "1a2b6c81",
   "metadata": {},
   "outputs": [
    {
     "name": "stdout",
     "output_type": "stream",
     "text": [
      "18/18 [==============================] - 12s 528ms/step - loss: 0.6988 - acc: 0.4831\n",
      "20/20 [==============================] - 11s 516ms/step - loss: 0.7003 - acc: 0.4787\n",
      "\n",
      "Train Set Metrics of the initial (untrained) model:\n",
      "\tloss: 0.6988\n",
      "\tacc: 0.4831\n",
      "\n",
      "Test Set Metrics of the initial (untrained) model:\n",
      "\tloss: 0.7003\n",
      "\tacc: 0.4787\n"
     ]
    }
   ],
   "source": [
    "init_train_metrics = model.evaluate(train_flow, workers=num_workers)\n",
    "init_test_metrics = model.evaluate(test_flow, workers=num_workers)\n",
    "\n",
    "print(\"\\nTrain Set Metrics of the initial (untrained) model:\")\n",
    "for name, val in zip(model.metrics_names, init_train_metrics):\n",
    "    print(\"\\t{}: {:0.4f}\".format(name, val))\n",
    "\n",
    "print(\"\\nTest Set Metrics of the initial (untrained) model:\")\n",
    "for name, val in zip(model.metrics_names, init_test_metrics):\n",
    "    print(\"\\t{}: {:0.4f}\".format(name, val))"
   ]
  },
  {
   "cell_type": "code",
   "execution_count": 16,
   "id": "f3ed20ac",
   "metadata": {},
   "outputs": [
    {
     "name": "stdout",
     "output_type": "stream",
     "text": [
      "Epoch 1/10\n",
      "18/18 - 37s - loss: 0.6937 - acc: 0.5203 - val_loss: 0.6923 - val_acc: 0.5140 - 37s/epoch - 2s/step\n",
      "Epoch 2/10\n",
      "18/18 - 34s - loss: 0.6878 - acc: 0.5414 - val_loss: 0.6865 - val_acc: 0.5405 - 34s/epoch - 2s/step\n",
      "Epoch 3/10\n",
      "18/18 - 33s - loss: 0.6828 - acc: 0.5572 - val_loss: 0.6810 - val_acc: 0.5620 - 33s/epoch - 2s/step\n",
      "Epoch 4/10\n",
      "18/18 - 33s - loss: 0.6752 - acc: 0.5969 - val_loss: 0.6753 - val_acc: 0.5850 - 33s/epoch - 2s/step\n",
      "Epoch 5/10\n",
      "18/18 - 31s - loss: 0.6696 - acc: 0.6117 - val_loss: 0.6706 - val_acc: 0.6065 - 31s/epoch - 2s/step\n",
      "Epoch 6/10\n",
      "18/18 - 31s - loss: 0.6647 - acc: 0.6397 - val_loss: 0.6653 - val_acc: 0.6300 - 31s/epoch - 2s/step\n",
      "Epoch 7/10\n",
      "18/18 - 31s - loss: 0.6594 - acc: 0.6556 - val_loss: 0.6610 - val_acc: 0.6482 - 31s/epoch - 2s/step\n",
      "Epoch 8/10\n",
      "18/18 - 36s - loss: 0.6532 - acc: 0.6711 - val_loss: 0.6553 - val_acc: 0.6693 - 36s/epoch - 2s/step\n",
      "Epoch 9/10\n",
      "18/18 - 33s - loss: 0.6468 - acc: 0.6975 - val_loss: 0.6505 - val_acc: 0.6808 - 33s/epoch - 2s/step\n",
      "Epoch 10/10\n",
      "18/18 - 31s - loss: 0.6422 - acc: 0.7069 - val_loss: 0.6458 - val_acc: 0.6910 - 31s/epoch - 2s/step\n"
     ]
    }
   ],
   "source": [
    "history = model.fit(train_flow,\n",
    "                    epochs=epochs,\n",
    "                    workers=num_workers,\n",
    "                    validation_data=test_flow,\n",
    "                    verbose=2)"
   ]
  },
  {
   "cell_type": "code",
   "execution_count": 17,
   "id": "6e68ab29",
   "metadata": {
    "scrolled": true
   },
   "outputs": [
    {
     "data": {
      "image/png": "[encoded data removed]",
      "text/plain": [
       "<Figure size 700x800 with 2 Axes>"
      ]
     },
     "metadata": {},
     "output_type": "display_data"
    }
   ],
   "source": [
    "sg.utils.plot_history(history)"
   ]
  },
  {
   "cell_type": "code",
   "execution_count": 18,
   "id": "89169342",
   "metadata": {},
   "outputs": [
    {
     "name": "stdout",
     "output_type": "stream",
     "text": [
      "18/18 [==============================] - 12s 666ms/step - loss: 0.6311 - acc: 0.7364\n",
      "20/20 [==============================] - 14s 707ms/step - loss: 0.6458 - acc: 0.6877\n",
      "\n",
      "Train Set Metrics of the trained model:\n",
      "\tloss: 0.6311\n",
      "\tacc: 0.7364\n",
      "\n",
      "Test Set Metrics of the trained model:\n",
      "\tloss: 0.6458\n",
      "\tacc: 0.6877\n"
     ]
    }
   ],
   "source": [
    "train_metrics = model.evaluate(train_flow)\n",
    "test_metrics = model.evaluate(test_flow)\n",
    "\n",
    "print(\"\\nTrain Set Metrics of the trained model:\")\n",
    "for name, val in zip(model.metrics_names, train_metrics):\n",
    "    print(\"\\t{}: {:0.4f}\".format(name, val))\n",
    "\n",
    "print(\"\\nTest Set Metrics of the trained model:\")\n",
    "for name, val in zip(model.metrics_names, test_metrics):\n",
    "    print(\"\\t{}: {:0.4f}\".format(name, val))"
   ]
  }
 ],
 "metadata": {
  "kernelspec": {
   "display_name": "Python 3 (ipykernel)",
   "language": "python",
   "name": "python3"
  },
  "language_info": {
   "codemirror_mode": {
    "name": "ipython",
    "version": 3
   },
   "file_extension": ".py",
   "mimetype": "text/x-python",
   "name": "python",
   "nbconvert_exporter": "python",
   "pygments_lexer": "ipython3",
   "version": "3.10.11"
  }
 },
 "nbformat": 4,
 "nbformat_minor": 5
}
