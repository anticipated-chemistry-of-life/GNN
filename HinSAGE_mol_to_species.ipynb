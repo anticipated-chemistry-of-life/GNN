{
 "cells": [
  {
   "cell_type": "code",
   "execution_count": 1,
   "id": "0c37f03d",
   "metadata": {
    "scrolled": true
   },
   "outputs": [
    {
     "name": "stderr",
     "output_type": "stream",
     "text": [
      "2023-06-22 16:19:17.980238: I tensorflow/core/platform/cpu_feature_guard.cc:193] This TensorFlow binary is optimized with oneAPI Deep Neural Network Library (oneDNN) to use the following CPU instructions in performance-critical operations:  SSE4.1 SSE4.2 AVX AVX2 FMA\n",
      "To enable them in other operations, rebuild TensorFlow with the appropriate compiler flags.\n",
      "2023-06-22 16:19:21.451420: I tensorflow/core/platform/cpu_feature_guard.cc:193] This TensorFlow binary is optimized with oneAPI Deep Neural Network Library (oneDNN) to use the following CPU instructions in performance-critical operations:  SSE4.1 SSE4.2 AVX AVX2 FMA\n",
      "To enable them in other operations, rebuild TensorFlow with the appropriate compiler flags.\n"
     ]
    }
   ],
   "source": [
    "import networkx as nx\n",
    "import itertools\n",
    "import pandas as pd\n",
    "import numpy as np\n",
    "from stellargraph import StellarGraph\n",
    "from rdkit.Chem import AllChem, DataStructs\n",
    "import json\n",
    "from sklearn import preprocessing, feature_extraction, model_selection\n",
    "from sklearn.metrics import mean_absolute_error, mean_squared_error\n",
    "from tensorflow import keras\n",
    "\n",
    "import stellargraph as sg\n",
    "from stellargraph.data import EdgeSplitter\n",
    "from stellargraph.mapper import HinSAGELinkGenerator\n",
    "from stellargraph.layer import HinSAGE, link_regression, link_classification\n",
    "from tensorflow.keras import Model, optimizers, losses, metrics\n",
    "\n",
    "import multiprocessing\n",
    "from stellargraph import datasets\n",
    "from IPython.display import display, HTML\n",
    "import matplotlib.pyplot as plt\n",
    "from tensorflow.keras import mixed_precision\n",
    "mixed_precision.set_global_policy('float32')"
   ]
  },
  {
   "cell_type": "code",
   "execution_count": 2,
   "id": "5abe1765",
   "metadata": {
    "scrolled": true
   },
   "outputs": [],
   "source": [
    "g = nx.read_graphml(\"./graph/lotus_DB_as_graph.gml\")\n",
    "species_features_dummy = pd.read_csv(\"./data/species_features_dummy.csv.gz\", index_col=0)\n",
    "molecule_features_dummy = pd.read_csv(\"./data/mol_dummy_rdkit.csv\", index_col=0).astype(\"int8\")\n",
    "df_agg = pd.read_csv(\"./data/lotus_aggregated.csv\", index_col=0)\n",
    "mol_pathway = pd.read_csv(\"./data/molecule_features_dummy.csv\", index_col=0).astype('int8')"
   ]
  },
  {
   "cell_type": "code",
   "execution_count": 3,
   "id": "cfeaa9f4",
   "metadata": {},
   "outputs": [],
   "source": [
    "molecule_features_dummy = pd.concat([mol_pathway, molecule_features_dummy], axis=1)"
   ]
  },
  {
   "cell_type": "code",
   "execution_count": 4,
   "id": "414372ea",
   "metadata": {},
   "outputs": [
    {
     "name": "stdout",
     "output_type": "stream",
     "text": [
      "StellarDiGraph: Directed multigraph\n",
      " Nodes: 23997, Edges: 40000\n",
      "\n",
      " Node types:\n",
      "  molecule: [13147]\n",
      "    Features: float32 vector, length 1647\n",
      "    Edge types: molecule-present_in->species\n",
      "  species: [10850]\n",
      "    Features: float32 vector, length 64\n",
      "    Edge types: species-has->molecule\n",
      "\n",
      " Edge types:\n",
      "    species-has->molecule: [20000]\n",
      "        Weights: all 1 (default)\n",
      "        Features: none\n",
      "    molecule-present_in->species: [20000]\n",
      "        Weights: all 1 (default)\n",
      "        Features: none\n"
     ]
    }
   ],
   "source": [
    "G = StellarGraph.from_networkx(g,\n",
    "                               node_features={'species':species_features_dummy,\n",
    "                                              'molecule': molecule_features_dummy})\n",
    "print(G.info())\n",
    "G.check_graph_for_ml()"
   ]
  },
  {
   "cell_type": "code",
   "execution_count": 5,
   "id": "8ccf42a8",
   "metadata": {},
   "outputs": [],
   "source": [
    "batch_size = 32 #default: 200\n",
    "epochs = 20 #default: 20\n",
    "# Use 80% of edges for training, the rest for testing:\n",
    "train_size = 0.8\n",
    "test_size = 0.2\n",
    "num_samples = [1, 1, 1, 1]\n",
    "num_workers = multiprocessing.cpu_count()-2"
   ]
  },
  {
   "cell_type": "code",
   "execution_count": 6,
   "id": "40c70f1a",
   "metadata": {},
   "outputs": [
    {
     "name": "stdout",
     "output_type": "stream",
     "text": [
      "Network has 20000 edges of type present_in\n",
      "Network has 20000 edges of type present_in\n",
      "** Sampled 8000 positive and 8000 negative edges. **\n"
     ]
    }
   ],
   "source": [
    "# Define an edge splitter on the original graph G:\n",
    "edge_splitter_test = EdgeSplitter(G)\n",
    "\n",
    "# Randomly sample a fraction p=0.3 of all positive links, and same number of negative links, from G, and obtain the\n",
    "# reduced graph G_test with the sampled links removed:\n",
    "G_test, edge_ids_test, edge_labels_test = edge_splitter_test.train_test_split(\n",
    "    p=0.4, method=\"global\", keep_connected=False, edge_label=\"present_in\"\n",
    ")"
   ]
  },
  {
   "cell_type": "code",
   "execution_count": 7,
   "id": "a1299965",
   "metadata": {},
   "outputs": [
    {
     "name": "stdout",
     "output_type": "stream",
     "text": [
      "Network has 12000 edges of type present_in\n",
      "Network has 12000 edges of type present_in\n",
      "** Sampled 4800 positive and 4800 negative edges. **\n"
     ]
    }
   ],
   "source": [
    "# Define an edge splitter on the reduced graph G_test:\n",
    "edge_splitter_train = EdgeSplitter(G_test)\n",
    "\n",
    "# Randomly sample a fraction p=0.3 of all positive links, and same number of negative links, from G_test, and obtain the\n",
    "# reduced graph G_train with the sampled links removed:\n",
    "G_train, edge_ids_train, edge_labels_train = edge_splitter_train.train_test_split(\n",
    "    p=0.4, method=\"global\", keep_connected=False, edge_label=\"present_in\"\n",
    ")"
   ]
  },
  {
   "cell_type": "code",
   "execution_count": 8,
   "id": "6a4c7cf1",
   "metadata": {},
   "outputs": [
    {
     "name": "stdout",
     "output_type": "stream",
     "text": [
      "StellarDiGraph: Directed multigraph\n",
      " Nodes: 23997, Edges: 27200\n",
      "\n",
      " Node types:\n",
      "  molecule: [13147]\n",
      "    Features: float32 vector, length 1647\n",
      "    Edge types: molecule-present_in->species\n",
      "  species: [10850]\n",
      "    Features: float32 vector, length 64\n",
      "    Edge types: species-has->molecule\n",
      "\n",
      " Edge types:\n",
      "    species-has->molecule: [20000]\n",
      "        Weights: all 1 (default)\n",
      "        Features: none\n",
      "    molecule-present_in->species: [7200]\n",
      "        Weights: all 1 (default)\n",
      "        Features: none\n"
     ]
    }
   ],
   "source": [
    "print(G_train.info())"
   ]
  },
  {
   "cell_type": "code",
   "execution_count": 9,
   "id": "96de8525",
   "metadata": {},
   "outputs": [
    {
     "name": "stdout",
     "output_type": "stream",
     "text": [
      "StellarDiGraph: Directed multigraph\n",
      " Nodes: 23997, Edges: 32000\n",
      "\n",
      " Node types:\n",
      "  molecule: [13147]\n",
      "    Features: float32 vector, length 1647\n",
      "    Edge types: molecule-present_in->species\n",
      "  species: [10850]\n",
      "    Features: float32 vector, length 64\n",
      "    Edge types: species-has->molecule\n",
      "\n",
      " Edge types:\n",
      "    species-has->molecule: [20000]\n",
      "        Weights: all 1 (default)\n",
      "        Features: none\n",
      "    molecule-present_in->species: [12000]\n",
      "        Weights: all 1 (default)\n",
      "        Features: none\n"
     ]
    }
   ],
   "source": [
    "print(G_test.info())"
   ]
  },
  {
   "cell_type": "code",
   "execution_count": 10,
   "id": "7fd9d1d9",
   "metadata": {},
   "outputs": [],
   "source": [
    "train_gen = HinSAGELinkGenerator(G_train,\n",
    "                                 batch_size=batch_size,\n",
    "                                 num_samples=num_samples,\n",
    "                                 head_node_types=[\"molecule\", \"species\"])\n",
    "train_flow = train_gen.flow(edge_ids_train, edge_labels_train, shuffle=True)"
   ]
  },
  {
   "cell_type": "code",
   "execution_count": 11,
   "id": "3d967859",
   "metadata": {},
   "outputs": [],
   "source": [
    "test_gen = HinSAGELinkGenerator(G_test,\n",
    "                                batch_size=batch_size,\n",
    "                                num_samples=num_samples,\n",
    "                                head_node_types=[\"molecule\", \"species\"])\n",
    "test_flow = test_gen.flow(edge_ids_test, edge_labels_test)"
   ]
  },
  {
   "cell_type": "code",
   "execution_count": 12,
   "id": "d94b97ac",
   "metadata": {},
   "outputs": [],
   "source": [
    "hinsage_layer_sizes = [128, 128, 128, 128]\n",
    "hinsage = HinSAGE(layer_sizes=hinsage_layer_sizes,\n",
    "                  generator=train_gen,\n",
    "                  bias=True,\n",
    "                  dropout=0.3,\n",
    "                 activations=['relu','selu', 'relu', 'selu'])"
   ]
  },
  {
   "cell_type": "code",
   "execution_count": 13,
   "id": "7f3f8d54",
   "metadata": {
    "scrolled": false
   },
   "outputs": [
    {
     "name": "stderr",
     "output_type": "stream",
     "text": [
      "/usr/local/Caskroom/mambaforge/base/envs/stellar_graph/lib/python3.10/site-packages/keras/initializers/initializers_v2.py:120: UserWarning: The initializer GlorotUniform is unseeded and being called multiple times, which will return identical values  each time (even if the initializer is unseeded). Please update your code to provide a seed to the initializer, or avoid using the same initalizer instance more than once.\n",
      "  warnings.warn(\n"
     ]
    }
   ],
   "source": [
    "# Build the model and expose input and output sockets of graphsage model\n",
    "# for link prediction\n",
    "x_inp, x_out = hinsage.in_out_tensors()"
   ]
  },
  {
   "cell_type": "code",
   "execution_count": 14,
   "id": "96dddf17",
   "metadata": {},
   "outputs": [
    {
     "name": "stdout",
     "output_type": "stream",
     "text": [
      "link_classification: using 'l1' method to combine node embeddings into edge embeddings\n"
     ]
    }
   ],
   "source": [
    "prediction = link_classification(output_dim=1,\n",
    "                                 output_act=\"sigmoid\",\n",
    "                                 edge_embedding_method=\"l1\")(x_out)"
   ]
  },
  {
   "cell_type": "code",
   "execution_count": 15,
   "id": "a49ccd38",
   "metadata": {},
   "outputs": [],
   "source": [
    "model = keras.Model(inputs=x_inp, outputs=prediction)\n",
    "optimizer=keras.optimizers.Adam(learning_rate=1e-2)\n",
    "#optimizer = mixed_precision.LossScaleOptimizer(optimizer)\n",
    "\n",
    "model.compile(\n",
    "    optimizer=optimizer,\n",
    "    loss=keras.losses.binary_crossentropy,\n",
    "    metrics=[\"AUC\"],\n",
    ")"
   ]
  },
  {
   "cell_type": "code",
   "execution_count": 16,
   "id": "90028704",
   "metadata": {},
   "outputs": [
    {
     "name": "stdout",
     "output_type": "stream",
     "text": [
      "300/300 - 3s - loss: 0.6968 - auc: 0.4706 - 3s/epoch - 11ms/step\n",
      "500/500 - 3s - loss: 0.6986 - auc: 0.4507 - 3s/epoch - 5ms/step\n",
      "\n",
      "Train Set Metrics of the initial (untrained) model:\n",
      "\tloss: 0.6968\n",
      "\tauc: 0.4706\n",
      "\n",
      "Test Set Metrics of the initial (untrained) model:\n",
      "\tloss: 0.6986\n",
      "\tauc: 0.4507\n"
     ]
    }
   ],
   "source": [
    "init_train_metrics = model.evaluate(train_flow, workers=num_workers, verbose=2)\n",
    "init_test_metrics = model.evaluate(test_flow, workers=num_workers, verbose=2)\n",
    "\n",
    "print(\"\\nTrain Set Metrics of the initial (untrained) model:\")\n",
    "for name, val in zip(model.metrics_names, init_train_metrics):\n",
    "    print(\"\\t{}: {:0.4f}\".format(name, val))\n",
    "\n",
    "print(\"\\nTest Set Metrics of the initial (untrained) model:\")\n",
    "for name, val in zip(model.metrics_names, init_test_metrics):\n",
    "    print(\"\\t{}: {:0.4f}\".format(name, val))"
   ]
  },
  {
   "cell_type": "code",
   "execution_count": 17,
   "id": "e34c9a03",
   "metadata": {},
   "outputs": [
    {
     "name": "stdout",
     "output_type": "stream",
     "text": [
      "Epoch 1/20\n",
      "300/300 - 16s - loss: 0.6228 - auc: 0.7096 - val_loss: 0.6125 - val_auc: 0.7284 - 16s/epoch - 52ms/step\n",
      "Epoch 2/20\n",
      "300/300 - 10s - loss: 0.5777 - auc: 0.7667 - val_loss: 0.5116 - val_auc: 0.8270 - 10s/epoch - 33ms/step\n",
      "Epoch 3/20\n",
      "300/300 - 10s - loss: 0.5347 - auc: 0.8075 - val_loss: 0.5144 - val_auc: 0.8251 - 10s/epoch - 34ms/step\n",
      "Epoch 4/20\n",
      "300/300 - 10s - loss: 0.5109 - auc: 0.8269 - val_loss: 0.4828 - val_auc: 0.8505 - 10s/epoch - 33ms/step\n",
      "Epoch 5/20\n",
      "300/300 - 10s - loss: 0.4941 - auc: 0.8403 - val_loss: 0.4526 - val_auc: 0.8722 - 10s/epoch - 34ms/step\n",
      "Epoch 6/20\n",
      "300/300 - 10s - loss: 0.4751 - auc: 0.8539 - val_loss: 0.4408 - val_auc: 0.8773 - 10s/epoch - 34ms/step\n",
      "Epoch 7/20\n",
      "300/300 - 10s - loss: 0.4558 - auc: 0.8656 - val_loss: 0.4517 - val_auc: 0.8697 - 10s/epoch - 34ms/step\n",
      "Epoch 8/20\n",
      "300/300 - 10s - loss: 0.4513 - auc: 0.8702 - val_loss: 0.4407 - val_auc: 0.8771 - 10s/epoch - 33ms/step\n",
      "Epoch 9/20\n",
      "300/300 - 10s - loss: 0.4238 - auc: 0.8867 - val_loss: 0.4259 - val_auc: 0.8873 - 10s/epoch - 34ms/step\n",
      "Epoch 10/20\n",
      "300/300 - 11s - loss: 0.4197 - auc: 0.8891 - val_loss: 0.4377 - val_auc: 0.8822 - 11s/epoch - 35ms/step\n",
      "Epoch 11/20\n",
      "300/300 - 10s - loss: 0.4121 - auc: 0.8934 - val_loss: 0.4225 - val_auc: 0.8892 - 10s/epoch - 34ms/step\n",
      "Epoch 12/20\n",
      "300/300 - 10s - loss: 0.4080 - auc: 0.8959 - val_loss: 0.4111 - val_auc: 0.8951 - 10s/epoch - 34ms/step\n",
      "Epoch 13/20\n",
      "300/300 - 10s - loss: 0.3948 - auc: 0.9026 - val_loss: 0.4267 - val_auc: 0.8894 - 10s/epoch - 33ms/step\n",
      "Epoch 14/20\n",
      "300/300 - 10s - loss: 0.3832 - auc: 0.9084 - val_loss: 0.3987 - val_auc: 0.9049 - 10s/epoch - 33ms/step\n",
      "Epoch 15/20\n",
      "300/300 - 10s - loss: 0.3732 - auc: 0.9136 - val_loss: 0.4037 - val_auc: 0.9040 - 10s/epoch - 34ms/step\n",
      "Epoch 16/20\n",
      "300/300 - 10s - loss: 0.3543 - auc: 0.9224 - val_loss: 0.4036 - val_auc: 0.9049 - 10s/epoch - 33ms/step\n",
      "Epoch 17/20\n",
      "300/300 - 10s - loss: 0.3545 - auc: 0.9225 - val_loss: 0.4028 - val_auc: 0.9058 - 10s/epoch - 33ms/step\n",
      "Epoch 18/20\n",
      "300/300 - 10s - loss: 0.3398 - auc: 0.9286 - val_loss: 0.4124 - val_auc: 0.9016 - 10s/epoch - 34ms/step\n",
      "Epoch 19/20\n",
      "300/300 - 10s - loss: 0.3278 - auc: 0.9341 - val_loss: 0.4012 - val_auc: 0.9090 - 10s/epoch - 33ms/step\n"
     ]
    }
   ],
   "source": [
    "callbacks = keras.callbacks.EarlyStopping(monitor=\"val_loss\",\n",
    "                                          patience=5,\n",
    "                                          mode=\"auto\",\n",
    "                                          restore_best_weights=True)\n",
    "\n",
    "history = model.fit(train_flow,\n",
    "                    epochs=epochs,\n",
    "                    workers=num_workers,\n",
    "                    validation_data=test_flow,\n",
    "                    verbose=2,\n",
    "                    callbacks=[callbacks],\n",
    "                    validation_split=0.0,\n",
    "                    shuffle=True\n",
    "                   )"
   ]
  },
  {
   "cell_type": "code",
   "execution_count": 18,
   "id": "a727f52e",
   "metadata": {
    "scrolled": true
   },
   "outputs": [
    {
     "data": {
      "image/png": "[encoded data removed]",
      "text/plain": [
       "<Figure size 700x800 with 2 Axes>"
      ]
     },
     "metadata": {},
     "output_type": "display_data"
    }
   ],
   "source": [
    "sg.utils.plot_history(history)"
   ]
  },
  {
   "cell_type": "code",
   "execution_count": 19,
   "id": "1fd3266a",
   "metadata": {
    "scrolled": false
   },
   "outputs": [
    {
     "name": "stdout",
     "output_type": "stream",
     "text": [
      "300/300 - 1s - loss: 0.2804 - auc: 0.9534 - 1s/epoch - 4ms/step\n",
      "500/500 - 2s - loss: 0.4028 - auc: 0.9030 - 2s/epoch - 4ms/step\n",
      "\n",
      "Train Set Metrics of the trained model:\n",
      "\tloss: 0.2804\n",
      "\tauc: 0.9534\n",
      "\n",
      "Test Set Metrics of the trained model:\n",
      "\tloss: 0.4028\n",
      "\tauc: 0.9030\n"
     ]
    }
   ],
   "source": [
    "train_metrics = model.evaluate(train_flow, verbose=2)\n",
    "test_metrics = model.evaluate(test_flow, verbose=2)\n",
    "\n",
    "print(\"\\nTrain Set Metrics of the trained model:\")\n",
    "for name, val in zip(model.metrics_names, train_metrics):\n",
    "    print(\"\\t{}: {:0.4f}\".format(name, val))\n",
    "\n",
    "print(\"\\nTest Set Metrics of the trained model:\")\n",
    "for name, val in zip(model.metrics_names, test_metrics):\n",
    "    print(\"\\t{}: {:0.4f}\".format(name, val))"
   ]
  },
  {
   "cell_type": "code",
   "execution_count": 20,
   "id": "871432c6",
   "metadata": {
    "scrolled": false
   },
   "outputs": [
    {
     "name": "stdout",
     "output_type": "stream",
     "text": [
      "500/500 [==============================] - 4s 5ms/step\n"
     ]
    }
   ],
   "source": [
    "predictions = model.predict(test_flow)"
   ]
  },
  {
   "cell_type": "code",
   "execution_count": 21,
   "id": "769c15a5",
   "metadata": {},
   "outputs": [
    {
     "data": {
      "text/plain": [
       "array([[0.9419401 ],\n",
       "       [0.9673941 ],\n",
       "       [0.7797605 ],\n",
       "       ...,\n",
       "       [0.1022625 ],\n",
       "       [0.78573066],\n",
       "       [0.12152016]], dtype=float32)"
      ]
     },
     "execution_count": 21,
     "metadata": {},
     "output_type": "execute_result"
    }
   ],
   "source": [
    "predictions"
   ]
  },
  {
   "cell_type": "code",
   "execution_count": 22,
   "id": "68b35e84",
   "metadata": {},
   "outputs": [],
   "source": [
    "test = predictions>0.5 "
   ]
  },
  {
   "cell_type": "code",
   "execution_count": 23,
   "id": "8c10314e",
   "metadata": {},
   "outputs": [],
   "source": [
    "test = test.astype('int8')"
   ]
  },
  {
   "cell_type": "code",
   "execution_count": 24,
   "id": "db52206d",
   "metadata": {
    "scrolled": true
   },
   "outputs": [
    {
     "data": {
      "text/plain": [
       "array([['CC1(C)CC(=O)c2cc3c(cc2O1)CC(C(C)(C)O)O3',\n",
       "        'Truncatella angustata'],\n",
       "       ['CCC(CCC(C)C1CCC2C3CC=C4CC(O)CCC4(C)C3CCC12C)C(C)C',\n",
       "        'Prunus cornuta'],\n",
       "       ['COc1cc2c3cc1Oc1c(OC)c(OC)cc4c1C(Cc1ccc(cc1)Oc1cc(ccc1O)CC3N(C)CC2)N(C)CC4',\n",
       "        'Berberis aquifolium'],\n",
       "       ...,\n",
       "       ['CC=C(C)C(=O)OCC1=CC(O)C(C(C)C)C(OC(C)=O)CC(C)=CCC1',\n",
       "        'Entada africana'],\n",
       "       ['C=C1CCCC(C)(C)C1CCC(C)=CCCC1C(C)(O)CCC2C(C)(C)CCCC21C',\n",
       "        'Acacia buxifolia'],\n",
       "       ['OCc1ccc(O)cc1', 'Hoya bella']], dtype=object)"
      ]
     },
     "execution_count": 24,
     "metadata": {},
     "output_type": "execute_result"
    }
   ],
   "source": [
    "edge_ids_test"
   ]
  },
  {
   "cell_type": "code",
   "execution_count": 25,
   "id": "360c1b4c",
   "metadata": {},
   "outputs": [
    {
     "data": {
      "text/plain": [
       "array([0.0006728], dtype=float32)"
      ]
     },
     "execution_count": 25,
     "metadata": {},
     "output_type": "execute_result"
    }
   ],
   "source": [
    "min(predictions)"
   ]
  },
  {
   "cell_type": "code",
   "execution_count": 26,
   "id": "4329c14a",
   "metadata": {},
   "outputs": [],
   "source": [
    "test = test.flatten()"
   ]
  },
  {
   "cell_type": "code",
   "execution_count": 27,
   "id": "04b8b871",
   "metadata": {},
   "outputs": [
    {
     "data": {
      "text/plain": [
       "array([0.9673941], dtype=float32)"
      ]
     },
     "execution_count": 27,
     "metadata": {},
     "output_type": "execute_result"
    }
   ],
   "source": [
    "predictions[1]"
   ]
  },
  {
   "cell_type": "code",
   "execution_count": null,
   "id": "8d04d164",
   "metadata": {},
   "outputs": [],
   "source": []
  }
 ],
 "metadata": {
  "kernelspec": {
   "display_name": "Python 3 (ipykernel)",
   "language": "python",
   "name": "python3"
  },
  "language_info": {
   "codemirror_mode": {
    "name": "ipython",
    "version": 3
   },
   "file_extension": ".py",
   "mimetype": "text/x-python",
   "name": "python",
   "nbconvert_exporter": "python",
   "pygments_lexer": "ipython3",
   "version": "3.10.8"
  }
 },
 "nbformat": 4,
 "nbformat_minor": 5
}
