{
 "cells": [
  {
   "cell_type": "code",
   "execution_count": 1,
   "id": "e7aa6d51",
   "metadata": {
    "scrolled": true
   },
   "outputs": [
    {
     "name": "stderr",
     "output_type": "stream",
     "text": [
      "2023-06-16 18:15:38.486301: I tensorflow/core/platform/cpu_feature_guard.cc:193] This TensorFlow binary is optimized with oneAPI Deep Neural Network Library (oneDNN) to use the following CPU instructions in performance-critical operations:  SSE4.1 SSE4.2 AVX AVX2 FMA\n",
      "To enable them in other operations, rebuild TensorFlow with the appropriate compiler flags.\n",
      "2023-06-16 18:15:44.063007: I tensorflow/core/platform/cpu_feature_guard.cc:193] This TensorFlow binary is optimized with oneAPI Deep Neural Network Library (oneDNN) to use the following CPU instructions in performance-critical operations:  SSE4.1 SSE4.2 AVX AVX2 FMA\n",
      "To enable them in other operations, rebuild TensorFlow with the appropriate compiler flags.\n",
      "/var/folders/_5/04k_n4g93v9bhbfk8nqpr3zr0000gs/T/ipykernel_4651/3711347181.py:9: DtypeWarning: Columns (38) have mixed types. Specify dtype option on import or set low_memory=False.\n",
      "  df = pd.read_csv('./data/230106_frozen_metadata.csv.gz')\n"
     ]
    }
   ],
   "source": [
    "import networkx as nx\n",
    "import itertools\n",
    "import pandas as pd\n",
    "import numpy as np\n",
    "from stellargraph import StellarGraph\n",
    "from rdkit.Chem import AllChem, DataStructs\n",
    "\n",
    "# Load data\n",
    "df = pd.read_csv('./data/230106_frozen_metadata.csv.gz')"
   ]
  },
  {
   "cell_type": "code",
   "execution_count": 2,
   "id": "54cdcd2f",
   "metadata": {},
   "outputs": [],
   "source": [
    "mol_dum = [np.array(i) for i in df.structure_smiles_2D.unique()]"
   ]
  },
  {
   "cell_type": "code",
   "execution_count": 3,
   "id": "2442736f",
   "metadata": {},
   "outputs": [],
   "source": [
    "#Remove duplicate organism-molecule pair\n",
    "df_agg = df.groupby(['organism_taxonomy_09species',\n",
    "                     'structure_smiles_2D']).size().reset_index(name='reference_wikidata')\n",
    "\n",
    "df_agg = df.groupby(['organism_taxonomy_09species', 'structure_smiles_2D']).agg({\n",
    "    'reference_wikidata': 'size',\n",
    "    'organism_taxonomy_08genus': 'first',\n",
    "    'organism_taxonomy_06family': 'first',\n",
    "    'organism_taxonomy_05order': 'first',\n",
    "    'organism_taxonomy_04class': 'first',\n",
    "    'organism_taxonomy_03phylum': 'first',\n",
    "    'organism_taxonomy_02kingdom': 'first',\n",
    "    'organism_taxonomy_01domain': 'first',\n",
    "    'structure_taxonomy_npclassifier_01pathway': 'first',\n",
    "    'structure_taxonomy_npclassifier_02superclass': 'first',\n",
    "    'structure_taxonomy_npclassifier_03class': 'first'\n",
    "    # add other columns here as needed\n",
    "}).reset_index()\n",
    "\n",
    "df_agg['total_papers_molecule'] = df_agg.groupby(\n",
    "    'structure_smiles_2D')['reference_wikidata'].transform('sum')\n",
    "df_agg['total_papers_species'] = df_agg.groupby(\n",
    "    'organism_taxonomy_09species')['reference_wikidata'].transform('sum')\n",
    "\n",
    "#get random subset of the database (comment to have the full DB)\n",
    "df_agg = df_agg.sample(n=20000).reset_index(drop=True)"
   ]
  },
  {
   "cell_type": "code",
   "execution_count": 4,
   "id": "12da6644",
   "metadata": {},
   "outputs": [],
   "source": [
    "df_agg.structure_smiles_2D.to_csv(\"./data/smiles_struct.csv\")"
   ]
  },
  {
   "cell_type": "code",
   "execution_count": 5,
   "id": "21dc5a8d",
   "metadata": {},
   "outputs": [],
   "source": [
    "# Fetch unique species and molecules and their respective features\n",
    "unique_species_df = df_agg.drop_duplicates(subset=['organism_taxonomy_09species'])\n",
    "unique_molecules_df = df_agg.drop_duplicates(subset=['structure_smiles_2D'])\n",
    "\n",
    "# Fetch the corresponding features\n",
    "species_features_df = unique_species_df[['organism_taxonomy_08genus', 'organism_taxonomy_06family', \n",
    "                                         'organism_taxonomy_05order', 'organism_taxonomy_04class', \n",
    "                                         'organism_taxonomy_03phylum', 'organism_taxonomy_02kingdom', \n",
    "                                         'organism_taxonomy_01domain']]\n",
    "molecule_features_df = unique_molecules_df[['structure_taxonomy_npclassifier_01pathway', \n",
    "                                            'structure_taxonomy_npclassifier_02superclass', \n",
    "                                            'structure_taxonomy_npclassifier_03class']]\n",
    "\n",
    "# Convert these dataframes to dummy/one-hot encoded dataframes\n",
    "species_features_dummy = pd.get_dummies(species_features_df)\n",
    "molecule_features_dummy = pd.get_dummies(molecule_features_df)\n",
    "species_features_dummy.index = [i for i in unique_species_df['organism_taxonomy_09species']]\n",
    "molecule_features_dummy.index = [i for i in unique_molecules_df['structure_smiles_2D']]"
   ]
  },
  {
   "cell_type": "code",
   "execution_count": 6,
   "id": "6d7e51ed",
   "metadata": {},
   "outputs": [],
   "source": [
    "g = nx.DiGraph()\n",
    "for i, row in df_agg.iterrows():\n",
    "    g.add_edge(row['structure_smiles_2D'],\n",
    "               row['organism_taxonomy_09species'],\n",
    "              label=\"present_in\")\n",
    "\n",
    "    #create edge in oppsite direction\n",
    "    g.add_edge(row['organism_taxonomy_09species'],\n",
    "               row['structure_smiles_2D'],\n",
    "              label=\"has\")\n",
    "    nx.set_node_attributes(g,\n",
    "                           {row['structure_smiles_2D']: 'molecule',\n",
    "                            row['organism_taxonomy_09species']: 'species'}, \"label\")\n",
    "    #nx.set_edge_attributes(g,\n",
    "    #                      {(row['structure_smiles_2D'],\n",
    "    #                        row['organism_taxonomy_09species']):\n",
    "    #                       {'weight':row['reference_wikidata']}})\n",
    "    #nx.set_edge_attributes(g,\n",
    "    #                      {(row['organism_taxonomy_09species'],\n",
    "    #                       row['structure_smiles_2D']):\n",
    "    #                       {'weight':row['reference_wikidata']}})"
   ]
  },
  {
   "cell_type": "code",
   "execution_count": 7,
   "id": "5fb1faf3",
   "metadata": {},
   "outputs": [],
   "source": [
    "fps = [AllChem.MolFromSmiles(i) for i in unique_molecules_df['structure_smiles_2D']]\n",
    "mols  = [AllChem.GetMorganFingerprintAsBitVect(m, radius=2, nBits=1024) for m in fps]\n",
    "mol_dum = [np.array(i) for i in mols]\n",
    "mol_dum = pd.DataFrame(mol_dum)\n",
    "\n",
    "# Iterate over each pair of molecules\n",
    "#for i, j in itertools.combinations(range(len(fps)), 2):\n",
    "#    # Calculate the Tanimoto Similarity\n",
    "#    similarity = DataStructs.TanimotoSimilarity(mols[i], mols[j])\n",
    "#    # If the similarity is above 0.9, add an edge\n",
    "#    if similarity >= 0.8:\n",
    "#        g.add_edge(unique_molecules_df['structure_smiles_2D'].values[i], \n",
    "#                  unique_molecules_df['structure_smiles_2D'].values[j],\n",
    "#                  label=\"similar_to\")\n",
    "#        g.add_edge(unique_molecules_df['structure_smiles_2D'].values[j], \n",
    "#                  unique_molecules_df['structure_smiles_2D'].values[i],\n",
    "#                  label=\"similar_to\")\n",
    "#        nx.set_edge_attributes(g,\n",
    "#                              {(unique_molecules_df['structure_smiles_2D'].values[i],\n",
    "#                              unique_molecules_df['structure_smiles_2D'].values[j]):{'weight': similarity}})\n",
    "#        nx.set_edge_attributes(g,\n",
    "#                              {(unique_molecules_df['structure_smiles_2D'].values[j],\n",
    "#                              unique_molecules_df['structure_smiles_2D'].values[i]):{'weight': similarity}})"
   ]
  },
  {
   "cell_type": "code",
   "execution_count": 8,
   "id": "51df34c5",
   "metadata": {},
   "outputs": [],
   "source": [
    "mol_dum.index = [i for i in unique_molecules_df['structure_smiles_2D']]"
   ]
  },
  {
   "cell_type": "code",
   "execution_count": 9,
   "id": "db10cb79",
   "metadata": {},
   "outputs": [],
   "source": [
    "nx.write_graphml(g, \"./graph/lotus_DB_as_graph.gml\")"
   ]
  },
  {
   "cell_type": "code",
   "execution_count": 10,
   "id": "cb4b575f",
   "metadata": {},
   "outputs": [],
   "source": [
    "molecule_features_dummy.to_csv(\"./data/molecule_features_dummy.csv\")\n",
    "species_features_dummy.to_csv(\"./data/species_features_dummy.csv\")\n",
    "df_agg.to_csv(\"./data/lotus_aggregated.csv\")\n",
    "mol_dum.to_csv(\"./data/mol_dummy_rdkit.csv\")"
   ]
  },
  {
   "cell_type": "code",
   "execution_count": 11,
   "id": "d98ff139",
   "metadata": {},
   "outputs": [
    {
     "data": {
      "text/html": [
       "<div>\n",
       "<style scoped>\n",
       "    .dataframe tbody tr th:only-of-type {\n",
       "        vertical-align: middle;\n",
       "    }\n",
       "\n",
       "    .dataframe tbody tr th {\n",
       "        vertical-align: top;\n",
       "    }\n",
       "\n",
       "    .dataframe thead th {\n",
       "        text-align: right;\n",
       "    }\n",
       "</style>\n",
       "<table border=\"1\" class=\"dataframe\">\n",
       "  <thead>\n",
       "    <tr style=\"text-align: right;\">\n",
       "      <th></th>\n",
       "      <th>0</th>\n",
       "      <th>1</th>\n",
       "      <th>2</th>\n",
       "      <th>3</th>\n",
       "      <th>4</th>\n",
       "      <th>5</th>\n",
       "      <th>6</th>\n",
       "      <th>7</th>\n",
       "      <th>8</th>\n",
       "      <th>9</th>\n",
       "      <th>...</th>\n",
       "      <th>1014</th>\n",
       "      <th>1015</th>\n",
       "      <th>1016</th>\n",
       "      <th>1017</th>\n",
       "      <th>1018</th>\n",
       "      <th>1019</th>\n",
       "      <th>1020</th>\n",
       "      <th>1021</th>\n",
       "      <th>1022</th>\n",
       "      <th>1023</th>\n",
       "    </tr>\n",
       "  </thead>\n",
       "  <tbody>\n",
       "    <tr>\n",
       "      <th>OCC1=CC(O)C2C=COC(OC3OC(CO)C(O)C(O)C3O)C12</th>\n",
       "      <td>0</td>\n",
       "      <td>0</td>\n",
       "      <td>0</td>\n",
       "      <td>0</td>\n",
       "      <td>0</td>\n",
       "      <td>0</td>\n",
       "      <td>0</td>\n",
       "      <td>0</td>\n",
       "      <td>0</td>\n",
       "      <td>0</td>\n",
       "      <td>...</td>\n",
       "      <td>0</td>\n",
       "      <td>0</td>\n",
       "      <td>0</td>\n",
       "      <td>0</td>\n",
       "      <td>0</td>\n",
       "      <td>1</td>\n",
       "      <td>0</td>\n",
       "      <td>0</td>\n",
       "      <td>0</td>\n",
       "      <td>0</td>\n",
       "    </tr>\n",
       "    <tr>\n",
       "      <th>CCC(C)C(=O)OC(CC(C)C1CC(c2ccoc2)OC1=O)C1(C)C(=O)CCC2OC21C</th>\n",
       "      <td>0</td>\n",
       "      <td>1</td>\n",
       "      <td>0</td>\n",
       "      <td>0</td>\n",
       "      <td>0</td>\n",
       "      <td>0</td>\n",
       "      <td>0</td>\n",
       "      <td>0</td>\n",
       "      <td>0</td>\n",
       "      <td>0</td>\n",
       "      <td>...</td>\n",
       "      <td>0</td>\n",
       "      <td>0</td>\n",
       "      <td>0</td>\n",
       "      <td>0</td>\n",
       "      <td>1</td>\n",
       "      <td>1</td>\n",
       "      <td>0</td>\n",
       "      <td>0</td>\n",
       "      <td>0</td>\n",
       "      <td>0</td>\n",
       "    </tr>\n",
       "  </tbody>\n",
       "</table>\n",
       "<p>2 rows × 1024 columns</p>\n",
       "</div>"
      ],
      "text/plain": [
       "                                                    0     1     2     3     \\\n",
       "OCC1=CC(O)C2C=COC(OC3OC(CO)C(O)C(O)C3O)C12             0     0     0     0   \n",
       "CCC(C)C(=O)OC(CC(C)C1CC(c2ccoc2)OC1=O)C1(C)C(=O...     0     1     0     0   \n",
       "\n",
       "                                                    4     5     6     7     \\\n",
       "OCC1=CC(O)C2C=COC(OC3OC(CO)C(O)C(O)C3O)C12             0     0     0     0   \n",
       "CCC(C)C(=O)OC(CC(C)C1CC(c2ccoc2)OC1=O)C1(C)C(=O...     0     0     0     0   \n",
       "\n",
       "                                                    8     9     ...  1014  \\\n",
       "OCC1=CC(O)C2C=COC(OC3OC(CO)C(O)C(O)C3O)C12             0     0  ...     0   \n",
       "CCC(C)C(=O)OC(CC(C)C1CC(c2ccoc2)OC1=O)C1(C)C(=O...     0     0  ...     0   \n",
       "\n",
       "                                                    1015  1016  1017  1018  \\\n",
       "OCC1=CC(O)C2C=COC(OC3OC(CO)C(O)C(O)C3O)C12             0     0     0     0   \n",
       "CCC(C)C(=O)OC(CC(C)C1CC(c2ccoc2)OC1=O)C1(C)C(=O...     0     0     0     1   \n",
       "\n",
       "                                                    1019  1020  1021  1022  \\\n",
       "OCC1=CC(O)C2C=COC(OC3OC(CO)C(O)C(O)C3O)C12             1     0     0     0   \n",
       "CCC(C)C(=O)OC(CC(C)C1CC(c2ccoc2)OC1=O)C1(C)C(=O...     1     0     0     0   \n",
       "\n",
       "                                                    1023  \n",
       "OCC1=CC(O)C2C=COC(OC3OC(CO)C(O)C(O)C3O)C12             0  \n",
       "CCC(C)C(=O)OC(CC(C)C1CC(c2ccoc2)OC1=O)C1(C)C(=O...     0  \n",
       "\n",
       "[2 rows x 1024 columns]"
      ]
     },
     "execution_count": 11,
     "metadata": {},
     "output_type": "execute_result"
    }
   ],
   "source": [
    "mol_dum.iloc[0:2,:]"
   ]
  }
 ],
 "metadata": {
  "kernelspec": {
   "display_name": "Python 3 (ipykernel)",
   "language": "python",
   "name": "python3"
  },
  "language_info": {
   "codemirror_mode": {
    "name": "ipython",
    "version": 3
   },
   "file_extension": ".py",
   "mimetype": "text/x-python",
   "name": "python",
   "nbconvert_exporter": "python",
   "pygments_lexer": "ipython3",
   "version": "3.10.8"
  }
 },
 "nbformat": 4,
 "nbformat_minor": 5
}
