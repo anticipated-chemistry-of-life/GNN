{
 "cells": [
  {
   "cell_type": "code",
   "execution_count": 1,
   "id": "3ab86b3d",
   "metadata": {
    "editable": true,
    "scrolled": true,
    "slideshow": {
     "slide_type": ""
    },
    "tags": []
   },
   "outputs": [],
   "source": [
    "import os\n",
    "os.environ['TF_CPP_MIN_LOG_LEVEL'] = '3' \n",
    "import networkx as nx\n",
    "import itertools\n",
    "import pandas as pd\n",
    "import numpy as np\n",
    "from stellargraph import StellarGraph\n",
    "from tensorflow import keras\n",
    "import tensorflow as tf\n",
    "\n",
    "import stellargraph as sg\n",
    "from stellargraph.data import EdgeSplitter\n",
    "from stellargraph.mapper import HinSAGELinkGenerator\n",
    "\n",
    "import matplotlib.pyplot as plt"
   ]
  },
  {
   "cell_type": "code",
   "execution_count": 2,
   "id": "9c8073a0",
   "metadata": {},
   "outputs": [],
   "source": [
    "g = nx.read_graphml(\"./graph/test_graph.gml\")\n",
    "species_features_dummy = pd.read_csv(\"./data/species_features.csv.gz\", index_col=0)\n",
    "molecule_features_dummy = pd.read_csv(\"./data/molecule_features.csv.gz\", index_col=0)\n",
    "df_agg = pd.read_csv(\"./data/lotus_agg_test.csv.gz\", index_col=0)"
   ]
  },
  {
   "cell_type": "code",
   "execution_count": 3,
   "id": "7acf285d-730b-4aa2-b541-f3815e5f9fa6",
   "metadata": {},
   "outputs": [],
   "source": [
    "from utils.encoding import binary_encode_df\n",
    "\n",
    "species_features_dummy = binary_encode_df(species_features_dummy)\n",
    "molecule_features_dummy = binary_encode_df(molecule_features_dummy)"
   ]
  },
  {
   "cell_type": "code",
   "execution_count": 4,
   "id": "2e28ff1a-9c93-446e-ba00-80f5d3b3ddd7",
   "metadata": {},
   "outputs": [],
   "source": [
    "rdkit = pd.read_csv(\"./data/mol_dummy_rdkit.csv.gz\", index_col=0)\n",
    "molecule_features_dummy = molecule_features_dummy.merge(rdkit,\n",
    "                                                        left_index=True,\n",
    "                                                        right_index=True)"
   ]
  },
  {
   "cell_type": "code",
   "execution_count": 5,
   "id": "e8b35e23",
   "metadata": {},
   "outputs": [],
   "source": [
    "species_feat = species_features_dummy[species_features_dummy.index.isin(df_agg.organism_name)]\n",
    "molecule_feat = molecule_features_dummy[molecule_features_dummy.index.isin(df_agg.structure_smiles_2D)]"
   ]
  },
  {
   "cell_type": "code",
   "execution_count": 6,
   "id": "36001a8e",
   "metadata": {},
   "outputs": [],
   "source": [
    "df_agg_train = pd.read_csv(\"./data/lotus_agg_train.csv.gz\", index_col=0)"
   ]
  },
  {
   "cell_type": "code",
   "execution_count": 7,
   "id": "37496662",
   "metadata": {},
   "outputs": [],
   "source": [
    "species_unique_to_test_set = df_agg[~df_agg.organism_name.isin(df_agg_train.organism_name)]\n",
    "molecules_unique_to_test_set = df_agg[~df_agg.structure_smiles_2D.isin(df_agg_train.structure_smiles_2D)]"
   ]
  },
  {
   "cell_type": "code",
   "execution_count": 8,
   "id": "4e68fe2f",
   "metadata": {},
   "outputs": [],
   "source": [
    "g_train = nx.read_graphml(\"./graph/train_graph.gml\")"
   ]
  },
  {
   "cell_type": "code",
   "execution_count": 9,
   "id": "007a1ea9",
   "metadata": {},
   "outputs": [],
   "source": [
    "g = nx.create_empty_copy(g)\n",
    "g_merged = nx.compose(g_train, g)"
   ]
  },
  {
   "cell_type": "code",
   "execution_count": 10,
   "id": "f424c8fb",
   "metadata": {},
   "outputs": [],
   "source": [
    "G = StellarGraph.from_networkx(g_merged,\n",
    "                               node_features={'species': species_features_dummy,\n",
    "                                              'molecule':molecule_features_dummy})"
   ]
  },
  {
   "cell_type": "code",
   "execution_count": 11,
   "id": "a27b99f5",
   "metadata": {},
   "outputs": [
    {
     "name": "stdout",
     "output_type": "stream",
     "text": [
      "StellarDiGraph: Directed multigraph\n",
      " Nodes: 184194, Edges: 608638\n",
      "\n",
      " Node types:\n",
      "  molecule: [147747]\n",
      "    Features: float32 vector, length 155\n",
      "    Edge types: molecule-present_in->species\n",
      "  species: [36447]\n",
      "    Features: float32 vector, length 69\n",
      "    Edge types: species-has->molecule\n",
      "\n",
      " Edge types:\n",
      "    species-has->molecule: [304319]\n",
      "        Weights: all 1 (default)\n",
      "        Features: none\n",
      "    molecule-present_in->species: [304319]\n",
      "        Weights: all 1 (default)\n",
      "        Features: none\n"
     ]
    }
   ],
   "source": [
    "print(G.info())\n",
    "G.check_graph_for_ml()"
   ]
  },
  {
   "cell_type": "code",
   "execution_count": 12,
   "id": "51115395",
   "metadata": {},
   "outputs": [],
   "source": [
    "model = tf.keras.models.load_model(\"./model/gbif_batch_128_layer_1024_s_to_m\", compile=True)"
   ]
  },
  {
   "cell_type": "code",
   "execution_count": 13,
   "id": "fcb98b32",
   "metadata": {},
   "outputs": [],
   "source": [
    "species_unique_to_test_set = species_unique_to_test_set[['organism_name', 'structure_smiles_2D']].to_numpy()"
   ]
  },
  {
   "cell_type": "code",
   "execution_count": 14,
   "id": "1bc1c129",
   "metadata": {},
   "outputs": [],
   "source": [
    "test_flow = HinSAGELinkGenerator(G,\n",
    "                                 batch_size=128,\n",
    "                                num_samples=[3,1],\n",
    "                                head_node_types=[\"species\", \"molecule\"]).flow(species_unique_to_test_set,\n",
    "                                                                              np.ones(len(species_unique_to_test_set)).reshape(-1,1))"
   ]
  },
  {
   "cell_type": "code",
   "execution_count": 15,
   "id": "209c7201",
   "metadata": {},
   "outputs": [],
   "source": [
    "def predict(model, flow, iterations=10):\n",
    "    predictions = []\n",
    "    for _ in range(iterations):\n",
    "        predictions.append(model.predict(flow, workers=-1).flatten())\n",
    "\n",
    "    return np.mean(predictions, axis=0)"
   ]
  },
  {
   "cell_type": "code",
   "execution_count": 16,
   "id": "12d2251f",
   "metadata": {},
   "outputs": [
    {
     "name": "stdout",
     "output_type": "stream",
     "text": [
      "24/24 [==============================] - 1s 19ms/step\n",
      "24/24 [==============================] - 0s 16ms/step\n",
      "24/24 [==============================] - 1s 20ms/step\n",
      "24/24 [==============================] - 0s 13ms/step\n",
      "24/24 [==============================] - 1s 38ms/step\n",
      "24/24 [==============================] - 0s 14ms/step\n",
      "24/24 [==============================] - 0s 14ms/step\n",
      "24/24 [==============================] - 0s 14ms/step\n",
      "24/24 [==============================] - 0s 13ms/step\n",
      "24/24 [==============================] - 0s 16ms/step\n"
     ]
    }
   ],
   "source": [
    "result = predict(model, test_flow)"
   ]
  },
  {
   "cell_type": "code",
   "execution_count": 17,
   "id": "8b5534f9",
   "metadata": {},
   "outputs": [
    {
     "data": {
      "text/plain": [
       "Text(0.5, 1.0, 'Test on unknown SPECIES but known MOLECULES')"
      ]
     },
     "execution_count": 17,
     "metadata": {},
     "output_type": "execute_result"
    },
    {
     "data": {
      "image/png": "[encoded data removed]",
      "text/plain": [
       "<Figure size 640x480 with 1 Axes>"
      ]
     },
     "metadata": {},
     "output_type": "display_data"
    }
   ],
   "source": [
    "plt.hist(result, bins=30)\n",
    "plt.title(\"Test on unknown SPECIES but known MOLECULES\")"
   ]
  },
  {
   "cell_type": "code",
   "execution_count": 18,
   "id": "14adc7bd",
   "metadata": {},
   "outputs": [
    {
     "data": {
      "text/plain": [
       "0.8289172391233235"
      ]
     },
     "execution_count": 18,
     "metadata": {},
     "output_type": "execute_result"
    }
   ],
   "source": [
    "sum(result>0.5)/len(result)"
   ]
  },
  {
   "cell_type": "code",
   "execution_count": 19,
   "id": "807d8f45",
   "metadata": {
    "scrolled": true
   },
   "outputs": [],
   "source": [
    "molecules_unique_to_test_set = molecules_unique_to_test_set[['organism_name', 'structure_smiles_2D']].to_numpy()"
   ]
  },
  {
   "cell_type": "code",
   "execution_count": 20,
   "id": "0473c2e3",
   "metadata": {},
   "outputs": [],
   "source": [
    "test_flow_mol = HinSAGELinkGenerator(G,\n",
    "                                 batch_size=128,\n",
    "                                num_samples=[3,1],\n",
    "                                head_node_types=[\"species\", \"molecule\"]).flow(molecules_unique_to_test_set,\n",
    "                                                                              np.ones(len(molecules_unique_to_test_set)).reshape(-1,1))"
   ]
  },
  {
   "cell_type": "code",
   "execution_count": 21,
   "id": "905e09e8",
   "metadata": {},
   "outputs": [
    {
     "name": "stdout",
     "output_type": "stream",
     "text": [
      "274/274 [==============================] - 4s 15ms/step\n",
      "274/274 [==============================] - 7s 26ms/step\n",
      "274/274 [==============================] - 5s 19ms/step\n",
      "274/274 [==============================] - 5s 17ms/step\n",
      "274/274 [==============================] - 5s 17ms/step\n",
      "274/274 [==============================] - 4s 14ms/step\n",
      "274/274 [==============================] - 4s 14ms/step\n",
      "274/274 [==============================] - 4s 14ms/step\n",
      "274/274 [==============================] - 5s 16ms/step\n",
      "274/274 [==============================] - 4s 14ms/step\n"
     ]
    }
   ],
   "source": [
    "out_mol = predict(model, test_flow_mol)"
   ]
  },
  {
   "cell_type": "code",
   "execution_count": 22,
   "id": "53250a8b",
   "metadata": {},
   "outputs": [
    {
     "data": {
      "text/plain": [
       "Text(0.5, 1.0, 'Test on unknown MOLECULES but known SPECIES')"
      ]
     },
     "execution_count": 22,
     "metadata": {},
     "output_type": "execute_result"
    },
    {
     "data": {
      "image/png": "[encoded data removed]",
      "text/plain": [
       "<Figure size 640x480 with 1 Axes>"
      ]
     },
     "metadata": {},
     "output_type": "display_data"
    }
   ],
   "source": [
    "plt.hist(out_mol, bins=30)\n",
    "plt.title(\"Test on unknown MOLECULES but known SPECIES\")"
   ]
  },
  {
   "cell_type": "code",
   "execution_count": 23,
   "id": "d19203d5",
   "metadata": {},
   "outputs": [
    {
     "data": {
      "text/plain": [
       "0.07589183626800823"
      ]
     },
     "execution_count": 23,
     "metadata": {},
     "output_type": "execute_result"
    }
   ],
   "source": [
    "sum(out_mol>0.5)/len(out_mol)"
   ]
  },
  {
   "cell_type": "code",
   "execution_count": 24,
   "id": "bcff0d25",
   "metadata": {},
   "outputs": [
    {
     "data": {
      "text/plain": [
       "array([['Panax ginseng',\n",
       "        'CC(C)=CCCC(C)(OC1OCC(O)C(O)C1O)C1CCC2(C)C1C(O)CC1C3(C)CCC(O)C(C)(C)C3C(OC3OC(CO)C(O)C(O)C3O)CC12C'],\n",
       "       ['Brickellia diffusa',\n",
       "        'CC=C(C)C(=O)OC1CC2(C)C3CC4(OC(=O)C=C4C)OC(O)C3=CCC2C(C)(C)C1OC(=O)C(C)=CC'],\n",
       "       ['Frasera speciosa', 'COc1cccc2c(=O)c3c(O)cc(O)c(OC)c3oc12'],\n",
       "       ...,\n",
       "       ['Nocardia',\n",
       "        'CCCCCCCCCCCCCC=CC(=O)N(O)CCCCCNC(=O)CCC(=O)N(O)CCCCCNC(=O)C1COC(c2ccccc2O)=N1'],\n",
       "       ['Penicillium', 'Cc1c(O)c(C(=O)O)c(O)c2c1C(C)C(C)OC2'],\n",
       "       ['Walsura yunnanensis',\n",
       "        'CC1(C)C(=O)C=CC2(C)C1=C(O)C(=O)C1(C)C2CCC2(C)C(C3=CC(=O)OC3O)CC3OC321']],\n",
       "      dtype=object)"
      ]
     },
     "execution_count": 24,
     "metadata": {},
     "output_type": "execute_result"
    }
   ],
   "source": [
    "molecules_unique_to_test_set"
   ]
  },
  {
   "cell_type": "code",
   "execution_count": 25,
   "id": "0d40e1d7",
   "metadata": {},
   "outputs": [
    {
     "data": {
      "text/plain": [
       "array([0.26901287, 0.06935064, 0.01144196, ..., 0.02541784, 0.17590931,\n",
       "       0.0109507 ], dtype=float32)"
      ]
     },
     "execution_count": 25,
     "metadata": {},
     "output_type": "execute_result"
    }
   ],
   "source": [
    "out_mol"
   ]
  },
  {
   "cell_type": "markdown",
   "id": "a51805b8",
   "metadata": {},
   "source": [
    "## Discussion \n",
    "\n",
    "As expected, we got the opposite result as before. \n",
    "\n",
    "We should then either mix these models or restart with an other library because Stellargraph only accepts one edge type for prediction. This is very interesting though and it is still very cool to see that it could work in some cases. "
   ]
  }
 ],
 "metadata": {
  "kernelspec": {
   "display_name": "Python 3 (ipykernel)",
   "language": "python",
   "name": "python3"
  },
  "language_info": {
   "codemirror_mode": {
    "name": "ipython",
    "version": 3
   },
   "file_extension": ".py",
   "mimetype": "text/x-python",
   "name": "python",
   "nbconvert_exporter": "python",
   "pygments_lexer": "ipython3",
   "version": "3.11.4"
  }
 },
 "nbformat": 4,
 "nbformat_minor": 5
}
