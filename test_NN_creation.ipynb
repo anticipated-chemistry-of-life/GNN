{
 "cells": [
  {
   "cell_type": "code",
   "execution_count": 1,
   "id": "80c49937",
   "metadata": {},
   "outputs": [],
   "source": [
    "import itertools\n",
    "import os\n",
    "\n",
    "os.environ[\"DGLBACKEND\"] = \"pytorch\"\n",
    "\n",
    "import dgl\n",
    "import torch\n",
    "import torch.nn as nn\n",
    "import torch.nn.functional as F\n",
    "import dgl.function as fn\n",
    "from dgl.nn.pytorch import edge_softmax, GraphConv"
   ]
  },
  {
   "cell_type": "code",
   "execution_count": 2,
   "id": "38b2db2e",
   "metadata": {},
   "outputs": [],
   "source": [
    "glist, label_dict = dgl.load_graphs(\"./hetero_graph.bin\")\n",
    "g = glist[0]"
   ]
  },
  {
   "cell_type": "code",
   "execution_count": 21,
   "id": "66463946",
   "metadata": {},
   "outputs": [],
   "source": [
    "class HeteroGraphConvLayer(nn.Module):\n",
    "    def __init__(self, in_size_species, in_size_molecule, out_size_species, out_size_mol):\n",
    "        super(HeteroGraphConvLayer, self).__init__()\n",
    "        self.conv = dgl.nn.HeteroGraphConv({\n",
    "            'is_present_in': dgl.nn.GraphConv(in_size_molecule, out_size_species),\n",
    "            'has': dgl.nn.GraphConv(in_size_species, out_size_mol),\n",
    "            'similar_to': dgl.nn.GraphConv(in_size_molecule, out_size_mol)\n",
    "        })\n",
    "\n",
    "    def forward(self, g, h_dict):\n",
    "        h_dict = self.conv(g, h_dict)\n",
    "        return h_dict"
   ]
  },
  {
   "cell_type": "code",
   "execution_count": 22,
   "id": "1feb00a3",
   "metadata": {},
   "outputs": [],
   "source": [
    "# Initialization\n",
    "in_size_species = 439\n",
    "in_size_molecules = 378\n",
    "hidden_size = 128\n",
    "\n",
    "out_size_species = 885  # assuming you have 885 different species to predict\n",
    "out_size_mol =4872\n",
    "\n",
    "model = HeteroGraphConvLayer(in_size_species, in_size_molecules, out_size_species, out_size_mol)\n"
   ]
  },
  {
   "cell_type": "code",
   "execution_count": 33,
   "id": "19d41e98",
   "metadata": {},
   "outputs": [],
   "source": [
    "def dot_score(x, y):\n",
    "    return (x * y).sum(1)\n",
    "\n",
    "def train(model, g, etype, epochs=100):\n",
    "    optimizer = torch.optim.Adam(model.parameters())\n",
    "    best_val_loss = float('inf')\n",
    "    best_model = None\n",
    "    \n",
    "    for epoch in range(epochs):\n",
    "        model.train()\n",
    "\n",
    "        # Get embeddings for all nodes\n",
    "        h_dict = model(g, g.ndata['h'])\n",
    "        print(h_dict['molecule'].shape)\n",
    "        \n",
    "        # Compute scores for all existing and non-existing links\n",
    "        pos_score = dot_score(h_dict['molecule'][g.edges(etype=etype)[0]],\n",
    "                              h_dict['molecule'][g.edges(etype=etype)[1]])\n",
    "        neg_score = dot_score(h_dict['species'][torch.randint(0, g.num_nodes('species'), (g.num_edges(),))],\n",
    "                              h_dict['species'][torch.randint(0, g.num_nodes('species'), (g.num_edges(),))])\n",
    "        \n",
    "        # Compute the loss\n",
    "        pos_loss = F.binary_cross_entropy_with_logits(pos_score, torch.ones(g.num_edges()))\n",
    "        neg_loss = F.binary_cross_entropy_with_logits(neg_score, torch.zeros(g.num_edges()))\n",
    "        loss = pos_loss + neg_loss\n",
    "\n",
    "        # Backward\n",
    "        optimizer.zero_grad()\n",
    "        loss.backward()\n",
    "        optimizer.step()\n",
    "        \n",
    "        print('Epoch', epoch, 'Loss', loss.item())\n",
    "\n",
    "        # Save the model with the best validation loss\n",
    "        if loss < best_val_loss:\n",
    "            best_val_loss = loss\n",
    "            best_model = copy.deepcopy(model)\n",
    "\n",
    "    return best_model"
   ]
  },
  {
   "cell_type": "code",
   "execution_count": 34,
   "id": "22fd8580",
   "metadata": {},
   "outputs": [
    {
     "name": "stdout",
     "output_type": "stream",
     "text": [
      "torch.Size([4872, 4872])\n"
     ]
    },
    {
     "ename": "ValueError",
     "evalue": "Target size (torch.Size([34212])) must be the same as input size (torch.Size([10000]))",
     "output_type": "error",
     "traceback": [
      "\u001b[0;31m---------------------------------------------------------------------------\u001b[0m",
      "\u001b[0;31mValueError\u001b[0m                                Traceback (most recent call last)",
      "Cell \u001b[0;32mIn[34], line 1\u001b[0m\n\u001b[0;32m----> 1\u001b[0m best_model \u001b[38;5;241m=\u001b[39m \u001b[43mtrain\u001b[49m\u001b[43m(\u001b[49m\u001b[43mmodel\u001b[49m\u001b[43m,\u001b[49m\u001b[43m \u001b[49m\u001b[43mg\u001b[49m\u001b[43m,\u001b[49m\u001b[43m \u001b[49m\u001b[43metype\u001b[49m\u001b[38;5;241;43m=\u001b[39;49m\u001b[38;5;124;43m'\u001b[39;49m\u001b[38;5;124;43mis_present_in\u001b[39;49m\u001b[38;5;124;43m'\u001b[39;49m\u001b[43m)\u001b[49m\n",
      "Cell \u001b[0;32mIn[33], line 23\u001b[0m, in \u001b[0;36mtrain\u001b[0;34m(model, g, etype, epochs)\u001b[0m\n\u001b[1;32m     19\u001b[0m neg_score \u001b[38;5;241m=\u001b[39m dot_score(h_dict[\u001b[38;5;124m'\u001b[39m\u001b[38;5;124mspecies\u001b[39m\u001b[38;5;124m'\u001b[39m][torch\u001b[38;5;241m.\u001b[39mrandint(\u001b[38;5;241m0\u001b[39m, g\u001b[38;5;241m.\u001b[39mnum_nodes(\u001b[38;5;124m'\u001b[39m\u001b[38;5;124mspecies\u001b[39m\u001b[38;5;124m'\u001b[39m), (g\u001b[38;5;241m.\u001b[39mnum_edges(),))],\n\u001b[1;32m     20\u001b[0m                       h_dict[\u001b[38;5;124m'\u001b[39m\u001b[38;5;124mspecies\u001b[39m\u001b[38;5;124m'\u001b[39m][torch\u001b[38;5;241m.\u001b[39mrandint(\u001b[38;5;241m0\u001b[39m, g\u001b[38;5;241m.\u001b[39mnum_nodes(\u001b[38;5;124m'\u001b[39m\u001b[38;5;124mspecies\u001b[39m\u001b[38;5;124m'\u001b[39m), (g\u001b[38;5;241m.\u001b[39mnum_edges(),))])\n\u001b[1;32m     22\u001b[0m \u001b[38;5;66;03m# Compute the loss\u001b[39;00m\n\u001b[0;32m---> 23\u001b[0m pos_loss \u001b[38;5;241m=\u001b[39m \u001b[43mF\u001b[49m\u001b[38;5;241;43m.\u001b[39;49m\u001b[43mbinary_cross_entropy_with_logits\u001b[49m\u001b[43m(\u001b[49m\u001b[43mpos_score\u001b[49m\u001b[43m,\u001b[49m\u001b[43m \u001b[49m\u001b[43mtorch\u001b[49m\u001b[38;5;241;43m.\u001b[39;49m\u001b[43mones\u001b[49m\u001b[43m(\u001b[49m\u001b[43mg\u001b[49m\u001b[38;5;241;43m.\u001b[39;49m\u001b[43mnum_edges\u001b[49m\u001b[43m(\u001b[49m\u001b[43m)\u001b[49m\u001b[43m)\u001b[49m\u001b[43m)\u001b[49m\n\u001b[1;32m     24\u001b[0m neg_loss \u001b[38;5;241m=\u001b[39m F\u001b[38;5;241m.\u001b[39mbinary_cross_entropy_with_logits(neg_score, torch\u001b[38;5;241m.\u001b[39mzeros(g\u001b[38;5;241m.\u001b[39mnum_edges()))\n\u001b[1;32m     25\u001b[0m loss \u001b[38;5;241m=\u001b[39m pos_loss \u001b[38;5;241m+\u001b[39m neg_loss\n",
      "File \u001b[0;32m/usr/local/Caskroom/mambaforge/base/envs/lotus_graph/lib/python3.11/site-packages/torch/nn/functional.py:3163\u001b[0m, in \u001b[0;36mbinary_cross_entropy_with_logits\u001b[0;34m(input, target, weight, size_average, reduce, reduction, pos_weight)\u001b[0m\n\u001b[1;32m   3160\u001b[0m     reduction_enum \u001b[38;5;241m=\u001b[39m _Reduction\u001b[38;5;241m.\u001b[39mget_enum(reduction)\n\u001b[1;32m   3162\u001b[0m \u001b[38;5;28;01mif\u001b[39;00m \u001b[38;5;129;01mnot\u001b[39;00m (target\u001b[38;5;241m.\u001b[39msize() \u001b[38;5;241m==\u001b[39m \u001b[38;5;28minput\u001b[39m\u001b[38;5;241m.\u001b[39msize()):\n\u001b[0;32m-> 3163\u001b[0m     \u001b[38;5;28;01mraise\u001b[39;00m \u001b[38;5;167;01mValueError\u001b[39;00m(\u001b[38;5;124m\"\u001b[39m\u001b[38;5;124mTarget size (\u001b[39m\u001b[38;5;132;01m{}\u001b[39;00m\u001b[38;5;124m) must be the same as input size (\u001b[39m\u001b[38;5;132;01m{}\u001b[39;00m\u001b[38;5;124m)\u001b[39m\u001b[38;5;124m\"\u001b[39m\u001b[38;5;241m.\u001b[39mformat(target\u001b[38;5;241m.\u001b[39msize(), \u001b[38;5;28minput\u001b[39m\u001b[38;5;241m.\u001b[39msize()))\n\u001b[1;32m   3165\u001b[0m \u001b[38;5;28;01mreturn\u001b[39;00m torch\u001b[38;5;241m.\u001b[39mbinary_cross_entropy_with_logits(\u001b[38;5;28minput\u001b[39m, target, weight, pos_weight, reduction_enum)\n",
      "\u001b[0;31mValueError\u001b[0m: Target size (torch.Size([34212])) must be the same as input size (torch.Size([10000]))"
     ]
    }
   ],
   "source": [
    "best_model = train(model, g, etype='is_present_in')"
   ]
  },
  {
   "cell_type": "code",
   "execution_count": 20,
   "id": "b96fc264",
   "metadata": {},
   "outputs": [
    {
     "data": {
      "text/plain": [
       "Graph(num_nodes={'molecule': 4872, 'species': 885},\n",
       "      num_edges={('molecule', 'is_present_in', 'species'): 10000, ('molecule', 'similar_to', 'molecule'): 14212, ('species', 'has', 'molecule'): 10000},\n",
       "      metagraph=[('molecule', 'species', 'is_present_in'), ('molecule', 'molecule', 'similar_to'), ('species', 'molecule', 'has')])"
      ]
     },
     "execution_count": 20,
     "metadata": {},
     "output_type": "execute_result"
    }
   ],
   "source": [
    "g"
   ]
  }
 ],
 "metadata": {
  "kernelspec": {
   "display_name": "Python 3 (ipykernel)",
   "language": "python",
   "name": "python3"
  },
  "language_info": {
   "codemirror_mode": {
    "name": "ipython",
    "version": 3
   },
   "file_extension": ".py",
   "mimetype": "text/x-python",
   "name": "python",
   "nbconvert_exporter": "python",
   "pygments_lexer": "ipython3",
   "version": "3.11.3"
  }
 },
 "nbformat": 4,
 "nbformat_minor": 5
}
