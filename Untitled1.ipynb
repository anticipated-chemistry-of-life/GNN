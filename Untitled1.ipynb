{
 "cells": [
  {
   "cell_type": "code",
   "execution_count": 1,
   "id": "f14f2f66",
   "metadata": {},
   "outputs": [],
   "source": [
    "import os\n",
    "os.environ['TF_CPP_MIN_LOG_LEVEL'] = '3' \n",
    "import networkx as nx\n",
    "import itertools\n",
    "import pandas as pd\n",
    "import numpy as np\n",
    "from stellargraph import StellarGraph\n",
    "from tensorflow import keras\n",
    "import tensorflow as tf\n",
    "import category_encoders as ce\n",
    "import stellargraph\n",
    "import stellargraph as sg\n",
    "from stellargraph.data import EdgeSplitter\n",
    "from stellargraph.mapper import HinSAGELinkGenerator\n",
    "\n",
    "import matplotlib.pyplot as plt\n",
    "from tensorflow import keras\n",
    "from tensorflow.keras import mixed_precision"
   ]
  },
  {
   "cell_type": "code",
   "execution_count": 2,
   "id": "f08b69a5",
   "metadata": {},
   "outputs": [],
   "source": [
    "g = nx.read_graphml(\"./graph/test_graph.gml\")\n",
    "species_features_dummy = pd.read_csv(\"./data/species_features.csv.gz\", index_col=0)\n",
    "molecule_features_dummy = pd.read_csv(\"./data/molecule_features.csv.gz\", index_col=0).astype(\"int8\")\n",
    "df_agg = pd.read_csv(\"./data/lotus_agg_test.csv.gz\", index_col=0)"
   ]
  },
  {
   "cell_type": "code",
   "execution_count": 3,
   "id": "e6a11057",
   "metadata": {},
   "outputs": [],
   "source": [
    "df_agg_train = pd.read_csv(\"./data/lotus_agg_train.csv.gz\", index_col=0)"
   ]
  },
  {
   "cell_type": "code",
   "execution_count": 4,
   "id": "3ca99f23",
   "metadata": {},
   "outputs": [],
   "source": [
    "g_train = nx.read_graphml(\"./graph/train_graph.gml\")\n",
    "g_merged = nx.compose(g_train, g)"
   ]
  },
  {
   "cell_type": "code",
   "execution_count": 5,
   "id": "7ed346dd",
   "metadata": {},
   "outputs": [],
   "source": [
    "G = StellarGraph.from_networkx(g_merged,\n",
    "                               node_features={'species': species_features_dummy,\n",
    "                                              'molecule':molecule_features_dummy})"
   ]
  },
  {
   "cell_type": "code",
   "execution_count": 6,
   "id": "27aec2aa",
   "metadata": {
    "scrolled": true
   },
   "outputs": [],
   "source": [
    "df= pd.concat([df_agg_train, df_agg]).reset_index(drop=True)"
   ]
  },
  {
   "cell_type": "code",
   "execution_count": 7,
   "id": "64210a65",
   "metadata": {},
   "outputs": [
    {
     "data": {
      "text/html": [
       "<div>\n",
       "<style scoped>\n",
       "    .dataframe tbody tr th:only-of-type {\n",
       "        vertical-align: middle;\n",
       "    }\n",
       "\n",
       "    .dataframe tbody tr th {\n",
       "        vertical-align: top;\n",
       "    }\n",
       "\n",
       "    .dataframe thead th {\n",
       "        text-align: right;\n",
       "    }\n",
       "</style>\n",
       "<table border=\"1\" class=\"dataframe\">\n",
       "  <thead>\n",
       "    <tr style=\"text-align: right;\">\n",
       "      <th></th>\n",
       "      <th>organism_name</th>\n",
       "      <th>structure_smiles_2D</th>\n",
       "      <th>reference_wikidata</th>\n",
       "      <th>organism_taxonomy_08genus</th>\n",
       "      <th>organism_taxonomy_07tribe</th>\n",
       "      <th>organism_taxonomy_06family</th>\n",
       "      <th>organism_taxonomy_05order</th>\n",
       "      <th>organism_taxonomy_04class</th>\n",
       "      <th>organism_taxonomy_03phylum</th>\n",
       "      <th>organism_taxonomy_02kingdom</th>\n",
       "      <th>organism_taxonomy_01domain</th>\n",
       "      <th>structure_taxonomy_classyfire_01kingdom</th>\n",
       "      <th>structure_taxonomy_classyfire_02superclass</th>\n",
       "      <th>structure_taxonomy_classyfire_03class</th>\n",
       "      <th>structure_taxonomy_classyfire_04directparent</th>\n",
       "      <th>total_papers_molecule</th>\n",
       "      <th>total_papers_species</th>\n",
       "    </tr>\n",
       "  </thead>\n",
       "  <tbody>\n",
       "    <tr>\n",
       "      <th>0</th>\n",
       "      <td>Aaptos</td>\n",
       "      <td>COc1cc2c3c(ccnc3c1OC)NC=C2</td>\n",
       "      <td>2</td>\n",
       "      <td>Aaptos</td>\n",
       "      <td>NaN</td>\n",
       "      <td>Suberitidae</td>\n",
       "      <td>Suberitida</td>\n",
       "      <td>Demospongiae</td>\n",
       "      <td>Porifera</td>\n",
       "      <td>Metazoa</td>\n",
       "      <td>Eukaryota</td>\n",
       "      <td>Organic compounds</td>\n",
       "      <td>Organoheterocyclic compounds</td>\n",
       "      <td>Diazanaphthalenes</td>\n",
       "      <td>Naphthyridines</td>\n",
       "      <td>16</td>\n",
       "      <td>2</td>\n",
       "    </tr>\n",
       "    <tr>\n",
       "      <th>1</th>\n",
       "      <td>Aaptos aaptos</td>\n",
       "      <td>CC(C)CCCC(C)C1CCC2C3=CCC4CC(O)CCC4(C)C3CCC21C</td>\n",
       "      <td>1</td>\n",
       "      <td>Aaptos</td>\n",
       "      <td>NaN</td>\n",
       "      <td>Suberitidae</td>\n",
       "      <td>Suberitida</td>\n",
       "      <td>Demospongiae</td>\n",
       "      <td>Porifera</td>\n",
       "      <td>Metazoa</td>\n",
       "      <td>Eukaryota</td>\n",
       "      <td>Organic compounds</td>\n",
       "      <td>Lipids and lipid-like molecules</td>\n",
       "      <td>Steroids and steroid derivatives</td>\n",
       "      <td>Cholesterols and derivatives</td>\n",
       "      <td>42</td>\n",
       "      <td>38</td>\n",
       "    </tr>\n",
       "    <tr>\n",
       "      <th>2</th>\n",
       "      <td>Aaptos aaptos</td>\n",
       "      <td>CC(C)CCCC(C)C1CCC2C3CCC4CC(O)CCC4(C)C3CCC12C</td>\n",
       "      <td>1</td>\n",
       "      <td>Aaptos</td>\n",
       "      <td>NaN</td>\n",
       "      <td>Suberitidae</td>\n",
       "      <td>Suberitida</td>\n",
       "      <td>Demospongiae</td>\n",
       "      <td>Porifera</td>\n",
       "      <td>Metazoa</td>\n",
       "      <td>Eukaryota</td>\n",
       "      <td>Organic compounds</td>\n",
       "      <td>Lipids and lipid-like molecules</td>\n",
       "      <td>Steroids and steroid derivatives</td>\n",
       "      <td>Cholesterols and derivatives</td>\n",
       "      <td>94</td>\n",
       "      <td>38</td>\n",
       "    </tr>\n",
       "    <tr>\n",
       "      <th>3</th>\n",
       "      <td>Aaptos aaptos</td>\n",
       "      <td>COC1=Cc2ccnc3c2C1(O)C(CC(C)=O)=NC=C3</td>\n",
       "      <td>1</td>\n",
       "      <td>Aaptos</td>\n",
       "      <td>NaN</td>\n",
       "      <td>Suberitidae</td>\n",
       "      <td>Suberitida</td>\n",
       "      <td>Demospongiae</td>\n",
       "      <td>Porifera</td>\n",
       "      <td>Metazoa</td>\n",
       "      <td>Eukaryota</td>\n",
       "      <td>Organic compounds</td>\n",
       "      <td>Organoheterocyclic compounds</td>\n",
       "      <td>Azepines</td>\n",
       "      <td>Azepines</td>\n",
       "      <td>1</td>\n",
       "      <td>38</td>\n",
       "    </tr>\n",
       "    <tr>\n",
       "      <th>4</th>\n",
       "      <td>Aaptos aaptos</td>\n",
       "      <td>COC1=Cc2ccnc3c2C1=C(OC)NC=C3</td>\n",
       "      <td>1</td>\n",
       "      <td>Aaptos</td>\n",
       "      <td>NaN</td>\n",
       "      <td>Suberitidae</td>\n",
       "      <td>Suberitida</td>\n",
       "      <td>Demospongiae</td>\n",
       "      <td>Porifera</td>\n",
       "      <td>Metazoa</td>\n",
       "      <td>Eukaryota</td>\n",
       "      <td>Organic compounds</td>\n",
       "      <td>Organoheterocyclic compounds</td>\n",
       "      <td>Azepines</td>\n",
       "      <td>Azepines</td>\n",
       "      <td>1</td>\n",
       "      <td>38</td>\n",
       "    </tr>\n",
       "    <tr>\n",
       "      <th>...</th>\n",
       "      <td>...</td>\n",
       "      <td>...</td>\n",
       "      <td>...</td>\n",
       "      <td>...</td>\n",
       "      <td>...</td>\n",
       "      <td>...</td>\n",
       "      <td>...</td>\n",
       "      <td>...</td>\n",
       "      <td>...</td>\n",
       "      <td>...</td>\n",
       "      <td>...</td>\n",
       "      <td>...</td>\n",
       "      <td>...</td>\n",
       "      <td>...</td>\n",
       "      <td>...</td>\n",
       "      <td>...</td>\n",
       "      <td>...</td>\n",
       "    </tr>\n",
       "    <tr>\n",
       "      <th>438067</th>\n",
       "      <td>Amycolatopsis</td>\n",
       "      <td>CCC(C)C1C(=O)N2NCCCC2C(=O)N(C)C(C(C)(C)O)C(=O)...</td>\n",
       "      <td>3</td>\n",
       "      <td>Amycolatopsis</td>\n",
       "      <td>NaN</td>\n",
       "      <td>Pseudonocardiaceae</td>\n",
       "      <td>Pseudonocardiales</td>\n",
       "      <td>NaN</td>\n",
       "      <td>Actinobacteria</td>\n",
       "      <td>NaN</td>\n",
       "      <td>Bacteria</td>\n",
       "      <td>Organic compounds</td>\n",
       "      <td>Organic acids and derivatives</td>\n",
       "      <td>Carboxylic acids and derivatives</td>\n",
       "      <td>Oligopeptides</td>\n",
       "      <td>3</td>\n",
       "      <td>147</td>\n",
       "    </tr>\n",
       "    <tr>\n",
       "      <th>438068</th>\n",
       "      <td>Centipeda minima</td>\n",
       "      <td>COc1cc(-c2oc3cc(O)cc(O)c3c(=O)c2OC)ccc1O</td>\n",
       "      <td>2</td>\n",
       "      <td>Centipeda</td>\n",
       "      <td>Athroismeae</td>\n",
       "      <td>Asteraceae</td>\n",
       "      <td>Asterales</td>\n",
       "      <td>Magnoliopsida</td>\n",
       "      <td>Streptophyta</td>\n",
       "      <td>Archaeplastida</td>\n",
       "      <td>Eukaryota</td>\n",
       "      <td>Organic compounds</td>\n",
       "      <td>Phenylpropanoids and polyketides</td>\n",
       "      <td>Flavonoids</td>\n",
       "      <td>3-O-methylated flavonoids</td>\n",
       "      <td>48</td>\n",
       "      <td>77</td>\n",
       "    </tr>\n",
       "    <tr>\n",
       "      <th>438069</th>\n",
       "      <td>Solidago wrightii</td>\n",
       "      <td>CC(C)C1CC=C2C(O)CCC(C)C2(C)C1OC(=O)C=Cc1ccccc1</td>\n",
       "      <td>1</td>\n",
       "      <td>Solidago</td>\n",
       "      <td>Astereae</td>\n",
       "      <td>Asteraceae</td>\n",
       "      <td>Asterales</td>\n",
       "      <td>Magnoliopsida</td>\n",
       "      <td>Streptophyta</td>\n",
       "      <td>Archaeplastida</td>\n",
       "      <td>Eukaryota</td>\n",
       "      <td>Organic compounds</td>\n",
       "      <td>Lipids and lipid-like molecules</td>\n",
       "      <td>Prenol lipids</td>\n",
       "      <td>Eremophilane, 8,9-secoeremophilane and furoere...</td>\n",
       "      <td>1</td>\n",
       "      <td>4</td>\n",
       "    </tr>\n",
       "    <tr>\n",
       "      <th>438070</th>\n",
       "      <td>Vitis aestivalis</td>\n",
       "      <td>O=C(C=Cc1ccc(O)c(O)c1)OC(C(=O)O)C(O)C(=O)O</td>\n",
       "      <td>3</td>\n",
       "      <td>Vitis</td>\n",
       "      <td>Viteae</td>\n",
       "      <td>Vitaceae</td>\n",
       "      <td>Vitales</td>\n",
       "      <td>Magnoliopsida</td>\n",
       "      <td>Streptophyta</td>\n",
       "      <td>Archaeplastida</td>\n",
       "      <td>Eukaryota</td>\n",
       "      <td>Organic compounds</td>\n",
       "      <td>Phenylpropanoids and polyketides</td>\n",
       "      <td>Cinnamic acids and derivatives</td>\n",
       "      <td>Coumaric acids and derivatives</td>\n",
       "      <td>111</td>\n",
       "      <td>61</td>\n",
       "    </tr>\n",
       "    <tr>\n",
       "      <th>438071</th>\n",
       "      <td>Saururus chinensis</td>\n",
       "      <td>CC=Cc1ccc(OC(C)C(O)c2ccc(O)c(OC)c2)c(OC)c1</td>\n",
       "      <td>8</td>\n",
       "      <td>Saururus</td>\n",
       "      <td>NaN</td>\n",
       "      <td>Saururaceae</td>\n",
       "      <td>Piperales</td>\n",
       "      <td>Magnoliopsida</td>\n",
       "      <td>Streptophyta</td>\n",
       "      <td>Archaeplastida</td>\n",
       "      <td>Eukaryota</td>\n",
       "      <td>Organic compounds</td>\n",
       "      <td>Lignans, neolignans and related compounds</td>\n",
       "      <td>NaN</td>\n",
       "      <td>Lignans, neolignans and related compounds</td>\n",
       "      <td>17</td>\n",
       "      <td>251</td>\n",
       "    </tr>\n",
       "  </tbody>\n",
       "</table>\n",
       "<p>438072 rows × 17 columns</p>\n",
       "</div>"
      ],
      "text/plain": [
       "             organism_name                                structure_smiles_2D  \\\n",
       "0                   Aaptos                         COc1cc2c3c(ccnc3c1OC)NC=C2   \n",
       "1            Aaptos aaptos      CC(C)CCCC(C)C1CCC2C3=CCC4CC(O)CCC4(C)C3CCC21C   \n",
       "2            Aaptos aaptos       CC(C)CCCC(C)C1CCC2C3CCC4CC(O)CCC4(C)C3CCC12C   \n",
       "3            Aaptos aaptos               COC1=Cc2ccnc3c2C1(O)C(CC(C)=O)=NC=C3   \n",
       "4            Aaptos aaptos                       COC1=Cc2ccnc3c2C1=C(OC)NC=C3   \n",
       "...                    ...                                                ...   \n",
       "438067       Amycolatopsis  CCC(C)C1C(=O)N2NCCCC2C(=O)N(C)C(C(C)(C)O)C(=O)...   \n",
       "438068    Centipeda minima           COc1cc(-c2oc3cc(O)cc(O)c3c(=O)c2OC)ccc1O   \n",
       "438069   Solidago wrightii     CC(C)C1CC=C2C(O)CCC(C)C2(C)C1OC(=O)C=Cc1ccccc1   \n",
       "438070    Vitis aestivalis         O=C(C=Cc1ccc(O)c(O)c1)OC(C(=O)O)C(O)C(=O)O   \n",
       "438071  Saururus chinensis         CC=Cc1ccc(OC(C)C(O)c2ccc(O)c(OC)c2)c(OC)c1   \n",
       "\n",
       "        reference_wikidata organism_taxonomy_08genus  \\\n",
       "0                        2                    Aaptos   \n",
       "1                        1                    Aaptos   \n",
       "2                        1                    Aaptos   \n",
       "3                        1                    Aaptos   \n",
       "4                        1                    Aaptos   \n",
       "...                    ...                       ...   \n",
       "438067                   3             Amycolatopsis   \n",
       "438068                   2                 Centipeda   \n",
       "438069                   1                  Solidago   \n",
       "438070                   3                     Vitis   \n",
       "438071                   8                  Saururus   \n",
       "\n",
       "       organism_taxonomy_07tribe organism_taxonomy_06family  \\\n",
       "0                            NaN                Suberitidae   \n",
       "1                            NaN                Suberitidae   \n",
       "2                            NaN                Suberitidae   \n",
       "3                            NaN                Suberitidae   \n",
       "4                            NaN                Suberitidae   \n",
       "...                          ...                        ...   \n",
       "438067                       NaN         Pseudonocardiaceae   \n",
       "438068               Athroismeae                 Asteraceae   \n",
       "438069                  Astereae                 Asteraceae   \n",
       "438070                    Viteae                   Vitaceae   \n",
       "438071                       NaN                Saururaceae   \n",
       "\n",
       "       organism_taxonomy_05order organism_taxonomy_04class  \\\n",
       "0                     Suberitida              Demospongiae   \n",
       "1                     Suberitida              Demospongiae   \n",
       "2                     Suberitida              Demospongiae   \n",
       "3                     Suberitida              Demospongiae   \n",
       "4                     Suberitida              Demospongiae   \n",
       "...                          ...                       ...   \n",
       "438067         Pseudonocardiales                       NaN   \n",
       "438068                 Asterales             Magnoliopsida   \n",
       "438069                 Asterales             Magnoliopsida   \n",
       "438070                   Vitales             Magnoliopsida   \n",
       "438071                 Piperales             Magnoliopsida   \n",
       "\n",
       "       organism_taxonomy_03phylum organism_taxonomy_02kingdom  \\\n",
       "0                        Porifera                     Metazoa   \n",
       "1                        Porifera                     Metazoa   \n",
       "2                        Porifera                     Metazoa   \n",
       "3                        Porifera                     Metazoa   \n",
       "4                        Porifera                     Metazoa   \n",
       "...                           ...                         ...   \n",
       "438067             Actinobacteria                         NaN   \n",
       "438068               Streptophyta              Archaeplastida   \n",
       "438069               Streptophyta              Archaeplastida   \n",
       "438070               Streptophyta              Archaeplastida   \n",
       "438071               Streptophyta              Archaeplastida   \n",
       "\n",
       "       organism_taxonomy_01domain structure_taxonomy_classyfire_01kingdom  \\\n",
       "0                       Eukaryota                       Organic compounds   \n",
       "1                       Eukaryota                       Organic compounds   \n",
       "2                       Eukaryota                       Organic compounds   \n",
       "3                       Eukaryota                       Organic compounds   \n",
       "4                       Eukaryota                       Organic compounds   \n",
       "...                           ...                                     ...   \n",
       "438067                   Bacteria                       Organic compounds   \n",
       "438068                  Eukaryota                       Organic compounds   \n",
       "438069                  Eukaryota                       Organic compounds   \n",
       "438070                  Eukaryota                       Organic compounds   \n",
       "438071                  Eukaryota                       Organic compounds   \n",
       "\n",
       "       structure_taxonomy_classyfire_02superclass  \\\n",
       "0                    Organoheterocyclic compounds   \n",
       "1                 Lipids and lipid-like molecules   \n",
       "2                 Lipids and lipid-like molecules   \n",
       "3                    Organoheterocyclic compounds   \n",
       "4                    Organoheterocyclic compounds   \n",
       "...                                           ...   \n",
       "438067              Organic acids and derivatives   \n",
       "438068           Phenylpropanoids and polyketides   \n",
       "438069            Lipids and lipid-like molecules   \n",
       "438070           Phenylpropanoids and polyketides   \n",
       "438071  Lignans, neolignans and related compounds   \n",
       "\n",
       "       structure_taxonomy_classyfire_03class  \\\n",
       "0                          Diazanaphthalenes   \n",
       "1           Steroids and steroid derivatives   \n",
       "2           Steroids and steroid derivatives   \n",
       "3                                   Azepines   \n",
       "4                                   Azepines   \n",
       "...                                      ...   \n",
       "438067      Carboxylic acids and derivatives   \n",
       "438068                            Flavonoids   \n",
       "438069                         Prenol lipids   \n",
       "438070        Cinnamic acids and derivatives   \n",
       "438071                                   NaN   \n",
       "\n",
       "             structure_taxonomy_classyfire_04directparent  \\\n",
       "0                                          Naphthyridines   \n",
       "1                            Cholesterols and derivatives   \n",
       "2                            Cholesterols and derivatives   \n",
       "3                                                Azepines   \n",
       "4                                                Azepines   \n",
       "...                                                   ...   \n",
       "438067                                      Oligopeptides   \n",
       "438068                          3-O-methylated flavonoids   \n",
       "438069  Eremophilane, 8,9-secoeremophilane and furoere...   \n",
       "438070                     Coumaric acids and derivatives   \n",
       "438071          Lignans, neolignans and related compounds   \n",
       "\n",
       "        total_papers_molecule  total_papers_species  \n",
       "0                          16                     2  \n",
       "1                          42                    38  \n",
       "2                          94                    38  \n",
       "3                           1                    38  \n",
       "4                           1                    38  \n",
       "...                       ...                   ...  \n",
       "438067                      3                   147  \n",
       "438068                     48                    77  \n",
       "438069                      1                     4  \n",
       "438070                    111                    61  \n",
       "438071                     17                   251  \n",
       "\n",
       "[438072 rows x 17 columns]"
      ]
     },
     "execution_count": 7,
     "metadata": {},
     "output_type": "execute_result"
    }
   ],
   "source": [
    "df"
   ]
  },
  {
   "cell_type": "code",
   "execution_count": 8,
   "id": "c3f5f373",
   "metadata": {},
   "outputs": [],
   "source": [
    "# Fetch unique species and molecules and their respective features\n",
    "unique_species_df = df.drop_duplicates(subset=['organism_name'])\n",
    "unique_molecules_df = df.drop_duplicates(subset=['structure_smiles_2D'])"
   ]
  },
  {
   "cell_type": "code",
   "execution_count": 9,
   "id": "b9424a24",
   "metadata": {},
   "outputs": [],
   "source": [
    "# Fetch the corresponding features\n",
    "species_features_df = unique_species_df[['organism_taxonomy_01domain',\n",
    "                                         'organism_taxonomy_02kingdom',\n",
    "                                         'organism_taxonomy_03phylum',\n",
    "                                         'organism_taxonomy_04class',\n",
    "                                         'organism_taxonomy_05order',\n",
    "                                         'organism_taxonomy_06family',\n",
    "                                         'organism_taxonomy_07tribe',\n",
    "                                         'organism_taxonomy_08genus',\n",
    "                                         'organism_name']]\n",
    "\n",
    "molecule_features_df = unique_molecules_df[['structure_taxonomy_classyfire_01kingdom',\n",
    "                                            'structure_taxonomy_classyfire_02superclass',\n",
    "                                            'structure_taxonomy_classyfire_03class',\n",
    "                                            'structure_taxonomy_classyfire_04directparent']]"
   ]
  },
  {
   "cell_type": "code",
   "execution_count": 10,
   "id": "0bc5ddc8",
   "metadata": {},
   "outputs": [],
   "source": [
    "molecule_features_df.index = [i for i in unique_molecules_df['structure_smiles_2D']]\n",
    "species_features_df.index = [i for i in unique_species_df['organism_name']]"
   ]
  },
  {
   "cell_type": "code",
   "execution_count": 11,
   "id": "85a7affc",
   "metadata": {},
   "outputs": [],
   "source": [
    "new_row = {'structure_taxonomy_classyfire_01kingdom':'Organic compounds',\n",
    "           'structure_taxonomy_classyfire_02superclass':'Organic acids and derivatives',\n",
    "           'structure_taxonomy_classyfire_03class':'Carboxylic acids and derivatives',\n",
    "           'structure_taxonomy_classyfire_04directparent':'Amino acids, peptides, and analogues'}"
   ]
  },
  {
   "cell_type": "code",
   "execution_count": 12,
   "id": "6061c4a1",
   "metadata": {
    "scrolled": false
   },
   "outputs": [],
   "source": [
    "molecule_features_df=molecule_features_df.append(\n",
    "    pd.DataFrame([new_row],\n",
    "                 index=['CC(C)C[C@@H]1NC(=O)C2C[C@]3(OC(C)=O)[C@H](N2C1=O)N(C(C)=O)C1=C3C=CC=C1'],\n",
    "                 columns=molecule_features_df.columns)\n",
    ")"
   ]
  },
  {
   "cell_type": "code",
   "execution_count": 13,
   "id": "5cefc0ed",
   "metadata": {},
   "outputs": [],
   "source": [
    "g_merged.add_node('CC(C)C[C@@H]1NC(=O)C2C[C@]3(OC(C)=O)[C@H](N2C1=O)N(C(C)=O)C1=C3C=CC=C1',\n",
    "                 label='molecule')"
   ]
  },
  {
   "cell_type": "code",
   "execution_count": 14,
   "id": "42003263",
   "metadata": {},
   "outputs": [],
   "source": [
    "# create features for species\n",
    "encoder_species = ce.BinaryEncoder(cols=[col for col in species_features_df.columns])\n",
    "species_features_dummy = encoder_species.fit_transform(species_features_df)\n",
    "\n",
    "\n",
    "encoder_molecule = ce.BinaryEncoder(cols=[col for col in molecule_features_df.columns])\n",
    "molecule_features_dummy = encoder_molecule.fit_transform(molecule_features_df)\n",
    "\n",
    "species_features_dummy.index = species_features_df.index\n",
    "molecule_features_dummy.index = molecule_features_df.index"
   ]
  },
  {
   "cell_type": "code",
   "execution_count": 15,
   "id": "8fa0e1a3",
   "metadata": {},
   "outputs": [],
   "source": [
    "G = StellarGraph.from_networkx(g_merged,\n",
    "                               node_features={'species': species_features_dummy,\n",
    "                                              'molecule':molecule_features_dummy})"
   ]
  },
  {
   "cell_type": "code",
   "execution_count": 16,
   "id": "5326c41c",
   "metadata": {},
   "outputs": [
    {
     "name": "stdout",
     "output_type": "stream",
     "text": [
      "StellarDiGraph: Directed multigraph\n",
      " Nodes: 184991, Edges: 876144\n",
      "\n",
      " Node types:\n",
      "  molecule: [148191]\n",
      "    Features: float32 vector, length 27\n",
      "    Edge types: molecule-present_in->species\n",
      "  species: [36800]\n",
      "    Features: float32 vector, length 80\n",
      "    Edge types: species-has->molecule\n",
      "\n",
      " Edge types:\n",
      "    species-has->molecule: [438072]\n",
      "        Weights: all 1 (default)\n",
      "        Features: none\n",
      "    molecule-present_in->species: [438072]\n",
      "        Weights: all 1 (default)\n",
      "        Features: none\n"
     ]
    }
   ],
   "source": [
    "print(G.info())\n",
    "G.check_graph_for_ml()"
   ]
  },
  {
   "cell_type": "code",
   "execution_count": 17,
   "id": "bdd98cd4",
   "metadata": {},
   "outputs": [],
   "source": [
    "model = tf.keras.models.load_model(\"./model/batch_128_layer_1024_m_to_s\", compile=True)"
   ]
  },
  {
   "cell_type": "code",
   "execution_count": 18,
   "id": "d09e9bd9",
   "metadata": {},
   "outputs": [],
   "source": [
    "test_mol= np.array([['CC(C)C[C@@H]1NC(=O)C2C[C@]3(OC(C)=O)[C@H](N2C1=O)N(C(C)=O)C1=C3C=CC=C1', 'Aspergillus ustus']])"
   ]
  },
  {
   "cell_type": "code",
   "execution_count": 19,
   "id": "79148f33",
   "metadata": {},
   "outputs": [],
   "source": [
    "test_flow = HinSAGELinkGenerator(G,\n",
    "                                 batch_size=128,\n",
    "                                num_samples=[3,1],\n",
    "                                head_node_types=[\"molecule\", \"species\"]).flow(test_mol,\n",
    "                                                                              np.ones(len(test_mol)).reshape(-1,1))"
   ]
  },
  {
   "cell_type": "code",
   "execution_count": 20,
   "id": "64bb5d3c",
   "metadata": {},
   "outputs": [],
   "source": [
    "def predict(model, flow, iterations=10):\n",
    "    predictions = []\n",
    "    _ = model.predict(flow, workers=-1).flatten()\n",
    "    for _ in range(iterations):\n",
    "        predictions.append(model.predict(flow, workers=-1).flatten())\n",
    "\n",
    "    return np.mean(predictions, axis=0)"
   ]
  },
  {
   "cell_type": "code",
   "execution_count": 21,
   "id": "7bf01215",
   "metadata": {},
   "outputs": [
    {
     "name": "stdout",
     "output_type": "stream",
     "text": [
      "1/1 [==============================] - 0s 490ms/step\n",
      "1/1 [==============================] - 0s 52ms/step\n",
      "1/1 [==============================] - 0s 40ms/step\n",
      "1/1 [==============================] - 0s 43ms/step\n",
      "1/1 [==============================] - 0s 48ms/step\n",
      "1/1 [==============================] - 0s 51ms/step\n",
      "1/1 [==============================] - 0s 35ms/step\n",
      "1/1 [==============================] - 0s 32ms/step\n",
      "1/1 [==============================] - 0s 33ms/step\n",
      "1/1 [==============================] - 0s 102ms/step\n",
      "1/1 [==============================] - 0s 65ms/step\n"
     ]
    },
    {
     "data": {
      "text/plain": [
       "array([0.65889513], dtype=float32)"
      ]
     },
     "execution_count": 21,
     "metadata": {},
     "output_type": "execute_result"
    }
   ],
   "source": [
    "predict(model, test_flow)"
   ]
  },
  {
   "cell_type": "code",
   "execution_count": 22,
   "id": "e7082977",
   "metadata": {
    "scrolled": true
   },
   "outputs": [],
   "source": [
    "new_line_species = {'organism_taxonomy_01domain': 'Eukaryota',\n",
    "                    'organism_taxonomy_02kingdom': 'Metazoa',\n",
    "                    'organism_taxonomy_03phylum': 'Chordata',\n",
    "                    'organism_taxonomy_04class': 'Ascidiacea',\n",
    "                    'organism_taxonomy_05order': 'Stolidobranchia',\n",
    "                    'organism_taxonomy_06family' : 'Styelidae',\n",
    "                    'organism_taxonomy_07tribe': np.nan,\n",
    "                    'organism_taxonomy_08genus': 'Polyandrocarpa',\n",
    "                    'organism_name': 'Polyandrocarpa sparsa'}"
   ]
  },
  {
   "cell_type": "code",
   "execution_count": 23,
   "id": "395e164b",
   "metadata": {},
   "outputs": [],
   "source": [
    "g_merged.add_node('Polyandrocarpa sparsa', label='species')"
   ]
  },
  {
   "cell_type": "code",
   "execution_count": 24,
   "id": "ec99573b",
   "metadata": {},
   "outputs": [],
   "source": [
    "species_features_df=species_features_df.append(\n",
    "    pd.DataFrame([new_line_species],\n",
    "                 index=['Polyandrocarpa sparsa'],\n",
    "                 columns=species_features_df.columns)\n",
    ")"
   ]
  },
  {
   "cell_type": "code",
   "execution_count": 25,
   "id": "3a067ab7",
   "metadata": {},
   "outputs": [],
   "source": [
    "new_row = {'structure_taxonomy_classyfire_01kingdom':'Organic compounds',\n",
    "           'structure_taxonomy_classyfire_02superclass':'Lignans, neolignans and related compounds',\n",
    "           'structure_taxonomy_classyfire_03class':np.nan,\n",
    "           'structure_taxonomy_classyfire_04directparent':'Lignans, neolignans and related compounds'}"
   ]
  },
  {
   "cell_type": "code",
   "execution_count": 26,
   "id": "b395e5c9",
   "metadata": {},
   "outputs": [],
   "source": [
    "molecule_features_df=molecule_features_df.append(\n",
    "    pd.DataFrame([new_row],\n",
    "                 index=['CN1C[C@H](Cl)[C@]23Cc4ccc(Br)cc4N(C)C2=NC[C@@H](Cl)[C@]32C1=Nc1ccccc21'],\n",
    "                 columns=molecule_features_df.columns)\n",
    ")\n",
    "g_merged.add_node('CN1C[C@H](Cl)[C@]23Cc4ccc(Br)cc4N(C)C2=NC[C@@H](Cl)[C@]32C1=Nc1ccccc21',\n",
    "                 label='molecule')"
   ]
  },
  {
   "cell_type": "code",
   "execution_count": 27,
   "id": "0d6e2028",
   "metadata": {},
   "outputs": [],
   "source": [
    "# create features for species\n",
    "encoder_species = ce.BinaryEncoder(cols=[col for col in species_features_df.columns])\n",
    "species_features_dummy = encoder_species.fit_transform(species_features_df)\n",
    "\n",
    "\n",
    "encoder_molecule = ce.BinaryEncoder(cols=[col for col in molecule_features_df.columns])\n",
    "molecule_features_dummy = encoder_molecule.fit_transform(molecule_features_df)\n",
    "\n",
    "species_features_dummy.index = species_features_df.index\n",
    "molecule_features_dummy.index = molecule_features_df.index"
   ]
  },
  {
   "cell_type": "code",
   "execution_count": 28,
   "id": "2b9b4ba1",
   "metadata": {},
   "outputs": [],
   "source": [
    "test_mol = np.array([['CN1C[C@H](Cl)[C@]23Cc4ccc(Br)cc4N(C)C2=NC[C@@H](Cl)[C@]32C1=Nc1ccccc21',\n",
    "                     'Polyandrocarpa sparsa']])"
   ]
  },
  {
   "cell_type": "code",
   "execution_count": 29,
   "id": "f9a22ce6",
   "metadata": {},
   "outputs": [],
   "source": [
    "G = StellarGraph.from_networkx(g_merged,\n",
    "                               node_features={'species': species_features_dummy,\n",
    "                                              'molecule':molecule_features_dummy})"
   ]
  },
  {
   "cell_type": "code",
   "execution_count": 30,
   "id": "527c0106",
   "metadata": {},
   "outputs": [],
   "source": [
    "test_flow = HinSAGELinkGenerator(G,\n",
    "                                 batch_size=128,\n",
    "                                num_samples=[3,1],\n",
    "                                head_node_types=[\"molecule\", \"species\"]).flow(test_mol,\n",
    "                                                                              np.ones(len(test_mol)).reshape(-1,1))"
   ]
  },
  {
   "cell_type": "code",
   "execution_count": 31,
   "id": "62c00c3a",
   "metadata": {},
   "outputs": [
    {
     "name": "stdout",
     "output_type": "stream",
     "text": [
      "1/1 [==============================] - 0s 31ms/step\n",
      "1/1 [==============================] - 0s 32ms/step\n",
      "1/1 [==============================] - 0s 107ms/step\n",
      "1/1 [==============================] - 0s 31ms/step\n",
      "1/1 [==============================] - 0s 30ms/step\n",
      "1/1 [==============================] - 0s 29ms/step\n",
      "1/1 [==============================] - 0s 30ms/step\n",
      "1/1 [==============================] - 0s 31ms/step\n",
      "1/1 [==============================] - 0s 30ms/step\n",
      "1/1 [==============================] - 0s 33ms/step\n",
      "1/1 [==============================] - 0s 30ms/step\n"
     ]
    },
    {
     "data": {
      "text/plain": [
       "array([0.41193002], dtype=float32)"
      ]
     },
     "execution_count": 31,
     "metadata": {},
     "output_type": "execute_result"
    }
   ],
   "source": [
    "predict(model, test_flow)"
   ]
  },
  {
   "cell_type": "code",
   "execution_count": 32,
   "id": "e73a1d70",
   "metadata": {},
   "outputs": [],
   "source": [
    "model_s_to_m = tf.keras.models.load_model(\"./model/batch_128_layer_1024_s_to_m/\", compile=True)"
   ]
  },
  {
   "cell_type": "code",
   "execution_count": 33,
   "id": "bb3cb47d",
   "metadata": {},
   "outputs": [],
   "source": [
    "test_sp = np.array([['Polyandrocarpa sparsa',\n",
    "                     'CN1C[C@H](Cl)[C@]23Cc4ccc(Br)cc4N(C)C2=NC[C@@H](Cl)[C@]32C1=Nc1ccccc21']])"
   ]
  },
  {
   "cell_type": "code",
   "execution_count": 34,
   "id": "c22bcf5f",
   "metadata": {},
   "outputs": [],
   "source": [
    "test_flow_sp = HinSAGELinkGenerator(G,\n",
    "                                 batch_size=128,\n",
    "                                num_samples=[3,1],\n",
    "                                head_node_types=[\"species\", \"molecule\"]).flow(test_sp,\n",
    "                                                                              np.ones(len(test_sp)).reshape(-1,1))"
   ]
  },
  {
   "cell_type": "code",
   "execution_count": 35,
   "id": "59276cc5",
   "metadata": {},
   "outputs": [
    {
     "name": "stdout",
     "output_type": "stream",
     "text": [
      "1/1 [==============================] - 0s 306ms/step\n",
      "1/1 [==============================] - 0s 31ms/step\n",
      "1/1 [==============================] - 0s 30ms/step\n",
      "1/1 [==============================] - 0s 146ms/step\n",
      "1/1 [==============================] - 0s 80ms/step\n",
      "1/1 [==============================] - 0s 48ms/step\n",
      "1/1 [==============================] - 0s 43ms/step\n",
      "1/1 [==============================] - 0s 30ms/step\n",
      "1/1 [==============================] - 0s 30ms/step\n",
      "1/1 [==============================] - 0s 33ms/step\n",
      "1/1 [==============================] - 0s 35ms/step\n"
     ]
    }
   ],
   "source": [
    "out_mol = predict(model_s_to_m, test_flow_sp)"
   ]
  },
  {
   "cell_type": "code",
   "execution_count": 36,
   "id": "e8cbba5e",
   "metadata": {},
   "outputs": [
    {
     "name": "stdout",
     "output_type": "stream",
     "text": [
      "1/1 [==============================] - 0s 32ms/step\n",
      "1/1 [==============================] - 0s 33ms/step\n",
      "1/1 [==============================] - 0s 31ms/step\n",
      "1/1 [==============================] - 0s 31ms/step\n",
      "1/1 [==============================] - 0s 31ms/step\n",
      "1/1 [==============================] - 0s 34ms/step\n",
      "1/1 [==============================] - 0s 33ms/step\n",
      "1/1 [==============================] - 0s 30ms/step\n",
      "1/1 [==============================] - 0s 31ms/step\n",
      "1/1 [==============================] - 0s 30ms/step\n",
      "1/1 [==============================] - 0s 30ms/step\n"
     ]
    }
   ],
   "source": [
    "out_sp = predict(model, test_flow)"
   ]
  },
  {
   "cell_type": "code",
   "execution_count": 37,
   "id": "80d4ef6a",
   "metadata": {},
   "outputs": [
    {
     "data": {
      "text/plain": [
       "array([0.69998956], dtype=float32)"
      ]
     },
     "execution_count": 37,
     "metadata": {},
     "output_type": "execute_result"
    }
   ],
   "source": [
    "(out_mol+out_sp)/2"
   ]
  },
  {
   "cell_type": "code",
   "execution_count": 38,
   "id": "5c24bcde",
   "metadata": {},
   "outputs": [],
   "source": [
    "def add_nodes_to_graph(G: nx.DiGraph, data: pd.DataFrame)-> nx.DiGraph :\n",
    "    '''\n",
    "    This funnction will add the missing node to the graph before prediction. Input should be a pandas dataframe\n",
    "    with one column with the species, and the other with the molecules that will be predicted. There must be a\n",
    "    column name to the input data. \n",
    "    '''\n",
    "    \n",
    "    assert len(data.columns) == 2, \"Input data must have 2 columns !\"\n",
    "    if df.columns.isnull().any():\n",
    "        raise ValueError(\"The input DataFrame has unnamed columns ! Columns should be named.\")\n",
    "    \n",
    "    first_column_set = set(data.iloc[:, 0])\n",
    "    second_column_set = set(data.iloc[:, 1])\n",
    "    \n",
    "    for name in first_column_set:\n",
    "        if name not in G:\n",
    "            G.add_node(name, label=data.columns[0])\n",
    "            \n",
    "    for name in second_column_set:\n",
    "        if name not in G:\n",
    "            G.add_node(name, label=data.columns[1])\n",
    "    \n",
    "    return G"
   ]
  },
  {
   "cell_type": "code",
   "execution_count": 39,
   "id": "7e948b80",
   "metadata": {},
   "outputs": [],
   "source": [
    "def check_which_model_to_use(G: nx.DiGraph, data: pd.DataFrame):\n",
    "    '''\n",
    "    This function will split the input data in 3 different typesof list. \n",
    "    If the molecule queried is present but not the species, it should use model_s_to_m.\n",
    "    If molecule is not known but the species is, it should use model_m_to_s.\n",
    "    If both are unknown, it should run both and average them out. \n",
    "    '''\n",
    "    assert len(data.columns) == 2, \"Input data must have 2 columns ! \"\n",
    "    \n",
    "    if data.columns[0] != 'molecule' and data.columns[0] != 'species':\n",
    "        raise ValueError(\"First column must be named either : 'molecule' or 'species' !\")\n",
    "        \n",
    "    if data.columns[1] != 'molecule' and data.columns[1] != 'species':\n",
    "        raise ValueError(\"Second column must be named either : 'molecule' or 'species' ! \")\n",
    "\n",
    "    \n",
    "    m_to_s = np.empty((1,2))\n",
    "    s_to_m = np.empty((1,2))\n",
    "    both = np.empty((1,2))\n",
    "    \n",
    "    for i, row in data.iterrows():\n",
    "        if (row['molecule'] not in G) and (row['species'] not in G):\n",
    "            both = np.append(both, row.values.reshape(1,2), axis=0)\n",
    "        \n",
    "        elif (row['molecule'] not in G) and (row['species'] in G):\n",
    "            m_to_s = np.append(m_to_s, row.values.reshape(1,2), axis=0)\n",
    "            \n",
    "        elif (row['molecule'] in G) and (row['species'] not in G):\n",
    "            s_to_m = np.append(s_to_m, row.values.reshape(1,2), axis=0)\n",
    "            \n",
    "        else:\n",
    "            both = np.append(both, row.values.reshape(1,2), axis=0)\n",
    "    \n",
    "    return m_to_s[1:], s_to_m[1:], both[1:]"
   ]
  },
  {
   "cell_type": "code",
   "execution_count": 40,
   "id": "73d44219",
   "metadata": {},
   "outputs": [],
   "source": [
    "species_features_dummy = pd.read_csv(\"./data/species_features.csv.gz\", index_col=0)\n",
    "molecule_features_dummy = pd.read_csv(\"./data/molecule_features.csv.gz\", index_col=0).astype(\"int8\")\n",
    "df_agg = pd.read_csv(\"./data/lotus_agg_test.csv.gz\", index_col=0)"
   ]
  },
  {
   "cell_type": "code",
   "execution_count": 41,
   "id": "e3c1a1be",
   "metadata": {},
   "outputs": [],
   "source": [
    "species_feat = species_features_dummy[species_features_dummy.index.isin(df_agg.organism_name)]\n",
    "molecule_feat = molecule_features_dummy[molecule_features_dummy.index.isin(df_agg.structure_smiles_2D)]\n",
    "\n",
    "df_agg_train = pd.read_csv(\"./data/lotus_agg_train.csv.gz\", index_col=0)\n",
    "\n",
    "species_unique_to_test_set = df_agg[~df_agg.organism_name.isin(df_agg_train.organism_name)]\n",
    "molecules_unique_to_test_set = df_agg[~df_agg.structure_smiles_2D.isin(df_agg_train.structure_smiles_2D)]"
   ]
  },
  {
   "cell_type": "code",
   "execution_count": 42,
   "id": "28ea80c5",
   "metadata": {},
   "outputs": [],
   "source": [
    "species_unique_to_test_set = species_unique_to_test_set[['organism_name', 'structure_smiles_2D']].to_numpy()"
   ]
  },
  {
   "cell_type": "code",
   "execution_count": 43,
   "id": "889a787d",
   "metadata": {},
   "outputs": [],
   "source": [
    "species_unique_to_test_set = pd.DataFrame(species_unique_to_test_set, columns=['species', 'molecule'])"
   ]
  },
  {
   "cell_type": "code",
   "execution_count": 44,
   "id": "381589e8",
   "metadata": {},
   "outputs": [],
   "source": [
    "m, s, both = check_which_model_to_use(g_merged, species_unique_to_test_set)"
   ]
  },
  {
   "cell_type": "code",
   "execution_count": 45,
   "id": "0ef5a7b2",
   "metadata": {},
   "outputs": [],
   "source": [
    "def nx_to_stellargraph(g: nx.DiGraph,\n",
    "                       molecule_features: pd.core.frame.DataFrame,\n",
    "                       species_features:pd.core.frame.DataFrame) -> stellargraph.core.graph.StellarDiGraph:\n",
    "    \n",
    "    if len(g.nodes()) != (len(molecule_features.index) + len(species_features.index)):\n",
    "        raise Exception(\"Number of nodes does not match number of features ! Please check your graph or your features.\")\n",
    "        \n",
    "    G = StellarGraph.from_networkx(g,\n",
    "                                   node_features={'species': species_features,\n",
    "                                                  'molecule': molecule_features})\n",
    "    G.check_graph_for_ml()\n",
    "    print(G.info())\n",
    "    \n",
    "    return G"
   ]
  },
  {
   "cell_type": "code",
   "execution_count": 46,
   "id": "7037be04",
   "metadata": {},
   "outputs": [
    {
     "data": {
      "text/plain": [
       "stellargraph.core.graph.StellarDiGraph"
      ]
     },
     "execution_count": 46,
     "metadata": {},
     "output_type": "execute_result"
    }
   ],
   "source": [
    "type(G)"
   ]
  },
  {
   "cell_type": "markdown",
   "id": "4ae1f38a",
   "metadata": {},
   "source": [
    "# TODO"
   ]
  },
  {
   "cell_type": "code",
   "execution_count": 47,
   "id": "e88db729",
   "metadata": {},
   "outputs": [
    {
     "ename": "SyntaxError",
     "evalue": "invalid syntax (2009748232.py, line 12)",
     "output_type": "error",
     "traceback": [
      "\u001b[0;36m  Cell \u001b[0;32mIn[47], line 12\u001b[0;36m\u001b[0m\n\u001b[0;31m    head_node_types=[\"species\", \"molecule\"]).flow(,\u001b[0m\n\u001b[0m                                                  ^\u001b[0m\n\u001b[0;31mSyntaxError\u001b[0m\u001b[0;31m:\u001b[0m invalid syntax\n"
     ]
    }
   ],
   "source": [
    "def create_flows(graph: stellargraph.core.graph.StellarDiGraph,\n",
    "                 data: pd.DataFrame,\n",
    "                ):\n",
    "    \n",
    "    \n",
    "    ### TODO \n",
    "    if data.columns[0] == 'molecule':\n",
    "        flow_sp = HinSAGELinkGenerator(\n",
    "            G,\n",
    "            batch_size=128,\n",
    "            num_samples=[3,1],\n",
    "            head_node_types=[\"species\", \"molecule\"]).flow(,\n",
    "                                                          np.ones(len(test_sp)).reshape(-1,1))\n",
    "    return 0"
   ]
  },
  {
   "cell_type": "code",
   "execution_count": null,
   "id": "d2b837ed",
   "metadata": {},
   "outputs": [],
   "source": [
    "def predict_using_both_models(model_m_to_s,\n",
    "                              model_s_to_m,\n",
    "                              flow_m: stellargraph.mapper.sequences.LinkSequence,\n",
    "                              flow_s: stellargraph.mapper.sequences.LinkSequence) -> np.ndarray:\n",
    "    \n",
    "    #do prediction both ways and average them. \n",
    "    a = predict(model_m_to_s, flow_m)\n",
    "    b = predict(model_s_to_m, flow_s)\n",
    "    \n",
    "    return (a+b)/2"
   ]
  },
  {
   "cell_type": "code",
   "execution_count": null,
   "id": "8d234cc7",
   "metadata": {},
   "outputs": [],
   "source": [
    "type(G)"
   ]
  }
 ],
 "metadata": {
  "kernelspec": {
   "display_name": "Python 3 (ipykernel)",
   "language": "python",
   "name": "python3"
  },
  "language_info": {
   "codemirror_mode": {
    "name": "ipython",
    "version": 3
   },
   "file_extension": ".py",
   "mimetype": "text/x-python",
   "name": "python",
   "nbconvert_exporter": "python",
   "pygments_lexer": "ipython3",
   "version": "3.10.8"
  }
 },
 "nbformat": 4,
 "nbformat_minor": 5
}
