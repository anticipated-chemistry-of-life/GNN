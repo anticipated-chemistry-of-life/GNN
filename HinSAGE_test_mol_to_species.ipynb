{
 "cells": [
  {
   "cell_type": "code",
   "execution_count": 1,
   "id": "3ab86b3d",
   "metadata": {
    "scrolled": true
   },
   "outputs": [],
   "source": [
    "import os\n",
    "os.environ['TF_CPP_MIN_LOG_LEVEL'] = '3' \n",
    "import networkx as nx\n",
    "import itertools\n",
    "import pandas as pd\n",
    "import numpy as np\n",
    "from stellargraph import StellarGraph\n",
    "from tensorflow import keras\n",
    "import tensorflow as tf\n",
    "\n",
    "import stellargraph as sg\n",
    "from stellargraph.data import EdgeSplitter\n",
    "from stellargraph.mapper import HinSAGELinkGenerator\n",
    "\n",
    "import matplotlib.pyplot as plt\n",
    "from tensorflow.keras import mixed_precision\n",
    "#mixed_precision.set_global_policy('float32')"
   ]
  },
  {
   "cell_type": "code",
   "execution_count": 2,
   "id": "9c8073a0",
   "metadata": {},
   "outputs": [],
   "source": [
    "g = nx.read_graphml(\"./graph/test_graph.gml\")\n",
    "species_features_dummy = pd.read_csv(\"./data/species_features.csv.gz\", index_col=0)\n",
    "molecule_features_dummy = pd.read_csv(\"./data/molecule_features.csv.gz\", index_col=0).astype(\"int8\")\n",
    "df_agg = pd.read_csv(\"./data/lotus_agg_test.csv.gz\", index_col=0)"
   ]
  },
  {
   "cell_type": "markdown",
   "id": "3e5a7c93-725b-499e-a33c-c3e83dd6cb86",
   "metadata": {},
   "source": [
    "rdkit = pd.read_csv(\"./data/mol_dummy_rdkit.csv.gz\", index_col=0).astype('int8')\n",
    "molecule_features_dummy = molecule_features_dummy.merge(rdkit,\n",
    "                                                        left_index=True,\n",
    "                                                        right_index=True)"
   ]
  },
  {
   "cell_type": "code",
   "execution_count": 3,
   "id": "b1819dbb-8159-4179-b42d-239becba279e",
   "metadata": {},
   "outputs": [
    {
     "name": "stderr",
     "output_type": "stream",
     "text": [
      "[14:47:52] WARNING: not removing hydrogen atom without neighbors\n",
      "[14:47:57] WARNING: not removing hydrogen atom without neighbors\n"
     ]
    }
   ],
   "source": [
    "from utils.molecules import smiles_to_fingerprint\n",
    "smiles_train = pd.read_csv(\"./data/smiles_struct_train.csv\", index_col=0)\n",
    "smiles_test = pd.read_csv(\"./data/smiles_struct_test.csv\", index_col=0)\n",
    "rdkit = smiles_to_fingerprint(pd.concat([smiles_train, smiles_test]).structure_smiles_2D, radius=2, nBits=128)"
   ]
  },
  {
   "cell_type": "code",
   "execution_count": 20,
   "id": "ef946c6d-0636-4e54-9392-2b7994b1bb2e",
   "metadata": {},
   "outputs": [],
   "source": [
    "molecule_features_dummy = molecule_features_dummy.merge(rdkit,\n",
    "                                                        left_index=True,\n",
    "                                                        right_index=True)"
   ]
  },
  {
   "cell_type": "code",
   "execution_count": 21,
   "id": "e8b35e23",
   "metadata": {},
   "outputs": [],
   "source": [
    "species_feat = species_features_dummy[species_features_dummy.index.isin(df_agg.organism_name)]\n",
    "molecule_feat = molecule_features_dummy[molecule_features_dummy.index.isin(df_agg.structure_smiles_2D)]"
   ]
  },
  {
   "cell_type": "code",
   "execution_count": 22,
   "id": "d2fa5cf0",
   "metadata": {},
   "outputs": [],
   "source": [
    "df_agg_train = pd.read_csv(\"./data/lotus_agg_train.csv.gz\", index_col=0)"
   ]
  },
  {
   "cell_type": "code",
   "execution_count": 23,
   "id": "4972634f",
   "metadata": {},
   "outputs": [],
   "source": [
    "species_unique_to_test_set = df_agg[~df_agg.organism_name.isin(df_agg_train.organism_name)]\n",
    "molecules_unique_to_test_set = df_agg[~df_agg.structure_smiles_2D.isin(df_agg_train.structure_smiles_2D)]"
   ]
  },
  {
   "cell_type": "code",
   "execution_count": 24,
   "id": "6fefa095",
   "metadata": {},
   "outputs": [
    {
     "data": {
      "text/plain": [
       "0.2360753087252851"
      ]
     },
     "execution_count": 24,
     "metadata": {},
     "output_type": "execute_result"
    }
   ],
   "source": [
    "len(molecules_unique_to_test_set)/148190"
   ]
  },
  {
   "cell_type": "code",
   "execution_count": 25,
   "id": "298d505e",
   "metadata": {},
   "outputs": [
    {
     "data": {
      "text/plain": [
       "34984"
      ]
     },
     "execution_count": 25,
     "metadata": {},
     "output_type": "execute_result"
    }
   ],
   "source": [
    "len(molecules_unique_to_test_set)"
   ]
  },
  {
   "cell_type": "code",
   "execution_count": 26,
   "id": "944a1b71",
   "metadata": {},
   "outputs": [
    {
     "data": {
      "text/plain": [
       "3057"
      ]
     },
     "execution_count": 26,
     "metadata": {},
     "output_type": "execute_result"
    }
   ],
   "source": [
    "len(species_unique_to_test_set)"
   ]
  },
  {
   "cell_type": "code",
   "execution_count": 27,
   "id": "4f0db4ea",
   "metadata": {},
   "outputs": [
    {
     "data": {
      "text/plain": [
       "0.08044736842105263"
      ]
     },
     "execution_count": 27,
     "metadata": {},
     "output_type": "execute_result"
    }
   ],
   "source": [
    "len(species_unique_to_test_set)/38000"
   ]
  },
  {
   "cell_type": "code",
   "execution_count": 28,
   "id": "4e68fe2f",
   "metadata": {},
   "outputs": [],
   "source": [
    "g_train = nx.read_graphml(\"./graph/train_graph.gml\")"
   ]
  },
  {
   "cell_type": "code",
   "execution_count": 29,
   "id": "007a1ea9",
   "metadata": {},
   "outputs": [],
   "source": [
    "g = nx.create_empty_copy(g)\n",
    "g_merged = nx.compose(g_train, g)"
   ]
  },
  {
   "cell_type": "code",
   "execution_count": 32,
   "id": "0464b2c6-af7b-43f2-8516-6bfda89746ac",
   "metadata": {},
   "outputs": [],
   "source": [
    "molecule_features_dummy = molecule_features_dummy[~molecule_features_dummy.index.duplicated(keep='first')]"
   ]
  },
  {
   "cell_type": "code",
   "execution_count": 33,
   "id": "f424c8fb",
   "metadata": {},
   "outputs": [],
   "source": [
    "#g = nx.create_empty_copy(g)\n",
    "G = StellarGraph.from_networkx(g_merged,\n",
    "                               node_features={'species': species_features_dummy,\n",
    "                                              'molecule':molecule_features_dummy})"
   ]
  },
  {
   "cell_type": "code",
   "execution_count": 34,
   "id": "a27b99f5",
   "metadata": {},
   "outputs": [
    {
     "name": "stdout",
     "output_type": "stream",
     "text": [
      "StellarDiGraph: Directed multigraph\n",
      " Nodes: 184194, Edges: 608638\n",
      "\n",
      " Node types:\n",
      "  molecule: [147747]\n",
      "    Features: float32 vector, length 155\n",
      "    Edge types: molecule-present_in->species\n",
      "  species: [36447]\n",
      "    Features: float32 vector, length 69\n",
      "    Edge types: species-has->molecule\n",
      "\n",
      " Edge types:\n",
      "    species-has->molecule: [304319]\n",
      "        Weights: all 1 (default)\n",
      "        Features: none\n",
      "    molecule-present_in->species: [304319]\n",
      "        Weights: all 1 (default)\n",
      "        Features: none\n"
     ]
    }
   ],
   "source": [
    "print(G.info())\n",
    "G.check_graph_for_ml()"
   ]
  },
  {
   "cell_type": "code",
   "execution_count": 35,
   "id": "51115395",
   "metadata": {},
   "outputs": [],
   "source": [
    "model = tf.keras.models.load_model(\"./model/gbif_batch_128_layer_1024_m_to_s_rdkit_128\", compile=True)"
   ]
  },
  {
   "cell_type": "code",
   "execution_count": 36,
   "id": "6b0ceeb8",
   "metadata": {},
   "outputs": [],
   "source": [
    "species_unique_to_test_set = species_unique_to_test_set[['structure_smiles_2D', 'organism_name']].to_numpy()"
   ]
  },
  {
   "cell_type": "code",
   "execution_count": 37,
   "id": "1bc1c129",
   "metadata": {},
   "outputs": [],
   "source": [
    "test_flow = HinSAGELinkGenerator(G,\n",
    "                                 batch_size=128,\n",
    "                                num_samples=[3,1],\n",
    "                                head_node_types=[\"molecule\", \"species\"]).flow(species_unique_to_test_set,\n",
    "                                                                              np.ones(len(species_unique_to_test_set)).reshape(-1,1))"
   ]
  },
  {
   "cell_type": "code",
   "execution_count": 38,
   "id": "209c7201",
   "metadata": {},
   "outputs": [],
   "source": [
    "def predict(model, flow, iterations=10):\n",
    "    predictions = []\n",
    "    for _ in range(iterations):\n",
    "        predictions.append(model.predict(flow, workers=-1).flatten())\n",
    "\n",
    "    return np.mean(predictions, axis=0)"
   ]
  },
  {
   "cell_type": "code",
   "execution_count": 39,
   "id": "12d2251f",
   "metadata": {},
   "outputs": [
    {
     "name": "stdout",
     "output_type": "stream",
     "text": [
      "24/24 [==============================] - 1s 18ms/step\n",
      "24/24 [==============================] - 0s 14ms/step\n",
      "24/24 [==============================] - 0s 15ms/step\n",
      "24/24 [==============================] - 0s 15ms/step\n",
      "24/24 [==============================] - 0s 15ms/step\n",
      "24/24 [==============================] - 0s 14ms/step\n",
      "24/24 [==============================] - 0s 16ms/step\n",
      "24/24 [==============================] - 0s 15ms/step\n",
      "24/24 [==============================] - 0s 14ms/step\n",
      "24/24 [==============================] - 0s 14ms/step\n"
     ]
    }
   ],
   "source": [
    "result = predict(model, test_flow)"
   ]
  },
  {
   "cell_type": "code",
   "execution_count": 40,
   "id": "4224f503",
   "metadata": {
    "scrolled": true
   },
   "outputs": [
    {
     "data": {
      "text/plain": [
       "0.6908734052993131"
      ]
     },
     "execution_count": 40,
     "metadata": {},
     "output_type": "execute_result"
    }
   ],
   "source": [
    "sum(result>0.5)/len(result)"
   ]
  },
  {
   "cell_type": "code",
   "execution_count": 41,
   "id": "8b5534f9",
   "metadata": {
    "scrolled": true
   },
   "outputs": [
    {
     "data": {
      "text/plain": [
       "Text(0.5, 1.0, 'Test on unknown SPECIES but known MOLECULES')"
      ]
     },
     "execution_count": 41,
     "metadata": {},
     "output_type": "execute_result"
    },
    {
     "data": {
      "image/png": "[encoded data removed]",
      "text/plain": [
       "<Figure size 640x480 with 1 Axes>"
      ]
     },
     "metadata": {},
     "output_type": "display_data"
    }
   ],
   "source": [
    "plt.hist(result, bins=30)\n",
    "plt.title(\"Test on unknown SPECIES but known MOLECULES\")"
   ]
  },
  {
   "cell_type": "code",
   "execution_count": 42,
   "id": "fd8ab658",
   "metadata": {},
   "outputs": [],
   "source": [
    "test = result[(result>0.9) | (result<0.1)]\n",
    "test = test>0.5\n",
    "test = test.astype('int8')"
   ]
  },
  {
   "cell_type": "code",
   "execution_count": 43,
   "id": "aa903743",
   "metadata": {
    "scrolled": true
   },
   "outputs": [],
   "source": [
    "molecules_unique_to_test_set = molecules_unique_to_test_set[['structure_smiles_2D', 'organism_name']].to_numpy()"
   ]
  },
  {
   "cell_type": "code",
   "execution_count": 44,
   "id": "83b8cc35",
   "metadata": {},
   "outputs": [],
   "source": [
    "test_flow_mol = HinSAGELinkGenerator(G,\n",
    "                                 batch_size=128,\n",
    "                                num_samples=[3,1],\n",
    "                                head_node_types=[\"molecule\", \"species\"]).flow(molecules_unique_to_test_set,\n",
    "                                                                              np.ones(len(molecules_unique_to_test_set)).reshape(-1,1))"
   ]
  },
  {
   "cell_type": "code",
   "execution_count": 45,
   "id": "f92f2826",
   "metadata": {},
   "outputs": [
    {
     "name": "stdout",
     "output_type": "stream",
     "text": [
      "274/274 [==============================] - 4s 15ms/step\n",
      "274/274 [==============================] - 5s 19ms/step\n",
      "274/274 [==============================] - 4s 16ms/step\n",
      "274/274 [==============================] - 4s 14ms/step\n",
      "274/274 [==============================] - 4s 14ms/step\n",
      "274/274 [==============================] - 4s 15ms/step\n",
      "274/274 [==============================] - 4s 14ms/step\n",
      "274/274 [==============================] - 4s 15ms/step\n",
      "274/274 [==============================] - 4s 15ms/step\n",
      "274/274 [==============================] - 5s 17ms/step\n"
     ]
    }
   ],
   "source": [
    "out_mol = predict(model, test_flow_mol)"
   ]
  },
  {
   "cell_type": "code",
   "execution_count": 46,
   "id": "2921d241",
   "metadata": {},
   "outputs": [
    {
     "data": {
      "text/plain": [
       "Text(0.5, 1.0, 'Test on unknown MOLECULES but known SPECIES')"
      ]
     },
     "execution_count": 46,
     "metadata": {},
     "output_type": "execute_result"
    },
    {
     "data": {
      "image/png": "[encoded data removed]",
      "text/plain": [
       "<Figure size 640x480 with 1 Axes>"
      ]
     },
     "metadata": {},
     "output_type": "display_data"
    }
   ],
   "source": [
    "plt.hist(out_mol, bins=50)\n",
    "plt.title(\"Test on unknown MOLECULES but known SPECIES\")"
   ]
  },
  {
   "cell_type": "code",
   "execution_count": 47,
   "id": "152c0a20",
   "metadata": {},
   "outputs": [
    {
     "data": {
      "text/plain": [
       "0.9174765607134691"
      ]
     },
     "execution_count": 47,
     "metadata": {},
     "output_type": "execute_result"
    }
   ],
   "source": [
    "sum(out_mol>0.5)/len(out_mol)"
   ]
  },
  {
   "cell_type": "code",
   "execution_count": 48,
   "id": "cdae65dc",
   "metadata": {},
   "outputs": [
    {
     "data": {
      "text/plain": [
       "array([['CC(C)=CCCC(C)(OC1OCC(O)C(O)C1O)C1CCC2(C)C1C(O)CC1C3(C)CCC(O)C(C)(C)C3C(OC3OC(CO)C(O)C(O)C3O)CC12C',\n",
       "        'Panax ginseng'],\n",
       "       ['CC=C(C)C(=O)OC1CC2(C)C3CC4(OC(=O)C=C4C)OC(O)C3=CCC2C(C)(C)C1OC(=O)C(C)=CC',\n",
       "        'Brickellia diffusa'],\n",
       "       ['COc1cccc2c(=O)c3c(O)cc(O)c(OC)c3oc12', 'Frasera speciosa'],\n",
       "       ...,\n",
       "       ['CCCCCCCCCCCCCC=CC(=O)N(O)CCCCCNC(=O)CCC(=O)N(O)CCCCCNC(=O)C1COC(c2ccccc2O)=N1',\n",
       "        'Nocardia'],\n",
       "       ['Cc1c(O)c(C(=O)O)c(O)c2c1C(C)C(C)OC2', 'Penicillium'],\n",
       "       ['CC1(C)C(=O)C=CC2(C)C1=C(O)C(=O)C1(C)C2CCC2(C)C(C3=CC(=O)OC3O)CC3OC321',\n",
       "        'Walsura yunnanensis']], dtype=object)"
      ]
     },
     "execution_count": 48,
     "metadata": {},
     "output_type": "execute_result"
    }
   ],
   "source": [
    "molecules_unique_to_test_set"
   ]
  },
  {
   "cell_type": "code",
   "execution_count": 49,
   "id": "7e2cd07a",
   "metadata": {},
   "outputs": [
    {
     "data": {
      "text/plain": [
       "array([0.98210317, 0.9628844 , 0.9613045 , ..., 0.9936434 , 0.9953643 ,\n",
       "       0.93307865], dtype=float32)"
      ]
     },
     "execution_count": 49,
     "metadata": {},
     "output_type": "execute_result"
    }
   ],
   "source": [
    "out_mol"
   ]
  },
  {
   "cell_type": "markdown",
   "id": "3e8dc2b9",
   "metadata": {},
   "source": [
    "## Discussion\n",
    "\n",
    "It seems like the model predicts well new molecules on known species but if new species are added, it is not able to predict which molecules will be present. \n",
    "\n",
    "This seems to be due to the fact that the model has been trained to predict on edges `present_in` in a \"directed\" way. So if the model has a new molecule, it takes its embeddings and is able to predict weather that molecule will be present or not.\n",
    "\n",
    "I will try to create an other model that predicts the edges on `has` type. I expect it to have the opposite result. "
   ]
  }
 ],
 "metadata": {
  "kernelspec": {
   "display_name": "Python 3 (ipykernel)",
   "language": "python",
   "name": "python3"
  },
  "language_info": {
   "codemirror_mode": {
    "name": "ipython",
    "version": 3
   },
   "file_extension": ".py",
   "mimetype": "text/x-python",
   "name": "python",
   "nbconvert_exporter": "python",
   "pygments_lexer": "ipython3",
   "version": "3.11.4"
  }
 },
 "nbformat": 4,
 "nbformat_minor": 5
}
