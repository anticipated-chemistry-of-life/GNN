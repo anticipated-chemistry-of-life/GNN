{
 "cells": [
  {
   "cell_type": "code",
   "execution_count": 1,
   "id": "3ab86b3d",
   "metadata": {
    "scrolled": true
   },
   "outputs": [],
   "source": [
    "import os\n",
    "os.environ['TF_CPP_MIN_LOG_LEVEL'] = '3' \n",
    "import networkx as nx\n",
    "import itertools\n",
    "import pandas as pd\n",
    "import numpy as np\n",
    "from stellargraph import StellarGraph\n",
    "from tensorflow import keras\n",
    "import tensorflow as tf\n",
    "\n",
    "import stellargraph as sg\n",
    "from stellargraph.data import EdgeSplitter\n",
    "from stellargraph.mapper import HinSAGELinkGenerator\n",
    "\n",
    "import matplotlib.pyplot as plt\n",
    "from tensorflow.keras import mixed_precision"
   ]
  },
  {
   "cell_type": "code",
   "execution_count": 2,
   "id": "9c8073a0",
   "metadata": {},
   "outputs": [],
   "source": [
    "g = nx.read_graphml(\"./graph/test_graph.gml\")\n",
    "species_features_dummy = pd.read_csv(\"./data/species_features.csv.gz\", index_col=0)\n",
    "molecule_features_dummy = pd.read_csv(\"./data/molecule_features.csv.gz\", index_col=0)\n",
    "df_agg = pd.read_csv(\"./data/lotus_agg_test.csv.gz\", index_col=0)"
   ]
  },
  {
   "cell_type": "code",
   "execution_count": 3,
   "id": "362a0707-3827-4f4f-8eed-018da3795a1d",
   "metadata": {},
   "outputs": [],
   "source": [
    "from utils.encoding import binary_encode_df\n",
    "\n",
    "species_features_dummy = binary_encode_df(species_features_dummy)\n",
    "molecule_features_dummy = binary_encode_df(molecule_features_dummy)"
   ]
  },
  {
   "cell_type": "code",
   "execution_count": 4,
   "id": "d77709dc-7c36-4345-b0ea-f1bf2bac9349",
   "metadata": {},
   "outputs": [],
   "source": [
    "rdkit = pd.read_csv(\"./data/mol_dummy_rdkit.csv.gz\", index_col=0)\n",
    "molecule_features_dummy = molecule_features_dummy.merge(rdkit,\n",
    "                                                        left_index=True,\n",
    "                                                        right_index=True)"
   ]
  },
  {
   "cell_type": "code",
   "execution_count": 5,
   "id": "e8b35e23",
   "metadata": {},
   "outputs": [],
   "source": [
    "species_feat = species_features_dummy[species_features_dummy.index.isin(df_agg.organism_name)]\n",
    "molecule_feat = molecule_features_dummy[molecule_features_dummy.index.isin(df_agg.structure_smiles_2D)]"
   ]
  },
  {
   "cell_type": "code",
   "execution_count": 6,
   "id": "d2fa5cf0",
   "metadata": {},
   "outputs": [],
   "source": [
    "df_agg_train = pd.read_csv(\"./data/lotus_agg_train.csv.gz\", index_col=0)"
   ]
  },
  {
   "cell_type": "code",
   "execution_count": 32,
   "id": "4972634f",
   "metadata": {},
   "outputs": [],
   "source": [
    "species_unique_to_test_set = df_agg[~df_agg.organism_name.isin(df_agg_train.organism_name)]\n",
    "molecules_unique_to_test_set = df_agg[~df_agg.structure_smiles_2D.isin(df_agg_train.structure_smiles_2D)]"
   ]
  },
  {
   "cell_type": "code",
   "execution_count": 8,
   "id": "6fefa095",
   "metadata": {},
   "outputs": [
    {
     "data": {
      "text/plain": [
       "0.2360753087252851"
      ]
     },
     "execution_count": 8,
     "metadata": {},
     "output_type": "execute_result"
    }
   ],
   "source": [
    "len(molecules_unique_to_test_set)/148190"
   ]
  },
  {
   "cell_type": "code",
   "execution_count": 9,
   "id": "298d505e",
   "metadata": {},
   "outputs": [
    {
     "data": {
      "text/plain": [
       "34984"
      ]
     },
     "execution_count": 9,
     "metadata": {},
     "output_type": "execute_result"
    }
   ],
   "source": [
    "len(molecules_unique_to_test_set)"
   ]
  },
  {
   "cell_type": "code",
   "execution_count": 10,
   "id": "944a1b71",
   "metadata": {},
   "outputs": [
    {
     "data": {
      "text/plain": [
       "3057"
      ]
     },
     "execution_count": 10,
     "metadata": {},
     "output_type": "execute_result"
    }
   ],
   "source": [
    "len(species_unique_to_test_set)"
   ]
  },
  {
   "cell_type": "code",
   "execution_count": 11,
   "id": "4f0db4ea",
   "metadata": {},
   "outputs": [
    {
     "data": {
      "text/plain": [
       "0.08044736842105263"
      ]
     },
     "execution_count": 11,
     "metadata": {},
     "output_type": "execute_result"
    }
   ],
   "source": [
    "len(species_unique_to_test_set)/38000"
   ]
  },
  {
   "cell_type": "code",
   "execution_count": 12,
   "id": "4e68fe2f",
   "metadata": {},
   "outputs": [],
   "source": [
    "g_train = nx.read_graphml(\"./graph/train_graph.gml\")"
   ]
  },
  {
   "cell_type": "code",
   "execution_count": 13,
   "id": "007a1ea9",
   "metadata": {},
   "outputs": [],
   "source": [
    "g = nx.create_empty_copy(g)\n",
    "g_merged = nx.compose(g_train, g)"
   ]
  },
  {
   "cell_type": "code",
   "execution_count": 14,
   "id": "0464b2c6-af7b-43f2-8516-6bfda89746ac",
   "metadata": {},
   "outputs": [],
   "source": [
    "molecule_features_dummy = molecule_features_dummy[~molecule_features_dummy.index.duplicated(keep='first')]"
   ]
  },
  {
   "cell_type": "code",
   "execution_count": 15,
   "id": "f424c8fb",
   "metadata": {},
   "outputs": [],
   "source": [
    "#g = nx.create_empty_copy(g)\n",
    "G = StellarGraph.from_networkx(g_merged,\n",
    "                               node_features={'species': species_features_dummy,\n",
    "                                              'molecule':molecule_features_dummy})"
   ]
  },
  {
   "cell_type": "code",
   "execution_count": 16,
   "id": "a27b99f5",
   "metadata": {},
   "outputs": [
    {
     "name": "stdout",
     "output_type": "stream",
     "text": [
      "StellarDiGraph: Directed multigraph\n",
      " Nodes: 184194, Edges: 608638\n",
      "\n",
      " Node types:\n",
      "  molecule: [147747]\n",
      "    Features: float32 vector, length 155\n",
      "    Edge types: molecule-present_in->species\n",
      "  species: [36447]\n",
      "    Features: float32 vector, length 69\n",
      "    Edge types: species-has->molecule\n",
      "\n",
      " Edge types:\n",
      "    species-has->molecule: [304319]\n",
      "        Weights: all 1 (default)\n",
      "        Features: none\n",
      "    molecule-present_in->species: [304319]\n",
      "        Weights: all 1 (default)\n",
      "        Features: none\n"
     ]
    }
   ],
   "source": [
    "print(G.info())\n",
    "G.check_graph_for_ml()"
   ]
  },
  {
   "cell_type": "code",
   "execution_count": 17,
   "id": "51115395",
   "metadata": {},
   "outputs": [],
   "source": [
    "model = tf.keras.models.load_model(\"./model/gbif_batch_128_layer_1024_m_to_s\", compile=True)"
   ]
  },
  {
   "cell_type": "code",
   "execution_count": 18,
   "id": "6b0ceeb8",
   "metadata": {},
   "outputs": [],
   "source": [
    "species_unique_to_test_set = species_unique_to_test_set[['structure_smiles_2D', 'organism_name']].to_numpy()"
   ]
  },
  {
   "cell_type": "code",
   "execution_count": 54,
   "id": "209c7201",
   "metadata": {},
   "outputs": [],
   "source": [
    "def predict(model, flow, iterations=10):\n",
    "    predictions = []\n",
    "    for _ in range(iterations):\n",
    "        predictions.append(model.predict(flow, workers=-1).flatten())\n",
    "\n",
    "    return np.mean(predictions, axis=0)"
   ]
  },
  {
   "cell_type": "code",
   "execution_count": 21,
   "id": "12d2251f",
   "metadata": {},
   "outputs": [
    {
     "name": "stdout",
     "output_type": "stream",
     "text": [
      "24/24 [==============================] - 1s 19ms/step\n",
      "24/24 [==============================] - 0s 16ms/step\n",
      "24/24 [==============================] - 0s 16ms/step\n",
      "24/24 [==============================] - 0s 15ms/step\n",
      "24/24 [==============================] - 0s 17ms/step\n",
      "24/24 [==============================] - 0s 16ms/step\n",
      "24/24 [==============================] - 1s 20ms/step\n",
      "24/24 [==============================] - 0s 18ms/step\n",
      "24/24 [==============================] - 0s 15ms/step\n",
      "24/24 [==============================] - 0s 15ms/step\n"
     ]
    }
   ],
   "source": [
    "result = predict(model, test_flow)"
   ]
  },
  {
   "cell_type": "code",
   "execution_count": 22,
   "id": "4224f503",
   "metadata": {
    "scrolled": true
   },
   "outputs": [
    {
     "data": {
      "text/plain": [
       "0.741249591102388"
      ]
     },
     "execution_count": 22,
     "metadata": {},
     "output_type": "execute_result"
    }
   ],
   "source": [
    "sum(result>0.5)/len(result)"
   ]
  },
  {
   "cell_type": "code",
   "execution_count": 23,
   "id": "8b5534f9",
   "metadata": {},
   "outputs": [
    {
     "data": {
      "text/plain": [
       "Text(0.5, 1.0, 'Test on unknown SPECIES but known MOLECULES')"
      ]
     },
     "execution_count": 23,
     "metadata": {},
     "output_type": "execute_result"
    },
    {
     "data": {
      "image/png": "[encoded data removed]",
      "text/plain": [
       "<Figure size 640x480 with 1 Axes>"
      ]
     },
     "metadata": {},
     "output_type": "display_data"
    }
   ],
   "source": [
    "plt.hist(result, bins=30)\n",
    "plt.title(\"Test on unknown SPECIES but known MOLECULES\")"
   ]
  },
  {
   "cell_type": "code",
   "execution_count": null,
   "id": "d4fd1a35-4d2d-4d10-82d8-be1df1ffac7f",
   "metadata": {},
   "outputs": [],
   "source": [
    "test_flow = HinSAGELinkGenerator(G,\n",
    "                                 batch_size=128,\n",
    "                                num_samples=[3,1],\n",
    "                                head_node_types=[\"molecule\", \"species\"]).flow(species_unique_to_test_set,\n",
    "                                                                              np.ones(len(species_unique_to_test_set)).reshape(-1,1))"
   ]
  },
  {
   "cell_type": "code",
   "execution_count": 24,
   "id": "fd8ab658",
   "metadata": {},
   "outputs": [],
   "source": [
    "test = result[(result>0.9) | (result<0.1)]\n",
    "test = test>0.5\n",
    "test = test.astype('int8')"
   ]
  },
  {
   "cell_type": "code",
   "execution_count": 25,
   "id": "aa903743",
   "metadata": {
    "scrolled": true
   },
   "outputs": [],
   "source": [
    "molecules_unique_to_test_set = molecules_unique_to_test_set[['structure_smiles_2D', 'organism_name']].to_numpy()"
   ]
  },
  {
   "cell_type": "code",
   "execution_count": 26,
   "id": "83b8cc35",
   "metadata": {},
   "outputs": [],
   "source": [
    "test_flow_mol = HinSAGELinkGenerator(G,\n",
    "                                 batch_size=128,\n",
    "                                num_samples=[3,1],\n",
    "                                head_node_types=[\"molecule\", \"species\"]).flow(molecules_unique_to_test_set,\n",
    "                                                                              np.ones(len(molecules_unique_to_test_set)).reshape(-1,1))"
   ]
  },
  {
   "cell_type": "code",
   "execution_count": 27,
   "id": "f92f2826",
   "metadata": {},
   "outputs": [
    {
     "name": "stdout",
     "output_type": "stream",
     "text": [
      "274/274 [==============================] - 4s 14ms/step\n",
      "274/274 [==============================] - 4s 15ms/step\n",
      "274/274 [==============================] - 4s 14ms/step\n",
      "274/274 [==============================] - 4s 14ms/step\n",
      "274/274 [==============================] - 4s 15ms/step\n",
      "274/274 [==============================] - 4s 14ms/step\n",
      "274/274 [==============================] - 4s 14ms/step\n",
      "274/274 [==============================] - 4s 14ms/step\n",
      "274/274 [==============================] - 4s 14ms/step\n",
      "274/274 [==============================] - 4s 14ms/step\n"
     ]
    }
   ],
   "source": [
    "out_mol = predict(model, test_flow_mol)"
   ]
  },
  {
   "cell_type": "code",
   "execution_count": 28,
   "id": "2921d241",
   "metadata": {},
   "outputs": [
    {
     "data": {
      "text/plain": [
       "Text(0.5, 1.0, 'Test on unknown MOLECULES but known SPECIES')"
      ]
     },
     "execution_count": 28,
     "metadata": {},
     "output_type": "execute_result"
    },
    {
     "data": {
      "image/png": "[encoded data removed]",
      "text/plain": [
       "<Figure size 640x480 with 1 Axes>"
      ]
     },
     "metadata": {},
     "output_type": "display_data"
    }
   ],
   "source": [
    "plt.hist(out_mol, bins=50)\n",
    "plt.title(\"Test on unknown MOLECULES but known SPECIES\")"
   ]
  },
  {
   "cell_type": "code",
   "execution_count": 29,
   "id": "152c0a20",
   "metadata": {},
   "outputs": [
    {
     "data": {
      "text/plain": [
       "0.9254802195289276"
      ]
     },
     "execution_count": 29,
     "metadata": {},
     "output_type": "execute_result"
    }
   ],
   "source": [
    "sum(out_mol>0.5)/len(out_mol)"
   ]
  },
  {
   "cell_type": "code",
   "execution_count": 57,
   "id": "cdae65dc",
   "metadata": {},
   "outputs": [],
   "source": [
    "from utils.utils import predict"
   ]
  },
  {
   "cell_type": "code",
   "execution_count": 44,
   "id": "82b0d764-f6af-4b20-bde8-516ffdf39158",
   "metadata": {
    "scrolled": true
   },
   "outputs": [],
   "source": [
    "molecules_unique_to_test_set = molecules_unique_to_test_set[['structure_smiles_2D', 'organism_name']].copy()\n",
    "molecules_unique_to_test_set.rename(columns={'structure_smiles_2D':'molecule',\n",
    "                                             'organism_name':'species'}, inplace=True)"
   ]
  },
  {
   "cell_type": "code",
   "execution_count": 46,
   "id": "7e2cd07a",
   "metadata": {},
   "outputs": [],
   "source": [
    "model_m_to_s = tf.keras.models.load_model(\"./model/gbif_batch_128_layer_1024_m_to_s\", compile=True)\n",
    "model_s_to_m = tf.keras.models.load_model(\"./model/gbif_batch_128_layer_1024_s_to_m\", compile=True)"
   ]
  },
  {
   "cell_type": "code",
   "execution_count": 47,
   "id": "f50a907d-2f70-4f51-a118-e90412da9d84",
   "metadata": {},
   "outputs": [],
   "source": [
    "species_features_dummy = pd.read_csv(\"./data/species_features.csv.gz\", index_col=0)\n",
    "molecule_features_dummy = pd.read_csv(\"./data/molecule_features.csv.gz\", index_col=0)\n",
    "df_agg = pd.read_csv(\"./data/lotus_agg_test.csv.gz\", index_col=0)"
   ]
  },
  {
   "cell_type": "code",
   "execution_count": 48,
   "id": "e1f8b34e-5de3-4ec4-b36a-4a412587622f",
   "metadata": {},
   "outputs": [],
   "source": [
    "rdkit = pd.read_csv(\"./data/mol_dummy_rdkit.csv.gz\", index_col=0).astype('uint8')\n",
    "rdkit.columns = rdkit.columns.astype(str)"
   ]
  },
  {
   "cell_type": "code",
   "execution_count": 55,
   "id": "b3cb5453-4b05-4eda-be19-06d222c10739",
   "metadata": {},
   "outputs": [],
   "source": [
    "g_train = nx.read_graphml(\"./graph/train_graph.gml\")\n",
    "g = nx.read_graphml(\"./graph/test_graph.gml\")\n",
    "#g  = nx.create_empty_copy(g)\n",
    "g_merged = nx.compose(g_train, g)"
   ]
  },
  {
   "cell_type": "code",
   "execution_count": 58,
   "id": "f2c22fd5-6714-4ef5-b695-de8743b1cf64",
   "metadata": {},
   "outputs": [
    {
     "name": "stdout",
     "output_type": "stream",
     "text": [
      "Converting Inchikeys to SMILES...\n",
      "Getting missing features...\n",
      "Converting species taxonomy as numeric...\n",
      "Converting molecules as numeric...\n",
      "Checking which model should be used for each row...\n",
      "Adding missing nodes to the graph...\n",
      "Converting NetworkX to Stellargraph...\n",
      "StellarDiGraph: Directed multigraph\n",
      " Nodes: 184194, Edges: 869484\n",
      "\n",
      " Node types:\n",
      "  molecule: [147747]\n",
      "    Features: float32 vector, length 155\n",
      "    Edge types: molecule-present_in->species\n",
      "  species: [36447]\n",
      "    Features: float32 vector, length 69\n",
      "    Edge types: species-has->molecule\n",
      "\n",
      " Edge types:\n",
      "    species-has->molecule: [434742]\n",
      "        Weights: all 1 (default)\n",
      "        Features: none\n",
      "    molecule-present_in->species: [434742]\n",
      "        Weights: all 1 (default)\n",
      "        Features: none\n",
      "Creating 'forward', 'backward' flow for KNOWN molecule AND species...\n",
      "Predict both : running molecule to species predictions...\n",
      "35/35 [==============================] - 5s 142ms/step\n",
      "35/35 [==============================] - 7s 195ms/step\n",
      "35/35 [==============================] - 5s 140ms/step\n",
      "35/35 [==============================] - 5s 134ms/step\n",
      "35/35 [==============================] - 6s 182ms/step\n",
      "35/35 [==============================] - 8s 220ms/step\n",
      "35/35 [==============================] - 5s 152ms/step\n",
      "Predict both : running species to molecules prediction...\n",
      "35/35 [==============================] - 5s 138ms/step\n",
      "35/35 [==============================] - 5s 146ms/step\n",
      "35/35 [==============================] - 6s 175ms/step\n",
      "35/35 [==============================] - 5s 155ms/step\n",
      "35/35 [==============================] - 5s 138ms/step\n",
      "35/35 [==============================] - 7s 185ms/step\n",
      "35/35 [==============================] - 5s 148ms/step\n"
     ]
    }
   ],
   "source": [
    "out = predict(g_merged,\n",
    "                model_m_to_s,\n",
    "                model_s_to_m,\n",
    "                molecules_unique_to_test_set,\n",
    "                molecule_features_dummy,\n",
    "                rdkit,\n",
    "                species_features_dummy\n",
    "               )"
   ]
  },
  {
   "cell_type": "code",
   "execution_count": 59,
   "id": "0e1b54fc-92e2-4327-9d1c-e9aa603e4a54",
   "metadata": {},
   "outputs": [
    {
     "data": {
      "text/plain": [
       "(array([2.000e+00, 0.000e+00, 0.000e+00, 0.000e+00, 0.000e+00, 0.000e+00,\n",
       "        0.000e+00, 0.000e+00, 0.000e+00, 0.000e+00, 0.000e+00, 0.000e+00,\n",
       "        0.000e+00, 0.000e+00, 0.000e+00, 0.000e+00, 0.000e+00, 0.000e+00,\n",
       "        0.000e+00, 0.000e+00, 0.000e+00, 0.000e+00, 1.000e+00, 0.000e+00,\n",
       "        1.000e+00, 1.000e+00, 0.000e+00, 0.000e+00, 0.000e+00, 0.000e+00,\n",
       "        0.000e+00, 1.000e+00, 0.000e+00, 1.000e+00, 1.000e+00, 0.000e+00,\n",
       "        1.000e+00, 1.000e+00, 1.000e+00, 0.000e+00, 1.000e+00, 0.000e+00,\n",
       "        1.000e+00, 2.000e+00, 0.000e+00, 0.000e+00, 0.000e+00, 0.000e+00,\n",
       "        2.000e+00, 1.000e+00, 0.000e+00, 0.000e+00, 2.000e+00, 2.000e+00,\n",
       "        1.000e+00, 3.000e+00, 1.000e+00, 0.000e+00, 0.000e+00, 1.000e+00,\n",
       "        3.000e+00, 4.000e+00, 0.000e+00, 2.000e+00, 4.000e+00, 2.000e+00,\n",
       "        3.000e+00, 1.000e+00, 0.000e+00, 4.000e+00, 0.000e+00, 2.000e+00,\n",
       "        3.000e+00, 0.000e+00, 4.000e+00, 1.000e+01, 3.000e+00, 6.000e+00,\n",
       "        5.000e+00, 4.000e+00, 2.000e+00, 3.000e+00, 4.000e+00, 6.000e+00,\n",
       "        1.500e+01, 1.100e+01, 1.100e+01, 6.000e+00, 1.400e+01, 7.000e+00,\n",
       "        1.000e+01, 9.000e+00, 1.200e+01, 1.400e+01, 1.400e+01, 1.200e+01,\n",
       "        1.500e+01, 1.500e+01, 1.300e+01, 1.700e+01, 1.400e+01, 1.700e+01,\n",
       "        1.900e+01, 1.800e+01, 1.900e+01, 1.000e+01, 2.100e+01, 2.100e+01,\n",
       "        2.000e+01, 2.200e+01, 2.800e+01, 1.800e+01, 2.600e+01, 2.300e+01,\n",
       "        2.700e+01, 2.600e+01, 2.400e+01, 3.500e+01, 3.500e+01, 3.400e+01,\n",
       "        2.100e+01, 3.300e+01, 4.200e+01, 3.900e+01, 2.100e+01, 3.000e+01,\n",
       "        4.300e+01, 4.500e+01, 4.800e+01, 4.700e+01, 5.000e+01, 5.300e+01,\n",
       "        5.700e+01, 4.600e+01, 5.900e+01, 5.400e+01, 6.700e+01, 6.400e+01,\n",
       "        8.000e+01, 8.400e+01, 8.400e+01, 1.010e+02, 7.900e+01, 8.500e+01,\n",
       "        9.100e+01, 9.500e+01, 9.600e+01, 1.120e+02, 1.230e+02, 1.080e+02,\n",
       "        1.230e+02, 1.070e+02, 9.800e+01, 1.020e+02, 1.450e+02, 1.500e+02,\n",
       "        1.510e+02, 1.750e+02, 1.500e+02, 1.860e+02, 1.740e+02, 1.840e+02,\n",
       "        1.920e+02, 1.940e+02, 2.080e+02, 2.300e+02, 2.330e+02, 2.780e+02,\n",
       "        2.510e+02, 2.630e+02, 2.600e+02, 2.800e+02, 2.890e+02, 3.230e+02,\n",
       "        3.400e+02, 3.600e+02, 3.320e+02, 3.910e+02, 4.250e+02, 3.830e+02,\n",
       "        4.030e+02, 4.410e+02, 4.460e+02, 4.970e+02, 4.860e+02, 5.540e+02,\n",
       "        6.000e+02, 5.900e+02, 6.290e+02, 7.420e+02, 8.320e+02, 9.250e+02,\n",
       "        9.840e+02, 1.169e+03, 1.325e+03, 1.722e+03, 2.214e+03, 3.086e+03,\n",
       "        4.188e+03, 3.462e+03]),\n",
       " array([0.26038742, 0.26408494, 0.26778246, 0.27147998, 0.2751775 ,\n",
       "        0.27887501, 0.28257253, 0.28627005, 0.28996757, 0.29366509,\n",
       "        0.29736261, 0.30106013, 0.30475765, 0.30845516, 0.31215268,\n",
       "        0.3158502 , 0.31954772, 0.32324524, 0.32694276, 0.33064028,\n",
       "        0.33433779, 0.33803531, 0.34173283, 0.34543035, 0.34912787,\n",
       "        0.35282539, 0.35652291, 0.36022043, 0.36391794, 0.36761546,\n",
       "        0.37131298, 0.3750105 , 0.37870802, 0.38240554, 0.38610306,\n",
       "        0.38980058, 0.39349809, 0.39719561, 0.40089313, 0.40459065,\n",
       "        0.40828817, 0.41198569, 0.41568321, 0.41938073, 0.42307824,\n",
       "        0.42677576, 0.43047328, 0.4341708 , 0.43786832, 0.44156584,\n",
       "        0.44526336, 0.44896087, 0.45265839, 0.45635591, 0.46005343,\n",
       "        0.46375095, 0.46744847, 0.47114599, 0.47484351, 0.47854102,\n",
       "        0.48223854, 0.48593606, 0.48963358, 0.4933311 , 0.49702862,\n",
       "        0.50072614, 0.50442366, 0.50812117, 0.51181869, 0.51551621,\n",
       "        0.51921373, 0.52291125, 0.52660877, 0.53030629, 0.5340038 ,\n",
       "        0.53770132, 0.54139884, 0.54509636, 0.54879388, 0.5524914 ,\n",
       "        0.55618892, 0.55988644, 0.56358395, 0.56728147, 0.57097899,\n",
       "        0.57467651, 0.57837403, 0.58207155, 0.58576907, 0.58946659,\n",
       "        0.5931641 , 0.59686162, 0.60055914, 0.60425666, 0.60795418,\n",
       "        0.6116517 , 0.61534922, 0.61904674, 0.62274425, 0.62644177,\n",
       "        0.63013929, 0.63383681, 0.63753433, 0.64123185, 0.64492937,\n",
       "        0.64862688, 0.6523244 , 0.65602192, 0.65971944, 0.66341696,\n",
       "        0.66711448, 0.670812  , 0.67450952, 0.67820703, 0.68190455,\n",
       "        0.68560207, 0.68929959, 0.69299711, 0.69669463, 0.70039215,\n",
       "        0.70408967, 0.70778718, 0.7114847 , 0.71518222, 0.71887974,\n",
       "        0.72257726, 0.72627478, 0.7299723 , 0.73366982, 0.73736733,\n",
       "        0.74106485, 0.74476237, 0.74845989, 0.75215741, 0.75585493,\n",
       "        0.75955245, 0.76324996, 0.76694748, 0.770645  , 0.77434252,\n",
       "        0.77804004, 0.78173756, 0.78543508, 0.7891326 , 0.79283011,\n",
       "        0.79652763, 0.80022515, 0.80392267, 0.80762019, 0.81131771,\n",
       "        0.81501523, 0.81871275, 0.82241026, 0.82610778, 0.8298053 ,\n",
       "        0.83350282, 0.83720034, 0.84089786, 0.84459538, 0.84829289,\n",
       "        0.85199041, 0.85568793, 0.85938545, 0.86308297, 0.86678049,\n",
       "        0.87047801, 0.87417553, 0.87787304, 0.88157056, 0.88526808,\n",
       "        0.8889656 , 0.89266312, 0.89636064, 0.90005816, 0.90375568,\n",
       "        0.90745319, 0.91115071, 0.91484823, 0.91854575, 0.92224327,\n",
       "        0.92594079, 0.92963831, 0.93333583, 0.93703334, 0.94073086,\n",
       "        0.94442838, 0.9481259 , 0.95182342, 0.95552094, 0.95921846,\n",
       "        0.96291597, 0.96661349, 0.97031101, 0.97400853, 0.97770605,\n",
       "        0.98140357, 0.98510109, 0.98879861, 0.99249612, 0.99619364,\n",
       "        0.99989116]),\n",
       " <BarContainer object of 200 artists>)"
      ]
     },
     "execution_count": 59,
     "metadata": {},
     "output_type": "execute_result"
    },
    {
     "data": {
      "image/png": "[encoded data removed]",
      "text/plain": [
       "<Figure size 640x480 with 1 Axes>"
      ]
     },
     "metadata": {},
     "output_type": "display_data"
    }
   ],
   "source": [
    "plt.hist(out.prob, bins=200)"
   ]
  },
  {
   "cell_type": "code",
   "execution_count": 60,
   "id": "b4ecb367-6e3b-41cc-af1a-cebb252bfeb6",
   "metadata": {},
   "outputs": [
    {
     "data": {
      "text/html": [
       "<div>\n",
       "<style scoped>\n",
       "    .dataframe tbody tr th:only-of-type {\n",
       "        vertical-align: middle;\n",
       "    }\n",
       "\n",
       "    .dataframe tbody tr th {\n",
       "        vertical-align: top;\n",
       "    }\n",
       "\n",
       "    .dataframe thead th {\n",
       "        text-align: right;\n",
       "    }\n",
       "</style>\n",
       "<table border=\"1\" class=\"dataframe\">\n",
       "  <thead>\n",
       "    <tr style=\"text-align: right;\">\n",
       "      <th></th>\n",
       "      <th>molecule</th>\n",
       "      <th>species</th>\n",
       "      <th>model</th>\n",
       "      <th>prob</th>\n",
       "    </tr>\n",
       "  </thead>\n",
       "  <tbody>\n",
       "    <tr>\n",
       "      <th>2</th>\n",
       "      <td>COc1cccc2c(=O)c3c(O)cc(O)c(OC)c3oc12</td>\n",
       "      <td>Frasera speciosa</td>\n",
       "      <td>both_known</td>\n",
       "      <td>0.994434</td>\n",
       "    </tr>\n",
       "    <tr>\n",
       "      <th>3</th>\n",
       "      <td>C=CC(C)(C)OCC1NC(=O)C2CCCN2C(=O)C(C(C)C)NC(=O)...</td>\n",
       "      <td>Lissoclinum patella</td>\n",
       "      <td>both_known</td>\n",
       "      <td>0.994601</td>\n",
       "    </tr>\n",
       "    <tr>\n",
       "      <th>4</th>\n",
       "      <td>C=CCc1cc(C(C)Cc2ccc(OC)c(OC)c2)c(OC)cc1O</td>\n",
       "      <td>Aniba lancifolia</td>\n",
       "      <td>both_known</td>\n",
       "      <td>0.975056</td>\n",
       "    </tr>\n",
       "    <tr>\n",
       "      <th>5</th>\n",
       "      <td>C=C1C2C3C(=O)OCC3C1(C)CCC2C(C)(C)O</td>\n",
       "      <td>Pyrenophora dematioidea</td>\n",
       "      <td>both_known</td>\n",
       "      <td>0.998083</td>\n",
       "    </tr>\n",
       "    <tr>\n",
       "      <th>6</th>\n",
       "      <td>COc1ccc(CC2COC(=O)C2C(O)c2ccc3c(c2)OCO3)cc1OC</td>\n",
       "      <td>Micranthemum umbrosum</td>\n",
       "      <td>both_known</td>\n",
       "      <td>0.954027</td>\n",
       "    </tr>\n",
       "    <tr>\n",
       "      <th>...</th>\n",
       "      <td>...</td>\n",
       "      <td>...</td>\n",
       "      <td>...</td>\n",
       "      <td>...</td>\n",
       "    </tr>\n",
       "    <tr>\n",
       "      <th>34979</th>\n",
       "      <td>CC(=O)OC1CC(OC(C)=O)C2(C)C(OC(C)=O)C=CC(CCl)=C...</td>\n",
       "      <td>Junceella fragilis</td>\n",
       "      <td>both_known</td>\n",
       "      <td>0.997826</td>\n",
       "    </tr>\n",
       "    <tr>\n",
       "      <th>34980</th>\n",
       "      <td>C=C1CCC2C(C)(C(=O)O)CCCC2(C)C1CCCC(=O)CO</td>\n",
       "      <td>Pinus armandii</td>\n",
       "      <td>both_known</td>\n",
       "      <td>0.975280</td>\n",
       "    </tr>\n",
       "    <tr>\n",
       "      <th>34981</th>\n",
       "      <td>CCCCCCCCCCCCCC=CC(=O)N(O)CCCCCNC(=O)CCC(=O)N(O...</td>\n",
       "      <td>Nocardia</td>\n",
       "      <td>both_known</td>\n",
       "      <td>0.991955</td>\n",
       "    </tr>\n",
       "    <tr>\n",
       "      <th>34982</th>\n",
       "      <td>Cc1c(O)c(C(=O)O)c(O)c2c1C(C)C(C)OC2</td>\n",
       "      <td>Penicillium</td>\n",
       "      <td>both_known</td>\n",
       "      <td>0.989203</td>\n",
       "    </tr>\n",
       "    <tr>\n",
       "      <th>34983</th>\n",
       "      <td>CC1(C)C(=O)C=CC2(C)C1=C(O)C(=O)C1(C)C2CCC2(C)C...</td>\n",
       "      <td>Walsura yunnanensis</td>\n",
       "      <td>both_known</td>\n",
       "      <td>0.993248</td>\n",
       "    </tr>\n",
       "  </tbody>\n",
       "</table>\n",
       "<p>22188 rows × 4 columns</p>\n",
       "</div>"
      ],
      "text/plain": [
       "                                                molecule  \\\n",
       "2                   COc1cccc2c(=O)c3c(O)cc(O)c(OC)c3oc12   \n",
       "3      C=CC(C)(C)OCC1NC(=O)C2CCCN2C(=O)C(C(C)C)NC(=O)...   \n",
       "4               C=CCc1cc(C(C)Cc2ccc(OC)c(OC)c2)c(OC)cc1O   \n",
       "5                     C=C1C2C3C(=O)OCC3C1(C)CCC2C(C)(C)O   \n",
       "6          COc1ccc(CC2COC(=O)C2C(O)c2ccc3c(c2)OCO3)cc1OC   \n",
       "...                                                  ...   \n",
       "34979  CC(=O)OC1CC(OC(C)=O)C2(C)C(OC(C)=O)C=CC(CCl)=C...   \n",
       "34980           C=C1CCC2C(C)(C(=O)O)CCCC2(C)C1CCCC(=O)CO   \n",
       "34981  CCCCCCCCCCCCCC=CC(=O)N(O)CCCCCNC(=O)CCC(=O)N(O...   \n",
       "34982                Cc1c(O)c(C(=O)O)c(O)c2c1C(C)C(C)OC2   \n",
       "34983  CC1(C)C(=O)C=CC2(C)C1=C(O)C(=O)C1(C)C2CCC2(C)C...   \n",
       "\n",
       "                       species       model      prob  \n",
       "2             Frasera speciosa  both_known  0.994434  \n",
       "3          Lissoclinum patella  both_known  0.994601  \n",
       "4             Aniba lancifolia  both_known  0.975056  \n",
       "5      Pyrenophora dematioidea  both_known  0.998083  \n",
       "6        Micranthemum umbrosum  both_known  0.954027  \n",
       "...                        ...         ...       ...  \n",
       "34979       Junceella fragilis  both_known  0.997826  \n",
       "34980           Pinus armandii  both_known  0.975280  \n",
       "34981                 Nocardia  both_known  0.991955  \n",
       "34982              Penicillium  both_known  0.989203  \n",
       "34983      Walsura yunnanensis  both_known  0.993248  \n",
       "\n",
       "[22188 rows x 4 columns]"
      ]
     },
     "execution_count": 60,
     "metadata": {},
     "output_type": "execute_result"
    }
   ],
   "source": [
    "out[out.prob>0.95]"
   ]
  },
  {
   "cell_type": "markdown",
   "id": "3e8dc2b9",
   "metadata": {},
   "source": [
    "## Discussion\n",
    "\n",
    "It seems like the model predicts well new molecules on known species but if new species are added, it is not able to predict which molecules will be present. \n",
    "\n",
    "This seems to be due to the fact that the model has been trained to predict on edges `present_in` in a \"directed\" way. So if the model has a new molecule, it takes its embeddings and is able to predict weather that molecule will be present or not.\n",
    "\n",
    "I will try to create an other model that predicts the edges on `has` type. I expect it to have the opposite result. "
   ]
  }
 ],
 "metadata": {
  "kernelspec": {
   "display_name": "Python 3 (ipykernel)",
   "language": "python",
   "name": "python3"
  },
  "language_info": {
   "codemirror_mode": {
    "name": "ipython",
    "version": 3
   },
   "file_extension": ".py",
   "mimetype": "text/x-python",
   "name": "python",
   "nbconvert_exporter": "python",
   "pygments_lexer": "ipython3",
   "version": "3.11.4"
  }
 },
 "nbformat": 4,
 "nbformat_minor": 5
}
