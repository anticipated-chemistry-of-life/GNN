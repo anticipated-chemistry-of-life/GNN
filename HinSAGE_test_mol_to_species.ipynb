{
 "cells": [
  {
   "cell_type": "code",
   "execution_count": 1,
   "id": "3ab86b3d",
   "metadata": {
    "scrolled": true
   },
   "outputs": [],
   "source": [
    "import os\n",
    "os.environ['TF_CPP_MIN_LOG_LEVEL'] = '3' \n",
    "import networkx as nx\n",
    "import itertools\n",
    "import pandas as pd\n",
    "import numpy as np\n",
    "from stellargraph import StellarGraph\n",
    "from tensorflow import keras\n",
    "import tensorflow as tf\n",
    "\n",
    "import stellargraph as sg\n",
    "from stellargraph.data import EdgeSplitter\n",
    "from stellargraph.mapper import HinSAGELinkGenerator\n",
    "\n",
    "import matplotlib.pyplot as plt\n",
    "from tensorflow.keras import mixed_precision\n",
    "#mixed_precision.set_global_policy('float32')"
   ]
  },
  {
   "cell_type": "code",
   "execution_count": 2,
   "id": "9c8073a0",
   "metadata": {},
   "outputs": [],
   "source": [
    "g = nx.read_graphml(\"./graph/test_graph.gml\")\n",
    "species_features_dummy = pd.read_csv(\"./data/species_features.csv.gz\", index_col=0)\n",
    "#species_features_dummy = pd.read_csv(\"./data/species_BaseNEncoder.csv.gz\", index_col=0)\n",
    "#species_features_dummy = pd.read_csv(\"./data/species_Multi_dim_scale.csv.gz\", index_col=0)\n",
    "molecule_features_dummy = pd.read_csv(\"./data/molecule_features.csv.gz\", index_col=0).astype(\"int8\")\n",
    "df_agg = pd.read_csv(\"./data/lotus_agg_test.csv.gz\", index_col=0)\n",
    "#molecule_features_dummy = pd.read_csv(\"./data/molecule_features_dummy.csv.gz\", index_col=0).astype('int8')"
   ]
  },
  {
   "cell_type": "code",
   "execution_count": 3,
   "id": "e8b35e23",
   "metadata": {},
   "outputs": [],
   "source": [
    "species_feat = species_features_dummy[species_features_dummy.index.isin(df_agg.organism_name)]\n",
    "molecule_feat = molecule_features_dummy[molecule_features_dummy.index.isin(df_agg.structure_smiles_2D)]"
   ]
  },
  {
   "cell_type": "code",
   "execution_count": 4,
   "id": "d2fa5cf0",
   "metadata": {},
   "outputs": [],
   "source": [
    "df_agg_train = pd.read_csv(\"./data/lotus_agg_train.csv.gz\", index_col=0)"
   ]
  },
  {
   "cell_type": "code",
   "execution_count": 5,
   "id": "4972634f",
   "metadata": {},
   "outputs": [],
   "source": [
    "species_unique_to_test_set = df_agg[~df_agg.organism_name.isin(df_agg_train.organism_name)]\n",
    "molecules_unique_to_test_set = df_agg[~df_agg.structure_smiles_2D.isin(df_agg_train.structure_smiles_2D)]"
   ]
  },
  {
   "cell_type": "code",
   "execution_count": 6,
   "id": "6fefa095",
   "metadata": {},
   "outputs": [
    {
     "data": {
      "text/plain": [
       "0.23863958431743032"
      ]
     },
     "execution_count": 6,
     "metadata": {},
     "output_type": "execute_result"
    }
   ],
   "source": [
    "len(molecules_unique_to_test_set)/148190"
   ]
  },
  {
   "cell_type": "code",
   "execution_count": 27,
   "id": "298d505e",
   "metadata": {},
   "outputs": [
    {
     "data": {
      "text/plain": [
       "35364"
      ]
     },
     "execution_count": 27,
     "metadata": {},
     "output_type": "execute_result"
    }
   ],
   "source": [
    "len(molecules_unique_to_test_set)"
   ]
  },
  {
   "cell_type": "code",
   "execution_count": 28,
   "id": "944a1b71",
   "metadata": {},
   "outputs": [
    {
     "data": {
      "text/plain": [
       "3241"
      ]
     },
     "execution_count": 28,
     "metadata": {},
     "output_type": "execute_result"
    }
   ],
   "source": [
    "len(species_unique_to_test_set)"
   ]
  },
  {
   "cell_type": "code",
   "execution_count": 7,
   "id": "4f0db4ea",
   "metadata": {},
   "outputs": [
    {
     "data": {
      "text/plain": [
       "0.08528947368421053"
      ]
     },
     "execution_count": 7,
     "metadata": {},
     "output_type": "execute_result"
    }
   ],
   "source": [
    "len(species_unique_to_test_set)/38000"
   ]
  },
  {
   "cell_type": "code",
   "execution_count": 8,
   "id": "4e68fe2f",
   "metadata": {},
   "outputs": [],
   "source": [
    "g_train = nx.read_graphml(\"./graph/train_graph.gml\")"
   ]
  },
  {
   "cell_type": "code",
   "execution_count": 9,
   "id": "007a1ea9",
   "metadata": {},
   "outputs": [],
   "source": [
    "g = nx.create_empty_copy(g)\n",
    "g_merged = nx.compose(g_train, g)"
   ]
  },
  {
   "cell_type": "code",
   "execution_count": 10,
   "id": "f424c8fb",
   "metadata": {},
   "outputs": [],
   "source": [
    "#g = nx.create_empty_copy(g)\n",
    "G = StellarGraph.from_networkx(g_merged,\n",
    "                               node_features={'species': species_features_dummy,\n",
    "                                              'molecule':molecule_features_dummy})"
   ]
  },
  {
   "cell_type": "code",
   "execution_count": 11,
   "id": "a27b99f5",
   "metadata": {},
   "outputs": [
    {
     "name": "stdout",
     "output_type": "stream",
     "text": [
      "StellarDiGraph: Directed multigraph\n",
      " Nodes: 184990, Edges: 613300\n",
      "\n",
      " Node types:\n",
      "  molecule: [148190]\n",
      "    Features: float32 vector, length 27\n",
      "    Edge types: molecule-present_in->species\n",
      "  species: [36800]\n",
      "    Features: float32 vector, length 80\n",
      "    Edge types: species-has->molecule\n",
      "\n",
      " Edge types:\n",
      "    species-has->molecule: [306650]\n",
      "        Weights: all 1 (default)\n",
      "        Features: none\n",
      "    molecule-present_in->species: [306650]\n",
      "        Weights: all 1 (default)\n",
      "        Features: none\n"
     ]
    }
   ],
   "source": [
    "print(G.info())\n",
    "G.check_graph_for_ml()"
   ]
  },
  {
   "cell_type": "code",
   "execution_count": 12,
   "id": "51115395",
   "metadata": {},
   "outputs": [],
   "source": [
    "model = tf.keras.models.load_model(\"./model/batch_128_layer_1024_m_to_s\", compile=True)"
   ]
  },
  {
   "cell_type": "code",
   "execution_count": 13,
   "id": "6b0ceeb8",
   "metadata": {},
   "outputs": [],
   "source": [
    "species_unique_to_test_set = species_unique_to_test_set[['structure_smiles_2D', 'organism_name']].to_numpy()"
   ]
  },
  {
   "cell_type": "code",
   "execution_count": 14,
   "id": "1bc1c129",
   "metadata": {},
   "outputs": [],
   "source": [
    "test_flow = HinSAGELinkGenerator(G,\n",
    "                                 batch_size=128,\n",
    "                                num_samples=[3,1],\n",
    "                                head_node_types=[\"molecule\", \"species\"]).flow(species_unique_to_test_set,\n",
    "                                                                              np.ones(len(species_unique_to_test_set)).reshape(-1,1))"
   ]
  },
  {
   "cell_type": "code",
   "execution_count": 15,
   "id": "209c7201",
   "metadata": {},
   "outputs": [],
   "source": [
    "def predict(model, flow, iterations=10):\n",
    "    predictions = []\n",
    "    for _ in range(iterations):\n",
    "        predictions.append(model.predict(flow, workers=-1).flatten())\n",
    "\n",
    "    return np.mean(predictions, axis=0)"
   ]
  },
  {
   "cell_type": "code",
   "execution_count": 16,
   "id": "12d2251f",
   "metadata": {},
   "outputs": [
    {
     "name": "stdout",
     "output_type": "stream",
     "text": [
      "26/26 [==============================] - 1s 37ms/step\n",
      "26/26 [==============================] - 0s 16ms/step\n",
      "26/26 [==============================] - 0s 15ms/step\n",
      "26/26 [==============================] - 0s 16ms/step\n",
      "26/26 [==============================] - 0s 15ms/step\n",
      "26/26 [==============================] - 0s 16ms/step\n",
      "26/26 [==============================] - 0s 15ms/step\n",
      "26/26 [==============================] - 0s 16ms/step\n",
      "26/26 [==============================] - 0s 14ms/step\n",
      "26/26 [==============================] - 0s 14ms/step\n"
     ]
    }
   ],
   "source": [
    "result = predict(model, test_flow)"
   ]
  },
  {
   "cell_type": "code",
   "execution_count": 17,
   "id": "4224f503",
   "metadata": {
    "scrolled": true
   },
   "outputs": [
    {
     "data": {
      "text/plain": [
       "0.3103980253008331"
      ]
     },
     "execution_count": 17,
     "metadata": {},
     "output_type": "execute_result"
    }
   ],
   "source": [
    "sum(result>0.5)/len(result)"
   ]
  },
  {
   "cell_type": "code",
   "execution_count": 18,
   "id": "8b5534f9",
   "metadata": {
    "scrolled": true
   },
   "outputs": [
    {
     "data": {
      "text/plain": [
       "Text(0.5, 1.0, 'Test on unknown SPECIES but known MOLECULES')"
      ]
     },
     "execution_count": 18,
     "metadata": {},
     "output_type": "execute_result"
    },
    {
     "data": {
      "image/png": "[encoded data removed]",
      "text/plain": [
       "<Figure size 640x480 with 1 Axes>"
      ]
     },
     "metadata": {},
     "output_type": "display_data"
    }
   ],
   "source": [
    "plt.hist(result, bins=30)\n",
    "plt.title(\"Test on unknown SPECIES but known MOLECULES\")"
   ]
  },
  {
   "cell_type": "code",
   "execution_count": 19,
   "id": "fd8ab658",
   "metadata": {},
   "outputs": [],
   "source": [
    "test = result[(result>0.9) | (result<0.1)]\n",
    "test = test>0.5\n",
    "test = test.astype('int8')"
   ]
  },
  {
   "cell_type": "code",
   "execution_count": 20,
   "id": "aa903743",
   "metadata": {
    "scrolled": true
   },
   "outputs": [],
   "source": [
    "molecules_unique_to_test_set = molecules_unique_to_test_set[['structure_smiles_2D', 'organism_name']].to_numpy()"
   ]
  },
  {
   "cell_type": "code",
   "execution_count": 21,
   "id": "83b8cc35",
   "metadata": {},
   "outputs": [],
   "source": [
    "test_flow_mol = HinSAGELinkGenerator(G,\n",
    "                                 batch_size=128,\n",
    "                                num_samples=[3,1],\n",
    "                                head_node_types=[\"molecule\", \"species\"]).flow(molecules_unique_to_test_set,\n",
    "                                                                              np.ones(len(molecules_unique_to_test_set)).reshape(-1,1))"
   ]
  },
  {
   "cell_type": "code",
   "execution_count": 22,
   "id": "f92f2826",
   "metadata": {},
   "outputs": [
    {
     "name": "stdout",
     "output_type": "stream",
     "text": [
      "277/277 [==============================] - 4s 15ms/step\n",
      "277/277 [==============================] - 4s 16ms/step\n",
      "277/277 [==============================] - 5s 19ms/step\n",
      "277/277 [==============================] - 4s 14ms/step\n",
      "277/277 [==============================] - 4s 13ms/step\n",
      "277/277 [==============================] - 4s 14ms/step\n",
      "277/277 [==============================] - 4s 14ms/step\n",
      "277/277 [==============================] - 4s 13ms/step\n",
      "277/277 [==============================] - 5s 17ms/step\n",
      "277/277 [==============================] - 4s 15ms/step\n"
     ]
    }
   ],
   "source": [
    "out_mol = predict(model, test_flow_mol)"
   ]
  },
  {
   "cell_type": "code",
   "execution_count": 23,
   "id": "2921d241",
   "metadata": {},
   "outputs": [
    {
     "data": {
      "text/plain": [
       "Text(0.5, 1.0, 'Test on unknown MOLECULES but known SPECIES')"
      ]
     },
     "execution_count": 23,
     "metadata": {},
     "output_type": "execute_result"
    },
    {
     "data": {
      "image/png": "[encoded data removed]",
      "text/plain": [
       "<Figure size 640x480 with 1 Axes>"
      ]
     },
     "metadata": {},
     "output_type": "display_data"
    }
   ],
   "source": [
    "plt.hist(out_mol, bins=50)\n",
    "plt.title(\"Test on unknown MOLECULES but known SPECIES\")"
   ]
  },
  {
   "cell_type": "code",
   "execution_count": 24,
   "id": "152c0a20",
   "metadata": {},
   "outputs": [
    {
     "data": {
      "text/plain": [
       "0.8870885646420088"
      ]
     },
     "execution_count": 24,
     "metadata": {},
     "output_type": "execute_result"
    }
   ],
   "source": [
    "sum(out_mol>0.5)/len(out_mol)"
   ]
  },
  {
   "cell_type": "code",
   "execution_count": 25,
   "id": "cdae65dc",
   "metadata": {},
   "outputs": [
    {
     "data": {
      "text/plain": [
       "array([['CC=CC1C=CC2CC(CO)CCC2C1(C)C(O)=C1C(=O)NC(C)(C(C)O)C1=O',\n",
       "        'Cordyceps farinosa'],\n",
       "       ['CC(=O)C(C)=CC=CC(C)=CC=CC=C(C)C=CC=C(C)C=CC1=C(C)CC(O)CC1(C)C',\n",
       "        'Persea americana'],\n",
       "       ['CC1OC(Oc2cc(O)c3c(=O)c(O)c(-c4ccc(OC5OC(C)C(O)C(O)C5OC5OCC(O)C(O)C5O)cc4)oc3c2)C(O)C(O)C1O',\n",
       "        'Chenopodium murale'],\n",
       "       ...,\n",
       "       ['CC(=CCOc1cc(O)c(C(=O)c2ccccc2)c(O)c1)CCCC(C)(C)O',\n",
       "        'Hypericum sampsonii'],\n",
       "       ['CCC(C)C1C(=O)N2NCCCC2C(=O)N(C)C(C(C)(C)O)C(=O)N2NCC(O)CC2C(=O)N(C)CC(=O)NC(Cc2ccccc2)C(=O)N1O',\n",
       "        'Amycolatopsis'],\n",
       "       ['CC(C)C1CC=C2C(O)CCC(C)C2(C)C1OC(=O)C=Cc1ccccc1',\n",
       "        'Solidago wrightii']], dtype=object)"
      ]
     },
     "execution_count": 25,
     "metadata": {},
     "output_type": "execute_result"
    }
   ],
   "source": [
    "molecules_unique_to_test_set"
   ]
  },
  {
   "cell_type": "code",
   "execution_count": 26,
   "id": "7e2cd07a",
   "metadata": {},
   "outputs": [
    {
     "data": {
      "text/plain": [
       "array([0.78518486, 0.46689916, 0.77354556, ..., 0.61686105, 0.84511787,\n",
       "       0.20779368], dtype=float32)"
      ]
     },
     "execution_count": 26,
     "metadata": {},
     "output_type": "execute_result"
    }
   ],
   "source": [
    "out_mol"
   ]
  },
  {
   "cell_type": "code",
   "execution_count": 29,
   "id": "fb0db448",
   "metadata": {},
   "outputs": [
    {
     "ename": "TypeError",
     "evalue": "HinSAGELinkGenerator.__init__() got an unexpected keyword argument 'weighted'",
     "output_type": "error",
     "traceback": [
      "\u001b[0;31m---------------------------------------------------------------------------\u001b[0m",
      "\u001b[0;31mTypeError\u001b[0m                                 Traceback (most recent call last)",
      "Cell \u001b[0;32mIn[29], line 1\u001b[0m\n\u001b[0;32m----> 1\u001b[0m \u001b[43mHinSAGELinkGenerator\u001b[49m\u001b[43m(\u001b[49m\u001b[43mG\u001b[49m\u001b[43m,\u001b[49m\n\u001b[1;32m      2\u001b[0m \u001b[43m                     \u001b[49m\u001b[43mbatch_size\u001b[49m\u001b[38;5;241;43m=\u001b[39;49m\u001b[38;5;241;43m128\u001b[39;49m\u001b[43m,\u001b[49m\n\u001b[1;32m      3\u001b[0m \u001b[43m                     \u001b[49m\u001b[43mnum_samples\u001b[49m\u001b[38;5;241;43m=\u001b[39;49m\u001b[43m[\u001b[49m\u001b[38;5;241;43m3\u001b[39;49m\u001b[43m,\u001b[49m\u001b[38;5;241;43m1\u001b[39;49m\u001b[43m]\u001b[49m\u001b[43m,\u001b[49m\n\u001b[1;32m      4\u001b[0m \u001b[43m                     \u001b[49m\u001b[43mhead_node_types\u001b[49m\u001b[38;5;241;43m=\u001b[39;49m\u001b[43m[\u001b[49m\u001b[38;5;124;43m\"\u001b[39;49m\u001b[38;5;124;43mmolecule\u001b[39;49m\u001b[38;5;124;43m\"\u001b[39;49m\u001b[43m,\u001b[49m\u001b[43m \u001b[49m\u001b[38;5;124;43m\"\u001b[39;49m\u001b[38;5;124;43mspecies\u001b[39;49m\u001b[38;5;124;43m\"\u001b[39;49m\u001b[43m]\u001b[49m\u001b[43m,\u001b[49m\n\u001b[1;32m      5\u001b[0m \u001b[43m                    \u001b[49m\u001b[43mweighted\u001b[49m\u001b[38;5;241;43m=\u001b[39;49m\u001b[38;5;28;43;01mTrue\u001b[39;49;00m\u001b[43m)\u001b[49m\n",
      "\u001b[0;31mTypeError\u001b[0m: HinSAGELinkGenerator.__init__() got an unexpected keyword argument 'weighted'"
     ]
    }
   ],
   "source": [
    "HinSAGELinkGenerator(G,\n",
    "                     batch_size=128,\n",
    "                     num_samples=[3,1],\n",
    "                     head_node_types=[\"molecule\", \"species\"],\n",
    "                    weighted=True)"
   ]
  },
  {
   "cell_type": "markdown",
   "id": "3e8dc2b9",
   "metadata": {},
   "source": [
    "## Discussion\n",
    "\n",
    "It seems like the model predicts well new molecules on known species but if new species are added, it is not able to predict which molecules will be present. \n",
    "\n",
    "This seems to be due to the fact that the model has been trained to predict on edges `present_in` in a \"directed\" way. So if the model has a new molecule, it takes its embeddings and is able to predict weather that molecule will be present or not.\n",
    "\n",
    "I will try to create an other model that predicts the edges on `has` type. I expect it to have the opposite result. "
   ]
  }
 ],
 "metadata": {
  "kernelspec": {
   "display_name": "Python 3 (ipykernel)",
   "language": "python",
   "name": "python3"
  },
  "language_info": {
   "codemirror_mode": {
    "name": "ipython",
    "version": 3
   },
   "file_extension": ".py",
   "mimetype": "text/x-python",
   "name": "python",
   "nbconvert_exporter": "python",
   "pygments_lexer": "ipython3",
   "version": "3.10.8"
  }
 },
 "nbformat": 4,
 "nbformat_minor": 5
}
