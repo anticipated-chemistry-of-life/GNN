{
 "cells": [
  {
   "cell_type": "code",
   "execution_count": 1,
   "id": "0ec348b5",
   "metadata": {},
   "outputs": [],
   "source": [
    "import pandas as pd\n",
    "import numpy as np\n",
    "import torch\n",
    "from torch_geometric.data import Data, Dataset\n",
    "from sklearn.model_selection import train_test_split"
   ]
  },
  {
   "cell_type": "code",
   "execution_count": 2,
   "id": "233d39f7",
   "metadata": {},
   "outputs": [
    {
     "name": "stderr",
     "output_type": "stream",
     "text": [
      "/usr/local/Caskroom/mambaforge/base/envs/stellar_graph/lib/python3.10/site-packages/IPython/core/interactiveshell.py:3508: DtypeWarning: Columns (38) have mixed types.Specify dtype option on import or set low_memory=False.\n",
      "  exec(code_obj, self.user_global_ns, self.user_ns)\n"
     ]
    }
   ],
   "source": [
    "# Load data\n",
    "df = pd.read_csv('./data/230106_frozen_metadata.csv.gz')"
   ]
  },
  {
   "cell_type": "code",
   "execution_count": 3,
   "id": "1b4d3f6c",
   "metadata": {},
   "outputs": [],
   "source": [
    "#Remove duplicate organism-molecule pair\n",
    "df_agg = df.groupby(['organism_taxonomy_09species',\n",
    "                     'structure_smiles_2D']).size().reset_index(name='reference_wikidata')\n",
    "\n",
    "df_agg = df.groupby(['organism_taxonomy_09species', 'structure_smiles_2D']).agg({\n",
    "    'reference_wikidata': 'size',\n",
    "    'organism_taxonomy_08genus': 'first',\n",
    "    'organism_taxonomy_06family': 'first',\n",
    "    'organism_taxonomy_05order': 'first',\n",
    "    'organism_taxonomy_04class': 'first',\n",
    "    'organism_taxonomy_03phylum': 'first',\n",
    "    'organism_taxonomy_02kingdom': 'first',\n",
    "    'organism_taxonomy_01domain': 'first',\n",
    "    'structure_taxonomy_npclassifier_01pathway': 'first',\n",
    "    'structure_taxonomy_npclassifier_02superclass': 'first',\n",
    "    'structure_taxonomy_npclassifier_03class': 'first'\n",
    "    # add other columns here as needed\n",
    "}).reset_index()\n",
    "\n",
    "df_agg['total_papers_molecule'] = df_agg.groupby(\n",
    "    'structure_smiles_2D')['reference_wikidata'].transform('sum')\n",
    "df_agg['total_papers_species'] = df_agg.groupby(\n",
    "    'organism_taxonomy_09species')['reference_wikidata'].transform('sum')\n",
    "\n",
    "#get random subset of the database (comment to have the full DB)\n",
    "df_agg = df_agg.sample(n=100000).reset_index(drop=True)"
   ]
  },
  {
   "cell_type": "code",
   "execution_count": 4,
   "id": "7307bae3",
   "metadata": {},
   "outputs": [],
   "source": [
    "df_agg.to_csv(\"./data/lotus_aggregated.csv.gz\", compression=\"gzip\")"
   ]
  },
  {
   "cell_type": "code",
   "execution_count": 5,
   "id": "e56dfb6d",
   "metadata": {},
   "outputs": [],
   "source": [
    "# Load csv files\n",
    "#df_agg = pd.read_csv(\"./data/lotus_aggregated.csv\")\n",
    "df_molecules_species = df_agg[['organism_taxonomy_09species', 'structure_smiles_2D']]\n",
    "#df_species_features = pd.read_csv(\"./data/species_features_dummy.csv\", index_col=0) # Considering species name as index\n",
    "#df_species_features = df_species_features[df_species_features.columns[::-1]]\n",
    "#df_molecules_features = pd.read_csv(\"./data/mol_dummy_rdkit.csv\", index_col=0) # Considering molecule structure as index"
   ]
  },
  {
   "cell_type": "code",
   "execution_count": 6,
   "id": "5d786f2c",
   "metadata": {},
   "outputs": [],
   "source": [
    "# Here, we'll use a simple co-occurrence matrix as our graph, where species and molecules are nodes\n",
    "species = df_molecules_species[\"organism_taxonomy_09species\"].unique()\n",
    "molecules = df_molecules_species[\"structure_smiles_2D\"].unique()\n",
    "num_species = len(species)\n",
    "num_molecules = len(molecules)"
   ]
  },
  {
   "cell_type": "code",
   "execution_count": 7,
   "id": "efc6a38a",
   "metadata": {},
   "outputs": [],
   "source": [
    "species = pd.DataFrame(data={\n",
    "    'name' : species,\n",
    "    \"ID\": pd.RangeIndex(len(species)),\n",
    "    \"type\": \"species\"\n",
    "})"
   ]
  },
  {
   "cell_type": "code",
   "execution_count": 8,
   "id": "96ad6b1b",
   "metadata": {},
   "outputs": [],
   "source": [
    "molecules = pd.DataFrame(data={\n",
    "    'name' : molecules,\n",
    "    \"ID\": pd.RangeIndex(start=len(species), stop=len(species)+len(molecules)),\n",
    "    \"type\": \"molecule\"\n",
    "})"
   ]
  },
  {
   "cell_type": "code",
   "execution_count": 9,
   "id": "72efc1af",
   "metadata": {},
   "outputs": [],
   "source": [
    "species_to_species_id = pd.merge(df_molecules_species['organism_taxonomy_09species'],\n",
    "         species,\n",
    "         left_on='organism_taxonomy_09species',\n",
    "        right_on='name',\n",
    "         how='left')"
   ]
  },
  {
   "cell_type": "code",
   "execution_count": 10,
   "id": "0829111f",
   "metadata": {},
   "outputs": [],
   "source": [
    "mol_to_mol_id = pd.merge(df_molecules_species['structure_smiles_2D'],\n",
    "         molecules,\n",
    "         left_on='structure_smiles_2D',\n",
    "        right_on='name',\n",
    "         how='left')"
   ]
  },
  {
   "cell_type": "code",
   "execution_count": 11,
   "id": "4d2d7dc0",
   "metadata": {},
   "outputs": [],
   "source": [
    "species_to_species_id = species_to_species_id['ID'].values\n",
    "mol_to_mol_id = mol_to_mol_id['ID'].values"
   ]
  },
  {
   "cell_type": "code",
   "execution_count": 12,
   "id": "1e29dd56",
   "metadata": {},
   "outputs": [],
   "source": [
    "edges = pd.DataFrame(data={\"species\": species_to_species_id,\n",
    "                  \"molecule\": mol_to_mol_id,\n",
    "                  \"weight\": df_agg['reference_wikidata']})"
   ]
  },
  {
   "cell_type": "code",
   "execution_count": 13,
   "id": "def9e1ac",
   "metadata": {},
   "outputs": [],
   "source": [
    "edges.to_csv(\"./data/edges_list.csv\")"
   ]
  },
  {
   "cell_type": "code",
   "execution_count": 14,
   "id": "1c19ee8f",
   "metadata": {},
   "outputs": [],
   "source": [
    "node_types_and_names = pd.concat([species, molecules], axis=0)"
   ]
  },
  {
   "cell_type": "code",
   "execution_count": 15,
   "id": "fb9ebdea",
   "metadata": {
    "scrolled": true
   },
   "outputs": [],
   "source": [
    "node_types_and_names.to_csv(\"./data/node_types_and_names.csv\")"
   ]
  },
  {
   "cell_type": "code",
   "execution_count": 21,
   "id": "758ffc7d",
   "metadata": {},
   "outputs": [],
   "source": [
    "pd.DataFrame(df_agg.structure_smiles_2D.unique(),\n",
    "             columns=['structure_smiles_2D']).to_csv(\"./data/molecule_SMILES.csv\")"
   ]
  },
  {
   "cell_type": "code",
   "execution_count": 17,
   "id": "16553277",
   "metadata": {},
   "outputs": [],
   "source": [
    "unique_species_df = df_agg.drop_duplicates(subset=['organism_taxonomy_09species'])\n",
    "# Fetch the corresponding features\n",
    "species_features_df = unique_species_df[['organism_taxonomy_09species','organism_taxonomy_08genus',\n",
    "                                         'organism_taxonomy_06family', 'organism_taxonomy_05order',\n",
    "                                         'organism_taxonomy_04class', 'organism_taxonomy_03phylum',\n",
    "                                         'organism_taxonomy_02kingdom','organism_taxonomy_01domain']]\n",
    "# Convert these dataframes to dummy/one-hot encoded dataframes\n",
    "species_features_dummy = pd.get_dummies(species_features_df)\n",
    "species_features_dummy.index = [i for i in unique_species_df['organism_taxonomy_09species']]\n",
    "species_features_dummy.to_csv(\"./data/species_features_dummy.csv.gz\", compression=\"gzip\")"
   ]
  }
 ],
 "metadata": {
  "kernelspec": {
   "display_name": "Python 3 (ipykernel)",
   "language": "python",
   "name": "python3"
  },
  "language_info": {
   "codemirror_mode": {
    "name": "ipython",
    "version": 3
   },
   "file_extension": ".py",
   "mimetype": "text/x-python",
   "name": "python",
   "nbconvert_exporter": "python",
   "pygments_lexer": "ipython3",
   "version": "3.10.8"
  }
 },
 "nbformat": 4,
 "nbformat_minor": 5
}
