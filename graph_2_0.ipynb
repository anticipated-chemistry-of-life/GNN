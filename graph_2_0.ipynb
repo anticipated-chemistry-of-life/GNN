{
 "cells": [
  {
   "cell_type": "code",
   "execution_count": 1,
   "id": "8e2629db",
   "metadata": {},
   "outputs": [
    {
     "name": "stderr",
     "output_type": "stream",
     "text": [
      "/var/folders/_5/04k_n4g93v9bhbfk8nqpr3zr0000gs/T/ipykernel_3423/532135684.py:9: DtypeWarning: Columns (38) have mixed types. Specify dtype option on import or set low_memory=False.\n",
      "  df = pd.read_csv('230106_frozen_metadata.csv.gz')\n"
     ]
    }
   ],
   "source": [
    "import itertools\n",
    "import pandas as pd\n",
    "import numpy as np\n",
    "import dgl\n",
    "import torch\n",
    "from rdkit.Chem import AllChem, DataStructs\n",
    "\n",
    "# Load data\n",
    "df = pd.read_csv('230106_frozen_metadata.csv.gz')\n",
    "\n",
    "# Preprocess the data as in your original script...\n",
    "\n",
    "#Remove duplicate organism-molecule pair\n",
    "df_agg = df.groupby(['organism_taxonomy_09species',\n",
    "                     'structure_smiles_2D']).size().reset_index(name='reference_wikidata')\n",
    "\n",
    "df_agg = df.groupby(['organism_taxonomy_09species', 'structure_smiles_2D']).agg({\n",
    "    'reference_wikidata': 'size',\n",
    "    'organism_taxonomy_08genus': 'first',\n",
    "    'organism_taxonomy_06family': 'first',\n",
    "    'organism_taxonomy_05order': 'first',\n",
    "    'organism_taxonomy_04class': 'first',\n",
    "    'organism_taxonomy_03phylum': 'first',\n",
    "    'organism_taxonomy_02kingdom': 'first',\n",
    "    'organism_taxonomy_01domain': 'first',\n",
    "    'structure_taxonomy_npclassifier_01pathway': 'first',\n",
    "    'structure_taxonomy_npclassifier_02superclass': 'first',\n",
    "    'structure_taxonomy_npclassifier_03class': 'first'\n",
    "    # add other columns here as needed\n",
    "}).reset_index()\n",
    "\n",
    "#get the first 30'000 entries (remove for full dataset)\n",
    "df_agg = df_agg.iloc[:10000, :]\n"
   ]
  },
  {
   "cell_type": "code",
   "execution_count": 2,
   "id": "eaf7c258",
   "metadata": {
    "scrolled": true
   },
   "outputs": [],
   "source": [
    "# create two dataframes for nodes\n",
    "df_species = pd.DataFrame(df_agg['organism_taxonomy_09species'].unique(), columns=['species'])\n",
    "df_molecule = pd.DataFrame(df_agg['structure_smiles_2D'].unique(), columns=['molecule'])\n",
    "\n",
    "# assign unique integer id for nodes\n",
    "df_species['species_id'] = np.arange(len(df_species))\n",
    "df_molecule['molecule_id'] = np.arange(len(df_molecule))\n",
    "\n",
    "# map species and molecule to their ids in df_agg\n",
    "df_agg = pd.merge(df_agg, df_species, left_on='organism_taxonomy_09species', right_on='species', how='left')\n",
    "df_agg = pd.merge(df_agg, df_molecule, left_on='structure_smiles_2D', right_on='molecule', how='left')\n",
    "\n",
    "# Create edge weights based on the formula: 1 - np.exp(-0.5 * reference_wikidata)\n",
    "df_agg['edge_weight'] = 1 - np.exp(-0.5 * df_agg['reference_wikidata'])\n",
    "\n",
    "# Convert edge weights to a tensor\n",
    "edge_weights = torch.from_numpy(df_agg['edge_weight'].values.astype(np.float32))"
   ]
  },
  {
   "cell_type": "code",
   "execution_count": 3,
   "id": "d91fc29d",
   "metadata": {},
   "outputs": [],
   "source": [
    "# create edge list\n",
    "edges_s_to_m = df_agg[['species_id', 'molecule_id']].values.T\n",
    "edges_m_to_s = df_agg[['molecule_id', 'species_id']].values.T"
   ]
  },
  {
   "cell_type": "code",
   "execution_count": 4,
   "id": "77c73ece",
   "metadata": {},
   "outputs": [],
   "source": [
    "# create the heterograph\n",
    "g = dgl.heterograph({\n",
    "    ('species', 'has', 'molecule'): (edges_s_to_m[0], edges_s_to_m[1]),\n",
    "    ('molecule', 'is_present_in', 'species'): (edges_m_to_s[0], edges_m_to_s[1]),\n",
    "    ('molecule', 'similar_to', 'molecule'): ([], [])\n",
    "})"
   ]
  },
  {
   "cell_type": "code",
   "execution_count": 5,
   "id": "5d5f68a5",
   "metadata": {},
   "outputs": [],
   "source": [
    "# Add edge weights to the graph\n",
    "g.edges['has'].data['weight'] = edge_weights\n",
    "g.edges['is_present_in'].data['weight'] = edge_weights"
   ]
  },
  {
   "cell_type": "code",
   "execution_count": 6,
   "id": "d9bb5052",
   "metadata": {},
   "outputs": [],
   "source": [
    "# Calculate molecular fingerprints\n",
    "#fps = df_agg['structure_smiles_2D'].unique()\n",
    "fps = [AllChem.MolFromSmiles(i) for i in df_molecule.molecule]\n",
    "mols  = [AllChem.GetMorganFingerprintAsBitVect(m, radius=2, nBits=1024) for m in fps]\n",
    "\n",
    "# Create a list to store the edges and their weights\n",
    "similar_edges = []\n",
    "similar_edge_weights = []\n",
    "\n",
    "# Iterate over each pair of molecules\n",
    "for i, j in itertools.combinations(range(len(fps)), 2):\n",
    "    # Calculate the Tanimoto Similarity\n",
    "    similarity = DataStructs.TanimotoSimilarity(mols[i], mols[j])\n",
    "    # If the similarity is above 0.7, add an edge\n",
    "    if similarity >= 0.7:\n",
    "        # Add both (i, j) and (j, i) edges to the list\n",
    "        similar_edges.extend([(i, j), (j, i)])\n",
    "        # Add the similarity as the edge weight for both edges\n",
    "        similar_edge_weights.extend([similarity, similarity])\n",
    "\n",
    "# Convert the lists to tensors\n",
    "similar_edges = torch.tensor(similar_edges, dtype=torch.int64)\n",
    "similar_edge_weights = torch.tensor(similar_edge_weights, dtype=torch.float32)\n",
    "\n",
    "# Add the 'similar_to' edges to the graph\n",
    "g.add_edges(similar_edges[:, 0], similar_edges[:, 1], etype='similar_to')\n",
    "g.edges['similar_to'].data['weight'] = similar_edge_weights"
   ]
  },
  {
   "cell_type": "code",
   "execution_count": 7,
   "id": "233a6b31",
   "metadata": {
    "scrolled": false
   },
   "outputs": [],
   "source": [
    "# Fetch unique species and molecules and their respective features\n",
    "unique_species_df = df_agg.drop_duplicates(subset=['organism_taxonomy_09species'])\n",
    "unique_molecules_df = df_agg.drop_duplicates(subset=['structure_smiles_2D'])\n",
    "\n",
    "# Fetch the corresponding features\n",
    "species_features_df = unique_species_df[['organism_taxonomy_08genus', 'organism_taxonomy_06family', \n",
    "                                         'organism_taxonomy_05order', 'organism_taxonomy_04class', \n",
    "                                         'organism_taxonomy_03phylum', 'organism_taxonomy_02kingdom', \n",
    "                                         'organism_taxonomy_01domain']]\n",
    "molecule_features_df = unique_molecules_df[['structure_taxonomy_npclassifier_01pathway', \n",
    "                                            'structure_taxonomy_npclassifier_02superclass', \n",
    "                                            'structure_taxonomy_npclassifier_03class']]\n",
    "\n",
    "# Convert these dataframes to dummy/one-hot encoded dataframes\n",
    "species_features_dummy = pd.get_dummies(species_features_df)\n",
    "molecule_features_dummy = pd.get_dummies(molecule_features_df)\n",
    "\n",
    "# Add these features to the corresponding nodes in the graph\n",
    "g.ndata['h'] = {'species': torch.from_numpy(species_features_dummy.values),\n",
    "               'molecule': torch.from_numpy(molecule_features_dummy.values)}\n",
    "#g.nodes['species'].data.update({'feat': torch.from_numpy(species_features_dummy.values)})\n",
    "#g.nodes['molecule'].data.update({'feat': torch.from_numpy(molecule_features_dummy.values)})\n"
   ]
  },
  {
   "cell_type": "code",
   "execution_count": 8,
   "id": "d37736e6",
   "metadata": {},
   "outputs": [],
   "source": [
    "# Finally, save the heterograph\n",
    "from dgl.data.utils import save_graphs\n",
    "save_graphs(\"./hetero_graph.bin\", [g])"
   ]
  },
  {
   "cell_type": "code",
   "execution_count": 12,
   "id": "fe21bf9a",
   "metadata": {},
   "outputs": [
    {
     "data": {
      "text/plain": [
       "torch.Size([885, 439])"
      ]
     },
     "execution_count": 12,
     "metadata": {},
     "output_type": "execute_result"
    }
   ],
   "source": [
    "g.nodes['species'].data['h'].shape"
   ]
  },
  {
   "cell_type": "code",
   "execution_count": 16,
   "id": "7c806ca0",
   "metadata": {},
   "outputs": [
    {
     "data": {
      "text/plain": [
       "1024"
      ]
     },
     "execution_count": 16,
     "metadata": {},
     "output_type": "execute_result"
    }
   ],
   "source": [
    "len(np.array(mols[0]))"
   ]
  }
 ],
 "metadata": {
  "kernelspec": {
   "display_name": "Python 3 (ipykernel)",
   "language": "python",
   "name": "python3"
  },
  "language_info": {
   "codemirror_mode": {
    "name": "ipython",
    "version": 3
   },
   "file_extension": ".py",
   "mimetype": "text/x-python",
   "name": "python",
   "nbconvert_exporter": "python",
   "pygments_lexer": "ipython3",
   "version": "3.10.11"
  }
 },
 "nbformat": 4,
 "nbformat_minor": 5
}
