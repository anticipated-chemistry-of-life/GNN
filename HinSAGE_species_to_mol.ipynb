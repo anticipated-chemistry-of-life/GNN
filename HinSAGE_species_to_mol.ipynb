{
 "cells": [
  {
   "cell_type": "code",
   "execution_count": 1,
   "id": "0c37f03d",
   "metadata": {
    "editable": true,
    "scrolled": true,
    "slideshow": {
     "slide_type": ""
    },
    "tags": []
   },
   "outputs": [],
   "source": [
    "import os\n",
    "os.environ['TF_CPP_MIN_LOG_LEVEL'] = '3' \n",
    "import networkx as nx\n",
    "import pandas as pd\n",
    "import numpy as np\n",
    "from stellargraph import StellarGraph\n",
    "from tensorflow import keras\n",
    "import tensorflow as tf\n",
    "\n",
    "import stellargraph as sg\n",
    "from stellargraph.data import EdgeSplitter\n",
    "from stellargraph.mapper import HinSAGELinkGenerator\n",
    "from stellargraph.layer import HinSAGE, link_classification\n",
    "\n",
    "import multiprocessing\n",
    "import matplotlib.pyplot as plt"
   ]
  },
  {
   "cell_type": "code",
   "execution_count": 2,
   "id": "5abe1765",
   "metadata": {
    "scrolled": true
   },
   "outputs": [],
   "source": [
    "g = nx.read_graphml(\"./graph/train_graph.gml\")\n",
    "species_features_dummy = pd.read_csv(\"./data/species_features.csv.gz\", index_col=0)\n",
    "molecule_features_dummy = pd.read_csv(\"./data/molecule_features.csv.gz\", index_col=0)\n",
    "df_agg = pd.read_csv(\"./data/lotus_agg_train.csv.gz\", index_col=0)"
   ]
  },
  {
   "cell_type": "code",
   "execution_count": 3,
   "id": "065c4553-9f5e-48d5-970e-89732822bc49",
   "metadata": {},
   "outputs": [],
   "source": [
    "from utils.encoding import binary_encode_df\n",
    "\n",
    "species_features_dummy = binary_encode_df(species_features_dummy)\n",
    "molecule_features_dummy = binary_encode_df(molecule_features_dummy)"
   ]
  },
  {
   "cell_type": "code",
   "execution_count": 4,
   "id": "295f5d2c-454c-4fca-a079-401faabbdccf",
   "metadata": {},
   "outputs": [],
   "source": [
    "rdkit = pd.read_csv(\"./data/mol_dummy_rdkit.csv.gz\", index_col=0)"
   ]
  },
  {
   "cell_type": "code",
   "execution_count": 5,
   "id": "67e513d1-b015-4162-afc4-7644bd6354b8",
   "metadata": {},
   "outputs": [],
   "source": [
    "molecule_features_dummy = molecule_features_dummy.merge(rdkit,\n",
    "                                                        left_index=True,\n",
    "                                                        right_index=True)"
   ]
  },
  {
   "cell_type": "code",
   "execution_count": 6,
   "id": "e4a4f351",
   "metadata": {},
   "outputs": [],
   "source": [
    "species_test = species_features_dummy[~species_features_dummy.index.isin(df_agg.organism_name)].index\n",
    "mol_test = molecule_features_dummy[~molecule_features_dummy.index.isin(df_agg.structure_smiles_2D)].index"
   ]
  },
  {
   "cell_type": "code",
   "execution_count": 7,
   "id": "c4f8e442",
   "metadata": {},
   "outputs": [],
   "source": [
    "species_feat = species_features_dummy[species_features_dummy.index.isin(df_agg.organism_name)]\n",
    "molecule_feat = molecule_features_dummy[molecule_features_dummy.index.isin(df_agg.structure_smiles_2D)]"
   ]
  },
  {
   "cell_type": "code",
   "execution_count": 27,
   "id": "414372ea",
   "metadata": {},
   "outputs": [
    {
     "name": "stdout",
     "output_type": "stream",
     "text": [
      "StellarDiGraph: Directed multigraph\n",
      " Nodes: 149619, Edges: 608638\n",
      "\n",
      " Node types:\n",
      "  molecule: [115568]\n",
      "    Features: uint8 vector, length 155\n",
      "    Edge types: molecule-present_in->species\n",
      "  species: [34051]\n",
      "    Features: uint8 vector, length 69\n",
      "    Edge types: species-has->molecule\n",
      "\n",
      " Edge types:\n",
      "    species-has->molecule: [304319]\n",
      "        Weights: all 1 (default)\n",
      "        Features: none\n",
      "    molecule-present_in->species: [304319]\n",
      "        Weights: all 1 (default)\n",
      "        Features: none\n"
     ]
    }
   ],
   "source": [
    "G = StellarGraph.from_networkx(g,\n",
    "                               node_features={'species':species_feat,\n",
    "                                              'molecule': molecule_feat},\n",
    "                              dtype='uint8')\n",
    "print(G.info())\n",
    "G.check_graph_for_ml()"
   ]
  },
  {
   "cell_type": "code",
   "execution_count": 9,
   "id": "8ccf42a8",
   "metadata": {},
   "outputs": [],
   "source": [
    "batch_size = 128 #default: 200\n",
    "epochs = 30 #default: 20\n",
    "num_samples = [3, 1]\n",
    "num_workers = multiprocessing.cpu_count()-2"
   ]
  },
  {
   "cell_type": "code",
   "execution_count": 10,
   "id": "40c70f1a",
   "metadata": {},
   "outputs": [
    {
     "name": "stdout",
     "output_type": "stream",
     "text": [
      "Network has 304319 edges of type has\n",
      "Network has 304319 edges of type has\n",
      "** Sampled 30431 positive and 30431 negative edges. **\n"
     ]
    }
   ],
   "source": [
    "# Define an edge splitter on the original graph G:\n",
    "edge_splitter_test = EdgeSplitter(G)\n",
    "\n",
    "# Randomly sample a fraction p=0.3 of all positive links, and same number of negative links, from G, and obtain the\n",
    "# reduced graph G_test with the sampled links removed:\n",
    "G_test, edge_ids_test, edge_labels_test = edge_splitter_test.train_test_split(\n",
    "    p=0.1, method=\"global\", keep_connected=False, edge_label=\"has\"\n",
    ")"
   ]
  },
  {
   "cell_type": "code",
   "execution_count": 11,
   "id": "a1299965",
   "metadata": {},
   "outputs": [
    {
     "name": "stdout",
     "output_type": "stream",
     "text": [
      "Network has 273888 edges of type has\n",
      "Network has 273888 edges of type has\n",
      "** Sampled 27388 positive and 27388 negative edges. **\n"
     ]
    }
   ],
   "source": [
    "# Define an edge splitter on the reduced graph G_test:\n",
    "edge_splitter_train = EdgeSplitter(G_test)\n",
    "\n",
    "# Randomly sample a fraction p=0.3 of all positive links, and same number of negative links, from G_test, and obtain the\n",
    "# reduced graph G_train with the sampled links removed:\n",
    "G_train, edge_ids_train, edge_labels_train = edge_splitter_train.train_test_split(\n",
    "    p=0.1, method=\"global\", keep_connected=False, edge_label=\"has\"\n",
    ")"
   ]
  },
  {
   "cell_type": "code",
   "execution_count": 12,
   "id": "6a4c7cf1",
   "metadata": {},
   "outputs": [
    {
     "name": "stdout",
     "output_type": "stream",
     "text": [
      "StellarDiGraph: Directed multigraph\n",
      " Nodes: 149619, Edges: 550819\n",
      "\n",
      " Node types:\n",
      "  molecule: [115568]\n",
      "    Features: float32 vector, length 155\n",
      "    Edge types: molecule-present_in->species\n",
      "  species: [34051]\n",
      "    Features: float32 vector, length 69\n",
      "    Edge types: species-has->molecule\n",
      "\n",
      " Edge types:\n",
      "    molecule-present_in->species: [304319]\n",
      "        Weights: all 1 (default)\n",
      "        Features: none\n",
      "    species-has->molecule: [246500]\n",
      "        Weights: all 1 (default)\n",
      "        Features: none\n"
     ]
    }
   ],
   "source": [
    "print(G_train.info())"
   ]
  },
  {
   "cell_type": "code",
   "execution_count": 13,
   "id": "96de8525",
   "metadata": {},
   "outputs": [
    {
     "name": "stdout",
     "output_type": "stream",
     "text": [
      "StellarDiGraph: Directed multigraph\n",
      " Nodes: 149619, Edges: 578207\n",
      "\n",
      " Node types:\n",
      "  molecule: [115568]\n",
      "    Features: float32 vector, length 155\n",
      "    Edge types: molecule-present_in->species\n",
      "  species: [34051]\n",
      "    Features: float32 vector, length 69\n",
      "    Edge types: species-has->molecule\n",
      "\n",
      " Edge types:\n",
      "    molecule-present_in->species: [304319]\n",
      "        Weights: all 1 (default)\n",
      "        Features: none\n",
      "    species-has->molecule: [273888]\n",
      "        Weights: all 1 (default)\n",
      "        Features: none\n"
     ]
    }
   ],
   "source": [
    "print(G_test.info())"
   ]
  },
  {
   "cell_type": "code",
   "execution_count": 14,
   "id": "7fd9d1d9",
   "metadata": {},
   "outputs": [],
   "source": [
    "train_gen = HinSAGELinkGenerator(G_train,\n",
    "                                 batch_size=batch_size,\n",
    "                                 num_samples=num_samples,\n",
    "                                 head_node_types=[\"species\", \"molecule\"],\n",
    "                                seed=42)\n",
    "train_flow = train_gen.flow(edge_ids_train, edge_labels_train, shuffle=True, seed=42)"
   ]
  },
  {
   "cell_type": "code",
   "execution_count": 15,
   "id": "3d967859",
   "metadata": {},
   "outputs": [],
   "source": [
    "test_gen = HinSAGELinkGenerator(G_test,\n",
    "                                batch_size=batch_size,\n",
    "                                num_samples=num_samples,\n",
    "                                head_node_types=[\"species\", \"molecule\"],\n",
    "                               seed=42)\n",
    "test_flow = test_gen.flow(edge_ids_test, edge_labels_test, seed=42)"
   ]
  },
  {
   "cell_type": "code",
   "execution_count": 16,
   "id": "d94b97ac",
   "metadata": {},
   "outputs": [],
   "source": [
    "hinsage_layer_sizes = [1024, 1024]\n",
    "hinsage = HinSAGE(layer_sizes=hinsage_layer_sizes,\n",
    "                  generator=train_gen,\n",
    "                  bias=True,\n",
    "                  dropout=0.3,\n",
    "                 activations=['elu','selu'])"
   ]
  },
  {
   "cell_type": "code",
   "execution_count": 17,
   "id": "7f3f8d54",
   "metadata": {},
   "outputs": [
    {
     "name": "stderr",
     "output_type": "stream",
     "text": [
      "/usr/local/Caskroom/mambaforge/base/envs/stellargraph/lib/python3.11/site-packages/keras/src/initializers/initializers.py:120: UserWarning: The initializer GlorotUniform is unseeded and being called multiple times, which will return identical values each time (even if the initializer is unseeded). Please update your code to provide a seed to the initializer, or avoid using the same initializer instance more than once.\n",
      "  warnings.warn(\n"
     ]
    }
   ],
   "source": [
    "# Build the model and expose input and output sockets of graphsage model\n",
    "# for link prediction\n",
    "x_inp, x_out = hinsage.in_out_tensors()"
   ]
  },
  {
   "cell_type": "code",
   "execution_count": 18,
   "id": "96dddf17",
   "metadata": {},
   "outputs": [
    {
     "name": "stdout",
     "output_type": "stream",
     "text": [
      "link_classification: using 'l1' method to combine node embeddings into edge embeddings\n"
     ]
    }
   ],
   "source": [
    "prediction = link_classification(output_dim=1,\n",
    "                                 output_act=\"sigmoid\",\n",
    "                                 edge_embedding_method=\"l1\")(x_out)"
   ]
  },
  {
   "cell_type": "code",
   "execution_count": 19,
   "id": "a49ccd38",
   "metadata": {},
   "outputs": [],
   "source": [
    "model = keras.Model(inputs=x_inp, outputs=prediction)\n",
    "\n",
    "initial_learning_rate = 0.1\n",
    "final_learning_rate = 0.001\n",
    "learning_rate_decay_factor = (final_learning_rate / initial_learning_rate)**(1/epochs)\n",
    "steps_per_epoch = int(edge_ids_train.shape[0]/batch_size)\n",
    "\n",
    "lr_schedule = tf.keras.optimizers.schedules.ExponentialDecay(\n",
    "                initial_learning_rate=initial_learning_rate,\n",
    "                decay_steps=steps_per_epoch,\n",
    "                decay_rate=learning_rate_decay_factor,\n",
    "                staircase=True)\n",
    "\n",
    "optimizer=keras.optimizers.Adam(learning_rate=lr_schedule)\n",
    "#optimizer = mixed_precision.LossScaleOptimizer(optimizer)\n",
    "\n",
    "model.compile(\n",
    "    optimizer=optimizer,\n",
    "    loss=keras.losses.binary_crossentropy,\n",
    "    metrics=[\"AUC\"],\n",
    ")"
   ]
  },
  {
   "cell_type": "code",
   "execution_count": 20,
   "id": "90028704",
   "metadata": {},
   "outputs": [
    {
     "name": "stdout",
     "output_type": "stream",
     "text": [
      "428/428 - 7s - loss: 0.6927 - auc: 0.5201 - 7s/epoch - 16ms/step\n",
      "476/476 - 8s - loss: 0.6926 - auc: 0.5229 - 8s/epoch - 16ms/step\n",
      "\n",
      "Train Set Metrics of the initial (untrained) model:\n",
      "\tloss: 0.6927\n",
      "\tauc: 0.5201\n",
      "\n",
      "Test Set Metrics of the initial (untrained) model:\n",
      "\tloss: 0.6926\n",
      "\tauc: 0.5229\n"
     ]
    }
   ],
   "source": [
    "init_train_metrics = model.evaluate(train_flow, workers=num_workers, verbose=2)\n",
    "init_test_metrics = model.evaluate(test_flow, workers=num_workers, verbose=2)\n",
    "\n",
    "print(\"\\nTrain Set Metrics of the initial (untrained) model:\")\n",
    "for name, val in zip(model.metrics_names, init_train_metrics):\n",
    "    print(\"\\t{}: {:0.4f}\".format(name, val))\n",
    "\n",
    "print(\"\\nTest Set Metrics of the initial (untrained) model:\")\n",
    "for name, val in zip(model.metrics_names, init_test_metrics):\n",
    "    print(\"\\t{}: {:0.4f}\".format(name, val))"
   ]
  },
  {
   "cell_type": "code",
   "execution_count": 21,
   "id": "e34c9a03",
   "metadata": {},
   "outputs": [
    {
     "name": "stdout",
     "output_type": "stream",
     "text": [
      "Epoch 1/30\n",
      "428/428 - 35s - loss: 0.5554 - auc: 0.7748 - val_loss: 0.4063 - val_auc: 0.9138 - 35s/epoch - 81ms/step\n",
      "Epoch 2/30\n",
      "428/428 - 26s - loss: 0.3713 - auc: 0.9122 - val_loss: 0.2870 - val_auc: 0.9498 - 26s/epoch - 61ms/step\n",
      "Epoch 3/30\n",
      "428/428 - 34s - loss: 0.3074 - auc: 0.9408 - val_loss: 0.2452 - val_auc: 0.9634 - 34s/epoch - 80ms/step\n",
      "Epoch 4/30\n",
      "428/428 - 35s - loss: 0.2666 - auc: 0.9556 - val_loss: 0.2134 - val_auc: 0.9740 - 35s/epoch - 83ms/step\n",
      "Epoch 5/30\n",
      "428/428 - 29s - loss: 0.2365 - auc: 0.9648 - val_loss: 0.1832 - val_auc: 0.9791 - 29s/epoch - 67ms/step\n",
      "Epoch 6/30\n",
      "428/428 - 26s - loss: 0.2081 - auc: 0.9725 - val_loss: 0.1742 - val_auc: 0.9811 - 26s/epoch - 61ms/step\n",
      "Epoch 7/30\n",
      "428/428 - 25s - loss: 0.1937 - auc: 0.9762 - val_loss: 0.1619 - val_auc: 0.9831 - 25s/epoch - 58ms/step\n",
      "Epoch 8/30\n",
      "428/428 - 29s - loss: 0.1780 - auc: 0.9798 - val_loss: 0.1562 - val_auc: 0.9843 - 29s/epoch - 69ms/step\n",
      "Epoch 9/30\n",
      "428/428 - 30s - loss: 0.1718 - auc: 0.9810 - val_loss: 0.1555 - val_auc: 0.9844 - 30s/epoch - 71ms/step\n",
      "Epoch 10/30\n",
      "428/428 - 30s - loss: 0.1653 - auc: 0.9824 - val_loss: 0.1473 - val_auc: 0.9858 - 30s/epoch - 71ms/step\n",
      "Epoch 11/30\n",
      "428/428 - 30s - loss: 0.1580 - auc: 0.9836 - val_loss: 0.1448 - val_auc: 0.9866 - 30s/epoch - 70ms/step\n",
      "Epoch 12/30\n",
      "428/428 - 26s - loss: 0.1512 - auc: 0.9852 - val_loss: 0.1419 - val_auc: 0.9868 - 26s/epoch - 61ms/step\n",
      "Epoch 13/30\n",
      "428/428 - 31s - loss: 0.1455 - auc: 0.9862 - val_loss: 0.1409 - val_auc: 0.9873 - 31s/epoch - 73ms/step\n",
      "Epoch 14/30\n",
      "428/428 - 31s - loss: 0.1406 - auc: 0.9871 - val_loss: 0.1415 - val_auc: 0.9874 - 31s/epoch - 73ms/step\n",
      "Epoch 15/30\n",
      "428/428 - 30s - loss: 0.1388 - auc: 0.9874 - val_loss: 0.1421 - val_auc: 0.9867 - 30s/epoch - 71ms/step\n",
      "Epoch 16/30\n",
      "428/428 - 32s - loss: 0.1344 - auc: 0.9882 - val_loss: 0.1369 - val_auc: 0.9879 - 32s/epoch - 74ms/step\n",
      "Epoch 17/30\n",
      "428/428 - 25s - loss: 0.1283 - auc: 0.9890 - val_loss: 0.1385 - val_auc: 0.9879 - 25s/epoch - 58ms/step\n",
      "Epoch 18/30\n",
      "428/428 - 26s - loss: 0.1266 - auc: 0.9894 - val_loss: 0.1403 - val_auc: 0.9879 - 26s/epoch - 60ms/step\n",
      "Epoch 19/30\n",
      "428/428 - 29s - loss: 0.1224 - auc: 0.9900 - val_loss: 0.1369 - val_auc: 0.9880 - 29s/epoch - 69ms/step\n",
      "Epoch 20/30\n",
      "428/428 - 24s - loss: 0.1222 - auc: 0.9901 - val_loss: 0.1370 - val_auc: 0.9879 - 24s/epoch - 56ms/step\n",
      "Epoch 21/30\n",
      "428/428 - 24s - loss: 0.1242 - auc: 0.9896 - val_loss: 0.1327 - val_auc: 0.9884 - 24s/epoch - 57ms/step\n",
      "Epoch 22/30\n",
      "428/428 - 24s - loss: 0.1217 - auc: 0.9901 - val_loss: 0.1378 - val_auc: 0.9882 - 24s/epoch - 55ms/step\n",
      "Epoch 23/30\n",
      "428/428 - 28s - loss: 0.1179 - auc: 0.9907 - val_loss: 0.1371 - val_auc: 0.9882 - 28s/epoch - 66ms/step\n",
      "Epoch 24/30\n",
      "428/428 - 27s - loss: 0.1193 - auc: 0.9905 - val_loss: 0.1360 - val_auc: 0.9885 - 27s/epoch - 64ms/step\n",
      "Epoch 25/30\n",
      "428/428 - 30s - loss: 0.1184 - auc: 0.9905 - val_loss: 0.1345 - val_auc: 0.9885 - 30s/epoch - 71ms/step\n",
      "Epoch 26/30\n",
      "428/428 - 31s - loss: 0.1168 - auc: 0.9908 - val_loss: 0.1305 - val_auc: 0.9890 - 31s/epoch - 73ms/step\n",
      "Epoch 27/30\n",
      "428/428 - 29s - loss: 0.1136 - auc: 0.9915 - val_loss: 0.1368 - val_auc: 0.9883 - 29s/epoch - 69ms/step\n",
      "Epoch 28/30\n",
      "428/428 - 24s - loss: 0.1140 - auc: 0.9912 - val_loss: 0.1354 - val_auc: 0.9884 - 24s/epoch - 55ms/step\n",
      "Epoch 29/30\n",
      "428/428 - 27s - loss: 0.1147 - auc: 0.9912 - val_loss: 0.1347 - val_auc: 0.9887 - 27s/epoch - 62ms/step\n",
      "Epoch 30/30\n",
      "428/428 - 31s - loss: 0.1133 - auc: 0.9913 - val_loss: 0.1333 - val_auc: 0.9887 - 31s/epoch - 73ms/step\n"
     ]
    }
   ],
   "source": [
    "callbacks = keras.callbacks.EarlyStopping(monitor=\"val_loss\",\n",
    "                                          patience=5,\n",
    "                                          mode=\"auto\",\n",
    "                                          restore_best_weights=True)\n",
    "\n",
    "history = model.fit(train_flow,\n",
    "                    epochs=epochs,\n",
    "                    workers=num_workers,\n",
    "                    validation_data=test_flow,\n",
    "                    verbose=2,\n",
    "                    callbacks=[callbacks],\n",
    "                    validation_split=0.0,\n",
    "                    shuffle=True\n",
    "                   )"
   ]
  },
  {
   "cell_type": "code",
   "execution_count": 22,
   "id": "a727f52e",
   "metadata": {
    "scrolled": true
   },
   "outputs": [
    {
     "data": {
      "image/png": "[encoded data removed]",
      "text/plain": [
       "<Figure size 700x800 with 2 Axes>"
      ]
     },
     "metadata": {},
     "output_type": "display_data"
    }
   ],
   "source": [
    "sg.utils.plot_history(history)"
   ]
  },
  {
   "cell_type": "code",
   "execution_count": 23,
   "id": "1fd3266a",
   "metadata": {
    "scrolled": true
   },
   "outputs": [
    {
     "name": "stdout",
     "output_type": "stream",
     "text": [
      "428/428 - 6s - loss: 0.0701 - auc: 0.9961 - 6s/epoch - 15ms/step\n",
      "476/476 - 6s - loss: 0.1327 - auc: 0.9890 - 6s/epoch - 13ms/step\n",
      "\n",
      "Train Set Metrics of the trained model:\n",
      "\tloss: 0.0701\n",
      "\tauc: 0.9961\n",
      "\n",
      "Test Set Metrics of the trained model:\n",
      "\tloss: 0.1327\n",
      "\tauc: 0.9890\n"
     ]
    }
   ],
   "source": [
    "train_metrics = model.evaluate(train_flow, verbose=2)\n",
    "test_metrics = model.evaluate(test_flow, verbose=2)\n",
    "\n",
    "print(\"\\nTrain Set Metrics of the trained model:\")\n",
    "for name, val in zip(model.metrics_names, train_metrics):\n",
    "    print(\"\\t{}: {:0.4f}\".format(name, val))\n",
    "\n",
    "print(\"\\nTest Set Metrics of the trained model:\")\n",
    "for name, val in zip(model.metrics_names, test_metrics):\n",
    "    print(\"\\t{}: {:0.4f}\".format(name, val))"
   ]
  },
  {
   "cell_type": "code",
   "execution_count": 24,
   "id": "88a45c64",
   "metadata": {
    "scrolled": true
   },
   "outputs": [
    {
     "name": "stdout",
     "output_type": "stream",
     "text": [
      "INFO:tensorflow:Assets written to: ./model/gbif_batch_128_layer_1024_s_to_m/assets\n"
     ]
    },
    {
     "name": "stderr",
     "output_type": "stream",
     "text": [
      "INFO:tensorflow:Assets written to: ./model/gbif_batch_128_layer_1024_s_to_m/assets\n"
     ]
    }
   ],
   "source": [
    "model.save(f\"./model/gbif_batch_{batch_size}_layer_{hinsage_layer_sizes[0]}_s_to_m\")"
   ]
  }
 ],
 "metadata": {
  "kernelspec": {
   "display_name": "Python 3 (ipykernel)",
   "language": "python",
   "name": "python3"
  },
  "language_info": {
   "codemirror_mode": {
    "name": "ipython",
    "version": 3
   },
   "file_extension": ".py",
   "mimetype": "text/x-python",
   "name": "python",
   "nbconvert_exporter": "python",
   "pygments_lexer": "ipython3",
   "version": "3.11.4"
  }
 },
 "nbformat": 4,
 "nbformat_minor": 5
}
