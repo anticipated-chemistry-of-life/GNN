{
 "cells": [
  {
   "cell_type": "code",
   "execution_count": 1,
   "id": "0c37f03d",
   "metadata": {
    "editable": true,
    "scrolled": true,
    "slideshow": {
     "slide_type": ""
    },
    "tags": []
   },
   "outputs": [],
   "source": [
    "import os\n",
    "os.environ['TF_CPP_MIN_LOG_LEVEL'] = '3' \n",
    "import networkx as nx\n",
    "import pandas as pd\n",
    "import numpy as np\n",
    "from stellargraph import StellarGraph\n",
    "from tensorflow import keras\n",
    "import tensorflow as tf\n",
    "\n",
    "import stellargraph as sg\n",
    "from stellargraph.data import EdgeSplitter\n",
    "from stellargraph.mapper import HinSAGELinkGenerator\n",
    "from stellargraph.layer import HinSAGE, link_classification\n",
    "\n",
    "import multiprocessing\n",
    "import matplotlib.pyplot as plt"
   ]
  },
  {
   "cell_type": "code",
   "execution_count": 2,
   "id": "5abe1765",
   "metadata": {
    "scrolled": true
   },
   "outputs": [],
   "source": [
    "g = nx.read_graphml(\"./graph/train_graph.gml\")\n",
    "species_features_dummy = pd.read_csv(\"./data/species_features.csv.gz\", index_col=0).astype('uint8')\n",
    "molecule_features_dummy = pd.read_csv(\"./data/molecule_features.csv.gz\", index_col=0).astype(\"uint8\")\n",
    "df_agg = pd.read_csv(\"./data/lotus_agg_train.csv.gz\", index_col=0)"
   ]
  },
  {
   "cell_type": "code",
   "execution_count": 3,
   "id": "295f5d2c-454c-4fca-a079-401faabbdccf",
   "metadata": {},
   "outputs": [],
   "source": [
    "rdkit = pd.read_csv(\"./data/mol_dummy_rdkit.csv.gz\", index_col=0).astype('int8')\n",
    "molecule_features_dummy = molecule_features_dummy.merge(rdkit,\n",
    "                                                        left_index=True,\n",
    "                                                        right_index=True)"
   ]
  },
  {
   "cell_type": "code",
   "execution_count": 4,
   "id": "e4a4f351",
   "metadata": {},
   "outputs": [],
   "source": [
    "species_test = species_features_dummy[~species_features_dummy.index.isin(df_agg.organism_name)].index\n",
    "mol_test = molecule_features_dummy[~molecule_features_dummy.index.isin(df_agg.structure_smiles_2D)].index"
   ]
  },
  {
   "cell_type": "code",
   "execution_count": 5,
   "id": "c4f8e442",
   "metadata": {},
   "outputs": [],
   "source": [
    "species_feat = species_features_dummy[species_features_dummy.index.isin(df_agg.organism_name)]\n",
    "molecule_feat = molecule_features_dummy[molecule_features_dummy.index.isin(df_agg.structure_smiles_2D)]"
   ]
  },
  {
   "cell_type": "code",
   "execution_count": 6,
   "id": "414372ea",
   "metadata": {},
   "outputs": [
    {
     "name": "stdout",
     "output_type": "stream",
     "text": [
      "StellarDiGraph: Directed multigraph\n",
      " Nodes: 149619, Edges: 608638\n",
      "\n",
      " Node types:\n",
      "  molecule: [115568]\n",
      "    Features: uint8 vector, length 1051\n",
      "    Edge types: molecule-present_in->species\n",
      "  species: [34051]\n",
      "    Features: uint8 vector, length 69\n",
      "    Edge types: species-has->molecule\n",
      "\n",
      " Edge types:\n",
      "    species-has->molecule: [304319]\n",
      "        Weights: all 1 (default)\n",
      "        Features: none\n",
      "    molecule-present_in->species: [304319]\n",
      "        Weights: all 1 (default)\n",
      "        Features: none\n"
     ]
    }
   ],
   "source": [
    "G = StellarGraph.from_networkx(g,\n",
    "                               node_features={'species':species_feat,\n",
    "                                              'molecule': molecule_feat},\n",
    "                              dtype='uint8')\n",
    "print(G.info())\n",
    "G.check_graph_for_ml()"
   ]
  },
  {
   "cell_type": "code",
   "execution_count": 7,
   "id": "8ccf42a8",
   "metadata": {},
   "outputs": [],
   "source": [
    "batch_size = 128 #default: 200\n",
    "epochs = 30 #default: 20\n",
    "num_samples = [3, 1]\n",
    "num_workers = multiprocessing.cpu_count()-2"
   ]
  },
  {
   "cell_type": "code",
   "execution_count": 8,
   "id": "40c70f1a",
   "metadata": {},
   "outputs": [
    {
     "name": "stdout",
     "output_type": "stream",
     "text": [
      "Network has 304319 edges of type has\n",
      "Network has 304319 edges of type has\n",
      "** Sampled 30431 positive and 30431 negative edges. **\n"
     ]
    }
   ],
   "source": [
    "# Define an edge splitter on the original graph G:\n",
    "edge_splitter_test = EdgeSplitter(G)\n",
    "\n",
    "# Randomly sample a fraction p=0.3 of all positive links, and same number of negative links, from G, and obtain the\n",
    "# reduced graph G_test with the sampled links removed:\n",
    "G_test, edge_ids_test, edge_labels_test = edge_splitter_test.train_test_split(\n",
    "    p=0.1, method=\"global\", keep_connected=False, edge_label=\"has\"\n",
    ")"
   ]
  },
  {
   "cell_type": "code",
   "execution_count": 9,
   "id": "a1299965",
   "metadata": {},
   "outputs": [
    {
     "name": "stdout",
     "output_type": "stream",
     "text": [
      "Network has 273888 edges of type has\n",
      "Network has 273888 edges of type has\n",
      "** Sampled 27388 positive and 27388 negative edges. **\n"
     ]
    }
   ],
   "source": [
    "# Define an edge splitter on the reduced graph G_test:\n",
    "edge_splitter_train = EdgeSplitter(G_test)\n",
    "\n",
    "# Randomly sample a fraction p=0.3 of all positive links, and same number of negative links, from G_test, and obtain the\n",
    "# reduced graph G_train with the sampled links removed:\n",
    "G_train, edge_ids_train, edge_labels_train = edge_splitter_train.train_test_split(\n",
    "    p=0.1, method=\"global\", keep_connected=False, edge_label=\"has\"\n",
    ")"
   ]
  },
  {
   "cell_type": "code",
   "execution_count": 10,
   "id": "6a4c7cf1",
   "metadata": {},
   "outputs": [
    {
     "name": "stdout",
     "output_type": "stream",
     "text": [
      "StellarDiGraph: Directed multigraph\n",
      " Nodes: 149619, Edges: 550819\n",
      "\n",
      " Node types:\n",
      "  molecule: [115568]\n",
      "    Features: float32 vector, length 1051\n",
      "    Edge types: molecule-present_in->species\n",
      "  species: [34051]\n",
      "    Features: float32 vector, length 69\n",
      "    Edge types: species-has->molecule\n",
      "\n",
      " Edge types:\n",
      "    molecule-present_in->species: [304319]\n",
      "        Weights: all 1 (default)\n",
      "        Features: none\n",
      "    species-has->molecule: [246500]\n",
      "        Weights: all 1 (default)\n",
      "        Features: none\n"
     ]
    }
   ],
   "source": [
    "print(G_train.info())"
   ]
  },
  {
   "cell_type": "code",
   "execution_count": 11,
   "id": "96de8525",
   "metadata": {},
   "outputs": [
    {
     "name": "stdout",
     "output_type": "stream",
     "text": [
      "StellarDiGraph: Directed multigraph\n",
      " Nodes: 149619, Edges: 578207\n",
      "\n",
      " Node types:\n",
      "  molecule: [115568]\n",
      "    Features: float32 vector, length 1051\n",
      "    Edge types: molecule-present_in->species\n",
      "  species: [34051]\n",
      "    Features: float32 vector, length 69\n",
      "    Edge types: species-has->molecule\n",
      "\n",
      " Edge types:\n",
      "    molecule-present_in->species: [304319]\n",
      "        Weights: all 1 (default)\n",
      "        Features: none\n",
      "    species-has->molecule: [273888]\n",
      "        Weights: all 1 (default)\n",
      "        Features: none\n"
     ]
    }
   ],
   "source": [
    "print(G_test.info())"
   ]
  },
  {
   "cell_type": "code",
   "execution_count": 12,
   "id": "7fd9d1d9",
   "metadata": {},
   "outputs": [],
   "source": [
    "train_gen = HinSAGELinkGenerator(G_train,\n",
    "                                 batch_size=batch_size,\n",
    "                                 num_samples=num_samples,\n",
    "                                 head_node_types=[\"species\", \"molecule\"],\n",
    "                                seed=42)\n",
    "train_flow = train_gen.flow(edge_ids_train, edge_labels_train, shuffle=True, seed=42)"
   ]
  },
  {
   "cell_type": "code",
   "execution_count": 13,
   "id": "3d967859",
   "metadata": {},
   "outputs": [],
   "source": [
    "test_gen = HinSAGELinkGenerator(G_test,\n",
    "                                batch_size=batch_size,\n",
    "                                num_samples=num_samples,\n",
    "                                head_node_types=[\"species\", \"molecule\"],\n",
    "                               seed=42)\n",
    "test_flow = test_gen.flow(edge_ids_test, edge_labels_test, seed=42)"
   ]
  },
  {
   "cell_type": "code",
   "execution_count": 14,
   "id": "d94b97ac",
   "metadata": {},
   "outputs": [],
   "source": [
    "hinsage_layer_sizes = [256, 256]\n",
    "hinsage = HinSAGE(layer_sizes=hinsage_layer_sizes,\n",
    "                  generator=train_gen,\n",
    "                  bias=True,\n",
    "                  dropout=0.3,\n",
    "                 activations=['elu','selu'])"
   ]
  },
  {
   "cell_type": "code",
   "execution_count": 15,
   "id": "7f3f8d54",
   "metadata": {},
   "outputs": [
    {
     "name": "stderr",
     "output_type": "stream",
     "text": [
      "/usr/local/Caskroom/mambaforge/base/envs/stellargraph/lib/python3.11/site-packages/keras/src/initializers/initializers.py:120: UserWarning: The initializer GlorotUniform is unseeded and being called multiple times, which will return identical values each time (even if the initializer is unseeded). Please update your code to provide a seed to the initializer, or avoid using the same initializer instance more than once.\n",
      "  warnings.warn(\n"
     ]
    }
   ],
   "source": [
    "# Build the model and expose input and output sockets of graphsage model\n",
    "# for link prediction\n",
    "x_inp, x_out = hinsage.in_out_tensors()"
   ]
  },
  {
   "cell_type": "code",
   "execution_count": 16,
   "id": "96dddf17",
   "metadata": {},
   "outputs": [
    {
     "name": "stdout",
     "output_type": "stream",
     "text": [
      "link_classification: using 'l1' method to combine node embeddings into edge embeddings\n"
     ]
    }
   ],
   "source": [
    "prediction = link_classification(output_dim=1,\n",
    "                                 output_act=\"sigmoid\",\n",
    "                                 edge_embedding_method=\"l1\")(x_out)"
   ]
  },
  {
   "cell_type": "code",
   "execution_count": 17,
   "id": "a49ccd38",
   "metadata": {},
   "outputs": [],
   "source": [
    "model = keras.Model(inputs=x_inp, outputs=prediction)\n",
    "\n",
    "initial_learning_rate = 0.1\n",
    "final_learning_rate = 0.001\n",
    "learning_rate_decay_factor = (final_learning_rate / initial_learning_rate)**(1/epochs)\n",
    "steps_per_epoch = int(edge_ids_train.shape[0]/batch_size)\n",
    "\n",
    "lr_schedule = tf.keras.optimizers.schedules.ExponentialDecay(\n",
    "                initial_learning_rate=initial_learning_rate,\n",
    "                decay_steps=steps_per_epoch,\n",
    "                decay_rate=learning_rate_decay_factor,\n",
    "                staircase=True)\n",
    "\n",
    "optimizer=keras.optimizers.Adam(learning_rate=lr_schedule)\n",
    "#optimizer = mixed_precision.LossScaleOptimizer(optimizer)\n",
    "\n",
    "model.compile(\n",
    "    optimizer=optimizer,\n",
    "    loss=keras.losses.binary_crossentropy,\n",
    "    metrics=[\"AUC\"],\n",
    ")"
   ]
  },
  {
   "cell_type": "code",
   "execution_count": 18,
   "id": "90028704",
   "metadata": {},
   "outputs": [
    {
     "name": "stdout",
     "output_type": "stream",
     "text": [
      "428/428 - 8s - loss: 0.6944 - auc: 0.4935 - 8s/epoch - 18ms/step\n",
      "476/476 - 6s - loss: 0.6943 - auc: 0.4953 - 6s/epoch - 14ms/step\n",
      "\n",
      "Train Set Metrics of the initial (untrained) model:\n",
      "\tloss: 0.6944\n",
      "\tauc: 0.4935\n",
      "\n",
      "Test Set Metrics of the initial (untrained) model:\n",
      "\tloss: 0.6943\n",
      "\tauc: 0.4953\n"
     ]
    }
   ],
   "source": [
    "init_train_metrics = model.evaluate(train_flow, workers=num_workers, verbose=2)\n",
    "init_test_metrics = model.evaluate(test_flow, workers=num_workers, verbose=2)\n",
    "\n",
    "print(\"\\nTrain Set Metrics of the initial (untrained) model:\")\n",
    "for name, val in zip(model.metrics_names, init_train_metrics):\n",
    "    print(\"\\t{}: {:0.4f}\".format(name, val))\n",
    "\n",
    "print(\"\\nTest Set Metrics of the initial (untrained) model:\")\n",
    "for name, val in zip(model.metrics_names, init_test_metrics):\n",
    "    print(\"\\t{}: {:0.4f}\".format(name, val))"
   ]
  },
  {
   "cell_type": "code",
   "execution_count": 19,
   "id": "e34c9a03",
   "metadata": {},
   "outputs": [
    {
     "name": "stdout",
     "output_type": "stream",
     "text": [
      "Epoch 1/30\n",
      "428/428 - 24s - loss: 0.5293 - auc: 0.8018 - val_loss: 0.3914 - val_auc: 0.9052 - 24s/epoch - 57ms/step\n",
      "Epoch 2/30\n",
      "428/428 - 22s - loss: 0.3681 - auc: 0.9135 - val_loss: 0.2836 - val_auc: 0.9502 - 22s/epoch - 51ms/step\n",
      "Epoch 3/30\n",
      "428/428 - 23s - loss: 0.3059 - auc: 0.9412 - val_loss: 0.2489 - val_auc: 0.9615 - 23s/epoch - 55ms/step\n",
      "Epoch 4/30\n",
      "428/428 - 22s - loss: 0.2672 - auc: 0.9553 - val_loss: 0.2300 - val_auc: 0.9684 - 22s/epoch - 51ms/step\n",
      "Epoch 5/30\n",
      "428/428 - 17s - loss: 0.2431 - auc: 0.9630 - val_loss: 0.2165 - val_auc: 0.9715 - 17s/epoch - 40ms/step\n",
      "Epoch 6/30\n",
      "428/428 - 22s - loss: 0.2242 - auc: 0.9686 - val_loss: 0.2080 - val_auc: 0.9735 - 22s/epoch - 50ms/step\n",
      "Epoch 7/30\n",
      "428/428 - 27s - loss: 0.2084 - auc: 0.9727 - val_loss: 0.2040 - val_auc: 0.9763 - 27s/epoch - 64ms/step\n",
      "Epoch 8/30\n",
      "428/428 - 24s - loss: 0.1973 - auc: 0.9755 - val_loss: 0.1857 - val_auc: 0.9785 - 24s/epoch - 55ms/step\n",
      "Epoch 9/30\n",
      "428/428 - 23s - loss: 0.1910 - auc: 0.9769 - val_loss: 0.1851 - val_auc: 0.9799 - 23s/epoch - 53ms/step\n",
      "Epoch 10/30\n",
      "428/428 - 23s - loss: 0.1780 - auc: 0.9800 - val_loss: 0.1874 - val_auc: 0.9796 - 23s/epoch - 53ms/step\n",
      "Epoch 11/30\n",
      "428/428 - 22s - loss: 0.1742 - auc: 0.9807 - val_loss: 0.1867 - val_auc: 0.9803 - 22s/epoch - 52ms/step\n",
      "Epoch 12/30\n",
      "428/428 - 33s - loss: 0.1658 - auc: 0.9826 - val_loss: 0.1766 - val_auc: 0.9814 - 33s/epoch - 78ms/step\n",
      "Epoch 13/30\n",
      "428/428 - 21s - loss: 0.1606 - auc: 0.9836 - val_loss: 0.1762 - val_auc: 0.9820 - 21s/epoch - 49ms/step\n",
      "Epoch 14/30\n",
      "428/428 - 21s - loss: 0.1580 - auc: 0.9841 - val_loss: 0.1825 - val_auc: 0.9818 - 21s/epoch - 49ms/step\n",
      "Epoch 15/30\n",
      "428/428 - 21s - loss: 0.1535 - auc: 0.9850 - val_loss: 0.1778 - val_auc: 0.9819 - 21s/epoch - 48ms/step\n",
      "Epoch 16/30\n",
      "428/428 - 21s - loss: 0.1507 - auc: 0.9854 - val_loss: 0.1776 - val_auc: 0.9821 - 21s/epoch - 49ms/step\n",
      "Epoch 17/30\n",
      "428/428 - 23s - loss: 0.1469 - auc: 0.9861 - val_loss: 0.1790 - val_auc: 0.9819 - 23s/epoch - 53ms/step\n",
      "Epoch 18/30\n",
      "428/428 - 25s - loss: 0.1457 - auc: 0.9864 - val_loss: 0.1659 - val_auc: 0.9829 - 25s/epoch - 58ms/step\n",
      "Epoch 19/30\n",
      "428/428 - 22s - loss: 0.1447 - auc: 0.9866 - val_loss: 0.1757 - val_auc: 0.9821 - 22s/epoch - 52ms/step\n",
      "Epoch 20/30\n",
      "428/428 - 27s - loss: 0.1421 - auc: 0.9870 - val_loss: 0.1753 - val_auc: 0.9823 - 27s/epoch - 63ms/step\n",
      "Epoch 21/30\n",
      "428/428 - 24s - loss: 0.1384 - auc: 0.9877 - val_loss: 0.1711 - val_auc: 0.9827 - 24s/epoch - 57ms/step\n",
      "Epoch 22/30\n",
      "428/428 - 24s - loss: 0.1391 - auc: 0.9876 - val_loss: 0.1729 - val_auc: 0.9827 - 24s/epoch - 56ms/step\n",
      "Epoch 23/30\n",
      "428/428 - 22s - loss: 0.1338 - auc: 0.9884 - val_loss: 0.1693 - val_auc: 0.9831 - 22s/epoch - 50ms/step\n"
     ]
    }
   ],
   "source": [
    "callbacks = keras.callbacks.EarlyStopping(monitor=\"val_loss\",\n",
    "                                          patience=5,\n",
    "                                          mode=\"auto\",\n",
    "                                          restore_best_weights=True)\n",
    "\n",
    "history = model.fit(train_flow,\n",
    "                    epochs=epochs,\n",
    "                    workers=num_workers,\n",
    "                    validation_data=test_flow,\n",
    "                    verbose=2,\n",
    "                    callbacks=[callbacks],\n",
    "                    validation_split=0.0,\n",
    "                    shuffle=True\n",
    "                   )"
   ]
  },
  {
   "cell_type": "code",
   "execution_count": 20,
   "id": "a727f52e",
   "metadata": {
    "scrolled": true
   },
   "outputs": [
    {
     "data": {
      "image/png": "[encoded data removed]",
      "text/plain": [
       "<Figure size 700x800 with 2 Axes>"
      ]
     },
     "metadata": {},
     "output_type": "display_data"
    }
   ],
   "source": [
    "sg.utils.plot_history(history)"
   ]
  },
  {
   "cell_type": "code",
   "execution_count": 21,
   "id": "1fd3266a",
   "metadata": {
    "scrolled": true
   },
   "outputs": [
    {
     "name": "stdout",
     "output_type": "stream",
     "text": [
      "428/428 - 6s - loss: 0.0875 - auc: 0.9948 - 6s/epoch - 14ms/step\n",
      "476/476 - 7s - loss: 0.1699 - auc: 0.9823 - 7s/epoch - 15ms/step\n",
      "\n",
      "Train Set Metrics of the trained model:\n",
      "\tloss: 0.0875\n",
      "\tauc: 0.9948\n",
      "\n",
      "Test Set Metrics of the trained model:\n",
      "\tloss: 0.1699\n",
      "\tauc: 0.9823\n"
     ]
    }
   ],
   "source": [
    "train_metrics = model.evaluate(train_flow, verbose=2)\n",
    "test_metrics = model.evaluate(test_flow, verbose=2)\n",
    "\n",
    "print(\"\\nTrain Set Metrics of the trained model:\")\n",
    "for name, val in zip(model.metrics_names, train_metrics):\n",
    "    print(\"\\t{}: {:0.4f}\".format(name, val))\n",
    "\n",
    "print(\"\\nTest Set Metrics of the trained model:\")\n",
    "for name, val in zip(model.metrics_names, test_metrics):\n",
    "    print(\"\\t{}: {:0.4f}\".format(name, val))"
   ]
  },
  {
   "cell_type": "code",
   "execution_count": 22,
   "id": "0b06144f",
   "metadata": {},
   "outputs": [],
   "source": [
    "def predict(model, flow, iterations=10):\n",
    "    predictions = []\n",
    "    for _ in range(iterations):\n",
    "        predictions.append(model.predict(flow, workers=-1).flatten())\n",
    "\n",
    "    return np.mean(predictions, axis=0)"
   ]
  },
  {
   "cell_type": "code",
   "execution_count": 23,
   "id": "39a63722",
   "metadata": {},
   "outputs": [],
   "source": [
    "test_pred = HinSAGELinkGenerator(G,\n",
    "                                 batch_size=batch_size,\n",
    "                                num_samples=num_samples,\n",
    "                                head_node_types=[\"species\", \"molecule\"],\n",
    "                                seed=42).flow(edge_ids_test, edge_labels_test, seed=42)"
   ]
  },
  {
   "cell_type": "code",
   "execution_count": 24,
   "id": "d59e7dbc",
   "metadata": {},
   "outputs": [
    {
     "name": "stdout",
     "output_type": "stream",
     "text": [
      "476/476 [==============================] - 7s 15ms/step\n",
      "476/476 [==============================] - 9s 18ms/step\n",
      "476/476 [==============================] - 10s 20ms/step\n",
      "476/476 [==============================] - 7s 14ms/step\n",
      "476/476 [==============================] - 6s 14ms/step\n",
      "476/476 [==============================] - 6s 13ms/step\n",
      "476/476 [==============================] - 6s 13ms/step\n",
      "476/476 [==============================] - 6s 13ms/step\n",
      "476/476 [==============================] - 6s 13ms/step\n",
      "476/476 [==============================] - 6s 12ms/step\n"
     ]
    }
   ],
   "source": [
    "predictions = predict(model, test_pred)"
   ]
  },
  {
   "cell_type": "code",
   "execution_count": 25,
   "id": "0690f86d",
   "metadata": {},
   "outputs": [],
   "source": [
    "middle = int(len(predictions)/2)"
   ]
  },
  {
   "cell_type": "code",
   "execution_count": 26,
   "id": "6ec79eea",
   "metadata": {},
   "outputs": [
    {
     "data": {
      "text/plain": [
       "0.94190764"
      ]
     },
     "execution_count": 26,
     "metadata": {},
     "output_type": "execute_result"
    }
   ],
   "source": [
    "np.mean(predictions[:middle])"
   ]
  },
  {
   "cell_type": "code",
   "execution_count": 27,
   "id": "9edf1028",
   "metadata": {},
   "outputs": [
    {
     "data": {
      "text/plain": [
       "0.093591586"
      ]
     },
     "execution_count": 27,
     "metadata": {},
     "output_type": "execute_result"
    }
   ],
   "source": [
    "np.mean(predictions[middle:])"
   ]
  },
  {
   "cell_type": "code",
   "execution_count": 28,
   "id": "68b35e84",
   "metadata": {},
   "outputs": [],
   "source": [
    "test = predictions[(predictions>0.5) | (predictions<0.5)]\n",
    "test = test>0.5"
   ]
  },
  {
   "cell_type": "code",
   "execution_count": 29,
   "id": "8c10314e",
   "metadata": {},
   "outputs": [],
   "source": [
    "test = test.astype('int8')"
   ]
  },
  {
   "cell_type": "code",
   "execution_count": 30,
   "id": "7db6b010",
   "metadata": {
    "scrolled": true
   },
   "outputs": [
    {
     "data": {
      "text/plain": [
       "(array([24391.,  1683.,  1073.,   783.,   743.,   724.,   987.,  1502.,\n",
       "         3416., 25560.]),\n",
       " array([8.70583072e-09, 9.99987572e-02, 1.99997500e-01, 2.99996257e-01,\n",
       "        3.99994999e-01, 4.99993742e-01, 5.99992514e-01, 6.99991226e-01,\n",
       "        7.99989998e-01, 8.99988711e-01, 9.99987483e-01]),\n",
       " <BarContainer object of 10 artists>)"
      ]
     },
     "execution_count": 30,
     "metadata": {},
     "output_type": "execute_result"
    },
    {
     "data": {
      "image/png": "[encoded data removed]",
      "text/plain": [
       "<Figure size 640x480 with 1 Axes>"
      ]
     },
     "metadata": {},
     "output_type": "display_data"
    }
   ],
   "source": [
    "plt.hist(predictions)"
   ]
  },
  {
   "cell_type": "code",
   "execution_count": 31,
   "id": "cfacbdfb",
   "metadata": {},
   "outputs": [
    {
     "data": {
      "text/plain": [
       "(array([    1,     2,     3, ..., 60858, 60860, 60861]),)"
      ]
     },
     "execution_count": 31,
     "metadata": {},
     "output_type": "execute_result"
    }
   ],
   "source": [
    "np.where((predictions>0.9) | (predictions<0.1))"
   ]
  },
  {
   "cell_type": "code",
   "execution_count": 32,
   "id": "df2f017e",
   "metadata": {
    "scrolled": true
   },
   "outputs": [
    {
     "data": {
      "text/plain": [
       "0.9573132660773553"
      ]
     },
     "execution_count": 32,
     "metadata": {},
     "output_type": "execute_result"
    }
   ],
   "source": [
    "sum(test == edge_labels_test[np.where((predictions>0.5) | (predictions<0.5))])/len(test)"
   ]
  },
  {
   "cell_type": "code",
   "execution_count": 33,
   "id": "0c82ada5",
   "metadata": {},
   "outputs": [
    {
     "data": {
      "text/plain": [
       "1.0"
      ]
     },
     "execution_count": 33,
     "metadata": {},
     "output_type": "execute_result"
    }
   ],
   "source": [
    "len(test)/len(predictions)"
   ]
  },
  {
   "cell_type": "code",
   "execution_count": 34,
   "id": "88a45c64",
   "metadata": {
    "scrolled": true
   },
   "outputs": [
    {
     "name": "stdout",
     "output_type": "stream",
     "text": [
      "INFO:tensorflow:Assets written to: ./model/gbif_batch_128_layer_256_s_to_m/assets\n"
     ]
    },
    {
     "name": "stderr",
     "output_type": "stream",
     "text": [
      "INFO:tensorflow:Assets written to: ./model/gbif_batch_128_layer_256_s_to_m/assets\n"
     ]
    }
   ],
   "source": [
    "model.save(f\"./model/gbif_batch_{batch_size}_layer_{hinsage_layer_sizes[0]}_s_to_m\")"
   ]
  }
 ],
 "metadata": {
  "kernelspec": {
   "display_name": "Python 3 (ipykernel)",
   "language": "python",
   "name": "python3"
  },
  "language_info": {
   "codemirror_mode": {
    "name": "ipython",
    "version": 3
   },
   "file_extension": ".py",
   "mimetype": "text/x-python",
   "name": "python",
   "nbconvert_exporter": "python",
   "pygments_lexer": "ipython3",
   "version": "3.11.4"
  }
 },
 "nbformat": 4,
 "nbformat_minor": 5
}
