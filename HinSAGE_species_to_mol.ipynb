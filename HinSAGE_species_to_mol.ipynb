{
 "cells": [
  {
   "cell_type": "code",
   "execution_count": 1,
   "id": "0c37f03d",
   "metadata": {
    "scrolled": true
   },
   "outputs": [],
   "source": [
    "import os\n",
    "os.environ['TF_CPP_MIN_LOG_LEVEL'] = '3' \n",
    "import networkx as nx\n",
    "import itertools\n",
    "import pandas as pd\n",
    "import numpy as np\n",
    "from stellargraph import StellarGraph\n",
    "from rdkit.Chem import AllChem, DataStructs\n",
    "import json\n",
    "from sklearn import preprocessing, feature_extraction, model_selection\n",
    "from sklearn.metrics import mean_absolute_error, mean_squared_error\n",
    "from tensorflow import keras\n",
    "import tensorflow as tf\n",
    "\n",
    "import stellargraph as sg\n",
    "from stellargraph.data import EdgeSplitter\n",
    "from stellargraph.mapper import HinSAGELinkGenerator\n",
    "from stellargraph.layer import HinSAGE, link_classification\n",
    "from tensorflow.keras import Model, optimizers, losses, metrics\n",
    "\n",
    "import multiprocessing\n",
    "from stellargraph import datasets\n",
    "from IPython.display import display, HTML\n",
    "import matplotlib.pyplot as plt\n",
    "from tensorflow.keras import mixed_precision"
   ]
  },
  {
   "cell_type": "code",
   "execution_count": 2,
   "id": "5abe1765",
   "metadata": {
    "scrolled": true
   },
   "outputs": [],
   "source": [
    "g = nx.read_graphml(\"./graph/train_graph.gml\")\n",
    "species_features_dummy = pd.read_csv(\"./data/species_features.csv.gz\", index_col=0).astype('uint8')\n",
    "molecule_features_dummy = pd.read_csv(\"./data/molecule_features.csv.gz\", index_col=0).astype(\"uint8\")\n",
    "df_agg = pd.read_csv(\"./data/lotus_agg_train.csv.gz\", index_col=0)"
   ]
  },
  {
   "cell_type": "code",
   "execution_count": 3,
   "id": "295f5d2c-454c-4fca-a079-401faabbdccf",
   "metadata": {},
   "outputs": [],
   "source": [
    "rdkit = pd.read_csv(\"./data/mol_dummy_rdkit.csv.gz\", index_col=0).astype('int8')\n",
    "molecule_features_dummy = molecule_features_dummy.merge(rdkit,\n",
    "                                                        left_index=True,\n",
    "                                                        right_index=True)"
   ]
  },
  {
   "cell_type": "code",
   "execution_count": 4,
   "id": "e4a4f351",
   "metadata": {},
   "outputs": [],
   "source": [
    "species_test = species_features_dummy[~species_features_dummy.index.isin(df_agg.organism_name)].index\n",
    "mol_test = molecule_features_dummy[~molecule_features_dummy.index.isin(df_agg.structure_smiles_2D)].index"
   ]
  },
  {
   "cell_type": "code",
   "execution_count": 5,
   "id": "c4f8e442",
   "metadata": {},
   "outputs": [],
   "source": [
    "species_feat = species_features_dummy[species_features_dummy.index.isin(df_agg.organism_name)]\n",
    "molecule_feat = molecule_features_dummy[molecule_features_dummy.index.isin(df_agg.structure_smiles_2D)]"
   ]
  },
  {
   "cell_type": "code",
   "execution_count": 6,
   "id": "414372ea",
   "metadata": {},
   "outputs": [
    {
     "name": "stdout",
     "output_type": "stream",
     "text": [
      "StellarDiGraph: Directed multigraph\n",
      " Nodes: 149619, Edges: 608638\n",
      "\n",
      " Node types:\n",
      "  molecule: [115568]\n",
      "    Features: uint8 vector, length 1051\n",
      "    Edge types: molecule-present_in->species\n",
      "  species: [34051]\n",
      "    Features: uint8 vector, length 69\n",
      "    Edge types: species-has->molecule\n",
      "\n",
      " Edge types:\n",
      "    species-has->molecule: [304319]\n",
      "        Weights: all 1 (default)\n",
      "        Features: none\n",
      "    molecule-present_in->species: [304319]\n",
      "        Weights: all 1 (default)\n",
      "        Features: none\n"
     ]
    }
   ],
   "source": [
    "G = StellarGraph.from_networkx(g,\n",
    "                               node_features={'species':species_feat,\n",
    "                                              'molecule': molecule_feat},\n",
    "                              dtype='uint8')\n",
    "print(G.info())\n",
    "G.check_graph_for_ml()"
   ]
  },
  {
   "cell_type": "code",
   "execution_count": 7,
   "id": "8ccf42a8",
   "metadata": {},
   "outputs": [],
   "source": [
    "batch_size = 128 #default: 200\n",
    "epochs = 30 #default: 20\n",
    "num_samples = [3, 1]\n",
    "num_workers = multiprocessing.cpu_count()-2"
   ]
  },
  {
   "cell_type": "code",
   "execution_count": 8,
   "id": "40c70f1a",
   "metadata": {},
   "outputs": [
    {
     "name": "stdout",
     "output_type": "stream",
     "text": [
      "Network has 304319 edges of type has\n",
      "Network has 304319 edges of type has\n",
      "** Sampled 30431 positive and 30431 negative edges. **\n"
     ]
    }
   ],
   "source": [
    "# Define an edge splitter on the original graph G:\n",
    "edge_splitter_test = EdgeSplitter(G)\n",
    "\n",
    "# Randomly sample a fraction p=0.3 of all positive links, and same number of negative links, from G, and obtain the\n",
    "# reduced graph G_test with the sampled links removed:\n",
    "G_test, edge_ids_test, edge_labels_test = edge_splitter_test.train_test_split(\n",
    "    p=0.1, method=\"global\", keep_connected=False, edge_label=\"has\"\n",
    ")"
   ]
  },
  {
   "cell_type": "code",
   "execution_count": 9,
   "id": "a1299965",
   "metadata": {},
   "outputs": [
    {
     "name": "stdout",
     "output_type": "stream",
     "text": [
      "Network has 273888 edges of type has\n",
      "Network has 273888 edges of type has\n",
      "** Sampled 27388 positive and 27388 negative edges. **\n"
     ]
    }
   ],
   "source": [
    "# Define an edge splitter on the reduced graph G_test:\n",
    "edge_splitter_train = EdgeSplitter(G_test)\n",
    "\n",
    "# Randomly sample a fraction p=0.3 of all positive links, and same number of negative links, from G_test, and obtain the\n",
    "# reduced graph G_train with the sampled links removed:\n",
    "G_train, edge_ids_train, edge_labels_train = edge_splitter_train.train_test_split(\n",
    "    p=0.1, method=\"global\", keep_connected=False, edge_label=\"has\"\n",
    ")"
   ]
  },
  {
   "cell_type": "code",
   "execution_count": 10,
   "id": "6a4c7cf1",
   "metadata": {},
   "outputs": [
    {
     "name": "stdout",
     "output_type": "stream",
     "text": [
      "StellarDiGraph: Directed multigraph\n",
      " Nodes: 149619, Edges: 550819\n",
      "\n",
      " Node types:\n",
      "  molecule: [115568]\n",
      "    Features: float32 vector, length 1051\n",
      "    Edge types: molecule-present_in->species\n",
      "  species: [34051]\n",
      "    Features: float32 vector, length 69\n",
      "    Edge types: species-has->molecule\n",
      "\n",
      " Edge types:\n",
      "    molecule-present_in->species: [304319]\n",
      "        Weights: all 1 (default)\n",
      "        Features: none\n",
      "    species-has->molecule: [246500]\n",
      "        Weights: all 1 (default)\n",
      "        Features: none\n"
     ]
    }
   ],
   "source": [
    "print(G_train.info())"
   ]
  },
  {
   "cell_type": "code",
   "execution_count": 11,
   "id": "96de8525",
   "metadata": {},
   "outputs": [
    {
     "name": "stdout",
     "output_type": "stream",
     "text": [
      "StellarDiGraph: Directed multigraph\n",
      " Nodes: 149619, Edges: 578207\n",
      "\n",
      " Node types:\n",
      "  molecule: [115568]\n",
      "    Features: float32 vector, length 1051\n",
      "    Edge types: molecule-present_in->species\n",
      "  species: [34051]\n",
      "    Features: float32 vector, length 69\n",
      "    Edge types: species-has->molecule\n",
      "\n",
      " Edge types:\n",
      "    molecule-present_in->species: [304319]\n",
      "        Weights: all 1 (default)\n",
      "        Features: none\n",
      "    species-has->molecule: [273888]\n",
      "        Weights: all 1 (default)\n",
      "        Features: none\n"
     ]
    }
   ],
   "source": [
    "print(G_test.info())"
   ]
  },
  {
   "cell_type": "code",
   "execution_count": 12,
   "id": "7fd9d1d9",
   "metadata": {},
   "outputs": [],
   "source": [
    "train_gen = HinSAGELinkGenerator(G_train,\n",
    "                                 batch_size=batch_size,\n",
    "                                 num_samples=num_samples,\n",
    "                                 head_node_types=[\"species\", \"molecule\"],\n",
    "                                seed=42)\n",
    "train_flow = train_gen.flow(edge_ids_train, edge_labels_train, shuffle=True, seed=42)"
   ]
  },
  {
   "cell_type": "code",
   "execution_count": 13,
   "id": "3d967859",
   "metadata": {},
   "outputs": [],
   "source": [
    "test_gen = HinSAGELinkGenerator(G_test,\n",
    "                                batch_size=batch_size,\n",
    "                                num_samples=num_samples,\n",
    "                                head_node_types=[\"species\", \"molecule\"],\n",
    "                               seed=42)\n",
    "test_flow = test_gen.flow(edge_ids_test, edge_labels_test, seed=42)"
   ]
  },
  {
   "cell_type": "code",
   "execution_count": 14,
   "id": "d94b97ac",
   "metadata": {},
   "outputs": [],
   "source": [
    "hinsage_layer_sizes = [1024, 1024]\n",
    "hinsage = HinSAGE(layer_sizes=hinsage_layer_sizes,\n",
    "                  generator=train_gen,\n",
    "                  bias=True,\n",
    "                  dropout=0.3,\n",
    "                 activations=['elu','selu'])"
   ]
  },
  {
   "cell_type": "code",
   "execution_count": 15,
   "id": "7f3f8d54",
   "metadata": {},
   "outputs": [
    {
     "name": "stderr",
     "output_type": "stream",
     "text": [
      "/usr/local/Caskroom/mambaforge/base/envs/stellargraph/lib/python3.11/site-packages/keras/src/initializers/initializers.py:120: UserWarning: The initializer GlorotUniform is unseeded and being called multiple times, which will return identical values each time (even if the initializer is unseeded). Please update your code to provide a seed to the initializer, or avoid using the same initializer instance more than once.\n",
      "  warnings.warn(\n"
     ]
    }
   ],
   "source": [
    "# Build the model and expose input and output sockets of graphsage model\n",
    "# for link prediction\n",
    "x_inp, x_out = hinsage.in_out_tensors()"
   ]
  },
  {
   "cell_type": "code",
   "execution_count": 16,
   "id": "96dddf17",
   "metadata": {},
   "outputs": [
    {
     "name": "stdout",
     "output_type": "stream",
     "text": [
      "link_classification: using 'l1' method to combine node embeddings into edge embeddings\n"
     ]
    }
   ],
   "source": [
    "prediction = link_classification(output_dim=1,\n",
    "                                 output_act=\"sigmoid\",\n",
    "                                 edge_embedding_method=\"l1\")(x_out)"
   ]
  },
  {
   "cell_type": "code",
   "execution_count": 17,
   "id": "a49ccd38",
   "metadata": {},
   "outputs": [],
   "source": [
    "model = keras.Model(inputs=x_inp, outputs=prediction)\n",
    "\n",
    "initial_learning_rate = 0.1\n",
    "final_learning_rate = 0.001\n",
    "learning_rate_decay_factor = (final_learning_rate / initial_learning_rate)**(1/epochs)\n",
    "steps_per_epoch = int(edge_ids_train.shape[0]/batch_size)\n",
    "\n",
    "lr_schedule = tf.keras.optimizers.schedules.ExponentialDecay(\n",
    "                initial_learning_rate=initial_learning_rate,\n",
    "                decay_steps=steps_per_epoch,\n",
    "                decay_rate=learning_rate_decay_factor,\n",
    "                staircase=True)\n",
    "\n",
    "optimizer=keras.optimizers.Adam(learning_rate=lr_schedule)\n",
    "#optimizer = mixed_precision.LossScaleOptimizer(optimizer)\n",
    "\n",
    "model.compile(\n",
    "    optimizer=optimizer,\n",
    "    loss=keras.losses.binary_crossentropy,\n",
    "    metrics=[\"AUC\"],\n",
    ")"
   ]
  },
  {
   "cell_type": "code",
   "execution_count": 18,
   "id": "90028704",
   "metadata": {},
   "outputs": [
    {
     "name": "stdout",
     "output_type": "stream",
     "text": [
      "428/428 - 10s - loss: 0.6932 - auc: 0.5085 - 10s/epoch - 23ms/step\n",
      "476/476 - 13s - loss: 0.6931 - auc: 0.5113 - 13s/epoch - 28ms/step\n",
      "\n",
      "Train Set Metrics of the initial (untrained) model:\n",
      "\tloss: 0.6932\n",
      "\tauc: 0.5085\n",
      "\n",
      "Test Set Metrics of the initial (untrained) model:\n",
      "\tloss: 0.6931\n",
      "\tauc: 0.5113\n"
     ]
    }
   ],
   "source": [
    "init_train_metrics = model.evaluate(train_flow, workers=num_workers, verbose=2)\n",
    "init_test_metrics = model.evaluate(test_flow, workers=num_workers, verbose=2)\n",
    "\n",
    "print(\"\\nTrain Set Metrics of the initial (untrained) model:\")\n",
    "for name, val in zip(model.metrics_names, init_train_metrics):\n",
    "    print(\"\\t{}: {:0.4f}\".format(name, val))\n",
    "\n",
    "print(\"\\nTest Set Metrics of the initial (untrained) model:\")\n",
    "for name, val in zip(model.metrics_names, init_test_metrics):\n",
    "    print(\"\\t{}: {:0.4f}\".format(name, val))"
   ]
  },
  {
   "cell_type": "code",
   "execution_count": 19,
   "id": "e34c9a03",
   "metadata": {},
   "outputs": [
    {
     "name": "stdout",
     "output_type": "stream",
     "text": [
      "Epoch 1/30\n",
      "428/428 - 46s - loss: 0.5231 - auc: 0.8081 - val_loss: 0.3510 - val_auc: 0.9230 - 46s/epoch - 108ms/step\n",
      "Epoch 2/30\n",
      "428/428 - 42s - loss: 0.3396 - auc: 0.9278 - val_loss: 0.2936 - val_auc: 0.9495 - 42s/epoch - 99ms/step\n",
      "Epoch 3/30\n",
      "428/428 - 42s - loss: 0.2803 - auc: 0.9510 - val_loss: 0.2462 - val_auc: 0.9626 - 42s/epoch - 97ms/step\n",
      "Epoch 4/30\n",
      "428/428 - 42s - loss: 0.2411 - auc: 0.9637 - val_loss: 0.2345 - val_auc: 0.9711 - 42s/epoch - 99ms/step\n",
      "Epoch 5/30\n",
      "428/428 - 47s - loss: 0.2081 - auc: 0.9728 - val_loss: 0.2008 - val_auc: 0.9749 - 47s/epoch - 111ms/step\n",
      "Epoch 6/30\n",
      "428/428 - 43s - loss: 0.1812 - auc: 0.9793 - val_loss: 0.1902 - val_auc: 0.9777 - 43s/epoch - 101ms/step\n",
      "Epoch 7/30\n",
      "428/428 - 37s - loss: 0.1643 - auc: 0.9827 - val_loss: 0.1818 - val_auc: 0.9795 - 37s/epoch - 87ms/step\n",
      "Epoch 8/30\n",
      "428/428 - 50s - loss: 0.1498 - auc: 0.9855 - val_loss: 0.1769 - val_auc: 0.9807 - 50s/epoch - 116ms/step\n",
      "Epoch 9/30\n",
      "428/428 - 41s - loss: 0.1391 - auc: 0.9873 - val_loss: 0.1726 - val_auc: 0.9818 - 41s/epoch - 95ms/step\n",
      "Epoch 10/30\n",
      "428/428 - 40s - loss: 0.1285 - auc: 0.9891 - val_loss: 0.1738 - val_auc: 0.9819 - 40s/epoch - 94ms/step\n",
      "Epoch 11/30\n",
      "428/428 - 38s - loss: 0.1167 - auc: 0.9910 - val_loss: 0.1695 - val_auc: 0.9827 - 38s/epoch - 89ms/step\n",
      "Epoch 12/30\n",
      "428/428 - 39s - loss: 0.1162 - auc: 0.9911 - val_loss: 0.1693 - val_auc: 0.9835 - 39s/epoch - 92ms/step\n",
      "Epoch 13/30\n",
      "428/428 - 41s - loss: 0.1060 - auc: 0.9926 - val_loss: 0.1743 - val_auc: 0.9832 - 41s/epoch - 95ms/step\n",
      "Epoch 14/30\n",
      "428/428 - 41s - loss: 0.0992 - auc: 0.9933 - val_loss: 0.1714 - val_auc: 0.9833 - 41s/epoch - 95ms/step\n",
      "Epoch 15/30\n",
      "428/428 - 41s - loss: 0.0949 - auc: 0.9937 - val_loss: 0.1662 - val_auc: 0.9837 - 41s/epoch - 96ms/step\n",
      "Epoch 16/30\n",
      "428/428 - 43s - loss: 0.0905 - auc: 0.9944 - val_loss: 0.1660 - val_auc: 0.9841 - 43s/epoch - 100ms/step\n",
      "Epoch 17/30\n",
      "428/428 - 43s - loss: 0.0889 - auc: 0.9943 - val_loss: 0.1702 - val_auc: 0.9840 - 43s/epoch - 99ms/step\n",
      "Epoch 18/30\n",
      "428/428 - 42s - loss: 0.0849 - auc: 0.9951 - val_loss: 0.1733 - val_auc: 0.9837 - 42s/epoch - 99ms/step\n",
      "Epoch 19/30\n",
      "428/428 - 41s - loss: 0.0818 - auc: 0.9953 - val_loss: 0.1759 - val_auc: 0.9834 - 41s/epoch - 95ms/step\n",
      "Epoch 20/30\n",
      "428/428 - 41s - loss: 0.0823 - auc: 0.9954 - val_loss: 0.1705 - val_auc: 0.9840 - 41s/epoch - 96ms/step\n",
      "Epoch 21/30\n",
      "428/428 - 41s - loss: 0.0813 - auc: 0.9952 - val_loss: 0.1711 - val_auc: 0.9838 - 41s/epoch - 95ms/step\n"
     ]
    }
   ],
   "source": [
    "callbacks = keras.callbacks.EarlyStopping(monitor=\"val_loss\",\n",
    "                                          patience=5,\n",
    "                                          mode=\"auto\",\n",
    "                                          restore_best_weights=True)\n",
    "\n",
    "history = model.fit(train_flow,\n",
    "                    epochs=epochs,\n",
    "                    workers=num_workers,\n",
    "                    validation_data=test_flow,\n",
    "                    verbose=2,\n",
    "                    callbacks=[callbacks],\n",
    "                    validation_split=0.0,\n",
    "                    shuffle=True\n",
    "                   )"
   ]
  },
  {
   "cell_type": "code",
   "execution_count": 20,
   "id": "a727f52e",
   "metadata": {
    "scrolled": true
   },
   "outputs": [
    {
     "data": {
      "image/png": "[encoded data removed]",
      "text/plain": [
       "<Figure size 700x800 with 2 Axes>"
      ]
     },
     "metadata": {},
     "output_type": "display_data"
    }
   ],
   "source": [
    "sg.utils.plot_history(history)"
   ]
  },
  {
   "cell_type": "code",
   "execution_count": 21,
   "id": "1fd3266a",
   "metadata": {
    "scrolled": true
   },
   "outputs": [
    {
     "name": "stdout",
     "output_type": "stream",
     "text": [
      "428/428 - 10s - loss: 0.0457 - auc: 0.9984 - 10s/epoch - 24ms/step\n",
      "476/476 - 9s - loss: 0.1686 - auc: 0.9836 - 9s/epoch - 20ms/step\n",
      "\n",
      "Train Set Metrics of the trained model:\n",
      "\tloss: 0.0457\n",
      "\tauc: 0.9984\n",
      "\n",
      "Test Set Metrics of the trained model:\n",
      "\tloss: 0.1686\n",
      "\tauc: 0.9836\n"
     ]
    }
   ],
   "source": [
    "train_metrics = model.evaluate(train_flow, verbose=2)\n",
    "test_metrics = model.evaluate(test_flow, verbose=2)\n",
    "\n",
    "print(\"\\nTrain Set Metrics of the trained model:\")\n",
    "for name, val in zip(model.metrics_names, train_metrics):\n",
    "    print(\"\\t{}: {:0.4f}\".format(name, val))\n",
    "\n",
    "print(\"\\nTest Set Metrics of the trained model:\")\n",
    "for name, val in zip(model.metrics_names, test_metrics):\n",
    "    print(\"\\t{}: {:0.4f}\".format(name, val))"
   ]
  },
  {
   "cell_type": "code",
   "execution_count": 22,
   "id": "0b06144f",
   "metadata": {},
   "outputs": [],
   "source": [
    "def predict(model, flow, iterations=10):\n",
    "    predictions = []\n",
    "    for _ in range(iterations):\n",
    "        predictions.append(model.predict(flow, workers=-1).flatten())\n",
    "\n",
    "    return np.mean(predictions, axis=0)"
   ]
  },
  {
   "cell_type": "code",
   "execution_count": 23,
   "id": "39a63722",
   "metadata": {},
   "outputs": [],
   "source": [
    "test_pred = HinSAGELinkGenerator(G,\n",
    "                                 batch_size=batch_size,\n",
    "                                num_samples=num_samples,\n",
    "                                head_node_types=[\"species\", \"molecule\"],\n",
    "                                seed=42).flow(edge_ids_test, edge_labels_test, seed=42)"
   ]
  },
  {
   "cell_type": "code",
   "execution_count": 24,
   "id": "d59e7dbc",
   "metadata": {},
   "outputs": [
    {
     "name": "stdout",
     "output_type": "stream",
     "text": [
      "476/476 [==============================] - 11s 22ms/step\n",
      "476/476 [==============================] - 10s 21ms/step\n",
      "476/476 [==============================] - 10s 21ms/step\n",
      "476/476 [==============================] - 10s 21ms/step\n",
      "476/476 [==============================] - 10s 22ms/step\n",
      "476/476 [==============================] - 10s 21ms/step\n",
      "476/476 [==============================] - 12s 25ms/step\n",
      "476/476 [==============================] - 10s 21ms/step\n",
      "476/476 [==============================] - 10s 22ms/step\n",
      "476/476 [==============================] - 10s 21ms/step\n"
     ]
    }
   ],
   "source": [
    "predictions = predict(model, test_pred)"
   ]
  },
  {
   "cell_type": "code",
   "execution_count": 25,
   "id": "0690f86d",
   "metadata": {},
   "outputs": [],
   "source": [
    "middle = int(len(predictions)/2)"
   ]
  },
  {
   "cell_type": "code",
   "execution_count": 26,
   "id": "6ec79eea",
   "metadata": {},
   "outputs": [
    {
     "data": {
      "text/plain": [
       "0.9518543"
      ]
     },
     "execution_count": 26,
     "metadata": {},
     "output_type": "execute_result"
    }
   ],
   "source": [
    "np.mean(predictions[:middle])"
   ]
  },
  {
   "cell_type": "code",
   "execution_count": 27,
   "id": "9edf1028",
   "metadata": {},
   "outputs": [
    {
     "data": {
      "text/plain": [
       "0.07954528"
      ]
     },
     "execution_count": 27,
     "metadata": {},
     "output_type": "execute_result"
    }
   ],
   "source": [
    "np.mean(predictions[middle:])"
   ]
  },
  {
   "cell_type": "code",
   "execution_count": 28,
   "id": "68b35e84",
   "metadata": {},
   "outputs": [],
   "source": [
    "test = predictions[(predictions>0.5) | (predictions<0.5)]\n",
    "test = test>0.5"
   ]
  },
  {
   "cell_type": "code",
   "execution_count": 29,
   "id": "8c10314e",
   "metadata": {},
   "outputs": [],
   "source": [
    "test = test.astype('int8')"
   ]
  },
  {
   "cell_type": "code",
   "execution_count": 30,
   "id": "7db6b010",
   "metadata": {
    "scrolled": true
   },
   "outputs": [
    {
     "data": {
      "text/plain": [
       "(array([25592.,  1236.,   788.,   663.,   561.,   687.,   881.,  1289.,\n",
       "         2521., 26644.]),\n",
       " array([3.94728902e-11, 9.99999046e-02, 1.99999809e-01, 2.99999714e-01,\n",
       "        3.99999619e-01, 4.99999523e-01, 5.99999428e-01, 6.99999332e-01,\n",
       "        7.99999237e-01, 8.99999142e-01, 9.99999046e-01]),\n",
       " <BarContainer object of 10 artists>)"
      ]
     },
     "execution_count": 30,
     "metadata": {},
     "output_type": "execute_result"
    },
    {
     "data": {
      "image/png": "[encoded data removed]",
      "text/plain": [
       "<Figure size 640x480 with 1 Axes>"
      ]
     },
     "metadata": {},
     "output_type": "display_data"
    }
   ],
   "source": [
    "plt.hist(predictions)"
   ]
  },
  {
   "cell_type": "code",
   "execution_count": 31,
   "id": "cfacbdfb",
   "metadata": {},
   "outputs": [
    {
     "data": {
      "text/plain": [
       "(array([    0,     1,     2, ..., 60859, 60860, 60861]),)"
      ]
     },
     "execution_count": 31,
     "metadata": {},
     "output_type": "execute_result"
    }
   ],
   "source": [
    "np.where((predictions>0.9) | (predictions<0.1))"
   ]
  },
  {
   "cell_type": "code",
   "execution_count": 32,
   "id": "df2f017e",
   "metadata": {
    "scrolled": true
   },
   "outputs": [
    {
     "data": {
      "text/plain": [
       "0.9618316847951103"
      ]
     },
     "execution_count": 32,
     "metadata": {},
     "output_type": "execute_result"
    }
   ],
   "source": [
    "sum(test == edge_labels_test[np.where((predictions>0.5) | (predictions<0.5))])/len(test)"
   ]
  },
  {
   "cell_type": "code",
   "execution_count": 33,
   "id": "0c82ada5",
   "metadata": {},
   "outputs": [
    {
     "data": {
      "text/plain": [
       "1.0"
      ]
     },
     "execution_count": 33,
     "metadata": {},
     "output_type": "execute_result"
    }
   ],
   "source": [
    "len(test)/len(predictions)"
   ]
  },
  {
   "cell_type": "code",
   "execution_count": 34,
   "id": "88a45c64",
   "metadata": {
    "scrolled": true
   },
   "outputs": [
    {
     "name": "stdout",
     "output_type": "stream",
     "text": [
      "INFO:tensorflow:Assets written to: ./model/gbif_batch_128_layer_1024_s_to_m/assets\n"
     ]
    },
    {
     "name": "stderr",
     "output_type": "stream",
     "text": [
      "INFO:tensorflow:Assets written to: ./model/gbif_batch_128_layer_1024_s_to_m/assets\n"
     ]
    }
   ],
   "source": [
    "model.save(f\"./model/gbif_batch_{batch_size}_layer_{hinsage_layer_sizes[0]}_s_to_m\")"
   ]
  }
 ],
 "metadata": {
  "kernelspec": {
   "display_name": "Python 3 (ipykernel)",
   "language": "python",
   "name": "python3"
  },
  "language_info": {
   "codemirror_mode": {
    "name": "ipython",
    "version": 3
   },
   "file_extension": ".py",
   "mimetype": "text/x-python",
   "name": "python",
   "nbconvert_exporter": "python",
   "pygments_lexer": "ipython3",
   "version": "3.11.4"
  }
 },
 "nbformat": 4,
 "nbformat_minor": 5
}
