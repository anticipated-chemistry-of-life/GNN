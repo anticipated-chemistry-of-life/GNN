{
 "cells": [
  {
   "cell_type": "code",
   "execution_count": 1,
   "id": "0c37f03d",
   "metadata": {
    "scrolled": true
   },
   "outputs": [
    {
     "name": "stderr",
     "output_type": "stream",
     "text": [
      "2023-07-04 15:56:31.262042: I tensorflow/core/platform/cpu_feature_guard.cc:193] This TensorFlow binary is optimized with oneAPI Deep Neural Network Library (oneDNN) to use the following CPU instructions in performance-critical operations:  SSE4.1 SSE4.2 AVX AVX2 FMA\n",
      "To enable them in other operations, rebuild TensorFlow with the appropriate compiler flags.\n",
      "2023-07-04 15:56:34.844753: I tensorflow/core/platform/cpu_feature_guard.cc:193] This TensorFlow binary is optimized with oneAPI Deep Neural Network Library (oneDNN) to use the following CPU instructions in performance-critical operations:  SSE4.1 SSE4.2 AVX AVX2 FMA\n",
      "To enable them in other operations, rebuild TensorFlow with the appropriate compiler flags.\n"
     ]
    }
   ],
   "source": [
    "import networkx as nx\n",
    "import itertools\n",
    "import pandas as pd\n",
    "import numpy as np\n",
    "from stellargraph import StellarGraph\n",
    "from rdkit.Chem import AllChem, DataStructs\n",
    "import json\n",
    "from sklearn import preprocessing, feature_extraction, model_selection\n",
    "from sklearn.metrics import mean_absolute_error, mean_squared_error\n",
    "from tensorflow import keras\n",
    "import tensorflow as tf\n",
    "\n",
    "import stellargraph as sg\n",
    "from stellargraph.data import EdgeSplitter\n",
    "from stellargraph.mapper import HinSAGELinkGenerator\n",
    "from stellargraph.layer import HinSAGE, link_classification\n",
    "from tensorflow.keras import Model, optimizers, losses, metrics\n",
    "\n",
    "import multiprocessing\n",
    "from stellargraph import datasets\n",
    "from IPython.display import display, HTML\n",
    "import matplotlib.pyplot as plt\n",
    "from tensorflow.keras import mixed_precision"
   ]
  },
  {
   "cell_type": "code",
   "execution_count": 2,
   "id": "5abe1765",
   "metadata": {
    "scrolled": true
   },
   "outputs": [],
   "source": [
    "g = nx.read_graphml(\"./graph/train_graph.gml\")\n",
    "species_features_dummy = pd.read_csv(\"./data/species_features.csv.gz\", index_col=0).astype('uint8')\n",
    "#species_features_dummy = pd.read_csv(\"./data/species_BaseNEncoder.csv.gz\", index_col=0)\n",
    "#species_features_dummy = pd.read_csv(\"./data/species_Multi_dim_scale.csv.gz\", index_col=0)\n",
    "molecule_features_dummy = pd.read_csv(\"./data/molecule_features.csv.gz\", index_col=0).astype(\"uint8\")\n",
    "df_agg = pd.read_csv(\"./data/lotus_agg_train.csv.gz\", index_col=0)\n",
    "#molecule_features_dummy = pd.read_csv(\"./data/molecule_features_dummy.csv.gz\", index_col=0).astype('int8')"
   ]
  },
  {
   "cell_type": "code",
   "execution_count": 3,
   "id": "e4a4f351",
   "metadata": {},
   "outputs": [],
   "source": [
    "species_test = species_features_dummy[~species_features_dummy.index.isin(df_agg.organism_name)].index\n",
    "mol_test = molecule_features_dummy[~molecule_features_dummy.index.isin(df_agg.structure_smiles_2D)].index"
   ]
  },
  {
   "cell_type": "code",
   "execution_count": 4,
   "id": "c4f8e442",
   "metadata": {},
   "outputs": [],
   "source": [
    "species_feat = species_features_dummy[species_features_dummy.index.isin(df_agg.organism_name)]\n",
    "molecule_feat = molecule_features_dummy[molecule_features_dummy.index.isin(df_agg.structure_smiles_2D)]"
   ]
  },
  {
   "cell_type": "code",
   "execution_count": 5,
   "id": "414372ea",
   "metadata": {},
   "outputs": [
    {
     "name": "stdout",
     "output_type": "stream",
     "text": [
      "StellarDiGraph: Directed multigraph\n",
      " Nodes: 162374, Edges: 700916\n",
      "\n",
      " Node types:\n",
      "  molecule: [127088]\n",
      "    Features: float32 vector, length 27\n",
      "    Edge types: molecule-present_in->species\n",
      "  species: [35286]\n",
      "    Features: float32 vector, length 80\n",
      "    Edge types: species-has->molecule\n",
      "\n",
      " Edge types:\n",
      "    species-has->molecule: [350458]\n",
      "        Weights: all 1 (default)\n",
      "        Features: none\n",
      "    molecule-present_in->species: [350458]\n",
      "        Weights: all 1 (default)\n",
      "        Features: none\n"
     ]
    }
   ],
   "source": [
    "G = StellarGraph.from_networkx(g,\n",
    "                               node_features={'species':species_feat,\n",
    "                                              'molecule': molecule_feat},\n",
    "                              dtype='uint8')\n",
    "print(G.info())\n",
    "G.check_graph_for_ml()"
   ]
  },
  {
   "cell_type": "code",
   "execution_count": 6,
   "id": "8ccf42a8",
   "metadata": {},
   "outputs": [],
   "source": [
    "batch_size = 128 #default: 200\n",
    "epochs = 50 #default: 20\n",
    "num_samples = [3, 1]\n",
    "num_workers = multiprocessing.cpu_count()-2"
   ]
  },
  {
   "cell_type": "code",
   "execution_count": 7,
   "id": "40c70f1a",
   "metadata": {},
   "outputs": [
    {
     "name": "stdout",
     "output_type": "stream",
     "text": [
      "Network has 350458 edges of type has\n",
      "Network has 350458 edges of type has\n",
      "** Sampled 35045 positive and 35045 negative edges. **\n"
     ]
    }
   ],
   "source": [
    "# Define an edge splitter on the original graph G:\n",
    "edge_splitter_test = EdgeSplitter(G)\n",
    "\n",
    "# Randomly sample a fraction p=0.3 of all positive links, and same number of negative links, from G, and obtain the\n",
    "# reduced graph G_test with the sampled links removed:\n",
    "G_test, edge_ids_test, edge_labels_test = edge_splitter_test.train_test_split(\n",
    "    p=0.1, method=\"global\", keep_connected=False, edge_label=\"has\"\n",
    ")"
   ]
  },
  {
   "cell_type": "code",
   "execution_count": 8,
   "id": "a1299965",
   "metadata": {},
   "outputs": [
    {
     "name": "stdout",
     "output_type": "stream",
     "text": [
      "Network has 315413 edges of type has\n",
      "Network has 315413 edges of type has\n",
      "** Sampled 31541 positive and 31541 negative edges. **\n"
     ]
    }
   ],
   "source": [
    "# Define an edge splitter on the reduced graph G_test:\n",
    "edge_splitter_train = EdgeSplitter(G_test)\n",
    "\n",
    "# Randomly sample a fraction p=0.3 of all positive links, and same number of negative links, from G_test, and obtain the\n",
    "# reduced graph G_train with the sampled links removed:\n",
    "G_train, edge_ids_train, edge_labels_train = edge_splitter_train.train_test_split(\n",
    "    p=0.1, method=\"global\", keep_connected=False, edge_label=\"has\"\n",
    ")"
   ]
  },
  {
   "cell_type": "code",
   "execution_count": 9,
   "id": "6a4c7cf1",
   "metadata": {},
   "outputs": [
    {
     "name": "stdout",
     "output_type": "stream",
     "text": [
      "StellarDiGraph: Directed multigraph\n",
      " Nodes: 162374, Edges: 634330\n",
      "\n",
      " Node types:\n",
      "  molecule: [127088]\n",
      "    Features: float32 vector, length 27\n",
      "    Edge types: molecule-present_in->species\n",
      "  species: [35286]\n",
      "    Features: float32 vector, length 80\n",
      "    Edge types: species-has->molecule\n",
      "\n",
      " Edge types:\n",
      "    molecule-present_in->species: [350458]\n",
      "        Weights: all 1 (default)\n",
      "        Features: none\n",
      "    species-has->molecule: [283872]\n",
      "        Weights: all 1 (default)\n",
      "        Features: none\n"
     ]
    }
   ],
   "source": [
    "print(G_train.info())"
   ]
  },
  {
   "cell_type": "code",
   "execution_count": 10,
   "id": "96de8525",
   "metadata": {},
   "outputs": [
    {
     "name": "stdout",
     "output_type": "stream",
     "text": [
      "StellarDiGraph: Directed multigraph\n",
      " Nodes: 162374, Edges: 665871\n",
      "\n",
      " Node types:\n",
      "  molecule: [127088]\n",
      "    Features: float32 vector, length 27\n",
      "    Edge types: molecule-present_in->species\n",
      "  species: [35286]\n",
      "    Features: float32 vector, length 80\n",
      "    Edge types: species-has->molecule\n",
      "\n",
      " Edge types:\n",
      "    molecule-present_in->species: [350458]\n",
      "        Weights: all 1 (default)\n",
      "        Features: none\n",
      "    species-has->molecule: [315413]\n",
      "        Weights: all 1 (default)\n",
      "        Features: none\n"
     ]
    }
   ],
   "source": [
    "print(G_test.info())"
   ]
  },
  {
   "cell_type": "code",
   "execution_count": 11,
   "id": "7fd9d1d9",
   "metadata": {},
   "outputs": [],
   "source": [
    "train_gen = HinSAGELinkGenerator(G_train,\n",
    "                                 batch_size=batch_size,\n",
    "                                 num_samples=num_samples,\n",
    "                                 head_node_types=[\"species\", \"molecule\"],\n",
    "                                seed=42)\n",
    "train_flow = train_gen.flow(edge_ids_train, edge_labels_train, shuffle=True, seed=42)"
   ]
  },
  {
   "cell_type": "code",
   "execution_count": 12,
   "id": "3d967859",
   "metadata": {},
   "outputs": [],
   "source": [
    "test_gen = HinSAGELinkGenerator(G_test,\n",
    "                                batch_size=batch_size,\n",
    "                                num_samples=num_samples,\n",
    "                                head_node_types=[\"species\", \"molecule\"],\n",
    "                               seed=42)\n",
    "test_flow = test_gen.flow(edge_ids_test, edge_labels_test, seed=42)"
   ]
  },
  {
   "cell_type": "code",
   "execution_count": 13,
   "id": "d94b97ac",
   "metadata": {},
   "outputs": [],
   "source": [
    "hinsage_layer_sizes = [1024, 1024]\n",
    "hinsage = HinSAGE(layer_sizes=hinsage_layer_sizes,\n",
    "                  generator=train_gen,\n",
    "                  bias=True,\n",
    "                  dropout=0.3,\n",
    "                 activations=['elu','selu'])"
   ]
  },
  {
   "cell_type": "code",
   "execution_count": 14,
   "id": "7f3f8d54",
   "metadata": {
    "scrolled": false
   },
   "outputs": [
    {
     "name": "stderr",
     "output_type": "stream",
     "text": [
      "/usr/local/Caskroom/mambaforge/base/envs/stellar_graph/lib/python3.10/site-packages/keras/initializers/initializers_v2.py:120: UserWarning: The initializer GlorotUniform is unseeded and being called multiple times, which will return identical values  each time (even if the initializer is unseeded). Please update your code to provide a seed to the initializer, or avoid using the same initalizer instance more than once.\n",
      "  warnings.warn(\n"
     ]
    }
   ],
   "source": [
    "# Build the model and expose input and output sockets of graphsage model\n",
    "# for link prediction\n",
    "x_inp, x_out = hinsage.in_out_tensors()"
   ]
  },
  {
   "cell_type": "code",
   "execution_count": 15,
   "id": "96dddf17",
   "metadata": {},
   "outputs": [
    {
     "name": "stdout",
     "output_type": "stream",
     "text": [
      "link_classification: using 'l1' method to combine node embeddings into edge embeddings\n"
     ]
    }
   ],
   "source": [
    "prediction = link_classification(output_dim=1,\n",
    "                                 output_act=\"sigmoid\",\n",
    "                                 edge_embedding_method=\"l1\")(x_out)"
   ]
  },
  {
   "cell_type": "code",
   "execution_count": 16,
   "id": "a49ccd38",
   "metadata": {},
   "outputs": [],
   "source": [
    "model = keras.Model(inputs=x_inp, outputs=prediction)\n",
    "\n",
    "initial_learning_rate = 0.1\n",
    "final_learning_rate = 0.00001\n",
    "learning_rate_decay_factor = (final_learning_rate / initial_learning_rate)**(1/epochs)\n",
    "steps_per_epoch = int(edge_ids_train.shape[0]/batch_size)\n",
    "\n",
    "lr_schedule = tf.keras.optimizers.schedules.ExponentialDecay(\n",
    "                initial_learning_rate=initial_learning_rate,\n",
    "                decay_steps=steps_per_epoch,\n",
    "                decay_rate=learning_rate_decay_factor,\n",
    "                staircase=True)\n",
    "\n",
    "optimizer=keras.optimizers.Adam(learning_rate=lr_schedule)\n",
    "#optimizer = mixed_precision.LossScaleOptimizer(optimizer)\n",
    "\n",
    "model.compile(\n",
    "    optimizer=optimizer,\n",
    "    loss=keras.losses.binary_crossentropy,\n",
    "    metrics=[\"AUC\"],\n",
    ")"
   ]
  },
  {
   "cell_type": "code",
   "execution_count": 17,
   "id": "90028704",
   "metadata": {},
   "outputs": [
    {
     "name": "stdout",
     "output_type": "stream",
     "text": [
      "493/493 - 9s - loss: 0.6942 - auc: 0.4744 - 9s/epoch - 17ms/step\n",
      "548/548 - 8s - loss: 0.6941 - auc: 0.4759 - 8s/epoch - 15ms/step\n",
      "\n",
      "Train Set Metrics of the initial (untrained) model:\n",
      "\tloss: 0.6942\n",
      "\tauc: 0.4744\n",
      "\n",
      "Test Set Metrics of the initial (untrained) model:\n",
      "\tloss: 0.6941\n",
      "\tauc: 0.4759\n"
     ]
    }
   ],
   "source": [
    "init_train_metrics = model.evaluate(train_flow, workers=num_workers, verbose=2)\n",
    "init_test_metrics = model.evaluate(test_flow, workers=num_workers, verbose=2)\n",
    "\n",
    "print(\"\\nTrain Set Metrics of the initial (untrained) model:\")\n",
    "for name, val in zip(model.metrics_names, init_train_metrics):\n",
    "    print(\"\\t{}: {:0.4f}\".format(name, val))\n",
    "\n",
    "print(\"\\nTest Set Metrics of the initial (untrained) model:\")\n",
    "for name, val in zip(model.metrics_names, init_test_metrics):\n",
    "    print(\"\\t{}: {:0.4f}\".format(name, val))"
   ]
  },
  {
   "cell_type": "code",
   "execution_count": 18,
   "id": "e34c9a03",
   "metadata": {
    "scrolled": false
   },
   "outputs": [
    {
     "name": "stdout",
     "output_type": "stream",
     "text": [
      "Epoch 1/50\n",
      "493/493 - 35s - loss: 0.5682 - auc: 0.7597 - val_loss: 0.4320 - val_auc: 0.8885 - 35s/epoch - 72ms/step\n",
      "Epoch 2/50\n",
      "493/493 - 33s - loss: 0.4063 - auc: 0.8934 - val_loss: 0.3176 - val_auc: 0.9381 - 33s/epoch - 67ms/step\n",
      "Epoch 3/50\n",
      "493/493 - 35s - loss: 0.3311 - auc: 0.9309 - val_loss: 0.2587 - val_auc: 0.9583 - 35s/epoch - 71ms/step\n",
      "Epoch 4/50\n",
      "493/493 - 34s - loss: 0.2979 - auc: 0.9439 - val_loss: 0.2425 - val_auc: 0.9626 - 34s/epoch - 68ms/step\n",
      "Epoch 5/50\n",
      "493/493 - 33s - loss: 0.2716 - auc: 0.9534 - val_loss: 0.2136 - val_auc: 0.9707 - 33s/epoch - 66ms/step\n",
      "Epoch 6/50\n",
      "493/493 - 33s - loss: 0.2547 - auc: 0.9590 - val_loss: 0.2044 - val_auc: 0.9738 - 33s/epoch - 67ms/step\n",
      "Epoch 7/50\n",
      "493/493 - 34s - loss: 0.2360 - auc: 0.9648 - val_loss: 0.1910 - val_auc: 0.9767 - 34s/epoch - 69ms/step\n",
      "Epoch 8/50\n",
      "493/493 - 34s - loss: 0.2260 - auc: 0.9676 - val_loss: 0.1851 - val_auc: 0.9784 - 34s/epoch - 70ms/step\n",
      "Epoch 9/50\n",
      "493/493 - 33s - loss: 0.2146 - auc: 0.9705 - val_loss: 0.1754 - val_auc: 0.9798 - 33s/epoch - 66ms/step\n",
      "Epoch 10/50\n",
      "493/493 - 33s - loss: 0.2069 - auc: 0.9725 - val_loss: 0.1730 - val_auc: 0.9810 - 33s/epoch - 66ms/step\n",
      "Epoch 11/50\n",
      "493/493 - 33s - loss: 0.1986 - auc: 0.9745 - val_loss: 0.1678 - val_auc: 0.9818 - 33s/epoch - 68ms/step\n",
      "Epoch 12/50\n",
      "493/493 - 34s - loss: 0.1948 - auc: 0.9756 - val_loss: 0.1657 - val_auc: 0.9824 - 34s/epoch - 68ms/step\n",
      "Epoch 13/50\n",
      "493/493 - 35s - loss: 0.1877 - auc: 0.9772 - val_loss: 0.1619 - val_auc: 0.9837 - 35s/epoch - 72ms/step\n",
      "Epoch 14/50\n",
      "493/493 - 33s - loss: 0.1869 - auc: 0.9776 - val_loss: 0.1621 - val_auc: 0.9834 - 33s/epoch - 67ms/step\n",
      "Epoch 15/50\n",
      "493/493 - 33s - loss: 0.1820 - auc: 0.9783 - val_loss: 0.1599 - val_auc: 0.9833 - 33s/epoch - 68ms/step\n",
      "Epoch 16/50\n",
      "493/493 - 33s - loss: 0.1769 - auc: 0.9797 - val_loss: 0.1637 - val_auc: 0.9835 - 33s/epoch - 67ms/step\n",
      "Epoch 17/50\n",
      "493/493 - 33s - loss: 0.1766 - auc: 0.9798 - val_loss: 0.1548 - val_auc: 0.9844 - 33s/epoch - 67ms/step\n",
      "Epoch 18/50\n",
      "493/493 - 34s - loss: 0.1749 - auc: 0.9802 - val_loss: 0.1595 - val_auc: 0.9842 - 34s/epoch - 69ms/step\n",
      "Epoch 19/50\n",
      "493/493 - 33s - loss: 0.1704 - auc: 0.9811 - val_loss: 0.1548 - val_auc: 0.9847 - 33s/epoch - 66ms/step\n",
      "Epoch 20/50\n",
      "493/493 - 28s - loss: 0.1743 - auc: 0.9805 - val_loss: 0.1539 - val_auc: 0.9845 - 28s/epoch - 57ms/step\n",
      "Epoch 21/50\n",
      "493/493 - 34s - loss: 0.1690 - auc: 0.9814 - val_loss: 0.1517 - val_auc: 0.9852 - 34s/epoch - 69ms/step\n",
      "Epoch 22/50\n",
      "493/493 - 33s - loss: 0.1651 - auc: 0.9822 - val_loss: 0.1564 - val_auc: 0.9847 - 33s/epoch - 66ms/step\n",
      "Epoch 23/50\n",
      "493/493 - 35s - loss: 0.1660 - auc: 0.9821 - val_loss: 0.1535 - val_auc: 0.9851 - 35s/epoch - 70ms/step\n",
      "Epoch 24/50\n",
      "493/493 - 29s - loss: 0.1680 - auc: 0.9816 - val_loss: 0.1527 - val_auc: 0.9849 - 29s/epoch - 58ms/step\n",
      "Epoch 25/50\n",
      "493/493 - 33s - loss: 0.1689 - auc: 0.9814 - val_loss: 0.1513 - val_auc: 0.9853 - 33s/epoch - 67ms/step\n",
      "Epoch 26/50\n",
      "493/493 - 35s - loss: 0.1661 - auc: 0.9820 - val_loss: 0.1531 - val_auc: 0.9848 - 35s/epoch - 72ms/step\n",
      "Epoch 27/50\n",
      "493/493 - 38s - loss: 0.1657 - auc: 0.9821 - val_loss: 0.1541 - val_auc: 0.9847 - 38s/epoch - 76ms/step\n",
      "Epoch 28/50\n",
      "493/493 - 38s - loss: 0.1660 - auc: 0.9820 - val_loss: 0.1526 - val_auc: 0.9851 - 38s/epoch - 76ms/step\n",
      "Epoch 29/50\n",
      "493/493 - 35s - loss: 0.1651 - auc: 0.9823 - val_loss: 0.1508 - val_auc: 0.9852 - 35s/epoch - 72ms/step\n",
      "Epoch 30/50\n",
      "493/493 - 35s - loss: 0.1641 - auc: 0.9822 - val_loss: 0.1506 - val_auc: 0.9853 - 35s/epoch - 70ms/step\n",
      "Epoch 31/50\n",
      "493/493 - 36s - loss: 0.1671 - auc: 0.9816 - val_loss: 0.1515 - val_auc: 0.9852 - 36s/epoch - 74ms/step\n",
      "Epoch 32/50\n",
      "493/493 - 36s - loss: 0.1616 - auc: 0.9830 - val_loss: 0.1510 - val_auc: 0.9851 - 36s/epoch - 73ms/step\n",
      "Epoch 33/50\n",
      "493/493 - 37s - loss: 0.1658 - auc: 0.9820 - val_loss: 0.1512 - val_auc: 0.9853 - 37s/epoch - 75ms/step\n",
      "Epoch 34/50\n",
      "493/493 - 36s - loss: 0.1637 - auc: 0.9824 - val_loss: 0.1503 - val_auc: 0.9853 - 36s/epoch - 72ms/step\n",
      "Epoch 35/50\n",
      "493/493 - 35s - loss: 0.1648 - auc: 0.9823 - val_loss: 0.1524 - val_auc: 0.9851 - 35s/epoch - 71ms/step\n",
      "Epoch 36/50\n",
      "493/493 - 39s - loss: 0.1634 - auc: 0.9826 - val_loss: 0.1523 - val_auc: 0.9852 - 39s/epoch - 79ms/step\n",
      "Epoch 37/50\n",
      "493/493 - 36s - loss: 0.1658 - auc: 0.9821 - val_loss: 0.1505 - val_auc: 0.9856 - 36s/epoch - 72ms/step\n",
      "Epoch 38/50\n",
      "493/493 - 38s - loss: 0.1638 - auc: 0.9825 - val_loss: 0.1539 - val_auc: 0.9848 - 38s/epoch - 76ms/step\n",
      "Epoch 39/50\n",
      "493/493 - 36s - loss: 0.1653 - auc: 0.9821 - val_loss: 0.1508 - val_auc: 0.9853 - 36s/epoch - 72ms/step\n",
      "Epoch 40/50\n",
      "493/493 - 35s - loss: 0.1669 - auc: 0.9819 - val_loss: 0.1513 - val_auc: 0.9853 - 35s/epoch - 71ms/step\n",
      "Epoch 41/50\n",
      "493/493 - 37s - loss: 0.1657 - auc: 0.9820 - val_loss: 0.1518 - val_auc: 0.9852 - 37s/epoch - 74ms/step\n",
      "Epoch 42/50\n",
      "493/493 - 37s - loss: 0.1618 - auc: 0.9829 - val_loss: 0.1522 - val_auc: 0.9851 - 37s/epoch - 74ms/step\n",
      "Epoch 43/50\n",
      "493/493 - 38s - loss: 0.1639 - auc: 0.9824 - val_loss: 0.1516 - val_auc: 0.9853 - 38s/epoch - 77ms/step\n",
      "Epoch 44/50\n",
      "493/493 - 35s - loss: 0.1636 - auc: 0.9826 - val_loss: 0.1511 - val_auc: 0.9854 - 35s/epoch - 71ms/step\n"
     ]
    }
   ],
   "source": [
    "callbacks = keras.callbacks.EarlyStopping(monitor=\"val_loss\",\n",
    "                                          patience=7,\n",
    "                                          mode=\"auto\",\n",
    "                                          restore_best_weights=True)\n",
    "\n",
    "history = model.fit(train_flow,\n",
    "                    epochs=epochs,\n",
    "                    workers=num_workers,\n",
    "                    validation_data=test_flow,\n",
    "                    verbose=2,\n",
    "                    callbacks=[callbacks],\n",
    "                    validation_split=0.0,\n",
    "                    shuffle=True\n",
    "                   )"
   ]
  },
  {
   "cell_type": "code",
   "execution_count": 19,
   "id": "a727f52e",
   "metadata": {
    "scrolled": true
   },
   "outputs": [
    {
     "data": {
      "image/png": "[encoded data removed]",
      "text/plain": [
       "<Figure size 700x800 with 2 Axes>"
      ]
     },
     "metadata": {},
     "output_type": "display_data"
    }
   ],
   "source": [
    "sg.utils.plot_history(history)"
   ]
  },
  {
   "cell_type": "code",
   "execution_count": 20,
   "id": "1fd3266a",
   "metadata": {
    "scrolled": true
   },
   "outputs": [
    {
     "name": "stdout",
     "output_type": "stream",
     "text": [
      "493/493 - 8s - loss: 0.1173 - auc: 0.9904 - 8s/epoch - 16ms/step\n",
      "548/548 - 9s - loss: 0.1529 - auc: 0.9850 - 9s/epoch - 16ms/step\n",
      "\n",
      "Train Set Metrics of the trained model:\n",
      "\tloss: 0.1173\n",
      "\tauc: 0.9904\n",
      "\n",
      "Test Set Metrics of the trained model:\n",
      "\tloss: 0.1529\n",
      "\tauc: 0.9850\n"
     ]
    }
   ],
   "source": [
    "train_metrics = model.evaluate(train_flow, verbose=2)\n",
    "test_metrics = model.evaluate(test_flow, verbose=2)\n",
    "\n",
    "print(\"\\nTrain Set Metrics of the trained model:\")\n",
    "for name, val in zip(model.metrics_names, train_metrics):\n",
    "    print(\"\\t{}: {:0.4f}\".format(name, val))\n",
    "\n",
    "print(\"\\nTest Set Metrics of the trained model:\")\n",
    "for name, val in zip(model.metrics_names, test_metrics):\n",
    "    print(\"\\t{}: {:0.4f}\".format(name, val))"
   ]
  },
  {
   "cell_type": "code",
   "execution_count": 21,
   "id": "0b06144f",
   "metadata": {},
   "outputs": [],
   "source": [
    "def predict(model, flow, iterations=10):\n",
    "    predictions = []\n",
    "    for _ in range(iterations):\n",
    "        predictions.append(model.predict(flow, workers=-1).flatten())\n",
    "\n",
    "    return np.mean(predictions, axis=0)"
   ]
  },
  {
   "cell_type": "code",
   "execution_count": 23,
   "id": "39a63722",
   "metadata": {},
   "outputs": [],
   "source": [
    "test_pred = HinSAGELinkGenerator(G,\n",
    "                                 batch_size=batch_size,\n",
    "                                num_samples=num_samples,\n",
    "                                head_node_types=[\"species\", \"molecule\"],\n",
    "                                seed=42).flow(edge_ids_test, edge_labels_test, seed=42)"
   ]
  },
  {
   "cell_type": "code",
   "execution_count": 24,
   "id": "d59e7dbc",
   "metadata": {
    "scrolled": false
   },
   "outputs": [
    {
     "name": "stdout",
     "output_type": "stream",
     "text": [
      "548/548 [==============================] - 9s 16ms/step\n",
      "548/548 [==============================] - 9s 17ms/step\n",
      "548/548 [==============================] - 10s 17ms/step\n",
      "548/548 [==============================] - 11s 19ms/step\n",
      "548/548 [==============================] - 9s 17ms/step\n",
      "548/548 [==============================] - 11s 20ms/step\n",
      "548/548 [==============================] - 9s 16ms/step\n",
      "548/548 [==============================] - 9s 16ms/step\n",
      "548/548 [==============================] - 9s 16ms/step\n",
      "548/548 [==============================] - 9s 16ms/step\n"
     ]
    }
   ],
   "source": [
    "predictions = predict(model, test_pred)"
   ]
  },
  {
   "cell_type": "code",
   "execution_count": 25,
   "id": "0690f86d",
   "metadata": {},
   "outputs": [],
   "source": [
    "middle = int(len(predictions)/2)"
   ]
  },
  {
   "cell_type": "code",
   "execution_count": 26,
   "id": "6ec79eea",
   "metadata": {},
   "outputs": [
    {
     "data": {
      "text/plain": [
       "0.947129"
      ]
     },
     "execution_count": 26,
     "metadata": {},
     "output_type": "execute_result"
    }
   ],
   "source": [
    "np.mean(predictions[:middle])"
   ]
  },
  {
   "cell_type": "code",
   "execution_count": 27,
   "id": "9edf1028",
   "metadata": {},
   "outputs": [
    {
     "data": {
      "text/plain": [
       "0.08486995"
      ]
     },
     "execution_count": 27,
     "metadata": {},
     "output_type": "execute_result"
    }
   ],
   "source": [
    "np.mean(predictions[middle:])"
   ]
  },
  {
   "cell_type": "code",
   "execution_count": 28,
   "id": "68b35e84",
   "metadata": {},
   "outputs": [],
   "source": [
    "test = predictions[(predictions>0.5) | (predictions<0.5)]\n",
    "test = test>0.5"
   ]
  },
  {
   "cell_type": "code",
   "execution_count": 29,
   "id": "8c10314e",
   "metadata": {},
   "outputs": [],
   "source": [
    "test = test.astype('int8')"
   ]
  },
  {
   "cell_type": "code",
   "execution_count": 30,
   "id": "7db6b010",
   "metadata": {
    "scrolled": true
   },
   "outputs": [
    {
     "data": {
      "text/plain": [
       "(array([28757.,  1700.,  1005.,   820.,   749.,   780.,  1006.,  1586.,\n",
       "         3811., 29876.]),\n",
       " array([2.75852390e-08, 9.99898389e-02, 1.99979648e-01, 2.99969465e-01,\n",
       "        3.99959266e-01, 4.99949068e-01, 5.99938869e-01, 6.99928701e-01,\n",
       "        7.99918532e-01, 8.99908304e-01, 9.99898136e-01]),\n",
       " <BarContainer object of 10 artists>)"
      ]
     },
     "execution_count": 30,
     "metadata": {},
     "output_type": "execute_result"
    },
    {
     "data": {
      "image/png": "[encoded data removed]",
      "text/plain": [
       "<Figure size 640x480 with 1 Axes>"
      ]
     },
     "metadata": {},
     "output_type": "display_data"
    }
   ],
   "source": [
    "plt.hist(predictions)"
   ]
  },
  {
   "cell_type": "code",
   "execution_count": 31,
   "id": "cfacbdfb",
   "metadata": {},
   "outputs": [
    {
     "data": {
      "text/plain": [
       "(array([    2,     3,     5, ..., 70086, 70087, 70088]),)"
      ]
     },
     "execution_count": 31,
     "metadata": {},
     "output_type": "execute_result"
    }
   ],
   "source": [
    "np.where((predictions>0.9) | (predictions<0.1))"
   ]
  },
  {
   "cell_type": "code",
   "execution_count": 32,
   "id": "df2f017e",
   "metadata": {
    "scrolled": true
   },
   "outputs": [
    {
     "data": {
      "text/plain": [
       "0.9638464830931659"
      ]
     },
     "execution_count": 32,
     "metadata": {},
     "output_type": "execute_result"
    }
   ],
   "source": [
    "sum(test == edge_labels_test[np.where((predictions>0.5) | (predictions<0.5))])/len(test)"
   ]
  },
  {
   "cell_type": "code",
   "execution_count": 33,
   "id": "0c82ada5",
   "metadata": {},
   "outputs": [
    {
     "data": {
      "text/plain": [
       "1.0"
      ]
     },
     "execution_count": 33,
     "metadata": {},
     "output_type": "execute_result"
    }
   ],
   "source": [
    "len(test)/len(predictions)"
   ]
  },
  {
   "cell_type": "code",
   "execution_count": 34,
   "id": "88a45c64",
   "metadata": {
    "scrolled": true
   },
   "outputs": [
    {
     "name": "stderr",
     "output_type": "stream",
     "text": [
      "WARNING:absl:Found untraced functions such as _update_step_xla while saving (showing 1 of 1). These functions will not be directly callable after loading.\n"
     ]
    },
    {
     "name": "stdout",
     "output_type": "stream",
     "text": [
      "INFO:tensorflow:Assets written to: ./model/batch_128_layer_1024_s_to_m/assets\n"
     ]
    },
    {
     "name": "stderr",
     "output_type": "stream",
     "text": [
      "INFO:tensorflow:Assets written to: ./model/batch_128_layer_1024_s_to_m/assets\n"
     ]
    }
   ],
   "source": [
    "model.save(f\"./model/batch_{batch_size}_layer_{hinsage_layer_sizes[0]}_s_to_m\")"
   ]
  }
 ],
 "metadata": {
  "kernelspec": {
   "display_name": "Python 3 (ipykernel)",
   "language": "python",
   "name": "python3"
  },
  "language_info": {
   "codemirror_mode": {
    "name": "ipython",
    "version": 3
   },
   "file_extension": ".py",
   "mimetype": "text/x-python",
   "name": "python",
   "nbconvert_exporter": "python",
   "pygments_lexer": "ipython3",
   "version": "3.10.8"
  }
 },
 "nbformat": 4,
 "nbformat_minor": 5
}
