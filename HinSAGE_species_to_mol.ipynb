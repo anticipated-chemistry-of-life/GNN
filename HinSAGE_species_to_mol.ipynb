{
 "cells": [
  {
   "cell_type": "code",
   "execution_count": 1,
   "id": "0c37f03d",
   "metadata": {
    "scrolled": true
   },
   "outputs": [],
   "source": [
    "import os\n",
    "os.environ['TF_CPP_MIN_LOG_LEVEL'] = '3' \n",
    "import networkx as nx\n",
    "import itertools\n",
    "import pandas as pd\n",
    "import numpy as np\n",
    "from stellargraph import StellarGraph\n",
    "from rdkit.Chem import AllChem, DataStructs\n",
    "import json\n",
    "from sklearn import preprocessing, feature_extraction, model_selection\n",
    "from sklearn.metrics import mean_absolute_error, mean_squared_error\n",
    "from tensorflow import keras\n",
    "import tensorflow as tf\n",
    "\n",
    "import stellargraph as sg\n",
    "from stellargraph.data import EdgeSplitter\n",
    "from stellargraph.mapper import HinSAGELinkGenerator\n",
    "from stellargraph.layer import HinSAGE, link_classification\n",
    "from tensorflow.keras import Model, optimizers, losses, metrics\n",
    "\n",
    "import multiprocessing\n",
    "from stellargraph import datasets\n",
    "from IPython.display import display, HTML\n",
    "import matplotlib.pyplot as plt\n",
    "from tensorflow.keras import mixed_precision"
   ]
  },
  {
   "cell_type": "code",
   "execution_count": 2,
   "id": "5abe1765",
   "metadata": {
    "scrolled": true
   },
   "outputs": [],
   "source": [
    "g = nx.read_graphml(\"./graph/train_graph.gml\")\n",
    "species_features_dummy = pd.read_csv(\"./data/species_features.csv.gz\", index_col=0).astype('uint8')\n",
    "molecule_features_dummy = pd.read_csv(\"./data/molecule_features.csv.gz\", index_col=0).astype(\"uint8\")\n",
    "df_agg = pd.read_csv(\"./data/lotus_agg_train.csv.gz\", index_col=0)"
   ]
  },
  {
   "cell_type": "code",
   "execution_count": 5,
   "id": "0dd4abc7-8961-4ddf-9ea3-52086c487b2e",
   "metadata": {},
   "outputs": [],
   "source": [
    "mol_rdkit = pd.read_csv(\"./data/mol_dummy_rdkit.csv.gz\", index_col=0)"
   ]
  },
  {
   "cell_type": "code",
   "execution_count": 6,
   "id": "717f6813-5294-4d02-b3b8-9c15b10844fa",
   "metadata": {},
   "outputs": [
    {
     "data": {
      "text/html": [
       "<div>\n",
       "<style scoped>\n",
       "    .dataframe tbody tr th:only-of-type {\n",
       "        vertical-align: middle;\n",
       "    }\n",
       "\n",
       "    .dataframe tbody tr th {\n",
       "        vertical-align: top;\n",
       "    }\n",
       "\n",
       "    .dataframe thead th {\n",
       "        text-align: right;\n",
       "    }\n",
       "</style>\n",
       "<table border=\"1\" class=\"dataframe\">\n",
       "  <thead>\n",
       "    <tr style=\"text-align: right;\">\n",
       "      <th></th>\n",
       "      <th>0</th>\n",
       "      <th>1</th>\n",
       "      <th>2</th>\n",
       "      <th>3</th>\n",
       "      <th>4</th>\n",
       "      <th>5</th>\n",
       "      <th>6</th>\n",
       "      <th>7</th>\n",
       "      <th>8</th>\n",
       "      <th>9</th>\n",
       "      <th>...</th>\n",
       "      <th>1014</th>\n",
       "      <th>1015</th>\n",
       "      <th>1016</th>\n",
       "      <th>1017</th>\n",
       "      <th>1018</th>\n",
       "      <th>1019</th>\n",
       "      <th>1020</th>\n",
       "      <th>1021</th>\n",
       "      <th>1022</th>\n",
       "      <th>1023</th>\n",
       "    </tr>\n",
       "  </thead>\n",
       "  <tbody>\n",
       "    <tr>\n",
       "      <th>COc1cc2c3c(ccnc3c1OC)NC=C2</th>\n",
       "      <td>0</td>\n",
       "      <td>0</td>\n",
       "      <td>0</td>\n",
       "      <td>0</td>\n",
       "      <td>0</td>\n",
       "      <td>0</td>\n",
       "      <td>0</td>\n",
       "      <td>0</td>\n",
       "      <td>0</td>\n",
       "      <td>0</td>\n",
       "      <td>...</td>\n",
       "      <td>0</td>\n",
       "      <td>0</td>\n",
       "      <td>0</td>\n",
       "      <td>0</td>\n",
       "      <td>0</td>\n",
       "      <td>0</td>\n",
       "      <td>0</td>\n",
       "      <td>0</td>\n",
       "      <td>0</td>\n",
       "      <td>0</td>\n",
       "    </tr>\n",
       "    <tr>\n",
       "      <th>CC(C)CCCC(C)C1CCC2C3=CCC4CC(O)CCC4(C)C3CCC21C</th>\n",
       "      <td>0</td>\n",
       "      <td>1</td>\n",
       "      <td>0</td>\n",
       "      <td>0</td>\n",
       "      <td>1</td>\n",
       "      <td>0</td>\n",
       "      <td>0</td>\n",
       "      <td>0</td>\n",
       "      <td>1</td>\n",
       "      <td>0</td>\n",
       "      <td>...</td>\n",
       "      <td>0</td>\n",
       "      <td>0</td>\n",
       "      <td>0</td>\n",
       "      <td>0</td>\n",
       "      <td>0</td>\n",
       "      <td>1</td>\n",
       "      <td>0</td>\n",
       "      <td>0</td>\n",
       "      <td>0</td>\n",
       "      <td>0</td>\n",
       "    </tr>\n",
       "    <tr>\n",
       "      <th>CC(C)CCCC(C)C1CCC2C3CC=C4CC(O)CCC4(C)C3CCC12C</th>\n",
       "      <td>0</td>\n",
       "      <td>1</td>\n",
       "      <td>0</td>\n",
       "      <td>0</td>\n",
       "      <td>0</td>\n",
       "      <td>0</td>\n",
       "      <td>0</td>\n",
       "      <td>1</td>\n",
       "      <td>1</td>\n",
       "      <td>0</td>\n",
       "      <td>...</td>\n",
       "      <td>0</td>\n",
       "      <td>0</td>\n",
       "      <td>0</td>\n",
       "      <td>0</td>\n",
       "      <td>0</td>\n",
       "      <td>1</td>\n",
       "      <td>0</td>\n",
       "      <td>0</td>\n",
       "      <td>0</td>\n",
       "      <td>0</td>\n",
       "    </tr>\n",
       "    <tr>\n",
       "      <th>CC(C)CCCC(C)C1CCC2C3CCC4CC(O)CCC4(C)C3CCC12C</th>\n",
       "      <td>0</td>\n",
       "      <td>1</td>\n",
       "      <td>0</td>\n",
       "      <td>0</td>\n",
       "      <td>0</td>\n",
       "      <td>0</td>\n",
       "      <td>0</td>\n",
       "      <td>0</td>\n",
       "      <td>1</td>\n",
       "      <td>0</td>\n",
       "      <td>...</td>\n",
       "      <td>0</td>\n",
       "      <td>0</td>\n",
       "      <td>0</td>\n",
       "      <td>0</td>\n",
       "      <td>0</td>\n",
       "      <td>1</td>\n",
       "      <td>0</td>\n",
       "      <td>0</td>\n",
       "      <td>0</td>\n",
       "      <td>0</td>\n",
       "    </tr>\n",
       "    <tr>\n",
       "      <th>COC1=Cc2ccnc3c2C1(O)C(CC(C)=O)=NC=C3</th>\n",
       "      <td>0</td>\n",
       "      <td>0</td>\n",
       "      <td>0</td>\n",
       "      <td>0</td>\n",
       "      <td>0</td>\n",
       "      <td>1</td>\n",
       "      <td>0</td>\n",
       "      <td>0</td>\n",
       "      <td>0</td>\n",
       "      <td>0</td>\n",
       "      <td>...</td>\n",
       "      <td>0</td>\n",
       "      <td>0</td>\n",
       "      <td>0</td>\n",
       "      <td>1</td>\n",
       "      <td>0</td>\n",
       "      <td>0</td>\n",
       "      <td>0</td>\n",
       "      <td>0</td>\n",
       "      <td>0</td>\n",
       "      <td>0</td>\n",
       "    </tr>\n",
       "    <tr>\n",
       "      <th>...</th>\n",
       "      <td>...</td>\n",
       "      <td>...</td>\n",
       "      <td>...</td>\n",
       "      <td>...</td>\n",
       "      <td>...</td>\n",
       "      <td>...</td>\n",
       "      <td>...</td>\n",
       "      <td>...</td>\n",
       "      <td>...</td>\n",
       "      <td>...</td>\n",
       "      <td>...</td>\n",
       "      <td>...</td>\n",
       "      <td>...</td>\n",
       "      <td>...</td>\n",
       "      <td>...</td>\n",
       "      <td>...</td>\n",
       "      <td>...</td>\n",
       "      <td>...</td>\n",
       "      <td>...</td>\n",
       "      <td>...</td>\n",
       "      <td>...</td>\n",
       "    </tr>\n",
       "    <tr>\n",
       "      <th>Nc1c(O)c2c3c(c1Cc1ccc(O)cc1)=NCCC=3C=N2</th>\n",
       "      <td>0</td>\n",
       "      <td>0</td>\n",
       "      <td>0</td>\n",
       "      <td>0</td>\n",
       "      <td>0</td>\n",
       "      <td>0</td>\n",
       "      <td>0</td>\n",
       "      <td>0</td>\n",
       "      <td>0</td>\n",
       "      <td>0</td>\n",
       "      <td>...</td>\n",
       "      <td>0</td>\n",
       "      <td>0</td>\n",
       "      <td>0</td>\n",
       "      <td>0</td>\n",
       "      <td>0</td>\n",
       "      <td>1</td>\n",
       "      <td>0</td>\n",
       "      <td>0</td>\n",
       "      <td>0</td>\n",
       "      <td>0</td>\n",
       "    </tr>\n",
       "    <tr>\n",
       "      <th>O=C1C(=O)c2[nH]cc3c2C(=C1Cl)NCC3</th>\n",
       "      <td>0</td>\n",
       "      <td>0</td>\n",
       "      <td>0</td>\n",
       "      <td>0</td>\n",
       "      <td>0</td>\n",
       "      <td>0</td>\n",
       "      <td>0</td>\n",
       "      <td>0</td>\n",
       "      <td>0</td>\n",
       "      <td>0</td>\n",
       "      <td>...</td>\n",
       "      <td>0</td>\n",
       "      <td>0</td>\n",
       "      <td>0</td>\n",
       "      <td>0</td>\n",
       "      <td>0</td>\n",
       "      <td>0</td>\n",
       "      <td>0</td>\n",
       "      <td>0</td>\n",
       "      <td>0</td>\n",
       "      <td>0</td>\n",
       "    </tr>\n",
       "    <tr>\n",
       "      <th>O=C1C(NCCc2ccccc2)=CC2=NCCc3c[nH]c1c32</th>\n",
       "      <td>0</td>\n",
       "      <td>0</td>\n",
       "      <td>0</td>\n",
       "      <td>0</td>\n",
       "      <td>0</td>\n",
       "      <td>0</td>\n",
       "      <td>0</td>\n",
       "      <td>0</td>\n",
       "      <td>0</td>\n",
       "      <td>0</td>\n",
       "      <td>...</td>\n",
       "      <td>0</td>\n",
       "      <td>0</td>\n",
       "      <td>0</td>\n",
       "      <td>0</td>\n",
       "      <td>0</td>\n",
       "      <td>0</td>\n",
       "      <td>0</td>\n",
       "      <td>0</td>\n",
       "      <td>0</td>\n",
       "      <td>0</td>\n",
       "    </tr>\n",
       "    <tr>\n",
       "      <th>Oc1ccc(C=CNc2cc3c4c(c2O)N=CC=4CCN=3)cc1</th>\n",
       "      <td>0</td>\n",
       "      <td>0</td>\n",
       "      <td>0</td>\n",
       "      <td>0</td>\n",
       "      <td>0</td>\n",
       "      <td>0</td>\n",
       "      <td>0</td>\n",
       "      <td>0</td>\n",
       "      <td>0</td>\n",
       "      <td>0</td>\n",
       "      <td>...</td>\n",
       "      <td>0</td>\n",
       "      <td>0</td>\n",
       "      <td>0</td>\n",
       "      <td>0</td>\n",
       "      <td>0</td>\n",
       "      <td>1</td>\n",
       "      <td>0</td>\n",
       "      <td>0</td>\n",
       "      <td>0</td>\n",
       "      <td>0</td>\n",
       "    </tr>\n",
       "    <tr>\n",
       "      <th>[H]N=C1C=C2c3c(cn(C)c3C1=O)CCN2C</th>\n",
       "      <td>0</td>\n",
       "      <td>0</td>\n",
       "      <td>0</td>\n",
       "      <td>0</td>\n",
       "      <td>0</td>\n",
       "      <td>0</td>\n",
       "      <td>0</td>\n",
       "      <td>0</td>\n",
       "      <td>0</td>\n",
       "      <td>0</td>\n",
       "      <td>...</td>\n",
       "      <td>0</td>\n",
       "      <td>0</td>\n",
       "      <td>0</td>\n",
       "      <td>0</td>\n",
       "      <td>0</td>\n",
       "      <td>0</td>\n",
       "      <td>0</td>\n",
       "      <td>0</td>\n",
       "      <td>0</td>\n",
       "      <td>1</td>\n",
       "    </tr>\n",
       "  </tbody>\n",
       "</table>\n",
       "<p>148190 rows × 1024 columns</p>\n",
       "</div>"
      ],
      "text/plain": [
       "                                               0  1  2  3  4  5  6  7  8  9  \\\n",
       "COc1cc2c3c(ccnc3c1OC)NC=C2                     0  0  0  0  0  0  0  0  0  0   \n",
       "CC(C)CCCC(C)C1CCC2C3=CCC4CC(O)CCC4(C)C3CCC21C  0  1  0  0  1  0  0  0  1  0   \n",
       "CC(C)CCCC(C)C1CCC2C3CC=C4CC(O)CCC4(C)C3CCC12C  0  1  0  0  0  0  0  1  1  0   \n",
       "CC(C)CCCC(C)C1CCC2C3CCC4CC(O)CCC4(C)C3CCC12C   0  1  0  0  0  0  0  0  1  0   \n",
       "COC1=Cc2ccnc3c2C1(O)C(CC(C)=O)=NC=C3           0  0  0  0  0  1  0  0  0  0   \n",
       "...                                           .. .. .. .. .. .. .. .. .. ..   \n",
       "Nc1c(O)c2c3c(c1Cc1ccc(O)cc1)=NCCC=3C=N2        0  0  0  0  0  0  0  0  0  0   \n",
       "O=C1C(=O)c2[nH]cc3c2C(=C1Cl)NCC3               0  0  0  0  0  0  0  0  0  0   \n",
       "O=C1C(NCCc2ccccc2)=CC2=NCCc3c[nH]c1c32         0  0  0  0  0  0  0  0  0  0   \n",
       "Oc1ccc(C=CNc2cc3c4c(c2O)N=CC=4CCN=3)cc1        0  0  0  0  0  0  0  0  0  0   \n",
       "[H]N=C1C=C2c3c(cn(C)c3C1=O)CCN2C               0  0  0  0  0  0  0  0  0  0   \n",
       "\n",
       "                                               ...  1014  1015  1016  1017  \\\n",
       "COc1cc2c3c(ccnc3c1OC)NC=C2                     ...     0     0     0     0   \n",
       "CC(C)CCCC(C)C1CCC2C3=CCC4CC(O)CCC4(C)C3CCC21C  ...     0     0     0     0   \n",
       "CC(C)CCCC(C)C1CCC2C3CC=C4CC(O)CCC4(C)C3CCC12C  ...     0     0     0     0   \n",
       "CC(C)CCCC(C)C1CCC2C3CCC4CC(O)CCC4(C)C3CCC12C   ...     0     0     0     0   \n",
       "COC1=Cc2ccnc3c2C1(O)C(CC(C)=O)=NC=C3           ...     0     0     0     1   \n",
       "...                                            ...   ...   ...   ...   ...   \n",
       "Nc1c(O)c2c3c(c1Cc1ccc(O)cc1)=NCCC=3C=N2        ...     0     0     0     0   \n",
       "O=C1C(=O)c2[nH]cc3c2C(=C1Cl)NCC3               ...     0     0     0     0   \n",
       "O=C1C(NCCc2ccccc2)=CC2=NCCc3c[nH]c1c32         ...     0     0     0     0   \n",
       "Oc1ccc(C=CNc2cc3c4c(c2O)N=CC=4CCN=3)cc1        ...     0     0     0     0   \n",
       "[H]N=C1C=C2c3c(cn(C)c3C1=O)CCN2C               ...     0     0     0     0   \n",
       "\n",
       "                                               1018  1019  1020  1021  1022  \\\n",
       "COc1cc2c3c(ccnc3c1OC)NC=C2                        0     0     0     0     0   \n",
       "CC(C)CCCC(C)C1CCC2C3=CCC4CC(O)CCC4(C)C3CCC21C     0     1     0     0     0   \n",
       "CC(C)CCCC(C)C1CCC2C3CC=C4CC(O)CCC4(C)C3CCC12C     0     1     0     0     0   \n",
       "CC(C)CCCC(C)C1CCC2C3CCC4CC(O)CCC4(C)C3CCC12C      0     1     0     0     0   \n",
       "COC1=Cc2ccnc3c2C1(O)C(CC(C)=O)=NC=C3              0     0     0     0     0   \n",
       "...                                             ...   ...   ...   ...   ...   \n",
       "Nc1c(O)c2c3c(c1Cc1ccc(O)cc1)=NCCC=3C=N2           0     1     0     0     0   \n",
       "O=C1C(=O)c2[nH]cc3c2C(=C1Cl)NCC3                  0     0     0     0     0   \n",
       "O=C1C(NCCc2ccccc2)=CC2=NCCc3c[nH]c1c32            0     0     0     0     0   \n",
       "Oc1ccc(C=CNc2cc3c4c(c2O)N=CC=4CCN=3)cc1           0     1     0     0     0   \n",
       "[H]N=C1C=C2c3c(cn(C)c3C1=O)CCN2C                  0     0     0     0     0   \n",
       "\n",
       "                                               1023  \n",
       "COc1cc2c3c(ccnc3c1OC)NC=C2                        0  \n",
       "CC(C)CCCC(C)C1CCC2C3=CCC4CC(O)CCC4(C)C3CCC21C     0  \n",
       "CC(C)CCCC(C)C1CCC2C3CC=C4CC(O)CCC4(C)C3CCC12C     0  \n",
       "CC(C)CCCC(C)C1CCC2C3CCC4CC(O)CCC4(C)C3CCC12C      0  \n",
       "COC1=Cc2ccnc3c2C1(O)C(CC(C)=O)=NC=C3              0  \n",
       "...                                             ...  \n",
       "Nc1c(O)c2c3c(c1Cc1ccc(O)cc1)=NCCC=3C=N2           0  \n",
       "O=C1C(=O)c2[nH]cc3c2C(=C1Cl)NCC3                  0  \n",
       "O=C1C(NCCc2ccccc2)=CC2=NCCc3c[nH]c1c32            0  \n",
       "Oc1ccc(C=CNc2cc3c4c(c2O)N=CC=4CCN=3)cc1           0  \n",
       "[H]N=C1C=C2c3c(cn(C)c3C1=O)CCN2C                  1  \n",
       "\n",
       "[148190 rows x 1024 columns]"
      ]
     },
     "execution_count": 6,
     "metadata": {},
     "output_type": "execute_result"
    }
   ],
   "source": [
    "mol_rdkit"
   ]
  },
  {
   "cell_type": "code",
   "execution_count": 3,
   "id": "e4a4f351",
   "metadata": {},
   "outputs": [],
   "source": [
    "species_test = species_features_dummy[~species_features_dummy.index.isin(df_agg.organism_name)].index\n",
    "mol_test = molecule_features_dummy[~molecule_features_dummy.index.isin(df_agg.structure_smiles_2D)].index"
   ]
  },
  {
   "cell_type": "code",
   "execution_count": 4,
   "id": "c4f8e442",
   "metadata": {},
   "outputs": [],
   "source": [
    "species_feat = species_features_dummy[species_features_dummy.index.isin(df_agg.organism_name)]\n",
    "molecule_feat = molecule_features_dummy[molecule_features_dummy.index.isin(df_agg.structure_smiles_2D)]"
   ]
  },
  {
   "cell_type": "code",
   "execution_count": 5,
   "id": "414372ea",
   "metadata": {},
   "outputs": [
    {
     "name": "stdout",
     "output_type": "stream",
     "text": [
      "StellarDiGraph: Directed multigraph\n",
      " Nodes: 149920, Edges: 613300\n",
      "\n",
      " Node types:\n",
      "  molecule: [115623]\n",
      "    Features: uint8 vector, length 27\n",
      "    Edge types: molecule-present_in->species\n",
      "  species: [34297]\n",
      "    Features: uint8 vector, length 80\n",
      "    Edge types: species-has->molecule\n",
      "\n",
      " Edge types:\n",
      "    species-has->molecule: [306650]\n",
      "        Weights: all 1 (default)\n",
      "        Features: none\n",
      "    molecule-present_in->species: [306650]\n",
      "        Weights: all 1 (default)\n",
      "        Features: none\n"
     ]
    }
   ],
   "source": [
    "G = StellarGraph.from_networkx(g,\n",
    "                               node_features={'species':species_feat,\n",
    "                                              'molecule': molecule_feat},\n",
    "                              dtype='uint8')\n",
    "print(G.info())\n",
    "G.check_graph_for_ml()"
   ]
  },
  {
   "cell_type": "code",
   "execution_count": 6,
   "id": "8ccf42a8",
   "metadata": {},
   "outputs": [],
   "source": [
    "batch_size = 128 #default: 200\n",
    "epochs = 30 #default: 20\n",
    "num_samples = [3, 1]\n",
    "num_workers = multiprocessing.cpu_count()-2"
   ]
  },
  {
   "cell_type": "code",
   "execution_count": 7,
   "id": "40c70f1a",
   "metadata": {},
   "outputs": [
    {
     "name": "stdout",
     "output_type": "stream",
     "text": [
      "Network has 306650 edges of type has\n",
      "Network has 306650 edges of type has\n",
      "** Sampled 30665 positive and 30665 negative edges. **\n"
     ]
    }
   ],
   "source": [
    "# Define an edge splitter on the original graph G:\n",
    "edge_splitter_test = EdgeSplitter(G)\n",
    "\n",
    "# Randomly sample a fraction p=0.3 of all positive links, and same number of negative links, from G, and obtain the\n",
    "# reduced graph G_test with the sampled links removed:\n",
    "G_test, edge_ids_test, edge_labels_test = edge_splitter_test.train_test_split(\n",
    "    p=0.1, method=\"global\", keep_connected=False, edge_label=\"has\"\n",
    ")"
   ]
  },
  {
   "cell_type": "code",
   "execution_count": 8,
   "id": "a1299965",
   "metadata": {},
   "outputs": [
    {
     "name": "stdout",
     "output_type": "stream",
     "text": [
      "Network has 275985 edges of type has\n",
      "Network has 275985 edges of type has\n",
      "** Sampled 27598 positive and 27598 negative edges. **\n"
     ]
    }
   ],
   "source": [
    "# Define an edge splitter on the reduced graph G_test:\n",
    "edge_splitter_train = EdgeSplitter(G_test)\n",
    "\n",
    "# Randomly sample a fraction p=0.3 of all positive links, and same number of negative links, from G_test, and obtain the\n",
    "# reduced graph G_train with the sampled links removed:\n",
    "G_train, edge_ids_train, edge_labels_train = edge_splitter_train.train_test_split(\n",
    "    p=0.1, method=\"global\", keep_connected=False, edge_label=\"has\"\n",
    ")"
   ]
  },
  {
   "cell_type": "code",
   "execution_count": 9,
   "id": "6a4c7cf1",
   "metadata": {},
   "outputs": [
    {
     "name": "stdout",
     "output_type": "stream",
     "text": [
      "StellarDiGraph: Directed multigraph\n",
      " Nodes: 149920, Edges: 555037\n",
      "\n",
      " Node types:\n",
      "  molecule: [115623]\n",
      "    Features: float32 vector, length 27\n",
      "    Edge types: molecule-present_in->species\n",
      "  species: [34297]\n",
      "    Features: float32 vector, length 80\n",
      "    Edge types: species-has->molecule\n",
      "\n",
      " Edge types:\n",
      "    molecule-present_in->species: [306650]\n",
      "        Weights: all 1 (default)\n",
      "        Features: none\n",
      "    species-has->molecule: [248387]\n",
      "        Weights: all 1 (default)\n",
      "        Features: none\n"
     ]
    }
   ],
   "source": [
    "print(G_train.info())"
   ]
  },
  {
   "cell_type": "code",
   "execution_count": 10,
   "id": "96de8525",
   "metadata": {},
   "outputs": [
    {
     "name": "stdout",
     "output_type": "stream",
     "text": [
      "StellarDiGraph: Directed multigraph\n",
      " Nodes: 149920, Edges: 582635\n",
      "\n",
      " Node types:\n",
      "  molecule: [115623]\n",
      "    Features: float32 vector, length 27\n",
      "    Edge types: molecule-present_in->species\n",
      "  species: [34297]\n",
      "    Features: float32 vector, length 80\n",
      "    Edge types: species-has->molecule\n",
      "\n",
      " Edge types:\n",
      "    molecule-present_in->species: [306650]\n",
      "        Weights: all 1 (default)\n",
      "        Features: none\n",
      "    species-has->molecule: [275985]\n",
      "        Weights: all 1 (default)\n",
      "        Features: none\n"
     ]
    }
   ],
   "source": [
    "print(G_test.info())"
   ]
  },
  {
   "cell_type": "code",
   "execution_count": 11,
   "id": "7fd9d1d9",
   "metadata": {},
   "outputs": [],
   "source": [
    "train_gen = HinSAGELinkGenerator(G_train,\n",
    "                                 batch_size=batch_size,\n",
    "                                 num_samples=num_samples,\n",
    "                                 head_node_types=[\"species\", \"molecule\"],\n",
    "                                seed=42)\n",
    "train_flow = train_gen.flow(edge_ids_train, edge_labels_train, shuffle=True, seed=42)"
   ]
  },
  {
   "cell_type": "code",
   "execution_count": 12,
   "id": "3d967859",
   "metadata": {},
   "outputs": [],
   "source": [
    "test_gen = HinSAGELinkGenerator(G_test,\n",
    "                                batch_size=batch_size,\n",
    "                                num_samples=num_samples,\n",
    "                                head_node_types=[\"species\", \"molecule\"],\n",
    "                               seed=42)\n",
    "test_flow = test_gen.flow(edge_ids_test, edge_labels_test, seed=42)"
   ]
  },
  {
   "cell_type": "code",
   "execution_count": 13,
   "id": "d94b97ac",
   "metadata": {},
   "outputs": [],
   "source": [
    "hinsage_layer_sizes = [1024, 1024]\n",
    "hinsage = HinSAGE(layer_sizes=hinsage_layer_sizes,\n",
    "                  generator=train_gen,\n",
    "                  bias=True,\n",
    "                  dropout=0.3,\n",
    "                 activations=['elu','selu'])"
   ]
  },
  {
   "cell_type": "code",
   "execution_count": 14,
   "id": "7f3f8d54",
   "metadata": {},
   "outputs": [
    {
     "name": "stderr",
     "output_type": "stream",
     "text": [
      "/usr/local/Caskroom/mambaforge/base/envs/stellar_graph/lib/python3.10/site-packages/keras/initializers/initializers.py:120: UserWarning: The initializer GlorotUniform is unseeded and being called multiple times, which will return identical values each time (even if the initializer is unseeded). Please update your code to provide a seed to the initializer, or avoid using the same initalizer instance more than once.\n",
      "  warnings.warn(\n"
     ]
    }
   ],
   "source": [
    "# Build the model and expose input and output sockets of graphsage model\n",
    "# for link prediction\n",
    "x_inp, x_out = hinsage.in_out_tensors()"
   ]
  },
  {
   "cell_type": "code",
   "execution_count": 15,
   "id": "96dddf17",
   "metadata": {},
   "outputs": [
    {
     "name": "stdout",
     "output_type": "stream",
     "text": [
      "link_classification: using 'l1' method to combine node embeddings into edge embeddings\n"
     ]
    }
   ],
   "source": [
    "prediction = link_classification(output_dim=1,\n",
    "                                 output_act=\"sigmoid\",\n",
    "                                 edge_embedding_method=\"l1\")(x_out)"
   ]
  },
  {
   "cell_type": "code",
   "execution_count": 16,
   "id": "a49ccd38",
   "metadata": {},
   "outputs": [],
   "source": [
    "model = keras.Model(inputs=x_inp, outputs=prediction)\n",
    "\n",
    "initial_learning_rate = 0.1\n",
    "final_learning_rate = 0.001\n",
    "learning_rate_decay_factor = (final_learning_rate / initial_learning_rate)**(1/epochs)\n",
    "steps_per_epoch = int(edge_ids_train.shape[0]/batch_size)\n",
    "\n",
    "lr_schedule = tf.keras.optimizers.schedules.ExponentialDecay(\n",
    "                initial_learning_rate=initial_learning_rate,\n",
    "                decay_steps=steps_per_epoch,\n",
    "                decay_rate=learning_rate_decay_factor,\n",
    "                staircase=True)\n",
    "\n",
    "optimizer=keras.optimizers.Adam(learning_rate=lr_schedule)\n",
    "#optimizer = mixed_precision.LossScaleOptimizer(optimizer)\n",
    "\n",
    "model.compile(\n",
    "    optimizer=optimizer,\n",
    "    loss=keras.losses.binary_crossentropy,\n",
    "    metrics=[\"AUC\"],\n",
    ")"
   ]
  },
  {
   "cell_type": "code",
   "execution_count": 17,
   "id": "90028704",
   "metadata": {},
   "outputs": [
    {
     "name": "stdout",
     "output_type": "stream",
     "text": [
      "432/432 - 7s - loss: 0.6941 - auc: 0.4970 - 7s/epoch - 16ms/step\n",
      "480/480 - 7s - loss: 0.6940 - auc: 0.5007 - 7s/epoch - 14ms/step\n",
      "\n",
      "Train Set Metrics of the initial (untrained) model:\n",
      "\tloss: 0.6941\n",
      "\tauc: 0.4970\n",
      "\n",
      "Test Set Metrics of the initial (untrained) model:\n",
      "\tloss: 0.6940\n",
      "\tauc: 0.5007\n"
     ]
    }
   ],
   "source": [
    "init_train_metrics = model.evaluate(train_flow, workers=num_workers, verbose=2)\n",
    "init_test_metrics = model.evaluate(test_flow, workers=num_workers, verbose=2)\n",
    "\n",
    "print(\"\\nTrain Set Metrics of the initial (untrained) model:\")\n",
    "for name, val in zip(model.metrics_names, init_train_metrics):\n",
    "    print(\"\\t{}: {:0.4f}\".format(name, val))\n",
    "\n",
    "print(\"\\nTest Set Metrics of the initial (untrained) model:\")\n",
    "for name, val in zip(model.metrics_names, init_test_metrics):\n",
    "    print(\"\\t{}: {:0.4f}\".format(name, val))"
   ]
  },
  {
   "cell_type": "code",
   "execution_count": 18,
   "id": "e34c9a03",
   "metadata": {},
   "outputs": [
    {
     "name": "stdout",
     "output_type": "stream",
     "text": [
      "Epoch 1/30\n",
      "432/432 - 31s - loss: 0.5842 - auc: 0.7430 - val_loss: 0.4441 - val_auc: 0.8740 - 31s/epoch - 72ms/step\n",
      "Epoch 2/30\n",
      "432/432 - 24s - loss: 0.4310 - auc: 0.8783 - val_loss: 0.3408 - val_auc: 0.9302 - 24s/epoch - 56ms/step\n",
      "Epoch 3/30\n",
      "432/432 - 27s - loss: 0.3486 - auc: 0.9230 - val_loss: 0.2722 - val_auc: 0.9537 - 27s/epoch - 62ms/step\n",
      "Epoch 4/30\n",
      "432/432 - 30s - loss: 0.3067 - auc: 0.9407 - val_loss: 0.2463 - val_auc: 0.9614 - 30s/epoch - 68ms/step\n",
      "Epoch 5/30\n",
      "432/432 - 24s - loss: 0.2795 - auc: 0.9508 - val_loss: 0.2226 - val_auc: 0.9692 - 24s/epoch - 56ms/step\n",
      "Epoch 6/30\n",
      "432/432 - 29s - loss: 0.2561 - auc: 0.9588 - val_loss: 0.2085 - val_auc: 0.9736 - 29s/epoch - 68ms/step\n",
      "Epoch 7/30\n",
      "432/432 - 30s - loss: 0.2432 - auc: 0.9626 - val_loss: 0.1968 - val_auc: 0.9765 - 30s/epoch - 69ms/step\n",
      "Epoch 8/30\n",
      "432/432 - 27s - loss: 0.2280 - auc: 0.9671 - val_loss: 0.1885 - val_auc: 0.9772 - 27s/epoch - 62ms/step\n",
      "Epoch 9/30\n",
      "432/432 - 25s - loss: 0.2208 - auc: 0.9690 - val_loss: 0.1870 - val_auc: 0.9793 - 25s/epoch - 57ms/step\n",
      "Epoch 10/30\n",
      "432/432 - 30s - loss: 0.2124 - auc: 0.9714 - val_loss: 0.1818 - val_auc: 0.9796 - 30s/epoch - 69ms/step\n",
      "Epoch 11/30\n",
      "432/432 - 24s - loss: 0.2039 - auc: 0.9733 - val_loss: 0.1732 - val_auc: 0.9815 - 24s/epoch - 56ms/step\n",
      "Epoch 12/30\n",
      "432/432 - 29s - loss: 0.1984 - auc: 0.9747 - val_loss: 0.1645 - val_auc: 0.9826 - 29s/epoch - 67ms/step\n",
      "Epoch 13/30\n",
      "432/432 - 26s - loss: 0.1926 - auc: 0.9762 - val_loss: 0.1700 - val_auc: 0.9829 - 26s/epoch - 59ms/step\n",
      "Epoch 14/30\n",
      "432/432 - 29s - loss: 0.1898 - auc: 0.9769 - val_loss: 0.1593 - val_auc: 0.9841 - 29s/epoch - 67ms/step\n",
      "Epoch 15/30\n",
      "432/432 - 28s - loss: 0.1818 - auc: 0.9788 - val_loss: 0.1643 - val_auc: 0.9837 - 28s/epoch - 66ms/step\n",
      "Epoch 16/30\n",
      "432/432 - 31s - loss: 0.1772 - auc: 0.9794 - val_loss: 0.1656 - val_auc: 0.9840 - 31s/epoch - 72ms/step\n",
      "Epoch 17/30\n",
      "432/432 - 34s - loss: 0.1769 - auc: 0.9800 - val_loss: 0.1632 - val_auc: 0.9842 - 34s/epoch - 79ms/step\n",
      "Epoch 18/30\n",
      "432/432 - 26s - loss: 0.1722 - auc: 0.9808 - val_loss: 0.1549 - val_auc: 0.9846 - 26s/epoch - 61ms/step\n",
      "Epoch 19/30\n",
      "432/432 - 32s - loss: 0.1690 - auc: 0.9815 - val_loss: 0.1583 - val_auc: 0.9847 - 32s/epoch - 74ms/step\n",
      "Epoch 20/30\n",
      "432/432 - 31s - loss: 0.1719 - auc: 0.9810 - val_loss: 0.1539 - val_auc: 0.9851 - 31s/epoch - 73ms/step\n",
      "Epoch 21/30\n",
      "432/432 - 31s - loss: 0.1672 - auc: 0.9818 - val_loss: 0.1572 - val_auc: 0.9846 - 31s/epoch - 71ms/step\n",
      "Epoch 22/30\n",
      "432/432 - 24s - loss: 0.1678 - auc: 0.9818 - val_loss: 0.1547 - val_auc: 0.9852 - 24s/epoch - 57ms/step\n",
      "Epoch 23/30\n",
      "432/432 - 24s - loss: 0.1640 - auc: 0.9825 - val_loss: 0.1583 - val_auc: 0.9847 - 24s/epoch - 56ms/step\n",
      "Epoch 24/30\n",
      "432/432 - 31s - loss: 0.1625 - auc: 0.9828 - val_loss: 0.1577 - val_auc: 0.9851 - 31s/epoch - 72ms/step\n",
      "Epoch 25/30\n",
      "432/432 - 25s - loss: 0.1618 - auc: 0.9830 - val_loss: 0.1517 - val_auc: 0.9855 - 25s/epoch - 58ms/step\n",
      "Epoch 26/30\n",
      "432/432 - 25s - loss: 0.1579 - auc: 0.9838 - val_loss: 0.1520 - val_auc: 0.9862 - 25s/epoch - 57ms/step\n",
      "Epoch 27/30\n",
      "432/432 - 26s - loss: 0.1620 - auc: 0.9828 - val_loss: 0.1531 - val_auc: 0.9853 - 26s/epoch - 59ms/step\n",
      "Epoch 28/30\n",
      "432/432 - 27s - loss: 0.1609 - auc: 0.9830 - val_loss: 0.1512 - val_auc: 0.9855 - 27s/epoch - 63ms/step\n",
      "Epoch 29/30\n",
      "432/432 - 37s - loss: 0.1576 - auc: 0.9840 - val_loss: 0.1524 - val_auc: 0.9853 - 37s/epoch - 86ms/step\n",
      "Epoch 30/30\n",
      "432/432 - 31s - loss: 0.1567 - auc: 0.9841 - val_loss: 0.1532 - val_auc: 0.9854 - 31s/epoch - 72ms/step\n"
     ]
    }
   ],
   "source": [
    "callbacks = keras.callbacks.EarlyStopping(monitor=\"val_loss\",\n",
    "                                          patience=5,\n",
    "                                          mode=\"auto\",\n",
    "                                          restore_best_weights=True)\n",
    "\n",
    "history = model.fit(train_flow,\n",
    "                    epochs=epochs,\n",
    "                    workers=num_workers,\n",
    "                    validation_data=test_flow,\n",
    "                    verbose=2,\n",
    "                    callbacks=[callbacks],\n",
    "                    validation_split=0.0,\n",
    "                    shuffle=True\n",
    "                   )"
   ]
  },
  {
   "cell_type": "code",
   "execution_count": 19,
   "id": "a727f52e",
   "metadata": {
    "scrolled": true
   },
   "outputs": [
    {
     "data": {
      "image/png": "[encoded data removed]",
      "text/plain": [
       "<Figure size 700x800 with 2 Axes>"
      ]
     },
     "metadata": {},
     "output_type": "display_data"
    }
   ],
   "source": [
    "sg.utils.plot_history(history)"
   ]
  },
  {
   "cell_type": "code",
   "execution_count": 20,
   "id": "1fd3266a",
   "metadata": {
    "scrolled": true
   },
   "outputs": [
    {
     "name": "stdout",
     "output_type": "stream",
     "text": [
      "432/432 - 7s - loss: 0.1124 - auc: 0.9914 - 7s/epoch - 15ms/step\n",
      "480/480 - 7s - loss: 0.1508 - auc: 0.9860 - 7s/epoch - 15ms/step\n",
      "\n",
      "Train Set Metrics of the trained model:\n",
      "\tloss: 0.1124\n",
      "\tauc: 0.9914\n",
      "\n",
      "Test Set Metrics of the trained model:\n",
      "\tloss: 0.1508\n",
      "\tauc: 0.9860\n"
     ]
    }
   ],
   "source": [
    "train_metrics = model.evaluate(train_flow, verbose=2)\n",
    "test_metrics = model.evaluate(test_flow, verbose=2)\n",
    "\n",
    "print(\"\\nTrain Set Metrics of the trained model:\")\n",
    "for name, val in zip(model.metrics_names, train_metrics):\n",
    "    print(\"\\t{}: {:0.4f}\".format(name, val))\n",
    "\n",
    "print(\"\\nTest Set Metrics of the trained model:\")\n",
    "for name, val in zip(model.metrics_names, test_metrics):\n",
    "    print(\"\\t{}: {:0.4f}\".format(name, val))"
   ]
  },
  {
   "cell_type": "code",
   "execution_count": 21,
   "id": "0b06144f",
   "metadata": {},
   "outputs": [],
   "source": [
    "def predict(model, flow, iterations=10):\n",
    "    predictions = []\n",
    "    for _ in range(iterations):\n",
    "        predictions.append(model.predict(flow, workers=-1).flatten())\n",
    "\n",
    "    return np.mean(predictions, axis=0)"
   ]
  },
  {
   "cell_type": "code",
   "execution_count": 22,
   "id": "39a63722",
   "metadata": {},
   "outputs": [],
   "source": [
    "test_pred = HinSAGELinkGenerator(G,\n",
    "                                 batch_size=batch_size,\n",
    "                                num_samples=num_samples,\n",
    "                                head_node_types=[\"species\", \"molecule\"],\n",
    "                                seed=42).flow(edge_ids_test, edge_labels_test, seed=42)"
   ]
  },
  {
   "cell_type": "code",
   "execution_count": 23,
   "id": "d59e7dbc",
   "metadata": {},
   "outputs": [
    {
     "name": "stdout",
     "output_type": "stream",
     "text": [
      "480/480 [==============================] - 7s 15ms/step\n",
      "480/480 [==============================] - 7s 14ms/step\n",
      "480/480 [==============================] - 7s 14ms/step\n",
      "480/480 [==============================] - 7s 15ms/step\n",
      "480/480 [==============================] - 7s 14ms/step\n",
      "480/480 [==============================] - 8s 18ms/step\n",
      "480/480 [==============================] - 8s 17ms/step\n",
      "480/480 [==============================] - 8s 17ms/step\n",
      "480/480 [==============================] - 7s 15ms/step\n",
      "480/480 [==============================] - 7s 13ms/step\n"
     ]
    }
   ],
   "source": [
    "predictions = predict(model, test_pred)"
   ]
  },
  {
   "cell_type": "code",
   "execution_count": 24,
   "id": "0690f86d",
   "metadata": {},
   "outputs": [],
   "source": [
    "middle = int(len(predictions)/2)"
   ]
  },
  {
   "cell_type": "code",
   "execution_count": 25,
   "id": "6ec79eea",
   "metadata": {},
   "outputs": [
    {
     "data": {
      "text/plain": [
       "0.9524394"
      ]
     },
     "execution_count": 25,
     "metadata": {},
     "output_type": "execute_result"
    }
   ],
   "source": [
    "np.mean(predictions[:middle])"
   ]
  },
  {
   "cell_type": "code",
   "execution_count": 26,
   "id": "9edf1028",
   "metadata": {},
   "outputs": [
    {
     "data": {
      "text/plain": [
       "0.08892072"
      ]
     },
     "execution_count": 26,
     "metadata": {},
     "output_type": "execute_result"
    }
   ],
   "source": [
    "np.mean(predictions[middle:])"
   ]
  },
  {
   "cell_type": "code",
   "execution_count": 27,
   "id": "68b35e84",
   "metadata": {},
   "outputs": [],
   "source": [
    "test = predictions[(predictions>0.5) | (predictions<0.5)]\n",
    "test = test>0.5"
   ]
  },
  {
   "cell_type": "code",
   "execution_count": 28,
   "id": "8c10314e",
   "metadata": {},
   "outputs": [],
   "source": [
    "test = test.astype('int8')"
   ]
  },
  {
   "cell_type": "code",
   "execution_count": 29,
   "id": "7db6b010",
   "metadata": {
    "scrolled": true
   },
   "outputs": [
    {
     "data": {
      "text/plain": [
       "(array([24926.,  1508.,   923.,   712.,   648.,   649.,   879.,  1342.,\n",
       "         3131., 26612.]),\n",
       " array([2.72981513e-08, 9.99966711e-02, 1.99993327e-01, 2.99989969e-01,\n",
       "        3.99986625e-01, 4.99983251e-01, 5.99979937e-01, 6.99976563e-01,\n",
       "        7.99973190e-01, 8.99969876e-01, 9.99966502e-01]),\n",
       " <BarContainer object of 10 artists>)"
      ]
     },
     "execution_count": 29,
     "metadata": {},
     "output_type": "execute_result"
    },
    {
     "data": {
      "image/png": "[encoded data removed]",
      "text/plain": [
       "<Figure size 640x480 with 1 Axes>"
      ]
     },
     "metadata": {},
     "output_type": "display_data"
    }
   ],
   "source": [
    "plt.hist(predictions)"
   ]
  },
  {
   "cell_type": "code",
   "execution_count": 30,
   "id": "cfacbdfb",
   "metadata": {},
   "outputs": [
    {
     "data": {
      "text/plain": [
       "(array([    0,     3,     4, ..., 61327, 61328, 61329]),)"
      ]
     },
     "execution_count": 30,
     "metadata": {},
     "output_type": "execute_result"
    }
   ],
   "source": [
    "np.where((predictions>0.9) | (predictions<0.1))"
   ]
  },
  {
   "cell_type": "code",
   "execution_count": 31,
   "id": "df2f017e",
   "metadata": {
    "scrolled": true
   },
   "outputs": [
    {
     "data": {
      "text/plain": [
       "0.9634110549486385"
      ]
     },
     "execution_count": 31,
     "metadata": {},
     "output_type": "execute_result"
    }
   ],
   "source": [
    "sum(test == edge_labels_test[np.where((predictions>0.5) | (predictions<0.5))])/len(test)"
   ]
  },
  {
   "cell_type": "code",
   "execution_count": 32,
   "id": "0c82ada5",
   "metadata": {},
   "outputs": [
    {
     "data": {
      "text/plain": [
       "1.0"
      ]
     },
     "execution_count": 32,
     "metadata": {},
     "output_type": "execute_result"
    }
   ],
   "source": [
    "len(test)/len(predictions)"
   ]
  },
  {
   "cell_type": "code",
   "execution_count": 33,
   "id": "88a45c64",
   "metadata": {
    "scrolled": true
   },
   "outputs": [
    {
     "name": "stderr",
     "output_type": "stream",
     "text": [
      "WARNING:absl:Found untraced functions such as _update_step_xla while saving (showing 1 of 1). These functions will not be directly callable after loading.\n"
     ]
    },
    {
     "name": "stdout",
     "output_type": "stream",
     "text": [
      "INFO:tensorflow:Assets written to: ./model/batch_128_layer_1024_s_to_m/assets\n"
     ]
    },
    {
     "name": "stderr",
     "output_type": "stream",
     "text": [
      "INFO:tensorflow:Assets written to: ./model/batch_128_layer_1024_s_to_m/assets\n"
     ]
    }
   ],
   "source": [
    "model.save(f\"./model/batch_{batch_size}_layer_{hinsage_layer_sizes[0]}_s_to_m\")"
   ]
  }
 ],
 "metadata": {
  "kernelspec": {
   "display_name": "Python 3 (ipykernel)",
   "language": "python",
   "name": "python3"
  },
  "language_info": {
   "codemirror_mode": {
    "name": "ipython",
    "version": 3
   },
   "file_extension": ".py",
   "mimetype": "text/x-python",
   "name": "python",
   "nbconvert_exporter": "python",
   "pygments_lexer": "ipython3",
   "version": "3.11.4"
  }
 },
 "nbformat": 4,
 "nbformat_minor": 5
}
