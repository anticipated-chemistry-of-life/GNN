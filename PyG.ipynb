{
 "cells": [
  {
   "cell_type": "code",
   "execution_count": 1,
   "id": "e0045cc2",
   "metadata": {},
   "outputs": [],
   "source": [
    "import pandas as pd\n",
    "import numpy as np\n",
    "import torch\n",
    "from torch_geometric.data import Data, Dataset\n",
    "from sklearn.model_selection import train_test_split"
   ]
  },
  {
   "cell_type": "code",
   "execution_count": 2,
   "id": "116f406d",
   "metadata": {},
   "outputs": [],
   "source": [
    "# Load csv files\n",
    "df_molecules_species = pd.read_csv(\"./data/lotus_aggregated.csv\")\n",
    "df_molecules_species = df_molecules_species[['organism_taxonomy_09species', 'structure_smiles_2D']]\n",
    "df_species_features = pd.read_csv(\"./data/species_features_dummy.csv\", index_col=0) # Considering species name as index\n",
    "df_species_features = df_species_features[df_species_features.columns[::-1]]\n",
    "df_molecules_features = pd.read_csv(\"./data/mol_dummy_rdkit.csv\", index_col=0) # Considering molecule structure as index"
   ]
  },
  {
   "cell_type": "code",
   "execution_count": 3,
   "id": "79ffae21",
   "metadata": {},
   "outputs": [],
   "source": [
    "# Convert Boolean values to integers\n",
    "df_species_features = df_species_features.astype(int)\n",
    "df_molecules_features = df_molecules_features.astype(int)"
   ]
  },
  {
   "cell_type": "code",
   "execution_count": 4,
   "id": "abd34591",
   "metadata": {},
   "outputs": [],
   "source": [
    "# Here, we'll use a simple co-occurrence matrix as our graph, where species and molecules are nodes\n",
    "species = df_molecules_species[\"organism_taxonomy_09species\"].unique()\n",
    "molecules = df_molecules_species[\"structure_smiles_2D\"].unique()\n",
    "num_species = len(species)\n",
    "num_molecules = len(molecules)"
   ]
  },
  {
   "cell_type": "code",
   "execution_count": 5,
   "id": "63ac448d",
   "metadata": {
    "scrolled": true
   },
   "outputs": [],
   "source": [
    "species = pd.DataFrame(data={\n",
    "    'organism_taxonomy_09species' : species,\n",
    "    \"species_ID\": pd.RangeIndex(len(species))\n",
    "})"
   ]
  },
  {
   "cell_type": "code",
   "execution_count": 6,
   "id": "dcddba0d",
   "metadata": {},
   "outputs": [],
   "source": [
    "molecules = pd.DataFrame(data={\n",
    "    'structure_smiles_2D' : molecules,\n",
    "    \"molecules_ID\": pd.RangeIndex(len(molecules))\n",
    "})"
   ]
  },
  {
   "cell_type": "code",
   "execution_count": 7,
   "id": "2eff6e18",
   "metadata": {},
   "outputs": [],
   "source": [
    "species_to_species_id = pd.merge(df_molecules_species['organism_taxonomy_09species'],\n",
    "         species,\n",
    "         left_on='organism_taxonomy_09species',\n",
    "        right_on='organism_taxonomy_09species',\n",
    "         how='left')"
   ]
  },
  {
   "cell_type": "code",
   "execution_count": 8,
   "id": "ee631769",
   "metadata": {},
   "outputs": [],
   "source": [
    "mol_to_mol_id = pd.merge(df_molecules_species['structure_smiles_2D'],\n",
    "         molecules,\n",
    "         left_on='structure_smiles_2D',\n",
    "        right_on='structure_smiles_2D',\n",
    "         how='left')"
   ]
  },
  {
   "cell_type": "code",
   "execution_count": 9,
   "id": "0dbc4603",
   "metadata": {},
   "outputs": [],
   "source": [
    "species_to_species_id = torch.from_numpy(species_to_species_id['species_ID'].values)\n",
    "mol_to_mol_id = torch.from_numpy(mol_to_mol_id['molecules_ID'].values)"
   ]
  },
  {
   "cell_type": "code",
   "execution_count": 10,
   "id": "4a92dc2f",
   "metadata": {},
   "outputs": [],
   "source": [
    "edge_index_species_to_mol = torch.stack([species_to_species_id,mol_to_mol_id], dim=0)"
   ]
  },
  {
   "cell_type": "code",
   "execution_count": 26,
   "id": "819818af",
   "metadata": {},
   "outputs": [],
   "source": [
    "from torch_geometric.data import HeteroData\n",
    "import torch_geometric.transforms as T"
   ]
  },
  {
   "cell_type": "code",
   "execution_count": 27,
   "id": "f1bd712b",
   "metadata": {},
   "outputs": [],
   "source": [
    "data = HeteroData()"
   ]
  },
  {
   "cell_type": "code",
   "execution_count": 28,
   "id": "1bf7282c",
   "metadata": {},
   "outputs": [],
   "source": [
    "# Save node indices:\n",
    "data[\"species\"].node_id = torch.arange(len(species))\n",
    "data[\"molecule\"].node_id = torch.arange(len(molecules))"
   ]
  },
  {
   "cell_type": "code",
   "execution_count": 29,
   "id": "04268318",
   "metadata": {},
   "outputs": [],
   "source": [
    "data[\"species\"].x = torch.from_numpy(df_species_features.values).to(torch.float)\n",
    "data[\"molecule\"].x = torch.from_numpy(df_molecules_features.values).to(torch.float)\n",
    "data[\"species\", \"has\", \"molecule\"].edge_index = edge_index_species_to_mol\n",
    "data = T.ToUndirected()(data)"
   ]
  },
  {
   "cell_type": "code",
   "execution_count": 30,
   "id": "ba39acd1",
   "metadata": {},
   "outputs": [],
   "source": [
    "transform = T.RandomLinkSplit(\n",
    "    num_val=0.1,\n",
    "    num_test=0.1,\n",
    "    disjoint_train_ratio=0.3,\n",
    "    neg_sampling_ratio=2.0,\n",
    "    add_negative_train_samples=False,\n",
    "    edge_types=(\"species\", \"has\", \"molecule\"),\n",
    "    rev_edge_types=(\"molecule\", \"rev_has\", \"species\"), \n",
    ")\n",
    "train_data, val_data, test_data = transform(data)"
   ]
  },
  {
   "cell_type": "code",
   "execution_count": 76,
   "id": "db3e6134",
   "metadata": {
    "scrolled": false
   },
   "outputs": [],
   "source": [
    "from torch_geometric.nn import SAGEConv, to_hetero\n",
    "import torch.nn.functional as F\n",
    "from torch import Tensor\n",
    "from torch_geometric.nn import GATConv\n",
    "\n",
    "class GNN(torch.nn.Module):\n",
    "    def __init__(self, hidden_channels):\n",
    "        super().__init__()\n",
    "        self.conv1 = GATConv(hidden_channels, hidden_channels, add_self_loops=False)\n",
    "        self.conv2 = GATConv(hidden_channels, hidden_channels, add_self_loops=False)\n",
    "\n",
    "    def forward(self, x: Tensor, edge_index: Tensor) -> Tensor:\n",
    "        x = F.relu(self.conv1(x, edge_index))\n",
    "        x = self.conv2(x, edge_index)\n",
    "        return x\n",
    "# Our final classifier applies the dot-product between source and destination\n",
    "class Classifier(torch.nn.Module):\n",
    "    def forward(self, x_species: Tensor, x_molecule: Tensor, edge_label_index: Tensor) -> Tensor:\n",
    "        # Convert node embeddings to edge-level representations:\n",
    "        edge_feat_species = x_species[edge_label_index[0]]\n",
    "        edge_feat_molecule = x_molecule[edge_label_index[1]]\n",
    "        # Apply dot-product to get a prediction per supervision edge:\n",
    "        edge_logits = (edge_feat_species * edge_feat_molecule).sum(dim=-1)\n",
    "        # Apply sigmoid function to get probabilities between 0 and 1\n",
    "        edge_probs = torch.sigmoid(edge_logits)\n",
    "        return edge_probs\n",
    "\n",
    "class Model(torch.nn.Module):\n",
    "    def __init__(self, hidden_channels):\n",
    "        super().__init__()\n",
    "        # Since the dataset does not come with rich features, we also learn two\n",
    "        # embedding matrices for users and movies:\n",
    "        self.movie_lin = torch.nn.Linear(1024, hidden_channels)\n",
    "        self.species_emb = torch.nn.Embedding(data[\"species\"].num_nodes, hidden_channels)\n",
    "        self.molecule_emb = torch.nn.Embedding(data[\"molecule\"].num_nodes, hidden_channels)\n",
    "        # Instantiate homogeneous GNN:\n",
    "        self.gnn = GNN(hidden_channels)\n",
    "        # Convert GNN model into a heterogeneous variant:\n",
    "        self.gnn = to_hetero(self.gnn, metadata=data.metadata())\n",
    "        self.classifier = Classifier()\n",
    "        \n",
    "    def forward(self, data: HeteroData) -> Tensor:\n",
    "        x_dict = {\n",
    "          \"species\": self.species_emb(data[\"species\"].node_id),\n",
    "          \"molecule\": self.movie_lin(data[\"molecule\"].x) + self.molecule_emb(data[\"molecule\"].node_id),\n",
    "        } \n",
    "        # `x_dict` holds feature matrices of all node types\n",
    "        # `edge_index_dict` holds all edge indices of all edge types\n",
    "        x_dict = self.gnn(x_dict, data.edge_index_dict)\n",
    "        pred_prob = self.classifier(\n",
    "            x_dict[\"species\"],\n",
    "            x_dict[\"molecule\"],\n",
    "            data[\"species\", \"has\", \"molecule\"].edge_label_index,\n",
    "        )\n",
    "        return pred_prob\n",
    "\n",
    "model = Model(hidden_channels=128)"
   ]
  },
  {
   "cell_type": "code",
   "execution_count": 77,
   "id": "5d4febcd",
   "metadata": {
    "scrolled": true
   },
   "outputs": [
    {
     "name": "stdout",
     "output_type": "stream",
     "text": [
      "Device: 'cpu'\n",
      "Epoch: 001, Loss: 1.1392\n",
      "Epoch: 002, Loss: 0.4642\n",
      "Epoch: 003, Loss: 0.3276\n",
      "Epoch: 004, Loss: 0.2260\n",
      "Epoch: 005, Loss: 0.1903\n",
      "Epoch: 006, Loss: 0.1781\n",
      "Epoch: 007, Loss: 0.1709\n",
      "Epoch: 008, Loss: 0.1645\n",
      "Epoch: 009, Loss: 0.1581\n",
      "Epoch: 010, Loss: 0.1518\n",
      "Epoch: 011, Loss: 0.1454\n",
      "Epoch: 012, Loss: 0.1389\n",
      "Epoch: 013, Loss: 0.1325\n",
      "Epoch: 014, Loss: 0.1261\n",
      "Epoch: 015, Loss: 0.1197\n",
      "Epoch: 016, Loss: 0.1133\n",
      "Epoch: 017, Loss: 0.1069\n",
      "Epoch: 018, Loss: 0.1007\n",
      "Epoch: 019, Loss: 0.0945\n",
      "Epoch: 020, Loss: 0.0885\n",
      "Epoch: 021, Loss: 0.0825\n",
      "Epoch: 022, Loss: 0.0768\n",
      "Epoch: 023, Loss: 0.0713\n",
      "Epoch: 024, Loss: 0.0659\n",
      "Epoch: 025, Loss: 0.0608\n",
      "Epoch: 026, Loss: 0.0560\n",
      "Epoch: 027, Loss: 0.0514\n",
      "Epoch: 028, Loss: 0.0471\n",
      "Epoch: 029, Loss: 0.0431\n",
      "Epoch: 030, Loss: 0.0393\n",
      "Epoch: 031, Loss: 0.0359\n",
      "Epoch: 032, Loss: 0.0327\n",
      "Epoch: 033, Loss: 0.0298\n",
      "Epoch: 034, Loss: 0.0271\n",
      "Epoch: 035, Loss: 0.0247\n",
      "Epoch: 036, Loss: 0.0224\n",
      "Epoch: 037, Loss: 0.0204\n",
      "Epoch: 038, Loss: 0.0186\n",
      "Epoch: 039, Loss: 0.0170\n",
      "Epoch: 040, Loss: 0.0156\n",
      "Epoch: 041, Loss: 0.0142\n",
      "Epoch: 042, Loss: 0.0131\n",
      "Epoch: 043, Loss: 0.0120\n",
      "Epoch: 044, Loss: 0.0110\n",
      "Epoch: 045, Loss: 0.0102\n",
      "Epoch: 046, Loss: 0.0094\n",
      "Epoch: 047, Loss: 0.0087\n",
      "Epoch: 048, Loss: 0.0081\n",
      "Epoch: 049, Loss: 0.0075\n",
      "Epoch: 050, Loss: 0.0070\n",
      "Epoch: 051, Loss: 0.0066\n",
      "Epoch: 052, Loss: 0.0062\n",
      "Epoch: 053, Loss: 0.0058\n",
      "Epoch: 054, Loss: 0.0055\n",
      "Epoch: 055, Loss: 0.0051\n",
      "Epoch: 056, Loss: 0.0049\n",
      "Epoch: 057, Loss: 0.0046\n",
      "Epoch: 058, Loss: 0.0044\n",
      "Epoch: 059, Loss: 0.0042\n",
      "Epoch: 060, Loss: 0.0040\n",
      "Epoch: 061, Loss: 0.0038\n",
      "Epoch: 062, Loss: 0.0036\n",
      "Epoch: 063, Loss: 0.0035\n",
      "Epoch: 064, Loss: 0.0033\n",
      "Epoch: 065, Loss: 0.0032\n",
      "Epoch: 066, Loss: 0.0031\n",
      "Epoch: 067, Loss: 0.0030\n",
      "Epoch: 068, Loss: 0.0028\n",
      "Epoch: 069, Loss: 0.0027\n",
      "Epoch: 070, Loss: 0.0027\n",
      "Epoch: 071, Loss: 0.0026\n",
      "Epoch: 072, Loss: 0.0025\n",
      "Epoch: 073, Loss: 0.0024\n",
      "Epoch: 074, Loss: 0.0023\n",
      "Epoch: 075, Loss: 0.0023\n",
      "Epoch: 076, Loss: 0.0022\n",
      "Epoch: 077, Loss: 0.0021\n",
      "Epoch: 078, Loss: 0.0021\n",
      "Epoch: 079, Loss: 0.0020\n",
      "Epoch: 080, Loss: 0.0020\n",
      "Epoch: 081, Loss: 0.0019\n",
      "Epoch: 082, Loss: 0.0019\n",
      "Epoch: 083, Loss: 0.0018\n",
      "Epoch: 084, Loss: 0.0018\n",
      "Epoch: 085, Loss: 0.0018\n",
      "Epoch: 086, Loss: 0.0017\n",
      "Epoch: 087, Loss: 0.0017\n",
      "Epoch: 088, Loss: 0.0017\n",
      "Epoch: 089, Loss: 0.0016\n",
      "Epoch: 090, Loss: 0.0016\n",
      "Epoch: 091, Loss: 0.0016\n",
      "Epoch: 092, Loss: 0.0015\n",
      "Epoch: 093, Loss: 0.0015\n",
      "Epoch: 094, Loss: 0.0015\n",
      "Epoch: 095, Loss: 0.0014\n",
      "Epoch: 096, Loss: 0.0014\n",
      "Epoch: 097, Loss: 0.0014\n",
      "Epoch: 098, Loss: 0.0014\n",
      "Epoch: 099, Loss: 0.0013\n",
      "Epoch: 100, Loss: 0.0013\n",
      "Epoch: 101, Loss: 0.0013\n",
      "Epoch: 102, Loss: 0.0013\n",
      "Epoch: 103, Loss: 0.0013\n",
      "Epoch: 104, Loss: 0.0012\n",
      "Epoch: 105, Loss: 0.0012\n",
      "Epoch: 106, Loss: 0.0012\n",
      "Epoch: 107, Loss: 0.0012\n",
      "Epoch: 108, Loss: 0.0012\n",
      "Epoch: 109, Loss: 0.0011\n",
      "Epoch: 110, Loss: 0.0011\n",
      "Epoch: 111, Loss: 0.0011\n",
      "Epoch: 112, Loss: 0.0011\n",
      "Epoch: 113, Loss: 0.0011\n",
      "Epoch: 114, Loss: 0.0011\n",
      "Epoch: 115, Loss: 0.0010\n",
      "Epoch: 116, Loss: 0.0010\n",
      "Epoch: 117, Loss: 0.0010\n",
      "Epoch: 118, Loss: 0.0010\n",
      "Epoch: 119, Loss: 0.0010\n",
      "Epoch: 120, Loss: 0.0010\n",
      "Epoch: 121, Loss: 0.0010\n",
      "Epoch: 122, Loss: 0.0009\n",
      "Epoch: 123, Loss: 0.0009\n",
      "Epoch: 124, Loss: 0.0009\n",
      "Epoch: 125, Loss: 0.0009\n",
      "Epoch: 126, Loss: 0.0009\n",
      "Epoch: 127, Loss: 0.0009\n",
      "Epoch: 128, Loss: 0.0009\n",
      "Epoch: 129, Loss: 0.0009\n",
      "Epoch: 130, Loss: 0.0009\n",
      "Epoch: 131, Loss: 0.0008\n",
      "Epoch: 132, Loss: 0.0008\n",
      "Epoch: 133, Loss: 0.0008\n",
      "Epoch: 134, Loss: 0.0008\n",
      "Epoch: 135, Loss: 0.0008\n",
      "Epoch: 136, Loss: 0.0008\n",
      "Epoch: 137, Loss: 0.0008\n",
      "Epoch: 138, Loss: 0.0008\n",
      "Epoch: 139, Loss: 0.0008\n",
      "Epoch: 140, Loss: 0.0008\n",
      "Epoch: 141, Loss: 0.0007\n",
      "Epoch: 142, Loss: 0.0007\n",
      "Epoch: 143, Loss: 0.0007\n",
      "Epoch: 144, Loss: 0.0007\n",
      "Epoch: 145, Loss: 0.0007\n",
      "Epoch: 146, Loss: 0.0007\n",
      "Epoch: 147, Loss: 0.0007\n",
      "Epoch: 148, Loss: 0.0007\n",
      "Epoch: 149, Loss: 0.0007\n",
      "Epoch: 150, Loss: 0.0007\n",
      "Epoch: 151, Loss: 0.0007\n",
      "Epoch: 152, Loss: 0.0007\n",
      "Epoch: 153, Loss: 0.0006\n",
      "Epoch: 154, Loss: 0.0006\n",
      "Epoch: 155, Loss: 0.0006\n",
      "Epoch: 156, Loss: 0.0006\n",
      "Epoch: 157, Loss: 0.0006\n",
      "Epoch: 158, Loss: 0.0006\n",
      "Epoch: 159, Loss: 0.0006\n",
      "Epoch: 160, Loss: 0.0006\n",
      "Epoch: 161, Loss: 0.0006\n",
      "Epoch: 162, Loss: 0.0006\n",
      "Epoch: 163, Loss: 0.0006\n",
      "Epoch: 164, Loss: 0.0006\n",
      "Epoch: 165, Loss: 0.0006\n",
      "Epoch: 166, Loss: 0.0006\n",
      "Epoch: 167, Loss: 0.0006\n",
      "Epoch: 168, Loss: 0.0006\n",
      "Epoch: 169, Loss: 0.0005\n",
      "Epoch: 170, Loss: 0.0005\n",
      "Epoch: 171, Loss: 0.0005\n",
      "Epoch: 172, Loss: 0.0005\n",
      "Epoch: 173, Loss: 0.0005\n",
      "Epoch: 174, Loss: 0.0005\n",
      "Epoch: 175, Loss: 0.0005\n",
      "Epoch: 176, Loss: 0.0005\n",
      "Epoch: 177, Loss: 0.0005\n",
      "Epoch: 178, Loss: 0.0005\n",
      "Epoch: 179, Loss: 0.0005\n",
      "Epoch: 180, Loss: 0.0005\n",
      "Epoch: 181, Loss: 0.0005\n",
      "Epoch: 182, Loss: 0.0005\n",
      "Epoch: 183, Loss: 0.0005\n",
      "Epoch: 184, Loss: 0.0005\n",
      "Epoch: 185, Loss: 0.0005\n",
      "Epoch: 186, Loss: 0.0005\n",
      "Epoch: 187, Loss: 0.0005\n",
      "Epoch: 188, Loss: 0.0005\n",
      "Epoch: 189, Loss: 0.0005\n",
      "Epoch: 190, Loss: 0.0005\n",
      "Epoch: 191, Loss: 0.0004\n",
      "Epoch: 192, Loss: 0.0004\n",
      "Epoch: 193, Loss: 0.0004\n",
      "Epoch: 194, Loss: 0.0004\n",
      "Epoch: 195, Loss: 0.0004\n",
      "Epoch: 196, Loss: 0.0004\n",
      "Epoch: 197, Loss: 0.0004\n",
      "Epoch: 198, Loss: 0.0004\n",
      "Epoch: 199, Loss: 0.0004\n"
     ]
    }
   ],
   "source": [
    "import tqdm\n",
    "import torch.nn.functional as F\n",
    "\n",
    "device = torch.device('cuda' if torch.cuda.is_available() else 'cpu')\n",
    "print(f\"Device: '{device}'\")\n",
    "model = model.to(device)\n",
    "optimizer = torch.optim.Adam(model.parameters(), lr=1e-2)\n",
    "\n",
    "# Convert train_data to device\n",
    "train_data = train_data.to(device)\n",
    "\n",
    "for epoch in range(1, 200):\n",
    "    optimizer.zero_grad()\n",
    "    pred = model(train_data)\n",
    "    ground_truth = train_data[\"species\", \"has\", \"molecule\"].edge_label\n",
    "    loss = F.binary_cross_entropy(pred, ground_truth)\n",
    "    loss.backward()\n",
    "    optimizer.step()\n",
    "    print(f\"Epoch: {epoch:03d}, Loss: {loss:.4f}\")\n"
   ]
  },
  {
   "cell_type": "code",
   "execution_count": 78,
   "id": "ab0802c3",
   "metadata": {},
   "outputs": [
    {
     "name": "stdout",
     "output_type": "stream",
     "text": [
      "\n",
      "Validation AUC: 0.4156\n"
     ]
    }
   ],
   "source": [
    "from sklearn.metrics import roc_auc_score\n",
    "\n",
    "val_data = val_data.to(device)\n",
    "\n",
    "with torch.no_grad():\n",
    "    pred = model(val_data)\n",
    "    ground_truth = val_data[\"species\", \"has\", \"molecule\"].edge_label\n",
    "\n",
    "# Move prediction and ground truth to CPU and convert to numpy arrays for AUC computation\n",
    "pred = pred.cpu().numpy()\n",
    "ground_truth = ground_truth.cpu().numpy()\n",
    "\n",
    "# Compute AUC\n",
    "auc = roc_auc_score(ground_truth, pred)\n",
    "\n",
    "print()\n",
    "print(f\"Validation AUC: {auc:.4f}\")\n"
   ]
  },
  {
   "cell_type": "code",
   "execution_count": 66,
   "id": "2e116f5a",
   "metadata": {},
   "outputs": [
    {
     "data": {
      "text/plain": [
       "{'edge_index': tensor([[ 4849,  3405,  2580,  ...,  1364,  2265,  8922],\n",
       "        [ 8290,  3328,  2496,  ..., 11811,   229, 10483]]), 'edge_label': tensor([1., 1., 1.,  ..., 0., 0., 0.]), 'edge_label_index': tensor([[7095, 6301, 5531,  ...,  718, 9926, 5778],\n",
       "        [ 978, 7084,  369,  ..., 7989,  659, 8027]])}"
      ]
     },
     "execution_count": 66,
     "metadata": {},
     "output_type": "execute_result"
    }
   ],
   "source": [
    "val_data[\"species\", \"has\", \"molecule\"]"
   ]
  },
  {
   "cell_type": "code",
   "execution_count": 59,
   "id": "198ca793",
   "metadata": {},
   "outputs": [
    {
     "data": {
      "text/plain": [
       "array([1.        , 0.59894294, 0.9999999 , ..., 0.61078596, 0.57677233,\n",
       "       0.9976546 ], dtype=float32)"
      ]
     },
     "execution_count": 59,
     "metadata": {},
     "output_type": "execute_result"
    }
   ],
   "source": [
    "pred"
   ]
  },
  {
   "cell_type": "code",
   "execution_count": 75,
   "id": "86984ba3",
   "metadata": {},
   "outputs": [
    {
     "data": {
      "text/plain": [
       "array([1., 1., 1., ..., 0., 0., 0.], dtype=float32)"
      ]
     },
     "execution_count": 75,
     "metadata": {},
     "output_type": "execute_result"
    }
   ],
   "source": [
    "ground_truth"
   ]
  }
 ],
 "metadata": {
  "kernelspec": {
   "display_name": "Python 3 (ipykernel)",
   "language": "python",
   "name": "python3"
  },
  "language_info": {
   "codemirror_mode": {
    "name": "ipython",
    "version": 3
   },
   "file_extension": ".py",
   "mimetype": "text/x-python",
   "name": "python",
   "nbconvert_exporter": "python",
   "pygments_lexer": "ipython3",
   "version": "3.10.8"
  }
 },
 "nbformat": 4,
 "nbformat_minor": 5
}
