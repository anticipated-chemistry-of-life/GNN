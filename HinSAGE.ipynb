{
 "cells": [
  {
   "cell_type": "code",
   "execution_count": 1,
   "id": "e06f6e13",
   "metadata": {
    "scrolled": false
   },
   "outputs": [
    {
     "name": "stderr",
     "output_type": "stream",
     "text": [
      "2023-06-14 14:10:31.401914: I tensorflow/core/platform/cpu_feature_guard.cc:193] This TensorFlow binary is optimized with oneAPI Deep Neural Network Library (oneDNN) to use the following CPU instructions in performance-critical operations:  SSE4.1 SSE4.2 AVX AVX2 FMA\n",
      "To enable them in other operations, rebuild TensorFlow with the appropriate compiler flags.\n",
      "2023-06-14 14:10:37.779892: I tensorflow/core/platform/cpu_feature_guard.cc:193] This TensorFlow binary is optimized with oneAPI Deep Neural Network Library (oneDNN) to use the following CPU instructions in performance-critical operations:  SSE4.1 SSE4.2 AVX AVX2 FMA\n",
      "To enable them in other operations, rebuild TensorFlow with the appropriate compiler flags.\n"
     ]
    }
   ],
   "source": [
    "import networkx as nx\n",
    "import itertools\n",
    "import pandas as pd\n",
    "import numpy as np\n",
    "from stellargraph import StellarGraph\n",
    "from rdkit.Chem import AllChem, DataStructs"
   ]
  },
  {
   "cell_type": "code",
   "execution_count": 2,
   "id": "e63623be",
   "metadata": {},
   "outputs": [],
   "source": [
    "g = nx.read_graphml(\"./graph/lotus_DB_as_graph.gml\")\n",
    "species_features_dummy = pd.read_csv(\"./data/species_features_dummy.csv\", index_col=0)\n",
    "molecule_features_dummy = pd.read_csv(\"./data/molecule_features_dummy.csv\", index_col=0)\n",
    "df_agg = pd.read_csv(\"./data/lotus_aggregated.csv\", index_col=0)"
   ]
  },
  {
   "cell_type": "code",
   "execution_count": 3,
   "id": "632ebdfd",
   "metadata": {},
   "outputs": [
    {
     "name": "stdout",
     "output_type": "stream",
     "text": [
      "StellarGraph: Undirected multigraph\n",
      " Nodes: 3448, Edges: 2179\n",
      "\n",
      " Node types:\n",
      "  species: [1749]\n",
      "    Features: float32 vector, length 1696\n",
      "    Edge types: species-present_in->molecule\n",
      "  molecule: [1699]\n",
      "    Features: float32 vector, length 401\n",
      "    Edge types: molecule-present_in->species, molecule-similar_to->molecule\n",
      "\n",
      " Edge types:\n",
      "    molecule-present_in->species: [2000]\n",
      "        Weights: range=[1, 30], mean=1.83, std=1.77304\n",
      "        Features: none\n",
      "    molecule-similar_to->molecule: [179]\n",
      "        Weights: range=[0.8, 1], mean=0.926223, std=0.0809082\n",
      "        Features: none\n"
     ]
    }
   ],
   "source": [
    "G = StellarGraph.from_networkx(g,\n",
    "                               node_features={'species':species_features_dummy,\n",
    "                                              'molecule': molecule_features_dummy})\n",
    "print(G.info())"
   ]
  },
  {
   "cell_type": "code",
   "execution_count": 4,
   "id": "9cfffa02",
   "metadata": {},
   "outputs": [],
   "source": [
    "G.check_graph_for_ml()"
   ]
  },
  {
   "cell_type": "code",
   "execution_count": 5,
   "id": "4d340b0e",
   "metadata": {},
   "outputs": [],
   "source": [
    "import json\n",
    "import pandas as pd\n",
    "import numpy as np\n",
    "from sklearn import preprocessing, feature_extraction, model_selection\n",
    "from sklearn.metrics import mean_absolute_error, mean_squared_error\n",
    "\n",
    "import stellargraph as sg\n",
    "from stellargraph.mapper import HinSAGELinkGenerator\n",
    "from stellargraph.layer import HinSAGE, link_regression, link_classification\n",
    "from tensorflow.keras import Model, optimizers, losses, metrics\n",
    "\n",
    "import multiprocessing\n",
    "from stellargraph import datasets\n",
    "from IPython.display import display, HTML\n",
    "import matplotlib.pyplot as plt\n",
    "%matplotlib inline"
   ]
  },
  {
   "cell_type": "code",
   "execution_count": 6,
   "id": "9f8e92d5",
   "metadata": {},
   "outputs": [],
   "source": [
    "batch_size = 200 #default: 200\n",
    "epochs = 5\n",
    "# Use 80% of edges for training, the rest for testing:\n",
    "train_size = 0.8\n",
    "test_size = 0.2"
   ]
  },
  {
   "cell_type": "code",
   "execution_count": 7,
   "id": "55394e0d",
   "metadata": {},
   "outputs": [
    {
     "name": "stderr",
     "output_type": "stream",
     "text": [
      "/var/folders/_5/04k_n4g93v9bhbfk8nqpr3zr0000gs/T/ipykernel_2848/1907346342.py:4: SettingWithCopyWarning: \n",
      "A value is trying to be set on a copy of a slice from a DataFrame.\n",
      "Try using .loc[row_indexer,col_indexer] = value instead\n",
      "\n",
      "See the caveats in the documentation: https://pandas.pydata.org/pandas-docs/stable/user_guide/indexing.html#returning-a-view-versus-a-copy\n",
      "  edges_with_ratings['prob_presence'] = np.exp(-1/df_agg['reference_wikidata'])\n"
     ]
    }
   ],
   "source": [
    "edges_with_ratings = df_agg[['structure_smiles_2D',\n",
    "                             'organism_taxonomy_09species',\n",
    "                            'reference_wikidata']]\n",
    "edges_with_ratings['prob_presence'] = np.exp(-1/df_agg['reference_wikidata'])"
   ]
  },
  {
   "cell_type": "code",
   "execution_count": 8,
   "id": "fdf28baa",
   "metadata": {},
   "outputs": [],
   "source": [
    "edges_train, edges_test = model_selection.train_test_split(\n",
    "    edges_with_ratings, train_size=train_size, test_size=test_size\n",
    ")\n",
    "\n",
    "edgelist_train = list(edges_train[[\"structure_smiles_2D\", \"organism_taxonomy_09species\"]].itertuples(index=False))\n",
    "edgelist_test = list(edges_test[[\"structure_smiles_2D\", \"organism_taxonomy_09species\"]].itertuples(index=False))\n",
    "\n",
    "labels_train = edges_train[\"prob_presence\"]\n",
    "labels_test = edges_test[\"prob_presence\"]"
   ]
  },
  {
   "cell_type": "code",
   "execution_count": 9,
   "id": "374f1c90",
   "metadata": {},
   "outputs": [],
   "source": [
    "num_samples = [8, 4]\n",
    "generator = HinSAGELinkGenerator(\n",
    "    G, batch_size, num_samples, head_node_types=[\"molecule\", \"species\"]\n",
    ")\n",
    "train_gen = generator.flow(edgelist_train, labels_train, shuffle=True)\n",
    "test_gen = generator.flow(edgelist_test, labels_test)\n"
   ]
  },
  {
   "cell_type": "code",
   "execution_count": 10,
   "id": "4b897b8b",
   "metadata": {},
   "outputs": [
    {
     "data": {
      "text/plain": [
       "[('molecule', [2, 3]),\n",
       " ('species', [4]),\n",
       " ('species', [5]),\n",
       " ('molecule', [6, 7]),\n",
       " ('molecule', [8, 9]),\n",
       " ('molecule', []),\n",
       " ('species', []),\n",
       " ('molecule', []),\n",
       " ('species', []),\n",
       " ('molecule', [])]"
      ]
     },
     "execution_count": 10,
     "metadata": {},
     "output_type": "execute_result"
    }
   ],
   "source": [
    "generator.schema.type_adjacency_list(generator.head_node_types, len(num_samples))"
   ]
  },
  {
   "cell_type": "code",
   "execution_count": 11,
   "id": "8006f2cc",
   "metadata": {},
   "outputs": [
    {
     "data": {
      "text/plain": [
       "{'molecule': [EdgeType(n1='molecule', rel='present_in', n2='species'),\n",
       "  EdgeType(n1='molecule', rel='similar_to', n2='molecule')],\n",
       " 'species': [EdgeType(n1='species', rel='present_in', n2='molecule')]}"
      ]
     },
     "execution_count": 11,
     "metadata": {},
     "output_type": "execute_result"
    }
   ],
   "source": [
    "generator.schema.schema"
   ]
  },
  {
   "cell_type": "code",
   "execution_count": 12,
   "id": "b35ab46d",
   "metadata": {},
   "outputs": [],
   "source": [
    "hinsage_layer_sizes = [32, 32]\n",
    "assert len(hinsage_layer_sizes) == len(num_samples)\n",
    "\n",
    "hinsage = HinSAGE(layer_sizes=hinsage_layer_sizes,\n",
    "                  generator=generator,\n",
    "                  bias=True,\n",
    "                  dropout=0.0)"
   ]
  },
  {
   "cell_type": "code",
   "execution_count": 13,
   "id": "c8209ba8",
   "metadata": {},
   "outputs": [
    {
     "name": "stderr",
     "output_type": "stream",
     "text": [
      "/usr/local/Caskroom/mambaforge/base/envs/stellar_graph/lib/python3.10/site-packages/keras/initializers/initializers_v2.py:120: UserWarning: The initializer GlorotUniform is unseeded and being called multiple times, which will return identical values  each time (even if the initializer is unseeded). Please update your code to provide a seed to the initializer, or avoid using the same initalizer instance more than once.\n",
      "  warnings.warn(\n"
     ]
    }
   ],
   "source": [
    "# Expose input and output sockets of hinsage:\n",
    "x_inp, x_out = hinsage.in_out_tensors()"
   ]
  },
  {
   "cell_type": "code",
   "execution_count": 14,
   "id": "65fea882",
   "metadata": {},
   "outputs": [
    {
     "name": "stdout",
     "output_type": "stream",
     "text": [
      "link_classification: using 'ip' method to combine node embeddings into edge embeddings\n"
     ]
    }
   ],
   "source": [
    "# Final estimator layer\n",
    "score_prediction = link_classification(output_dim=1,\n",
    "                                       output_act=\"relu\",\n",
    "                                       edge_embedding_method=\"ip\")(x_out)"
   ]
  },
  {
   "cell_type": "code",
   "execution_count": 17,
   "id": "edba8c57",
   "metadata": {},
   "outputs": [],
   "source": [
    "import tensorflow.keras.backend as K\n",
    "from tensorflow import keras\n",
    "\n",
    "#def root_mean_square_error(s_true, s_pred):\n",
    "#    return K.sqrt(K.mean(K.pow(s_true - s_pred, 2)))\n",
    "\n",
    "\n",
    "model = Model(inputs=x_inp, outputs=score_prediction)\n",
    "model.compile(optimizer=optimizers.Adam(learning_rate=1e-2),\n",
    "              loss=keras.losses.binary_crossentropy,\n",
    "              metrics=[\"acc\"],\n",
    "             )"
   ]
  },
  {
   "cell_type": "code",
   "execution_count": 18,
   "id": "89dbc532",
   "metadata": {},
   "outputs": [
    {
     "name": "stdout",
     "output_type": "stream",
     "text": [
      "Model: \"model_2\"\n",
      "__________________________________________________________________________________________________\n",
      " Layer (type)                   Output Shape         Param #     Connected to                     \n",
      "==================================================================================================\n",
      " input_3 (InputLayer)           [(None, 8, 1696)]    0           []                               \n",
      "                                                                                                  \n",
      " input_4 (InputLayer)           [(None, 8, 401)]     0           []                               \n",
      "                                                                                                  \n",
      " input_6 (InputLayer)           [(None, 32, 401)]    0           []                               \n",
      "                                                                                                  \n",
      " input_7 (InputLayer)           [(None, 32, 1696)]   0           []                               \n",
      "                                                                                                  \n",
      " input_8 (InputLayer)           [(None, 32, 401)]    0           []                               \n",
      "                                                                                                  \n",
      " input_9 (InputLayer)           [(None, 32, 1696)]   0           []                               \n",
      "                                                                                                  \n",
      " input_10 (InputLayer)          [(None, 32, 401)]    0           []                               \n",
      "                                                                                                  \n",
      " input_1 (InputLayer)           [(None, 1, 401)]     0           []                               \n",
      "                                                                                                  \n",
      " reshape (Reshape)              (None, 1, 8, 1696)   0           ['input_3[0][0]']                \n",
      "                                                                                                  \n",
      " reshape_1 (Reshape)            (None, 1, 8, 401)    0           ['input_4[0][0]']                \n",
      "                                                                                                  \n",
      " reshape_3 (Reshape)            (None, 8, 4, 401)    0           ['input_6[0][0]']                \n",
      "                                                                                                  \n",
      " reshape_4 (Reshape)            (None, 8, 4, 1696)   0           ['input_7[0][0]']                \n",
      "                                                                                                  \n",
      " reshape_5 (Reshape)            (None, 8, 4, 401)    0           ['input_8[0][0]']                \n",
      "                                                                                                  \n",
      " input_5 (InputLayer)           [(None, 8, 401)]     0           []                               \n",
      "                                                                                                  \n",
      " reshape_6 (Reshape)            (None, 8, 4, 1696)   0           ['input_9[0][0]']                \n",
      "                                                                                                  \n",
      " reshape_7 (Reshape)            (None, 8, 4, 401)    0           ['input_10[0][0]']               \n",
      "                                                                                                  \n",
      " dropout_2 (Dropout)            (None, 1, 401)       0           ['input_1[0][0]']                \n",
      "                                                                                                  \n",
      " dropout (Dropout)              (None, 1, 8, 1696)   0           ['reshape[0][0]']                \n",
      "                                                                                                  \n",
      " dropout_1 (Dropout)            (None, 1, 8, 401)    0           ['reshape_1[0][0]']              \n",
      "                                                                                                  \n",
      " dropout_6 (Dropout)            (None, 8, 1696)      0           ['input_3[0][0]']                \n",
      "                                                                                                  \n",
      " dropout_5 (Dropout)            (None, 8, 4, 401)    0           ['reshape_3[0][0]']              \n",
      "                                                                                                  \n",
      " dropout_9 (Dropout)            (None, 8, 401)       0           ['input_4[0][0]']                \n",
      "                                                                                                  \n",
      " dropout_7 (Dropout)            (None, 8, 4, 1696)   0           ['reshape_4[0][0]']              \n",
      "                                                                                                  \n",
      " dropout_8 (Dropout)            (None, 8, 4, 401)    0           ['reshape_5[0][0]']              \n",
      "                                                                                                  \n",
      " input_2 (InputLayer)           [(None, 1, 1696)]    0           []                               \n",
      "                                                                                                  \n",
      " reshape_2 (Reshape)            (None, 1, 8, 401)    0           ['input_5[0][0]']                \n",
      "                                                                                                  \n",
      " dropout_12 (Dropout)           (None, 8, 401)       0           ['input_5[0][0]']                \n",
      "                                                                                                  \n",
      " dropout_10 (Dropout)           (None, 8, 4, 1696)   0           ['reshape_6[0][0]']              \n",
      "                                                                                                  \n",
      " dropout_11 (Dropout)           (None, 8, 4, 401)    0           ['reshape_7[0][0]']              \n",
      "                                                                                                  \n",
      " mean_hin_aggregator (MeanHinAg  multiple            40000       ['dropout_2[0][0]',              \n",
      " gregator)                                                        'dropout[0][0]',                \n",
      "                                                                  'dropout_1[0][0]',              \n",
      "                                                                  'dropout_9[0][0]',              \n",
      "                                                                  'dropout_7[0][0]',              \n",
      "                                                                  'dropout_8[0][0]',              \n",
      "                                                                  'dropout_12[0][0]',             \n",
      "                                                                  'dropout_10[0][0]',             \n",
      "                                                                  'dropout_11[0][0]']             \n",
      "                                                                                                  \n",
      " mean_hin_aggregator_1 (MeanHin  multiple            33584       ['dropout_4[0][0]',              \n",
      " Aggregator)                                                      'dropout_3[0][0]',              \n",
      "                                                                  'dropout_6[0][0]',              \n",
      "                                                                  'dropout_5[0][0]']              \n",
      "                                                                                                  \n",
      " dropout_4 (Dropout)            (None, 1, 1696)      0           ['input_2[0][0]']                \n",
      "                                                                                                  \n",
      " dropout_3 (Dropout)            (None, 1, 8, 401)    0           ['reshape_2[0][0]']              \n",
      "                                                                                                  \n",
      " reshape_8 (Reshape)            (None, 1, 8, 32)     0           ['mean_hin_aggregator_1[1][0]']  \n",
      "                                                                                                  \n",
      " reshape_9 (Reshape)            (None, 1, 8, 32)     0           ['mean_hin_aggregator[1][0]']    \n"
     ]
    },
    {
     "name": "stdout",
     "output_type": "stream",
     "text": [
      "                                                                                                  \n",
      " reshape_10 (Reshape)           (None, 1, 8, 32)     0           ['mean_hin_aggregator[2][0]']    \n",
      "                                                                                                  \n",
      " dropout_15 (Dropout)           (None, 1, 32)        0           ['mean_hin_aggregator[0][0]']    \n",
      "                                                                                                  \n",
      " dropout_13 (Dropout)           (None, 1, 8, 32)     0           ['reshape_8[0][0]']              \n",
      "                                                                                                  \n",
      " dropout_14 (Dropout)           (None, 1, 8, 32)     0           ['reshape_9[0][0]']              \n",
      "                                                                                                  \n",
      " dropout_17 (Dropout)           (None, 1, 32)        0           ['mean_hin_aggregator_1[0][0]']  \n",
      "                                                                                                  \n",
      " dropout_16 (Dropout)           (None, 1, 8, 32)     0           ['reshape_10[0][0]']             \n",
      "                                                                                                  \n",
      " mean_hin_aggregator_2 (MeanHin  (None, 1, 32)       1568        ['dropout_15[0][0]',             \n",
      " Aggregator)                                                      'dropout_13[0][0]',             \n",
      "                                                                  'dropout_14[0][0]']             \n",
      "                                                                                                  \n",
      " mean_hin_aggregator_3 (MeanHin  (None, 1, 32)       1056        ['dropout_17[0][0]',             \n",
      " Aggregator)                                                      'dropout_16[0][0]']             \n",
      "                                                                                                  \n",
      " reshape_11 (Reshape)           (None, 32)           0           ['mean_hin_aggregator_2[0][0]']  \n",
      "                                                                                                  \n",
      " reshape_12 (Reshape)           (None, 32)           0           ['mean_hin_aggregator_3[0][0]']  \n",
      "                                                                                                  \n",
      " lambda (Lambda)                (None, 32)           0           ['reshape_11[0][0]',             \n",
      "                                                                  'reshape_12[0][0]']             \n",
      "                                                                                                  \n",
      " link_embedding (LinkEmbedding)  (None, 1)           0           ['lambda[0][0]',                 \n",
      "                                                                  'lambda[1][0]']                 \n",
      "                                                                                                  \n",
      " activation (Activation)        (None, 1)            0           ['link_embedding[0][0]']         \n",
      "                                                                                                  \n",
      " reshape_13 (Reshape)           (None, 1)            0           ['activation[0][0]']             \n",
      "                                                                                                  \n",
      "==================================================================================================\n",
      "Total params: 76,208\n",
      "Trainable params: 76,208\n",
      "Non-trainable params: 0\n",
      "__________________________________________________________________________________________________\n"
     ]
    }
   ],
   "source": [
    "model.summary()"
   ]
  },
  {
   "cell_type": "code",
   "execution_count": 19,
   "id": "6bab53a0",
   "metadata": {},
   "outputs": [],
   "source": [
    "# Specify the number of workers to use for model training\n",
    "import multiprocessing\n",
    "num_workers = multiprocessing.cpu_count() - 2"
   ]
  },
  {
   "cell_type": "code",
   "execution_count": 20,
   "id": "b56837ee",
   "metadata": {},
   "outputs": [
    {
     "name": "stdout",
     "output_type": "stream",
     "text": [
      "2/2 [==============================] - 2s 249ms/step - loss: 2.6380 - acc: 0.0000e+00\n",
      "Untrained model's Test Evaluation:\n",
      "\tloss: 2.6380\n",
      "\tacc: 0.0000\n"
     ]
    }
   ],
   "source": [
    "test_metrics = model.evaluate(\n",
    "    test_gen, verbose=1, use_multiprocessing=False, workers=num_workers\n",
    ")\n",
    "\n",
    "print(\"Untrained model's Test Evaluation:\")\n",
    "for name, val in zip(model.metrics_names, test_metrics):\n",
    "    print(\"\\t{}: {:0.4f}\".format(name, val))"
   ]
  },
  {
   "cell_type": "code",
   "execution_count": 21,
   "id": "33e5b455",
   "metadata": {},
   "outputs": [
    {
     "name": "stdout",
     "output_type": "stream",
     "text": [
      "Epoch 1/5\n",
      "8/8 [==============================] - 7s 495ms/step - loss: 0.9843 - acc: 0.0000e+00 - val_loss: 0.6983 - val_acc: 0.0000e+00\n",
      "Epoch 2/5\n",
      "8/8 [==============================] - 4s 421ms/step - loss: 0.6812 - acc: 0.0000e+00 - val_loss: 0.6952 - val_acc: 0.0000e+00\n",
      "Epoch 3/5\n",
      "8/8 [==============================] - 4s 432ms/step - loss: 0.6705 - acc: 0.0000e+00 - val_loss: 0.6943 - val_acc: 0.0000e+00\n",
      "Epoch 4/5\n",
      "8/8 [==============================] - 4s 449ms/step - loss: 0.6651 - acc: 0.0000e+00 - val_loss: 0.6950 - val_acc: 0.0000e+00\n",
      "Epoch 5/5\n",
      "8/8 [==============================] - 5s 566ms/step - loss: 0.6610 - acc: 0.0000e+00 - val_loss: 0.6955 - val_acc: 0.0000e+00\n"
     ]
    }
   ],
   "source": [
    "history = model.fit(\n",
    "    train_gen,\n",
    "    validation_data=test_gen,\n",
    "    epochs=epochs,\n",
    "    verbose=1,\n",
    "    shuffle=False,\n",
    "    use_multiprocessing=False,\n",
    "    workers=num_workers,\n",
    ")"
   ]
  },
  {
   "cell_type": "code",
   "execution_count": 22,
   "id": "17004486",
   "metadata": {
    "scrolled": true
   },
   "outputs": [
    {
     "data": {
      "image/png": "[encoded data removed]",
      "text/plain": [
       "<Figure size 700x800 with 2 Axes>"
      ]
     },
     "metadata": {},
     "output_type": "display_data"
    }
   ],
   "source": [
    "sg.utils.plot_history(history)"
   ]
  },
  {
   "cell_type": "code",
   "execution_count": 23,
   "id": "8c622e2b",
   "metadata": {},
   "outputs": [
    {
     "name": "stdout",
     "output_type": "stream",
     "text": [
      "2/2 [==============================] - 1s 345ms/step - loss: 0.6949 - acc: 0.0000e+00\n",
      "Test Evaluation:\n",
      "\tloss: 0.6949\n",
      "\tacc: 0.0000\n"
     ]
    }
   ],
   "source": [
    "test_metrics = model.evaluate(\n",
    "    test_gen, use_multiprocessing=False, workers=num_workers, verbose=1\n",
    ")\n",
    "\n",
    "print(\"Test Evaluation:\")\n",
    "for name, val in zip(model.metrics_names, test_metrics):\n",
    "    print(\"\\t{}: {:0.4f}\".format(name, val))\n"
   ]
  },
  {
   "cell_type": "code",
   "execution_count": 24,
   "id": "35c74805",
   "metadata": {},
   "outputs": [
    {
     "name": "stdout",
     "output_type": "stream",
     "text": [
      "2/2 [==============================] - 1s 276ms/step\n",
      "Mean Baseline Test set metrics:\n",
      "\troot_mean_square_error =  0.15956145785998824\n",
      "\tmean_absolute_error =  0.14332639582711212\n",
      "\n",
      "Model Test set metrics:\n",
      "\troot_mean_square_error =  0.16278325001770497\n",
      "\tmean_absolute_error =  0.133289596771091\n"
     ]
    }
   ],
   "source": [
    "y_true = labels_test\n",
    "# Predict the rankings using the model:\n",
    "y_pred = model.predict(test_gen)\n",
    "# Mean baseline rankings = mean movie ranking:\n",
    "y_pred_baseline = np.full_like(y_pred, np.mean(y_true))\n",
    "\n",
    "rmse = np.sqrt(mean_squared_error(y_true, y_pred_baseline))\n",
    "mae = mean_absolute_error(y_true, y_pred_baseline)\n",
    "print(\"Mean Baseline Test set metrics:\")\n",
    "print(\"\\troot_mean_square_error = \", rmse)\n",
    "print(\"\\tmean_absolute_error = \", mae)\n",
    "\n",
    "rmse = np.sqrt(mean_squared_error(y_true, y_pred))\n",
    "mae = mean_absolute_error(y_true, y_pred)\n",
    "print(\"\\nModel Test set metrics:\")\n",
    "print(\"\\troot_mean_square_error = \", rmse)\n",
    "print(\"\\tmean_absolute_error = \", mae)"
   ]
  },
  {
   "cell_type": "code",
   "execution_count": 25,
   "id": "88d7b410",
   "metadata": {
    "scrolled": true
   },
   "outputs": [
    {
     "data": {
      "image/png": "[encoded data removed]",
      "text/plain": [
       "<Figure size 640x480 with 1 Axes>"
      ]
     },
     "metadata": {},
     "output_type": "display_data"
    }
   ],
   "source": [
    "h_true = plt.hist(y_true, bins=30, facecolor=\"green\", alpha=0.5)\n",
    "h_pred = plt.hist(y_pred, bins=30, facecolor=\"blue\", alpha=0.5)\n",
    "plt.xlabel(\"Prob of presence\")\n",
    "plt.ylabel(\"count\")\n",
    "plt.legend((\"True\", \"Predicted\"))\n",
    "plt.show()"
   ]
  },
  {
   "cell_type": "code",
   "execution_count": 26,
   "id": "f7183a5c",
   "metadata": {},
   "outputs": [],
   "source": [
    "test_gen_2 = generator.flow(edgelist_test, np.zeros(len(labels_test)))"
   ]
  },
  {
   "cell_type": "code",
   "execution_count": 27,
   "id": "43a913ea",
   "metadata": {
    "scrolled": false
   },
   "outputs": [
    {
     "name": "stdout",
     "output_type": "stream",
     "text": [
      "2/2 [==============================] - 1s 270ms/step\n"
     ]
    }
   ],
   "source": [
    "mv = model.predict(test_gen_2)"
   ]
  },
  {
   "cell_type": "code",
   "execution_count": 28,
   "id": "7a1f08b3",
   "metadata": {},
   "outputs": [
    {
     "data": {
      "text/plain": [
       "array([[0.36183727],\n",
       "       [0.41263574],\n",
       "       [0.35339242],\n",
       "       [0.5697992 ],\n",
       "       [0.5041411 ],\n",
       "       [0.4478016 ],\n",
       "       [0.32222447],\n",
       "       [0.5465944 ],\n",
       "       [0.47605574],\n",
       "       [0.4078494 ],\n",
       "       [0.38365185],\n",
       "       [0.44415665],\n",
       "       [0.48992413],\n",
       "       [0.5906532 ],\n",
       "       [0.8152261 ],\n",
       "       [0.47290906],\n",
       "       [0.49119008],\n",
       "       [0.60208917],\n",
       "       [0.49242675],\n",
       "       [0.5574093 ],\n",
       "       [0.46788466],\n",
       "       [0.3641557 ],\n",
       "       [0.66405004],\n",
       "       [0.499816  ],\n",
       "       [0.49841395],\n",
       "       [0.56257445],\n",
       "       [0.4564523 ],\n",
       "       [0.5567851 ],\n",
       "       [0.5077797 ],\n",
       "       [0.63031316],\n",
       "       [0.32928315],\n",
       "       [0.41290134],\n",
       "       [0.47110707],\n",
       "       [0.5279045 ],\n",
       "       [0.4987768 ],\n",
       "       [0.5247172 ],\n",
       "       [0.39211145],\n",
       "       [0.48661798],\n",
       "       [0.3994671 ],\n",
       "       [0.56622124],\n",
       "       [0.42944366],\n",
       "       [0.57358855],\n",
       "       [0.51437175],\n",
       "       [0.5460628 ],\n",
       "       [0.56893635],\n",
       "       [0.5550047 ],\n",
       "       [0.41867456],\n",
       "       [0.5589553 ],\n",
       "       [0.5037645 ],\n",
       "       [0.42355716],\n",
       "       [0.4343241 ],\n",
       "       [0.5515028 ],\n",
       "       [0.37546358],\n",
       "       [0.61971015],\n",
       "       [0.5945458 ],\n",
       "       [0.54239464],\n",
       "       [0.4740758 ],\n",
       "       [0.5131899 ],\n",
       "       [0.6663347 ],\n",
       "       [0.38833928],\n",
       "       [0.48460996],\n",
       "       [0.48631215],\n",
       "       [0.52949727],\n",
       "       [0.41855866],\n",
       "       [0.62751186],\n",
       "       [0.33175835],\n",
       "       [0.57898515],\n",
       "       [0.4189489 ],\n",
       "       [0.5444422 ],\n",
       "       [0.36816087],\n",
       "       [0.44784883],\n",
       "       [0.42893678],\n",
       "       [0.5617614 ],\n",
       "       [0.6041354 ],\n",
       "       [0.4983427 ],\n",
       "       [0.4452643 ],\n",
       "       [0.474463  ],\n",
       "       [0.56024873],\n",
       "       [0.4284853 ],\n",
       "       [0.42588437],\n",
       "       [0.46881253],\n",
       "       [0.4662271 ],\n",
       "       [0.5808141 ],\n",
       "       [0.3845045 ],\n",
       "       [0.51862246],\n",
       "       [0.3763004 ],\n",
       "       [0.518097  ],\n",
       "       [0.60200834],\n",
       "       [0.37479872],\n",
       "       [0.34631267],\n",
       "       [0.5371238 ],\n",
       "       [0.4085643 ],\n",
       "       [0.47984162],\n",
       "       [0.6897637 ],\n",
       "       [0.25167772],\n",
       "       [0.44845814],\n",
       "       [0.56493175],\n",
       "       [0.4371415 ],\n",
       "       [0.59343445],\n",
       "       [0.39063412],\n",
       "       [0.41305643],\n",
       "       [0.44960523],\n",
       "       [0.4606502 ],\n",
       "       [0.504745  ],\n",
       "       [0.45188358],\n",
       "       [0.5466176 ],\n",
       "       [0.62350994],\n",
       "       [0.3883041 ],\n",
       "       [0.40377137],\n",
       "       [0.53032684],\n",
       "       [0.48258698],\n",
       "       [0.40807098],\n",
       "       [0.44244426],\n",
       "       [0.5251996 ],\n",
       "       [0.7090656 ],\n",
       "       [0.413236  ],\n",
       "       [0.509978  ],\n",
       "       [0.5279945 ],\n",
       "       [0.44603485],\n",
       "       [0.48344302],\n",
       "       [0.55081034],\n",
       "       [0.43605217],\n",
       "       [0.5215522 ],\n",
       "       [0.4582889 ],\n",
       "       [0.44098943],\n",
       "       [0.6270102 ],\n",
       "       [0.5950676 ],\n",
       "       [0.46943206],\n",
       "       [0.4427999 ],\n",
       "       [0.3625744 ],\n",
       "       [0.49776357],\n",
       "       [0.38371196],\n",
       "       [0.49183673],\n",
       "       [0.4554537 ],\n",
       "       [0.5270141 ],\n",
       "       [0.57083976],\n",
       "       [0.5958958 ],\n",
       "       [0.5410655 ],\n",
       "       [0.41899544],\n",
       "       [0.64841974],\n",
       "       [0.56970435],\n",
       "       [0.31166458],\n",
       "       [0.5646946 ],\n",
       "       [0.6106042 ],\n",
       "       [0.4800175 ],\n",
       "       [0.5446085 ],\n",
       "       [0.45244145],\n",
       "       [0.42543384],\n",
       "       [0.6136949 ],\n",
       "       [0.29562265],\n",
       "       [0.41652206],\n",
       "       [0.46289226],\n",
       "       [0.5634447 ],\n",
       "       [0.49991828],\n",
       "       [0.4576127 ],\n",
       "       [0.385675  ],\n",
       "       [0.7045972 ],\n",
       "       [0.41085953],\n",
       "       [0.41958615],\n",
       "       [0.56092155],\n",
       "       [0.34386188],\n",
       "       [0.58066684],\n",
       "       [0.48804873],\n",
       "       [0.4741687 ],\n",
       "       [0.4702492 ],\n",
       "       [0.4324026 ],\n",
       "       [0.4167903 ],\n",
       "       [0.42913032],\n",
       "       [0.48956987],\n",
       "       [0.46234277],\n",
       "       [0.5693926 ],\n",
       "       [0.47512025],\n",
       "       [0.50280535],\n",
       "       [0.4602123 ],\n",
       "       [0.41830045],\n",
       "       [0.5080229 ],\n",
       "       [0.4926424 ],\n",
       "       [0.47057384],\n",
       "       [0.60988015],\n",
       "       [0.6546943 ],\n",
       "       [0.44342804],\n",
       "       [0.3959602 ],\n",
       "       [0.44096506],\n",
       "       [0.4640015 ],\n",
       "       [0.48295578],\n",
       "       [0.38480127],\n",
       "       [0.40991324],\n",
       "       [0.4253438 ],\n",
       "       [0.42867285],\n",
       "       [0.5177628 ],\n",
       "       [0.44488525],\n",
       "       [0.4571591 ],\n",
       "       [0.64251435],\n",
       "       [0.45256957],\n",
       "       [0.5571136 ],\n",
       "       [0.5255159 ],\n",
       "       [0.55156004],\n",
       "       [0.5442158 ],\n",
       "       [0.48784468],\n",
       "       [0.45800412],\n",
       "       [0.45386714],\n",
       "       [0.4060251 ],\n",
       "       [0.45109004],\n",
       "       [0.44522846],\n",
       "       [0.52576435],\n",
       "       [0.5683051 ],\n",
       "       [0.56255984],\n",
       "       [0.542165  ],\n",
       "       [0.4851706 ],\n",
       "       [0.54736495],\n",
       "       [0.50253606],\n",
       "       [0.5718604 ],\n",
       "       [0.5075511 ],\n",
       "       [0.55217165],\n",
       "       [0.35482234],\n",
       "       [0.45166218],\n",
       "       [0.5550947 ],\n",
       "       [0.42553812],\n",
       "       [0.60645247],\n",
       "       [0.49158362],\n",
       "       [0.42323852],\n",
       "       [0.35073203],\n",
       "       [0.5179626 ],\n",
       "       [0.39008698],\n",
       "       [0.49815243],\n",
       "       [0.49471942],\n",
       "       [0.6579578 ],\n",
       "       [0.5945693 ],\n",
       "       [0.4978283 ],\n",
       "       [0.3626878 ],\n",
       "       [0.31936496],\n",
       "       [0.59148   ],\n",
       "       [0.4353304 ],\n",
       "       [0.6289561 ],\n",
       "       [0.43263024],\n",
       "       [0.4593577 ],\n",
       "       [0.3216528 ],\n",
       "       [0.32194433],\n",
       "       [0.55271274],\n",
       "       [0.47069004],\n",
       "       [0.4355048 ],\n",
       "       [0.4740758 ],\n",
       "       [0.64613926],\n",
       "       [0.47579747],\n",
       "       [0.52414733],\n",
       "       [0.50914454],\n",
       "       [0.5368202 ],\n",
       "       [0.4620212 ],\n",
       "       [0.5506859 ],\n",
       "       [0.46299765],\n",
       "       [0.47443   ],\n",
       "       [0.5760118 ],\n",
       "       [0.53734577],\n",
       "       [0.53644156],\n",
       "       [0.523284  ],\n",
       "       [0.43730935],\n",
       "       [0.44512558],\n",
       "       [0.35863373],\n",
       "       [0.4068299 ],\n",
       "       [0.51415825],\n",
       "       [0.5823832 ],\n",
       "       [0.39329946],\n",
       "       [0.71741444],\n",
       "       [0.47677082],\n",
       "       [0.43949878],\n",
       "       [0.48164976],\n",
       "       [0.36361992],\n",
       "       [0.620142  ],\n",
       "       [0.43352792],\n",
       "       [0.5425861 ],\n",
       "       [0.47691762],\n",
       "       [0.57136446],\n",
       "       [0.38188463],\n",
       "       [0.5666121 ],\n",
       "       [0.41029525],\n",
       "       [0.3940926 ],\n",
       "       [0.4659638 ],\n",
       "       [0.56952024],\n",
       "       [0.55413765],\n",
       "       [0.45043385],\n",
       "       [0.6105679 ],\n",
       "       [0.6614708 ],\n",
       "       [0.48385453],\n",
       "       [0.51224506],\n",
       "       [0.42588437],\n",
       "       [0.5670853 ],\n",
       "       [0.5024232 ],\n",
       "       [0.4850835 ],\n",
       "       [0.2669046 ],\n",
       "       [0.42413107],\n",
       "       [0.4514358 ],\n",
       "       [0.41412404],\n",
       "       [0.5749116 ],\n",
       "       [0.45781162],\n",
       "       [0.70310426],\n",
       "       [0.43444213],\n",
       "       [0.29151922],\n",
       "       [0.4730285 ],\n",
       "       [0.42760262],\n",
       "       [0.45987535],\n",
       "       [0.4947143 ],\n",
       "       [0.36694288],\n",
       "       [0.58541787],\n",
       "       [0.5015117 ],\n",
       "       [0.4508772 ],\n",
       "       [0.3076873 ],\n",
       "       [0.65444297],\n",
       "       [0.39530504],\n",
       "       [0.43607417],\n",
       "       [0.44151315],\n",
       "       [0.5171269 ],\n",
       "       [0.5749993 ],\n",
       "       [0.43837714],\n",
       "       [0.6098838 ],\n",
       "       [0.39719194],\n",
       "       [0.39970803],\n",
       "       [0.36457723],\n",
       "       [0.5723504 ],\n",
       "       [0.4777774 ],\n",
       "       [0.3806178 ],\n",
       "       [0.50592935],\n",
       "       [0.3087516 ],\n",
       "       [0.6269395 ],\n",
       "       [0.30492765],\n",
       "       [0.6572823 ],\n",
       "       [0.59107393],\n",
       "       [0.48709297],\n",
       "       [0.48985505],\n",
       "       [0.47918743],\n",
       "       [0.41570503],\n",
       "       [0.47269   ],\n",
       "       [0.6116352 ],\n",
       "       [0.3534237 ],\n",
       "       [0.4766085 ],\n",
       "       [0.6298089 ],\n",
       "       [0.41268384],\n",
       "       [0.43054813],\n",
       "       [0.34611526],\n",
       "       [0.44190708],\n",
       "       [0.499203  ],\n",
       "       [0.5685953 ],\n",
       "       [0.57003534],\n",
       "       [0.42728722],\n",
       "       [0.47955772],\n",
       "       [0.43416885],\n",
       "       [0.46398944],\n",
       "       [0.518097  ],\n",
       "       [0.56474125],\n",
       "       [0.44221047],\n",
       "       [0.46010053],\n",
       "       [0.63408685],\n",
       "       [0.5007157 ],\n",
       "       [0.4136875 ],\n",
       "       [0.7135414 ],\n",
       "       [0.61932737],\n",
       "       [0.35063022],\n",
       "       [0.4688897 ],\n",
       "       [0.33511448],\n",
       "       [0.41813618],\n",
       "       [0.49406064],\n",
       "       [0.5084338 ],\n",
       "       [0.39157537],\n",
       "       [0.3290437 ],\n",
       "       [0.36473525],\n",
       "       [0.49075764],\n",
       "       [0.5423359 ],\n",
       "       [0.5418969 ],\n",
       "       [0.45599368],\n",
       "       [0.6627786 ],\n",
       "       [0.6467154 ],\n",
       "       [0.43455896],\n",
       "       [0.631217  ],\n",
       "       [0.6223817 ],\n",
       "       [0.4987768 ],\n",
       "       [0.5309243 ],\n",
       "       [0.5732755 ],\n",
       "       [0.6232389 ],\n",
       "       [0.42387906],\n",
       "       [0.428082  ],\n",
       "       [0.38085303],\n",
       "       [0.37568396],\n",
       "       [0.5569136 ],\n",
       "       [0.39874026],\n",
       "       [0.5441462 ],\n",
       "       [0.5506704 ],\n",
       "       [0.49280378],\n",
       "       [0.556993  ],\n",
       "       [0.3542235 ],\n",
       "       [0.4441044 ],\n",
       "       [0.44237435],\n",
       "       [0.44465774],\n",
       "       [0.43568277],\n",
       "       [0.5917227 ],\n",
       "       [0.46907806],\n",
       "       [0.53312176],\n",
       "       [0.55614746],\n",
       "       [0.32763696],\n",
       "       [0.33867183],\n",
       "       [0.49504453],\n",
       "       [0.63304275]], dtype=float32)"
      ]
     },
     "execution_count": 28,
     "metadata": {},
     "output_type": "execute_result"
    }
   ],
   "source": [
    "mv"
   ]
  },
  {
   "cell_type": "code",
   "execution_count": 29,
   "id": "e54bd457",
   "metadata": {},
   "outputs": [],
   "source": [
    "#pd.DataFrame(edgelist_test)"
   ]
  }
 ],
 "metadata": {
  "kernelspec": {
   "display_name": "Python 3 (ipykernel)",
   "language": "python",
   "name": "python3"
  },
  "language_info": {
   "codemirror_mode": {
    "name": "ipython",
    "version": 3
   },
   "file_extension": ".py",
   "mimetype": "text/x-python",
   "name": "python",
   "nbconvert_exporter": "python",
   "pygments_lexer": "ipython3",
   "version": "3.10.11"
  }
 },
 "nbformat": 4,
 "nbformat_minor": 5
}
