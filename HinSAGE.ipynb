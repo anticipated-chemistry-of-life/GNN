{
 "cells": [
  {
   "cell_type": "code",
   "execution_count": 1,
   "id": "e06f6e13",
   "metadata": {
    "scrolled": true
   },
   "outputs": [
    {
     "name": "stderr",
     "output_type": "stream",
     "text": [
      "2023-06-12 10:49:10.178094: I tensorflow/core/platform/cpu_feature_guard.cc:193] This TensorFlow binary is optimized with oneAPI Deep Neural Network Library (oneDNN) to use the following CPU instructions in performance-critical operations:  SSE4.1 SSE4.2 AVX AVX2 FMA\n",
      "To enable them in other operations, rebuild TensorFlow with the appropriate compiler flags.\n",
      "2023-06-12 10:49:30.406380: I tensorflow/core/platform/cpu_feature_guard.cc:193] This TensorFlow binary is optimized with oneAPI Deep Neural Network Library (oneDNN) to use the following CPU instructions in performance-critical operations:  SSE4.1 SSE4.2 AVX AVX2 FMA\n",
      "To enable them in other operations, rebuild TensorFlow with the appropriate compiler flags.\n"
     ]
    }
   ],
   "source": [
    "import networkx as nx\n",
    "import itertools\n",
    "import pandas as pd\n",
    "import numpy as np\n",
    "from stellargraph import StellarGraph\n",
    "from rdkit.Chem import AllChem, DataStructs"
   ]
  },
  {
   "cell_type": "code",
   "execution_count": 2,
   "id": "08acc5f5",
   "metadata": {},
   "outputs": [
    {
     "name": "stderr",
     "output_type": "stream",
     "text": [
      "/var/folders/_5/04k_n4g93v9bhbfk8nqpr3zr0000gs/T/ipykernel_3142/2942701605.py:2: DtypeWarning: Columns (38) have mixed types. Specify dtype option on import or set low_memory=False.\n",
      "  df = pd.read_csv('230106_frozen_metadata.csv.gz')\n"
     ]
    }
   ],
   "source": [
    "# Load data\n",
    "df = pd.read_csv('230106_frozen_metadata.csv.gz')"
   ]
  },
  {
   "cell_type": "code",
   "execution_count": 3,
   "id": "4f5a01ea",
   "metadata": {},
   "outputs": [],
   "source": [
    "#Remove duplicate organism-molecule pair\n",
    "df_agg = df.groupby(['organism_taxonomy_09species',\n",
    "                     'structure_smiles_2D']).size().reset_index(name='reference_wikidata')\n",
    "\n",
    "df_agg = df.groupby(['organism_taxonomy_09species', 'structure_smiles_2D']).agg({\n",
    "    'reference_wikidata': 'size',\n",
    "    'organism_taxonomy_08genus': 'first',\n",
    "    'organism_taxonomy_06family': 'first',\n",
    "    'organism_taxonomy_05order': 'first',\n",
    "    'organism_taxonomy_04class': 'first',\n",
    "    'organism_taxonomy_03phylum': 'first',\n",
    "    'organism_taxonomy_02kingdom': 'first',\n",
    "    'organism_taxonomy_01domain': 'first',\n",
    "    'structure_taxonomy_npclassifier_01pathway': 'first',\n",
    "    'structure_taxonomy_npclassifier_02superclass': 'first',\n",
    "    'structure_taxonomy_npclassifier_03class': 'first'\n",
    "    # add other columns here as needed\n",
    "}).reset_index()\n",
    "\n",
    "df_agg['total_papers_molecule'] = df_agg.groupby(\n",
    "    'structure_smiles_2D')['reference_wikidata'].transform('sum')\n",
    "df_agg['total_papers_species'] = df_agg.groupby(\n",
    "    'organism_taxonomy_09species')['reference_wikidata'].transform('sum')\n",
    "\n",
    "#get the first 30'000 entries (remove for full dataset)\n",
    "df_agg = df_agg.sample(n=10000).reset_index(drop=True)"
   ]
  },
  {
   "cell_type": "code",
   "execution_count": 4,
   "id": "33e33cfc",
   "metadata": {},
   "outputs": [],
   "source": [
    "# Fetch unique species and molecules and their respective features\n",
    "unique_species_df = df_agg.drop_duplicates(subset=['organism_taxonomy_09species'])\n",
    "unique_molecules_df = df_agg.drop_duplicates(subset=['structure_smiles_2D'])\n",
    "\n",
    "# Fetch the corresponding features\n",
    "species_features_df = unique_species_df[['organism_taxonomy_08genus', 'organism_taxonomy_06family', \n",
    "                                         'organism_taxonomy_05order', 'organism_taxonomy_04class', \n",
    "                                         'organism_taxonomy_03phylum', 'organism_taxonomy_02kingdom', \n",
    "                                         'organism_taxonomy_01domain']]\n",
    "molecule_features_df = unique_molecules_df[['structure_taxonomy_npclassifier_01pathway', \n",
    "                                            'structure_taxonomy_npclassifier_02superclass', \n",
    "                                            'structure_taxonomy_npclassifier_03class']]\n",
    "\n",
    "# Convert these dataframes to dummy/one-hot encoded dataframes\n",
    "species_features_dummy = pd.get_dummies(species_features_df)\n",
    "molecule_features_dummy = pd.get_dummies(molecule_features_df)\n",
    "species_features_dummy.index = [i for i in unique_species_df['organism_taxonomy_09species']]\n",
    "molecule_features_dummy.index = [i for i in unique_molecules_df['structure_smiles_2D']]"
   ]
  },
  {
   "cell_type": "code",
   "execution_count": 47,
   "id": "77e65243",
   "metadata": {},
   "outputs": [],
   "source": [
    "g = nx.Graph()\n",
    "for i, row in df_agg.iterrows():\n",
    "    g.add_edge(row['structure_smiles_2D'],\n",
    "               row['organism_taxonomy_09species'])\n",
    "    nx.set_node_attributes(g,\n",
    "                           {row['structure_smiles_2D']: 'molecule',\n",
    "                            row['organism_taxonomy_09species']: 'species'}, \"label\")\n",
    "    nx.set_edge_attributes(g,\n",
    "                          {(row['structure_smiles_2D'],\n",
    "                            row['organism_taxonomy_09species']):\n",
    "                           {'weight':row['reference_wikidata']}})"
   ]
  },
  {
   "cell_type": "code",
   "execution_count": 48,
   "id": "42691b9b",
   "metadata": {},
   "outputs": [],
   "source": [
    "fps = [AllChem.MolFromSmiles(i) for i in unique_molecules_df['structure_smiles_2D']]\n",
    "mols  = [AllChem.GetMorganFingerprintAsBitVect(m, radius=2, nBits=1024) for m in fps]\n",
    "\n",
    "# Iterate over each pair of molecules\n",
    "for i, j in itertools.combinations(range(len(fps)), 2):\n",
    "    # Calculate the Tanimoto Similarity\n",
    "    similarity = DataStructs.TanimotoSimilarity(mols[i], mols[j])\n",
    "    # If the similarity is above 0.9, add an edge\n",
    "    if similarity >= 0.8:\n",
    "        g.add_edge(unique_molecules_df['structure_smiles_2D'].values[i], \n",
    "                  unique_molecules_df['structure_smiles_2D'].values[j])\n",
    "        nx.set_edge_attributes(g,\n",
    "                              {(unique_molecules_df['structure_smiles_2D'].values[i],\n",
    "                              unique_molecules_df['structure_smiles_2D'].values[j]):{'weight': similarity}})"
   ]
  },
  {
   "cell_type": "code",
   "execution_count": 7,
   "id": "1ea40bdb",
   "metadata": {},
   "outputs": [],
   "source": [
    "#mols_as_binary = [np.array(i) for i in mols]\n",
    "#df_binary_mols = pd.DataFrame(mols_as_binary)\n",
    "#df_binary_mols.index = [i for i in unique_molecules_df['structure_smiles_2D']]"
   ]
  },
  {
   "cell_type": "code",
   "execution_count": 49,
   "id": "9f567fe8",
   "metadata": {},
   "outputs": [],
   "source": [
    "g = g.to_directed()"
   ]
  },
  {
   "cell_type": "code",
   "execution_count": 50,
   "id": "cb9180cd",
   "metadata": {},
   "outputs": [],
   "source": [
    "nx.write_graphml(g, \"./lotus_DB_as_graph.gml\")"
   ]
  },
  {
   "cell_type": "code",
   "execution_count": 51,
   "id": "846a366e",
   "metadata": {},
   "outputs": [],
   "source": [
    "g = nx.read_graphml(\"./lotus_DB_as_graph.gml\")"
   ]
  },
  {
   "cell_type": "code",
   "execution_count": 52,
   "id": "632ebdfd",
   "metadata": {},
   "outputs": [
    {
     "name": "stdout",
     "output_type": "stream",
     "text": [
      "StellarDiGraph: Directed multigraph\n",
      " Nodes: 13735, Edges: 23578\n",
      "\n",
      " Node types:\n",
      "  molecule: [7109]\n",
      "    Features: float32 vector, length 567\n",
      "    Edge types: molecule-default->molecule, molecule-default->species\n",
      "  species: [6626]\n",
      "    Features: float32 vector, length 3880\n",
      "    Edge types: species-default->molecule\n",
      "\n",
      " Edge types:\n",
      "    species-default->molecule: [10000]\n",
      "        Weights: range=[1, 180], mean=1.876, std=2.78011\n",
      "        Features: none\n",
      "    molecule-default->species: [10000]\n",
      "        Weights: range=[1, 180], mean=1.876, std=2.78011\n",
      "        Features: none\n",
      "    molecule-default->molecule: [3578]\n",
      "        Weights: range=[0.8, 1], mean=0.910871, std=0.0787247\n",
      "        Features: none\n"
     ]
    }
   ],
   "source": [
    "G = StellarGraph.from_networkx(\n",
    "    g, node_features={'species':species_features_dummy,\n",
    "                      'molecule': molecule_features_dummy}\n",
    ")\n",
    "print(G.info())"
   ]
  },
  {
   "cell_type": "code",
   "execution_count": 10,
   "id": "9cfffa02",
   "metadata": {},
   "outputs": [],
   "source": [
    "G.check_graph_for_ml()"
   ]
  },
  {
   "cell_type": "code",
   "execution_count": 11,
   "id": "4d340b0e",
   "metadata": {},
   "outputs": [],
   "source": [
    "import json\n",
    "import pandas as pd\n",
    "import numpy as np\n",
    "from sklearn import preprocessing, feature_extraction, model_selection\n",
    "from sklearn.metrics import mean_absolute_error, mean_squared_error\n",
    "\n",
    "import stellargraph as sg\n",
    "from stellargraph.mapper import HinSAGELinkGenerator\n",
    "from stellargraph.layer import HinSAGE, link_regression\n",
    "from tensorflow.keras import Model, optimizers, losses, metrics\n",
    "\n",
    "import multiprocessing\n",
    "from stellargraph import datasets\n",
    "from IPython.display import display, HTML\n",
    "import matplotlib.pyplot as plt\n",
    "%matplotlib inline"
   ]
  },
  {
   "cell_type": "code",
   "execution_count": 12,
   "id": "9f8e92d5",
   "metadata": {},
   "outputs": [],
   "source": [
    "batch_size = 32\n",
    "epochs = 20\n",
    "# Use 80% of edges for training, the rest for testing:\n",
    "train_size = 0.8\n",
    "test_size = 0.2"
   ]
  },
  {
   "cell_type": "code",
   "execution_count": 13,
   "id": "55394e0d",
   "metadata": {},
   "outputs": [],
   "source": [
    "edges_with_ratings = df_agg[['structure_smiles_2D',\n",
    "                             'organism_taxonomy_09species',\n",
    "                            'reference_wikidata']]\n",
    "#edges_with_ratings['prob_presence'] = 1-np.exp(-0.005*edges_with_ratings['total_papers_molecule']\\\n",
    "#                                               -0.05*edges_with_ratings['total_papers_species'])"
   ]
  },
  {
   "cell_type": "code",
   "execution_count": 14,
   "id": "fdf28baa",
   "metadata": {},
   "outputs": [],
   "source": [
    "edges_train, edges_test = model_selection.train_test_split(\n",
    "    edges_with_ratings, train_size=train_size, test_size=test_size\n",
    ")\n",
    "\n",
    "edgelist_train = list(edges_train[[\"structure_smiles_2D\", \"organism_taxonomy_09species\"]].itertuples(index=False))\n",
    "edgelist_test = list(edges_test[[\"structure_smiles_2D\", \"organism_taxonomy_09species\"]].itertuples(index=False))\n",
    "\n",
    "labels_train = edges_train[\"reference_wikidata\"]\n",
    "labels_test = edges_test[\"reference_wikidata\"]"
   ]
  },
  {
   "cell_type": "code",
   "execution_count": 15,
   "id": "374f1c90",
   "metadata": {},
   "outputs": [],
   "source": [
    "num_samples = [8, 4]\n",
    "generator = HinSAGELinkGenerator(\n",
    "    G, batch_size, num_samples, head_node_types=[\"molecule\", \"species\"]\n",
    ")\n",
    "train_gen = generator.flow(edgelist_train, labels_train, shuffle=True)\n",
    "test_gen = generator.flow(edgelist_test, labels_test)\n"
   ]
  },
  {
   "cell_type": "code",
   "execution_count": 16,
   "id": "4b897b8b",
   "metadata": {},
   "outputs": [
    {
     "data": {
      "text/plain": [
       "[('molecule', [2, 3]),\n",
       " ('species', [4]),\n",
       " ('molecule', [5, 6]),\n",
       " ('species', [7]),\n",
       " ('molecule', [8, 9]),\n",
       " ('molecule', []),\n",
       " ('species', []),\n",
       " ('molecule', []),\n",
       " ('molecule', []),\n",
       " ('species', [])]"
      ]
     },
     "execution_count": 16,
     "metadata": {},
     "output_type": "execute_result"
    }
   ],
   "source": [
    "generator.schema.type_adjacency_list(generator.head_node_types, len(num_samples))"
   ]
  },
  {
   "cell_type": "code",
   "execution_count": 17,
   "id": "8006f2cc",
   "metadata": {},
   "outputs": [
    {
     "data": {
      "text/plain": [
       "{'molecule': [EdgeType(n1='molecule', rel='default', n2='molecule'),\n",
       "  EdgeType(n1='molecule', rel='default', n2='species')],\n",
       " 'species': [EdgeType(n1='species', rel='default', n2='molecule')]}"
      ]
     },
     "execution_count": 17,
     "metadata": {},
     "output_type": "execute_result"
    }
   ],
   "source": [
    "generator.schema.schema"
   ]
  },
  {
   "cell_type": "code",
   "execution_count": 18,
   "id": "b35ab46d",
   "metadata": {},
   "outputs": [],
   "source": [
    "hinsage_layer_sizes = [32, 32]\n",
    "assert len(hinsage_layer_sizes) == len(num_samples)\n",
    "\n",
    "hinsage = HinSAGE(\n",
    "    layer_sizes=hinsage_layer_sizes, generator=generator, bias=True, dropout=0.0\n",
    ")"
   ]
  },
  {
   "cell_type": "code",
   "execution_count": 19,
   "id": "c8209ba8",
   "metadata": {},
   "outputs": [
    {
     "name": "stderr",
     "output_type": "stream",
     "text": [
      "/usr/local/Caskroom/mambaforge/base/envs/stellar_graph/lib/python3.10/site-packages/keras/initializers/initializers_v2.py:120: UserWarning: The initializer GlorotUniform is unseeded and being called multiple times, which will return identical values  each time (even if the initializer is unseeded). Please update your code to provide a seed to the initializer, or avoid using the same initalizer instance more than once.\n",
      "  warnings.warn(\n"
     ]
    }
   ],
   "source": [
    "# Expose input and output sockets of hinsage:\n",
    "x_inp, x_out = hinsage.in_out_tensors()"
   ]
  },
  {
   "cell_type": "code",
   "execution_count": 20,
   "id": "65fea882",
   "metadata": {},
   "outputs": [
    {
     "name": "stdout",
     "output_type": "stream",
     "text": [
      "link_regression: using 'concat' method to combine node embeddings into edge embeddings\n"
     ]
    }
   ],
   "source": [
    "# Final estimator layer\n",
    "score_prediction = link_regression(edge_embedding_method=\"concat\")(x_out)"
   ]
  },
  {
   "cell_type": "code",
   "execution_count": 21,
   "id": "edba8c57",
   "metadata": {},
   "outputs": [],
   "source": [
    "import tensorflow.keras.backend as K\n",
    "\n",
    "\n",
    "def root_mean_square_error(s_true, s_pred):\n",
    "    return K.sqrt(K.mean(K.pow(s_true - s_pred, 2)))\n",
    "\n",
    "\n",
    "model = Model(inputs=x_inp, outputs=score_prediction)\n",
    "model.compile(\n",
    "    optimizer=optimizers.Adam(learning_rate=1e-2),\n",
    "    loss=losses.mean_squared_error,\n",
    "    metrics=[root_mean_square_error, metrics.mae],\n",
    ")"
   ]
  },
  {
   "cell_type": "code",
   "execution_count": 22,
   "id": "89dbc532",
   "metadata": {},
   "outputs": [
    {
     "name": "stdout",
     "output_type": "stream",
     "text": [
      "Model: \"model\"\n",
      "__________________________________________________________________________________________________\n",
      " Layer (type)                   Output Shape         Param #     Connected to                     \n",
      "==================================================================================================\n",
      " input_3 (InputLayer)           [(None, 8, 567)]     0           []                               \n",
      "                                                                                                  \n",
      " input_4 (InputLayer)           [(None, 8, 3880)]    0           []                               \n",
      "                                                                                                  \n",
      " input_6 (InputLayer)           [(None, 32, 567)]    0           []                               \n",
      "                                                                                                  \n",
      " input_7 (InputLayer)           [(None, 32, 3880)]   0           []                               \n",
      "                                                                                                  \n",
      " input_8 (InputLayer)           [(None, 32, 567)]    0           []                               \n",
      "                                                                                                  \n",
      " input_9 (InputLayer)           [(None, 32, 567)]    0           []                               \n",
      "                                                                                                  \n",
      " input_10 (InputLayer)          [(None, 32, 3880)]   0           []                               \n",
      "                                                                                                  \n",
      " input_1 (InputLayer)           [(None, 1, 567)]     0           []                               \n",
      "                                                                                                  \n",
      " reshape (Reshape)              (None, 1, 8, 567)    0           ['input_3[0][0]']                \n",
      "                                                                                                  \n",
      " reshape_1 (Reshape)            (None, 1, 8, 3880)   0           ['input_4[0][0]']                \n",
      "                                                                                                  \n",
      " reshape_3 (Reshape)            (None, 8, 4, 567)    0           ['input_6[0][0]']                \n",
      "                                                                                                  \n",
      " reshape_4 (Reshape)            (None, 8, 4, 3880)   0           ['input_7[0][0]']                \n",
      "                                                                                                  \n",
      " reshape_5 (Reshape)            (None, 8, 4, 567)    0           ['input_8[0][0]']                \n",
      "                                                                                                  \n",
      " input_5 (InputLayer)           [(None, 8, 567)]     0           []                               \n",
      "                                                                                                  \n",
      " reshape_6 (Reshape)            (None, 8, 4, 567)    0           ['input_9[0][0]']                \n",
      "                                                                                                  \n",
      " reshape_7 (Reshape)            (None, 8, 4, 3880)   0           ['input_10[0][0]']               \n",
      "                                                                                                  \n",
      " dropout_2 (Dropout)            (None, 1, 567)       0           ['input_1[0][0]']                \n",
      "                                                                                                  \n",
      " dropout (Dropout)              (None, 1, 8, 567)    0           ['reshape[0][0]']                \n",
      "                                                                                                  \n",
      " dropout_1 (Dropout)            (None, 1, 8, 3880)   0           ['reshape_1[0][0]']              \n",
      "                                                                                                  \n",
      " dropout_7 (Dropout)            (None, 8, 567)       0           ['input_3[0][0]']                \n",
      "                                                                                                  \n",
      " dropout_5 (Dropout)            (None, 8, 4, 567)    0           ['reshape_3[0][0]']              \n",
      "                                                                                                  \n",
      " dropout_6 (Dropout)            (None, 8, 4, 3880)   0           ['reshape_4[0][0]']              \n",
      "                                                                                                  \n",
      " dropout_9 (Dropout)            (None, 8, 3880)      0           ['input_4[0][0]']                \n",
      "                                                                                                  \n",
      " dropout_8 (Dropout)            (None, 8, 4, 567)    0           ['reshape_5[0][0]']              \n",
      "                                                                                                  \n",
      " input_2 (InputLayer)           [(None, 1, 3880)]    0           []                               \n",
      "                                                                                                  \n",
      " reshape_2 (Reshape)            (None, 1, 8, 567)    0           ['input_5[0][0]']                \n",
      "                                                                                                  \n",
      " dropout_12 (Dropout)           (None, 8, 567)       0           ['input_5[0][0]']                \n",
      "                                                                                                  \n",
      " dropout_10 (Dropout)           (None, 8, 4, 567)    0           ['reshape_6[0][0]']              \n",
      "                                                                                                  \n",
      " dropout_11 (Dropout)           (None, 8, 4, 3880)   0           ['reshape_7[0][0]']              \n",
      "                                                                                                  \n",
      " mean_hin_aggregator (MeanHinAg  multiple            40128       ['dropout_2[0][0]',              \n",
      " gregator)                                                        'dropout[0][0]',                \n",
      "                                                                  'dropout_1[0][0]',              \n",
      "                                                                  'dropout_7[0][0]',              \n",
      "                                                                  'dropout_5[0][0]',              \n",
      "                                                                  'dropout_6[0][0]',              \n",
      "                                                                  'dropout_12[0][0]',             \n",
      "                                                                  'dropout_10[0][0]',             \n",
      "                                                                  'dropout_11[0][0]']             \n",
      "                                                                                                  \n",
      " mean_hin_aggregator_1 (MeanHin  multiple            35592       ['dropout_4[0][0]',              \n",
      " Aggregator)                                                      'dropout_3[0][0]',              \n",
      "                                                                  'dropout_9[0][0]',              \n",
      "                                                                  'dropout_8[0][0]']              \n",
      "                                                                                                  \n",
      " dropout_4 (Dropout)            (None, 1, 3880)      0           ['input_2[0][0]']                \n",
      "                                                                                                  \n",
      " dropout_3 (Dropout)            (None, 1, 8, 567)    0           ['reshape_2[0][0]']              \n",
      "                                                                                                  \n",
      " reshape_8 (Reshape)            (None, 1, 8, 16)     0           ['mean_hin_aggregator[1][0]']    \n",
      "                                                                                                  \n",
      " reshape_9 (Reshape)            (None, 1, 8, 16)     0           ['mean_hin_aggregator_1[1][0]']  \n"
     ]
    },
    {
     "name": "stdout",
     "output_type": "stream",
     "text": [
      "                                                                                                  \n",
      " reshape_10 (Reshape)           (None, 1, 8, 16)     0           ['mean_hin_aggregator[2][0]']    \n",
      "                                                                                                  \n",
      " dropout_15 (Dropout)           (None, 1, 16)        0           ['mean_hin_aggregator[0][0]']    \n",
      "                                                                                                  \n",
      " dropout_13 (Dropout)           (None, 1, 8, 16)     0           ['reshape_8[0][0]']              \n",
      "                                                                                                  \n",
      " dropout_14 (Dropout)           (None, 1, 8, 16)     0           ['reshape_9[0][0]']              \n",
      "                                                                                                  \n",
      " dropout_17 (Dropout)           (None, 1, 16)        0           ['mean_hin_aggregator_1[0][0]']  \n",
      "                                                                                                  \n",
      " dropout_16 (Dropout)           (None, 1, 8, 16)     0           ['reshape_10[0][0]']             \n",
      "                                                                                                  \n",
      " mean_hin_aggregator_2 (MeanHin  (None, 1, 16)       400         ['dropout_15[0][0]',             \n",
      " Aggregator)                                                      'dropout_13[0][0]',             \n",
      "                                                                  'dropout_14[0][0]']             \n",
      "                                                                                                  \n",
      " mean_hin_aggregator_3 (MeanHin  (None, 1, 16)       272         ['dropout_17[0][0]',             \n",
      " Aggregator)                                                      'dropout_16[0][0]']             \n",
      "                                                                                                  \n",
      " reshape_11 (Reshape)           (None, 16)           0           ['mean_hin_aggregator_2[0][0]']  \n",
      "                                                                                                  \n",
      " reshape_12 (Reshape)           (None, 16)           0           ['mean_hin_aggregator_3[0][0]']  \n",
      "                                                                                                  \n",
      " lambda (Lambda)                (None, 16)           0           ['reshape_11[0][0]',             \n",
      "                                                                  'reshape_12[0][0]']             \n",
      "                                                                                                  \n",
      " link_embedding (LinkEmbedding)  (None, 32)          0           ['lambda[0][0]',                 \n",
      "                                                                  'lambda[1][0]']                 \n",
      "                                                                                                  \n",
      " dense (Dense)                  (None, 1)            33          ['link_embedding[0][0]']         \n",
      "                                                                                                  \n",
      " reshape_13 (Reshape)           (None, 1)            0           ['dense[0][0]']                  \n",
      "                                                                                                  \n",
      "==================================================================================================\n",
      "Total params: 76,425\n",
      "Trainable params: 76,425\n",
      "Non-trainable params: 0\n",
      "__________________________________________________________________________________________________\n"
     ]
    }
   ],
   "source": [
    "model.summary()"
   ]
  },
  {
   "cell_type": "code",
   "execution_count": 23,
   "id": "6bab53a0",
   "metadata": {},
   "outputs": [],
   "source": [
    "# Specify the number of workers to use for model training\n",
    "num_workers = 2"
   ]
  },
  {
   "cell_type": "code",
   "execution_count": 24,
   "id": "b56837ee",
   "metadata": {},
   "outputs": [
    {
     "name": "stdout",
     "output_type": "stream",
     "text": [
      "10/10 [==============================] - 4s 294ms/step - loss: 8.1118 - root_mean_square_error: 2.8285 - mean_absolute_error: 2.0812\n",
      "Untrained model's Test Evaluation:\n",
      "\tloss: 8.1118\n",
      "\troot_mean_square_error: 2.8285\n",
      "\tmean_absolute_error: 2.0812\n"
     ]
    }
   ],
   "source": [
    "test_metrics = model.evaluate(\n",
    "    test_gen, verbose=1, use_multiprocessing=False, workers=num_workers\n",
    ")\n",
    "\n",
    "print(\"Untrained model's Test Evaluation:\")\n",
    "for name, val in zip(model.metrics_names, test_metrics):\n",
    "    print(\"\\t{}: {:0.4f}\".format(name, val))"
   ]
  },
  {
   "cell_type": "code",
   "execution_count": 25,
   "id": "33e5b455",
   "metadata": {},
   "outputs": [
    {
     "name": "stdout",
     "output_type": "stream",
     "text": [
      "Epoch 1/20\n",
      "40/40 [==============================] - 21s 445ms/step - loss: 8.8700 - root_mean_square_error: 2.3029 - mean_absolute_error: 1.0737 - val_loss: 3.6070 - val_root_mean_square_error: 1.8582 - val_mean_absolute_error: 1.0480\n",
      "Epoch 2/20\n",
      "40/40 [==============================] - 18s 442ms/step - loss: 8.3865 - root_mean_square_error: 2.2249 - mean_absolute_error: 0.9766 - val_loss: 3.4662 - val_root_mean_square_error: 1.8153 - val_mean_absolute_error: 0.9897\n",
      "Epoch 3/20\n",
      "40/40 [==============================] - 18s 443ms/step - loss: 8.0012 - root_mean_square_error: 2.1327 - mean_absolute_error: 0.9077 - val_loss: 3.5626 - val_root_mean_square_error: 1.8429 - val_mean_absolute_error: 0.9094\n",
      "Epoch 4/20\n",
      "40/40 [==============================] - 18s 442ms/step - loss: 7.7579 - root_mean_square_error: 2.0976 - mean_absolute_error: 0.8630 - val_loss: 3.5267 - val_root_mean_square_error: 1.8343 - val_mean_absolute_error: 1.0562\n",
      "Epoch 5/20\n",
      "40/40 [==============================] - 19s 450ms/step - loss: 7.5158 - root_mean_square_error: 2.0321 - mean_absolute_error: 0.8407 - val_loss: 3.5961 - val_root_mean_square_error: 1.8551 - val_mean_absolute_error: 0.9706\n",
      "Epoch 6/20\n",
      "40/40 [==============================] - 18s 432ms/step - loss: 7.4165 - root_mean_square_error: 1.9702 - mean_absolute_error: 0.8236 - val_loss: 3.5592 - val_root_mean_square_error: 1.8439 - val_mean_absolute_error: 0.9772\n",
      "Epoch 7/20\n",
      "40/40 [==============================] - 18s 440ms/step - loss: 7.1620 - root_mean_square_error: 1.9133 - mean_absolute_error: 0.7955 - val_loss: 3.8632 - val_root_mean_square_error: 1.9262 - val_mean_absolute_error: 1.0973\n",
      "Epoch 8/20\n",
      "40/40 [==============================] - 19s 450ms/step - loss: 7.0244 - root_mean_square_error: 1.9290 - mean_absolute_error: 0.7883 - val_loss: 3.8227 - val_root_mean_square_error: 1.9065 - val_mean_absolute_error: 1.0227\n",
      "Epoch 9/20\n",
      "40/40 [==============================] - 18s 443ms/step - loss: 6.8646 - root_mean_square_error: 1.9084 - mean_absolute_error: 0.7672 - val_loss: 3.8212 - val_root_mean_square_error: 1.9115 - val_mean_absolute_error: 1.0489\n",
      "Epoch 10/20\n",
      "40/40 [==============================] - 19s 453ms/step - loss: 6.7814 - root_mean_square_error: 1.8493 - mean_absolute_error: 0.7738 - val_loss: 3.9493 - val_root_mean_square_error: 1.9478 - val_mean_absolute_error: 1.1372\n",
      "Epoch 11/20\n",
      "40/40 [==============================] - 19s 451ms/step - loss: 6.6529 - root_mean_square_error: 1.8137 - mean_absolute_error: 0.7631 - val_loss: 4.2308 - val_root_mean_square_error: 2.0169 - val_mean_absolute_error: 1.1589\n",
      "Epoch 12/20\n",
      "40/40 [==============================] - 19s 463ms/step - loss: 6.6072 - root_mean_square_error: 1.8181 - mean_absolute_error: 0.7787 - val_loss: 4.1120 - val_root_mean_square_error: 1.9848 - val_mean_absolute_error: 1.1385\n",
      "Epoch 13/20\n",
      "40/40 [==============================] - 19s 456ms/step - loss: 6.5019 - root_mean_square_error: 1.8091 - mean_absolute_error: 0.7595 - val_loss: 4.1665 - val_root_mean_square_error: 2.0008 - val_mean_absolute_error: 1.1564\n",
      "Epoch 14/20\n",
      "40/40 [==============================] - 19s 470ms/step - loss: 6.4974 - root_mean_square_error: 1.8135 - mean_absolute_error: 0.7536 - val_loss: 4.4089 - val_root_mean_square_error: 2.0632 - val_mean_absolute_error: 1.1976\n",
      "Epoch 15/20\n",
      "40/40 [==============================] - 18s 444ms/step - loss: 6.3149 - root_mean_square_error: 1.7660 - mean_absolute_error: 0.7497 - val_loss: 4.4455 - val_root_mean_square_error: 2.0657 - val_mean_absolute_error: 1.1745\n",
      "Epoch 16/20\n",
      "40/40 [==============================] - 20s 492ms/step - loss: 6.1715 - root_mean_square_error: 1.7407 - mean_absolute_error: 0.7312 - val_loss: 4.3928 - val_root_mean_square_error: 2.0556 - val_mean_absolute_error: 1.2063\n",
      "Epoch 17/20\n",
      "40/40 [==============================] - 20s 494ms/step - loss: 6.1150 - root_mean_square_error: 1.7401 - mean_absolute_error: 0.7339 - val_loss: 4.5130 - val_root_mean_square_error: 2.0746 - val_mean_absolute_error: 1.2065\n",
      "Epoch 18/20\n",
      "40/40 [==============================] - 18s 442ms/step - loss: 6.1227 - root_mean_square_error: 1.7593 - mean_absolute_error: 0.7236 - val_loss: 4.5307 - val_root_mean_square_error: 2.0828 - val_mean_absolute_error: 1.2179\n",
      "Epoch 19/20\n",
      "40/40 [==============================] - 23s 570ms/step - loss: 5.9857 - root_mean_square_error: 1.7067 - mean_absolute_error: 0.7204 - val_loss: 4.8332 - val_root_mean_square_error: 2.1489 - val_mean_absolute_error: 1.2347\n",
      "Epoch 20/20\n",
      "40/40 [==============================] - 19s 457ms/step - loss: 6.0247 - root_mean_square_error: 1.7412 - mean_absolute_error: 0.7512 - val_loss: 4.5882 - val_root_mean_square_error: 2.0980 - val_mean_absolute_error: 1.2037\n"
     ]
    }
   ],
   "source": [
    "history = model.fit(\n",
    "    train_gen,\n",
    "    validation_data=test_gen,\n",
    "    epochs=epochs,\n",
    "    verbose=1,\n",
    "    shuffle=False,\n",
    "    use_multiprocessing=False,\n",
    "    workers=num_workers,\n",
    ")"
   ]
  },
  {
   "cell_type": "code",
   "execution_count": 26,
   "id": "17004486",
   "metadata": {
    "scrolled": true
   },
   "outputs": [
    {
     "data": {
      "image/png": "[encoded data removed]",
      "text/plain": [
       "<Figure size 700x1200 with 3 Axes>"
      ]
     },
     "metadata": {},
     "output_type": "display_data"
    }
   ],
   "source": [
    "sg.utils.plot_history(history)"
   ]
  },
  {
   "cell_type": "code",
   "execution_count": 27,
   "id": "8c622e2b",
   "metadata": {},
   "outputs": [
    {
     "name": "stdout",
     "output_type": "stream",
     "text": [
      "10/10 [==============================] - 3s 269ms/step - loss: 4.6167 - root_mean_square_error: 2.1038 - mean_absolute_error: 1.2080\n",
      "Test Evaluation:\n",
      "\tloss: 4.6167\n",
      "\troot_mean_square_error: 2.1038\n",
      "\tmean_absolute_error: 1.2080\n"
     ]
    }
   ],
   "source": [
    "test_metrics = model.evaluate(\n",
    "    test_gen, use_multiprocessing=False, workers=num_workers, verbose=1\n",
    ")\n",
    "\n",
    "print(\"Test Evaluation:\")\n",
    "for name, val in zip(model.metrics_names, test_metrics):\n",
    "    print(\"\\t{}: {:0.4f}\".format(name, val))\n"
   ]
  },
  {
   "cell_type": "code",
   "execution_count": 28,
   "id": "35c74805",
   "metadata": {},
   "outputs": [
    {
     "name": "stdout",
     "output_type": "stream",
     "text": [
      "10/10 [==============================] - 5s 423ms/step\n",
      "Mean Baseline Test set metrics:\n",
      "\troot_mean_square_error =  1.9227893800414024\n",
      "\tmean_absolute_error =  1.011042994260788\n",
      "\n",
      "Model Test set metrics:\n",
      "\troot_mean_square_error =  2.150829280818316\n",
      "\tmean_absolute_error =  1.211742818325758\n"
     ]
    }
   ],
   "source": [
    "y_true = labels_test\n",
    "# Predict the rankings using the model:\n",
    "y_pred = model.predict(test_gen)\n",
    "# Mean baseline rankings = mean movie ranking:\n",
    "y_pred_baseline = np.full_like(y_pred, np.mean(y_true))\n",
    "\n",
    "rmse = np.sqrt(mean_squared_error(y_true, y_pred_baseline))\n",
    "mae = mean_absolute_error(y_true, y_pred_baseline)\n",
    "print(\"Mean Baseline Test set metrics:\")\n",
    "print(\"\\troot_mean_square_error = \", rmse)\n",
    "print(\"\\tmean_absolute_error = \", mae)\n",
    "\n",
    "rmse = np.sqrt(mean_squared_error(y_true, y_pred))\n",
    "mae = mean_absolute_error(y_true, y_pred)\n",
    "print(\"\\nModel Test set metrics:\")\n",
    "print(\"\\troot_mean_square_error = \", rmse)\n",
    "print(\"\\tmean_absolute_error = \", mae)"
   ]
  },
  {
   "cell_type": "code",
   "execution_count": 29,
   "id": "88d7b410",
   "metadata": {
    "scrolled": true
   },
   "outputs": [
    {
     "data": {
      "image/png": "[encoded data removed]",
      "text/plain": [
       "<Figure size 640x480 with 1 Axes>"
      ]
     },
     "metadata": {},
     "output_type": "display_data"
    }
   ],
   "source": [
    "h_true = plt.hist(y_true, bins=30, facecolor=\"green\", alpha=0.5)\n",
    "h_pred = plt.hist(y_pred, bins=30, facecolor=\"blue\", alpha=0.5)\n",
    "plt.xlabel(\"Prob of presence\")\n",
    "plt.ylabel(\"count\")\n",
    "plt.legend((\"True\", \"Predicted\"))\n",
    "plt.show()"
   ]
  },
  {
   "cell_type": "code",
   "execution_count": 30,
   "id": "f7183a5c",
   "metadata": {},
   "outputs": [],
   "source": [
    "test_gen_2 = generator.flow(edgelist_test, np.zeros(len(labels_test)))"
   ]
  },
  {
   "cell_type": "code",
   "execution_count": 31,
   "id": "43a913ea",
   "metadata": {
    "scrolled": true
   },
   "outputs": [
    {
     "name": "stdout",
     "output_type": "stream",
     "text": [
      "10/10 [==============================] - 5s 420ms/step\n"
     ]
    }
   ],
   "source": [
    "mv = model.predict(test_gen_2)"
   ]
  },
  {
   "cell_type": "code",
   "execution_count": 32,
   "id": "0e81fd83",
   "metadata": {
    "scrolled": true
   },
   "outputs": [
    {
     "data": {
      "text/plain": [
       "array([[1.        , 0.23901172],\n",
       "       [0.23901172, 1.        ]])"
      ]
     },
     "execution_count": 32,
     "metadata": {},
     "output_type": "execute_result"
    }
   ],
   "source": [
    "np.corrcoef(mv.flatten(), y_true.to_numpy())"
   ]
  },
  {
   "cell_type": "code",
   "execution_count": 33,
   "id": "68aaf1c9",
   "metadata": {},
   "outputs": [
    {
     "data": {
      "text/html": [
       "<div>\n",
       "<style scoped>\n",
       "    .dataframe tbody tr th:only-of-type {\n",
       "        vertical-align: middle;\n",
       "    }\n",
       "\n",
       "    .dataframe tbody tr th {\n",
       "        vertical-align: top;\n",
       "    }\n",
       "\n",
       "    .dataframe thead th {\n",
       "        text-align: right;\n",
       "    }\n",
       "</style>\n",
       "<table border=\"1\" class=\"dataframe\">\n",
       "  <thead>\n",
       "    <tr style=\"text-align: right;\">\n",
       "      <th></th>\n",
       "      <th>structure_smiles_2D</th>\n",
       "      <th>organism_taxonomy_09species</th>\n",
       "    </tr>\n",
       "  </thead>\n",
       "  <tbody>\n",
       "    <tr>\n",
       "      <th>0</th>\n",
       "      <td>CC=C(C)C(=O)OC1CCC2(C)C3CCC4C5(O)C(O)C(O)C6C(C...</td>\n",
       "      <td>Veratrum oblongum</td>\n",
       "    </tr>\n",
       "    <tr>\n",
       "      <th>1</th>\n",
       "      <td>CCCCCCCCCCCCCCCCCCC</td>\n",
       "      <td>Vitis vinifera</td>\n",
       "    </tr>\n",
       "    <tr>\n",
       "      <th>2</th>\n",
       "      <td>CCC12CCCN3CCC4c5ccccc5N(C)C4(CC1)C32</td>\n",
       "      <td>Vallesia glabra</td>\n",
       "    </tr>\n",
       "    <tr>\n",
       "      <th>3</th>\n",
       "      <td>COC(=O)C1=COC(OC2OC(CO)C(O)C(O)C2O)C2C1CC(O)C2CO</td>\n",
       "      <td>Galium rhodopeum</td>\n",
       "    </tr>\n",
       "    <tr>\n",
       "      <th>4</th>\n",
       "      <td>C=CC1(C)C=C2CCC3C(C)(C(=O)O)CCCC3(C)C2CC1</td>\n",
       "      <td>Ferula marmarica</td>\n",
       "    </tr>\n",
       "    <tr>\n",
       "      <th>...</th>\n",
       "      <td>...</td>\n",
       "      <td>...</td>\n",
       "    </tr>\n",
       "    <tr>\n",
       "      <th>1995</th>\n",
       "      <td>CC1C2(O)CC34CC(=O)OC3(CC(O)C4C)C1(C)CO2</td>\n",
       "      <td>Illicium merrillianum</td>\n",
       "    </tr>\n",
       "    <tr>\n",
       "      <th>1996</th>\n",
       "      <td>CC(=O)OC1CC(C)C23OC(C)(C)C(CC(OC(=O)c4ccccc4)C...</td>\n",
       "      <td>Tripterygium wilfordii</td>\n",
       "    </tr>\n",
       "    <tr>\n",
       "      <th>1997</th>\n",
       "      <td>COc1ccc(-c2cc(=O)c3c(O)cc(O)cc3o2)cc1O</td>\n",
       "      <td>Haplopappus canescens</td>\n",
       "    </tr>\n",
       "    <tr>\n",
       "      <th>1998</th>\n",
       "      <td>C=CC(=C)CCC=C(C)C</td>\n",
       "      <td>Cephalotaxus mannii</td>\n",
       "    </tr>\n",
       "    <tr>\n",
       "      <th>1999</th>\n",
       "      <td>CCCCCCCCC(=O)CC</td>\n",
       "      <td>Commiphora rostrata</td>\n",
       "    </tr>\n",
       "  </tbody>\n",
       "</table>\n",
       "<p>2000 rows × 2 columns</p>\n",
       "</div>"
      ],
      "text/plain": [
       "                                    structure_smiles_2D  \\\n",
       "0     CC=C(C)C(=O)OC1CCC2(C)C3CCC4C5(O)C(O)C(O)C6C(C...   \n",
       "1                                   CCCCCCCCCCCCCCCCCCC   \n",
       "2                  CCC12CCCN3CCC4c5ccccc5N(C)C4(CC1)C32   \n",
       "3      COC(=O)C1=COC(OC2OC(CO)C(O)C(O)C2O)C2C1CC(O)C2CO   \n",
       "4             C=CC1(C)C=C2CCC3C(C)(C(=O)O)CCCC3(C)C2CC1   \n",
       "...                                                 ...   \n",
       "1995            CC1C2(O)CC34CC(=O)OC3(CC(O)C4C)C1(C)CO2   \n",
       "1996  CC(=O)OC1CC(C)C23OC(C)(C)C(CC(OC(=O)c4ccccc4)C...   \n",
       "1997             COc1ccc(-c2cc(=O)c3c(O)cc(O)cc3o2)cc1O   \n",
       "1998                                  C=CC(=C)CCC=C(C)C   \n",
       "1999                                    CCCCCCCCC(=O)CC   \n",
       "\n",
       "     organism_taxonomy_09species  \n",
       "0              Veratrum oblongum  \n",
       "1                 Vitis vinifera  \n",
       "2                Vallesia glabra  \n",
       "3               Galium rhodopeum  \n",
       "4               Ferula marmarica  \n",
       "...                          ...  \n",
       "1995       Illicium merrillianum  \n",
       "1996      Tripterygium wilfordii  \n",
       "1997       Haplopappus canescens  \n",
       "1998         Cephalotaxus mannii  \n",
       "1999         Commiphora rostrata  \n",
       "\n",
       "[2000 rows x 2 columns]"
      ]
     },
     "execution_count": 33,
     "metadata": {},
     "output_type": "execute_result"
    }
   ],
   "source": [
    "pd.DataFrame(edgelist_test)"
   ]
  },
  {
   "cell_type": "code",
   "execution_count": 42,
   "id": "5e24121d",
   "metadata": {},
   "outputs": [],
   "source": [
    "x = list(pd.DataFrame({'structure_smiles_2D': ['Oc1ccc2c(c1)OC(c1cc(O)c(O)c(O)c1)C(O)C2'],\n",
    "             'organism_taxonomy_09species': ['Commiphora rostrata']}).itertuples(index=False))"
   ]
  },
  {
   "cell_type": "code",
   "execution_count": 43,
   "id": "18df01b4",
   "metadata": {},
   "outputs": [
    {
     "name": "stdout",
     "output_type": "stream",
     "text": [
      "1/1 [==============================] - 0s 39ms/step\n"
     ]
    },
    {
     "data": {
      "text/plain": [
       "array([[0.4393021]], dtype=float32)"
      ]
     },
     "execution_count": 43,
     "metadata": {},
     "output_type": "execute_result"
    }
   ],
   "source": [
    "model.predict(generator.flow(x, np.array([0])))"
   ]
  }
 ],
 "metadata": {
  "kernelspec": {
   "display_name": "Python 3 (ipykernel)",
   "language": "python",
   "name": "python3"
  },
  "language_info": {
   "codemirror_mode": {
    "name": "ipython",
    "version": 3
   },
   "file_extension": ".py",
   "mimetype": "text/x-python",
   "name": "python",
   "nbconvert_exporter": "python",
   "pygments_lexer": "ipython3",
   "version": "3.10.11"
  }
 },
 "nbformat": 4,
 "nbformat_minor": 5
}
