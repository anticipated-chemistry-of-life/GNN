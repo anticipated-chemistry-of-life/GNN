{
 "cells": [
  {
   "cell_type": "code",
   "execution_count": 1,
   "id": "2ce7511a-2d80-4f1a-806e-a8bb1af23106",
   "metadata": {},
   "outputs": [],
   "source": [
    "import pandas as pd\n",
    "import numpy as np\n",
    "from MCMC import run_mcmc_with_gibbs\n",
    "import os\n",
    "from scipy.sparse import csr_matrix\n",
    "from pandas.api.types import CategoricalDtype"
   ]
  },
  {
   "cell_type": "code",
   "execution_count": 2,
   "id": "316f0e22-8777-4bec-ac43-2d9dd230b0dc",
   "metadata": {},
   "outputs": [],
   "source": [
    "directory = '../out/'\n",
    "dataframes = []  # List to hold dataframes\n",
    "for filename in os.listdir(directory):\n",
    "    if filename.endswith('.parquet'):  # Ensures only parquet files are read\n",
    "        filepath = os.path.join(directory, filename)\n",
    "        df = pd.read_parquet(filepath)  # Read parquet file to a pandas df\n",
    "        dataframes.append(df)  # Append the df to the list\n",
    "df = pd.concat(dataframes, ignore_index=True)\n",
    "\n",
    "df.prob = df.prob.astype('float32')"
   ]
  },
  {
   "cell_type": "code",
   "execution_count": 3,
   "id": "5954046b-3f07-4522-b424-6bb5743de5d2",
   "metadata": {},
   "outputs": [],
   "source": [
    "pivot_df = df.pivot_table(index='species', columns='molecule', values='prob')\n",
    "del df"
   ]
  },
  {
   "cell_type": "code",
   "execution_count": 4,
   "id": "6c788b91-bef8-40da-9a11-e9354b56aa35",
   "metadata": {},
   "outputs": [],
   "source": [
    "df_agg_train = pd.read_csv(\"../data/lotus_agg_train.csv.gz\", index_col=0)\n",
    "df_agg_test = pd.read_csv(\"../data/lotus_agg_test.csv.gz\", index_col=0)\n",
    "df_agg = pd.concat([df_agg_train, df_agg_test])"
   ]
  },
  {
   "cell_type": "code",
   "execution_count": 5,
   "id": "d153db62-208d-48de-b5ad-b6218f948aaa",
   "metadata": {},
   "outputs": [],
   "source": [
    "mol_u = CategoricalDtype(sorted(df_agg.structure_smiles_2D.unique()), ordered=True)\n",
    "species_u = CategoricalDtype(sorted(df_agg.organism_name.unique()), ordered=True)\n",
    "row = df_agg.organism_name.astype(species_u).cat.codes\n",
    "col = df_agg.structure_smiles_2D.astype(mol_u).cat.codes\n",
    "sparse_matrix = csr_matrix((df_agg[\"reference_wikidata\"], (row, col)),\n",
    "                           shape=(species_u.categories.size, mol_u.categories.size),\n",
    "                           dtype='uint16')\n",
    "lotus_n_papers = pd.DataFrame.sparse.from_spmatrix(sparse_matrix, index=species_u.categories, columns=mol_u.categories)"
   ]
  },
  {
   "cell_type": "code",
   "execution_count": 6,
   "id": "9d251af3-72c6-4e1c-8d06-a93436a0093d",
   "metadata": {},
   "outputs": [],
   "source": [
    "#pivot_df = pivot_df[pivot_df.index.isin(lotus_n_papers.index)]\n",
    "pivot_df.drop(index='Arnica amplexicaulis', inplace=True)"
   ]
  },
  {
   "cell_type": "code",
   "execution_count": 7,
   "id": "c20bc18c-3338-4fa7-91de-a9eee7c65342",
   "metadata": {
    "scrolled": true
   },
   "outputs": [],
   "source": [
    "pivot_df = pivot_df[lotus_n_papers.columns]"
   ]
  },
  {
   "cell_type": "code",
   "execution_count": 8,
   "id": "7c696c60-2959-48d8-92c3-793c4174fb0d",
   "metadata": {},
   "outputs": [],
   "source": [
    "lotus_n_papers = lotus_n_papers[lotus_n_papers.index.isin(pivot_df.index)]"
   ]
  },
  {
   "cell_type": "code",
   "execution_count": 9,
   "id": "a6f7da77-7e8c-41ea-8560-5d136bcc0d61",
   "metadata": {},
   "outputs": [],
   "source": [
    "pivot_df = pivot_df.iloc[:10, :]\n",
    "lotus_n_papers = lotus_n_papers.iloc[:10, :]"
   ]
  },
  {
   "cell_type": "code",
   "execution_count": 10,
   "id": "2c66f518-cd43-400f-904a-940aafafc940",
   "metadata": {},
   "outputs": [],
   "source": [
    "n_iter = 100\n",
    "x_init = np.zeros_like(lotus_n_papers)\n",
    "gamma_init = 0.1\n",
    "delta_init = 0.1"
   ]
  },
  {
   "cell_type": "code",
   "execution_count": 11,
   "id": "df358718-e36b-4e91-9f24-42cdc0b4793b",
   "metadata": {},
   "outputs": [
    {
     "ename": "KeyboardInterrupt",
     "evalue": "",
     "output_type": "error",
     "traceback": [
      "\u001b[0;31m---------------------------------------------------------------------------\u001b[0m",
      "\u001b[0;31mKeyboardInterrupt\u001b[0m                         Traceback (most recent call last)",
      "Cell \u001b[0;32mIn[11], line 1\u001b[0m\n\u001b[0;32m----> 1\u001b[0m samples, x_samples, accept_gamma, accept_delta \u001b[38;5;241m=\u001b[39m \u001b[43mrun_mcmc_with_gibbs\u001b[49m\u001b[43m(\u001b[49m\n\u001b[1;32m      2\u001b[0m \u001b[43m    \u001b[49m\u001b[43mlotus_n_papers\u001b[49m\u001b[38;5;241;43m.\u001b[39;49m\u001b[43mvalues\u001b[49m\u001b[43m,\u001b[49m\u001b[43m \u001b[49m\u001b[43mx_init\u001b[49m\u001b[43m,\u001b[49m\u001b[43m \u001b[49m\u001b[43mn_iter\u001b[49m\u001b[43m,\u001b[49m\u001b[43m \u001b[49m\u001b[43mgamma_init\u001b[49m\u001b[43m,\u001b[49m\u001b[43m \u001b[49m\u001b[43mdelta_init\u001b[49m\u001b[43m,\u001b[49m\u001b[43m \u001b[49m\u001b[43mpivot_df\u001b[49m\u001b[38;5;241;43m.\u001b[39;49m\u001b[43mvalues\u001b[49m\u001b[43m)\u001b[49m\n",
      "File \u001b[0;32m~/master_thesis/graph_lotus/data_analysis/MCMC.py:130\u001b[0m, in \u001b[0;36mrun_mcmc_with_gibbs\u001b[0;34m(lotus_n_papers, x_init, n_iter, gamma_init, delta_init, p_x, target_acceptance_rate, check_interval)\u001b[0m\n\u001b[1;32m    127\u001b[0m     accept_delta \u001b[38;5;241m+\u001b[39m\u001b[38;5;241m=\u001b[39m \u001b[38;5;241m1\u001b[39m\n\u001b[1;32m    129\u001b[0m \u001b[38;5;66;03m# Update x using Gibbs sampling\u001b[39;00m\n\u001b[0;32m--> 130\u001b[0m x \u001b[38;5;241m=\u001b[39m \u001b[43mgibbs_sample_x\u001b[49m\u001b[43m(\u001b[49m\u001b[43mlotus_n_papers\u001b[49m\u001b[43m,\u001b[49m\u001b[43m \u001b[49m\u001b[43mp_x\u001b[49m\u001b[43m,\u001b[49m\u001b[43m \u001b[49m\u001b[43mgamma\u001b[49m\u001b[43m,\u001b[49m\u001b[43m \u001b[49m\u001b[43mdelta\u001b[49m\u001b[43m)\u001b[49m\n\u001b[1;32m    132\u001b[0m \u001b[38;5;66;03m# Store gamma and delta values in the samples array\u001b[39;00m\n\u001b[1;32m    133\u001b[0m samples[i] \u001b[38;5;241m=\u001b[39m [gamma, delta]\n",
      "File \u001b[0;32m~/master_thesis/graph_lotus/data_analysis/MCMC.py:22\u001b[0m, in \u001b[0;36mgibbs_sample_x\u001b[0;34m(lotus_n_papers, p_x, gamma, delta)\u001b[0m\n\u001b[1;32m     19\u001b[0m denominator \u001b[38;5;241m=\u001b[39m numerator_0 \u001b[38;5;241m+\u001b[39m numerator_1\n\u001b[1;32m     21\u001b[0m conditional_probability \u001b[38;5;241m=\u001b[39m numerator_1\u001b[38;5;241m/\u001b[39mdenominator\n\u001b[0;32m---> 22\u001b[0m \u001b[38;5;28;01mreturn\u001b[39;00m \u001b[43mnp\u001b[49m\u001b[38;5;241;43m.\u001b[39;49m\u001b[43mrandom\u001b[49m\u001b[38;5;241;43m.\u001b[39;49m\u001b[43mbinomial\u001b[49m\u001b[43m(\u001b[49m\u001b[43mn\u001b[49m\u001b[38;5;241;43m=\u001b[39;49m\u001b[38;5;241;43m1\u001b[39;49m\u001b[43m,\u001b[49m\u001b[43m \u001b[49m\u001b[43mp\u001b[49m\u001b[38;5;241;43m=\u001b[39;49m\u001b[43mconditional_probability\u001b[49m\u001b[43m)\u001b[49m\n",
      "File \u001b[0;32mmtrand.pyx:3444\u001b[0m, in \u001b[0;36mnumpy.random.mtrand.RandomState.binomial\u001b[0;34m()\u001b[0m\n",
      "File \u001b[0;32m_common.pyx:383\u001b[0m, in \u001b[0;36mnumpy.random._common.check_array_constraint\u001b[0;34m()\u001b[0m\n",
      "File \u001b[0;32m<__array_function__ internals>:177\u001b[0m, in \u001b[0;36many\u001b[0;34m(*args, **kwargs)\u001b[0m\n",
      "\u001b[0;31mKeyboardInterrupt\u001b[0m: "
     ]
    }
   ],
   "source": [
    "samples, x_samples, accept_gamma, accept_delta = run_mcmc_with_gibbs(\n",
    "    lotus_n_papers.values, x_init, n_iter, gamma_init, delta_init, pivot_df.values)"
   ]
  },
  {
   "cell_type": "code",
   "execution_count": null,
   "id": "db4b7d38-e477-4cc3-98b9-61ba24537622",
   "metadata": {},
   "outputs": [],
   "source": [
    "burn_in = int(0.5 * n_iter)  # Remove the first 50% of the samples\n",
    "post_burn_in_samples = samples[burn_in:]\n",
    "\n",
    "# Extract the posterior mean estimates for gamma and delta\n",
    "gamma_posterior_mean = np.mean(post_burn_in_samples[:, 0])\n",
    "delta_posterior_mean = np.mean(post_burn_in_samples[:, 1])\n",
    "\n",
    "print(\"Estimated gamma: \", gamma_posterior_mean)\n",
    "print(\"Estimated delta: \", delta_posterior_mean)\n",
    "print(\"rate accept gamma : \", accept_gamma)\n",
    "print(\"rate accept delta : \", accept_delta)"
   ]
  },
  {
   "cell_type": "code",
   "execution_count": null,
   "id": "289ee9c6-fdcc-45d0-b823-5b9cba149f60",
   "metadata": {
    "scrolled": true
   },
   "outputs": [],
   "source": [
    "import seaborn as sns\n",
    "import matplotlib.pyplot as plt\n",
    "sns.set(style=\"darkgrid\")\n",
    "fig, axs = plt.subplots(ncols=2)\n",
    "sns.scatterplot(x=range(len(post_burn_in_samples)),\n",
    "                y = post_burn_in_samples[:,0],\n",
    "                ax=axs[0])\n",
    "sns.lineplot(\n",
    "    x=range(len(post_burn_in_samples)),\n",
    "    y=[gamma_posterior_mean for i in range(len(post_burn_in_samples[:, 0]))],\n",
    "    ax=axs[0],\n",
    "    color=\"r\",\n",
    ")\n",
    "sns.scatterplot(x=range(len(post_burn_in_samples)),\n",
    "                y=post_burn_in_samples[:,1],\n",
    "                ax=axs[1])\n",
    "sns.lineplot(\n",
    "    x=range(len(post_burn_in_samples)),\n",
    "    y=[delta_posterior_mean for i in range(len(post_burn_in_samples[:, 1]))],\n",
    "    ax=axs[1],\n",
    "    color=\"r\",\n",
    ")"
   ]
  },
  {
   "cell_type": "code",
   "execution_count": null,
   "id": "c4a49e7f-b569-4329-9ee2-6b1e3b0beb54",
   "metadata": {},
   "outputs": [],
   "source": [
    "plt.hist(post_burn_in_samples[:, 0], bins=30)"
   ]
  },
  {
   "cell_type": "code",
   "execution_count": null,
   "id": "5120a80f-cc9b-4eea-b204-f08197c17ee2",
   "metadata": {},
   "outputs": [],
   "source": [
    "plt.hist(post_burn_in_samples[:, 1], bins=30)"
   ]
  },
  {
   "cell_type": "code",
   "execution_count": null,
   "id": "35223335-8865-4b2e-bccc-ce71d4fa9eb8",
   "metadata": {},
   "outputs": [],
   "source": [
    "out = pd.DataFrame(np.mean(x_samples[-3000:],axis=0, dtype='float32'),\n",
    "                   index=lotus_n_papers.index,\n",
    "                   columns=lotus_n_papers.columns,\n",
    "                   dtype='float32')"
   ]
  },
  {
   "cell_type": "code",
   "execution_count": null,
   "id": "f6aea184-bb02-4f90-ab82-c7c161bfd5ae",
   "metadata": {},
   "outputs": [],
   "source": [
    "pivot_df"
   ]
  },
  {
   "cell_type": "code",
   "execution_count": null,
   "id": "d8014531-97d5-4e96-a6c4-4dc4286767ac",
   "metadata": {},
   "outputs": [],
   "source": [
    "out"
   ]
  },
  {
   "cell_type": "code",
   "execution_count": null,
   "id": "a657a04d-5761-45b6-88d7-cc5f61b2174b",
   "metadata": {},
   "outputs": [],
   "source": [
    "diff = out-pivot_df"
   ]
  },
  {
   "cell_type": "code",
   "execution_count": null,
   "id": "5bb86584-d534-476d-a746-3e98a5b15b8b",
   "metadata": {},
   "outputs": [],
   "source": [
    "diff"
   ]
  },
  {
   "cell_type": "code",
   "execution_count": null,
   "id": "1d831f79-c49e-426a-928d-e1ee5f7b6441",
   "metadata": {},
   "outputs": [],
   "source": [
    "mask = diff > 0.8"
   ]
  },
  {
   "cell_type": "code",
   "execution_count": null,
   "id": "778b74c7-0248-49e5-a17a-289c53addace",
   "metadata": {
    "scrolled": true
   },
   "outputs": [],
   "source": [
    "diff.loc[mask.any(axis=1), mask.any(axis=0)]"
   ]
  },
  {
   "cell_type": "code",
   "execution_count": null,
   "id": "1f756a84-10dc-494a-b22b-0b25c1a097a3",
   "metadata": {
    "scrolled": true
   },
   "outputs": [],
   "source": [
    "out.loc[mask.any(axis=1), mask.any(axis=0)]"
   ]
  },
  {
   "cell_type": "code",
   "execution_count": null,
   "id": "0596a45c-4c95-4f0f-8b13-0c79b70405c1",
   "metadata": {},
   "outputs": [],
   "source": [
    "pivot_df.loc[mask.any(axis=1), mask.any(axis=0)]"
   ]
  },
  {
   "cell_type": "code",
   "execution_count": null,
   "id": "ea42515a-8738-4d56-97cf-a19388bcdc05",
   "metadata": {},
   "outputs": [],
   "source": [
    "lotus = pd.read_csv(\"../data/230106_frozen_metadata.csv.gz\", low_memory=False)"
   ]
  },
  {
   "cell_type": "code",
   "execution_count": null,
   "id": "ede4f720-15c7-4602-b98c-4b9622e48deb",
   "metadata": {},
   "outputs": [],
   "source": [
    "lotus[(lotus.structure_smiles_2D=='CC1(C)CCCC2(C)C3C(=CCC12)COC3O')&(lotus.organism_name=='Dendrodoris carbunculosa')]"
   ]
  }
 ],
 "metadata": {
  "kernelspec": {
   "display_name": "Python 3 (ipykernel)",
   "language": "python",
   "name": "python3"
  },
  "language_info": {
   "codemirror_mode": {
    "name": "ipython",
    "version": 3
   },
   "file_extension": ".py",
   "mimetype": "text/x-python",
   "name": "python",
   "nbconvert_exporter": "python",
   "pygments_lexer": "ipython3",
   "version": "3.11.4"
  }
 },
 "nbformat": 4,
 "nbformat_minor": 5
}
